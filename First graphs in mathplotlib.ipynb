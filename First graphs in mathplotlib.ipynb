{
 "cells": [
  {
   "cell_type": "markdown",
   "metadata": {},
   "source": [
    "# Исследование объявлений о продаже квартир\n",
    "\n",
    "В вашем распоряжении данные сервиса Яндекс.Недвижимость — архив объявлений о продаже квартир в Санкт-Петербурге и соседних населённых пунктов за несколько лет. Нужно научиться определять рыночную стоимость объектов недвижимости. Ваша задача — установить параметры. Это позволит построить автоматизированную систему: она отследит аномалии и мошенническую деятельность. \n",
    "\n",
    "По каждой квартире на продажу доступны два вида данных. Первые вписаны пользователем, вторые — получены автоматически на основе картографических данных. Например, расстояние до центра, аэропорта, ближайшего парка и водоёма. "
   ]
  },
  {
   "cell_type": "markdown",
   "metadata": {},
   "source": [
    "### Откройте файл с данными и изучите общую информацию. "
   ]
  },
  {
   "cell_type": "code",
   "execution_count": 1,
   "metadata": {
    "scrolled": false
   },
   "outputs": [
    {
     "name": "stdout",
     "output_type": "stream",
     "text": [
      "<class 'pandas.core.frame.DataFrame'>\n",
      "RangeIndex: 16715 entries, 0 to 16714\n",
      "Data columns (total 1 columns):\n",
      " #   Column                                                                                                     Non-Null Count  Dtype \n",
      "---  ------                                                                                                     --------------  ----- \n",
      " 0   Name,Platform,Year_of_Release,Genre,NA_sales,EU_sales,JP_sales,Other_sales,Critic_Score,User_Score,Rating  16715 non-null  object\n",
      "dtypes: object(1)\n",
      "memory usage: 130.7+ KB\n"
     ]
    }
   ],
   "source": [
    "import pandas as pd\n",
    "df = pd.read_csv('/datasets/real_estate_data.csv', sep = '\\t')\n",
    "df.info()\n",
    "#Посмотрим общую информацию о типе данных и количесте пропусков"
   ]
  },
  {
   "cell_type": "markdown",
   "metadata": {},
   "source": [
    "<div class=\"alert alert-warning\">\n",
    "<b>⚠️ Комментарий ревьюера v1:</b> \n",
    "<br>Все библиотеки лучше импортировать отдельно в первой ячейке. Это позволит тебе в любой момент добавить ещё одну библиотеку без перезаписи переменных.\n",
    "</div>"
   ]
  },
  {
   "cell_type": "code",
   "execution_count": 2,
   "metadata": {},
   "outputs": [
    {
     "data": {
      "text/html": [
       "<div>\n",
       "<style scoped>\n",
       "    .dataframe tbody tr th:only-of-type {\n",
       "        vertical-align: middle;\n",
       "    }\n",
       "\n",
       "    .dataframe tbody tr th {\n",
       "        vertical-align: top;\n",
       "    }\n",
       "\n",
       "    .dataframe thead th {\n",
       "        text-align: right;\n",
       "    }\n",
       "</style>\n",
       "<table border=\"1\" class=\"dataframe\">\n",
       "  <thead>\n",
       "    <tr style=\"text-align: right;\">\n",
       "      <th></th>\n",
       "      <th>total_images</th>\n",
       "      <th>last_price</th>\n",
       "      <th>total_area</th>\n",
       "      <th>first_day_exposition</th>\n",
       "      <th>rooms</th>\n",
       "      <th>ceiling_height</th>\n",
       "      <th>floors_total</th>\n",
       "      <th>living_area</th>\n",
       "      <th>floor</th>\n",
       "      <th>is_apartment</th>\n",
       "      <th>studio</th>\n",
       "      <th>open_plan</th>\n",
       "      <th>kitchen_area</th>\n",
       "      <th>balcony</th>\n",
       "      <th>locality_name</th>\n",
       "      <th>airports_nearest</th>\n",
       "      <th>cityCenters_nearest</th>\n",
       "      <th>parks_around3000</th>\n",
       "      <th>parks_nearest</th>\n",
       "      <th>ponds_around3000</th>\n",
       "      <th>ponds_nearest</th>\n",
       "      <th>days_exposition</th>\n",
       "    </tr>\n",
       "  </thead>\n",
       "  <tbody>\n",
       "    <tr>\n",
       "      <th>0</th>\n",
       "      <td>20</td>\n",
       "      <td>13000000.0</td>\n",
       "      <td>108.0</td>\n",
       "      <td>2019-03-07T00:00:00</td>\n",
       "      <td>3</td>\n",
       "      <td>2.70</td>\n",
       "      <td>16.0</td>\n",
       "      <td>51.0</td>\n",
       "      <td>8</td>\n",
       "      <td>NaN</td>\n",
       "      <td>False</td>\n",
       "      <td>False</td>\n",
       "      <td>25.0</td>\n",
       "      <td>NaN</td>\n",
       "      <td>Санкт-Петербург</td>\n",
       "      <td>18863.0</td>\n",
       "      <td>16028.0</td>\n",
       "      <td>1.0</td>\n",
       "      <td>482.0</td>\n",
       "      <td>2.0</td>\n",
       "      <td>755.0</td>\n",
       "      <td>NaN</td>\n",
       "    </tr>\n",
       "    <tr>\n",
       "      <th>1</th>\n",
       "      <td>7</td>\n",
       "      <td>3350000.0</td>\n",
       "      <td>40.4</td>\n",
       "      <td>2018-12-04T00:00:00</td>\n",
       "      <td>1</td>\n",
       "      <td>NaN</td>\n",
       "      <td>11.0</td>\n",
       "      <td>18.6</td>\n",
       "      <td>1</td>\n",
       "      <td>NaN</td>\n",
       "      <td>False</td>\n",
       "      <td>False</td>\n",
       "      <td>11.0</td>\n",
       "      <td>2.0</td>\n",
       "      <td>посёлок Шушары</td>\n",
       "      <td>12817.0</td>\n",
       "      <td>18603.0</td>\n",
       "      <td>0.0</td>\n",
       "      <td>NaN</td>\n",
       "      <td>0.0</td>\n",
       "      <td>NaN</td>\n",
       "      <td>81.0</td>\n",
       "    </tr>\n",
       "    <tr>\n",
       "      <th>2</th>\n",
       "      <td>10</td>\n",
       "      <td>5196000.0</td>\n",
       "      <td>56.0</td>\n",
       "      <td>2015-08-20T00:00:00</td>\n",
       "      <td>2</td>\n",
       "      <td>NaN</td>\n",
       "      <td>5.0</td>\n",
       "      <td>34.3</td>\n",
       "      <td>4</td>\n",
       "      <td>NaN</td>\n",
       "      <td>False</td>\n",
       "      <td>False</td>\n",
       "      <td>8.3</td>\n",
       "      <td>0.0</td>\n",
       "      <td>Санкт-Петербург</td>\n",
       "      <td>21741.0</td>\n",
       "      <td>13933.0</td>\n",
       "      <td>1.0</td>\n",
       "      <td>90.0</td>\n",
       "      <td>2.0</td>\n",
       "      <td>574.0</td>\n",
       "      <td>558.0</td>\n",
       "    </tr>\n",
       "    <tr>\n",
       "      <th>3</th>\n",
       "      <td>0</td>\n",
       "      <td>64900000.0</td>\n",
       "      <td>159.0</td>\n",
       "      <td>2015-07-24T00:00:00</td>\n",
       "      <td>3</td>\n",
       "      <td>NaN</td>\n",
       "      <td>14.0</td>\n",
       "      <td>NaN</td>\n",
       "      <td>9</td>\n",
       "      <td>NaN</td>\n",
       "      <td>False</td>\n",
       "      <td>False</td>\n",
       "      <td>NaN</td>\n",
       "      <td>0.0</td>\n",
       "      <td>Санкт-Петербург</td>\n",
       "      <td>28098.0</td>\n",
       "      <td>6800.0</td>\n",
       "      <td>2.0</td>\n",
       "      <td>84.0</td>\n",
       "      <td>3.0</td>\n",
       "      <td>234.0</td>\n",
       "      <td>424.0</td>\n",
       "    </tr>\n",
       "    <tr>\n",
       "      <th>4</th>\n",
       "      <td>2</td>\n",
       "      <td>10000000.0</td>\n",
       "      <td>100.0</td>\n",
       "      <td>2018-06-19T00:00:00</td>\n",
       "      <td>2</td>\n",
       "      <td>3.03</td>\n",
       "      <td>14.0</td>\n",
       "      <td>32.0</td>\n",
       "      <td>13</td>\n",
       "      <td>NaN</td>\n",
       "      <td>False</td>\n",
       "      <td>False</td>\n",
       "      <td>41.0</td>\n",
       "      <td>NaN</td>\n",
       "      <td>Санкт-Петербург</td>\n",
       "      <td>31856.0</td>\n",
       "      <td>8098.0</td>\n",
       "      <td>2.0</td>\n",
       "      <td>112.0</td>\n",
       "      <td>1.0</td>\n",
       "      <td>48.0</td>\n",
       "      <td>121.0</td>\n",
       "    </tr>\n",
       "  </tbody>\n",
       "</table>\n",
       "</div>"
      ],
      "text/plain": [
       "   total_images  last_price  total_area first_day_exposition  rooms  \\\n",
       "0            20  13000000.0       108.0  2019-03-07T00:00:00      3   \n",
       "1             7   3350000.0        40.4  2018-12-04T00:00:00      1   \n",
       "2            10   5196000.0        56.0  2015-08-20T00:00:00      2   \n",
       "3             0  64900000.0       159.0  2015-07-24T00:00:00      3   \n",
       "4             2  10000000.0       100.0  2018-06-19T00:00:00      2   \n",
       "\n",
       "   ceiling_height  floors_total  living_area  floor is_apartment  studio  \\\n",
       "0            2.70          16.0         51.0      8          NaN   False   \n",
       "1             NaN          11.0         18.6      1          NaN   False   \n",
       "2             NaN           5.0         34.3      4          NaN   False   \n",
       "3             NaN          14.0          NaN      9          NaN   False   \n",
       "4            3.03          14.0         32.0     13          NaN   False   \n",
       "\n",
       "   open_plan  kitchen_area  balcony    locality_name  airports_nearest  \\\n",
       "0      False          25.0      NaN  Санкт-Петербург           18863.0   \n",
       "1      False          11.0      2.0   посёлок Шушары           12817.0   \n",
       "2      False           8.3      0.0  Санкт-Петербург           21741.0   \n",
       "3      False           NaN      0.0  Санкт-Петербург           28098.0   \n",
       "4      False          41.0      NaN  Санкт-Петербург           31856.0   \n",
       "\n",
       "   cityCenters_nearest  parks_around3000  parks_nearest  ponds_around3000  \\\n",
       "0              16028.0               1.0          482.0               2.0   \n",
       "1              18603.0               0.0            NaN               0.0   \n",
       "2              13933.0               1.0           90.0               2.0   \n",
       "3               6800.0               2.0           84.0               3.0   \n",
       "4               8098.0               2.0          112.0               1.0   \n",
       "\n",
       "   ponds_nearest  days_exposition  \n",
       "0          755.0              NaN  \n",
       "1            NaN             81.0  \n",
       "2          574.0            558.0  \n",
       "3          234.0            424.0  \n",
       "4           48.0            121.0  "
      ]
     },
     "execution_count": 2,
     "metadata": {},
     "output_type": "execute_result"
    }
   ],
   "source": [
    "pd.set_option('display.max_columns', None)\n",
    "df.head()\n",
    "#Посмотрим первые 5 строк"
   ]
  },
  {
   "cell_type": "markdown",
   "metadata": {},
   "source": [
    " <div class=\"alert alert-warning\">\n",
    "<b>⚠️ Комментарий ревьюера v1:</b> \n",
    "<br>Обрати внимание, что часть столбцов заменилась на \"...\". Чтобы это исправить, нужно увеличить максимальное количество отображающихся столбцов командой\n",
    "\t\t\t\n",
    "\tpd.set_option('display.max_columns', None)\n",
    "</div>"
   ]
  },
  {
   "cell_type": "markdown",
   "metadata": {},
   "source": [
    "<div class=\"alert alert-info\">\n",
    "<b>Комментарий студента:</b>\n",
    "<br>Спасибо большое!\n",
    "</div>"
   ]
  },
  {
   "cell_type": "code",
   "execution_count": 3,
   "metadata": {},
   "outputs": [
    {
     "data": {
      "text/plain": [
       "array([[<AxesSubplot:title={'center':'total_images'}>,\n",
       "        <AxesSubplot:title={'center':'last_price'}>,\n",
       "        <AxesSubplot:title={'center':'total_area'}>,\n",
       "        <AxesSubplot:title={'center':'rooms'}>],\n",
       "       [<AxesSubplot:title={'center':'ceiling_height'}>,\n",
       "        <AxesSubplot:title={'center':'floors_total'}>,\n",
       "        <AxesSubplot:title={'center':'living_area'}>,\n",
       "        <AxesSubplot:title={'center':'floor'}>],\n",
       "       [<AxesSubplot:title={'center':'kitchen_area'}>,\n",
       "        <AxesSubplot:title={'center':'balcony'}>,\n",
       "        <AxesSubplot:title={'center':'airports_nearest'}>,\n",
       "        <AxesSubplot:title={'center':'cityCenters_nearest'}>],\n",
       "       [<AxesSubplot:title={'center':'parks_around3000'}>,\n",
       "        <AxesSubplot:title={'center':'parks_nearest'}>,\n",
       "        <AxesSubplot:title={'center':'ponds_around3000'}>,\n",
       "        <AxesSubplot:title={'center':'ponds_nearest'}>],\n",
       "       [<AxesSubplot:title={'center':'days_exposition'}>, <AxesSubplot:>,\n",
       "        <AxesSubplot:>, <AxesSubplot:>]], dtype=object)"
      ]
     },
     "execution_count": 3,
     "metadata": {},
     "output_type": "execute_result"
    },
    {
     "data": {
      "image/png": "[encoded data removed]",
      "text/plain": [
       "<Figure size 1080x1440 with 20 Axes>"
      ]
     },
     "metadata": {
      "needs_background": "light"
     },
     "output_type": "display_data"
    }
   ],
   "source": [
    "df.hist(grid=True, figsize=(15, 20))\n",
    "#Построим общую гистограмму"
   ]
  },
  {
   "cell_type": "markdown",
   "metadata": {},
   "source": [
    "<div class=\"alert alert-success\">\n",
    "<b>✔️ Комментарий ревьюера v1:</b> \n",
    "<br>Графики построено верно! \n",
    "</div>\n",
    "\t\t\t\t\t\t\t\t\t\t\t\t\t\t\t\n",
    "<div class=\"alert alert-warning\">\n",
    "<b>⚠️ Комментарий ревьюера v1:</b> \n",
    "<br>Если после кода вызывающего график добавить \";\", то мы избавимся от строчки над графиком)\n",
    "\n",
    "\tdata.hist(figsize=(15, 20));\n",
    "</div>"
   ]
  },
  {
   "cell_type": "markdown",
   "metadata": {},
   "source": [
    "<div class=\"alert alert-info\">\n",
    "<b>Комментарий студента:</b>\n",
    "<br>Спасибо, данная возможность очищает тетрадь от ненужных данных!\n",
    "</div>"
   ]
  },
  {
   "cell_type": "markdown",
   "metadata": {},
   "source": [
    "#### Вывод по общей информации"
   ]
  },
  {
   "cell_type": "markdown",
   "metadata": {},
   "source": [
    "Просматривая общие данные можно заметить \"странности\" в данных. \n",
    "1. У столбца first_day_exposition необходимо поменять тип данных на datetime;\n",
    "2. В столбце balcony при отсутсвии балкона есть значения \"О\" и так же \"NaN\", так же следует изменить тип данных на int64;\n",
    "3. В столбце ceiling_height высота потолков большое количество пропусков, значение не может быть нулевым.\n",
    "4. В столбце количество этажей в доме floors_total должно быть int64, т.к. это значение не может быть дробным.\n",
    "5. В столбце living_area общая жилая пощадь заполнены не все значения.\n",
    "6. В столбце floor is_apartment большое количество пропусков, необходимо столбец перевести в тип данных bool, тем самым нулевые значения поменять на False.\n",
    "7. В столбцах 15-21 пропущены значения, так же тип данных необходимо изменить на int64"
   ]
  },
  {
   "cell_type": "markdown",
   "metadata": {},
   "source": [
    "<div class=\"alert alert-success\">\n",
    "<b>✔️ Комментарий ревьюера v1:</b> \n",
    "<br>Всё верно! Если тебе так будет удобнее, то можно создать универсальную функцию, которая будет на вход принимать датафрейм, а на выходе будет выводить все необходимые характеристики поочередно применяя методы head, describe, info, duplicated и т.п.\n",
    "</div>"
   ]
  },
  {
   "cell_type": "markdown",
   "metadata": {},
   "source": [
    "### Предобработка данных"
   ]
  },
  {
   "cell_type": "markdown",
   "metadata": {},
   "source": [
    "#### Поиск пропущенных значений"
   ]
  },
  {
   "cell_type": "code",
   "execution_count": 4,
   "metadata": {
    "scrolled": false
   },
   "outputs": [
    {
     "data": {
      "text/plain": [
       "total_images                0\n",
       "last_price                  0\n",
       "total_area                  0\n",
       "first_day_exposition        0\n",
       "rooms                       0\n",
       "ceiling_height           9195\n",
       "floors_total               86\n",
       "living_area              1903\n",
       "floor                       0\n",
       "is_apartment            20924\n",
       "studio                      0\n",
       "open_plan                   0\n",
       "kitchen_area             2278\n",
       "balcony                 11519\n",
       "locality_name              49\n",
       "airports_nearest         5542\n",
       "cityCenters_nearest      5519\n",
       "parks_around3000         5518\n",
       "parks_nearest           15620\n",
       "ponds_around3000         5518\n",
       "ponds_nearest           14589\n",
       "days_exposition          3181\n",
       "dtype: int64"
      ]
     },
     "execution_count": 4,
     "metadata": {},
     "output_type": "execute_result"
    }
   ],
   "source": [
    "df.isna().sum() \n",
    "#Количество пропусков в каждом столбце"
   ]
  },
  {
   "cell_type": "markdown",
   "metadata": {},
   "source": [
    "#### Замена пропущенных значений и замена типа данных"
   ]
  },
  {
   "cell_type": "code",
   "execution_count": 5,
   "metadata": {},
   "outputs": [
    {
     "name": "stderr",
     "output_type": "stream",
     "text": [
      "/opt/conda/lib/python3.9/site-packages/numpy/lib/nanfunctions.py:1117: RuntimeWarning: Mean of empty slice\n",
      "  return np.nanmean(a, axis, out=out, keepdims=keepdims)\n",
      "/opt/conda/lib/python3.9/site-packages/numpy/lib/nanfunctions.py:1117: RuntimeWarning: Mean of empty slice\n",
      "  return np.nanmean(a, axis, out=out, keepdims=keepdims)\n",
      "/opt/conda/lib/python3.9/site-packages/numpy/lib/nanfunctions.py:1117: RuntimeWarning: Mean of empty slice\n",
      "  return np.nanmean(a, axis, out=out, keepdims=keepdims)\n",
      "/opt/conda/lib/python3.9/site-packages/numpy/lib/nanfunctions.py:1117: RuntimeWarning: Mean of empty slice\n",
      "  return np.nanmean(a, axis, out=out, keepdims=keepdims)\n",
      "/opt/conda/lib/python3.9/site-packages/numpy/lib/nanfunctions.py:1117: RuntimeWarning: Mean of empty slice\n",
      "  return np.nanmean(a, axis, out=out, keepdims=keepdims)\n",
      "/opt/conda/lib/python3.9/site-packages/numpy/lib/nanfunctions.py:1117: RuntimeWarning: Mean of empty slice\n",
      "  return np.nanmean(a, axis, out=out, keepdims=keepdims)\n",
      "/opt/conda/lib/python3.9/site-packages/numpy/lib/nanfunctions.py:1117: RuntimeWarning: Mean of empty slice\n",
      "  return np.nanmean(a, axis, out=out, keepdims=keepdims)\n",
      "/opt/conda/lib/python3.9/site-packages/numpy/lib/nanfunctions.py:1117: RuntimeWarning: Mean of empty slice\n",
      "  return np.nanmean(a, axis, out=out, keepdims=keepdims)\n",
      "/opt/conda/lib/python3.9/site-packages/numpy/lib/nanfunctions.py:1117: RuntimeWarning: Mean of empty slice\n",
      "  return np.nanmean(a, axis, out=out, keepdims=keepdims)\n",
      "/opt/conda/lib/python3.9/site-packages/numpy/lib/nanfunctions.py:1117: RuntimeWarning: Mean of empty slice\n",
      "  return np.nanmean(a, axis, out=out, keepdims=keepdims)\n",
      "/opt/conda/lib/python3.9/site-packages/numpy/lib/nanfunctions.py:1117: RuntimeWarning: Mean of empty slice\n",
      "  return np.nanmean(a, axis, out=out, keepdims=keepdims)\n",
      "/opt/conda/lib/python3.9/site-packages/numpy/lib/nanfunctions.py:1117: RuntimeWarning: Mean of empty slice\n",
      "  return np.nanmean(a, axis, out=out, keepdims=keepdims)\n",
      "/opt/conda/lib/python3.9/site-packages/numpy/lib/nanfunctions.py:1117: RuntimeWarning: Mean of empty slice\n",
      "  return np.nanmean(a, axis, out=out, keepdims=keepdims)\n",
      "/opt/conda/lib/python3.9/site-packages/numpy/lib/nanfunctions.py:1117: RuntimeWarning: Mean of empty slice\n",
      "  return np.nanmean(a, axis, out=out, keepdims=keepdims)\n",
      "/opt/conda/lib/python3.9/site-packages/numpy/lib/nanfunctions.py:1117: RuntimeWarning: Mean of empty slice\n",
      "  return np.nanmean(a, axis, out=out, keepdims=keepdims)\n",
      "/opt/conda/lib/python3.9/site-packages/numpy/lib/nanfunctions.py:1117: RuntimeWarning: Mean of empty slice\n",
      "  return np.nanmean(a, axis, out=out, keepdims=keepdims)\n",
      "/opt/conda/lib/python3.9/site-packages/numpy/lib/nanfunctions.py:1117: RuntimeWarning: Mean of empty slice\n",
      "  return np.nanmean(a, axis, out=out, keepdims=keepdims)\n",
      "/opt/conda/lib/python3.9/site-packages/numpy/lib/nanfunctions.py:1117: RuntimeWarning: Mean of empty slice\n",
      "  return np.nanmean(a, axis, out=out, keepdims=keepdims)\n",
      "/opt/conda/lib/python3.9/site-packages/numpy/lib/nanfunctions.py:1117: RuntimeWarning: Mean of empty slice\n",
      "  return np.nanmean(a, axis, out=out, keepdims=keepdims)\n",
      "/opt/conda/lib/python3.9/site-packages/numpy/lib/nanfunctions.py:1117: RuntimeWarning: Mean of empty slice\n",
      "  return np.nanmean(a, axis, out=out, keepdims=keepdims)\n",
      "/opt/conda/lib/python3.9/site-packages/numpy/lib/nanfunctions.py:1117: RuntimeWarning: Mean of empty slice\n",
      "  return np.nanmean(a, axis, out=out, keepdims=keepdims)\n",
      "/opt/conda/lib/python3.9/site-packages/numpy/lib/nanfunctions.py:1117: RuntimeWarning: Mean of empty slice\n",
      "  return np.nanmean(a, axis, out=out, keepdims=keepdims)\n",
      "/opt/conda/lib/python3.9/site-packages/numpy/lib/nanfunctions.py:1117: RuntimeWarning: Mean of empty slice\n",
      "  return np.nanmean(a, axis, out=out, keepdims=keepdims)\n",
      "/opt/conda/lib/python3.9/site-packages/numpy/lib/nanfunctions.py:1117: RuntimeWarning: Mean of empty slice\n",
      "  return np.nanmean(a, axis, out=out, keepdims=keepdims)\n",
      "/opt/conda/lib/python3.9/site-packages/numpy/lib/nanfunctions.py:1117: RuntimeWarning: Mean of empty slice\n",
      "  return np.nanmean(a, axis, out=out, keepdims=keepdims)\n",
      "/opt/conda/lib/python3.9/site-packages/numpy/lib/nanfunctions.py:1117: RuntimeWarning: Mean of empty slice\n",
      "  return np.nanmean(a, axis, out=out, keepdims=keepdims)\n",
      "/opt/conda/lib/python3.9/site-packages/numpy/lib/nanfunctions.py:1117: RuntimeWarning: Mean of empty slice\n",
      "  return np.nanmean(a, axis, out=out, keepdims=keepdims)\n",
      "/opt/conda/lib/python3.9/site-packages/numpy/lib/nanfunctions.py:1117: RuntimeWarning: Mean of empty slice\n",
      "  return np.nanmean(a, axis, out=out, keepdims=keepdims)\n",
      "/opt/conda/lib/python3.9/site-packages/numpy/lib/nanfunctions.py:1117: RuntimeWarning: Mean of empty slice\n",
      "  return np.nanmean(a, axis, out=out, keepdims=keepdims)\n",
      "/opt/conda/lib/python3.9/site-packages/numpy/lib/nanfunctions.py:1117: RuntimeWarning: Mean of empty slice\n",
      "  return np.nanmean(a, axis, out=out, keepdims=keepdims)\n",
      "/opt/conda/lib/python3.9/site-packages/numpy/lib/nanfunctions.py:1117: RuntimeWarning: Mean of empty slice\n",
      "  return np.nanmean(a, axis, out=out, keepdims=keepdims)\n",
      "/opt/conda/lib/python3.9/site-packages/numpy/lib/nanfunctions.py:1117: RuntimeWarning: Mean of empty slice\n",
      "  return np.nanmean(a, axis, out=out, keepdims=keepdims)\n",
      "/opt/conda/lib/python3.9/site-packages/numpy/lib/nanfunctions.py:1117: RuntimeWarning: Mean of empty slice\n",
      "  return np.nanmean(a, axis, out=out, keepdims=keepdims)\n",
      "/opt/conda/lib/python3.9/site-packages/numpy/lib/nanfunctions.py:1117: RuntimeWarning: Mean of empty slice\n",
      "  return np.nanmean(a, axis, out=out, keepdims=keepdims)\n",
      "/opt/conda/lib/python3.9/site-packages/numpy/lib/nanfunctions.py:1117: RuntimeWarning: Mean of empty slice\n",
      "  return np.nanmean(a, axis, out=out, keepdims=keepdims)\n",
      "/opt/conda/lib/python3.9/site-packages/numpy/lib/nanfunctions.py:1117: RuntimeWarning: Mean of empty slice\n",
      "  return np.nanmean(a, axis, out=out, keepdims=keepdims)\n",
      "/opt/conda/lib/python3.9/site-packages/numpy/lib/nanfunctions.py:1117: RuntimeWarning: Mean of empty slice\n",
      "  return np.nanmean(a, axis, out=out, keepdims=keepdims)\n",
      "/opt/conda/lib/python3.9/site-packages/numpy/lib/nanfunctions.py:1117: RuntimeWarning: Mean of empty slice\n",
      "  return np.nanmean(a, axis, out=out, keepdims=keepdims)\n",
      "/opt/conda/lib/python3.9/site-packages/numpy/lib/nanfunctions.py:1117: RuntimeWarning: Mean of empty slice\n",
      "  return np.nanmean(a, axis, out=out, keepdims=keepdims)\n",
      "/opt/conda/lib/python3.9/site-packages/numpy/lib/nanfunctions.py:1117: RuntimeWarning: Mean of empty slice\n",
      "  return np.nanmean(a, axis, out=out, keepdims=keepdims)\n",
      "/opt/conda/lib/python3.9/site-packages/numpy/lib/nanfunctions.py:1117: RuntimeWarning: Mean of empty slice\n",
      "  return np.nanmean(a, axis, out=out, keepdims=keepdims)\n",
      "/opt/conda/lib/python3.9/site-packages/numpy/lib/nanfunctions.py:1117: RuntimeWarning: Mean of empty slice\n",
      "  return np.nanmean(a, axis, out=out, keepdims=keepdims)\n",
      "/opt/conda/lib/python3.9/site-packages/numpy/lib/nanfunctions.py:1117: RuntimeWarning: Mean of empty slice\n",
      "  return np.nanmean(a, axis, out=out, keepdims=keepdims)\n",
      "/opt/conda/lib/python3.9/site-packages/numpy/lib/nanfunctions.py:1117: RuntimeWarning: Mean of empty slice\n",
      "  return np.nanmean(a, axis, out=out, keepdims=keepdims)\n",
      "/opt/conda/lib/python3.9/site-packages/numpy/lib/nanfunctions.py:1117: RuntimeWarning: Mean of empty slice\n",
      "  return np.nanmean(a, axis, out=out, keepdims=keepdims)\n",
      "/opt/conda/lib/python3.9/site-packages/numpy/lib/nanfunctions.py:1117: RuntimeWarning: Mean of empty slice\n",
      "  return np.nanmean(a, axis, out=out, keepdims=keepdims)\n",
      "/opt/conda/lib/python3.9/site-packages/numpy/lib/nanfunctions.py:1117: RuntimeWarning: Mean of empty slice\n",
      "  return np.nanmean(a, axis, out=out, keepdims=keepdims)\n",
      "/opt/conda/lib/python3.9/site-packages/numpy/lib/nanfunctions.py:1117: RuntimeWarning: Mean of empty slice\n",
      "  return np.nanmean(a, axis, out=out, keepdims=keepdims)\n",
      "/opt/conda/lib/python3.9/site-packages/numpy/lib/nanfunctions.py:1117: RuntimeWarning: Mean of empty slice\n",
      "  return np.nanmean(a, axis, out=out, keepdims=keepdims)\n",
      "/opt/conda/lib/python3.9/site-packages/numpy/lib/nanfunctions.py:1117: RuntimeWarning: Mean of empty slice\n",
      "  return np.nanmean(a, axis, out=out, keepdims=keepdims)\n",
      "/opt/conda/lib/python3.9/site-packages/numpy/lib/nanfunctions.py:1117: RuntimeWarning: Mean of empty slice\n",
      "  return np.nanmean(a, axis, out=out, keepdims=keepdims)\n",
      "/opt/conda/lib/python3.9/site-packages/numpy/lib/nanfunctions.py:1117: RuntimeWarning: Mean of empty slice\n",
      "  return np.nanmean(a, axis, out=out, keepdims=keepdims)\n",
      "/opt/conda/lib/python3.9/site-packages/numpy/lib/nanfunctions.py:1117: RuntimeWarning: Mean of empty slice\n",
      "  return np.nanmean(a, axis, out=out, keepdims=keepdims)\n",
      "/opt/conda/lib/python3.9/site-packages/numpy/lib/nanfunctions.py:1117: RuntimeWarning: Mean of empty slice\n",
      "  return np.nanmean(a, axis, out=out, keepdims=keepdims)\n",
      "/opt/conda/lib/python3.9/site-packages/numpy/lib/nanfunctions.py:1117: RuntimeWarning: Mean of empty slice\n",
      "  return np.nanmean(a, axis, out=out, keepdims=keepdims)\n",
      "/opt/conda/lib/python3.9/site-packages/numpy/lib/nanfunctions.py:1117: RuntimeWarning: Mean of empty slice\n",
      "  return np.nanmean(a, axis, out=out, keepdims=keepdims)\n",
      "/opt/conda/lib/python3.9/site-packages/numpy/lib/nanfunctions.py:1117: RuntimeWarning: Mean of empty slice\n",
      "  return np.nanmean(a, axis, out=out, keepdims=keepdims)\n",
      "/opt/conda/lib/python3.9/site-packages/numpy/lib/nanfunctions.py:1117: RuntimeWarning: Mean of empty slice\n",
      "  return np.nanmean(a, axis, out=out, keepdims=keepdims)\n",
      "/opt/conda/lib/python3.9/site-packages/numpy/lib/nanfunctions.py:1117: RuntimeWarning: Mean of empty slice\n",
      "  return np.nanmean(a, axis, out=out, keepdims=keepdims)\n",
      "/opt/conda/lib/python3.9/site-packages/numpy/lib/nanfunctions.py:1117: RuntimeWarning: Mean of empty slice\n",
      "  return np.nanmean(a, axis, out=out, keepdims=keepdims)\n",
      "/opt/conda/lib/python3.9/site-packages/numpy/lib/nanfunctions.py:1117: RuntimeWarning: Mean of empty slice\n",
      "  return np.nanmean(a, axis, out=out, keepdims=keepdims)\n",
      "/opt/conda/lib/python3.9/site-packages/numpy/lib/nanfunctions.py:1117: RuntimeWarning: Mean of empty slice\n",
      "  return np.nanmean(a, axis, out=out, keepdims=keepdims)\n",
      "/opt/conda/lib/python3.9/site-packages/numpy/lib/nanfunctions.py:1117: RuntimeWarning: Mean of empty slice\n",
      "  return np.nanmean(a, axis, out=out, keepdims=keepdims)\n",
      "/opt/conda/lib/python3.9/site-packages/numpy/lib/nanfunctions.py:1117: RuntimeWarning: Mean of empty slice\n",
      "  return np.nanmean(a, axis, out=out, keepdims=keepdims)\n",
      "/opt/conda/lib/python3.9/site-packages/numpy/lib/nanfunctions.py:1117: RuntimeWarning: Mean of empty slice\n",
      "  return np.nanmean(a, axis, out=out, keepdims=keepdims)\n",
      "/opt/conda/lib/python3.9/site-packages/numpy/lib/nanfunctions.py:1117: RuntimeWarning: Mean of empty slice\n",
      "  return np.nanmean(a, axis, out=out, keepdims=keepdims)\n",
      "/opt/conda/lib/python3.9/site-packages/numpy/lib/nanfunctions.py:1117: RuntimeWarning: Mean of empty slice\n",
      "  return np.nanmean(a, axis, out=out, keepdims=keepdims)\n",
      "/opt/conda/lib/python3.9/site-packages/numpy/lib/nanfunctions.py:1117: RuntimeWarning: Mean of empty slice\n",
      "  return np.nanmean(a, axis, out=out, keepdims=keepdims)\n",
      "/opt/conda/lib/python3.9/site-packages/numpy/lib/nanfunctions.py:1117: RuntimeWarning: Mean of empty slice\n",
      "  return np.nanmean(a, axis, out=out, keepdims=keepdims)\n",
      "/opt/conda/lib/python3.9/site-packages/numpy/lib/nanfunctions.py:1117: RuntimeWarning: Mean of empty slice\n",
      "  return np.nanmean(a, axis, out=out, keepdims=keepdims)\n",
      "/opt/conda/lib/python3.9/site-packages/numpy/lib/nanfunctions.py:1117: RuntimeWarning: Mean of empty slice\n",
      "  return np.nanmean(a, axis, out=out, keepdims=keepdims)\n",
      "/opt/conda/lib/python3.9/site-packages/numpy/lib/nanfunctions.py:1117: RuntimeWarning: Mean of empty slice\n",
      "  return np.nanmean(a, axis, out=out, keepdims=keepdims)\n",
      "/opt/conda/lib/python3.9/site-packages/numpy/lib/nanfunctions.py:1117: RuntimeWarning: Mean of empty slice\n",
      "  return np.nanmean(a, axis, out=out, keepdims=keepdims)\n",
      "/opt/conda/lib/python3.9/site-packages/numpy/lib/nanfunctions.py:1117: RuntimeWarning: Mean of empty slice\n",
      "  return np.nanmean(a, axis, out=out, keepdims=keepdims)\n",
      "/opt/conda/lib/python3.9/site-packages/numpy/lib/nanfunctions.py:1117: RuntimeWarning: Mean of empty slice\n",
      "  return np.nanmean(a, axis, out=out, keepdims=keepdims)\n",
      "/opt/conda/lib/python3.9/site-packages/numpy/lib/nanfunctions.py:1117: RuntimeWarning: Mean of empty slice\n",
      "  return np.nanmean(a, axis, out=out, keepdims=keepdims)\n",
      "/opt/conda/lib/python3.9/site-packages/numpy/lib/nanfunctions.py:1117: RuntimeWarning: Mean of empty slice\n",
      "  return np.nanmean(a, axis, out=out, keepdims=keepdims)\n",
      "/opt/conda/lib/python3.9/site-packages/numpy/lib/nanfunctions.py:1117: RuntimeWarning: Mean of empty slice\n",
      "  return np.nanmean(a, axis, out=out, keepdims=keepdims)\n",
      "/opt/conda/lib/python3.9/site-packages/numpy/lib/nanfunctions.py:1117: RuntimeWarning: Mean of empty slice\n",
      "  return np.nanmean(a, axis, out=out, keepdims=keepdims)\n",
      "/opt/conda/lib/python3.9/site-packages/numpy/lib/nanfunctions.py:1117: RuntimeWarning: Mean of empty slice\n",
      "  return np.nanmean(a, axis, out=out, keepdims=keepdims)\n",
      "/opt/conda/lib/python3.9/site-packages/numpy/lib/nanfunctions.py:1117: RuntimeWarning: Mean of empty slice\n",
      "  return np.nanmean(a, axis, out=out, keepdims=keepdims)\n",
      "/opt/conda/lib/python3.9/site-packages/numpy/lib/nanfunctions.py:1117: RuntimeWarning: Mean of empty slice\n",
      "  return np.nanmean(a, axis, out=out, keepdims=keepdims)\n",
      "/opt/conda/lib/python3.9/site-packages/numpy/lib/nanfunctions.py:1117: RuntimeWarning: Mean of empty slice\n",
      "  return np.nanmean(a, axis, out=out, keepdims=keepdims)\n",
      "/opt/conda/lib/python3.9/site-packages/numpy/lib/nanfunctions.py:1117: RuntimeWarning: Mean of empty slice\n",
      "  return np.nanmean(a, axis, out=out, keepdims=keepdims)\n",
      "/opt/conda/lib/python3.9/site-packages/numpy/lib/nanfunctions.py:1117: RuntimeWarning: Mean of empty slice\n",
      "  return np.nanmean(a, axis, out=out, keepdims=keepdims)\n",
      "/opt/conda/lib/python3.9/site-packages/numpy/lib/nanfunctions.py:1117: RuntimeWarning: Mean of empty slice\n",
      "  return np.nanmean(a, axis, out=out, keepdims=keepdims)\n",
      "/opt/conda/lib/python3.9/site-packages/numpy/lib/nanfunctions.py:1117: RuntimeWarning: Mean of empty slice\n",
      "  return np.nanmean(a, axis, out=out, keepdims=keepdims)\n",
      "/opt/conda/lib/python3.9/site-packages/numpy/lib/nanfunctions.py:1117: RuntimeWarning: Mean of empty slice\n",
      "  return np.nanmean(a, axis, out=out, keepdims=keepdims)\n",
      "/opt/conda/lib/python3.9/site-packages/numpy/lib/nanfunctions.py:1117: RuntimeWarning: Mean of empty slice\n",
      "  return np.nanmean(a, axis, out=out, keepdims=keepdims)\n",
      "/opt/conda/lib/python3.9/site-packages/numpy/lib/nanfunctions.py:1117: RuntimeWarning: Mean of empty slice\n",
      "  return np.nanmean(a, axis, out=out, keepdims=keepdims)\n",
      "/opt/conda/lib/python3.9/site-packages/numpy/lib/nanfunctions.py:1117: RuntimeWarning: Mean of empty slice\n",
      "  return np.nanmean(a, axis, out=out, keepdims=keepdims)\n",
      "/opt/conda/lib/python3.9/site-packages/numpy/lib/nanfunctions.py:1117: RuntimeWarning: Mean of empty slice\n",
      "  return np.nanmean(a, axis, out=out, keepdims=keepdims)\n",
      "/opt/conda/lib/python3.9/site-packages/numpy/lib/nanfunctions.py:1117: RuntimeWarning: Mean of empty slice\n",
      "  return np.nanmean(a, axis, out=out, keepdims=keepdims)\n",
      "/opt/conda/lib/python3.9/site-packages/numpy/lib/nanfunctions.py:1117: RuntimeWarning: Mean of empty slice\n",
      "  return np.nanmean(a, axis, out=out, keepdims=keepdims)\n",
      "/opt/conda/lib/python3.9/site-packages/numpy/lib/nanfunctions.py:1117: RuntimeWarning: Mean of empty slice\n",
      "  return np.nanmean(a, axis, out=out, keepdims=keepdims)\n",
      "/opt/conda/lib/python3.9/site-packages/numpy/lib/nanfunctions.py:1117: RuntimeWarning: Mean of empty slice\n",
      "  return np.nanmean(a, axis, out=out, keepdims=keepdims)\n",
      "/opt/conda/lib/python3.9/site-packages/numpy/lib/nanfunctions.py:1117: RuntimeWarning: Mean of empty slice\n",
      "  return np.nanmean(a, axis, out=out, keepdims=keepdims)\n",
      "/opt/conda/lib/python3.9/site-packages/numpy/lib/nanfunctions.py:1117: RuntimeWarning: Mean of empty slice\n",
      "  return np.nanmean(a, axis, out=out, keepdims=keepdims)\n",
      "/opt/conda/lib/python3.9/site-packages/numpy/lib/nanfunctions.py:1117: RuntimeWarning: Mean of empty slice\n",
      "  return np.nanmean(a, axis, out=out, keepdims=keepdims)\n",
      "/opt/conda/lib/python3.9/site-packages/numpy/lib/nanfunctions.py:1117: RuntimeWarning: Mean of empty slice\n",
      "  return np.nanmean(a, axis, out=out, keepdims=keepdims)\n",
      "/opt/conda/lib/python3.9/site-packages/numpy/lib/nanfunctions.py:1117: RuntimeWarning: Mean of empty slice\n",
      "  return np.nanmean(a, axis, out=out, keepdims=keepdims)\n",
      "/opt/conda/lib/python3.9/site-packages/numpy/lib/nanfunctions.py:1117: RuntimeWarning: Mean of empty slice\n",
      "  return np.nanmean(a, axis, out=out, keepdims=keepdims)\n",
      "/opt/conda/lib/python3.9/site-packages/numpy/lib/nanfunctions.py:1117: RuntimeWarning: Mean of empty slice\n",
      "  return np.nanmean(a, axis, out=out, keepdims=keepdims)\n",
      "/opt/conda/lib/python3.9/site-packages/numpy/lib/nanfunctions.py:1117: RuntimeWarning: Mean of empty slice\n",
      "  return np.nanmean(a, axis, out=out, keepdims=keepdims)\n",
      "/opt/conda/lib/python3.9/site-packages/numpy/lib/nanfunctions.py:1117: RuntimeWarning: Mean of empty slice\n",
      "  return np.nanmean(a, axis, out=out, keepdims=keepdims)\n",
      "/opt/conda/lib/python3.9/site-packages/numpy/lib/nanfunctions.py:1117: RuntimeWarning: Mean of empty slice\n",
      "  return np.nanmean(a, axis, out=out, keepdims=keepdims)\n",
      "/opt/conda/lib/python3.9/site-packages/numpy/lib/nanfunctions.py:1117: RuntimeWarning: Mean of empty slice\n",
      "  return np.nanmean(a, axis, out=out, keepdims=keepdims)\n",
      "/opt/conda/lib/python3.9/site-packages/numpy/lib/nanfunctions.py:1117: RuntimeWarning: Mean of empty slice\n",
      "  return np.nanmean(a, axis, out=out, keepdims=keepdims)\n",
      "/opt/conda/lib/python3.9/site-packages/numpy/lib/nanfunctions.py:1117: RuntimeWarning: Mean of empty slice\n",
      "  return np.nanmean(a, axis, out=out, keepdims=keepdims)\n",
      "/opt/conda/lib/python3.9/site-packages/numpy/lib/nanfunctions.py:1117: RuntimeWarning: Mean of empty slice\n",
      "  return np.nanmean(a, axis, out=out, keepdims=keepdims)\n",
      "/opt/conda/lib/python3.9/site-packages/numpy/lib/nanfunctions.py:1117: RuntimeWarning: Mean of empty slice\n",
      "  return np.nanmean(a, axis, out=out, keepdims=keepdims)\n",
      "/opt/conda/lib/python3.9/site-packages/numpy/lib/nanfunctions.py:1117: RuntimeWarning: Mean of empty slice\n",
      "  return np.nanmean(a, axis, out=out, keepdims=keepdims)\n",
      "/opt/conda/lib/python3.9/site-packages/numpy/lib/nanfunctions.py:1117: RuntimeWarning: Mean of empty slice\n",
      "  return np.nanmean(a, axis, out=out, keepdims=keepdims)\n",
      "/opt/conda/lib/python3.9/site-packages/numpy/lib/nanfunctions.py:1117: RuntimeWarning: Mean of empty slice\n",
      "  return np.nanmean(a, axis, out=out, keepdims=keepdims)\n",
      "/opt/conda/lib/python3.9/site-packages/numpy/lib/nanfunctions.py:1117: RuntimeWarning: Mean of empty slice\n",
      "  return np.nanmean(a, axis, out=out, keepdims=keepdims)\n",
      "/opt/conda/lib/python3.9/site-packages/numpy/lib/nanfunctions.py:1117: RuntimeWarning: Mean of empty slice\n",
      "  return np.nanmean(a, axis, out=out, keepdims=keepdims)\n",
      "/opt/conda/lib/python3.9/site-packages/numpy/lib/nanfunctions.py:1117: RuntimeWarning: Mean of empty slice\n",
      "  return np.nanmean(a, axis, out=out, keepdims=keepdims)\n",
      "/opt/conda/lib/python3.9/site-packages/numpy/lib/nanfunctions.py:1117: RuntimeWarning: Mean of empty slice\n",
      "  return np.nanmean(a, axis, out=out, keepdims=keepdims)\n",
      "/opt/conda/lib/python3.9/site-packages/numpy/lib/nanfunctions.py:1117: RuntimeWarning: Mean of empty slice\n",
      "  return np.nanmean(a, axis, out=out, keepdims=keepdims)\n",
      "/opt/conda/lib/python3.9/site-packages/numpy/lib/nanfunctions.py:1117: RuntimeWarning: Mean of empty slice\n",
      "  return np.nanmean(a, axis, out=out, keepdims=keepdims)\n",
      "/opt/conda/lib/python3.9/site-packages/numpy/lib/nanfunctions.py:1117: RuntimeWarning: Mean of empty slice\n",
      "  return np.nanmean(a, axis, out=out, keepdims=keepdims)\n",
      "/opt/conda/lib/python3.9/site-packages/numpy/lib/nanfunctions.py:1117: RuntimeWarning: Mean of empty slice\n",
      "  return np.nanmean(a, axis, out=out, keepdims=keepdims)\n",
      "/opt/conda/lib/python3.9/site-packages/numpy/lib/nanfunctions.py:1117: RuntimeWarning: Mean of empty slice\n",
      "  return np.nanmean(a, axis, out=out, keepdims=keepdims)\n",
      "/opt/conda/lib/python3.9/site-packages/numpy/lib/nanfunctions.py:1117: RuntimeWarning: Mean of empty slice\n",
      "  return np.nanmean(a, axis, out=out, keepdims=keepdims)\n",
      "/opt/conda/lib/python3.9/site-packages/numpy/lib/nanfunctions.py:1117: RuntimeWarning: Mean of empty slice\n",
      "  return np.nanmean(a, axis, out=out, keepdims=keepdims)\n",
      "/opt/conda/lib/python3.9/site-packages/numpy/lib/nanfunctions.py:1117: RuntimeWarning: Mean of empty slice\n",
      "  return np.nanmean(a, axis, out=out, keepdims=keepdims)\n",
      "/opt/conda/lib/python3.9/site-packages/numpy/lib/nanfunctions.py:1117: RuntimeWarning: Mean of empty slice\n",
      "  return np.nanmean(a, axis, out=out, keepdims=keepdims)\n",
      "/opt/conda/lib/python3.9/site-packages/numpy/lib/nanfunctions.py:1117: RuntimeWarning: Mean of empty slice\n",
      "  return np.nanmean(a, axis, out=out, keepdims=keepdims)\n",
      "/opt/conda/lib/python3.9/site-packages/numpy/lib/nanfunctions.py:1117: RuntimeWarning: Mean of empty slice\n",
      "  return np.nanmean(a, axis, out=out, keepdims=keepdims)\n",
      "/opt/conda/lib/python3.9/site-packages/numpy/lib/nanfunctions.py:1117: RuntimeWarning: Mean of empty slice\n",
      "  return np.nanmean(a, axis, out=out, keepdims=keepdims)\n",
      "/opt/conda/lib/python3.9/site-packages/numpy/lib/nanfunctions.py:1117: RuntimeWarning: Mean of empty slice\n",
      "  return np.nanmean(a, axis, out=out, keepdims=keepdims)\n",
      "/opt/conda/lib/python3.9/site-packages/numpy/lib/nanfunctions.py:1117: RuntimeWarning: Mean of empty slice\n",
      "  return np.nanmean(a, axis, out=out, keepdims=keepdims)\n",
      "/opt/conda/lib/python3.9/site-packages/numpy/lib/nanfunctions.py:1117: RuntimeWarning: Mean of empty slice\n",
      "  return np.nanmean(a, axis, out=out, keepdims=keepdims)\n",
      "/opt/conda/lib/python3.9/site-packages/numpy/lib/nanfunctions.py:1117: RuntimeWarning: Mean of empty slice\n",
      "  return np.nanmean(a, axis, out=out, keepdims=keepdims)\n",
      "/opt/conda/lib/python3.9/site-packages/numpy/lib/nanfunctions.py:1117: RuntimeWarning: Mean of empty slice\n",
      "  return np.nanmean(a, axis, out=out, keepdims=keepdims)\n",
      "/opt/conda/lib/python3.9/site-packages/numpy/lib/nanfunctions.py:1117: RuntimeWarning: Mean of empty slice\n",
      "  return np.nanmean(a, axis, out=out, keepdims=keepdims)\n",
      "/opt/conda/lib/python3.9/site-packages/numpy/lib/nanfunctions.py:1117: RuntimeWarning: Mean of empty slice\n",
      "  return np.nanmean(a, axis, out=out, keepdims=keepdims)\n",
      "/opt/conda/lib/python3.9/site-packages/numpy/lib/nanfunctions.py:1117: RuntimeWarning: Mean of empty slice\n",
      "  return np.nanmean(a, axis, out=out, keepdims=keepdims)\n",
      "/opt/conda/lib/python3.9/site-packages/numpy/lib/nanfunctions.py:1117: RuntimeWarning: Mean of empty slice\n",
      "  return np.nanmean(a, axis, out=out, keepdims=keepdims)\n",
      "/opt/conda/lib/python3.9/site-packages/numpy/lib/nanfunctions.py:1117: RuntimeWarning: Mean of empty slice\n",
      "  return np.nanmean(a, axis, out=out, keepdims=keepdims)\n",
      "/opt/conda/lib/python3.9/site-packages/numpy/lib/nanfunctions.py:1117: RuntimeWarning: Mean of empty slice\n",
      "  return np.nanmean(a, axis, out=out, keepdims=keepdims)\n",
      "/opt/conda/lib/python3.9/site-packages/numpy/lib/nanfunctions.py:1117: RuntimeWarning: Mean of empty slice\n",
      "  return np.nanmean(a, axis, out=out, keepdims=keepdims)\n",
      "/opt/conda/lib/python3.9/site-packages/numpy/lib/nanfunctions.py:1117: RuntimeWarning: Mean of empty slice\n",
      "  return np.nanmean(a, axis, out=out, keepdims=keepdims)\n",
      "/opt/conda/lib/python3.9/site-packages/numpy/lib/nanfunctions.py:1117: RuntimeWarning: Mean of empty slice\n",
      "  return np.nanmean(a, axis, out=out, keepdims=keepdims)\n",
      "/opt/conda/lib/python3.9/site-packages/numpy/lib/nanfunctions.py:1117: RuntimeWarning: Mean of empty slice\n",
      "  return np.nanmean(a, axis, out=out, keepdims=keepdims)\n",
      "/opt/conda/lib/python3.9/site-packages/numpy/lib/nanfunctions.py:1117: RuntimeWarning: Mean of empty slice\n",
      "  return np.nanmean(a, axis, out=out, keepdims=keepdims)\n",
      "/opt/conda/lib/python3.9/site-packages/numpy/lib/nanfunctions.py:1117: RuntimeWarning: Mean of empty slice\n",
      "  return np.nanmean(a, axis, out=out, keepdims=keepdims)\n",
      "/opt/conda/lib/python3.9/site-packages/numpy/lib/nanfunctions.py:1117: RuntimeWarning: Mean of empty slice\n",
      "  return np.nanmean(a, axis, out=out, keepdims=keepdims)\n",
      "/opt/conda/lib/python3.9/site-packages/numpy/lib/nanfunctions.py:1117: RuntimeWarning: Mean of empty slice\n",
      "  return np.nanmean(a, axis, out=out, keepdims=keepdims)\n",
      "/opt/conda/lib/python3.9/site-packages/numpy/lib/nanfunctions.py:1117: RuntimeWarning: Mean of empty slice\n",
      "  return np.nanmean(a, axis, out=out, keepdims=keepdims)\n",
      "/opt/conda/lib/python3.9/site-packages/numpy/lib/nanfunctions.py:1117: RuntimeWarning: Mean of empty slice\n",
      "  return np.nanmean(a, axis, out=out, keepdims=keepdims)\n",
      "/opt/conda/lib/python3.9/site-packages/numpy/lib/nanfunctions.py:1117: RuntimeWarning: Mean of empty slice\n",
      "  return np.nanmean(a, axis, out=out, keepdims=keepdims)\n",
      "/opt/conda/lib/python3.9/site-packages/numpy/lib/nanfunctions.py:1117: RuntimeWarning: Mean of empty slice\n",
      "  return np.nanmean(a, axis, out=out, keepdims=keepdims)\n",
      "/opt/conda/lib/python3.9/site-packages/numpy/lib/nanfunctions.py:1117: RuntimeWarning: Mean of empty slice\n",
      "  return np.nanmean(a, axis, out=out, keepdims=keepdims)\n",
      "/opt/conda/lib/python3.9/site-packages/numpy/lib/nanfunctions.py:1117: RuntimeWarning: Mean of empty slice\n",
      "  return np.nanmean(a, axis, out=out, keepdims=keepdims)\n",
      "/opt/conda/lib/python3.9/site-packages/numpy/lib/nanfunctions.py:1117: RuntimeWarning: Mean of empty slice\n",
      "  return np.nanmean(a, axis, out=out, keepdims=keepdims)\n",
      "/opt/conda/lib/python3.9/site-packages/numpy/lib/nanfunctions.py:1117: RuntimeWarning: Mean of empty slice\n",
      "  return np.nanmean(a, axis, out=out, keepdims=keepdims)\n",
      "/opt/conda/lib/python3.9/site-packages/numpy/lib/nanfunctions.py:1117: RuntimeWarning: Mean of empty slice\n",
      "  return np.nanmean(a, axis, out=out, keepdims=keepdims)\n",
      "/opt/conda/lib/python3.9/site-packages/numpy/lib/nanfunctions.py:1117: RuntimeWarning: Mean of empty slice\n",
      "  return np.nanmean(a, axis, out=out, keepdims=keepdims)\n",
      "/opt/conda/lib/python3.9/site-packages/numpy/lib/nanfunctions.py:1117: RuntimeWarning: Mean of empty slice\n",
      "  return np.nanmean(a, axis, out=out, keepdims=keepdims)\n",
      "/opt/conda/lib/python3.9/site-packages/numpy/lib/nanfunctions.py:1117: RuntimeWarning: Mean of empty slice\n",
      "  return np.nanmean(a, axis, out=out, keepdims=keepdims)\n",
      "/opt/conda/lib/python3.9/site-packages/numpy/lib/nanfunctions.py:1117: RuntimeWarning: Mean of empty slice\n",
      "  return np.nanmean(a, axis, out=out, keepdims=keepdims)\n",
      "/opt/conda/lib/python3.9/site-packages/numpy/lib/nanfunctions.py:1117: RuntimeWarning: Mean of empty slice\n",
      "  return np.nanmean(a, axis, out=out, keepdims=keepdims)\n",
      "/opt/conda/lib/python3.9/site-packages/numpy/lib/nanfunctions.py:1117: RuntimeWarning: Mean of empty slice\n",
      "  return np.nanmean(a, axis, out=out, keepdims=keepdims)\n",
      "/opt/conda/lib/python3.9/site-packages/numpy/lib/nanfunctions.py:1117: RuntimeWarning: Mean of empty slice\n",
      "  return np.nanmean(a, axis, out=out, keepdims=keepdims)\n",
      "/opt/conda/lib/python3.9/site-packages/numpy/lib/nanfunctions.py:1117: RuntimeWarning: Mean of empty slice\n",
      "  return np.nanmean(a, axis, out=out, keepdims=keepdims)\n",
      "/opt/conda/lib/python3.9/site-packages/numpy/lib/nanfunctions.py:1117: RuntimeWarning: Mean of empty slice\n",
      "  return np.nanmean(a, axis, out=out, keepdims=keepdims)\n",
      "/opt/conda/lib/python3.9/site-packages/numpy/lib/nanfunctions.py:1117: RuntimeWarning: Mean of empty slice\n",
      "  return np.nanmean(a, axis, out=out, keepdims=keepdims)\n",
      "/opt/conda/lib/python3.9/site-packages/numpy/lib/nanfunctions.py:1117: RuntimeWarning: Mean of empty slice\n",
      "  return np.nanmean(a, axis, out=out, keepdims=keepdims)\n",
      "/opt/conda/lib/python3.9/site-packages/numpy/lib/nanfunctions.py:1117: RuntimeWarning: Mean of empty slice\n",
      "  return np.nanmean(a, axis, out=out, keepdims=keepdims)\n",
      "/opt/conda/lib/python3.9/site-packages/numpy/lib/nanfunctions.py:1117: RuntimeWarning: Mean of empty slice\n",
      "  return np.nanmean(a, axis, out=out, keepdims=keepdims)\n",
      "/opt/conda/lib/python3.9/site-packages/numpy/lib/nanfunctions.py:1117: RuntimeWarning: Mean of empty slice\n",
      "  return np.nanmean(a, axis, out=out, keepdims=keepdims)\n",
      "/opt/conda/lib/python3.9/site-packages/numpy/lib/nanfunctions.py:1117: RuntimeWarning: Mean of empty slice\n",
      "  return np.nanmean(a, axis, out=out, keepdims=keepdims)\n",
      "/opt/conda/lib/python3.9/site-packages/numpy/lib/nanfunctions.py:1117: RuntimeWarning: Mean of empty slice\n",
      "  return np.nanmean(a, axis, out=out, keepdims=keepdims)\n",
      "/opt/conda/lib/python3.9/site-packages/numpy/lib/nanfunctions.py:1117: RuntimeWarning: Mean of empty slice\n",
      "  return np.nanmean(a, axis, out=out, keepdims=keepdims)\n",
      "/opt/conda/lib/python3.9/site-packages/numpy/lib/nanfunctions.py:1117: RuntimeWarning: Mean of empty slice\n",
      "  return np.nanmean(a, axis, out=out, keepdims=keepdims)\n",
      "/opt/conda/lib/python3.9/site-packages/numpy/lib/nanfunctions.py:1117: RuntimeWarning: Mean of empty slice\n",
      "  return np.nanmean(a, axis, out=out, keepdims=keepdims)\n",
      "/opt/conda/lib/python3.9/site-packages/numpy/lib/nanfunctions.py:1117: RuntimeWarning: Mean of empty slice\n",
      "  return np.nanmean(a, axis, out=out, keepdims=keepdims)\n",
      "/opt/conda/lib/python3.9/site-packages/numpy/lib/nanfunctions.py:1117: RuntimeWarning: Mean of empty slice\n",
      "  return np.nanmean(a, axis, out=out, keepdims=keepdims)\n",
      "/opt/conda/lib/python3.9/site-packages/numpy/lib/nanfunctions.py:1117: RuntimeWarning: Mean of empty slice\n",
      "  return np.nanmean(a, axis, out=out, keepdims=keepdims)\n",
      "/opt/conda/lib/python3.9/site-packages/numpy/lib/nanfunctions.py:1117: RuntimeWarning: Mean of empty slice\n",
      "  return np.nanmean(a, axis, out=out, keepdims=keepdims)\n",
      "/opt/conda/lib/python3.9/site-packages/numpy/lib/nanfunctions.py:1117: RuntimeWarning: Mean of empty slice\n",
      "  return np.nanmean(a, axis, out=out, keepdims=keepdims)\n",
      "/opt/conda/lib/python3.9/site-packages/numpy/lib/nanfunctions.py:1117: RuntimeWarning: Mean of empty slice\n",
      "  return np.nanmean(a, axis, out=out, keepdims=keepdims)\n",
      "/opt/conda/lib/python3.9/site-packages/numpy/lib/nanfunctions.py:1117: RuntimeWarning: Mean of empty slice\n",
      "  return np.nanmean(a, axis, out=out, keepdims=keepdims)\n",
      "/opt/conda/lib/python3.9/site-packages/numpy/lib/nanfunctions.py:1117: RuntimeWarning: Mean of empty slice\n",
      "  return np.nanmean(a, axis, out=out, keepdims=keepdims)\n",
      "/opt/conda/lib/python3.9/site-packages/numpy/lib/nanfunctions.py:1117: RuntimeWarning: Mean of empty slice\n",
      "  return np.nanmean(a, axis, out=out, keepdims=keepdims)\n",
      "/opt/conda/lib/python3.9/site-packages/numpy/lib/nanfunctions.py:1117: RuntimeWarning: Mean of empty slice\n",
      "  return np.nanmean(a, axis, out=out, keepdims=keepdims)\n",
      "/opt/conda/lib/python3.9/site-packages/numpy/lib/nanfunctions.py:1117: RuntimeWarning: Mean of empty slice\n",
      "  return np.nanmean(a, axis, out=out, keepdims=keepdims)\n",
      "/opt/conda/lib/python3.9/site-packages/numpy/lib/nanfunctions.py:1117: RuntimeWarning: Mean of empty slice\n",
      "  return np.nanmean(a, axis, out=out, keepdims=keepdims)\n",
      "/opt/conda/lib/python3.9/site-packages/numpy/lib/nanfunctions.py:1117: RuntimeWarning: Mean of empty slice\n",
      "  return np.nanmean(a, axis, out=out, keepdims=keepdims)\n",
      "/opt/conda/lib/python3.9/site-packages/numpy/lib/nanfunctions.py:1117: RuntimeWarning: Mean of empty slice\n",
      "  return np.nanmean(a, axis, out=out, keepdims=keepdims)\n",
      "/opt/conda/lib/python3.9/site-packages/numpy/lib/nanfunctions.py:1117: RuntimeWarning: Mean of empty slice\n",
      "  return np.nanmean(a, axis, out=out, keepdims=keepdims)\n",
      "/opt/conda/lib/python3.9/site-packages/numpy/lib/nanfunctions.py:1117: RuntimeWarning: Mean of empty slice\n",
      "  return np.nanmean(a, axis, out=out, keepdims=keepdims)\n",
      "/opt/conda/lib/python3.9/site-packages/numpy/lib/nanfunctions.py:1117: RuntimeWarning: Mean of empty slice\n",
      "  return np.nanmean(a, axis, out=out, keepdims=keepdims)\n",
      "/opt/conda/lib/python3.9/site-packages/numpy/lib/nanfunctions.py:1117: RuntimeWarning: Mean of empty slice\n",
      "  return np.nanmean(a, axis, out=out, keepdims=keepdims)\n",
      "/opt/conda/lib/python3.9/site-packages/numpy/lib/nanfunctions.py:1117: RuntimeWarning: Mean of empty slice\n",
      "  return np.nanmean(a, axis, out=out, keepdims=keepdims)\n",
      "/opt/conda/lib/python3.9/site-packages/numpy/lib/nanfunctions.py:1117: RuntimeWarning: Mean of empty slice\n",
      "  return np.nanmean(a, axis, out=out, keepdims=keepdims)\n",
      "/opt/conda/lib/python3.9/site-packages/numpy/lib/nanfunctions.py:1117: RuntimeWarning: Mean of empty slice\n",
      "  return np.nanmean(a, axis, out=out, keepdims=keepdims)\n",
      "/opt/conda/lib/python3.9/site-packages/numpy/lib/nanfunctions.py:1117: RuntimeWarning: Mean of empty slice\n",
      "  return np.nanmean(a, axis, out=out, keepdims=keepdims)\n",
      "/opt/conda/lib/python3.9/site-packages/numpy/lib/nanfunctions.py:1117: RuntimeWarning: Mean of empty slice\n",
      "  return np.nanmean(a, axis, out=out, keepdims=keepdims)\n",
      "/opt/conda/lib/python3.9/site-packages/numpy/lib/nanfunctions.py:1117: RuntimeWarning: Mean of empty slice\n",
      "  return np.nanmean(a, axis, out=out, keepdims=keepdims)\n",
      "/opt/conda/lib/python3.9/site-packages/numpy/lib/nanfunctions.py:1117: RuntimeWarning: Mean of empty slice\n",
      "  return np.nanmean(a, axis, out=out, keepdims=keepdims)\n",
      "/opt/conda/lib/python3.9/site-packages/numpy/lib/nanfunctions.py:1117: RuntimeWarning: Mean of empty slice\n",
      "  return np.nanmean(a, axis, out=out, keepdims=keepdims)\n",
      "/opt/conda/lib/python3.9/site-packages/numpy/lib/nanfunctions.py:1117: RuntimeWarning: Mean of empty slice\n",
      "  return np.nanmean(a, axis, out=out, keepdims=keepdims)\n",
      "/opt/conda/lib/python3.9/site-packages/numpy/lib/nanfunctions.py:1117: RuntimeWarning: Mean of empty slice\n",
      "  return np.nanmean(a, axis, out=out, keepdims=keepdims)\n",
      "/opt/conda/lib/python3.9/site-packages/numpy/lib/nanfunctions.py:1117: RuntimeWarning: Mean of empty slice\n",
      "  return np.nanmean(a, axis, out=out, keepdims=keepdims)\n",
      "/opt/conda/lib/python3.9/site-packages/numpy/lib/nanfunctions.py:1117: RuntimeWarning: Mean of empty slice\n",
      "  return np.nanmean(a, axis, out=out, keepdims=keepdims)\n",
      "/opt/conda/lib/python3.9/site-packages/numpy/lib/nanfunctions.py:1117: RuntimeWarning: Mean of empty slice\n",
      "  return np.nanmean(a, axis, out=out, keepdims=keepdims)\n",
      "/opt/conda/lib/python3.9/site-packages/numpy/lib/nanfunctions.py:1117: RuntimeWarning: Mean of empty slice\n",
      "  return np.nanmean(a, axis, out=out, keepdims=keepdims)\n",
      "/opt/conda/lib/python3.9/site-packages/numpy/lib/nanfunctions.py:1117: RuntimeWarning: Mean of empty slice\n",
      "  return np.nanmean(a, axis, out=out, keepdims=keepdims)\n",
      "/opt/conda/lib/python3.9/site-packages/numpy/lib/nanfunctions.py:1117: RuntimeWarning: Mean of empty slice\n",
      "  return np.nanmean(a, axis, out=out, keepdims=keepdims)\n",
      "/opt/conda/lib/python3.9/site-packages/numpy/lib/nanfunctions.py:1117: RuntimeWarning: Mean of empty slice\n",
      "  return np.nanmean(a, axis, out=out, keepdims=keepdims)\n",
      "/opt/conda/lib/python3.9/site-packages/numpy/lib/nanfunctions.py:1117: RuntimeWarning: Mean of empty slice\n",
      "  return np.nanmean(a, axis, out=out, keepdims=keepdims)\n",
      "/opt/conda/lib/python3.9/site-packages/numpy/lib/nanfunctions.py:1117: RuntimeWarning: Mean of empty slice\n",
      "  return np.nanmean(a, axis, out=out, keepdims=keepdims)\n",
      "/opt/conda/lib/python3.9/site-packages/numpy/lib/nanfunctions.py:1117: RuntimeWarning: Mean of empty slice\n",
      "  return np.nanmean(a, axis, out=out, keepdims=keepdims)\n",
      "/opt/conda/lib/python3.9/site-packages/numpy/lib/nanfunctions.py:1117: RuntimeWarning: Mean of empty slice\n",
      "  return np.nanmean(a, axis, out=out, keepdims=keepdims)\n",
      "/opt/conda/lib/python3.9/site-packages/numpy/lib/nanfunctions.py:1117: RuntimeWarning: Mean of empty slice\n",
      "  return np.nanmean(a, axis, out=out, keepdims=keepdims)\n",
      "/opt/conda/lib/python3.9/site-packages/numpy/lib/nanfunctions.py:1117: RuntimeWarning: Mean of empty slice\n",
      "  return np.nanmean(a, axis, out=out, keepdims=keepdims)\n",
      "/opt/conda/lib/python3.9/site-packages/numpy/lib/nanfunctions.py:1117: RuntimeWarning: Mean of empty slice\n",
      "  return np.nanmean(a, axis, out=out, keepdims=keepdims)\n",
      "/opt/conda/lib/python3.9/site-packages/numpy/lib/nanfunctions.py:1117: RuntimeWarning: Mean of empty slice\n",
      "  return np.nanmean(a, axis, out=out, keepdims=keepdims)\n",
      "/opt/conda/lib/python3.9/site-packages/numpy/lib/nanfunctions.py:1117: RuntimeWarning: Mean of empty slice\n",
      "  return np.nanmean(a, axis, out=out, keepdims=keepdims)\n",
      "/opt/conda/lib/python3.9/site-packages/numpy/lib/nanfunctions.py:1117: RuntimeWarning: Mean of empty slice\n",
      "  return np.nanmean(a, axis, out=out, keepdims=keepdims)\n",
      "/opt/conda/lib/python3.9/site-packages/numpy/lib/nanfunctions.py:1117: RuntimeWarning: Mean of empty slice\n",
      "  return np.nanmean(a, axis, out=out, keepdims=keepdims)\n",
      "/opt/conda/lib/python3.9/site-packages/numpy/lib/nanfunctions.py:1117: RuntimeWarning: Mean of empty slice\n",
      "  return np.nanmean(a, axis, out=out, keepdims=keepdims)\n",
      "/opt/conda/lib/python3.9/site-packages/numpy/lib/nanfunctions.py:1117: RuntimeWarning: Mean of empty slice\n",
      "  return np.nanmean(a, axis, out=out, keepdims=keepdims)\n",
      "/opt/conda/lib/python3.9/site-packages/numpy/lib/nanfunctions.py:1117: RuntimeWarning: Mean of empty slice\n",
      "  return np.nanmean(a, axis, out=out, keepdims=keepdims)\n",
      "/opt/conda/lib/python3.9/site-packages/numpy/lib/nanfunctions.py:1117: RuntimeWarning: Mean of empty slice\n",
      "  return np.nanmean(a, axis, out=out, keepdims=keepdims)\n",
      "/opt/conda/lib/python3.9/site-packages/numpy/lib/nanfunctions.py:1117: RuntimeWarning: Mean of empty slice\n",
      "  return np.nanmean(a, axis, out=out, keepdims=keepdims)\n",
      "/opt/conda/lib/python3.9/site-packages/numpy/lib/nanfunctions.py:1117: RuntimeWarning: Mean of empty slice\n",
      "  return np.nanmean(a, axis, out=out, keepdims=keepdims)\n",
      "/opt/conda/lib/python3.9/site-packages/numpy/lib/nanfunctions.py:1117: RuntimeWarning: Mean of empty slice\n",
      "  return np.nanmean(a, axis, out=out, keepdims=keepdims)\n",
      "/opt/conda/lib/python3.9/site-packages/numpy/lib/nanfunctions.py:1117: RuntimeWarning: Mean of empty slice\n",
      "  return np.nanmean(a, axis, out=out, keepdims=keepdims)\n",
      "/opt/conda/lib/python3.9/site-packages/numpy/lib/nanfunctions.py:1117: RuntimeWarning: Mean of empty slice\n",
      "  return np.nanmean(a, axis, out=out, keepdims=keepdims)\n",
      "/opt/conda/lib/python3.9/site-packages/numpy/lib/nanfunctions.py:1117: RuntimeWarning: Mean of empty slice\n",
      "  return np.nanmean(a, axis, out=out, keepdims=keepdims)\n",
      "/opt/conda/lib/python3.9/site-packages/numpy/lib/nanfunctions.py:1117: RuntimeWarning: Mean of empty slice\n",
      "  return np.nanmean(a, axis, out=out, keepdims=keepdims)\n",
      "/opt/conda/lib/python3.9/site-packages/numpy/lib/nanfunctions.py:1117: RuntimeWarning: Mean of empty slice\n",
      "  return np.nanmean(a, axis, out=out, keepdims=keepdims)\n",
      "/opt/conda/lib/python3.9/site-packages/numpy/lib/nanfunctions.py:1117: RuntimeWarning: Mean of empty slice\n",
      "  return np.nanmean(a, axis, out=out, keepdims=keepdims)\n",
      "/opt/conda/lib/python3.9/site-packages/numpy/lib/nanfunctions.py:1117: RuntimeWarning: Mean of empty slice\n",
      "  return np.nanmean(a, axis, out=out, keepdims=keepdims)\n",
      "/opt/conda/lib/python3.9/site-packages/numpy/lib/nanfunctions.py:1117: RuntimeWarning: Mean of empty slice\n",
      "  return np.nanmean(a, axis, out=out, keepdims=keepdims)\n",
      "/opt/conda/lib/python3.9/site-packages/numpy/lib/nanfunctions.py:1117: RuntimeWarning: Mean of empty slice\n",
      "  return np.nanmean(a, axis, out=out, keepdims=keepdims)\n",
      "/opt/conda/lib/python3.9/site-packages/numpy/lib/nanfunctions.py:1117: RuntimeWarning: Mean of empty slice\n",
      "  return np.nanmean(a, axis, out=out, keepdims=keepdims)\n",
      "/opt/conda/lib/python3.9/site-packages/numpy/lib/nanfunctions.py:1117: RuntimeWarning: Mean of empty slice\n",
      "  return np.nanmean(a, axis, out=out, keepdims=keepdims)\n",
      "/opt/conda/lib/python3.9/site-packages/numpy/lib/nanfunctions.py:1117: RuntimeWarning: Mean of empty slice\n",
      "  return np.nanmean(a, axis, out=out, keepdims=keepdims)\n",
      "/opt/conda/lib/python3.9/site-packages/numpy/lib/nanfunctions.py:1117: RuntimeWarning: Mean of empty slice\n",
      "  return np.nanmean(a, axis, out=out, keepdims=keepdims)\n",
      "/opt/conda/lib/python3.9/site-packages/numpy/lib/nanfunctions.py:1117: RuntimeWarning: Mean of empty slice\n",
      "  return np.nanmean(a, axis, out=out, keepdims=keepdims)\n",
      "/opt/conda/lib/python3.9/site-packages/numpy/lib/nanfunctions.py:1117: RuntimeWarning: Mean of empty slice\n",
      "  return np.nanmean(a, axis, out=out, keepdims=keepdims)\n",
      "/opt/conda/lib/python3.9/site-packages/numpy/lib/nanfunctions.py:1117: RuntimeWarning: Mean of empty slice\n",
      "  return np.nanmean(a, axis, out=out, keepdims=keepdims)\n",
      "/opt/conda/lib/python3.9/site-packages/numpy/lib/nanfunctions.py:1117: RuntimeWarning: Mean of empty slice\n",
      "  return np.nanmean(a, axis, out=out, keepdims=keepdims)\n",
      "/opt/conda/lib/python3.9/site-packages/numpy/lib/nanfunctions.py:1117: RuntimeWarning: Mean of empty slice\n",
      "  return np.nanmean(a, axis, out=out, keepdims=keepdims)\n",
      "/opt/conda/lib/python3.9/site-packages/numpy/lib/nanfunctions.py:1117: RuntimeWarning: Mean of empty slice\n",
      "  return np.nanmean(a, axis, out=out, keepdims=keepdims)\n",
      "/opt/conda/lib/python3.9/site-packages/numpy/lib/nanfunctions.py:1117: RuntimeWarning: Mean of empty slice\n",
      "  return np.nanmean(a, axis, out=out, keepdims=keepdims)\n",
      "/opt/conda/lib/python3.9/site-packages/numpy/lib/nanfunctions.py:1117: RuntimeWarning: Mean of empty slice\n",
      "  return np.nanmean(a, axis, out=out, keepdims=keepdims)\n",
      "/opt/conda/lib/python3.9/site-packages/numpy/lib/nanfunctions.py:1117: RuntimeWarning: Mean of empty slice\n",
      "  return np.nanmean(a, axis, out=out, keepdims=keepdims)\n",
      "/opt/conda/lib/python3.9/site-packages/numpy/lib/nanfunctions.py:1117: RuntimeWarning: Mean of empty slice\n",
      "  return np.nanmean(a, axis, out=out, keepdims=keepdims)\n",
      "/opt/conda/lib/python3.9/site-packages/numpy/lib/nanfunctions.py:1117: RuntimeWarning: Mean of empty slice\n",
      "  return np.nanmean(a, axis, out=out, keepdims=keepdims)\n",
      "/opt/conda/lib/python3.9/site-packages/numpy/lib/nanfunctions.py:1117: RuntimeWarning: Mean of empty slice\n",
      "  return np.nanmean(a, axis, out=out, keepdims=keepdims)\n",
      "/opt/conda/lib/python3.9/site-packages/numpy/lib/nanfunctions.py:1117: RuntimeWarning: Mean of empty slice\n",
      "  return np.nanmean(a, axis, out=out, keepdims=keepdims)\n",
      "/opt/conda/lib/python3.9/site-packages/numpy/lib/nanfunctions.py:1117: RuntimeWarning: Mean of empty slice\n",
      "  return np.nanmean(a, axis, out=out, keepdims=keepdims)\n",
      "/opt/conda/lib/python3.9/site-packages/numpy/lib/nanfunctions.py:1117: RuntimeWarning: Mean of empty slice\n",
      "  return np.nanmean(a, axis, out=out, keepdims=keepdims)\n",
      "/opt/conda/lib/python3.9/site-packages/numpy/lib/nanfunctions.py:1117: RuntimeWarning: Mean of empty slice\n",
      "  return np.nanmean(a, axis, out=out, keepdims=keepdims)\n",
      "/opt/conda/lib/python3.9/site-packages/numpy/lib/nanfunctions.py:1117: RuntimeWarning: Mean of empty slice\n",
      "  return np.nanmean(a, axis, out=out, keepdims=keepdims)\n",
      "/opt/conda/lib/python3.9/site-packages/numpy/lib/nanfunctions.py:1117: RuntimeWarning: Mean of empty slice\n",
      "  return np.nanmean(a, axis, out=out, keepdims=keepdims)\n",
      "/opt/conda/lib/python3.9/site-packages/numpy/lib/nanfunctions.py:1117: RuntimeWarning: Mean of empty slice\n",
      "  return np.nanmean(a, axis, out=out, keepdims=keepdims)\n",
      "/opt/conda/lib/python3.9/site-packages/numpy/lib/nanfunctions.py:1117: RuntimeWarning: Mean of empty slice\n",
      "  return np.nanmean(a, axis, out=out, keepdims=keepdims)\n",
      "/opt/conda/lib/python3.9/site-packages/numpy/lib/nanfunctions.py:1117: RuntimeWarning: Mean of empty slice\n",
      "  return np.nanmean(a, axis, out=out, keepdims=keepdims)\n",
      "/opt/conda/lib/python3.9/site-packages/numpy/lib/nanfunctions.py:1117: RuntimeWarning: Mean of empty slice\n",
      "  return np.nanmean(a, axis, out=out, keepdims=keepdims)\n",
      "/opt/conda/lib/python3.9/site-packages/numpy/lib/nanfunctions.py:1117: RuntimeWarning: Mean of empty slice\n",
      "  return np.nanmean(a, axis, out=out, keepdims=keepdims)\n"
     ]
    }
   ],
   "source": [
    "df['first_day_exposition'] = pd.to_datetime(df['first_day_exposition'], format = '%Y-%m-%d')\n",
    "#Изменение типа данных на datetime, тк значения (часы, минуты, секунды)\n",
    "df['balcony'] = df['balcony'].fillna(0).astype(int)\n",
    "#Замена количества пропусков в столбце балконы на 0 и изменение типа данных.\n",
    "df['is_apartment'] = df['is_apartment'].astype(bool) \n",
    "#Изменение типа данных согласно пункту 6 предудущего вывода.\n",
    "df['parks_around3000'] = df['parks_around3000'].fillna(0).astype(int)\n",
    "#Изменение типа данных и замена пропусков в столбце число парков в радуиусе 3км.\n",
    "df['ponds_around3000'] = df['ponds_around3000'].fillna(0).astype(int)\n",
    "#Изменение типа данных и замена пропусков в столбце число прудов в радуиусе 3км.\n",
    "df.dropna(subset=['locality_name'], inplace=True)\n",
    "df.dropna(subset=['floors_total'], inplace=True)\n",
    "#Значений пропущено в столцах Название населенного пункта и количество этажей в доме крайне мало,\n",
    "#поэтому удалим эти строки, их удаление не повлияет на конечный результат\n",
    "df['floors_total'] = df['floors_total'].astype(int)\n",
    "#Изменение типа данных на целочисленное\n",
    "\n",
    "df['living_area'].describe()\n",
    "df['kitchen_area'].describe()\n",
    "df['ceiling_height'].describe()   \n",
    "#Посмотрим распределение значений, среднее и медианное следующих столбцов:\n",
    "#площадь кухни, высота потолков, жилая площадь\n",
    "living = df['living_area'].median() / df['total_area'].median()\n",
    "kitchen = df['kitchen_area'].median() / df['total_area'].median()\n",
    "#Посчитаем медианный коэффициент для замены пропусков в столбцах жилой площади и площади кухни\n",
    "#Медианное и среднее значение отличаются в кадом столбце примерно на 10%,\n",
    "#для замены пропусков возьмем медианное\n",
    "df['living_area'].fillna(living * df['total_area'], inplace=True)\n",
    "df['kitchen_area'].fillna(kitchen * df['total_area'], inplace=True)\n",
    "#Замена пропусков площади кухни и жилой площади\n",
    "df['ceiling_height'] = df.groupby(['locality_name', 'floors_total'])['ceiling_height'].apply(lambda x: x.fillna(x.median()))\n",
    "#Перезапишем столбец с учетом группировки по населенному пункту и количества этажей в доме\n",
    "df['ceiling_height'].fillna(df['ceiling_height'].median(), inplace=True)\n",
    "#Замена пропусков на медианное значение сгруппированного столбца"
   ]
  },
  {
   "cell_type": "markdown",
   "metadata": {},
   "source": [
    "<div class=\"alert alert-success\">\n",
    "<b>✔️ Комментарий ревьюера v1:</b> \n",
    "<br>Отличная работа! Ты верно заполнил пропуски и поработал с типами данных!\n",
    "</div>"
   ]
  },
  {
   "cell_type": "markdown",
   "metadata": {},
   "source": [
    "<div class=\"alert alert-warning\">\n",
    "<b>⚠️ Комментарий ревьюера v1:</b> \n",
    "<br>Чтобы избавиться от вывода предупреждений, нужно добавить эти две строчки. Добавлять их лучше в самую первую ячейку к остальным библиотекам\n",
    "    \n",
    "    import warnings\n",
    "    warnings.simplefilter(\"ignore\")\n",
    "</div>"
   ]
  },
  {
   "cell_type": "markdown",
   "metadata": {},
   "source": [
    "<div class=\"alert alert-info\">\n",
    "<b>Комментарий студента:</b>\n",
    "<br>Спасибо, сохранил себе в заметки, чтобы не забыть\n",
    "</div>"
   ]
  },
  {
   "cell_type": "markdown",
   "metadata": {},
   "source": [
    "##### Вывод замены пропущенных значений и замены типа данны\n",
    "Были заменены пропущенные значения в столбцах:\n",
    "1. Балконы на 0, тк скорее всего там, где их нет, просто пропустили графу для заполнения;\n",
    "2. Апаратменты, там где значение было пропущены, значило, что это не апараменты, а другая жилая недвижимость;\n",
    "3. Парки и пруды в радиусе 3км, пропуски были заменены на значение 0, потому что, если они пропущены, их нет;\n",
    "4. Жилая площадь, площадь кухни были созданы медианные коэффициенты, чтобы посчитать значение для каждого случая;\n",
    "5. Высота потолков  \n",
    "  \n",
    "После возможной замены пропущенных значений остались столбцы: \n",
    "1. Расстояние до аэропорта;\n",
    "2. Расстояние до центра города;\n",
    "3. Расстояние до пруда;\n",
    "4. Расстояние до парка;\n",
    "5. Количество дней размещения.\n",
    "\n",
    "Эти значения невозможно заполнить ни медианным значением, ни средним значением,\n",
    "потому что данные будут неверные.  \n",
    "Возможно их не заполняли, потому что пруд, парк, аэропорт и центр города находятся далеко от квартиры."
   ]
  },
  {
   "cell_type": "markdown",
   "metadata": {},
   "source": [
    "#### Изучение уникальных значений в столбцах с названиями и устранение неявных убликатов"
   ]
  },
  {
   "cell_type": "code",
   "execution_count": 6,
   "metadata": {
    "scrolled": true
   },
   "outputs": [],
   "source": [
    "df['locality_name'].sort_values().unique()\n",
    "#отсортируем и посмотрим уникальные значения в столбце наименование поселения\n",
    "df['locality_name'] = df['locality_name'].str.replace('поселок городского типа', 'поселок')\n",
    "df['locality_name'] = df['locality_name'].str.replace('посёлок городского типа', 'поселок')\n",
    "df['locality_name'] = df['locality_name'].str.replace('посёлок', 'поселок')\n",
    "df['locality_name'] = df['locality_name'].str.replace('городской поселок', 'поселок')\n",
    "df['locality_name'] = df['locality_name'].str.replace('городской посёлок', 'поселок')\n",
    "df['locality_name'] = df['locality_name'].str.replace('поселок при железнодорожной станции', 'поселок станции')\n",
    "df['locality_name'] = df['locality_name'].str.replace('поселок станции', 'поселок')\n",
    "df['locality_name'] = df['locality_name'].str.replace('коттеджный поселок', 'поселок')\n",
    "#Замена всех неявных дубликатов в столбце наименование поселения\n",
    "\n"
   ]
  },
  {
   "cell_type": "markdown",
   "metadata": {},
   "source": [
    "<div class=\"alert alert-success\">\n",
    "<b>✔️ Комментарий ревьюера v1:</b> \n",
    "<br>Супер! Здесь всё верно)\n",
    "</div>"
   ]
  },
  {
   "cell_type": "markdown",
   "metadata": {},
   "source": [
    "#### Поиск и устранение редких и выбивающихся значениий"
   ]
  },
  {
   "cell_type": "code",
   "execution_count": 7,
   "metadata": {
    "scrolled": false
   },
   "outputs": [
    {
     "data": {
      "text/html": [
       "<div>\n",
       "<style scoped>\n",
       "    .dataframe tbody tr th:only-of-type {\n",
       "        vertical-align: middle;\n",
       "    }\n",
       "\n",
       "    .dataframe tbody tr th {\n",
       "        vertical-align: top;\n",
       "    }\n",
       "\n",
       "    .dataframe thead th {\n",
       "        text-align: right;\n",
       "    }\n",
       "</style>\n",
       "<table border=\"1\" class=\"dataframe\">\n",
       "  <thead>\n",
       "    <tr style=\"text-align: right;\">\n",
       "      <th></th>\n",
       "      <th>total_images</th>\n",
       "      <th>last_price</th>\n",
       "      <th>total_area</th>\n",
       "      <th>rooms</th>\n",
       "      <th>ceiling_height</th>\n",
       "      <th>floors_total</th>\n",
       "      <th>living_area</th>\n",
       "      <th>floor</th>\n",
       "      <th>kitchen_area</th>\n",
       "      <th>balcony</th>\n",
       "      <th>airports_nearest</th>\n",
       "      <th>cityCenters_nearest</th>\n",
       "      <th>parks_around3000</th>\n",
       "      <th>parks_nearest</th>\n",
       "      <th>ponds_around3000</th>\n",
       "      <th>ponds_nearest</th>\n",
       "      <th>days_exposition</th>\n",
       "    </tr>\n",
       "  </thead>\n",
       "  <tbody>\n",
       "    <tr>\n",
       "      <th>count</th>\n",
       "      <td>23565.000000</td>\n",
       "      <td>2.356500e+04</td>\n",
       "      <td>23565.000000</td>\n",
       "      <td>23565.000000</td>\n",
       "      <td>23565.000000</td>\n",
       "      <td>23565.000000</td>\n",
       "      <td>23565.000000</td>\n",
       "      <td>23565.000000</td>\n",
       "      <td>23565.000000</td>\n",
       "      <td>23565.000000</td>\n",
       "      <td>18041.000000</td>\n",
       "      <td>18064.000000</td>\n",
       "      <td>23565.000000</td>\n",
       "      <td>8030.000000</td>\n",
       "      <td>23565.000000</td>\n",
       "      <td>9036.000000</td>\n",
       "      <td>20394.000000</td>\n",
       "    </tr>\n",
       "    <tr>\n",
       "      <th>mean</th>\n",
       "      <td>9.878421</td>\n",
       "      <td>6.540058e+06</td>\n",
       "      <td>60.322824</td>\n",
       "      <td>2.070656</td>\n",
       "      <td>2.737873</td>\n",
       "      <td>10.675875</td>\n",
       "      <td>34.621108</td>\n",
       "      <td>5.878124</td>\n",
       "      <td>10.499499</td>\n",
       "      <td>0.593677</td>\n",
       "      <td>28797.082701</td>\n",
       "      <td>14192.656056</td>\n",
       "      <td>0.468831</td>\n",
       "      <td>490.580448</td>\n",
       "      <td>0.589900</td>\n",
       "      <td>518.289509</td>\n",
       "      <td>180.741395</td>\n",
       "    </tr>\n",
       "    <tr>\n",
       "      <th>std</th>\n",
       "      <td>5.681156</td>\n",
       "      <td>1.091093e+07</td>\n",
       "      <td>35.657060</td>\n",
       "      <td>1.078591</td>\n",
       "      <td>1.009172</td>\n",
       "      <td>6.594823</td>\n",
       "      <td>22.399827</td>\n",
       "      <td>4.871485</td>\n",
       "      <td>6.037444</td>\n",
       "      <td>0.960660</td>\n",
       "      <td>12632.499735</td>\n",
       "      <td>8613.348153</td>\n",
       "      <td>0.748403</td>\n",
       "      <td>341.572956</td>\n",
       "      <td>0.883966</td>\n",
       "      <td>278.009558</td>\n",
       "      <td>219.732782</td>\n",
       "    </tr>\n",
       "    <tr>\n",
       "      <th>min</th>\n",
       "      <td>0.000000</td>\n",
       "      <td>1.219000e+04</td>\n",
       "      <td>12.000000</td>\n",
       "      <td>0.000000</td>\n",
       "      <td>1.000000</td>\n",
       "      <td>1.000000</td>\n",
       "      <td>2.000000</td>\n",
       "      <td>1.000000</td>\n",
       "      <td>1.300000</td>\n",
       "      <td>0.000000</td>\n",
       "      <td>0.000000</td>\n",
       "      <td>181.000000</td>\n",
       "      <td>0.000000</td>\n",
       "      <td>1.000000</td>\n",
       "      <td>0.000000</td>\n",
       "      <td>13.000000</td>\n",
       "      <td>1.000000</td>\n",
       "    </tr>\n",
       "    <tr>\n",
       "      <th>25%</th>\n",
       "      <td>6.000000</td>\n",
       "      <td>3.400000e+06</td>\n",
       "      <td>40.000000</td>\n",
       "      <td>1.000000</td>\n",
       "      <td>2.550000</td>\n",
       "      <td>5.000000</td>\n",
       "      <td>19.000000</td>\n",
       "      <td>2.000000</td>\n",
       "      <td>7.000000</td>\n",
       "      <td>0.000000</td>\n",
       "      <td>18565.000000</td>\n",
       "      <td>9238.000000</td>\n",
       "      <td>0.000000</td>\n",
       "      <td>288.000000</td>\n",
       "      <td>0.000000</td>\n",
       "      <td>293.000000</td>\n",
       "      <td>45.000000</td>\n",
       "    </tr>\n",
       "    <tr>\n",
       "      <th>50%</th>\n",
       "      <td>9.000000</td>\n",
       "      <td>4.646000e+06</td>\n",
       "      <td>52.000000</td>\n",
       "      <td>2.000000</td>\n",
       "      <td>2.650000</td>\n",
       "      <td>9.000000</td>\n",
       "      <td>30.000000</td>\n",
       "      <td>4.000000</td>\n",
       "      <td>9.000000</td>\n",
       "      <td>0.000000</td>\n",
       "      <td>26757.000000</td>\n",
       "      <td>13096.500000</td>\n",
       "      <td>0.000000</td>\n",
       "      <td>455.000000</td>\n",
       "      <td>0.000000</td>\n",
       "      <td>503.000000</td>\n",
       "      <td>95.000000</td>\n",
       "    </tr>\n",
       "    <tr>\n",
       "      <th>75%</th>\n",
       "      <td>14.000000</td>\n",
       "      <td>6.790000e+06</td>\n",
       "      <td>69.700000</td>\n",
       "      <td>3.000000</td>\n",
       "      <td>2.750000</td>\n",
       "      <td>16.000000</td>\n",
       "      <td>42.115385</td>\n",
       "      <td>8.000000</td>\n",
       "      <td>12.000000</td>\n",
       "      <td>1.000000</td>\n",
       "      <td>37273.000000</td>\n",
       "      <td>16285.000000</td>\n",
       "      <td>1.000000</td>\n",
       "      <td>612.000000</td>\n",
       "      <td>1.000000</td>\n",
       "      <td>730.000000</td>\n",
       "      <td>231.000000</td>\n",
       "    </tr>\n",
       "    <tr>\n",
       "      <th>max</th>\n",
       "      <td>50.000000</td>\n",
       "      <td>7.630000e+08</td>\n",
       "      <td>900.000000</td>\n",
       "      <td>19.000000</td>\n",
       "      <td>100.000000</td>\n",
       "      <td>60.000000</td>\n",
       "      <td>409.700000</td>\n",
       "      <td>33.000000</td>\n",
       "      <td>112.000000</td>\n",
       "      <td>5.000000</td>\n",
       "      <td>84869.000000</td>\n",
       "      <td>65968.000000</td>\n",
       "      <td>3.000000</td>\n",
       "      <td>3190.000000</td>\n",
       "      <td>3.000000</td>\n",
       "      <td>1344.000000</td>\n",
       "      <td>1580.000000</td>\n",
       "    </tr>\n",
       "  </tbody>\n",
       "</table>\n",
       "</div>"
      ],
      "text/plain": [
       "       total_images    last_price    total_area         rooms  ceiling_height  \\\n",
       "count  23565.000000  2.356500e+04  23565.000000  23565.000000    23565.000000   \n",
       "mean       9.878421  6.540058e+06     60.322824      2.070656        2.737873   \n",
       "std        5.681156  1.091093e+07     35.657060      1.078591        1.009172   \n",
       "min        0.000000  1.219000e+04     12.000000      0.000000        1.000000   \n",
       "25%        6.000000  3.400000e+06     40.000000      1.000000        2.550000   \n",
       "50%        9.000000  4.646000e+06     52.000000      2.000000        2.650000   \n",
       "75%       14.000000  6.790000e+06     69.700000      3.000000        2.750000   \n",
       "max       50.000000  7.630000e+08    900.000000     19.000000      100.000000   \n",
       "\n",
       "       floors_total   living_area         floor  kitchen_area       balcony  \\\n",
       "count  23565.000000  23565.000000  23565.000000  23565.000000  23565.000000   \n",
       "mean      10.675875     34.621108      5.878124     10.499499      0.593677   \n",
       "std        6.594823     22.399827      4.871485      6.037444      0.960660   \n",
       "min        1.000000      2.000000      1.000000      1.300000      0.000000   \n",
       "25%        5.000000     19.000000      2.000000      7.000000      0.000000   \n",
       "50%        9.000000     30.000000      4.000000      9.000000      0.000000   \n",
       "75%       16.000000     42.115385      8.000000     12.000000      1.000000   \n",
       "max       60.000000    409.700000     33.000000    112.000000      5.000000   \n",
       "\n",
       "       airports_nearest  cityCenters_nearest  parks_around3000  parks_nearest  \\\n",
       "count      18041.000000         18064.000000      23565.000000    8030.000000   \n",
       "mean       28797.082701         14192.656056          0.468831     490.580448   \n",
       "std        12632.499735          8613.348153          0.748403     341.572956   \n",
       "min            0.000000           181.000000          0.000000       1.000000   \n",
       "25%        18565.000000          9238.000000          0.000000     288.000000   \n",
       "50%        26757.000000         13096.500000          0.000000     455.000000   \n",
       "75%        37273.000000         16285.000000          1.000000     612.000000   \n",
       "max        84869.000000         65968.000000          3.000000    3190.000000   \n",
       "\n",
       "       ponds_around3000  ponds_nearest  days_exposition  \n",
       "count      23565.000000    9036.000000     20394.000000  \n",
       "mean           0.589900     518.289509       180.741395  \n",
       "std            0.883966     278.009558       219.732782  \n",
       "min            0.000000      13.000000         1.000000  \n",
       "25%            0.000000     293.000000        45.000000  \n",
       "50%            0.000000     503.000000        95.000000  \n",
       "75%            1.000000     730.000000       231.000000  \n",
       "max            3.000000    1344.000000      1580.000000  "
      ]
     },
     "execution_count": 7,
     "metadata": {},
     "output_type": "execute_result"
    }
   ],
   "source": [
    "df.describe()\n",
    "#Просмотр выбивающихся значений"
   ]
  },
  {
   "cell_type": "markdown",
   "metadata": {},
   "source": [
    "Найдены аномалии в следующих столбцах:\n",
    "1. Высота потолков содержит больше количество странных значений.\n",
    "Явные ошибки 32, 27, заменим на 3.2, 2.7 соответсвенно.\n",
    "2. Количество остальный аномалий посмотрим в количественном эквиваленте, если значения не повлияет на общий вывод, удалим строки"
   ]
  },
  {
   "cell_type": "code",
   "execution_count": 8,
   "metadata": {
    "scrolled": false
   },
   "outputs": [],
   "source": [
    "df['ceiling_height'].sort_values(ascending=False).unique()\n",
    "#Просмотр уникальных значений в столце высота потолков\n",
    "df = df.replace({'ceiling_height' : {32 : 3.2 , 27.5 : 2.75, 27 : 2.7, 26 : 2.6, 25 : 2.5, 24 : 2.4, 22.6 : 2.26}})\n",
    "#Замена значений, в которых явно была допущена ошибка\n",
    "df.query('ceiling_height > 6 or ceiling_height < 2.4').count()\n",
    "#Выясняем какое количество выбивающихся значений в столбце высриа потолков \n",
    "#Всего таких значений 35, что является 0.1% от общего количества строк\n",
    "#Такое условие было выбрано с учетом СНИПА минимальной высоты потолков в жилом помещении 2.4 метра\n",
    "#А условие максимальной высоты на основе элитного жилья, высота потолков которого не привышаем 6 метров\n",
    "df = df[df.ceiling_height <= 6]\n",
    "df = df[df.ceiling_height >= 2.4]\n",
    "#Оставляем только строки соответсвующие нашему условию"
   ]
  },
  {
   "cell_type": "code",
   "execution_count": 9,
   "metadata": {
    "scrolled": false
   },
   "outputs": [
    {
     "data": {
      "text/html": [
       "<div>\n",
       "<style scoped>\n",
       "    .dataframe tbody tr th:only-of-type {\n",
       "        vertical-align: middle;\n",
       "    }\n",
       "\n",
       "    .dataframe tbody tr th {\n",
       "        vertical-align: top;\n",
       "    }\n",
       "\n",
       "    .dataframe thead th {\n",
       "        text-align: right;\n",
       "    }\n",
       "</style>\n",
       "<table border=\"1\" class=\"dataframe\">\n",
       "  <thead>\n",
       "    <tr style=\"text-align: right;\">\n",
       "      <th></th>\n",
       "      <th>total_images</th>\n",
       "      <th>last_price</th>\n",
       "      <th>total_area</th>\n",
       "      <th>first_day_exposition</th>\n",
       "      <th>rooms</th>\n",
       "      <th>ceiling_height</th>\n",
       "      <th>floors_total</th>\n",
       "      <th>living_area</th>\n",
       "      <th>floor</th>\n",
       "      <th>is_apartment</th>\n",
       "      <th>studio</th>\n",
       "      <th>open_plan</th>\n",
       "      <th>kitchen_area</th>\n",
       "      <th>balcony</th>\n",
       "      <th>locality_name</th>\n",
       "      <th>airports_nearest</th>\n",
       "      <th>cityCenters_nearest</th>\n",
       "      <th>parks_around3000</th>\n",
       "      <th>parks_nearest</th>\n",
       "      <th>ponds_around3000</th>\n",
       "      <th>ponds_nearest</th>\n",
       "      <th>days_exposition</th>\n",
       "    </tr>\n",
       "  </thead>\n",
       "  <tbody>\n",
       "    <tr>\n",
       "      <th>19540</th>\n",
       "      <td>8</td>\n",
       "      <td>420000000.0</td>\n",
       "      <td>900.0</td>\n",
       "      <td>2017-12-06</td>\n",
       "      <td>12</td>\n",
       "      <td>2.80</td>\n",
       "      <td>25</td>\n",
       "      <td>409.700000</td>\n",
       "      <td>25</td>\n",
       "      <td>True</td>\n",
       "      <td>False</td>\n",
       "      <td>False</td>\n",
       "      <td>112.0</td>\n",
       "      <td>0</td>\n",
       "      <td>Санкт-Петербург</td>\n",
       "      <td>30706.0</td>\n",
       "      <td>7877.0</td>\n",
       "      <td>0</td>\n",
       "      <td>NaN</td>\n",
       "      <td>2</td>\n",
       "      <td>318.0</td>\n",
       "      <td>106.0</td>\n",
       "    </tr>\n",
       "    <tr>\n",
       "      <th>12859</th>\n",
       "      <td>20</td>\n",
       "      <td>140000000.0</td>\n",
       "      <td>631.2</td>\n",
       "      <td>2019-04-09</td>\n",
       "      <td>7</td>\n",
       "      <td>3.90</td>\n",
       "      <td>4</td>\n",
       "      <td>322.300000</td>\n",
       "      <td>4</td>\n",
       "      <td>True</td>\n",
       "      <td>False</td>\n",
       "      <td>False</td>\n",
       "      <td>19.5</td>\n",
       "      <td>1</td>\n",
       "      <td>Санкт-Петербург</td>\n",
       "      <td>25707.0</td>\n",
       "      <td>4972.0</td>\n",
       "      <td>0</td>\n",
       "      <td>NaN</td>\n",
       "      <td>2</td>\n",
       "      <td>210.0</td>\n",
       "      <td>NaN</td>\n",
       "    </tr>\n",
       "    <tr>\n",
       "      <th>3117</th>\n",
       "      <td>19</td>\n",
       "      <td>140000000.0</td>\n",
       "      <td>631.0</td>\n",
       "      <td>2019-03-30</td>\n",
       "      <td>7</td>\n",
       "      <td>2.60</td>\n",
       "      <td>5</td>\n",
       "      <td>364.038462</td>\n",
       "      <td>5</td>\n",
       "      <td>True</td>\n",
       "      <td>False</td>\n",
       "      <td>False</td>\n",
       "      <td>60.0</td>\n",
       "      <td>0</td>\n",
       "      <td>Санкт-Петербург</td>\n",
       "      <td>25707.0</td>\n",
       "      <td>4972.0</td>\n",
       "      <td>0</td>\n",
       "      <td>NaN</td>\n",
       "      <td>2</td>\n",
       "      <td>210.0</td>\n",
       "      <td>NaN</td>\n",
       "    </tr>\n",
       "    <tr>\n",
       "      <th>15651</th>\n",
       "      <td>20</td>\n",
       "      <td>300000000.0</td>\n",
       "      <td>618.0</td>\n",
       "      <td>2017-12-18</td>\n",
       "      <td>7</td>\n",
       "      <td>3.40</td>\n",
       "      <td>7</td>\n",
       "      <td>258.000000</td>\n",
       "      <td>5</td>\n",
       "      <td>True</td>\n",
       "      <td>False</td>\n",
       "      <td>False</td>\n",
       "      <td>70.0</td>\n",
       "      <td>0</td>\n",
       "      <td>Санкт-Петербург</td>\n",
       "      <td>32440.0</td>\n",
       "      <td>5297.0</td>\n",
       "      <td>0</td>\n",
       "      <td>NaN</td>\n",
       "      <td>2</td>\n",
       "      <td>198.0</td>\n",
       "      <td>111.0</td>\n",
       "    </tr>\n",
       "    <tr>\n",
       "      <th>5358</th>\n",
       "      <td>20</td>\n",
       "      <td>65000000.0</td>\n",
       "      <td>590.0</td>\n",
       "      <td>2019-02-14</td>\n",
       "      <td>15</td>\n",
       "      <td>3.50</td>\n",
       "      <td>6</td>\n",
       "      <td>409.000000</td>\n",
       "      <td>3</td>\n",
       "      <td>True</td>\n",
       "      <td>False</td>\n",
       "      <td>False</td>\n",
       "      <td>100.0</td>\n",
       "      <td>0</td>\n",
       "      <td>Санкт-Петербург</td>\n",
       "      <td>24447.0</td>\n",
       "      <td>4666.0</td>\n",
       "      <td>1</td>\n",
       "      <td>767.0</td>\n",
       "      <td>0</td>\n",
       "      <td>NaN</td>\n",
       "      <td>14.0</td>\n",
       "    </tr>\n",
       "    <tr>\n",
       "      <th>4237</th>\n",
       "      <td>1</td>\n",
       "      <td>50000000.0</td>\n",
       "      <td>517.0</td>\n",
       "      <td>2017-10-14</td>\n",
       "      <td>7</td>\n",
       "      <td>3.00</td>\n",
       "      <td>4</td>\n",
       "      <td>332.000000</td>\n",
       "      <td>3</td>\n",
       "      <td>True</td>\n",
       "      <td>False</td>\n",
       "      <td>False</td>\n",
       "      <td>22.0</td>\n",
       "      <td>0</td>\n",
       "      <td>Санкт-Петербург</td>\n",
       "      <td>22835.0</td>\n",
       "      <td>1847.0</td>\n",
       "      <td>2</td>\n",
       "      <td>477.0</td>\n",
       "      <td>2</td>\n",
       "      <td>540.0</td>\n",
       "      <td>NaN</td>\n",
       "    </tr>\n",
       "    <tr>\n",
       "      <th>8018</th>\n",
       "      <td>20</td>\n",
       "      <td>84000000.0</td>\n",
       "      <td>507.0</td>\n",
       "      <td>2015-12-17</td>\n",
       "      <td>5</td>\n",
       "      <td>4.45</td>\n",
       "      <td>7</td>\n",
       "      <td>301.500000</td>\n",
       "      <td>7</td>\n",
       "      <td>True</td>\n",
       "      <td>False</td>\n",
       "      <td>False</td>\n",
       "      <td>45.5</td>\n",
       "      <td>1</td>\n",
       "      <td>Санкт-Петербург</td>\n",
       "      <td>NaN</td>\n",
       "      <td>5735.0</td>\n",
       "      <td>2</td>\n",
       "      <td>110.0</td>\n",
       "      <td>0</td>\n",
       "      <td>NaN</td>\n",
       "      <td>1078.0</td>\n",
       "    </tr>\n",
       "    <tr>\n",
       "      <th>15016</th>\n",
       "      <td>8</td>\n",
       "      <td>150000000.0</td>\n",
       "      <td>500.0</td>\n",
       "      <td>2016-01-13</td>\n",
       "      <td>4</td>\n",
       "      <td>3.20</td>\n",
       "      <td>7</td>\n",
       "      <td>288.461538</td>\n",
       "      <td>7</td>\n",
       "      <td>True</td>\n",
       "      <td>False</td>\n",
       "      <td>False</td>\n",
       "      <td>87.5</td>\n",
       "      <td>0</td>\n",
       "      <td>Санкт-Петербург</td>\n",
       "      <td>33058.0</td>\n",
       "      <td>6150.0</td>\n",
       "      <td>3</td>\n",
       "      <td>209.0</td>\n",
       "      <td>3</td>\n",
       "      <td>531.0</td>\n",
       "      <td>303.0</td>\n",
       "    </tr>\n",
       "    <tr>\n",
       "      <th>5893</th>\n",
       "      <td>3</td>\n",
       "      <td>230000000.0</td>\n",
       "      <td>500.0</td>\n",
       "      <td>2017-05-31</td>\n",
       "      <td>6</td>\n",
       "      <td>3.00</td>\n",
       "      <td>7</td>\n",
       "      <td>288.461538</td>\n",
       "      <td>7</td>\n",
       "      <td>True</td>\n",
       "      <td>False</td>\n",
       "      <td>False</td>\n",
       "      <td>40.0</td>\n",
       "      <td>0</td>\n",
       "      <td>Санкт-Петербург</td>\n",
       "      <td>32440.0</td>\n",
       "      <td>5297.0</td>\n",
       "      <td>0</td>\n",
       "      <td>NaN</td>\n",
       "      <td>2</td>\n",
       "      <td>198.0</td>\n",
       "      <td>50.0</td>\n",
       "    </tr>\n",
       "    <tr>\n",
       "      <th>12401</th>\n",
       "      <td>20</td>\n",
       "      <td>91500000.0</td>\n",
       "      <td>495.0</td>\n",
       "      <td>2017-06-19</td>\n",
       "      <td>7</td>\n",
       "      <td>4.65</td>\n",
       "      <td>7</td>\n",
       "      <td>347.500000</td>\n",
       "      <td>7</td>\n",
       "      <td>True</td>\n",
       "      <td>False</td>\n",
       "      <td>False</td>\n",
       "      <td>25.0</td>\n",
       "      <td>0</td>\n",
       "      <td>Санкт-Петербург</td>\n",
       "      <td>NaN</td>\n",
       "      <td>5735.0</td>\n",
       "      <td>2</td>\n",
       "      <td>110.0</td>\n",
       "      <td>0</td>\n",
       "      <td>NaN</td>\n",
       "      <td>14.0</td>\n",
       "    </tr>\n",
       "  </tbody>\n",
       "</table>\n",
       "</div>"
      ],
      "text/plain": [
       "       total_images   last_price  total_area first_day_exposition  rooms  \\\n",
       "19540             8  420000000.0       900.0           2017-12-06     12   \n",
       "12859            20  140000000.0       631.2           2019-04-09      7   \n",
       "3117             19  140000000.0       631.0           2019-03-30      7   \n",
       "15651            20  300000000.0       618.0           2017-12-18      7   \n",
       "5358             20   65000000.0       590.0           2019-02-14     15   \n",
       "4237              1   50000000.0       517.0           2017-10-14      7   \n",
       "8018             20   84000000.0       507.0           2015-12-17      5   \n",
       "15016             8  150000000.0       500.0           2016-01-13      4   \n",
       "5893              3  230000000.0       500.0           2017-05-31      6   \n",
       "12401            20   91500000.0       495.0           2017-06-19      7   \n",
       "\n",
       "       ceiling_height  floors_total  living_area  floor  is_apartment  studio  \\\n",
       "19540            2.80            25   409.700000     25          True   False   \n",
       "12859            3.90             4   322.300000      4          True   False   \n",
       "3117             2.60             5   364.038462      5          True   False   \n",
       "15651            3.40             7   258.000000      5          True   False   \n",
       "5358             3.50             6   409.000000      3          True   False   \n",
       "4237             3.00             4   332.000000      3          True   False   \n",
       "8018             4.45             7   301.500000      7          True   False   \n",
       "15016            3.20             7   288.461538      7          True   False   \n",
       "5893             3.00             7   288.461538      7          True   False   \n",
       "12401            4.65             7   347.500000      7          True   False   \n",
       "\n",
       "       open_plan  kitchen_area  balcony    locality_name  airports_nearest  \\\n",
       "19540      False         112.0        0  Санкт-Петербург           30706.0   \n",
       "12859      False          19.5        1  Санкт-Петербург           25707.0   \n",
       "3117       False          60.0        0  Санкт-Петербург           25707.0   \n",
       "15651      False          70.0        0  Санкт-Петербург           32440.0   \n",
       "5358       False         100.0        0  Санкт-Петербург           24447.0   \n",
       "4237       False          22.0        0  Санкт-Петербург           22835.0   \n",
       "8018       False          45.5        1  Санкт-Петербург               NaN   \n",
       "15016      False          87.5        0  Санкт-Петербург           33058.0   \n",
       "5893       False          40.0        0  Санкт-Петербург           32440.0   \n",
       "12401      False          25.0        0  Санкт-Петербург               NaN   \n",
       "\n",
       "       cityCenters_nearest  parks_around3000  parks_nearest  ponds_around3000  \\\n",
       "19540               7877.0                 0            NaN                 2   \n",
       "12859               4972.0                 0            NaN                 2   \n",
       "3117                4972.0                 0            NaN                 2   \n",
       "15651               5297.0                 0            NaN                 2   \n",
       "5358                4666.0                 1          767.0                 0   \n",
       "4237                1847.0                 2          477.0                 2   \n",
       "8018                5735.0                 2          110.0                 0   \n",
       "15016               6150.0                 3          209.0                 3   \n",
       "5893                5297.0                 0            NaN                 2   \n",
       "12401               5735.0                 2          110.0                 0   \n",
       "\n",
       "       ponds_nearest  days_exposition  \n",
       "19540          318.0            106.0  \n",
       "12859          210.0              NaN  \n",
       "3117           210.0              NaN  \n",
       "15651          198.0            111.0  \n",
       "5358             NaN             14.0  \n",
       "4237           540.0              NaN  \n",
       "8018             NaN           1078.0  \n",
       "15016          531.0            303.0  \n",
       "5893           198.0             50.0  \n",
       "12401            NaN             14.0  "
      ]
     },
     "execution_count": 9,
     "metadata": {},
     "output_type": "execute_result"
    }
   ],
   "source": [
    "pd.set_option('display.max_columns', None)\n",
    "df.sort_values(by='total_area', ascending = False).head(10)\n",
    "#Просмотр объявлений с большими площадями"
   ]
  },
  {
   "cell_type": "code",
   "execution_count": 10,
   "metadata": {
    "scrolled": false
   },
   "outputs": [
    {
     "data": {
      "text/plain": [
       "total_images            226\n",
       "last_price              226\n",
       "total_area              226\n",
       "first_day_exposition    226\n",
       "rooms                   226\n",
       "ceiling_height          226\n",
       "floors_total            226\n",
       "living_area             226\n",
       "floor                   226\n",
       "is_apartment            226\n",
       "studio                  226\n",
       "open_plan               226\n",
       "kitchen_area            226\n",
       "balcony                 226\n",
       "locality_name           226\n",
       "airports_nearest        219\n",
       "cityCenters_nearest     222\n",
       "parks_around3000        226\n",
       "parks_nearest           148\n",
       "ponds_around3000        226\n",
       "ponds_nearest           159\n",
       "days_exposition         174\n",
       "dtype: int64"
      ]
     },
     "execution_count": 10,
     "metadata": {},
     "output_type": "execute_result"
    }
   ],
   "source": [
    "df.query('total_area > 200').count()\n",
    "#Количество объявлений с площадью объекта свыше 200кв.м. 226, что составляет всего 1% от общего количества"
   ]
  },
  {
   "cell_type": "code",
   "execution_count": 11,
   "metadata": {},
   "outputs": [
    {
     "data": {
      "text/html": [
       "<div>\n",
       "<style scoped>\n",
       "    .dataframe tbody tr th:only-of-type {\n",
       "        vertical-align: middle;\n",
       "    }\n",
       "\n",
       "    .dataframe tbody tr th {\n",
       "        vertical-align: top;\n",
       "    }\n",
       "\n",
       "    .dataframe thead th {\n",
       "        text-align: right;\n",
       "    }\n",
       "</style>\n",
       "<table border=\"1\" class=\"dataframe\">\n",
       "  <thead>\n",
       "    <tr style=\"text-align: right;\">\n",
       "      <th></th>\n",
       "      <th>total_images</th>\n",
       "      <th>last_price</th>\n",
       "      <th>total_area</th>\n",
       "      <th>first_day_exposition</th>\n",
       "      <th>rooms</th>\n",
       "      <th>ceiling_height</th>\n",
       "      <th>floors_total</th>\n",
       "      <th>living_area</th>\n",
       "      <th>floor</th>\n",
       "      <th>is_apartment</th>\n",
       "      <th>studio</th>\n",
       "      <th>open_plan</th>\n",
       "      <th>kitchen_area</th>\n",
       "      <th>balcony</th>\n",
       "      <th>locality_name</th>\n",
       "      <th>airports_nearest</th>\n",
       "      <th>cityCenters_nearest</th>\n",
       "      <th>parks_around3000</th>\n",
       "      <th>parks_nearest</th>\n",
       "      <th>ponds_around3000</th>\n",
       "      <th>ponds_nearest</th>\n",
       "      <th>days_exposition</th>\n",
       "    </tr>\n",
       "  </thead>\n",
       "  <tbody>\n",
       "    <tr>\n",
       "      <th>12971</th>\n",
       "      <td>19</td>\n",
       "      <td>763000000.0</td>\n",
       "      <td>400.0</td>\n",
       "      <td>2017-09-30</td>\n",
       "      <td>7</td>\n",
       "      <td>2.60</td>\n",
       "      <td>10</td>\n",
       "      <td>250.000000</td>\n",
       "      <td>10</td>\n",
       "      <td>True</td>\n",
       "      <td>False</td>\n",
       "      <td>False</td>\n",
       "      <td>70.0</td>\n",
       "      <td>2</td>\n",
       "      <td>Санкт-Петербург</td>\n",
       "      <td>25108.0</td>\n",
       "      <td>3956.0</td>\n",
       "      <td>1</td>\n",
       "      <td>530.0</td>\n",
       "      <td>3</td>\n",
       "      <td>756.0</td>\n",
       "      <td>33.0</td>\n",
       "    </tr>\n",
       "    <tr>\n",
       "      <th>19540</th>\n",
       "      <td>8</td>\n",
       "      <td>420000000.0</td>\n",
       "      <td>900.0</td>\n",
       "      <td>2017-12-06</td>\n",
       "      <td>12</td>\n",
       "      <td>2.80</td>\n",
       "      <td>25</td>\n",
       "      <td>409.700000</td>\n",
       "      <td>25</td>\n",
       "      <td>True</td>\n",
       "      <td>False</td>\n",
       "      <td>False</td>\n",
       "      <td>112.0</td>\n",
       "      <td>0</td>\n",
       "      <td>Санкт-Петербург</td>\n",
       "      <td>30706.0</td>\n",
       "      <td>7877.0</td>\n",
       "      <td>0</td>\n",
       "      <td>NaN</td>\n",
       "      <td>2</td>\n",
       "      <td>318.0</td>\n",
       "      <td>106.0</td>\n",
       "    </tr>\n",
       "    <tr>\n",
       "      <th>14706</th>\n",
       "      <td>15</td>\n",
       "      <td>401300000.0</td>\n",
       "      <td>401.0</td>\n",
       "      <td>2016-02-20</td>\n",
       "      <td>5</td>\n",
       "      <td>2.55</td>\n",
       "      <td>9</td>\n",
       "      <td>204.000000</td>\n",
       "      <td>9</td>\n",
       "      <td>False</td>\n",
       "      <td>False</td>\n",
       "      <td>False</td>\n",
       "      <td>24.0</td>\n",
       "      <td>3</td>\n",
       "      <td>Санкт-Петербург</td>\n",
       "      <td>21912.0</td>\n",
       "      <td>2389.0</td>\n",
       "      <td>1</td>\n",
       "      <td>545.0</td>\n",
       "      <td>1</td>\n",
       "      <td>478.0</td>\n",
       "      <td>393.0</td>\n",
       "    </tr>\n",
       "    <tr>\n",
       "      <th>1436</th>\n",
       "      <td>19</td>\n",
       "      <td>330000000.0</td>\n",
       "      <td>190.0</td>\n",
       "      <td>2018-04-04</td>\n",
       "      <td>3</td>\n",
       "      <td>3.50</td>\n",
       "      <td>7</td>\n",
       "      <td>95.000000</td>\n",
       "      <td>5</td>\n",
       "      <td>True</td>\n",
       "      <td>False</td>\n",
       "      <td>False</td>\n",
       "      <td>40.0</td>\n",
       "      <td>0</td>\n",
       "      <td>Санкт-Петербург</td>\n",
       "      <td>23011.0</td>\n",
       "      <td>1197.0</td>\n",
       "      <td>3</td>\n",
       "      <td>519.0</td>\n",
       "      <td>3</td>\n",
       "      <td>285.0</td>\n",
       "      <td>233.0</td>\n",
       "    </tr>\n",
       "    <tr>\n",
       "      <th>15651</th>\n",
       "      <td>20</td>\n",
       "      <td>300000000.0</td>\n",
       "      <td>618.0</td>\n",
       "      <td>2017-12-18</td>\n",
       "      <td>7</td>\n",
       "      <td>3.40</td>\n",
       "      <td>7</td>\n",
       "      <td>258.000000</td>\n",
       "      <td>5</td>\n",
       "      <td>True</td>\n",
       "      <td>False</td>\n",
       "      <td>False</td>\n",
       "      <td>70.0</td>\n",
       "      <td>0</td>\n",
       "      <td>Санкт-Петербург</td>\n",
       "      <td>32440.0</td>\n",
       "      <td>5297.0</td>\n",
       "      <td>0</td>\n",
       "      <td>NaN</td>\n",
       "      <td>2</td>\n",
       "      <td>198.0</td>\n",
       "      <td>111.0</td>\n",
       "    </tr>\n",
       "    <tr>\n",
       "      <th>22831</th>\n",
       "      <td>18</td>\n",
       "      <td>289238400.0</td>\n",
       "      <td>187.5</td>\n",
       "      <td>2019-03-19</td>\n",
       "      <td>2</td>\n",
       "      <td>3.37</td>\n",
       "      <td>6</td>\n",
       "      <td>63.700000</td>\n",
       "      <td>6</td>\n",
       "      <td>True</td>\n",
       "      <td>False</td>\n",
       "      <td>False</td>\n",
       "      <td>30.2</td>\n",
       "      <td>0</td>\n",
       "      <td>Санкт-Петербург</td>\n",
       "      <td>22494.0</td>\n",
       "      <td>1073.0</td>\n",
       "      <td>3</td>\n",
       "      <td>386.0</td>\n",
       "      <td>3</td>\n",
       "      <td>188.0</td>\n",
       "      <td>NaN</td>\n",
       "    </tr>\n",
       "    <tr>\n",
       "      <th>16461</th>\n",
       "      <td>17</td>\n",
       "      <td>245000000.0</td>\n",
       "      <td>285.7</td>\n",
       "      <td>2017-04-10</td>\n",
       "      <td>6</td>\n",
       "      <td>3.35</td>\n",
       "      <td>7</td>\n",
       "      <td>182.800000</td>\n",
       "      <td>4</td>\n",
       "      <td>True</td>\n",
       "      <td>False</td>\n",
       "      <td>False</td>\n",
       "      <td>29.8</td>\n",
       "      <td>0</td>\n",
       "      <td>Санкт-Петербург</td>\n",
       "      <td>33143.0</td>\n",
       "      <td>6235.0</td>\n",
       "      <td>3</td>\n",
       "      <td>400.0</td>\n",
       "      <td>3</td>\n",
       "      <td>140.0</td>\n",
       "      <td>249.0</td>\n",
       "    </tr>\n",
       "    <tr>\n",
       "      <th>13749</th>\n",
       "      <td>7</td>\n",
       "      <td>240000000.0</td>\n",
       "      <td>410.0</td>\n",
       "      <td>2017-04-01</td>\n",
       "      <td>6</td>\n",
       "      <td>3.40</td>\n",
       "      <td>7</td>\n",
       "      <td>218.000000</td>\n",
       "      <td>7</td>\n",
       "      <td>True</td>\n",
       "      <td>False</td>\n",
       "      <td>False</td>\n",
       "      <td>40.0</td>\n",
       "      <td>0</td>\n",
       "      <td>Санкт-Петербург</td>\n",
       "      <td>32440.0</td>\n",
       "      <td>5297.0</td>\n",
       "      <td>0</td>\n",
       "      <td>NaN</td>\n",
       "      <td>2</td>\n",
       "      <td>198.0</td>\n",
       "      <td>199.0</td>\n",
       "    </tr>\n",
       "    <tr>\n",
       "      <th>5893</th>\n",
       "      <td>3</td>\n",
       "      <td>230000000.0</td>\n",
       "      <td>500.0</td>\n",
       "      <td>2017-05-31</td>\n",
       "      <td>6</td>\n",
       "      <td>3.00</td>\n",
       "      <td>7</td>\n",
       "      <td>288.461538</td>\n",
       "      <td>7</td>\n",
       "      <td>True</td>\n",
       "      <td>False</td>\n",
       "      <td>False</td>\n",
       "      <td>40.0</td>\n",
       "      <td>0</td>\n",
       "      <td>Санкт-Петербург</td>\n",
       "      <td>32440.0</td>\n",
       "      <td>5297.0</td>\n",
       "      <td>0</td>\n",
       "      <td>NaN</td>\n",
       "      <td>2</td>\n",
       "      <td>198.0</td>\n",
       "      <td>50.0</td>\n",
       "    </tr>\n",
       "    <tr>\n",
       "      <th>8900</th>\n",
       "      <td>13</td>\n",
       "      <td>190870000.0</td>\n",
       "      <td>268.0</td>\n",
       "      <td>2016-03-25</td>\n",
       "      <td>3</td>\n",
       "      <td>3.00</td>\n",
       "      <td>8</td>\n",
       "      <td>132.000000</td>\n",
       "      <td>7</td>\n",
       "      <td>True</td>\n",
       "      <td>False</td>\n",
       "      <td>False</td>\n",
       "      <td>40.0</td>\n",
       "      <td>0</td>\n",
       "      <td>Санкт-Петербург</td>\n",
       "      <td>32440.0</td>\n",
       "      <td>5297.0</td>\n",
       "      <td>0</td>\n",
       "      <td>NaN</td>\n",
       "      <td>2</td>\n",
       "      <td>198.0</td>\n",
       "      <td>901.0</td>\n",
       "    </tr>\n",
       "  </tbody>\n",
       "</table>\n",
       "</div>"
      ],
      "text/plain": [
       "       total_images   last_price  total_area first_day_exposition  rooms  \\\n",
       "12971            19  763000000.0       400.0           2017-09-30      7   \n",
       "19540             8  420000000.0       900.0           2017-12-06     12   \n",
       "14706            15  401300000.0       401.0           2016-02-20      5   \n",
       "1436             19  330000000.0       190.0           2018-04-04      3   \n",
       "15651            20  300000000.0       618.0           2017-12-18      7   \n",
       "22831            18  289238400.0       187.5           2019-03-19      2   \n",
       "16461            17  245000000.0       285.7           2017-04-10      6   \n",
       "13749             7  240000000.0       410.0           2017-04-01      6   \n",
       "5893              3  230000000.0       500.0           2017-05-31      6   \n",
       "8900             13  190870000.0       268.0           2016-03-25      3   \n",
       "\n",
       "       ceiling_height  floors_total  living_area  floor  is_apartment  studio  \\\n",
       "12971            2.60            10   250.000000     10          True   False   \n",
       "19540            2.80            25   409.700000     25          True   False   \n",
       "14706            2.55             9   204.000000      9         False   False   \n",
       "1436             3.50             7    95.000000      5          True   False   \n",
       "15651            3.40             7   258.000000      5          True   False   \n",
       "22831            3.37             6    63.700000      6          True   False   \n",
       "16461            3.35             7   182.800000      4          True   False   \n",
       "13749            3.40             7   218.000000      7          True   False   \n",
       "5893             3.00             7   288.461538      7          True   False   \n",
       "8900             3.00             8   132.000000      7          True   False   \n",
       "\n",
       "       open_plan  kitchen_area  balcony    locality_name  airports_nearest  \\\n",
       "12971      False          70.0        2  Санкт-Петербург           25108.0   \n",
       "19540      False         112.0        0  Санкт-Петербург           30706.0   \n",
       "14706      False          24.0        3  Санкт-Петербург           21912.0   \n",
       "1436       False          40.0        0  Санкт-Петербург           23011.0   \n",
       "15651      False          70.0        0  Санкт-Петербург           32440.0   \n",
       "22831      False          30.2        0  Санкт-Петербург           22494.0   \n",
       "16461      False          29.8        0  Санкт-Петербург           33143.0   \n",
       "13749      False          40.0        0  Санкт-Петербург           32440.0   \n",
       "5893       False          40.0        0  Санкт-Петербург           32440.0   \n",
       "8900       False          40.0        0  Санкт-Петербург           32440.0   \n",
       "\n",
       "       cityCenters_nearest  parks_around3000  parks_nearest  ponds_around3000  \\\n",
       "12971               3956.0                 1          530.0                 3   \n",
       "19540               7877.0                 0            NaN                 2   \n",
       "14706               2389.0                 1          545.0                 1   \n",
       "1436                1197.0                 3          519.0                 3   \n",
       "15651               5297.0                 0            NaN                 2   \n",
       "22831               1073.0                 3          386.0                 3   \n",
       "16461               6235.0                 3          400.0                 3   \n",
       "13749               5297.0                 0            NaN                 2   \n",
       "5893                5297.0                 0            NaN                 2   \n",
       "8900                5297.0                 0            NaN                 2   \n",
       "\n",
       "       ponds_nearest  days_exposition  \n",
       "12971          756.0             33.0  \n",
       "19540          318.0            106.0  \n",
       "14706          478.0            393.0  \n",
       "1436           285.0            233.0  \n",
       "15651          198.0            111.0  \n",
       "22831          188.0              NaN  \n",
       "16461          140.0            249.0  \n",
       "13749          198.0            199.0  \n",
       "5893           198.0             50.0  \n",
       "8900           198.0            901.0  "
      ]
     },
     "execution_count": 11,
     "metadata": {},
     "output_type": "execute_result"
    }
   ],
   "source": [
    "pd.set_option('display.max_columns', None)\n",
    "df.sort_values(by='last_price', ascending = False).head(10)"
   ]
  },
  {
   "cell_type": "code",
   "execution_count": 12,
   "metadata": {},
   "outputs": [
    {
     "data": {
      "text/plain": [
       "total_images            315\n",
       "last_price              315\n",
       "total_area              315\n",
       "first_day_exposition    315\n",
       "rooms                   315\n",
       "ceiling_height          315\n",
       "floors_total            315\n",
       "living_area             315\n",
       "floor                   315\n",
       "is_apartment            315\n",
       "studio                  315\n",
       "open_plan               315\n",
       "kitchen_area            315\n",
       "balcony                 315\n",
       "locality_name           315\n",
       "airports_nearest        303\n",
       "cityCenters_nearest     306\n",
       "parks_around3000        315\n",
       "parks_nearest           230\n",
       "ponds_around3000        315\n",
       "ponds_nearest           245\n",
       "days_exposition         237\n",
       "dtype: int64"
      ]
     },
     "execution_count": 12,
     "metadata": {},
     "output_type": "execute_result"
    }
   ],
   "source": [
    "df.query('last_price/1000000 > 30').count()\n",
    "#Количество объявлений со стоимостью больше 30 миллионов 1.5% от общего количества\n",
    "#Квартиру стоимостью 763 миллиона на 10м этаже, площадью 400 кв.м встретишь не каждый день в объявлениях\n",
    "#Так же как и апартаменты 900 кв.м за 420 миллионов\n",
    "#таких объявлений настолько мало, что анализ по ним проводить нельзя из-за недостатка данных\n"
   ]
  },
  {
   "cell_type": "code",
   "execution_count": 13,
   "metadata": {
    "scrolled": true
   },
   "outputs": [
    {
     "data": {
      "text/html": [
       "<div>\n",
       "<style scoped>\n",
       "    .dataframe tbody tr th:only-of-type {\n",
       "        vertical-align: middle;\n",
       "    }\n",
       "\n",
       "    .dataframe tbody tr th {\n",
       "        vertical-align: top;\n",
       "    }\n",
       "\n",
       "    .dataframe thead th {\n",
       "        text-align: right;\n",
       "    }\n",
       "</style>\n",
       "<table border=\"1\" class=\"dataframe\">\n",
       "  <thead>\n",
       "    <tr style=\"text-align: right;\">\n",
       "      <th></th>\n",
       "      <th>total_images</th>\n",
       "      <th>last_price</th>\n",
       "      <th>total_area</th>\n",
       "      <th>first_day_exposition</th>\n",
       "      <th>rooms</th>\n",
       "      <th>ceiling_height</th>\n",
       "      <th>floors_total</th>\n",
       "      <th>living_area</th>\n",
       "      <th>floor</th>\n",
       "      <th>is_apartment</th>\n",
       "      <th>studio</th>\n",
       "      <th>open_plan</th>\n",
       "      <th>kitchen_area</th>\n",
       "      <th>balcony</th>\n",
       "      <th>locality_name</th>\n",
       "      <th>airports_nearest</th>\n",
       "      <th>cityCenters_nearest</th>\n",
       "      <th>parks_around3000</th>\n",
       "      <th>parks_nearest</th>\n",
       "      <th>ponds_around3000</th>\n",
       "      <th>ponds_nearest</th>\n",
       "      <th>days_exposition</th>\n",
       "    </tr>\n",
       "  </thead>\n",
       "  <tbody>\n",
       "    <tr>\n",
       "      <th>14498</th>\n",
       "      <td>6</td>\n",
       "      <td>32250000.0</td>\n",
       "      <td>374.6</td>\n",
       "      <td>2018-06-09</td>\n",
       "      <td>19</td>\n",
       "      <td>2.60</td>\n",
       "      <td>5</td>\n",
       "      <td>264.5</td>\n",
       "      <td>2</td>\n",
       "      <td>True</td>\n",
       "      <td>False</td>\n",
       "      <td>False</td>\n",
       "      <td>27.6</td>\n",
       "      <td>0</td>\n",
       "      <td>Санкт-Петербург</td>\n",
       "      <td>19497.0</td>\n",
       "      <td>3574.0</td>\n",
       "      <td>0</td>\n",
       "      <td>NaN</td>\n",
       "      <td>2</td>\n",
       "      <td>548.0</td>\n",
       "      <td>114.0</td>\n",
       "    </tr>\n",
       "    <tr>\n",
       "      <th>18848</th>\n",
       "      <td>6</td>\n",
       "      <td>28500000.0</td>\n",
       "      <td>270.0</td>\n",
       "      <td>2015-03-02</td>\n",
       "      <td>16</td>\n",
       "      <td>3.00</td>\n",
       "      <td>4</td>\n",
       "      <td>180.0</td>\n",
       "      <td>4</td>\n",
       "      <td>True</td>\n",
       "      <td>False</td>\n",
       "      <td>False</td>\n",
       "      <td>13.0</td>\n",
       "      <td>1</td>\n",
       "      <td>Санкт-Петербург</td>\n",
       "      <td>23575.0</td>\n",
       "      <td>4142.0</td>\n",
       "      <td>1</td>\n",
       "      <td>516.0</td>\n",
       "      <td>0</td>\n",
       "      <td>NaN</td>\n",
       "      <td>1365.0</td>\n",
       "    </tr>\n",
       "    <tr>\n",
       "      <th>5358</th>\n",
       "      <td>20</td>\n",
       "      <td>65000000.0</td>\n",
       "      <td>590.0</td>\n",
       "      <td>2019-02-14</td>\n",
       "      <td>15</td>\n",
       "      <td>3.50</td>\n",
       "      <td>6</td>\n",
       "      <td>409.0</td>\n",
       "      <td>3</td>\n",
       "      <td>True</td>\n",
       "      <td>False</td>\n",
       "      <td>False</td>\n",
       "      <td>100.0</td>\n",
       "      <td>0</td>\n",
       "      <td>Санкт-Петербург</td>\n",
       "      <td>24447.0</td>\n",
       "      <td>4666.0</td>\n",
       "      <td>1</td>\n",
       "      <td>767.0</td>\n",
       "      <td>0</td>\n",
       "      <td>NaN</td>\n",
       "      <td>14.0</td>\n",
       "    </tr>\n",
       "    <tr>\n",
       "      <th>20829</th>\n",
       "      <td>6</td>\n",
       "      <td>28659000.0</td>\n",
       "      <td>245.4</td>\n",
       "      <td>2016-03-31</td>\n",
       "      <td>14</td>\n",
       "      <td>3.00</td>\n",
       "      <td>4</td>\n",
       "      <td>168.3</td>\n",
       "      <td>2</td>\n",
       "      <td>True</td>\n",
       "      <td>False</td>\n",
       "      <td>False</td>\n",
       "      <td>25.9</td>\n",
       "      <td>0</td>\n",
       "      <td>Санкт-Петербург</td>\n",
       "      <td>21104.0</td>\n",
       "      <td>2054.0</td>\n",
       "      <td>3</td>\n",
       "      <td>541.0</td>\n",
       "      <td>2</td>\n",
       "      <td>118.0</td>\n",
       "      <td>95.0</td>\n",
       "    </tr>\n",
       "    <tr>\n",
       "      <th>866</th>\n",
       "      <td>5</td>\n",
       "      <td>25000000.0</td>\n",
       "      <td>363.0</td>\n",
       "      <td>2017-12-23</td>\n",
       "      <td>14</td>\n",
       "      <td>3.16</td>\n",
       "      <td>5</td>\n",
       "      <td>222.0</td>\n",
       "      <td>4</td>\n",
       "      <td>True</td>\n",
       "      <td>False</td>\n",
       "      <td>False</td>\n",
       "      <td>16.6</td>\n",
       "      <td>0</td>\n",
       "      <td>Санкт-Петербург</td>\n",
       "      <td>38076.0</td>\n",
       "      <td>7950.0</td>\n",
       "      <td>0</td>\n",
       "      <td>NaN</td>\n",
       "      <td>2</td>\n",
       "      <td>435.0</td>\n",
       "      <td>418.0</td>\n",
       "    </tr>\n",
       "    <tr>\n",
       "      <th>19540</th>\n",
       "      <td>8</td>\n",
       "      <td>420000000.0</td>\n",
       "      <td>900.0</td>\n",
       "      <td>2017-12-06</td>\n",
       "      <td>12</td>\n",
       "      <td>2.80</td>\n",
       "      <td>25</td>\n",
       "      <td>409.7</td>\n",
       "      <td>25</td>\n",
       "      <td>True</td>\n",
       "      <td>False</td>\n",
       "      <td>False</td>\n",
       "      <td>112.0</td>\n",
       "      <td>0</td>\n",
       "      <td>Санкт-Петербург</td>\n",
       "      <td>30706.0</td>\n",
       "      <td>7877.0</td>\n",
       "      <td>0</td>\n",
       "      <td>NaN</td>\n",
       "      <td>2</td>\n",
       "      <td>318.0</td>\n",
       "      <td>106.0</td>\n",
       "    </tr>\n",
       "    <tr>\n",
       "      <th>648</th>\n",
       "      <td>3</td>\n",
       "      <td>17500000.0</td>\n",
       "      <td>183.7</td>\n",
       "      <td>2018-07-01</td>\n",
       "      <td>11</td>\n",
       "      <td>3.40</td>\n",
       "      <td>7</td>\n",
       "      <td>138.8</td>\n",
       "      <td>7</td>\n",
       "      <td>True</td>\n",
       "      <td>False</td>\n",
       "      <td>False</td>\n",
       "      <td>13.3</td>\n",
       "      <td>0</td>\n",
       "      <td>Санкт-Петербург</td>\n",
       "      <td>23606.0</td>\n",
       "      <td>3148.0</td>\n",
       "      <td>0</td>\n",
       "      <td>NaN</td>\n",
       "      <td>0</td>\n",
       "      <td>NaN</td>\n",
       "      <td>NaN</td>\n",
       "    </tr>\n",
       "    <tr>\n",
       "      <th>9688</th>\n",
       "      <td>8</td>\n",
       "      <td>33000000.0</td>\n",
       "      <td>194.1</td>\n",
       "      <td>2017-02-07</td>\n",
       "      <td>11</td>\n",
       "      <td>3.43</td>\n",
       "      <td>5</td>\n",
       "      <td>129.0</td>\n",
       "      <td>2</td>\n",
       "      <td>True</td>\n",
       "      <td>False</td>\n",
       "      <td>False</td>\n",
       "      <td>11.9</td>\n",
       "      <td>0</td>\n",
       "      <td>Санкт-Петербург</td>\n",
       "      <td>21469.0</td>\n",
       "      <td>1015.0</td>\n",
       "      <td>1</td>\n",
       "      <td>686.0</td>\n",
       "      <td>2</td>\n",
       "      <td>66.0</td>\n",
       "      <td>813.0</td>\n",
       "    </tr>\n",
       "    <tr>\n",
       "      <th>4149</th>\n",
       "      <td>6</td>\n",
       "      <td>23000000.0</td>\n",
       "      <td>272.6</td>\n",
       "      <td>2018-01-11</td>\n",
       "      <td>10</td>\n",
       "      <td>3.14</td>\n",
       "      <td>7</td>\n",
       "      <td>145.9</td>\n",
       "      <td>7</td>\n",
       "      <td>True</td>\n",
       "      <td>False</td>\n",
       "      <td>False</td>\n",
       "      <td>18.8</td>\n",
       "      <td>1</td>\n",
       "      <td>Санкт-Петербург</td>\n",
       "      <td>10726.0</td>\n",
       "      <td>12169.0</td>\n",
       "      <td>1</td>\n",
       "      <td>191.0</td>\n",
       "      <td>1</td>\n",
       "      <td>531.0</td>\n",
       "      <td>NaN</td>\n",
       "    </tr>\n",
       "    <tr>\n",
       "      <th>18891</th>\n",
       "      <td>11</td>\n",
       "      <td>40000000.0</td>\n",
       "      <td>290.0</td>\n",
       "      <td>2016-06-21</td>\n",
       "      <td>10</td>\n",
       "      <td>3.50</td>\n",
       "      <td>6</td>\n",
       "      <td>189.4</td>\n",
       "      <td>6</td>\n",
       "      <td>True</td>\n",
       "      <td>False</td>\n",
       "      <td>False</td>\n",
       "      <td>30.0</td>\n",
       "      <td>1</td>\n",
       "      <td>Санкт-Петербург</td>\n",
       "      <td>26229.0</td>\n",
       "      <td>4932.0</td>\n",
       "      <td>3</td>\n",
       "      <td>316.0</td>\n",
       "      <td>1</td>\n",
       "      <td>227.0</td>\n",
       "      <td>77.0</td>\n",
       "    </tr>\n",
       "  </tbody>\n",
       "</table>\n",
       "</div>"
      ],
      "text/plain": [
       "       total_images   last_price  total_area first_day_exposition  rooms  \\\n",
       "14498             6   32250000.0       374.6           2018-06-09     19   \n",
       "18848             6   28500000.0       270.0           2015-03-02     16   \n",
       "5358             20   65000000.0       590.0           2019-02-14     15   \n",
       "20829             6   28659000.0       245.4           2016-03-31     14   \n",
       "866               5   25000000.0       363.0           2017-12-23     14   \n",
       "19540             8  420000000.0       900.0           2017-12-06     12   \n",
       "648               3   17500000.0       183.7           2018-07-01     11   \n",
       "9688              8   33000000.0       194.1           2017-02-07     11   \n",
       "4149              6   23000000.0       272.6           2018-01-11     10   \n",
       "18891            11   40000000.0       290.0           2016-06-21     10   \n",
       "\n",
       "       ceiling_height  floors_total  living_area  floor  is_apartment  studio  \\\n",
       "14498            2.60             5        264.5      2          True   False   \n",
       "18848            3.00             4        180.0      4          True   False   \n",
       "5358             3.50             6        409.0      3          True   False   \n",
       "20829            3.00             4        168.3      2          True   False   \n",
       "866              3.16             5        222.0      4          True   False   \n",
       "19540            2.80            25        409.7     25          True   False   \n",
       "648              3.40             7        138.8      7          True   False   \n",
       "9688             3.43             5        129.0      2          True   False   \n",
       "4149             3.14             7        145.9      7          True   False   \n",
       "18891            3.50             6        189.4      6          True   False   \n",
       "\n",
       "       open_plan  kitchen_area  balcony    locality_name  airports_nearest  \\\n",
       "14498      False          27.6        0  Санкт-Петербург           19497.0   \n",
       "18848      False          13.0        1  Санкт-Петербург           23575.0   \n",
       "5358       False         100.0        0  Санкт-Петербург           24447.0   \n",
       "20829      False          25.9        0  Санкт-Петербург           21104.0   \n",
       "866        False          16.6        0  Санкт-Петербург           38076.0   \n",
       "19540      False         112.0        0  Санкт-Петербург           30706.0   \n",
       "648        False          13.3        0  Санкт-Петербург           23606.0   \n",
       "9688       False          11.9        0  Санкт-Петербург           21469.0   \n",
       "4149       False          18.8        1  Санкт-Петербург           10726.0   \n",
       "18891      False          30.0        1  Санкт-Петербург           26229.0   \n",
       "\n",
       "       cityCenters_nearest  parks_around3000  parks_nearest  ponds_around3000  \\\n",
       "14498               3574.0                 0            NaN                 2   \n",
       "18848               4142.0                 1          516.0                 0   \n",
       "5358                4666.0                 1          767.0                 0   \n",
       "20829               2054.0                 3          541.0                 2   \n",
       "866                 7950.0                 0            NaN                 2   \n",
       "19540               7877.0                 0            NaN                 2   \n",
       "648                 3148.0                 0            NaN                 0   \n",
       "9688                1015.0                 1          686.0                 2   \n",
       "4149               12169.0                 1          191.0                 1   \n",
       "18891               4932.0                 3          316.0                 1   \n",
       "\n",
       "       ponds_nearest  days_exposition  \n",
       "14498          548.0            114.0  \n",
       "18848            NaN           1365.0  \n",
       "5358             NaN             14.0  \n",
       "20829          118.0             95.0  \n",
       "866            435.0            418.0  \n",
       "19540          318.0            106.0  \n",
       "648              NaN              NaN  \n",
       "9688            66.0            813.0  \n",
       "4149           531.0              NaN  \n",
       "18891          227.0             77.0  "
      ]
     },
     "execution_count": 13,
     "metadata": {},
     "output_type": "execute_result"
    }
   ],
   "source": [
    "pd.set_option('display.max_columns', None)\n",
    "df.sort_values(by='rooms', ascending = False).head(10)"
   ]
  },
  {
   "cell_type": "code",
   "execution_count": 14,
   "metadata": {
    "scrolled": false
   },
   "outputs": [
    {
     "data": {
      "text/plain": [
       "total_images            194\n",
       "last_price              194\n",
       "total_area              194\n",
       "first_day_exposition    194\n",
       "rooms                   194\n",
       "ceiling_height          194\n",
       "floors_total            194\n",
       "living_area             194\n",
       "floor                   194\n",
       "is_apartment            194\n",
       "studio                  194\n",
       "open_plan               194\n",
       "kitchen_area            194\n",
       "balcony                 194\n",
       "locality_name           194\n",
       "airports_nearest        188\n",
       "cityCenters_nearest     189\n",
       "parks_around3000        194\n",
       "parks_nearest           132\n",
       "ponds_around3000        194\n",
       "ponds_nearest           128\n",
       "days_exposition         137\n",
       "dtype: int64"
      ]
     },
     "execution_count": 14,
     "metadata": {},
     "output_type": "execute_result"
    }
   ],
   "source": [
    "df.query('rooms > 5').count()\n",
    "#19 комнат с общей площадью 375 и 15 комнат с общей площадью 590\n",
    "#В первом случае явно комнаты меньше, хотя среднюю комнату 20 кв.м. не назовешь маленькой\n",
    "# 6 и более комнат только в 194 случаях, что является меньше 1% всех данных"
   ]
  },
  {
   "cell_type": "markdown",
   "metadata": {},
   "source": [
    "После проведенного анализа удалим аномальные значения, чтобы они не повлияли на дальнейшие расчеты"
   ]
  },
  {
   "cell_type": "code",
   "execution_count": 15,
   "metadata": {
    "scrolled": false
   },
   "outputs": [
    {
     "name": "stdout",
     "output_type": "stream",
     "text": [
      "<class 'pandas.core.frame.DataFrame'>\n",
      "Int64Index: 23040 entries, 0 to 23698\n",
      "Data columns (total 22 columns):\n",
      " #   Column                Non-Null Count  Dtype         \n",
      "---  ------                --------------  -----         \n",
      " 0   total_images          23040 non-null  int64         \n",
      " 1   last_price            23040 non-null  float64       \n",
      " 2   total_area            23040 non-null  float64       \n",
      " 3   first_day_exposition  23040 non-null  datetime64[ns]\n",
      " 4   rooms                 23040 non-null  int64         \n",
      " 5   ceiling_height        23040 non-null  float64       \n",
      " 6   floors_total          23040 non-null  int64         \n",
      " 7   living_area           23040 non-null  float64       \n",
      " 8   floor                 23040 non-null  int64         \n",
      " 9   is_apartment          23040 non-null  bool          \n",
      " 10  studio                23040 non-null  bool          \n",
      " 11  open_plan             23040 non-null  bool          \n",
      " 12  kitchen_area          23040 non-null  float64       \n",
      " 13  balcony               23040 non-null  int64         \n",
      " 14  locality_name         23040 non-null  object        \n",
      " 15  airports_nearest      17553 non-null  float64       \n",
      " 16  cityCenters_nearest   17573 non-null  float64       \n",
      " 17  parks_around3000      23040 non-null  int64         \n",
      " 18  parks_nearest         7680 non-null   float64       \n",
      " 19  ponds_around3000      23040 non-null  int64         \n",
      " 20  ponds_nearest         8674 non-null   float64       \n",
      " 21  days_exposition       20000 non-null  float64       \n",
      "dtypes: bool(3), datetime64[ns](1), float64(10), int64(7), object(1)\n",
      "memory usage: 3.6+ MB\n"
     ]
    }
   ],
   "source": [
    "df = df[df.total_area <= 200]\n",
    "df = df[df.last_price <= 30000000]\n",
    "df = df[df.rooms <= 5]\n",
    "df.info()"
   ]
  },
  {
   "cell_type": "markdown",
   "metadata": {},
   "source": [
    "##### Вывод по поиску аномалий"
   ]
  },
  {
   "cell_type": "markdown",
   "metadata": {},
   "source": [
    "1. В результате обаботки были исправлены значения столбца высота потолков. Были исправлены явные ошибки в значениях, остальные значения были удалены, т.к их количество 0.1% от общего, т.е на общий вывод не повлияют.\n",
    "2. Было решено не заменять на первый взгляд аномальные значения в столбцах: living_area, total_area, rooms, kitchen_area. Потому что значения не являются ошибочными, при просмотре этих строк, выявлено, что эти значения вполне правдоподобно выглядят, потому что площади всех вышеуказанных столбцов большие.  \n",
    "   \n",
    "3. Значения в столбце общей площади свыше 200 кв.м выглядят очень большими, они выбиваются из общей картины сильно, поэтому давайте удалим их, далее количество значений увеличивается, и количество данных становиться достаточным для проведения анализа. \n",
    "4. При рассмотрении цены объектов недвижимости так же объявлений с очень большой стоимостью крайне мало. Но прослеживается корреляция значений цены и общей площади, это почти те же строки, что и в предыдущем пункте. Удалим строки с ценой больше 30 миллионов.  \n",
    "5. При рассмотрении количества комнат видно, что количество комнат больше 10 всего 8 объявлений. Так же если отсортировать данные по возрастанию, можно заметить на первый взгляд странные данные с количеством комнат 0, но это квартиры студии. Удалим данные с количеством комнат больше 5.\n",
    "  \n",
    "  \n",
    "  Надеюсь, что не принципиально, что я посчитаю процент удаленных значений здесь, без дополнительной строчки кода: 23040/23699*100% = 3%"
   ]
  },
  {
   "cell_type": "markdown",
   "metadata": {},
   "source": [
    "<div class=\"alert alert-danger\">\n",
    "<b>❌ Комментарий ревьюера v1:</b> \n",
    "<br>Давай детальнее изучим аномалии в некоторых столбцах. Аномальное значение не значит, что оно нереальное или не может существовать. Это значит, что такое значение выделяется на общем фоне и встретить его большая редкость. Посмотри какие значения есть в столбцах со стоимостью квартиры, количеством комнат и общей площадью. Кажется, в них есть значения, которые сильно выделяются на общем фоне (слишком высокие). Не забудь проверить какое количество данных мы в итоге отбрасываем. Это количество не должно превышать 10% от изначального объёма данных. C этим может помочь следующий код\n",
    "\n",
    "\tnew_data.shape[0] / old_data.shape[0]\n",
    "</div>"
   ]
  },
  {
   "cell_type": "markdown",
   "metadata": {},
   "source": [
    "<div class=\"alert alert-info\">\n",
    "<b>Комментарий студента:</b>\n",
    "<br>Рассмотренны значение этажа, общей площади, цены (пункты 3,4,5 вывода), так же расчитан процент количества данных относительно первоначального.  \n",
    "<br>Так же количество крайне больших данных небольшое, оно никак не повлияет на результат исследования, поэтому считаю не целесообразным удалять строки с этими значениями. Зная о их существовании, мы сможем построить графики в таком масштабе, что их будет видно, если нужно, но и уборать их, если они не нужны\n",
    "</div>"
   ]
  },
  {
   "cell_type": "markdown",
   "metadata": {},
   "source": [
    "<div class=\"alert alert-danger\">\n",
    "<b>❌ Комментарий ревьюера v2:</b> \n",
    "<br>А зачем делать лишние действия с графиками если можно сразу на этом этапе удалить аномалии? То что они будут отображаться на графиках это не критично, важнее то, что они могут повлиять на дальнейшие расчеты из-за своего размера. Также с учебной точки зрения важно убедиться, что ты умеешь верно определять границы для аномалий и корректно их удаляешь. Поэтому давай удалим аномалии ещё в трёх столбцах (общая цена, общая площадь, количество комнат)\n",
    "</div>"
   ]
  },
  {
   "cell_type": "markdown",
   "metadata": {},
   "source": [
    "<div class=\"alert alert-info\">\n",
    "<b>Комментарий студента v2:</b>\n",
    "<br>Данные, которые посчитал аномальными удалены!\n",
    "</div>"
   ]
  },
  {
   "cell_type": "markdown",
   "metadata": {},
   "source": [
    "<div class=\"alert alert-success\">\n",
    "<b>✔️ Комментарий ревьюера v3:</b>\n",
    "<br>Отлично! Теперь всё верно)\n",
    "</div>"
   ]
  },
  {
   "cell_type": "markdown",
   "metadata": {},
   "source": [
    "### Расчет новых столбцов и добавление их в таблицу"
   ]
  },
  {
   "cell_type": "code",
   "execution_count": 16,
   "metadata": {},
   "outputs": [],
   "source": [
    "df['price_one_meter'] = df['last_price'] / df['total_area']\n",
    "#Новый столбец с ценой одного метра\n",
    "df['weekday_exposition'] = df['first_day_exposition'].dt.weekday\n",
    "#Столбец дня недели публикации\n",
    "df['month_exposition'] = df['first_day_exposition'].dt.month\n",
    "#Столбец месяца публикации\n",
    "df['year_exposition'] = df['first_day_exposition'].dt.year\n",
    "#Столбец года публикации\n",
    "\n",
    "def floor_x(row):\n",
    "    if row['floor'] == 1:\n",
    "        return 'первый'\n",
    "    elif row['floor'] == row['floors_total']:\n",
    "        return 'последний'\n",
    "    else:\n",
    "        return 'другой'\n",
    "#Функция группировки этажей\n",
    "df['floor_type'] = df.apply(floor_x, axis=1)\n",
    "#Столбец значений этажей\n",
    "\n",
    "df['cityCenters_nearest_km'] = df['cityCenters_nearest'] / 1000\n",
    "df['cityCenters_nearest_km'] = df['cityCenters_nearest_km'].fillna(666)\n",
    "df['cityCenters_nearest_km'] = round(df['cityCenters_nearest_km']).astype(int)\n",
    "#Столбец расстояние до центра города в км, пропуска заменены \"маркером\" 666,\n",
    "#Иначе замена типа была невозможна\n",
    "#так же значения округлены математически верно с помощью функции round"
   ]
  },
  {
   "cell_type": "markdown",
   "metadata": {},
   "source": [
    "#### Вывод расчет новых столбцов"
   ]
  },
  {
   "cell_type": "markdown",
   "metadata": {},
   "source": [
    "В этом пунке были добавлены новые столбцы с данными:\n",
    "1. Цена одного квадратного метра для каждой квариты;\n",
    "2. День недели публикации объявления;\n",
    "3. Месяц публикации объявления;\n",
    "4. Год публикации объявления;\n",
    "5. Тип этажа (как фильтр в извсетных приложениях по продаже недвижимости);\n",
    "6. Расстояние до центра в км.    \n",
    "Все эти столбцы были добавленны для более удобно группировки данных, чтобы можно было проследить какие-либо закономерности."
   ]
  },
  {
   "cell_type": "markdown",
   "metadata": {},
   "source": [
    "<div class=\"alert alert-success\">\n",
    "<b>✔️ Комментарий ревьюера v1:</b> \n",
    "<br>Все необходимые колонки добавлены. Идём дальше)\n",
    "</div>"
   ]
  },
  {
   "cell_type": "markdown",
   "metadata": {},
   "source": [
    "### Исследовательский анализ данных"
   ]
  },
  {
   "cell_type": "markdown",
   "metadata": {},
   "source": [
    "#### Изучение распределения параметров"
   ]
  },
  {
   "cell_type": "markdown",
   "metadata": {},
   "source": [
    "##### Изучение значений площади"
   ]
  },
  {
   "cell_type": "code",
   "execution_count": 17,
   "metadata": {
    "scrolled": false
   },
   "outputs": [
    {
     "data": {
      "image/png": "[encoded data removed]",
      "text/plain": [
       "<Figure size 504x288 with 1 Axes>"
      ]
     },
     "metadata": {
      "needs_background": "light"
     },
     "output_type": "display_data"
    },
    {
     "name": "stdout",
     "output_type": "stream",
     "text": [
      "Общее распределение площади квартир:\n",
      " count    23040.000000\n",
      "mean        57.145307\n",
      "std         24.672087\n",
      "min         12.000000\n",
      "25%         40.000000\n",
      "50%         51.090000\n",
      "75%         68.000000\n",
      "max        200.000000\n",
      "Name: total_area, dtype: float64\n",
      "Наибольшые по площади квартиры:\n",
      " 679      200.0\n",
      "3440     200.0\n",
      "12055    200.0\n",
      "15079    199.2\n",
      "6509     198.9\n",
      "10315    198.0\n",
      "18790    197.2\n",
      "12922    197.0\n",
      "20715    196.0\n",
      "2756     196.0\n",
      "12835    193.2\n",
      "21699    193.0\n",
      "10472    192.1\n",
      "10822    192.0\n",
      "19183    190.0\n",
      "18386    190.0\n",
      "21338    190.0\n",
      "13502    190.0\n",
      "3725     188.0\n",
      "616      187.3\n",
      "Name: total_area, dtype: float64\n"
     ]
    }
   ],
   "source": [
    "import matplotlib.pyplot as plt\n",
    "df.plot(kind ='hist', grid=True, y='total_area', bins=200, figsize=(7, 4), xlim=(20, 200))\n",
    "plt.title('Площадь квартир')\n",
    "plt.xlabel('Квадратные метры')\n",
    "plt.ylabel('Количество объявлений')\n",
    "plt.show()\n",
    "print('Общее распределение площади квартир:\\n', df['total_area'].describe())\n",
    "print('Наибольшые по площади квартиры:\\n', df['total_area'].sort_values(ascending=False).head(20))\n"
   ]
  },
  {
   "cell_type": "markdown",
   "metadata": {},
   "source": [
    "Как мы видим, квартир с большой площадью очень мало, рассмотрев 0.1% случаев, объявлений по возрастанию площади, видно, что эти значения не обязательно рассматривать на графике, если только не сгруппировать их в отдельную группу \"Элитная недвижимость\".\n",
    "Так же как видно по графику, максимальное количество объявлений находится в диапазоне от 40 до 60 кв.м. Это самая ходовая площадь квартир."
   ]
  },
  {
   "cell_type": "markdown",
   "metadata": {},
   "source": [
    "##### Изучение жилой площади"
   ]
  },
  {
   "cell_type": "code",
   "execution_count": 18,
   "metadata": {},
   "outputs": [
    {
     "data": {
      "image/png": "[encoded data removed]",
      "text/plain": [
       "<Figure size 504x288 with 1 Axes>"
      ]
     },
     "metadata": {
      "needs_background": "light"
     },
     "output_type": "display_data"
    },
    {
     "name": "stdout",
     "output_type": "stream",
     "text": [
      "Общее распределение жилой площади квартир:\n",
      " count    23040.000000\n",
      "mean        32.722045\n",
      "std         16.174673\n",
      "min          2.000000\n",
      "25%         18.950000\n",
      "50%         30.000000\n",
      "75%         41.538462\n",
      "max        164.700000\n",
      "Name: living_area, dtype: float64\n",
      "Наибольшые по жилой площади квартиры:\n",
      " 21676    164.7\n",
      "18790    145.4\n",
      "4710     142.0\n",
      "12567    140.0\n",
      "13729    140.0\n",
      "3725     139.0\n",
      "18164    128.0\n",
      "417      126.6\n",
      "15647    126.6\n",
      "15692    125.5\n",
      "2291     125.5\n",
      "670      125.0\n",
      "1067     125.0\n",
      "3119     124.0\n",
      "12042    123.6\n",
      "6980     123.0\n",
      "10074    123.0\n",
      "13344    122.1\n",
      "22803    122.0\n",
      "3352     122.0\n",
      "Name: living_area, dtype: float64\n"
     ]
    }
   ],
   "source": [
    "df.plot(kind ='hist', grid=True, y='living_area', bins=200, figsize=(7, 4), xlim=(5, 100))\n",
    "plt.title('Жилая площадь')\n",
    "plt.xlabel('Квадратные метры')\n",
    "plt.ylabel('Количество объявлений')\n",
    "plt.show()\n",
    "print('Общее распределение жилой площади квартир:\\n', df['living_area'].describe())\n",
    "print('Наибольшые по жилой площади квартиры:\\n', df['living_area'].sort_values(ascending=False).head(20))"
   ]
  },
  {
   "cell_type": "markdown",
   "metadata": {},
   "source": [
    "Сравнивая график общей площади и жилой площади, видна закономерность распределений, так же видно два пика около 17 кв.м. и около 30 кв.м., что соответсвует пикам 40 кв.м. и 60 кв.м. скорее всего однокомнатные и двухкомнатные квартиры. Как и подметил в предыдущем выводе \"Самые ходовые варианты\". "
   ]
  },
  {
   "cell_type": "markdown",
   "metadata": {},
   "source": [
    "##### Изучение площади кухни"
   ]
  },
  {
   "cell_type": "code",
   "execution_count": 19,
   "metadata": {
    "scrolled": false
   },
   "outputs": [
    {
     "data": {
      "image/png": "[encoded data removed]",
      "text/plain": [
       "<Figure size 504x288 with 1 Axes>"
      ]
     },
     "metadata": {
      "needs_background": "light"
     },
     "output_type": "display_data"
    },
    {
     "name": "stdout",
     "output_type": "stream",
     "text": [
      "Общее распределение площади кухни:\n",
      " count    23040.000000\n",
      "mean        10.144166\n",
      "std          4.980094\n",
      "min          1.300000\n",
      "25%          7.000000\n",
      "50%          9.000000\n",
      "75%         11.600000\n",
      "max         65.000000\n",
      "Name: kitchen_area, dtype: float64\n",
      "Наибольшые по площади кухни:\n",
      " 22980    65.0\n",
      "18447    65.0\n",
      "19499    64.0\n",
      "15780    64.0\n",
      "14900    62.5\n",
      "3561     60.0\n",
      "20871    58.0\n",
      "4320     56.2\n",
      "16964    55.7\n",
      "17563    54.2\n",
      "19382    53.0\n",
      "20499    53.0\n",
      "8709     51.0\n",
      "6021     51.0\n",
      "20636    50.2\n",
      "656      50.0\n",
      "5135     50.0\n",
      "511      50.0\n",
      "21331    49.4\n",
      "20284    48.3\n",
      "Name: kitchen_area, dtype: float64\n"
     ]
    }
   ],
   "source": [
    "df.plot(kind ='hist', grid=True, y='kitchen_area', bins=100, figsize=(7, 4), xlim=(3, 30))\n",
    "plt.title('Площадь кухни')\n",
    "plt.xlabel('Квадратные метры')\n",
    "plt.ylabel('Количество объявлений')\n",
    "plt.show()\n",
    "print('Общее распределение площади кухни:\\n', df['kitchen_area'].describe())\n",
    "print('Наибольшые по площади кухни:\\n', df['kitchen_area'].sort_values(ascending=False).head(20))"
   ]
  },
  {
   "cell_type": "markdown",
   "metadata": {},
   "source": [
    "Так же количество слишком больших кухонь мало. Явно виден пик на 6 кв.м., что соответствует старым домам типа: \"Ленинградки\", \"Хрущевки\", такие кухни были в квартирах с разным количеством комнат, поэтому их много.  \n",
    "Далее можно увидеть пик от 8 до 9 кв.м., это уже дома построенные на закате СССР, так называемые \"Панельки\", в домах такого типа площадь кухни была от 8 до 10 кв.м обычно, так же не зависимо от количества комнат в квартире."
   ]
  },
  {
   "cell_type": "markdown",
   "metadata": {},
   "source": [
    "##### Изучение цены объектов"
   ]
  },
  {
   "cell_type": "code",
   "execution_count": 20,
   "metadata": {},
   "outputs": [
    {
     "data": {
      "image/png": "[encoded data removed]",
      "text/plain": [
       "<Figure size 504x288 with 1 Axes>"
      ]
     },
     "metadata": {
      "needs_background": "light"
     },
     "output_type": "display_data"
    },
    {
     "name": "stdout",
     "output_type": "stream",
     "text": [
      "Общее распределение цены недвижимости:\n",
      " count    2.304000e+04\n",
      "mean     5.641604e+06\n",
      "std      3.854016e+06\n",
      "min      1.219000e+04\n",
      "25%      3.400000e+06\n",
      "50%      4.600000e+06\n",
      "75%      6.550000e+06\n",
      "max      3.000000e+07\n",
      "Name: last_price, dtype: float64\n",
      "Наибольшые по цене объекты:\n",
      " 8044     30000000.0\n",
      "3298     30000000.0\n",
      "6421     30000000.0\n",
      "15940    30000000.0\n",
      "10390    30000000.0\n",
      "6509     30000000.0\n",
      "3680     29999000.0\n",
      "6922     29999000.0\n",
      "11530    29999000.0\n",
      "11151    29990000.0\n",
      "17378    29990000.0\n",
      "19773    29900000.0\n",
      "10654    29900000.0\n",
      "20977    29849500.0\n",
      "20775    29800000.0\n",
      "21143    29800000.0\n",
      "13113    29500000.0\n",
      "2414     29500000.0\n",
      "8275     29375000.0\n",
      "21734    29370000.0\n",
      "Name: last_price, dtype: float64\n"
     ]
    }
   ],
   "source": [
    "df.plot(kind ='hist', grid=True, y='last_price', bins=200, figsize=(7, 4), xlim=(0, 30000000))\n",
    "plt.title('Цена недвижимости')\n",
    "plt.xlabel('Рубли')\n",
    "plt.ylabel('Количество объявлений')\n",
    "plt.show()\n",
    "print('Общее распределение цены недвижимости:\\n', df['last_price'].describe())\n",
    "print('Наибольшые по цене объекты:\\n', df['last_price'].sort_values(ascending=False).head(20))"
   ]
  },
  {
   "cell_type": "markdown",
   "metadata": {},
   "source": [
    "<div class=\"alert alert-warning\">\n",
    "<b>⚠️ Комментарий ревьюера v1:</b> \n",
    "<br>Тут можно разделить все значения в столбце last_price на 1 млн, чтобы они пришли в более понятный вид)\n",
    "</div>"
   ]
  },
  {
   "cell_type": "markdown",
   "metadata": {},
   "source": [
    "Как видно пик количества объявлений 3.7 миллиона рублей.  \n",
    "Диапазон от 2.5 до 5 миллиона рублей содержит в себе самое большое количество объявлений.  \n",
    "Недвижимость самая дорогая имеет очень маленькое количество объявлений, неадекватно дорогая \"Элитная недвижимость\", которая не влияет на общее распределение."
   ]
  },
  {
   "cell_type": "markdown",
   "metadata": {},
   "source": [
    "##### Изучение количества комнат"
   ]
  },
  {
   "cell_type": "code",
   "execution_count": 21,
   "metadata": {},
   "outputs": [
    {
     "data": {
      "image/png": "[encoded data removed]",
      "text/plain": [
       "<Figure size 504x288 with 1 Axes>"
      ]
     },
     "metadata": {
      "needs_background": "light"
     },
     "output_type": "display_data"
    }
   ],
   "source": [
    "df.plot(kind ='hist', grid=True, y='rooms', bins=50, figsize=(7, 4), xlim=(-1, 6))\n",
    "plt.title('Количество комнат')\n",
    "plt.xlabel('Комнаты')\n",
    "plt.ylabel('Количество объявлений')\n",
    "plt.show()"
   ]
  },
  {
   "cell_type": "markdown",
   "metadata": {},
   "source": [
    "Как и предполагал ранее, однокомнатные и двухкомнатные квартиры самые ходовые, далее идут трехкомнатные.  \n",
    "Количество объявлений сильно снижается в зависимости от количества комнат.  "
   ]
  },
  {
   "cell_type": "markdown",
   "metadata": {},
   "source": [
    "##### Изучение высоты потолков"
   ]
  },
  {
   "cell_type": "code",
   "execution_count": 22,
   "metadata": {},
   "outputs": [
    {
     "data": {
      "image/png": "[encoded data removed]",
      "text/plain": [
       "<Figure size 504x288 with 1 Axes>"
      ]
     },
     "metadata": {
      "needs_background": "light"
     },
     "output_type": "display_data"
    },
    {
     "name": "stdout",
     "output_type": "stream",
     "text": [
      "Общее распределение высоты потолков:\n",
      " count    23040.000000\n",
      "mean         2.698985\n",
      "std          0.223336\n",
      "min          2.400000\n",
      "25%          2.550000\n",
      "50%          2.650000\n",
      "75%          2.750000\n",
      "max          5.800000\n",
      "Name: ceiling_height, dtype: float64\n",
      "Наибольшые по высоте потолков объекты:\n",
      " 21227    5.80\n",
      "12628    5.30\n",
      "22267    5.00\n",
      "23153    5.00\n",
      "638      5.00\n",
      "1053     5.00\n",
      "8630     5.00\n",
      "17075    5.00\n",
      "2802     4.80\n",
      "19142    4.70\n",
      "6802     4.50\n",
      "10159    4.50\n",
      "14519    4.50\n",
      "2823     4.50\n",
      "3067     4.50\n",
      "11651    4.40\n",
      "4201     4.37\n",
      "10754    4.30\n",
      "17078    4.25\n",
      "7279     4.20\n",
      "Name: ceiling_height, dtype: float64\n"
     ]
    }
   ],
   "source": [
    "df.plot(kind ='hist', grid=True, y='ceiling_height', bins=30, figsize=(7, 4), xlim=(2, 6))\n",
    "plt.title('Высота потолков')\n",
    "plt.xlabel('Метры')\n",
    "plt.ylabel('Количество объявлений')\n",
    "plt.show()\n",
    "print('Общее распределение высоты потолков:\\n', df['ceiling_height'].describe())\n",
    "print('Наибольшые по высоте потолков объекты:\\n', df['ceiling_height'].sort_values(ascending=False).head(20))"
   ]
  },
  {
   "cell_type": "markdown",
   "metadata": {},
   "source": [
    "Самое большое количество недвижимости находится в диапазон высоты потолков от 2.4 до 2.75, это стандартная высота потолков в старых квартирах и новостройках, далее видим небольшой пик в 1800 объявлений около 3.2 метров, возможно это квартиры комфорт класса.  \n",
    "Количество объявлений с высотой потолков свыше 3.5 м крайне мало."
   ]
  },
  {
   "cell_type": "markdown",
   "metadata": {},
   "source": [
    "##### Изучение этажа квартиры"
   ]
  },
  {
   "cell_type": "code",
   "execution_count": 23,
   "metadata": {},
   "outputs": [
    {
     "data": {
      "image/png": "[encoded data removed]",
      "text/plain": [
       "<Figure size 504x288 with 1 Axes>"
      ]
     },
     "metadata": {
      "needs_background": "light"
     },
     "output_type": "display_data"
    },
    {
     "name": "stdout",
     "output_type": "stream",
     "text": [
      "Общее распределение высоты этажей:\n",
      " count    23040.000000\n",
      "mean         5.900521\n",
      "std          4.894033\n",
      "min          1.000000\n",
      "25%          2.000000\n",
      "50%          4.000000\n",
      "75%          8.000000\n",
      "max         33.000000\n",
      "Name: floor, dtype: float64\n",
      "Наибольшые по высоте этажа объекты:\n",
      " 18218    33\n",
      "11575    32\n",
      "18629    31\n",
      "1917     30\n",
      "11079    29\n",
      "16644    27\n",
      "12888    27\n",
      "6157     27\n",
      "7711     27\n",
      "23292    27\n",
      "4091     27\n",
      "13276    27\n",
      "2629     27\n",
      "113      27\n",
      "8496     27\n",
      "19142    26\n",
      "2026     26\n",
      "5749     26\n",
      "18180    26\n",
      "18183    26\n",
      "Name: floor, dtype: int64\n"
     ]
    }
   ],
   "source": [
    "df.plot(kind ='hist', grid=True, y='floor', bins=100, figsize=(7, 4), xlim=(0, 30))\n",
    "plt.title('Номер этажа')\n",
    "plt.xlabel('Этаж')\n",
    "plt.ylabel('Количество объявлений')\n",
    "plt.show()\n",
    "print('Общее распределение высоты этажей:\\n', df['floor'].describe())\n",
    "print('Наибольшые по высоте этажа объекты:\\n', df['floor'].sort_values(ascending=False).head(20))"
   ]
  },
  {
   "cell_type": "markdown",
   "metadata": {},
   "source": [
    "Как видно от 1го до 5го самое больше количество объявлений, потому что есть дома, в которых только 5 этажей.  \n",
    "Так же видно, что в этом распределении, если сгруппировать дома, в которых свыше 15 этажей в группу \"Новостройки\", количество объявлений будет достаточным для того, чтобы повлиять на вывод."
   ]
  },
  {
   "cell_type": "markdown",
   "metadata": {},
   "source": [
    "##### Изучение типа этажа квартиры"
   ]
  },
  {
   "cell_type": "code",
   "execution_count": 24,
   "metadata": {
    "scrolled": true
   },
   "outputs": [
    {
     "data": {
      "text/plain": [
       "<AxesSubplot:ylabel='floor'>"
      ]
     },
     "execution_count": 24,
     "metadata": {},
     "output_type": "execute_result"
    },
    {
     "data": {
      "image/png": "[encoded data removed]",
      "text/plain": [
       "<Figure size 432x288 with 1 Axes>"
      ]
     },
     "metadata": {},
     "output_type": "display_data"
    }
   ],
   "source": [
    "df.groupby(['floor_type']).count().plot(kind='pie', y='floor', autopct='%1.1f%%')"
   ]
  },
  {
   "cell_type": "markdown",
   "metadata": {},
   "source": [
    "Как видно большее количество объявлений \"средних\" этажей, так же видно, что первые и последние этажи встречаются в равном количестве.  \n",
    "Интересно рассмотреть зависимость типа этажа от срока размещения объявления и стоимости"
   ]
  },
  {
   "cell_type": "markdown",
   "metadata": {},
   "source": [
    "##### Изучение общего количества этажей в домах"
   ]
  },
  {
   "cell_type": "code",
   "execution_count": 25,
   "metadata": {
    "scrolled": false
   },
   "outputs": [
    {
     "data": {
      "image/png": "[encoded data removed]",
      "text/plain": [
       "<Figure size 504x288 with 1 Axes>"
      ]
     },
     "metadata": {
      "needs_background": "light"
     },
     "output_type": "display_data"
    },
    {
     "name": "stdout",
     "output_type": "stream",
     "text": [
      "Общее распределение высоты этажей:\n",
      " count    23040.000000\n",
      "mean        10.751345\n",
      "std          6.618407\n",
      "min          1.000000\n",
      "25%          5.000000\n",
      "50%          9.000000\n",
      "75%         16.000000\n",
      "max         60.000000\n",
      "Name: floors_total, dtype: float64\n",
      "Наибольшые по высоте этажа объекты:\n",
      " 2253     60\n",
      "16731    52\n",
      "5807     36\n",
      "11079    36\n",
      "18617    35\n",
      "1060     35\n",
      "18218    35\n",
      "5808     35\n",
      "2966     35\n",
      "20938    35\n",
      "13975    35\n",
      "18629    35\n",
      "12960    35\n",
      "8496     35\n",
      "21599    35\n",
      "14347    35\n",
      "15982    35\n",
      "4855     35\n",
      "12888    35\n",
      "5749     35\n",
      "Name: floors_total, dtype: int64\n"
     ]
    }
   ],
   "source": [
    "df.plot(kind ='hist', grid=True, y='floors_total', bins=30, figsize=(7, 4), xlim=(0, 35))\n",
    "plt.title('Общее количество этажей')\n",
    "plt.xlabel('Этаж')\n",
    "plt.ylabel('Количество объявлений')\n",
    "plt.show()\n",
    "print('Общее распределение высоты этажей:\\n', df['floors_total'].describe())\n",
    "print('Наибольшые по высоте этажа объекты:\\n', df['floors_total'].sort_values(ascending=False).head(20))"
   ]
  },
  {
   "cell_type": "markdown",
   "metadata": {},
   "source": [
    "Как и было сказано ранее в предудущих выводах, самое большое количество объявлений с высотой домов 5-6 этажей, это старые дома \"Хрещевки\" и \"Сталинки\" 6700 объявлений, далее идут \"Панельки\" 9-10 этажей со вторым пиком 5000 обявлений.  \n",
    "Далее более новые дома распределены с количеством объявлений от 500 до 1800.  \n",
    "Виден небольшой скачек в 24 объявления на количестве этажей 35, видимо, это в одном доме/жилом комплексе продавались квартиры."
   ]
  },
  {
   "cell_type": "markdown",
   "metadata": {},
   "source": [
    "##### Изучение расстояния до центра города, до ближайшего парка, до ближайшего аэропорта"
   ]
  },
  {
   "cell_type": "code",
   "execution_count": 26,
   "metadata": {},
   "outputs": [
    {
     "data": {
      "image/png": "[encoded data removed]",
      "text/plain": [
       "<Figure size 504x288 with 1 Axes>"
      ]
     },
     "metadata": {
      "needs_background": "light"
     },
     "output_type": "display_data"
    },
    {
     "name": "stdout",
     "output_type": "stream",
     "text": [
      "Количество пропусков в столбце \"Расстояние до центра\":\n",
      " 5467\n"
     ]
    }
   ],
   "source": [
    "df.plot(kind ='hist', grid=True, y='cityCenters_nearest', bins=30, figsize=(7, 4), xlim=(0, 50000))\n",
    "plt.title('Расстояние до центра')\n",
    "plt.xlabel('Метры')\n",
    "plt.ylabel('Количество объявлений')\n",
    "plt.show()\n",
    "print('Количество пропусков в столбце \"Расстояние до центра\":\\n', df['cityCenters_nearest'].isna().sum())"
   ]
  },
  {
   "cell_type": "markdown",
   "metadata": {},
   "source": [
    "Почти четверть значений пропущены, возможно это из-за того, что объекты этих объявлений находятся в поселках/деревнях.  \n",
    "Самое большое количество значений расположено в диапазоне 10-17 км от центра, это окраина города и близлежащие районы/города за \"КАД\"ом."
   ]
  },
  {
   "cell_type": "code",
   "execution_count": 27,
   "metadata": {},
   "outputs": [
    {
     "data": {
      "image/png": "[encoded data removed]",
      "text/plain": [
       "<Figure size 504x288 with 1 Axes>"
      ]
     },
     "metadata": {
      "needs_background": "light"
     },
     "output_type": "display_data"
    },
    {
     "name": "stdout",
     "output_type": "stream",
     "text": [
      "Количество пропусков в столбце \"Расстояние до аэропорта\":\n",
      " 5487\n"
     ]
    }
   ],
   "source": [
    "df.plot(kind ='hist', grid=True, y='airports_nearest', bins=30, figsize=(7, 4), xlim=(0, 100000))\n",
    "plt.title('Расстояние до аэропорта')\n",
    "plt.xlabel('Метры')\n",
    "plt.ylabel('Количество объявлений')\n",
    "plt.show()\n",
    "print('Количество пропусков в столбце \"Расстояние до аэропорта\":\\n', df['airports_nearest'].isna().sum())"
   ]
  },
  {
   "cell_type": "markdown",
   "metadata": {},
   "source": [
    "Так же как и в предыдущем случае, пропущена четверть значений, скорее всего связано с тем же, что находится очень далеко.  \n",
    "Расстояние от центра Санкт-Петербурга до Пулково 21 км (по данным яндекс карт), большая часть распределения как раз находиться вокруг этого значения.\n"
   ]
  },
  {
   "cell_type": "code",
   "execution_count": 28,
   "metadata": {},
   "outputs": [
    {
     "data": {
      "image/png": "[encoded data removed]",
      "text/plain": [
       "<Figure size 504x288 with 1 Axes>"
      ]
     },
     "metadata": {
      "needs_background": "light"
     },
     "output_type": "display_data"
    },
    {
     "name": "stdout",
     "output_type": "stream",
     "text": [
      "Количество пропусков в столбце \"Расстояние до парка\":\n",
      " 15360\n"
     ]
    }
   ],
   "source": [
    "df.plot(kind ='hist', grid=True, y='parks_nearest', bins=50, figsize=(7, 4), xlim=(-100, 3000))\n",
    "plt.title('Расстояние до парка')\n",
    "plt.xlabel('Метры')\n",
    "plt.ylabel('Количество объявлений')\n",
    "plt.show()\n",
    "print('Количество пропусков в столбце \"Расстояние до парка\":\\n', df['parks_nearest'].isna().sum())"
   ]
  },
  {
   "cell_type": "markdown",
   "metadata": {},
   "source": [
    "Количество пропусков 60%, что вызвано тем, что парков поблизости нет у этого количества объявлений.  \n",
    "Расстояние до парка указали в большинстве своем те объявления, у которых парк находится близко от 0 до 1км.  \n",
    "От 1.5 км до 3км совсем небольшой процент объявлений.\n"
   ]
  },
  {
   "cell_type": "markdown",
   "metadata": {},
   "source": [
    "##### Изучение дня недели и месяца публикации объявлений"
   ]
  },
  {
   "cell_type": "code",
   "execution_count": 29,
   "metadata": {},
   "outputs": [
    {
     "data": {
      "image/png": "[encoded data removed]",
      "text/plain": [
       "<Figure size 504x288 with 1 Axes>"
      ]
     },
     "metadata": {
      "needs_background": "light"
     },
     "output_type": "display_data"
    }
   ],
   "source": [
    "df.plot(kind ='hist', grid=True, y='weekday_exposition', bins=20, figsize=(7, 4), xlim=(-1, 7))\n",
    "plt.title('День публикации объявления')\n",
    "plt.xlabel('День недели')\n",
    "plt.ylabel('Количество объявлений')\n",
    "plt.show()"
   ]
  },
  {
   "cell_type": "code",
   "execution_count": 30,
   "metadata": {
    "scrolled": true
   },
   "outputs": [
    {
     "data": {
      "text/plain": [
       "<AxesSubplot:ylabel='days_exposition'>"
      ]
     },
     "execution_count": 30,
     "metadata": {},
     "output_type": "execute_result"
    },
    {
     "data": {
      "image/png": "[encoded data removed]",
      "text/plain": [
       "<Figure size 432x288 with 1 Axes>"
      ]
     },
     "metadata": {},
     "output_type": "display_data"
    }
   ],
   "source": [
    "df.groupby(['weekday_exposition']).count().plot(kind='pie', y='days_exposition', autopct='%1.1f%%')"
   ]
  },
  {
   "cell_type": "markdown",
   "metadata": {},
   "source": [
    "Как видно из круговой диаграммы и гистограмма, только в выходные дни количество новых объявлений уменьшается в два раза.  \n",
    "Потому что это выходные дни, не рабочие, часть риелторов может не работать, либо показывать ранее выложенные объекты и не добавлять новые объявления."
   ]
  },
  {
   "cell_type": "code",
   "execution_count": 31,
   "metadata": {},
   "outputs": [
    {
     "data": {
      "image/png": "[encoded data removed]",
      "text/plain": [
       "<Figure size 504x288 with 1 Axes>"
      ]
     },
     "metadata": {
      "needs_background": "light"
     },
     "output_type": "display_data"
    }
   ],
   "source": [
    "df.plot(kind ='hist', grid=True, y='month_exposition', bins=50, figsize=(7, 4), xlim=(0, 13))\n",
    "plt.title('Месяц публикации объявления')\n",
    "plt.xlabel('Месяц')\n",
    "plt.ylabel('Количество объявлений')\n",
    "plt.show()"
   ]
  },
  {
   "cell_type": "code",
   "execution_count": 32,
   "metadata": {},
   "outputs": [
    {
     "data": {
      "text/plain": [
       "<AxesSubplot:ylabel='days_exposition'>"
      ]
     },
     "execution_count": 32,
     "metadata": {},
     "output_type": "execute_result"
    },
    {
     "data": {
      "image/png": "[encoded data removed]",
      "text/plain": [
       "<Figure size 432x288 with 1 Axes>"
      ]
     },
     "metadata": {},
     "output_type": "display_data"
    }
   ],
   "source": [
    "df.groupby(['month_exposition']).count().plot(kind='pie', y='days_exposition', autopct='%1.1f%%')"
   ]
  },
  {
   "cell_type": "markdown",
   "metadata": {},
   "source": [
    "Как видно из круговой диаграммы и гистограмма, всплеск количества объявлений мы видим февраль-апрель.  \n",
    "В январе все еще отходят от празников, поэтому количество объявлений небольшое, да и количество праздничных дней в среднем 10, те никто не работает в эти дни.  \n",
    "Второй всплеск появления новых объявлений наблюдается под конец года сентябрь - ноябрь, тоже легко объяснить.  \n",
    "Летом люди на дачах, в отпусках, поэтому не очень хотят заниматься продажей квартир."
   ]
  },
  {
   "cell_type": "markdown",
   "metadata": {},
   "source": [
    "<div class=\"alert alert-success\">\n",
    "<b>✔️ Комментарий ревьюера v1:</b> \n",
    "<br>Ты корректно подбираешь основные диапазоны, а также верно читаешь графики! Отдельный плюс за то, что ты подписываешь графики и их оси\n",
    "</div>"
   ]
  },
  {
   "cell_type": "markdown",
   "metadata": {},
   "source": [
    "#### Изучение скорости продажи квартиры(сколько объявление было активно)"
   ]
  },
  {
   "cell_type": "code",
   "execution_count": 33,
   "metadata": {},
   "outputs": [
    {
     "data": {
      "image/png": "[encoded data removed]",
      "text/plain": [
       "<Figure size 504x288 with 1 Axes>"
      ]
     },
     "metadata": {
      "needs_background": "light"
     },
     "output_type": "display_data"
    },
    {
     "name": "stdout",
     "output_type": "stream",
     "text": [
      "Общее распределение дней размещения:\n",
      " count    20000.000000\n",
      "mean       178.652650\n",
      "std        217.376621\n",
      "min          1.000000\n",
      "25%         44.000000\n",
      "50%         94.000000\n",
      "75%        228.000000\n",
      "max       1580.000000\n",
      "Name: days_exposition, dtype: float64\n",
      "Количество объявлений больше 100 дней:\n",
      " total_images              9630\n",
      "last_price                9630\n",
      "total_area                9630\n",
      "first_day_exposition      9630\n",
      "rooms                     9630\n",
      "ceiling_height            9630\n",
      "floors_total              9630\n",
      "living_area               9630\n",
      "floor                     9630\n",
      "is_apartment              9630\n",
      "studio                    9630\n",
      "open_plan                 9630\n",
      "kitchen_area              9630\n",
      "balcony                   9630\n",
      "locality_name             9630\n",
      "airports_nearest          7414\n",
      "cityCenters_nearest       7425\n",
      "parks_around3000          9630\n",
      "parks_nearest             3343\n",
      "ponds_around3000          9630\n",
      "ponds_nearest             3748\n",
      "days_exposition           9630\n",
      "price_one_meter           9630\n",
      "weekday_exposition        9630\n",
      "month_exposition          9630\n",
      "year_exposition           9630\n",
      "floor_type                9630\n",
      "cityCenters_nearest_km    9630\n",
      "dtype: int64\n"
     ]
    }
   ],
   "source": [
    "df.plot(kind ='hist', grid=True, y='days_exposition', bins=300, figsize=(7, 4), xlim=(0, 500))\n",
    "plt.title('Сколько дней размещено объявление')\n",
    "plt.xlabel('Дни')\n",
    "plt.ylabel('Количество объявлений')\n",
    "plt.show()\n",
    "print('Общее распределение дней размещения:\\n', df['days_exposition'].describe())\n",
    "print('Количество объявлений больше 100 дней:\\n', df.query('days_exposition > 100').count())"
   ]
  },
  {
   "cell_type": "markdown",
   "metadata": {},
   "source": [
    "Медианное значение равно 95 дней(три месяца), а среднее значение равно 180 дней(полгода).  \n",
    "Среднее значение так сильно смещено относительно медианного, потому что половина объявлений (9630) активно более 100 дней и распределение их тянется до 1580, на 75% (правый ус) больше медианного значения в два раза.  \n",
    "Половина всех объектов все таки продаются за полгода и быстрее."
   ]
  },
  {
   "cell_type": "markdown",
   "metadata": {},
   "source": [
    "<div class=\"alert alert-success\">\n",
    "<b>✔️ Комментарий ревьюера v1:</b> \n",
    "<br>Если интересно, то можно посмотреть на диапазон от 0 до 100 дней. Там есть пики, которым можно найти очень логичное объяснение</div>\n",
    "</div>"
   ]
  },
  {
   "cell_type": "markdown",
   "metadata": {},
   "source": [
    "#### Проверка влияния на стоимость различных факторов"
   ]
  },
  {
   "cell_type": "markdown",
   "metadata": {},
   "source": [
    "##### Влияние общей площади"
   ]
  },
  {
   "cell_type": "code",
   "execution_count": 34,
   "metadata": {
    "scrolled": false
   },
   "outputs": [
    {
     "data": {
      "image/png": "[encoded data removed]",
      "text/plain": [
       "<Figure size 504x504 with 1 Axes>"
      ]
     },
     "metadata": {
      "needs_background": "light"
     },
     "output_type": "display_data"
    },
    {
     "name": "stdout",
     "output_type": "stream",
     "text": [
      "Коэффициент Пирсона: \n",
      "\n",
      "0.782461856062099\n"
     ]
    }
   ],
   "source": [
    "(\n",
    "    df.pivot_table(index='total_area', values='last_price', aggfunc='median')\n",
    "    .plot(grid=True, style='o', figsize=(7, 7), xlim=(0, 300), ylim=(0, 30000000))\n",
    ")\n",
    "plt.title('Зависимость цены квартиры от её общей площади')\n",
    "plt.xlabel('Общая площадь')\n",
    "plt.ylabel('Цена квартиры')\n",
    "plt.show()\n",
    "\n",
    "print('Коэффициент Пирсона:','\\n')\n",
    "print(df['total_area'].corr(df['last_price']))"
   ]
  },
  {
   "cell_type": "markdown",
   "metadata": {},
   "source": [
    "Чтобы было лучше видно освновную массу объявлений, исключил аномально большие значение (\"Элитную недвижимость\").  \n",
    "По коэффициенту Пирсона видно, что зависимость между общей площадью и ценой квартиры есть, но не всегда, потому что на цену квартиры могут влиять и другие факторы!"
   ]
  },
  {
   "cell_type": "code",
   "execution_count": 35,
   "metadata": {},
   "outputs": [
    {
     "name": "stdout",
     "output_type": "stream",
     "text": [
      "            last_price  total_area\n",
      "last_price      1.0000      0.9962\n",
      "total_area      0.9962      1.0000\n"
     ]
    }
   ],
   "source": [
    "print(df.pivot_table(index='rooms', values=['total_area', 'last_price'], aggfunc='median').corr())"
   ]
  },
  {
   "cell_type": "markdown",
   "metadata": {},
   "source": [
    "Если почитать коэффицент Пирсона по медианному значению цены и площади, то зависимость становиться прямой.  \n",
    "Это нужно для наглядности того, что для каждой площади существует разброс значений цены"
   ]
  },
  {
   "cell_type": "markdown",
   "metadata": {},
   "source": [
    "##### Влияние жилой площади"
   ]
  },
  {
   "cell_type": "code",
   "execution_count": 36,
   "metadata": {},
   "outputs": [
    {
     "data": {
      "image/png": "[encoded data removed]",
      "text/plain": [
       "<Figure size 504x504 with 1 Axes>"
      ]
     },
     "metadata": {
      "needs_background": "light"
     },
     "output_type": "display_data"
    },
    {
     "name": "stdout",
     "output_type": "stream",
     "text": [
      "Коэффициент Пирсона: \n",
      "\n",
      "0.6732942252011449\n"
     ]
    }
   ],
   "source": [
    "(\n",
    "    df.pivot_table(index='living_area', values='last_price')\n",
    "    .plot(grid=True, style='o', figsize=(7, 7), xlim=(0, 300), ylim=(0, 30000000))\n",
    ")\n",
    "plt.title('Зависимость цены квартиры от её жилой площади')\n",
    "plt.xlabel('Жилая площадь')\n",
    "plt.ylabel('Цена квартиры')\n",
    "plt.show()\n",
    "\n",
    "print('Коэффициент Пирсона:','\\n')\n",
    "print(df['living_area'].corr(df['last_price']))"
   ]
  },
  {
   "cell_type": "markdown",
   "metadata": {},
   "source": [
    "Так же были убраны большие значения, график построим в одном масштабе, чтобы проследить изменение.  \n",
    "Общеем распределение выглядит так же, как и зависимость от общей площади, но так же видно, что график поворачивает в сторону оси y, что сигнализирует об уменьшении корреляции, но она присутствует.  \n",
    "Если после этого, предположения вывести коэффициент Пирсона, то видно, что действительно зависимость уменьшилась."
   ]
  },
  {
   "cell_type": "code",
   "execution_count": 37,
   "metadata": {},
   "outputs": [
    {
     "name": "stdout",
     "output_type": "stream",
     "text": [
      "             last_price  living_area\n",
      "last_price     1.000000     0.994061\n",
      "living_area    0.994061     1.000000\n"
     ]
    }
   ],
   "source": [
    "print(df.pivot_table(index='rooms', values=['living_area', 'last_price'], aggfunc='median').corr())"
   ]
  },
  {
   "cell_type": "markdown",
   "metadata": {},
   "source": [
    "Если почитать коэффицент Пирсона по медианному значению цены и площади, то зависимость становиться прямой.\n",
    "Это нужно для наглядности того, что для каждой площади существует разброс значений цены"
   ]
  },
  {
   "cell_type": "markdown",
   "metadata": {},
   "source": [
    "##### Влияние площади кухни"
   ]
  },
  {
   "cell_type": "code",
   "execution_count": 38,
   "metadata": {},
   "outputs": [
    {
     "data": {
      "image/png": "[encoded data removed]",
      "text/plain": [
       "<Figure size 504x504 with 1 Axes>"
      ]
     },
     "metadata": {
      "needs_background": "light"
     },
     "output_type": "display_data"
    },
    {
     "name": "stdout",
     "output_type": "stream",
     "text": [
      "Коэффициент Пирсона: \n",
      "\n",
      "0.6156401373466811\n"
     ]
    }
   ],
   "source": [
    "(\n",
    "    df.pivot_table(index='kitchen_area', values='last_price')\n",
    "    .plot(grid=True, style='o', figsize=(7, 7), xlim=(0, 300), ylim=(0, 30000000))\n",
    ")\n",
    "plt.title('Зависимость цены квартиры от площади кухни')\n",
    "plt.xlabel('Площадь кухни')\n",
    "plt.ylabel('Цена квартиры')\n",
    "plt.show()\n",
    "\n",
    "print('Коэффициент Пирсона:','\\n')\n",
    "print(df['kitchen_area'].corr(df['last_price']))"
   ]
  },
  {
   "cell_type": "markdown",
   "metadata": {},
   "source": [
    "Так же были убраны большие значения, график построим в одном масштабе, чтобы проследить изменение.  \n",
    "Общеем распределение выглядит так же, как и зависимость от общей площади, но так же видно, что график поворачивает в сторону оси y, что сигнализирует об уменьшении корреляции, но она присутствует.\n",
    "Если после этого, предположения вывести коэффициент Пирсона, то видно, что действительно зависимость уменьшилась."
   ]
  },
  {
   "cell_type": "code",
   "execution_count": 39,
   "metadata": {},
   "outputs": [
    {
     "name": "stdout",
     "output_type": "stream",
     "text": [
      "              kitchen_area  last_price\n",
      "kitchen_area      1.000000    0.922941\n",
      "last_price        0.922941    1.000000\n"
     ]
    }
   ],
   "source": [
    "print(df.pivot_table(index='rooms', values=['kitchen_area', 'last_price'], aggfunc='median').corr())"
   ]
  },
  {
   "cell_type": "markdown",
   "metadata": {},
   "source": [
    "Площади кухонь стандартная в большинстве квартир, так что если взять медианные значение, коэффициент Пирсона увеличивается значительно и зависимость выглядит более явной"
   ]
  },
  {
   "cell_type": "markdown",
   "metadata": {},
   "source": [
    "##### Влияние количества комнат"
   ]
  },
  {
   "cell_type": "code",
   "execution_count": 40,
   "metadata": {},
   "outputs": [
    {
     "data": {
      "image/png": "[encoded data removed]",
      "text/plain": [
       "<Figure size 504x504 with 1 Axes>"
      ]
     },
     "metadata": {
      "needs_background": "light"
     },
     "output_type": "display_data"
    },
    {
     "name": "stdout",
     "output_type": "stream",
     "text": [
      "Коэффициент Пирсона: \n",
      "\n",
      "0.4800130842571072\n"
     ]
    }
   ],
   "source": [
    "(\n",
    "    df.pivot_table(index='rooms', values='last_price')\n",
    "    .plot(grid=True, style='o-', figsize=(7, 7))\n",
    ")\n",
    "plt.title('Зависимость цены квартиры от количества комнат')\n",
    "plt.xlabel('Количество комнат')\n",
    "plt.ylabel('Цена квартиры')\n",
    "plt.show()\n",
    "\n",
    "print('Коэффициент Пирсона:','\\n')\n",
    "print(df['rooms'].corr(df['last_price']))"
   ]
  },
  {
   "cell_type": "markdown",
   "metadata": {},
   "source": [
    "По общему коэффициенту Пирсона взаимосвязь есть, но она совсем не явная.  \n",
    "По графику видно, что цена растет от количества комнат.  \n",
    "Возможно, потому что количество комнат может быть большим, а площадь небольшой относительно этого количества."
   ]
  },
  {
   "cell_type": "markdown",
   "metadata": {},
   "source": [
    "##### Влияние тип этажа"
   ]
  },
  {
   "cell_type": "code",
   "execution_count": 41,
   "metadata": {},
   "outputs": [
    {
     "data": {
      "image/png": "[encoded data removed]",
      "text/plain": [
       "<Figure size 504x504 with 1 Axes>"
      ]
     },
     "metadata": {
      "needs_background": "light"
     },
     "output_type": "display_data"
    }
   ],
   "source": [
    "(\n",
    "    df.pivot_table(index='floor_type', values='last_price', aggfunc='median')\n",
    "    .plot(grid=True, style='o-', figsize=(7, 7))\n",
    ")\n",
    "plt.title('Зависимость цены квартиры от типа этажа')\n",
    "plt.xlabel('Тип этажа')\n",
    "plt.ylabel('Цена квартиры')\n",
    "plt.show()"
   ]
  },
  {
   "cell_type": "markdown",
   "metadata": {},
   "source": [
    "Построим график по сгруппированным медианным значениям, видно, что самая низка цена на первый этаж в домах, а самая высокая цена на \"средние\" этажи."
   ]
  },
  {
   "cell_type": "markdown",
   "metadata": {},
   "source": [
    "##### Влияние даты, месяца, года размещения объявления\n"
   ]
  },
  {
   "cell_type": "code",
   "execution_count": 42,
   "metadata": {},
   "outputs": [
    {
     "data": {
      "image/png": "[encoded data removed]",
      "text/plain": [
       "<Figure size 504x504 with 1 Axes>"
      ]
     },
     "metadata": {
      "needs_background": "light"
     },
     "output_type": "display_data"
    }
   ],
   "source": [
    "(\n",
    "    df.pivot_table(index='weekday_exposition', values='last_price')\n",
    "    .plot(grid=True, style='o-', figsize=(7, 7))\n",
    ")\n",
    "plt.title('Зависимость цены квартиры от дня недели публикации')\n",
    "plt.xlabel('День недели')\n",
    "plt.ylabel('Цена квартиры')\n",
    "plt.show()"
   ]
  },
  {
   "cell_type": "markdown",
   "metadata": {},
   "source": [
    "Никакой линейной зависимости между днем недели и ценой квартиры нет, это очень хорошо видно по графику.  \n",
    "Есть как скачки на графике так и падения."
   ]
  },
  {
   "cell_type": "code",
   "execution_count": 43,
   "metadata": {},
   "outputs": [
    {
     "data": {
      "image/png": "[encoded data removed]",
      "text/plain": [
       "<Figure size 504x504 with 1 Axes>"
      ]
     },
     "metadata": {
      "needs_background": "light"
     },
     "output_type": "display_data"
    }
   ],
   "source": [
    "(\n",
    "    df.pivot_table(index='month_exposition', values='last_price', aggfunc='median')\n",
    "    .plot(grid=True, style='o-', figsize=(7, 7))\n",
    ")\n",
    "plt.title('Зависимость цены квартиры от месяца публикации')\n",
    "plt.xlabel('Месяц')\n",
    "plt.ylabel('Цена квартиры')\n",
    "plt.show()"
   ]
  },
  {
   "cell_type": "markdown",
   "metadata": {},
   "source": [
    "Линейной корреляции нет. Но видно, что есть скачки цены, а есть спады.  \n",
    "Ранее в пункту 4.1.11 изучали зависимость количества объявлений от месяца публикации, на графике так же виден скачек в районе март-апрель, сильный спад летом, потому что рынок недвижимости становиться менее активный в это время, а после осенью опять цены поднимается так же, как и интерес к покупке-продаже"
   ]
  },
  {
   "cell_type": "code",
   "execution_count": 44,
   "metadata": {},
   "outputs": [
    {
     "data": {
      "image/png": "[encoded data removed]",
      "text/plain": [
       "<Figure size 504x504 with 1 Axes>"
      ]
     },
     "metadata": {
      "needs_background": "light"
     },
     "output_type": "display_data"
    },
    {
     "name": "stdout",
     "output_type": "stream",
     "text": [
      "Количество объявлений в каждом году:\n",
      "                 last_price\n",
      "year_exposition            \n",
      "2014                    128\n",
      "2015                   1112\n",
      "2016                   2667\n",
      "2017                   7981\n",
      "2018                   8342\n",
      "2019                   2810\n"
     ]
    }
   ],
   "source": [
    "(\n",
    "    df.pivot_table(index='year_exposition', values='last_price')\n",
    "    .plot(grid=True, style='o-', figsize=(7, 7))\n",
    ")\n",
    "plt.title('Зависимость цены квартиры от года публикации')\n",
    "plt.xlabel('Год')\n",
    "plt.ylabel('Цена квартиры')\n",
    "plt.show()\n",
    "print('Количество объявлений в каждом году:')\n",
    "print(df.pivot_table(index='year_exposition', values='last_price', aggfunc='count'))"
   ]
  },
  {
   "cell_type": "markdown",
   "metadata": {},
   "source": [
    "Линейной корреляции нет как и в предыдущем исследовании зависимости от месяца размещения.  \n",
    "Видим по графику, что с 2014 до 2018 цена падала, но количество объявлений росло, скорее всего связано с кризисом начавшимся с 2014 года, ослабление рубля, снижение стоимости квартир, люди в панике продают недвижимость, но это верно только для средней цены за год, т.е могло увеличиться количесто объявлений мелкой недвижимости, а количество \"Элитной\" уменьшилось.\n"
   ]
  },
  {
   "cell_type": "markdown",
   "metadata": {},
   "source": [
    "<div class=\"alert alert-danger\">\n",
    "<b>❌ Комментарий ревьюера v1:</b> \n",
    "<br>Рассчитывать корреляцию Пирсона для дня недели, месяца и года продажи не эффективно, так как цена в данном случае зависит от них не линейно. Чтобы изучить зависимость для этих параметров лучше построить bar plot или гистограмму рассчитав среднее значение или медиану. Графики у тебя уже есть, поэтому остаётся только удалить расчет корреляции)\n",
    "</div>"
   ]
  },
  {
   "cell_type": "markdown",
   "metadata": {},
   "source": [
    "<div class=\"alert alert-info\">\n",
    "<b>Комментарий студента:</b>\n",
    "<br>Коэффициент Пирсона удален из всех трех исследований\n",
    "</div>"
   ]
  },
  {
   "cell_type": "markdown",
   "metadata": {},
   "source": [
    "<div class=\"alert alert-success\">\n",
    "<b>✔️ Комментарий ревьюера v2:</b>\n",
    "<br>Правка выполнена 👍\n",
    "</div>"
   ]
  },
  {
   "cell_type": "markdown",
   "metadata": {},
   "source": [
    "#### Расчет средней цены одного квадратного метра в 10 населённых пунктах с наибольшим числом объявлений"
   ]
  },
  {
   "cell_type": "code",
   "execution_count": 45,
   "metadata": {},
   "outputs": [
    {
     "name": "stdout",
     "output_type": "stream",
     "text": [
      "Топ 10 населенных пунктов по количетву объявлений:\n",
      "                   price_one_meter_count  price_one_meter_mean\n",
      "locality_name                                                 \n",
      "Санкт-Петербург                    15166         110674.335908\n",
      "поселок Мурино                       552          85629.568678\n",
      "поселок Шушары                       439          78551.344545\n",
      "Всеволожск                           397          68719.320400\n",
      "Пушкин                               363         103213.468857\n",
      "Колпино                              337          75333.295801\n",
      "поселок Парголово                    326          90332.263023\n",
      "Гатчина                              307          68746.146763\n",
      "деревня Кудрово                      299          92473.547576\n",
      "Выборг                               235          58238.143141\n"
     ]
    }
   ],
   "source": [
    "top_ten_locality = df.pivot_table(index = 'locality_name', values = 'price_one_meter', aggfunc=['count', 'mean'])\n",
    "top_ten_locality.columns = ['price_one_meter_count', 'price_one_meter_mean']\n",
    "print('Топ 10 населенных пунктов по количетву объявлений:')\n",
    "print(top_ten_locality.sort_values(by='price_one_meter_count', ascending=False).head(10))"
   ]
  },
  {
   "cell_type": "markdown",
   "metadata": {},
   "source": [
    "Самая высокая стоимость квадратного метра в Санкт-Петербурге, потому что это большой облостной город с развитой инфраструктурой, количество объявлений 15 тысяч, что является 65% всех рассматриваемых данных.    \n",
    "Самая низкая стоимость квадратного метра в городе Выборг, потому что это самый удаленный населенный пункт из представленных в списке \"Топ 10 населенных пунктов по количеству объявлений\".  \n"
   ]
  },
  {
   "cell_type": "markdown",
   "metadata": {},
   "source": [
    "<div class=\"alert alert-success\">\n",
    "<b>✔️ Комментарий ревьюера v1:</b> \n",
    "<br>Всё верно! Как вариант, тут можно построить барплот для топ10 по средней цене, так будет более наглядно)\n",
    "</div>"
   ]
  },
  {
   "cell_type": "markdown",
   "metadata": {},
   "source": [
    "#### Расчет зависимости стоимости квадратного метра недвижимости от расстояния до центра города."
   ]
  },
  {
   "cell_type": "code",
   "execution_count": 46,
   "metadata": {},
   "outputs": [
    {
     "data": {
      "image/png": "[encoded data removed]",
      "text/plain": [
       "<Figure size 504x504 with 1 Axes>"
      ]
     },
     "metadata": {
      "needs_background": "light"
     },
     "output_type": "display_data"
    },
    {
     "name": "stdout",
     "output_type": "stream",
     "text": [
      "Коэффициент Пирсона: \n",
      "\n",
      "                        cityCenters_nearest_km  price_one_meter\n",
      "cityCenters_nearest_km                1.000000        -0.528029\n",
      "price_one_meter                      -0.528029         1.000000\n"
     ]
    }
   ],
   "source": [
    "df.plot(y='price_one_meter', x='cityCenters_nearest_km', grid=True, style='o', figsize=(7, 7), ylim=(0, 400000), xlim=(0, 70))\n",
    "plt.title('Зависимость цены квадратного метра от удаленности от центра')\n",
    "plt.xlabel('Километры')\n",
    "plt.ylabel('Цена квадратного метра')\n",
    "plt.show()\n",
    "\n",
    "print('Коэффициент Пирсона:','\\n')\n",
    "print(df.pivot_table(index='locality_name', values=['price_one_meter', 'cityCenters_nearest_km'], aggfunc='median').corr())"
   ]
  },
  {
   "cell_type": "markdown",
   "metadata": {},
   "source": [
    "Уже по графику и коэффициенту Пирсона видно, что цена падает по удаленности от центра.  \n",
    "Расчитаем численное значение."
   ]
  },
  {
   "cell_type": "code",
   "execution_count": 47,
   "metadata": {},
   "outputs": [
    {
     "name": "stdout",
     "output_type": "stream",
     "text": [
      "Зависимость цены кв.метра от удаленности от центра:\n",
      "                        price_one_meter\n",
      "cityCenters_nearest_km                 \n",
      "0                         120644.997884\n",
      "1                         145152.714700\n",
      "2                         130249.584191\n",
      "3                         118098.419393\n",
      "4                         125534.421646\n",
      "5                         132857.976932\n",
      "6                         131504.292774\n",
      "7                         131672.730867\n",
      "8                         123392.106606\n",
      "9                         112266.532156\n",
      "10                        112734.112416\n",
      "11                        107927.153250\n",
      "12                        107505.222308\n",
      "13                        108146.766369\n",
      "14                        104220.303822\n",
      "15                        104210.318255\n",
      "16                        100497.754342\n",
      "17                         97025.737795\n",
      "18                         96409.578562\n",
      "19                         98658.388032\n",
      "20                        102889.106133\n",
      "21                         94469.584582\n",
      "22                         91330.425050\n",
      "23                         92063.679612\n",
      "24                         85736.904595\n",
      "25                         91531.371618\n",
      "26                         87798.872892\n",
      "27                        132115.709459\n",
      "28                         81161.915320\n",
      "29                         72953.365445\n"
     ]
    }
   ],
   "source": [
    "#dfdf = df.query('locality_name == \"Санкт-Петербург\"')\n",
    "average_price_km = (df.query('locality_name == \"Санкт-Петербург\"')\n",
    "    .pivot_table(index = 'cityCenters_nearest_km', values = 'price_one_meter'))\n",
    "print('Зависимость цены кв.метра от удаленности от центра:')\n",
    "print(average_price_km.head(30))"
   ]
  },
  {
   "cell_type": "markdown",
   "metadata": {},
   "source": [
    "Чем ближе к центру города, тем больше стоит квадратный метр, но с большим отдалением значение меняется незначительно.  \n",
    "Т.е. по значениям видно, что сначала каждый километр может стоить 10-20 тысяч, но после радиуса 10 км, стоимость изменяется намного меньше с каждый километром от 0 до 4 тысяч.  \n",
    "Соответсвенно, цена средней квартиры в \"центре\" (для Санкт-Петербурга можно считать радиус около 6-7 км)  \n",
    "и \"на окраине\" (13-14 кмно внутри КАД), в среднем отличается в 1.3 раза. "
   ]
  },
  {
   "cell_type": "markdown",
   "metadata": {},
   "source": [
    "<div class=\"alert alert-success\">\n",
    "<b>✔️ Комментарий ревьюера v1:</b>\n",
    "<br>Отличный анализ 👍\n",
    "</div>"
   ]
  },
  {
   "cell_type": "markdown",
   "metadata": {},
   "source": [
    "### Общий вывод"
   ]
  },
  {
   "cell_type": "markdown",
   "metadata": {},
   "source": [
    "В начале проекты были изучены данные. В результате предобработки были изменены типы данных в столбцах, которые этого требовали, заменены пропущеные значения в данных, где это было целесообразно и возможно, либо были удалены строки. Так же устранены аномальные значения в столбцах \"Высота потолков\", в столбце \"Название населенного пункта\" значения приведены к общим наименованиям.  \n",
    "  \n",
    "После предобработки были добавлены дополнительные столбцы: \"Цена одного квадратного метра\", \"День недели публикации объявления\", \"Месяц публикации объявления\", \"Год публикации объявления\", \"Тип этажа\", \"Расстояние до центра города в км\". Это было нужно, чтобы изучить зависимости интересующие нас в исследовательском анализе.  \n",
    "  \n",
    "В результате исследователького анализа было выяснено:\n",
    "1. Больше всего на цену квартиры влияет общая площадь и площадь кухни, наибольшее количество объявлений в диапазоне 40-60 кв.м;\n",
    "2. Стоимость самой продоваемой квартиры (большее количество объявлений), находится в диапазоне 4.5-6 миллионов;\n",
    "3. 90% объявлений о продаже однокомнатных, двухкомнатных и трехкомнатных квартир,  влияние этажа на цену средней квартиры есть, но зависимость на прямая;\n",
    "4. Чаще продают \"вторичку\" (квартиры в старых домах 5ти, 9-12ти этажных домах);\n",
    "5. В субботу и воскресенье публикуют меньшее количество объявлений, чем в другие дни;\n",
    "6. В декабре, январе и в летний период: май, июнь, июль, август, публикуют меньше объявлений;\n",
    "7. Корреляции между месяцем, днем недели, годом и ценой квартиры нет;\n",
    "8. Самый дорогой средний кв.м. в Санкт-Петербурге, он равен 115 тысяч, чем дальше от Санкт-Петербурга находится населенный пункт, тем меньше там стоит кв.м.;\n",
    "9. Зависимость стоимости кв.м. в Санкт-Петербурге от расстояние до центра видна отрицательная корреляция, т.е чем дальше от центра города, тем дешевле кв.м.\n",
    "10. На первом этаже продаются самые дешевые квартиры, если рассматривать зависимость от этажа.\n"
   ]
  },
  {
   "cell_type": "markdown",
   "metadata": {},
   "source": [
    "<div class=\"alert alert-danger\">\n",
    "<b>❌ Итоговый комментарий ревьюера v1:</b> \n",
    "<br>Необходимо поправить:\n",
    "<br>- отбросить аномальные значения \n",
    "<br>- удалить расчет корреляции для времени продажи\n",
    "\n",
    "<br>После всех внесённых правок не забудь поправить выводы там, где это необходимо\n",
    "</div>"
   ]
  },
  {
   "cell_type": "markdown",
   "metadata": {},
   "source": [
    "<div class=\"alert alert-info\">\n",
    "<b>Комментарий студента:</b>\n",
    "<br>Комментарии учтены, задания исправлены\n",
    "</div>"
   ]
  },
  {
   "cell_type": "markdown",
   "metadata": {},
   "source": [
    "<div class=\"alert alert-danger\">\n",
    "<b>❌ Итоговый комментарий ревьюера v2:</b> \n",
    "<br>Необходимо поправить:\n",
    "<br>- отбросить аномальные значения \n",
    "\n",
    "<br>После всех внесённых правок не забудь поправить выводы там, где это необходимо\n",
    "</div>"
   ]
  },
  {
   "cell_type": "markdown",
   "metadata": {},
   "source": [
    "<div class=\"alert alert-info\">\n",
    "<b>Комментарий студента v2:</b>\n",
    "<br> Аномальные значения выделены и удалены из общих данных.\n",
    "<br> Благодря этому поменялись некоторые данные, разница между средним и медианным значение сократилась до минимума.\n",
    "<br> Коэффициенты Пирсона увеличились в зависимостях Стоимость квартиры - общая площадь, жилая площадь, площадь кухни, количество комнат, потому что мы убрали слишком большие значения.\n",
    "<br> Так же исправлены выводы в изучении площадей, цены, количества комнат и в проверке влияния площади, количества комнат.\n",
    "</div>"
   ]
  },
  {
   "cell_type": "markdown",
   "metadata": {},
   "source": [
    "<div class=\"alert alert-success\">\n",
    "<b>✔️ Итоговый комментарий ревьюера v3:</b>\n",
    "<br>Все правки выполнены. Молодец!\n",
    "<br>Я рад был поработать над проверкой твоей работы) В качестве дополнительного материала для изучения могу порекомендовать следующий ресурс:\n",
    "\n",
    "\thttps://www.python-graph-gallery.com/\n",
    "<br>В нем содержится большая библиотека графиков с готовым кодом, который можно использовать при работе.\n",
    "<br>Поздравляю со сдачей проекта и желаю удачи в дальнейшем обучении! 😉    \n",
    "</div>"
   ]
  },
  {
   "cell_type": "markdown",
   "metadata": {},
   "source": [
    "**Чек-лист готовности проекта**\n",
    "\n",
    "Поставьте 'x' в выполненных пунктах. Далее нажмите Shift+Enter."
   ]
  },
  {
   "cell_type": "markdown",
   "metadata": {},
   "source": [
    "- [x]  открыт файл\n",
    "- [x]  файлы изучены (выведены первые строки, метод `info()`, гистограммы и т.д.)\n",
    "- [x]  определены пропущенные значения\n",
    "- [x]  заполнены пропущенные значения там, где это возможно\n",
    "- [x]  есть пояснение, какие пропущенные значения обнаружены\n",
    "- [x]  изменены типы данных\n",
    "- [x]  есть пояснение, в каких столбцах изменены типы и почему\n",
    "- [x]  устранены неявные дубликаты в названиях населённых пунктов\n",
    "- [x]  устранены редкие и выбивающиеся значения (аномалии) во всех столбцах\n",
    "- [x]  посчитано и добавлено в таблицу: цена одного квадратного метра\n",
    "- [x]  посчитано и добавлено в таблицу: день публикации объявления (0 - понедельник, 1 - вторник и т.д.)\n",
    "- [x]  посчитано и добавлено в таблицу: месяц публикации объявления\n",
    "- [x]  посчитано и добавлено в таблицу: год публикации объявления\n",
    "- [x]  посчитано и добавлено в таблицу: тип этажа квартиры (значения — «первый», «последний», «другой»)\n",
    "- [x]  посчитано и добавлено в таблицу: расстояние в км до центра города\n",
    "- [x]  изучены и описаны следующие параметры:\n",
    "        - общая площадь;\n",
    "        - жилая площадь;\n",
    "        - площадь кухни;\n",
    "        - цена объекта;\n",
    "        - количество комнат;\n",
    "        - высота потолков;\n",
    "        - этаж квартиры;\n",
    "        - тип этажа квартиры («первый», «последний», «другой»);\n",
    "        - общее количество этажей в доме;\n",
    "        - расстояние до центра города в метрах;\n",
    "        - расстояние до ближайшего аэропорта;\n",
    "        - расстояние до ближайшего парка;\n",
    "        - день и месяц публикации объявления\n",
    "- [x]  построены гистограммы для каждого параметра\n",
    "- [x]  выполнено задание: \"Изучите, как быстро продавались квартиры (столбец days_exposition). Этот параметр показывает, сколько дней «висело» каждое объявление.\n",
    "    - Постройте гистограмму.\n",
    "    - Посчитайте среднее и медиану.\n",
    "    - В ячейке типа markdown опишите, сколько обычно занимает продажа. Какие продажи можно считать быстрыми, а какие — необычно долгими?\"\n",
    "- [x]  выполнено задание: \"Какие факторы больше всего влияют на общую (полную) стоимость объекта? Постройте графики, которые покажут зависимость цены от указанных ниже параметров. Для подготовки данных перед визуализацией вы можете использовать сводные таблицы.\"\n",
    "        - общей площади;\n",
    "        - жилой площади;\n",
    "        - площади кухни;\n",
    "        - количество комнат;\n",
    "        - типа этажа, на котором расположена квартира (первый, последний, другой);\n",
    "        - даты размещения (день недели, месяц, год);\n",
    "- [x]  выполнено задание: \"Посчитайте среднюю цену одного квадратного метра в 10 населённых пунктах с наибольшим числом объявлений. Выделите населённые пункты с самой высокой и низкой стоимостью квадратного метра. Эти данные можно найти по имени в столбце `locality_name`.\"\n",
    "- [x]  выполнено задание: \"Ранее вы посчитали расстояние до центра в километрах. Теперь выделите квартиры в Санкт-Петербурге с помощью столбца `locality_name` и вычислите среднюю цену каждого километра. Опишите, как стоимость объектов зависит от расстояния до центра города.\"\n",
    "- [x]  в каждом этапе есть промежуточные выводы\n",
    "- [x]  есть общий вывод"
   ]
  },
  {
   "cell_type": "code",
   "execution_count": null,
   "metadata": {},
   "outputs": [],
   "source": []
  }
 ],
 "metadata": {
  "ExecuteTimeLog": [
   {
    "duration": 713,
    "start_time": "2023-08-04T09:39:07.946Z"
   },
   {
    "duration": 97,
    "start_time": "2023-08-04T09:44:59.546Z"
   },
   {
    "duration": 117,
    "start_time": "2023-08-04T09:45:22.372Z"
   },
   {
    "duration": 2651,
    "start_time": "2023-08-04T10:36:12.536Z"
   },
   {
    "duration": 2178,
    "start_time": "2023-08-04T10:36:57.301Z"
   },
   {
    "duration": 26,
    "start_time": "2023-08-04T10:57:11.586Z"
   },
   {
    "duration": 13,
    "start_time": "2023-08-04T10:57:49.756Z"
   },
   {
    "duration": 10,
    "start_time": "2023-08-04T10:58:49.812Z"
   },
   {
    "duration": 6,
    "start_time": "2023-08-04T11:59:22.203Z"
   },
   {
    "duration": 70,
    "start_time": "2023-08-04T11:59:43.645Z"
   },
   {
    "duration": 2020,
    "start_time": "2023-08-04T11:59:51.193Z"
   },
   {
    "duration": 9,
    "start_time": "2023-08-04T11:59:53.215Z"
   },
   {
    "duration": 27,
    "start_time": "2023-08-04T11:59:53.226Z"
   },
   {
    "duration": 66,
    "start_time": "2023-08-06T12:12:07.618Z"
   },
   {
    "duration": 6,
    "start_time": "2023-08-06T12:12:19.046Z"
   },
   {
    "duration": 3349,
    "start_time": "2023-08-06T12:12:23.238Z"
   },
   {
    "duration": 14,
    "start_time": "2023-08-06T12:12:26.590Z"
   },
   {
    "duration": 13,
    "start_time": "2023-08-06T12:12:26.607Z"
   },
   {
    "duration": 10,
    "start_time": "2023-08-06T12:12:40.102Z"
   },
   {
    "duration": 7,
    "start_time": "2023-08-06T12:14:35.225Z"
   },
   {
    "duration": 5,
    "start_time": "2023-08-06T12:15:17.920Z"
   },
   {
    "duration": 6,
    "start_time": "2023-08-06T12:17:52.389Z"
   },
   {
    "duration": 13,
    "start_time": "2023-08-06T12:22:11.664Z"
   },
   {
    "duration": 8,
    "start_time": "2023-08-06T12:22:39.750Z"
   },
   {
    "duration": 40,
    "start_time": "2023-08-06T12:23:19.107Z"
   },
   {
    "duration": 5,
    "start_time": "2023-08-06T12:23:27.911Z"
   },
   {
    "duration": 7,
    "start_time": "2023-08-06T12:25:21.300Z"
   },
   {
    "duration": 14,
    "start_time": "2023-08-06T12:26:42.028Z"
   },
   {
    "duration": 10,
    "start_time": "2023-08-06T12:27:43.028Z"
   },
   {
    "duration": 49,
    "start_time": "2023-08-06T15:59:28.242Z"
   },
   {
    "duration": 3313,
    "start_time": "2023-08-06T15:59:34.880Z"
   },
   {
    "duration": 13,
    "start_time": "2023-08-06T15:59:38.196Z"
   },
   {
    "duration": 40,
    "start_time": "2023-08-06T15:59:38.211Z"
   },
   {
    "duration": 2131,
    "start_time": "2023-08-06T15:59:51.814Z"
   },
   {
    "duration": 15,
    "start_time": "2023-08-06T15:59:53.947Z"
   },
   {
    "duration": 15,
    "start_time": "2023-08-06T15:59:53.963Z"
   },
   {
    "duration": 17,
    "start_time": "2023-08-06T16:02:02.513Z"
   },
   {
    "duration": 16,
    "start_time": "2023-08-06T16:05:03.272Z"
   },
   {
    "duration": 26,
    "start_time": "2023-08-06T16:10:40.586Z"
   },
   {
    "duration": 2170,
    "start_time": "2023-08-06T16:10:47.364Z"
   },
   {
    "duration": 20,
    "start_time": "2023-08-06T16:10:49.536Z"
   },
   {
    "duration": 23,
    "start_time": "2023-08-06T16:10:49.558Z"
   },
   {
    "duration": 24,
    "start_time": "2023-08-06T16:11:20.944Z"
   },
   {
    "duration": 2066,
    "start_time": "2023-08-06T16:11:25.326Z"
   },
   {
    "duration": 10,
    "start_time": "2023-08-06T16:11:27.394Z"
   },
   {
    "duration": 24,
    "start_time": "2023-08-06T16:11:27.406Z"
   },
   {
    "duration": 24,
    "start_time": "2023-08-06T16:12:25.245Z"
   },
   {
    "duration": 2201,
    "start_time": "2023-08-06T16:12:29.245Z"
   },
   {
    "duration": 15,
    "start_time": "2023-08-06T16:12:31.449Z"
   },
   {
    "duration": 52,
    "start_time": "2023-08-06T16:12:31.466Z"
   },
   {
    "duration": 1970,
    "start_time": "2023-08-06T16:12:49.173Z"
   },
   {
    "duration": 18,
    "start_time": "2023-08-06T16:12:51.145Z"
   },
   {
    "duration": 28,
    "start_time": "2023-08-06T16:12:51.165Z"
   },
   {
    "duration": 2270,
    "start_time": "2023-08-06T16:13:10.648Z"
   },
   {
    "duration": 10,
    "start_time": "2023-08-06T16:13:12.920Z"
   },
   {
    "duration": 129,
    "start_time": "2023-08-06T16:13:12.931Z"
   },
   {
    "duration": 22,
    "start_time": "2023-08-06T16:13:36.509Z"
   },
   {
    "duration": 21,
    "start_time": "2023-08-06T16:13:45.057Z"
   },
   {
    "duration": 19,
    "start_time": "2023-08-06T16:17:07.540Z"
   },
   {
    "duration": 2240,
    "start_time": "2023-08-06T16:17:19.174Z"
   },
   {
    "duration": 9,
    "start_time": "2023-08-06T16:17:21.416Z"
   },
   {
    "duration": 31,
    "start_time": "2023-08-06T16:17:21.427Z"
   },
   {
    "duration": 15,
    "start_time": "2023-08-06T16:17:33.169Z"
   },
   {
    "duration": 18,
    "start_time": "2023-08-06T16:18:11.397Z"
   },
   {
    "duration": 25,
    "start_time": "2023-08-06T16:18:18.531Z"
   },
   {
    "duration": 24,
    "start_time": "2023-08-06T16:18:39.192Z"
   },
   {
    "duration": 21,
    "start_time": "2023-08-06T16:20:17.283Z"
   },
   {
    "duration": 29,
    "start_time": "2023-08-06T16:20:49.115Z"
   },
   {
    "duration": 55,
    "start_time": "2023-08-06T16:21:10.390Z"
   },
   {
    "duration": 62,
    "start_time": "2023-08-06T16:21:26.181Z"
   },
   {
    "duration": 28,
    "start_time": "2023-08-06T16:22:04.973Z"
   },
   {
    "duration": 28,
    "start_time": "2023-08-06T16:29:55.584Z"
   },
   {
    "duration": 32,
    "start_time": "2023-08-06T16:30:48.791Z"
   },
   {
    "duration": 27,
    "start_time": "2023-08-06T16:31:47.261Z"
   },
   {
    "duration": 15,
    "start_time": "2023-08-06T16:32:47.431Z"
   },
   {
    "duration": 21,
    "start_time": "2023-08-06T16:38:34.557Z"
   },
   {
    "duration": 18,
    "start_time": "2023-08-06T16:38:47.325Z"
   },
   {
    "duration": 18,
    "start_time": "2023-08-06T16:39:23.879Z"
   },
   {
    "duration": 19,
    "start_time": "2023-08-06T16:41:31.336Z"
   },
   {
    "duration": 289,
    "start_time": "2023-08-06T16:51:06.390Z"
   },
   {
    "duration": 27,
    "start_time": "2023-08-06T16:52:41.425Z"
   },
   {
    "duration": 32,
    "start_time": "2023-08-06T16:52:47.228Z"
   },
   {
    "duration": 2075,
    "start_time": "2023-08-06T16:52:59.642Z"
   },
   {
    "duration": 12,
    "start_time": "2023-08-06T16:53:01.720Z"
   },
   {
    "duration": 52,
    "start_time": "2023-08-06T16:53:01.734Z"
   },
   {
    "duration": 22,
    "start_time": "2023-08-06T16:54:39.077Z"
   },
   {
    "duration": 30,
    "start_time": "2023-08-06T16:54:45.781Z"
   },
   {
    "duration": 77,
    "start_time": "2023-08-06T17:09:00.076Z"
   },
   {
    "duration": 47,
    "start_time": "2023-08-06T17:15:47.332Z"
   },
   {
    "duration": 36,
    "start_time": "2023-08-06T17:16:15.287Z"
   },
   {
    "duration": 47,
    "start_time": "2023-08-06T17:17:23.843Z"
   },
   {
    "duration": 50,
    "start_time": "2023-08-06T17:17:39.200Z"
   },
   {
    "duration": 56,
    "start_time": "2023-08-06T17:18:52.872Z"
   },
   {
    "duration": 53,
    "start_time": "2023-08-06T17:20:48.796Z"
   },
   {
    "duration": 45,
    "start_time": "2023-08-06T17:21:03.995Z"
   },
   {
    "duration": 26,
    "start_time": "2023-08-06T17:26:50.330Z"
   },
   {
    "duration": 45,
    "start_time": "2023-08-06T17:27:04.014Z"
   },
   {
    "duration": 343,
    "start_time": "2023-08-06T17:35:19.406Z"
   },
   {
    "duration": 46,
    "start_time": "2023-08-06T17:35:22.179Z"
   },
   {
    "duration": 2104,
    "start_time": "2023-08-06T17:35:31.181Z"
   },
   {
    "duration": 10,
    "start_time": "2023-08-06T17:35:33.287Z"
   },
   {
    "duration": 62,
    "start_time": "2023-08-06T17:35:33.299Z"
   },
   {
    "duration": 48,
    "start_time": "2023-08-06T17:35:42.395Z"
   },
   {
    "duration": 8,
    "start_time": "2023-08-06T17:37:43.254Z"
   },
   {
    "duration": 18,
    "start_time": "2023-08-06T17:38:12.259Z"
   },
   {
    "duration": 37,
    "start_time": "2023-08-06T17:51:29.564Z"
   },
   {
    "duration": 61,
    "start_time": "2023-08-06T17:52:06.628Z"
   },
   {
    "duration": 85,
    "start_time": "2023-08-06T17:52:39.714Z"
   },
   {
    "duration": 129,
    "start_time": "2023-08-06T18:10:47.122Z"
   },
   {
    "duration": 105,
    "start_time": "2023-08-06T18:12:47.010Z"
   },
   {
    "duration": 104,
    "start_time": "2023-08-06T18:13:36.489Z"
   },
   {
    "duration": 20,
    "start_time": "2023-08-06T18:45:05.137Z"
   },
   {
    "duration": 60,
    "start_time": "2023-08-06T18:46:54.838Z"
   },
   {
    "duration": 56,
    "start_time": "2023-08-06T18:51:11.358Z"
   },
   {
    "duration": 49,
    "start_time": "2023-08-07T05:24:52.400Z"
   },
   {
    "duration": 3499,
    "start_time": "2023-08-07T05:25:00.552Z"
   },
   {
    "duration": 17,
    "start_time": "2023-08-07T05:25:04.055Z"
   },
   {
    "duration": 84,
    "start_time": "2023-08-07T05:25:04.075Z"
   },
   {
    "duration": 136,
    "start_time": "2023-08-07T05:25:04.162Z"
   },
   {
    "duration": 8,
    "start_time": "2023-08-07T05:25:04.300Z"
   },
   {
    "duration": 2583,
    "start_time": "2023-08-07T05:26:26.024Z"
   },
   {
    "duration": 10,
    "start_time": "2023-08-07T05:26:28.609Z"
   },
   {
    "duration": 64,
    "start_time": "2023-08-07T05:26:28.621Z"
   },
   {
    "duration": 126,
    "start_time": "2023-08-07T05:26:28.687Z"
   },
   {
    "duration": 45,
    "start_time": "2023-08-07T05:26:28.816Z"
   },
   {
    "duration": 2390,
    "start_time": "2023-08-07T05:26:41.625Z"
   },
   {
    "duration": 10,
    "start_time": "2023-08-07T05:26:44.017Z"
   },
   {
    "duration": 67,
    "start_time": "2023-08-07T05:26:44.028Z"
   },
   {
    "duration": 133,
    "start_time": "2023-08-07T05:26:44.098Z"
   },
   {
    "duration": 10,
    "start_time": "2023-08-07T05:26:44.233Z"
   },
   {
    "duration": 2335,
    "start_time": "2023-08-07T05:27:24.608Z"
   },
   {
    "duration": 11,
    "start_time": "2023-08-07T05:27:26.945Z"
   },
   {
    "duration": 222,
    "start_time": "2023-08-07T05:27:26.958Z"
   },
   {
    "duration": 128,
    "start_time": "2023-08-07T05:27:27.182Z"
   },
   {
    "duration": 14,
    "start_time": "2023-08-07T05:27:27.312Z"
   },
   {
    "duration": 13,
    "start_time": "2023-08-07T05:28:04.210Z"
   },
   {
    "duration": 11,
    "start_time": "2023-08-07T05:28:15.482Z"
   },
   {
    "duration": 9,
    "start_time": "2023-08-07T05:28:54.154Z"
   },
   {
    "duration": 182,
    "start_time": "2023-08-07T05:37:30.061Z"
   },
   {
    "duration": 187,
    "start_time": "2023-08-07T05:37:38.366Z"
   },
   {
    "duration": 252,
    "start_time": "2023-08-07T05:41:30.272Z"
   },
   {
    "duration": 142,
    "start_time": "2023-08-07T05:43:57.537Z"
   },
   {
    "duration": 157,
    "start_time": "2023-08-07T05:44:12.500Z"
   },
   {
    "duration": 156,
    "start_time": "2023-08-07T05:44:54.293Z"
   },
   {
    "duration": 142,
    "start_time": "2023-08-07T05:47:15.406Z"
   },
   {
    "duration": 203,
    "start_time": "2023-08-07T05:48:15.211Z"
   },
   {
    "duration": 151,
    "start_time": "2023-08-07T05:48:33.046Z"
   },
   {
    "duration": 164,
    "start_time": "2023-08-07T05:48:50.934Z"
   },
   {
    "duration": 193,
    "start_time": "2023-08-07T05:49:23.967Z"
   },
   {
    "duration": 197,
    "start_time": "2023-08-07T05:52:12.719Z"
   },
   {
    "duration": 160,
    "start_time": "2023-08-07T05:52:18.424Z"
   },
   {
    "duration": 179,
    "start_time": "2023-08-07T05:52:46.746Z"
   },
   {
    "duration": 164,
    "start_time": "2023-08-07T05:58:15.667Z"
   },
   {
    "duration": 149,
    "start_time": "2023-08-07T05:58:27.130Z"
   },
   {
    "duration": 167,
    "start_time": "2023-08-07T05:58:47.434Z"
   },
   {
    "duration": 276,
    "start_time": "2023-08-07T06:07:39.238Z"
   },
   {
    "duration": 159,
    "start_time": "2023-08-07T06:08:10.317Z"
   },
   {
    "duration": 124,
    "start_time": "2023-08-07T06:08:18.304Z"
   },
   {
    "duration": 202,
    "start_time": "2023-08-07T06:08:23.922Z"
   },
   {
    "duration": 132,
    "start_time": "2023-08-07T06:08:39.517Z"
   },
   {
    "duration": 2615,
    "start_time": "2023-08-07T06:08:43.210Z"
   },
   {
    "duration": 10,
    "start_time": "2023-08-07T06:08:45.827Z"
   },
   {
    "duration": 76,
    "start_time": "2023-08-07T06:08:45.839Z"
   },
   {
    "duration": 135,
    "start_time": "2023-08-07T06:08:45.920Z"
   },
   {
    "duration": 175,
    "start_time": "2023-08-07T06:08:46.057Z"
   },
   {
    "duration": 415,
    "start_time": "2023-08-07T06:09:21.105Z"
   },
   {
    "duration": 2459,
    "start_time": "2023-08-07T06:09:31.594Z"
   },
   {
    "duration": 27,
    "start_time": "2023-08-07T06:09:34.057Z"
   },
   {
    "duration": 81,
    "start_time": "2023-08-07T06:09:34.086Z"
   },
   {
    "duration": 186,
    "start_time": "2023-08-07T06:09:34.170Z"
   },
   {
    "duration": 209,
    "start_time": "2023-08-07T06:09:34.360Z"
   },
   {
    "duration": 150,
    "start_time": "2023-08-07T06:10:42.118Z"
   },
   {
    "duration": 135,
    "start_time": "2023-08-07T06:10:47.807Z"
   },
   {
    "duration": 160,
    "start_time": "2023-08-07T06:10:53.414Z"
   },
   {
    "duration": 193,
    "start_time": "2023-08-07T06:10:57.477Z"
   },
   {
    "duration": 152,
    "start_time": "2023-08-07T06:29:37.195Z"
   },
   {
    "duration": 168,
    "start_time": "2023-08-07T06:29:52.561Z"
   },
   {
    "duration": 220,
    "start_time": "2023-08-07T06:32:09.224Z"
   },
   {
    "duration": 330,
    "start_time": "2023-08-07T06:33:21.338Z"
   },
   {
    "duration": 248,
    "start_time": "2023-08-07T06:33:42.663Z"
   },
   {
    "duration": 213,
    "start_time": "2023-08-07T06:36:05.376Z"
   },
   {
    "duration": 245,
    "start_time": "2023-08-07T06:36:38.368Z"
   },
   {
    "duration": 27,
    "start_time": "2023-08-07T06:37:13.423Z"
   },
   {
    "duration": 2669,
    "start_time": "2023-08-07T06:37:18.769Z"
   },
   {
    "duration": 10,
    "start_time": "2023-08-07T06:37:21.440Z"
   },
   {
    "duration": 67,
    "start_time": "2023-08-07T06:37:21.452Z"
   },
   {
    "duration": 157,
    "start_time": "2023-08-07T06:37:21.521Z"
   },
   {
    "duration": 24,
    "start_time": "2023-08-07T06:37:21.684Z"
   },
   {
    "duration": 59,
    "start_time": "2023-08-07T06:37:50.128Z"
   },
   {
    "duration": 70,
    "start_time": "2023-08-07T06:40:12.323Z"
   },
   {
    "duration": 2122,
    "start_time": "2023-08-07T06:40:15.898Z"
   },
   {
    "duration": 11,
    "start_time": "2023-08-07T06:40:18.022Z"
   },
   {
    "duration": 56,
    "start_time": "2023-08-07T06:40:18.034Z"
   },
   {
    "duration": 136,
    "start_time": "2023-08-07T06:40:18.092Z"
   },
   {
    "duration": 86,
    "start_time": "2023-08-07T06:40:18.230Z"
   },
   {
    "duration": 27,
    "start_time": "2023-08-07T06:46:06.565Z"
   },
   {
    "duration": 25,
    "start_time": "2023-08-07T06:46:32.500Z"
   },
   {
    "duration": 2495,
    "start_time": "2023-08-07T06:46:41.689Z"
   },
   {
    "duration": 11,
    "start_time": "2023-08-07T06:46:44.191Z"
   },
   {
    "duration": 43,
    "start_time": "2023-08-07T06:46:44.204Z"
   },
   {
    "duration": 169,
    "start_time": "2023-08-07T06:46:44.249Z"
   },
   {
    "duration": 23,
    "start_time": "2023-08-07T06:46:44.420Z"
   },
   {
    "duration": 32,
    "start_time": "2023-08-07T06:47:06.741Z"
   },
   {
    "duration": 35,
    "start_time": "2023-08-07T06:47:17.565Z"
   },
   {
    "duration": 23,
    "start_time": "2023-08-07T06:47:27.386Z"
   },
   {
    "duration": 2008,
    "start_time": "2023-08-07T06:47:30.629Z"
   },
   {
    "duration": 10,
    "start_time": "2023-08-07T06:47:32.638Z"
   },
   {
    "duration": 60,
    "start_time": "2023-08-07T06:47:32.649Z"
   },
   {
    "duration": 116,
    "start_time": "2023-08-07T06:47:32.711Z"
   },
   {
    "duration": 20,
    "start_time": "2023-08-07T06:47:32.830Z"
   },
   {
    "duration": 26,
    "start_time": "2023-08-07T06:48:56.774Z"
   },
   {
    "duration": 20,
    "start_time": "2023-08-07T06:49:05.992Z"
   },
   {
    "duration": 23,
    "start_time": "2023-08-07T06:50:32.365Z"
   },
   {
    "duration": 23,
    "start_time": "2023-08-07T06:52:29.971Z"
   },
   {
    "duration": 26,
    "start_time": "2023-08-07T06:53:51.071Z"
   },
   {
    "duration": 16,
    "start_time": "2023-08-07T06:54:06.703Z"
   },
   {
    "duration": 19,
    "start_time": "2023-08-07T06:54:18.151Z"
   },
   {
    "duration": 16,
    "start_time": "2023-08-07T06:54:22.613Z"
   },
   {
    "duration": 68,
    "start_time": "2023-08-07T08:34:33.599Z"
   },
   {
    "duration": 28,
    "start_time": "2023-08-07T08:34:44.804Z"
   },
   {
    "duration": 34,
    "start_time": "2023-08-07T08:36:15.390Z"
   },
   {
    "duration": 48,
    "start_time": "2023-08-07T08:37:24.652Z"
   },
   {
    "duration": 37,
    "start_time": "2023-08-07T08:38:00.399Z"
   },
   {
    "duration": 26,
    "start_time": "2023-08-07T08:42:15.830Z"
   },
   {
    "duration": 39,
    "start_time": "2023-08-07T08:42:41.501Z"
   },
   {
    "duration": 31,
    "start_time": "2023-08-07T08:43:10.523Z"
   },
   {
    "duration": 22,
    "start_time": "2023-08-07T08:43:45.622Z"
   },
   {
    "duration": 28,
    "start_time": "2023-08-07T08:44:23.635Z"
   },
   {
    "duration": 26,
    "start_time": "2023-08-07T08:45:05.120Z"
   },
   {
    "duration": 14,
    "start_time": "2023-08-07T08:45:20.206Z"
   },
   {
    "duration": 2508,
    "start_time": "2023-08-07T08:45:28.799Z"
   },
   {
    "duration": 11,
    "start_time": "2023-08-07T08:45:31.309Z"
   },
   {
    "duration": 81,
    "start_time": "2023-08-07T08:45:31.321Z"
   },
   {
    "duration": 161,
    "start_time": "2023-08-07T08:45:31.404Z"
   },
   {
    "duration": 34,
    "start_time": "2023-08-07T08:45:31.567Z"
   },
   {
    "duration": 27,
    "start_time": "2023-08-07T08:46:03.216Z"
   },
   {
    "duration": 32,
    "start_time": "2023-08-07T08:46:56.015Z"
   },
   {
    "duration": 2364,
    "start_time": "2023-08-07T08:47:00.594Z"
   },
   {
    "duration": 15,
    "start_time": "2023-08-07T08:47:02.960Z"
   },
   {
    "duration": 68,
    "start_time": "2023-08-07T08:47:02.976Z"
   },
   {
    "duration": 153,
    "start_time": "2023-08-07T08:47:03.046Z"
   },
   {
    "duration": 34,
    "start_time": "2023-08-07T08:47:03.202Z"
   },
   {
    "duration": 2129,
    "start_time": "2023-08-07T08:48:10.916Z"
   },
   {
    "duration": 9,
    "start_time": "2023-08-07T08:48:13.047Z"
   },
   {
    "duration": 63,
    "start_time": "2023-08-07T08:48:13.058Z"
   },
   {
    "duration": 134,
    "start_time": "2023-08-07T08:48:13.123Z"
   },
   {
    "duration": 47,
    "start_time": "2023-08-07T08:48:13.259Z"
   },
   {
    "duration": 2696,
    "start_time": "2023-08-07T08:49:17.029Z"
   },
   {
    "duration": 9,
    "start_time": "2023-08-07T08:49:19.727Z"
   },
   {
    "duration": 74,
    "start_time": "2023-08-07T08:49:19.737Z"
   },
   {
    "duration": 132,
    "start_time": "2023-08-07T08:49:19.815Z"
   },
   {
    "duration": 38,
    "start_time": "2023-08-07T08:49:19.949Z"
   },
   {
    "duration": 2606,
    "start_time": "2023-08-07T08:50:06.131Z"
   },
   {
    "duration": 16,
    "start_time": "2023-08-07T08:50:08.740Z"
   },
   {
    "duration": 83,
    "start_time": "2023-08-07T08:50:08.758Z"
   },
   {
    "duration": 153,
    "start_time": "2023-08-07T08:50:08.844Z"
   },
   {
    "duration": 29,
    "start_time": "2023-08-07T08:50:08.999Z"
   },
   {
    "duration": 2526,
    "start_time": "2023-08-07T08:51:23.088Z"
   },
   {
    "duration": 11,
    "start_time": "2023-08-07T08:51:25.617Z"
   },
   {
    "duration": 55,
    "start_time": "2023-08-07T08:51:25.630Z"
   },
   {
    "duration": 155,
    "start_time": "2023-08-07T08:51:25.687Z"
   },
   {
    "duration": 34,
    "start_time": "2023-08-07T08:51:25.844Z"
   },
   {
    "duration": 2666,
    "start_time": "2023-08-07T08:52:43.005Z"
   },
   {
    "duration": 21,
    "start_time": "2023-08-07T08:52:45.674Z"
   },
   {
    "duration": 49,
    "start_time": "2023-08-07T08:52:45.696Z"
   },
   {
    "duration": 177,
    "start_time": "2023-08-07T08:52:45.747Z"
   },
   {
    "duration": 98,
    "start_time": "2023-08-07T08:52:45.926Z"
   },
   {
    "duration": 105,
    "start_time": "2023-08-07T08:53:00.283Z"
   },
   {
    "duration": 104,
    "start_time": "2023-08-07T08:53:18.718Z"
   },
   {
    "duration": 94,
    "start_time": "2023-08-07T08:53:39.002Z"
   },
   {
    "duration": 22,
    "start_time": "2023-08-07T08:56:36.007Z"
   },
   {
    "duration": 2315,
    "start_time": "2023-08-07T08:56:39.543Z"
   },
   {
    "duration": 30,
    "start_time": "2023-08-07T08:56:41.860Z"
   },
   {
    "duration": 47,
    "start_time": "2023-08-07T08:56:41.891Z"
   },
   {
    "duration": 142,
    "start_time": "2023-08-07T08:56:41.940Z"
   },
   {
    "duration": 81,
    "start_time": "2023-08-07T08:56:42.088Z"
   },
   {
    "duration": 31,
    "start_time": "2023-08-07T08:56:42.171Z"
   },
   {
    "duration": 45,
    "start_time": "2023-08-07T08:57:41.317Z"
   },
   {
    "duration": 2111,
    "start_time": "2023-08-07T09:04:27.825Z"
   },
   {
    "duration": 14,
    "start_time": "2023-08-07T09:04:29.940Z"
   },
   {
    "duration": 68,
    "start_time": "2023-08-07T09:04:29.956Z"
   },
   {
    "duration": 140,
    "start_time": "2023-08-07T09:04:30.026Z"
   },
   {
    "duration": 79,
    "start_time": "2023-08-07T09:04:30.168Z"
   },
   {
    "duration": 90,
    "start_time": "2023-08-07T09:04:30.250Z"
   },
   {
    "duration": 26,
    "start_time": "2023-08-07T09:05:18.940Z"
   },
   {
    "duration": 24,
    "start_time": "2023-08-07T09:05:48.201Z"
   },
   {
    "duration": 23,
    "start_time": "2023-08-07T09:05:57.309Z"
   },
   {
    "duration": 40,
    "start_time": "2023-08-07T09:06:16.871Z"
   },
   {
    "duration": 2301,
    "start_time": "2023-08-07T09:06:20.812Z"
   },
   {
    "duration": 16,
    "start_time": "2023-08-07T09:06:23.116Z"
   },
   {
    "duration": 74,
    "start_time": "2023-08-07T09:06:23.134Z"
   },
   {
    "duration": 146,
    "start_time": "2023-08-07T09:06:23.211Z"
   },
   {
    "duration": 81,
    "start_time": "2023-08-07T09:06:23.359Z"
   },
   {
    "duration": 30,
    "start_time": "2023-08-07T09:06:23.441Z"
   },
   {
    "duration": 2064,
    "start_time": "2023-08-07T09:07:02.581Z"
   },
   {
    "duration": 14,
    "start_time": "2023-08-07T09:07:04.647Z"
   },
   {
    "duration": 563,
    "start_time": "2023-08-07T09:07:04.663Z"
   },
   {
    "duration": 118,
    "start_time": "2023-08-07T09:07:05.228Z"
   },
   {
    "duration": 72,
    "start_time": "2023-08-07T09:07:05.348Z"
   },
   {
    "duration": 24,
    "start_time": "2023-08-07T09:07:05.422Z"
   },
   {
    "duration": 48,
    "start_time": "2023-08-07T09:09:23.797Z"
   },
   {
    "duration": 67,
    "start_time": "2023-08-07T09:10:21.798Z"
   },
   {
    "duration": 42,
    "start_time": "2023-08-07T09:10:36.996Z"
   },
   {
    "duration": 38,
    "start_time": "2023-08-07T09:11:58.354Z"
   },
   {
    "duration": 22,
    "start_time": "2023-08-07T09:12:52.484Z"
   },
   {
    "duration": 21,
    "start_time": "2023-08-07T09:19:38.944Z"
   },
   {
    "duration": 22,
    "start_time": "2023-08-07T09:20:07.044Z"
   },
   {
    "duration": 2183,
    "start_time": "2023-08-07T09:22:19.781Z"
   },
   {
    "duration": 23,
    "start_time": "2023-08-07T09:22:21.966Z"
   },
   {
    "duration": 62,
    "start_time": "2023-08-07T09:22:21.991Z"
   },
   {
    "duration": 128,
    "start_time": "2023-08-07T09:22:22.055Z"
   },
   {
    "duration": 66,
    "start_time": "2023-08-07T09:22:22.185Z"
   },
   {
    "duration": 48,
    "start_time": "2023-08-07T09:22:22.253Z"
   },
   {
    "duration": 2052,
    "start_time": "2023-08-07T09:23:06.875Z"
   },
   {
    "duration": 13,
    "start_time": "2023-08-07T09:23:08.929Z"
   },
   {
    "duration": 65,
    "start_time": "2023-08-07T09:23:08.944Z"
   },
   {
    "duration": 129,
    "start_time": "2023-08-07T09:23:09.012Z"
   },
   {
    "duration": 70,
    "start_time": "2023-08-07T09:23:09.143Z"
   },
   {
    "duration": 124,
    "start_time": "2023-08-07T09:23:09.215Z"
   },
   {
    "duration": 23,
    "start_time": "2023-08-07T09:25:45.414Z"
   },
   {
    "duration": 17,
    "start_time": "2023-08-07T09:25:58.430Z"
   },
   {
    "duration": 2079,
    "start_time": "2023-08-07T09:26:02.590Z"
   },
   {
    "duration": 16,
    "start_time": "2023-08-07T09:26:04.677Z"
   },
   {
    "duration": 51,
    "start_time": "2023-08-07T09:26:04.696Z"
   },
   {
    "duration": 112,
    "start_time": "2023-08-07T09:26:04.749Z"
   },
   {
    "duration": 72,
    "start_time": "2023-08-07T09:26:04.863Z"
   },
   {
    "duration": 23,
    "start_time": "2023-08-07T09:26:04.936Z"
   },
   {
    "duration": 2077,
    "start_time": "2023-08-07T09:26:16.955Z"
   },
   {
    "duration": 9,
    "start_time": "2023-08-07T09:26:19.035Z"
   },
   {
    "duration": 58,
    "start_time": "2023-08-07T09:26:19.045Z"
   },
   {
    "duration": 110,
    "start_time": "2023-08-07T09:26:19.106Z"
   },
   {
    "duration": 74,
    "start_time": "2023-08-07T09:26:19.218Z"
   },
   {
    "duration": 27,
    "start_time": "2023-08-07T09:26:19.294Z"
   },
   {
    "duration": 2123,
    "start_time": "2023-08-07T09:26:37.480Z"
   },
   {
    "duration": 11,
    "start_time": "2023-08-07T09:26:39.605Z"
   },
   {
    "duration": 37,
    "start_time": "2023-08-07T09:26:39.618Z"
   },
   {
    "duration": 119,
    "start_time": "2023-08-07T09:26:39.674Z"
   },
   {
    "duration": 59,
    "start_time": "2023-08-07T09:26:39.795Z"
   },
   {
    "duration": 48,
    "start_time": "2023-08-07T09:26:39.856Z"
   },
   {
    "duration": 2513,
    "start_time": "2023-08-07T09:29:07.498Z"
   },
   {
    "duration": 9,
    "start_time": "2023-08-07T09:29:10.013Z"
   },
   {
    "duration": 52,
    "start_time": "2023-08-07T09:29:10.023Z"
   },
   {
    "duration": 132,
    "start_time": "2023-08-07T09:29:10.078Z"
   },
   {
    "duration": 77,
    "start_time": "2023-08-07T09:29:10.212Z"
   },
   {
    "duration": 40,
    "start_time": "2023-08-07T09:29:10.291Z"
   },
   {
    "duration": 2064,
    "start_time": "2023-08-07T09:29:33.509Z"
   },
   {
    "duration": 13,
    "start_time": "2023-08-07T09:29:35.576Z"
   },
   {
    "duration": 56,
    "start_time": "2023-08-07T09:29:35.591Z"
   },
   {
    "duration": 162,
    "start_time": "2023-08-07T09:29:35.650Z"
   },
   {
    "duration": 85,
    "start_time": "2023-08-07T09:29:35.815Z"
   },
   {
    "duration": 29,
    "start_time": "2023-08-07T09:29:35.902Z"
   },
   {
    "duration": 2077,
    "start_time": "2023-08-07T09:30:20.868Z"
   },
   {
    "duration": 14,
    "start_time": "2023-08-07T09:30:22.947Z"
   },
   {
    "duration": 57,
    "start_time": "2023-08-07T09:30:22.975Z"
   },
   {
    "duration": 164,
    "start_time": "2023-08-07T09:30:23.034Z"
   },
   {
    "duration": 60,
    "start_time": "2023-08-07T09:30:23.200Z"
   },
   {
    "duration": 34,
    "start_time": "2023-08-07T09:30:23.262Z"
   },
   {
    "duration": 2263,
    "start_time": "2023-08-07T09:30:48.852Z"
   },
   {
    "duration": 10,
    "start_time": "2023-08-07T09:30:51.117Z"
   },
   {
    "duration": 108,
    "start_time": "2023-08-07T09:30:51.130Z"
   },
   {
    "duration": 120,
    "start_time": "2023-08-07T09:30:51.240Z"
   },
   {
    "duration": 84,
    "start_time": "2023-08-07T09:30:51.363Z"
   },
   {
    "duration": 39,
    "start_time": "2023-08-07T09:30:51.448Z"
   },
   {
    "duration": 2398,
    "start_time": "2023-08-07T09:31:08.702Z"
   },
   {
    "duration": 19,
    "start_time": "2023-08-07T09:31:11.103Z"
   },
   {
    "duration": 80,
    "start_time": "2023-08-07T09:31:11.125Z"
   },
   {
    "duration": 154,
    "start_time": "2023-08-07T09:31:11.208Z"
   },
   {
    "duration": 88,
    "start_time": "2023-08-07T09:31:11.363Z"
   },
   {
    "duration": 44,
    "start_time": "2023-08-07T09:31:11.452Z"
   },
   {
    "duration": 2277,
    "start_time": "2023-08-07T09:33:01.359Z"
   },
   {
    "duration": 10,
    "start_time": "2023-08-07T09:33:03.638Z"
   },
   {
    "duration": 66,
    "start_time": "2023-08-07T09:33:03.650Z"
   },
   {
    "duration": 140,
    "start_time": "2023-08-07T09:33:03.717Z"
   },
   {
    "duration": 88,
    "start_time": "2023-08-07T09:33:03.860Z"
   },
   {
    "duration": 36,
    "start_time": "2023-08-07T09:33:03.950Z"
   },
   {
    "duration": 60,
    "start_time": "2023-08-07T09:56:45.061Z"
   },
   {
    "duration": 16,
    "start_time": "2023-08-07T10:01:56.476Z"
   },
   {
    "duration": 14,
    "start_time": "2023-08-07T10:06:28.687Z"
   },
   {
    "duration": 12,
    "start_time": "2023-08-07T10:08:16.295Z"
   },
   {
    "duration": 12,
    "start_time": "2023-08-07T10:08:46.671Z"
   },
   {
    "duration": 9,
    "start_time": "2023-08-07T10:08:58.362Z"
   },
   {
    "duration": 23,
    "start_time": "2023-08-07T10:09:47.954Z"
   },
   {
    "duration": 27,
    "start_time": "2023-08-07T11:12:41.203Z"
   },
   {
    "duration": 10,
    "start_time": "2023-08-07T11:13:16.792Z"
   },
   {
    "duration": 6,
    "start_time": "2023-08-07T11:14:39.515Z"
   },
   {
    "duration": 25,
    "start_time": "2023-08-07T11:14:48.269Z"
   },
   {
    "duration": 3102,
    "start_time": "2023-08-07T11:15:00.411Z"
   },
   {
    "duration": 10,
    "start_time": "2023-08-07T11:15:03.515Z"
   },
   {
    "duration": 52,
    "start_time": "2023-08-07T11:15:03.526Z"
   },
   {
    "duration": 142,
    "start_time": "2023-08-07T11:15:03.580Z"
   },
   {
    "duration": 97,
    "start_time": "2023-08-07T11:15:03.725Z"
   },
   {
    "duration": 32,
    "start_time": "2023-08-07T11:15:03.824Z"
   },
   {
    "duration": 30,
    "start_time": "2023-08-07T11:15:03.860Z"
   },
   {
    "duration": 2196,
    "start_time": "2023-08-07T11:17:06.778Z"
   },
   {
    "duration": 15,
    "start_time": "2023-08-07T11:17:08.977Z"
   },
   {
    "duration": 48,
    "start_time": "2023-08-07T11:17:08.995Z"
   },
   {
    "duration": 132,
    "start_time": "2023-08-07T11:17:09.046Z"
   },
   {
    "duration": 63,
    "start_time": "2023-08-07T11:17:09.180Z"
   },
   {
    "duration": 41,
    "start_time": "2023-08-07T11:17:09.245Z"
   },
   {
    "duration": 8,
    "start_time": "2023-08-07T11:17:09.289Z"
   },
   {
    "duration": 16,
    "start_time": "2023-08-07T11:18:07.357Z"
   },
   {
    "duration": 37,
    "start_time": "2023-08-07T11:19:13.517Z"
   },
   {
    "duration": 28,
    "start_time": "2023-08-07T11:20:51.991Z"
   },
   {
    "duration": 8,
    "start_time": "2023-08-07T11:21:23.058Z"
   },
   {
    "duration": 2273,
    "start_time": "2023-08-07T11:21:38.919Z"
   },
   {
    "duration": 12,
    "start_time": "2023-08-07T11:21:41.195Z"
   },
   {
    "duration": 39,
    "start_time": "2023-08-07T11:21:41.210Z"
   },
   {
    "duration": 154,
    "start_time": "2023-08-07T11:21:41.251Z"
   },
   {
    "duration": 67,
    "start_time": "2023-08-07T11:21:41.407Z"
   },
   {
    "duration": 22,
    "start_time": "2023-08-07T11:21:41.476Z"
   },
   {
    "duration": 9,
    "start_time": "2023-08-07T11:21:41.500Z"
   },
   {
    "duration": 2237,
    "start_time": "2023-08-07T11:21:59.622Z"
   },
   {
    "duration": 24,
    "start_time": "2023-08-07T11:22:01.861Z"
   },
   {
    "duration": 87,
    "start_time": "2023-08-07T11:22:01.887Z"
   },
   {
    "duration": 175,
    "start_time": "2023-08-07T11:22:01.976Z"
   },
   {
    "duration": 61,
    "start_time": "2023-08-07T11:22:02.154Z"
   },
   {
    "duration": 23,
    "start_time": "2023-08-07T11:22:02.217Z"
   },
   {
    "duration": 14,
    "start_time": "2023-08-07T11:22:02.243Z"
   },
   {
    "duration": 26,
    "start_time": "2023-08-07T11:22:18.759Z"
   },
   {
    "duration": 23,
    "start_time": "2023-08-07T11:22:53.599Z"
   },
   {
    "duration": 9,
    "start_time": "2023-08-07T11:23:32.060Z"
   },
   {
    "duration": 2017,
    "start_time": "2023-08-07T11:24:04.495Z"
   },
   {
    "duration": 10,
    "start_time": "2023-08-07T11:24:06.513Z"
   },
   {
    "duration": 58,
    "start_time": "2023-08-07T11:24:06.524Z"
   },
   {
    "duration": 114,
    "start_time": "2023-08-07T11:24:06.583Z"
   },
   {
    "duration": 58,
    "start_time": "2023-08-07T11:24:06.699Z"
   },
   {
    "duration": 32,
    "start_time": "2023-08-07T11:24:06.759Z"
   },
   {
    "duration": 26,
    "start_time": "2023-08-07T11:24:06.793Z"
   },
   {
    "duration": 2029,
    "start_time": "2023-08-07T11:25:10.117Z"
   },
   {
    "duration": 10,
    "start_time": "2023-08-07T11:25:12.148Z"
   },
   {
    "duration": 45,
    "start_time": "2023-08-07T11:25:12.160Z"
   },
   {
    "duration": 111,
    "start_time": "2023-08-07T11:25:12.207Z"
   },
   {
    "duration": 75,
    "start_time": "2023-08-07T11:25:12.320Z"
   },
   {
    "duration": 21,
    "start_time": "2023-08-07T11:25:12.397Z"
   },
   {
    "duration": 21,
    "start_time": "2023-08-07T11:25:12.420Z"
   },
   {
    "duration": 2039,
    "start_time": "2023-08-07T11:27:27.481Z"
   },
   {
    "duration": 12,
    "start_time": "2023-08-07T11:27:29.522Z"
   },
   {
    "duration": 59,
    "start_time": "2023-08-07T11:27:29.536Z"
   },
   {
    "duration": 111,
    "start_time": "2023-08-07T11:27:29.597Z"
   },
   {
    "duration": 72,
    "start_time": "2023-08-07T11:27:29.709Z"
   },
   {
    "duration": 22,
    "start_time": "2023-08-07T11:27:29.783Z"
   },
   {
    "duration": 2798,
    "start_time": "2023-08-07T11:32:47.627Z"
   },
   {
    "duration": 12,
    "start_time": "2023-08-07T11:32:50.427Z"
   },
   {
    "duration": 57,
    "start_time": "2023-08-07T11:32:50.441Z"
   },
   {
    "duration": 97,
    "start_time": "2023-08-07T11:32:50.500Z"
   },
   {
    "duration": 59,
    "start_time": "2023-08-07T11:32:50.599Z"
   },
   {
    "duration": 41,
    "start_time": "2023-08-07T11:32:50.660Z"
   },
   {
    "duration": 40,
    "start_time": "2023-08-07T11:34:26.085Z"
   },
   {
    "duration": 35,
    "start_time": "2023-08-07T11:34:46.540Z"
   },
   {
    "duration": 8,
    "start_time": "2023-08-07T11:39:59.329Z"
   },
   {
    "duration": 30,
    "start_time": "2023-08-07T11:43:37.086Z"
   },
   {
    "duration": 31,
    "start_time": "2023-08-07T11:43:55.216Z"
   },
   {
    "duration": 17,
    "start_time": "2023-08-07T11:57:39.575Z"
   },
   {
    "duration": 19,
    "start_time": "2023-08-07T12:04:39.293Z"
   },
   {
    "duration": 20,
    "start_time": "2023-08-07T12:05:36.380Z"
   },
   {
    "duration": 21,
    "start_time": "2023-08-07T12:05:57.319Z"
   },
   {
    "duration": 29,
    "start_time": "2023-08-07T12:06:05.867Z"
   },
   {
    "duration": 5,
    "start_time": "2023-08-07T12:06:34.874Z"
   },
   {
    "duration": 6,
    "start_time": "2023-08-07T12:07:18.632Z"
   },
   {
    "duration": 11,
    "start_time": "2023-08-07T12:20:02.690Z"
   },
   {
    "duration": 339,
    "start_time": "2023-08-07T12:20:25.378Z"
   },
   {
    "duration": 80,
    "start_time": "2023-08-07T12:20:52.370Z"
   },
   {
    "duration": 337,
    "start_time": "2023-08-07T12:21:00.690Z"
   },
   {
    "duration": 347,
    "start_time": "2023-08-07T12:21:10.574Z"
   },
   {
    "duration": 349,
    "start_time": "2023-08-07T12:21:31.578Z"
   },
   {
    "duration": 365,
    "start_time": "2023-08-07T12:21:59.866Z"
   },
   {
    "duration": 2168,
    "start_time": "2023-08-07T12:22:02.422Z"
   },
   {
    "duration": 10,
    "start_time": "2023-08-07T12:22:04.592Z"
   },
   {
    "duration": 72,
    "start_time": "2023-08-07T12:22:04.604Z"
   },
   {
    "duration": 122,
    "start_time": "2023-08-07T12:22:04.679Z"
   },
   {
    "duration": 64,
    "start_time": "2023-08-07T12:22:04.803Z"
   },
   {
    "duration": 53,
    "start_time": "2023-08-07T12:22:04.874Z"
   },
   {
    "duration": 409,
    "start_time": "2023-08-07T12:22:04.929Z"
   },
   {
    "duration": 345,
    "start_time": "2023-08-07T12:22:14.436Z"
   },
   {
    "duration": 340,
    "start_time": "2023-08-07T12:26:53.005Z"
   },
   {
    "duration": 335,
    "start_time": "2023-08-07T12:28:22.181Z"
   },
   {
    "duration": 320,
    "start_time": "2023-08-07T12:34:21.291Z"
   },
   {
    "duration": 330,
    "start_time": "2023-08-07T12:34:41.317Z"
   },
   {
    "duration": 377,
    "start_time": "2023-08-07T12:35:04.580Z"
   },
   {
    "duration": 330,
    "start_time": "2023-08-07T12:35:23.066Z"
   },
   {
    "duration": 371,
    "start_time": "2023-08-07T12:36:55.029Z"
   },
   {
    "duration": 332,
    "start_time": "2023-08-07T12:37:00.971Z"
   },
   {
    "duration": 388,
    "start_time": "2023-08-07T12:37:46.908Z"
   },
   {
    "duration": 408,
    "start_time": "2023-08-07T12:39:09.869Z"
   },
   {
    "duration": 327,
    "start_time": "2023-08-07T12:39:42.078Z"
   },
   {
    "duration": 1174,
    "start_time": "2023-08-07T12:40:23.110Z"
   },
   {
    "duration": 1975,
    "start_time": "2023-08-07T12:40:32.677Z"
   },
   {
    "duration": 23,
    "start_time": "2023-08-07T12:40:34.654Z"
   },
   {
    "duration": 42,
    "start_time": "2023-08-07T12:40:34.679Z"
   },
   {
    "duration": 106,
    "start_time": "2023-08-07T12:40:34.723Z"
   },
   {
    "duration": 66,
    "start_time": "2023-08-07T12:40:34.831Z"
   },
   {
    "duration": 31,
    "start_time": "2023-08-07T12:40:34.899Z"
   },
   {
    "duration": 1171,
    "start_time": "2023-08-07T12:40:34.932Z"
   },
   {
    "duration": 806,
    "start_time": "2023-08-07T12:41:06.735Z"
   },
   {
    "duration": 857,
    "start_time": "2023-08-07T12:41:19.491Z"
   },
   {
    "duration": 755,
    "start_time": "2023-08-07T12:41:32.903Z"
   },
   {
    "duration": 2942,
    "start_time": "2023-08-07T12:41:43.535Z"
   },
   {
    "duration": 9,
    "start_time": "2023-08-07T12:41:46.479Z"
   },
   {
    "duration": 103,
    "start_time": "2023-08-07T12:41:46.490Z"
   },
   {
    "duration": 221,
    "start_time": "2023-08-07T12:41:46.595Z"
   },
   {
    "duration": 64,
    "start_time": "2023-08-07T12:41:46.818Z"
   },
   {
    "duration": 33,
    "start_time": "2023-08-07T12:41:46.884Z"
   },
   {
    "duration": 343,
    "start_time": "2023-08-07T12:41:46.918Z"
   },
   {
    "duration": 1970,
    "start_time": "2023-08-07T12:42:23.095Z"
   },
   {
    "duration": 14,
    "start_time": "2023-08-07T12:42:25.067Z"
   },
   {
    "duration": 47,
    "start_time": "2023-08-07T12:42:25.083Z"
   },
   {
    "duration": 95,
    "start_time": "2023-08-07T12:42:25.132Z"
   },
   {
    "duration": 70,
    "start_time": "2023-08-07T12:42:25.228Z"
   },
   {
    "duration": 31,
    "start_time": "2023-08-07T12:42:25.300Z"
   },
   {
    "duration": 329,
    "start_time": "2023-08-07T12:42:25.333Z"
   },
   {
    "duration": 319,
    "start_time": "2023-08-07T12:42:40.476Z"
   },
   {
    "duration": 329,
    "start_time": "2023-08-07T12:43:43.000Z"
   },
   {
    "duration": 348,
    "start_time": "2023-08-07T12:43:54.507Z"
   },
   {
    "duration": 321,
    "start_time": "2023-08-07T12:44:09.288Z"
   },
   {
    "duration": 342,
    "start_time": "2023-08-07T12:44:17.139Z"
   },
   {
    "duration": 340,
    "start_time": "2023-08-07T12:48:55.628Z"
   },
   {
    "duration": 324,
    "start_time": "2023-08-07T12:49:06.789Z"
   },
   {
    "duration": 319,
    "start_time": "2023-08-07T12:49:34.702Z"
   },
   {
    "duration": 322,
    "start_time": "2023-08-07T12:49:42.192Z"
   },
   {
    "duration": 327,
    "start_time": "2023-08-07T12:51:31.023Z"
   },
   {
    "duration": 318,
    "start_time": "2023-08-07T12:51:39.522Z"
   },
   {
    "duration": 334,
    "start_time": "2023-08-07T12:53:19.724Z"
   },
   {
    "duration": 312,
    "start_time": "2023-08-07T12:53:58.607Z"
   },
   {
    "duration": 322,
    "start_time": "2023-08-07T12:54:44.821Z"
   },
   {
    "duration": 397,
    "start_time": "2023-08-07T12:54:53.784Z"
   },
   {
    "duration": 82,
    "start_time": "2023-08-07T13:33:35.064Z"
   },
   {
    "duration": 40,
    "start_time": "2023-08-07T13:33:48.064Z"
   },
   {
    "duration": 359,
    "start_time": "2023-08-07T13:35:26.523Z"
   },
   {
    "duration": 369,
    "start_time": "2023-08-07T13:35:37.863Z"
   },
   {
    "duration": 369,
    "start_time": "2023-08-07T13:35:51.698Z"
   },
   {
    "duration": 368,
    "start_time": "2023-08-07T13:36:22.122Z"
   },
   {
    "duration": 360,
    "start_time": "2023-08-07T13:36:42.699Z"
   },
   {
    "duration": 344,
    "start_time": "2023-08-07T13:38:12.799Z"
   },
   {
    "duration": 363,
    "start_time": "2023-08-07T13:38:38.412Z"
   },
   {
    "duration": 2009,
    "start_time": "2023-08-07T13:39:01.466Z"
   },
   {
    "duration": 9,
    "start_time": "2023-08-07T13:39:03.477Z"
   },
   {
    "duration": 609,
    "start_time": "2023-08-07T13:39:03.489Z"
   },
   {
    "duration": 101,
    "start_time": "2023-08-07T13:39:04.100Z"
   },
   {
    "duration": 72,
    "start_time": "2023-08-07T13:39:04.203Z"
   },
   {
    "duration": 35,
    "start_time": "2023-08-07T13:39:04.276Z"
   },
   {
    "duration": 345,
    "start_time": "2023-08-07T13:39:04.312Z"
   },
   {
    "duration": 1386,
    "start_time": "2023-08-07T13:41:35.616Z"
   },
   {
    "duration": 377,
    "start_time": "2023-08-07T13:41:55.352Z"
   },
   {
    "duration": 2007,
    "start_time": "2023-08-07T13:42:03.453Z"
   },
   {
    "duration": 18,
    "start_time": "2023-08-07T13:42:05.462Z"
   },
   {
    "duration": 554,
    "start_time": "2023-08-07T13:42:05.482Z"
   },
   {
    "duration": 116,
    "start_time": "2023-08-07T13:42:06.038Z"
   },
   {
    "duration": 79,
    "start_time": "2023-08-07T13:42:06.157Z"
   },
   {
    "duration": 48,
    "start_time": "2023-08-07T13:42:06.238Z"
   },
   {
    "duration": 224,
    "start_time": "2023-08-07T13:42:06.288Z"
   },
   {
    "duration": 1447,
    "start_time": "2023-08-07T13:43:36.902Z"
   },
   {
    "duration": 303,
    "start_time": "2023-08-07T13:43:47.058Z"
   },
   {
    "duration": 1987,
    "start_time": "2023-08-07T13:43:50.798Z"
   },
   {
    "duration": 9,
    "start_time": "2023-08-07T13:43:52.788Z"
   },
   {
    "duration": 535,
    "start_time": "2023-08-07T13:43:52.799Z"
   },
   {
    "duration": 108,
    "start_time": "2023-08-07T13:43:53.336Z"
   },
   {
    "duration": 68,
    "start_time": "2023-08-07T13:43:53.446Z"
   },
   {
    "duration": 35,
    "start_time": "2023-08-07T13:43:53.515Z"
   },
   {
    "duration": 370,
    "start_time": "2023-08-07T13:43:53.551Z"
   },
   {
    "duration": 2049,
    "start_time": "2023-08-07T13:44:56.097Z"
   },
   {
    "duration": 11,
    "start_time": "2023-08-07T13:44:58.148Z"
   },
   {
    "duration": 594,
    "start_time": "2023-08-07T13:44:58.161Z"
   },
   {
    "duration": 117,
    "start_time": "2023-08-07T13:44:58.757Z"
   },
   {
    "duration": 61,
    "start_time": "2023-08-07T13:44:58.877Z"
   },
   {
    "duration": 48,
    "start_time": "2023-08-07T13:44:58.939Z"
   },
   {
    "duration": 360,
    "start_time": "2023-08-07T13:44:58.989Z"
   },
   {
    "duration": 37,
    "start_time": "2023-08-07T13:46:23.042Z"
   },
   {
    "duration": 32,
    "start_time": "2023-08-07T13:46:52.671Z"
   },
   {
    "duration": 2001,
    "start_time": "2023-08-07T13:47:59.161Z"
   },
   {
    "duration": 18,
    "start_time": "2023-08-07T13:48:01.163Z"
   },
   {
    "duration": 547,
    "start_time": "2023-08-07T13:48:01.183Z"
   },
   {
    "duration": 100,
    "start_time": "2023-08-07T13:48:01.732Z"
   },
   {
    "duration": 68,
    "start_time": "2023-08-07T13:48:01.834Z"
   },
   {
    "duration": 21,
    "start_time": "2023-08-07T13:48:01.904Z"
   },
   {
    "duration": 374,
    "start_time": "2023-08-07T13:48:01.927Z"
   },
   {
    "duration": 1933,
    "start_time": "2023-08-07T13:48:37.388Z"
   },
   {
    "duration": 9,
    "start_time": "2023-08-07T13:48:39.323Z"
   },
   {
    "duration": 522,
    "start_time": "2023-08-07T13:48:39.334Z"
   },
   {
    "duration": 103,
    "start_time": "2023-08-07T13:48:39.858Z"
   },
   {
    "duration": 68,
    "start_time": "2023-08-07T13:48:39.963Z"
   },
   {
    "duration": 19,
    "start_time": "2023-08-07T13:48:40.033Z"
   },
   {
    "duration": 421,
    "start_time": "2023-08-07T13:48:40.054Z"
   },
   {
    "duration": 1944,
    "start_time": "2023-08-07T13:55:43.255Z"
   },
   {
    "duration": 12,
    "start_time": "2023-08-07T13:55:45.201Z"
   },
   {
    "duration": 561,
    "start_time": "2023-08-07T13:55:45.215Z"
   },
   {
    "duration": 99,
    "start_time": "2023-08-07T13:55:45.778Z"
   },
   {
    "duration": 59,
    "start_time": "2023-08-07T13:55:45.879Z"
   },
   {
    "duration": 41,
    "start_time": "2023-08-07T13:55:45.939Z"
   },
   {
    "duration": 343,
    "start_time": "2023-08-07T13:55:45.981Z"
   },
   {
    "duration": 385,
    "start_time": "2023-08-07T13:56:57.876Z"
   },
   {
    "duration": 3121,
    "start_time": "2023-08-07T13:58:08.202Z"
   },
   {
    "duration": 9,
    "start_time": "2023-08-07T13:58:11.325Z"
   },
   {
    "duration": 549,
    "start_time": "2023-08-07T13:58:11.336Z"
   },
   {
    "duration": 115,
    "start_time": "2023-08-07T13:58:11.887Z"
   },
   {
    "duration": 61,
    "start_time": "2023-08-07T13:58:12.004Z"
   },
   {
    "duration": 45,
    "start_time": "2023-08-07T13:58:12.067Z"
   },
   {
    "duration": 348,
    "start_time": "2023-08-07T13:58:12.114Z"
   },
   {
    "duration": 46,
    "start_time": "2023-08-07T13:58:43.693Z"
   },
   {
    "duration": 86,
    "start_time": "2023-08-07T13:59:03.659Z"
   },
   {
    "duration": 103,
    "start_time": "2023-08-07T13:59:26.353Z"
   },
   {
    "duration": 1878,
    "start_time": "2023-08-07T14:00:17.844Z"
   },
   {
    "duration": 2012,
    "start_time": "2023-08-07T14:00:40.297Z"
   },
   {
    "duration": 98,
    "start_time": "2023-08-07T14:01:33.155Z"
   },
   {
    "duration": 26,
    "start_time": "2023-08-07T14:01:33.255Z"
   },
   {
    "duration": 1872,
    "start_time": "2023-08-07T14:01:33.283Z"
   },
   {
    "duration": 19,
    "start_time": "2023-08-07T14:01:35.156Z"
   },
   {
    "duration": 547,
    "start_time": "2023-08-07T14:01:35.178Z"
   },
   {
    "duration": 111,
    "start_time": "2023-08-07T14:01:35.726Z"
   },
   {
    "duration": 77,
    "start_time": "2023-08-07T14:01:35.839Z"
   },
   {
    "duration": 44,
    "start_time": "2023-08-07T14:01:35.917Z"
   },
   {
    "duration": 343,
    "start_time": "2023-08-07T14:01:35.962Z"
   },
   {
    "duration": 130,
    "start_time": "2023-08-07T14:07:00.421Z"
   },
   {
    "duration": 33,
    "start_time": "2023-08-07T14:07:00.554Z"
   },
   {
    "duration": 2098,
    "start_time": "2023-08-07T14:07:00.589Z"
   },
   {
    "duration": 11,
    "start_time": "2023-08-07T14:07:02.689Z"
   },
   {
    "duration": 599,
    "start_time": "2023-08-07T14:07:02.702Z"
   },
   {
    "duration": 118,
    "start_time": "2023-08-07T14:07:03.303Z"
   },
   {
    "duration": 80,
    "start_time": "2023-08-07T14:07:03.422Z"
   },
   {
    "duration": 48,
    "start_time": "2023-08-07T14:07:03.504Z"
   },
   {
    "duration": 396,
    "start_time": "2023-08-07T14:07:03.553Z"
   },
   {
    "duration": 530,
    "start_time": "2023-08-07T16:18:24.101Z"
   },
   {
    "duration": 29,
    "start_time": "2023-08-07T16:18:24.633Z"
   },
   {
    "duration": 2195,
    "start_time": "2023-08-07T16:18:24.664Z"
   },
   {
    "duration": 10,
    "start_time": "2023-08-07T16:18:26.861Z"
   },
   {
    "duration": 553,
    "start_time": "2023-08-07T16:18:26.872Z"
   },
   {
    "duration": 107,
    "start_time": "2023-08-07T16:18:27.426Z"
   },
   {
    "duration": 106,
    "start_time": "2023-08-07T16:18:27.534Z"
   },
   {
    "duration": 41,
    "start_time": "2023-08-07T16:18:27.641Z"
   },
   {
    "duration": 369,
    "start_time": "2023-08-07T16:18:27.683Z"
   },
   {
    "duration": 113,
    "start_time": "2023-08-07T16:20:33.855Z"
   },
   {
    "duration": 22,
    "start_time": "2023-08-07T16:20:33.969Z"
   },
   {
    "duration": 1746,
    "start_time": "2023-08-07T16:20:33.993Z"
   },
   {
    "duration": 10,
    "start_time": "2023-08-07T16:20:35.741Z"
   },
   {
    "duration": 630,
    "start_time": "2023-08-07T16:20:35.753Z"
   },
   {
    "duration": 108,
    "start_time": "2023-08-07T16:20:36.384Z"
   },
   {
    "duration": 62,
    "start_time": "2023-08-07T16:20:36.493Z"
   },
   {
    "duration": 52,
    "start_time": "2023-08-07T16:20:36.557Z"
   },
   {
    "duration": 317,
    "start_time": "2023-08-07T16:20:36.610Z"
   },
   {
    "duration": 153,
    "start_time": "2023-08-07T16:33:35.940Z"
   },
   {
    "duration": 113,
    "start_time": "2023-08-07T16:33:45.538Z"
   },
   {
    "duration": 241,
    "start_time": "2023-08-07T16:33:52.389Z"
   },
   {
    "duration": 458,
    "start_time": "2023-08-07T16:33:59.927Z"
   },
   {
    "duration": 171,
    "start_time": "2023-08-07T16:34:06.730Z"
   },
   {
    "duration": 164,
    "start_time": "2023-08-07T16:37:34.428Z"
   },
   {
    "duration": 319,
    "start_time": "2023-08-07T16:43:15.953Z"
   },
   {
    "duration": 1790,
    "start_time": "2023-08-07T16:43:23.868Z"
   },
   {
    "duration": 184,
    "start_time": "2023-08-07T16:43:33.723Z"
   },
   {
    "duration": 186,
    "start_time": "2023-08-07T16:43:39.203Z"
   },
   {
    "duration": 416,
    "start_time": "2023-08-07T16:43:46.275Z"
   },
   {
    "duration": 266,
    "start_time": "2023-08-07T16:44:29.031Z"
   },
   {
    "duration": 263,
    "start_time": "2023-08-07T16:44:38.978Z"
   },
   {
    "duration": 280,
    "start_time": "2023-08-07T16:44:47.144Z"
   },
   {
    "duration": 292,
    "start_time": "2023-08-07T16:45:19.678Z"
   },
   {
    "duration": 286,
    "start_time": "2023-08-07T16:45:39.387Z"
   },
   {
    "duration": 1568,
    "start_time": "2023-08-07T16:46:39.694Z"
   },
   {
    "duration": 287,
    "start_time": "2023-08-07T16:46:51.393Z"
   },
   {
    "duration": 302,
    "start_time": "2023-08-07T16:46:58.983Z"
   },
   {
    "duration": 543,
    "start_time": "2023-08-07T16:47:03.925Z"
   },
   {
    "duration": 305,
    "start_time": "2023-08-07T16:47:16.186Z"
   },
   {
    "duration": 466,
    "start_time": "2023-08-07T16:47:23.298Z"
   },
   {
    "duration": 848,
    "start_time": "2023-08-07T16:47:37.651Z"
   },
   {
    "duration": 648,
    "start_time": "2023-08-07T16:48:11.673Z"
   },
   {
    "duration": 427,
    "start_time": "2023-08-07T16:48:33.909Z"
   },
   {
    "duration": 408,
    "start_time": "2023-08-07T16:48:43.043Z"
   },
   {
    "duration": 452,
    "start_time": "2023-08-07T16:51:25.160Z"
   },
   {
    "duration": 456,
    "start_time": "2023-08-07T16:51:31.008Z"
   },
   {
    "duration": 466,
    "start_time": "2023-08-07T16:51:58.250Z"
   },
   {
    "duration": 148,
    "start_time": "2023-08-07T16:52:05.987Z"
   },
   {
    "duration": 704,
    "start_time": "2023-08-07T16:52:36.225Z"
   },
   {
    "duration": 110,
    "start_time": "2023-08-07T16:52:41.012Z"
   },
   {
    "duration": 120,
    "start_time": "2023-08-07T16:53:00.127Z"
   },
   {
    "duration": 121,
    "start_time": "2023-08-07T16:53:11.515Z"
   },
   {
    "duration": 103,
    "start_time": "2023-08-07T16:53:32.839Z"
   },
   {
    "duration": 526,
    "start_time": "2023-08-07T16:54:49.618Z"
   },
   {
    "duration": 467,
    "start_time": "2023-08-07T16:56:01.009Z"
   },
   {
    "duration": 142,
    "start_time": "2023-08-07T17:00:19.097Z"
   },
   {
    "duration": 65,
    "start_time": "2023-08-07T17:01:16.939Z"
   },
   {
    "duration": 65,
    "start_time": "2023-08-07T17:01:33.954Z"
   },
   {
    "duration": 543,
    "start_time": "2023-08-07T17:01:50.976Z"
   },
   {
    "duration": 82,
    "start_time": "2023-08-07T17:03:20.965Z"
   },
   {
    "duration": 4,
    "start_time": "2023-08-07T17:03:35.825Z"
   },
   {
    "duration": 5,
    "start_time": "2023-08-07T17:03:55.143Z"
   },
   {
    "duration": 5,
    "start_time": "2023-08-07T17:04:04.290Z"
   },
   {
    "duration": 429,
    "start_time": "2023-08-07T17:04:14.806Z"
   },
   {
    "duration": 398,
    "start_time": "2023-08-07T17:04:44.528Z"
   },
   {
    "duration": 762,
    "start_time": "2023-08-07T17:06:25.183Z"
   },
   {
    "duration": 461,
    "start_time": "2023-08-07T17:06:41.966Z"
   },
   {
    "duration": 468,
    "start_time": "2023-08-07T17:07:48.642Z"
   },
   {
    "duration": 434,
    "start_time": "2023-08-07T17:08:05.604Z"
   },
   {
    "duration": 390,
    "start_time": "2023-08-07T17:13:38.503Z"
   },
   {
    "duration": 213,
    "start_time": "2023-08-07T17:14:07.573Z"
   },
   {
    "duration": 261,
    "start_time": "2023-08-07T17:21:47.187Z"
   },
   {
    "duration": 492,
    "start_time": "2023-08-07T17:21:51.091Z"
   },
   {
    "duration": 223,
    "start_time": "2023-08-07T17:21:57.508Z"
   },
   {
    "duration": 796,
    "start_time": "2023-08-07T17:22:12.095Z"
   },
   {
    "duration": 418,
    "start_time": "2023-08-07T17:24:04.430Z"
   },
   {
    "duration": 416,
    "start_time": "2023-08-07T17:30:40.291Z"
   },
   {
    "duration": 1084,
    "start_time": "2023-08-07T17:30:49.719Z"
   },
   {
    "duration": 518,
    "start_time": "2023-08-07T17:31:04.663Z"
   },
   {
    "duration": 1547,
    "start_time": "2023-08-07T17:34:05.363Z"
   },
   {
    "duration": 456,
    "start_time": "2023-08-07T17:34:13.753Z"
   },
   {
    "duration": 861,
    "start_time": "2023-08-07T17:37:47.366Z"
   },
   {
    "duration": 505,
    "start_time": "2023-08-07T17:38:02.359Z"
   },
   {
    "duration": 339,
    "start_time": "2023-08-07T17:38:18.330Z"
   },
   {
    "duration": 305,
    "start_time": "2023-08-07T17:39:10.682Z"
   },
   {
    "duration": 307,
    "start_time": "2023-08-07T17:39:21.531Z"
   },
   {
    "duration": 365,
    "start_time": "2023-08-07T17:40:49.384Z"
   },
   {
    "duration": 302,
    "start_time": "2023-08-07T17:40:53.692Z"
   },
   {
    "duration": 442,
    "start_time": "2023-08-07T17:41:00.295Z"
   },
   {
    "duration": 324,
    "start_time": "2023-08-07T17:47:53.425Z"
   },
   {
    "duration": 374,
    "start_time": "2023-08-07T17:48:21.064Z"
   },
   {
    "duration": 468,
    "start_time": "2023-08-07T17:55:31.711Z"
   },
   {
    "duration": 367,
    "start_time": "2023-08-07T17:55:32.682Z"
   },
   {
    "duration": 878,
    "start_time": "2023-08-07T17:55:54.751Z"
   },
   {
    "duration": 389,
    "start_time": "2023-08-07T17:56:03.709Z"
   },
   {
    "duration": 19436,
    "start_time": "2023-08-07T17:56:16.777Z"
   },
   {
    "duration": 1885,
    "start_time": "2023-08-07T17:56:58.954Z"
   },
   {
    "duration": 4929,
    "start_time": "2023-08-07T17:57:44.556Z"
   },
   {
    "duration": 5701,
    "start_time": "2023-08-07T17:59:05.045Z"
   },
   {
    "duration": 10712,
    "start_time": "2023-08-07T17:59:20.250Z"
   },
   {
    "duration": 4299,
    "start_time": "2023-08-07T17:59:39.271Z"
   },
   {
    "duration": 3631,
    "start_time": "2023-08-07T18:00:45.132Z"
   },
   {
    "duration": 147,
    "start_time": "2023-08-07T18:07:15.789Z"
   },
   {
    "duration": 2411,
    "start_time": "2023-08-07T18:07:27.582Z"
   },
   {
    "duration": 333,
    "start_time": "2023-08-07T18:07:36.196Z"
   },
   {
    "duration": 193,
    "start_time": "2023-08-07T18:07:45.302Z"
   },
   {
    "duration": 233,
    "start_time": "2023-08-07T18:07:54.511Z"
   },
   {
    "duration": 283,
    "start_time": "2023-08-07T18:08:07.667Z"
   },
   {
    "duration": 225,
    "start_time": "2023-08-07T18:15:29.474Z"
   },
   {
    "duration": 267,
    "start_time": "2023-08-07T18:15:42.858Z"
   },
   {
    "duration": 554,
    "start_time": "2023-08-07T18:15:48.557Z"
   },
   {
    "duration": 228,
    "start_time": "2023-08-07T18:15:57.198Z"
   },
   {
    "duration": 194,
    "start_time": "2023-08-07T18:16:01.667Z"
   },
   {
    "duration": 200,
    "start_time": "2023-08-07T18:16:09.358Z"
   },
   {
    "duration": 232,
    "start_time": "2023-08-07T18:21:34.873Z"
   },
   {
    "duration": 208,
    "start_time": "2023-08-07T18:21:56.954Z"
   },
   {
    "duration": 197,
    "start_time": "2023-08-07T18:23:47.463Z"
   },
   {
    "duration": 323,
    "start_time": "2023-08-07T18:23:53.414Z"
   },
   {
    "duration": 803,
    "start_time": "2023-08-07T18:24:13.760Z"
   },
   {
    "duration": 225,
    "start_time": "2023-08-07T18:24:24.950Z"
   },
   {
    "duration": 319,
    "start_time": "2023-08-07T18:24:30.434Z"
   },
   {
    "duration": 22,
    "start_time": "2023-08-07T18:30:26.420Z"
   },
   {
    "duration": 19,
    "start_time": "2023-08-07T18:34:46.716Z"
   },
   {
    "duration": 114,
    "start_time": "2023-08-07T18:35:51.227Z"
   },
   {
    "duration": 259,
    "start_time": "2023-08-07T18:37:12.604Z"
   },
   {
    "duration": 12,
    "start_time": "2023-08-07T18:37:30.316Z"
   },
   {
    "duration": 10,
    "start_time": "2023-08-07T18:37:45.262Z"
   },
   {
    "duration": 31,
    "start_time": "2023-08-07T18:37:55.056Z"
   },
   {
    "duration": 119,
    "start_time": "2023-08-07T18:41:52.336Z"
   },
   {
    "duration": 123,
    "start_time": "2023-08-07T18:42:08.164Z"
   },
   {
    "duration": 324,
    "start_time": "2023-08-07T18:43:29.261Z"
   },
   {
    "duration": 306,
    "start_time": "2023-08-07T18:43:42.725Z"
   },
   {
    "duration": 17,
    "start_time": "2023-08-07T18:44:40.084Z"
   },
   {
    "duration": 15,
    "start_time": "2023-08-07T18:44:52.853Z"
   },
   {
    "duration": 317,
    "start_time": "2023-08-07T18:45:09.659Z"
   },
   {
    "duration": 10,
    "start_time": "2023-08-07T18:48:32.362Z"
   },
   {
    "duration": 102,
    "start_time": "2023-08-07T18:51:08.761Z"
   },
   {
    "duration": 10,
    "start_time": "2023-08-07T18:51:46.538Z"
   },
   {
    "duration": 61,
    "start_time": "2023-08-07T18:53:09.010Z"
   },
   {
    "duration": 72,
    "start_time": "2023-08-07T18:53:16.273Z"
   },
   {
    "duration": 10,
    "start_time": "2023-08-07T18:54:13.703Z"
   },
   {
    "duration": 27,
    "start_time": "2023-08-07T18:55:17.670Z"
   },
   {
    "duration": 27,
    "start_time": "2023-08-07T18:56:05.025Z"
   },
   {
    "duration": 89,
    "start_time": "2023-08-07T18:56:23.106Z"
   },
   {
    "duration": 27,
    "start_time": "2023-08-07T18:56:23.196Z"
   },
   {
    "duration": 1856,
    "start_time": "2023-08-07T18:56:23.224Z"
   },
   {
    "duration": 9,
    "start_time": "2023-08-07T18:56:25.082Z"
   },
   {
    "duration": 486,
    "start_time": "2023-08-07T18:56:25.092Z"
   },
   {
    "duration": 104,
    "start_time": "2023-08-07T18:56:25.579Z"
   },
   {
    "duration": 62,
    "start_time": "2023-08-07T18:56:25.685Z"
   },
   {
    "duration": 48,
    "start_time": "2023-08-07T18:56:25.749Z"
   },
   {
    "duration": 609,
    "start_time": "2023-08-07T18:56:25.799Z"
   },
   {
    "duration": 426,
    "start_time": "2023-08-07T18:56:26.411Z"
   },
   {
    "duration": 422,
    "start_time": "2023-08-07T18:56:26.839Z"
   },
   {
    "duration": 277,
    "start_time": "2023-08-07T18:56:27.262Z"
   },
   {
    "duration": 3305,
    "start_time": "2023-08-07T18:56:27.540Z"
   },
   {
    "duration": 245,
    "start_time": "2023-08-07T18:56:30.847Z"
   },
   {
    "duration": 224,
    "start_time": "2023-08-07T18:56:31.094Z"
   },
   {
    "duration": 291,
    "start_time": "2023-08-07T18:56:31.320Z"
   },
   {
    "duration": 26,
    "start_time": "2023-08-07T18:56:31.613Z"
   },
   {
    "duration": 73,
    "start_time": "2023-08-08T06:34:34.714Z"
   },
   {
    "duration": 902,
    "start_time": "2023-08-08T06:34:44.389Z"
   },
   {
    "duration": 55,
    "start_time": "2023-08-08T06:34:45.294Z"
   },
   {
    "duration": 3124,
    "start_time": "2023-08-08T06:34:45.351Z"
   },
   {
    "duration": 14,
    "start_time": "2023-08-08T06:34:48.479Z"
   },
   {
    "duration": 620,
    "start_time": "2023-08-08T06:34:48.499Z"
   },
   {
    "duration": 141,
    "start_time": "2023-08-08T06:34:49.126Z"
   },
   {
    "duration": 101,
    "start_time": "2023-08-08T06:34:49.269Z"
   },
   {
    "duration": 76,
    "start_time": "2023-08-08T06:34:49.372Z"
   },
   {
    "duration": 498,
    "start_time": "2023-08-08T06:34:49.450Z"
   },
   {
    "duration": 606,
    "start_time": "2023-08-08T06:34:49.950Z"
   },
   {
    "duration": 538,
    "start_time": "2023-08-08T06:34:50.557Z"
   },
   {
    "duration": 397,
    "start_time": "2023-08-08T06:34:51.096Z"
   },
   {
    "duration": 4038,
    "start_time": "2023-08-08T06:34:51.500Z"
   },
   {
    "duration": 313,
    "start_time": "2023-08-08T06:34:55.540Z"
   },
   {
    "duration": 254,
    "start_time": "2023-08-08T06:34:55.855Z"
   },
   {
    "duration": 384,
    "start_time": "2023-08-08T06:34:56.117Z"
   },
   {
    "duration": 46,
    "start_time": "2023-08-08T06:34:56.510Z"
   },
   {
    "duration": 7,
    "start_time": "2023-08-08T06:36:25.259Z"
   },
   {
    "duration": 129,
    "start_time": "2023-08-08T06:37:53.300Z"
   },
   {
    "duration": 469,
    "start_time": "2023-08-08T06:38:10.119Z"
   },
   {
    "duration": 188,
    "start_time": "2023-08-08T06:39:08.433Z"
   },
   {
    "duration": 111,
    "start_time": "2023-08-08T06:39:25.542Z"
   },
   {
    "duration": 2828,
    "start_time": "2023-08-08T06:42:00.260Z"
   },
   {
    "duration": 193,
    "start_time": "2023-08-08T06:42:19.551Z"
   },
   {
    "duration": 220,
    "start_time": "2023-08-08T06:43:56.116Z"
   },
   {
    "duration": 196,
    "start_time": "2023-08-08T06:44:10.171Z"
   },
   {
    "duration": 1507,
    "start_time": "2023-08-08T06:44:46.673Z"
   },
   {
    "duration": 1034,
    "start_time": "2023-08-08T06:44:59.683Z"
   },
   {
    "duration": 265,
    "start_time": "2023-08-08T06:45:22.256Z"
   },
   {
    "duration": 167,
    "start_time": "2023-08-08T06:45:31.481Z"
   },
   {
    "duration": 147,
    "start_time": "2023-08-08T06:57:52.447Z"
   },
   {
    "duration": 1733,
    "start_time": "2023-08-08T06:58:17.941Z"
   },
   {
    "duration": 168,
    "start_time": "2023-08-08T06:58:31.983Z"
   },
   {
    "duration": 11,
    "start_time": "2023-08-08T07:01:39.563Z"
   },
   {
    "duration": 2174,
    "start_time": "2023-08-08T07:13:23.392Z"
   },
   {
    "duration": 173,
    "start_time": "2023-08-08T07:14:04.547Z"
   },
   {
    "duration": 211,
    "start_time": "2023-08-08T07:14:14.245Z"
   },
   {
    "duration": 208,
    "start_time": "2023-08-08T07:14:52.019Z"
   },
   {
    "duration": 209,
    "start_time": "2023-08-08T07:15:01.546Z"
   },
   {
    "duration": 241,
    "start_time": "2023-08-08T07:15:10.186Z"
   },
   {
    "duration": 232,
    "start_time": "2023-08-08T07:15:16.920Z"
   },
   {
    "duration": 247,
    "start_time": "2023-08-08T07:16:14.943Z"
   },
   {
    "duration": 2116,
    "start_time": "2023-08-08T07:29:48.412Z"
   },
   {
    "duration": 3222,
    "start_time": "2023-08-08T07:30:01.326Z"
   },
   {
    "duration": 2842,
    "start_time": "2023-08-08T07:30:15.697Z"
   },
   {
    "duration": 5,
    "start_time": "2023-08-08T07:31:24.714Z"
   },
   {
    "duration": 119,
    "start_time": "2023-08-08T07:32:01.408Z"
   },
   {
    "duration": 6,
    "start_time": "2023-08-08T07:32:13.601Z"
   },
   {
    "duration": 224,
    "start_time": "2023-08-08T07:32:20.908Z"
   },
   {
    "duration": 227,
    "start_time": "2023-08-08T07:33:22.917Z"
   },
   {
    "duration": 220,
    "start_time": "2023-08-08T07:33:50.866Z"
   },
   {
    "duration": 214,
    "start_time": "2023-08-08T07:34:45.051Z"
   },
   {
    "duration": 222,
    "start_time": "2023-08-08T07:36:41.837Z"
   },
   {
    "duration": 215,
    "start_time": "2023-08-08T07:36:58.345Z"
   },
   {
    "duration": 259,
    "start_time": "2023-08-08T07:51:45.398Z"
   },
   {
    "duration": 224,
    "start_time": "2023-08-08T07:51:45.659Z"
   },
   {
    "duration": 348,
    "start_time": "2023-08-08T07:51:45.885Z"
   },
   {
    "duration": 218,
    "start_time": "2023-08-08T07:51:55.427Z"
   },
   {
    "duration": 205,
    "start_time": "2023-08-08T07:52:00.418Z"
   },
   {
    "duration": 209,
    "start_time": "2023-08-08T07:53:22.723Z"
   },
   {
    "duration": 237,
    "start_time": "2023-08-08T07:53:27.693Z"
   },
   {
    "duration": 221,
    "start_time": "2023-08-08T07:53:33.096Z"
   },
   {
    "duration": 0,
    "start_time": "2023-08-08T07:54:36.626Z"
   },
   {
    "duration": 6289,
    "start_time": "2023-08-08T07:54:46.293Z"
   },
   {
    "duration": 237,
    "start_time": "2023-08-08T07:55:06.496Z"
   },
   {
    "duration": 211,
    "start_time": "2023-08-08T07:56:13.021Z"
   },
   {
    "duration": 229,
    "start_time": "2023-08-08T07:56:24.292Z"
   },
   {
    "duration": 353,
    "start_time": "2023-08-08T07:57:56.022Z"
   },
   {
    "duration": 236,
    "start_time": "2023-08-08T07:58:02.610Z"
   },
   {
    "duration": 235,
    "start_time": "2023-08-08T08:00:23.670Z"
   },
   {
    "duration": 230,
    "start_time": "2023-08-08T08:01:02.487Z"
   },
   {
    "duration": 241,
    "start_time": "2023-08-08T08:06:05.451Z"
   },
   {
    "duration": 199,
    "start_time": "2023-08-08T08:06:29.134Z"
   },
   {
    "duration": 249,
    "start_time": "2023-08-08T08:16:46.868Z"
   },
   {
    "duration": 230,
    "start_time": "2023-08-08T08:16:58.556Z"
   },
   {
    "duration": 239,
    "start_time": "2023-08-08T08:17:06.042Z"
   },
   {
    "duration": 1057,
    "start_time": "2023-08-08T08:23:28.503Z"
   },
   {
    "duration": 177,
    "start_time": "2023-08-08T08:23:53.498Z"
   },
   {
    "duration": 204,
    "start_time": "2023-08-08T08:24:00.848Z"
   },
   {
    "duration": 217,
    "start_time": "2023-08-08T08:24:16.300Z"
   },
   {
    "duration": 205,
    "start_time": "2023-08-08T08:25:27.068Z"
   },
   {
    "duration": 216,
    "start_time": "2023-08-08T08:25:31.910Z"
   },
   {
    "duration": 277,
    "start_time": "2023-08-08T08:41:28.915Z"
   },
   {
    "duration": 189,
    "start_time": "2023-08-08T08:41:38.385Z"
   },
   {
    "duration": 232,
    "start_time": "2023-08-08T08:41:49.962Z"
   },
   {
    "duration": 205,
    "start_time": "2023-08-08T08:42:03.646Z"
   },
   {
    "duration": 265,
    "start_time": "2023-08-08T08:42:11.664Z"
   },
   {
    "duration": 190,
    "start_time": "2023-08-08T08:42:57.059Z"
   },
   {
    "duration": 226,
    "start_time": "2023-08-08T08:43:02.330Z"
   },
   {
    "duration": 329,
    "start_time": "2023-08-08T08:43:24.825Z"
   },
   {
    "duration": 367,
    "start_time": "2023-08-08T09:04:33.803Z"
   },
   {
    "duration": 477,
    "start_time": "2023-08-08T09:04:46.845Z"
   },
   {
    "duration": 827,
    "start_time": "2023-08-08T09:04:58.195Z"
   },
   {
    "duration": 1042,
    "start_time": "2023-08-08T09:05:16.591Z"
   },
   {
    "duration": 761,
    "start_time": "2023-08-08T09:05:25.328Z"
   },
   {
    "duration": 615,
    "start_time": "2023-08-08T09:06:32.026Z"
   },
   {
    "duration": 683,
    "start_time": "2023-08-08T09:10:55.245Z"
   },
   {
    "duration": 736,
    "start_time": "2023-08-08T09:11:19.596Z"
   },
   {
    "duration": 602,
    "start_time": "2023-08-08T09:11:27.105Z"
   },
   {
    "duration": 778,
    "start_time": "2023-08-08T09:12:27.189Z"
   },
   {
    "duration": 590,
    "start_time": "2023-08-08T09:12:37.414Z"
   },
   {
    "duration": 773,
    "start_time": "2023-08-08T09:12:44.179Z"
   },
   {
    "duration": 645,
    "start_time": "2023-08-08T09:13:09.999Z"
   },
   {
    "duration": 145,
    "start_time": "2023-08-08T12:16:16.572Z"
   },
   {
    "duration": 141,
    "start_time": "2023-08-08T12:17:05.838Z"
   },
   {
    "duration": 155,
    "start_time": "2023-08-08T12:18:14.715Z"
   },
   {
    "duration": 291,
    "start_time": "2023-08-08T12:18:48.350Z"
   },
   {
    "duration": 155,
    "start_time": "2023-08-08T12:22:17.675Z"
   },
   {
    "duration": 187,
    "start_time": "2023-08-08T12:22:25.651Z"
   },
   {
    "duration": 184,
    "start_time": "2023-08-08T12:22:33.463Z"
   },
   {
    "duration": 176,
    "start_time": "2023-08-08T12:25:03.923Z"
   },
   {
    "duration": 240,
    "start_time": "2023-08-08T12:27:50.469Z"
   },
   {
    "duration": 261,
    "start_time": "2023-08-08T12:28:14.943Z"
   },
   {
    "duration": 236,
    "start_time": "2023-08-08T12:35:24.578Z"
   },
   {
    "duration": 174,
    "start_time": "2023-08-08T12:40:17.744Z"
   },
   {
    "duration": 180,
    "start_time": "2023-08-08T12:41:22.613Z"
   },
   {
    "duration": 194,
    "start_time": "2023-08-08T12:41:34.195Z"
   },
   {
    "duration": 181,
    "start_time": "2023-08-08T12:43:39.326Z"
   },
   {
    "duration": 311,
    "start_time": "2023-08-08T12:44:37.952Z"
   },
   {
    "duration": 191,
    "start_time": "2023-08-08T12:44:45.520Z"
   },
   {
    "duration": 188,
    "start_time": "2023-08-08T12:45:29.372Z"
   },
   {
    "duration": 183,
    "start_time": "2023-08-08T12:46:11.060Z"
   },
   {
    "duration": 194,
    "start_time": "2023-08-08T12:50:05.104Z"
   },
   {
    "duration": 307,
    "start_time": "2023-08-08T12:50:14.293Z"
   },
   {
    "duration": 197,
    "start_time": "2023-08-08T12:54:28.251Z"
   },
   {
    "duration": 175,
    "start_time": "2023-08-08T12:55:26.941Z"
   },
   {
    "duration": 184,
    "start_time": "2023-08-08T12:55:34.870Z"
   },
   {
    "duration": 102,
    "start_time": "2023-08-08T12:55:37.680Z"
   },
   {
    "duration": 27,
    "start_time": "2023-08-08T12:55:37.784Z"
   },
   {
    "duration": 2005,
    "start_time": "2023-08-08T12:55:37.813Z"
   },
   {
    "duration": 10,
    "start_time": "2023-08-08T12:55:39.820Z"
   },
   {
    "duration": 542,
    "start_time": "2023-08-08T12:55:39.831Z"
   },
   {
    "duration": 122,
    "start_time": "2023-08-08T12:55:40.376Z"
   },
   {
    "duration": 66,
    "start_time": "2023-08-08T12:55:40.500Z"
   },
   {
    "duration": 60,
    "start_time": "2023-08-08T12:55:40.568Z"
   },
   {
    "duration": 395,
    "start_time": "2023-08-08T12:55:40.630Z"
   },
   {
    "duration": 463,
    "start_time": "2023-08-08T12:55:41.028Z"
   },
   {
    "duration": 571,
    "start_time": "2023-08-08T12:55:41.495Z"
   },
   {
    "duration": 317,
    "start_time": "2023-08-08T12:55:42.068Z"
   },
   {
    "duration": 3433,
    "start_time": "2023-08-08T12:55:42.387Z"
   },
   {
    "duration": 261,
    "start_time": "2023-08-08T12:55:45.822Z"
   },
   {
    "duration": 533,
    "start_time": "2023-08-08T12:55:46.085Z"
   },
   {
    "duration": 397,
    "start_time": "2023-08-08T12:55:46.620Z"
   },
   {
    "duration": 174,
    "start_time": "2023-08-08T12:55:47.018Z"
   },
   {
    "duration": 220,
    "start_time": "2023-08-08T12:55:47.194Z"
   },
   {
    "duration": 201,
    "start_time": "2023-08-08T12:55:47.416Z"
   },
   {
    "duration": 210,
    "start_time": "2023-08-08T12:55:47.619Z"
   },
   {
    "duration": 210,
    "start_time": "2023-08-08T12:55:47.831Z"
   },
   {
    "duration": 208,
    "start_time": "2023-08-08T12:55:48.042Z"
   },
   {
    "duration": 229,
    "start_time": "2023-08-08T12:55:48.252Z"
   },
   {
    "duration": 236,
    "start_time": "2023-08-08T12:55:48.483Z"
   },
   {
    "duration": 338,
    "start_time": "2023-08-08T12:55:48.720Z"
   },
   {
    "duration": 748,
    "start_time": "2023-08-08T12:55:49.061Z"
   },
   {
    "duration": 184,
    "start_time": "2023-08-08T12:55:49.811Z"
   },
   {
    "duration": 185,
    "start_time": "2023-08-08T12:58:17.672Z"
   },
   {
    "duration": 168,
    "start_time": "2023-08-08T12:58:31.370Z"
   },
   {
    "duration": 184,
    "start_time": "2023-08-08T12:58:38.134Z"
   },
   {
    "duration": 186,
    "start_time": "2023-08-08T13:00:18.421Z"
   },
   {
    "duration": 191,
    "start_time": "2023-08-08T13:02:42.659Z"
   },
   {
    "duration": 221,
    "start_time": "2023-08-08T13:02:46.717Z"
   },
   {
    "duration": 179,
    "start_time": "2023-08-08T13:15:38.336Z"
   },
   {
    "duration": 199,
    "start_time": "2023-08-08T13:41:56.602Z"
   },
   {
    "duration": 172,
    "start_time": "2023-08-08T13:41:59.949Z"
   },
   {
    "duration": 166,
    "start_time": "2023-08-08T13:42:59.247Z"
   },
   {
    "duration": 158,
    "start_time": "2023-08-08T13:43:38.505Z"
   },
   {
    "duration": 158,
    "start_time": "2023-08-08T13:44:05.127Z"
   },
   {
    "duration": 161,
    "start_time": "2023-08-08T13:44:24.213Z"
   },
   {
    "duration": 178,
    "start_time": "2023-08-08T13:44:33.527Z"
   },
   {
    "duration": 188,
    "start_time": "2023-08-08T13:56:51.049Z"
   },
   {
    "duration": 344,
    "start_time": "2023-08-08T13:56:59.023Z"
   },
   {
    "duration": 182,
    "start_time": "2023-08-08T13:57:11.638Z"
   },
   {
    "duration": 195,
    "start_time": "2023-08-08T13:57:21.911Z"
   },
   {
    "duration": 176,
    "start_time": "2023-08-08T13:57:54.700Z"
   },
   {
    "duration": 590,
    "start_time": "2023-08-08T13:58:10.924Z"
   },
   {
    "duration": 587,
    "start_time": "2023-08-08T13:58:24.003Z"
   },
   {
    "duration": 696,
    "start_time": "2023-08-08T13:58:29.884Z"
   },
   {
    "duration": 1154,
    "start_time": "2023-08-08T13:59:19.386Z"
   },
   {
    "duration": 780,
    "start_time": "2023-08-08T13:59:28.565Z"
   },
   {
    "duration": 538,
    "start_time": "2023-08-08T13:59:52.615Z"
   },
   {
    "duration": 622,
    "start_time": "2023-08-08T13:59:56.619Z"
   },
   {
    "duration": 617,
    "start_time": "2023-08-08T14:00:09.504Z"
   },
   {
    "duration": 166,
    "start_time": "2023-08-08T14:02:38.583Z"
   },
   {
    "duration": 165,
    "start_time": "2023-08-08T14:05:03.231Z"
   },
   {
    "duration": 167,
    "start_time": "2023-08-08T14:05:39.394Z"
   },
   {
    "duration": 180,
    "start_time": "2023-08-08T14:06:10.914Z"
   },
   {
    "duration": 165,
    "start_time": "2023-08-08T14:06:14.184Z"
   },
   {
    "duration": 188,
    "start_time": "2023-08-08T14:07:31.194Z"
   },
   {
    "duration": 189,
    "start_time": "2023-08-08T14:07:38.406Z"
   },
   {
    "duration": 194,
    "start_time": "2023-08-08T14:07:46.408Z"
   },
   {
    "duration": 184,
    "start_time": "2023-08-08T14:07:57.344Z"
   },
   {
    "duration": 187,
    "start_time": "2023-08-08T14:09:23.451Z"
   },
   {
    "duration": 334,
    "start_time": "2023-08-08T14:09:34.467Z"
   },
   {
    "duration": 182,
    "start_time": "2023-08-08T14:09:42.668Z"
   },
   {
    "duration": 8045,
    "start_time": "2023-08-08T14:11:34.438Z"
   },
   {
    "duration": 2452,
    "start_time": "2023-08-08T14:11:44.183Z"
   },
   {
    "duration": 2413,
    "start_time": "2023-08-08T14:11:55.035Z"
   },
   {
    "duration": 199,
    "start_time": "2023-08-08T14:12:06.145Z"
   },
   {
    "duration": 194,
    "start_time": "2023-08-08T14:12:16.767Z"
   },
   {
    "duration": 186,
    "start_time": "2023-08-08T14:12:25.644Z"
   },
   {
    "duration": 2286,
    "start_time": "2023-08-08T14:13:14.978Z"
   },
   {
    "duration": 207,
    "start_time": "2023-08-08T14:14:32.673Z"
   },
   {
    "duration": 198,
    "start_time": "2023-08-08T14:14:49.242Z"
   },
   {
    "duration": 177,
    "start_time": "2023-08-08T14:14:59.515Z"
   },
   {
    "duration": 48,
    "start_time": "2023-08-08T19:18:14.093Z"
   },
   {
    "duration": 668,
    "start_time": "2023-08-08T19:18:18.836Z"
   },
   {
    "duration": 27,
    "start_time": "2023-08-08T19:18:19.506Z"
   },
   {
    "duration": 2007,
    "start_time": "2023-08-08T19:18:19.535Z"
   },
   {
    "duration": 9,
    "start_time": "2023-08-08T19:18:21.544Z"
   },
   {
    "duration": 376,
    "start_time": "2023-08-08T19:18:21.555Z"
   },
   {
    "duration": 107,
    "start_time": "2023-08-08T19:18:21.932Z"
   },
   {
    "duration": 63,
    "start_time": "2023-08-08T19:18:22.040Z"
   },
   {
    "duration": 38,
    "start_time": "2023-08-08T19:18:22.105Z"
   },
   {
    "duration": 376,
    "start_time": "2023-08-08T19:18:22.145Z"
   },
   {
    "duration": 366,
    "start_time": "2023-08-08T19:18:22.524Z"
   },
   {
    "duration": 357,
    "start_time": "2023-08-08T19:18:22.892Z"
   },
   {
    "duration": 269,
    "start_time": "2023-08-08T19:18:23.251Z"
   },
   {
    "duration": 2734,
    "start_time": "2023-08-08T19:18:23.522Z"
   },
   {
    "duration": 217,
    "start_time": "2023-08-08T19:18:26.257Z"
   },
   {
    "duration": 189,
    "start_time": "2023-08-08T19:18:26.475Z"
   },
   {
    "duration": 254,
    "start_time": "2023-08-08T19:18:26.665Z"
   },
   {
    "duration": 133,
    "start_time": "2023-08-08T19:18:26.920Z"
   },
   {
    "duration": 176,
    "start_time": "2023-08-08T19:18:27.055Z"
   },
   {
    "duration": 167,
    "start_time": "2023-08-08T19:18:27.233Z"
   },
   {
    "duration": 362,
    "start_time": "2023-08-08T19:18:27.402Z"
   },
   {
    "duration": 200,
    "start_time": "2023-08-08T19:18:27.766Z"
   },
   {
    "duration": 176,
    "start_time": "2023-08-08T19:18:27.968Z"
   },
   {
    "duration": 177,
    "start_time": "2023-08-08T19:18:28.145Z"
   },
   {
    "duration": 187,
    "start_time": "2023-08-08T19:18:28.324Z"
   },
   {
    "duration": 258,
    "start_time": "2023-08-08T19:18:28.513Z"
   },
   {
    "duration": 552,
    "start_time": "2023-08-08T19:18:28.773Z"
   },
   {
    "duration": 159,
    "start_time": "2023-08-08T19:18:29.327Z"
   },
   {
    "duration": 161,
    "start_time": "2023-08-08T19:18:29.488Z"
   },
   {
    "duration": 152,
    "start_time": "2023-08-08T19:18:29.650Z"
   },
   {
    "duration": 147,
    "start_time": "2023-08-08T19:18:29.803Z"
   },
   {
    "duration": 148,
    "start_time": "2023-08-08T19:18:29.951Z"
   },
   {
    "duration": 153,
    "start_time": "2023-08-08T19:18:30.101Z"
   },
   {
    "duration": 153,
    "start_time": "2023-08-08T19:18:30.256Z"
   },
   {
    "duration": 152,
    "start_time": "2023-08-08T19:18:30.410Z"
   },
   {
    "duration": 161,
    "start_time": "2023-08-08T19:19:01.885Z"
   },
   {
    "duration": 146,
    "start_time": "2023-08-08T19:19:19.708Z"
   },
   {
    "duration": 178,
    "start_time": "2023-08-08T19:20:28.329Z"
   },
   {
    "duration": 168,
    "start_time": "2023-08-08T19:21:02.540Z"
   },
   {
    "duration": 195,
    "start_time": "2023-08-08T19:21:06.918Z"
   },
   {
    "duration": 142,
    "start_time": "2023-08-08T19:21:12.587Z"
   },
   {
    "duration": 144,
    "start_time": "2023-08-08T19:21:20.658Z"
   },
   {
    "duration": 241,
    "start_time": "2023-08-08T19:21:30.115Z"
   },
   {
    "duration": 154,
    "start_time": "2023-08-08T19:22:25.017Z"
   },
   {
    "duration": 193,
    "start_time": "2023-08-08T19:24:03.128Z"
   },
   {
    "duration": 204,
    "start_time": "2023-08-08T19:24:41.509Z"
   },
   {
    "duration": 158,
    "start_time": "2023-08-08T19:26:19.113Z"
   },
   {
    "duration": 158,
    "start_time": "2023-08-08T19:26:49.389Z"
   },
   {
    "duration": 155,
    "start_time": "2023-08-08T19:27:20.509Z"
   },
   {
    "duration": 166,
    "start_time": "2023-08-08T19:27:43.875Z"
   },
   {
    "duration": 151,
    "start_time": "2023-08-08T19:28:19.086Z"
   },
   {
    "duration": 1394,
    "start_time": "2023-08-08T19:28:37.627Z"
   },
   {
    "duration": 153,
    "start_time": "2023-08-08T19:28:49.869Z"
   },
   {
    "duration": 150,
    "start_time": "2023-08-08T19:29:18.952Z"
   },
   {
    "duration": 150,
    "start_time": "2023-08-08T19:30:02.968Z"
   },
   {
    "duration": 233,
    "start_time": "2023-08-08T19:30:08.127Z"
   },
   {
    "duration": 146,
    "start_time": "2023-08-08T19:30:12.767Z"
   },
   {
    "duration": 142,
    "start_time": "2023-08-08T19:32:24.804Z"
   },
   {
    "duration": 160,
    "start_time": "2023-08-08T19:32:31.503Z"
   },
   {
    "duration": 152,
    "start_time": "2023-08-08T19:35:59.599Z"
   },
   {
    "duration": 151,
    "start_time": "2023-08-08T19:36:07.593Z"
   },
   {
    "duration": 176,
    "start_time": "2023-08-08T19:36:19.747Z"
   },
   {
    "duration": 139,
    "start_time": "2023-08-08T19:36:25.782Z"
   },
   {
    "duration": 179,
    "start_time": "2023-08-08T19:36:34.011Z"
   },
   {
    "duration": 152,
    "start_time": "2023-08-08T19:36:43.333Z"
   },
   {
    "duration": 151,
    "start_time": "2023-08-08T19:37:15.116Z"
   },
   {
    "duration": 174,
    "start_time": "2023-08-08T19:37:24.414Z"
   },
   {
    "duration": 151,
    "start_time": "2023-08-08T19:37:34.942Z"
   },
   {
    "duration": 152,
    "start_time": "2023-08-08T19:38:37.897Z"
   },
   {
    "duration": 250,
    "start_time": "2023-08-08T19:38:59.698Z"
   },
   {
    "duration": 8,
    "start_time": "2023-08-08T19:54:15.592Z"
   },
   {
    "duration": 11,
    "start_time": "2023-08-08T19:55:21.526Z"
   },
   {
    "duration": 18,
    "start_time": "2023-08-08T19:55:50.946Z"
   },
   {
    "duration": 18,
    "start_time": "2023-08-08T19:56:45.108Z"
   },
   {
    "duration": 18,
    "start_time": "2023-08-08T19:57:00.309Z"
   },
   {
    "duration": 18,
    "start_time": "2023-08-08T19:57:06.816Z"
   },
   {
    "duration": 18,
    "start_time": "2023-08-08T19:57:11.973Z"
   },
   {
    "duration": 26,
    "start_time": "2023-08-08T19:57:24.907Z"
   },
   {
    "duration": 21,
    "start_time": "2023-08-08T19:57:39.979Z"
   },
   {
    "duration": 14,
    "start_time": "2023-08-08T19:58:14.264Z"
   },
   {
    "duration": 11,
    "start_time": "2023-08-08T20:03:44.254Z"
   },
   {
    "duration": 15,
    "start_time": "2023-08-08T20:04:28.760Z"
   },
   {
    "duration": 14,
    "start_time": "2023-08-08T20:13:36.478Z"
   },
   {
    "duration": 22,
    "start_time": "2023-08-08T20:14:32.498Z"
   },
   {
    "duration": 14,
    "start_time": "2023-08-08T20:14:39.016Z"
   },
   {
    "duration": 14,
    "start_time": "2023-08-08T20:14:44.461Z"
   },
   {
    "duration": 10,
    "start_time": "2023-08-08T20:15:46.674Z"
   },
   {
    "duration": 140,
    "start_time": "2023-08-08T20:17:23.950Z"
   },
   {
    "duration": 153,
    "start_time": "2023-08-08T20:21:54.164Z"
   },
   {
    "duration": 164,
    "start_time": "2023-08-08T20:25:01.152Z"
   },
   {
    "duration": 168,
    "start_time": "2023-08-08T20:26:25.312Z"
   },
   {
    "duration": 155,
    "start_time": "2023-08-08T20:26:39.554Z"
   },
   {
    "duration": 148,
    "start_time": "2023-08-08T20:30:11.771Z"
   },
   {
    "duration": 140,
    "start_time": "2023-08-08T20:30:17.833Z"
   },
   {
    "duration": 146,
    "start_time": "2023-08-08T20:30:32.864Z"
   },
   {
    "duration": 135,
    "start_time": "2023-08-08T20:30:42.448Z"
   },
   {
    "duration": 138,
    "start_time": "2023-08-08T20:30:49.307Z"
   },
   {
    "duration": 142,
    "start_time": "2023-08-08T20:30:54.678Z"
   },
   {
    "duration": 148,
    "start_time": "2023-08-08T20:32:34.335Z"
   },
   {
    "duration": 168,
    "start_time": "2023-08-08T20:33:31.555Z"
   },
   {
    "duration": 224,
    "start_time": "2023-08-08T20:34:03.351Z"
   },
   {
    "duration": 150,
    "start_time": "2023-08-08T20:34:11.016Z"
   },
   {
    "duration": 9,
    "start_time": "2023-08-08T20:40:39.356Z"
   },
   {
    "duration": 55,
    "start_time": "2023-08-08T20:40:45.799Z"
   },
   {
    "duration": 18,
    "start_time": "2023-08-08T20:43:40.358Z"
   },
   {
    "duration": 13,
    "start_time": "2023-08-08T20:44:12.948Z"
   },
   {
    "duration": 1289,
    "start_time": "2023-08-08T20:44:54.317Z"
   },
   {
    "duration": 80,
    "start_time": "2023-08-08T20:48:43.763Z"
   },
   {
    "duration": 92,
    "start_time": "2023-08-08T20:48:52.060Z"
   },
   {
    "duration": 106,
    "start_time": "2023-08-08T20:49:02.500Z"
   },
   {
    "duration": 79,
    "start_time": "2023-08-08T20:49:17.240Z"
   },
   {
    "duration": 72,
    "start_time": "2023-08-08T20:49:42.214Z"
   },
   {
    "duration": 79,
    "start_time": "2023-08-08T20:49:56.001Z"
   },
   {
    "duration": 88,
    "start_time": "2023-08-08T20:50:16.756Z"
   },
   {
    "duration": 19,
    "start_time": "2023-08-08T20:50:29.227Z"
   },
   {
    "duration": 21,
    "start_time": "2023-08-08T20:52:37.473Z"
   },
   {
    "duration": 20,
    "start_time": "2023-08-08T20:52:45.546Z"
   },
   {
    "duration": 21,
    "start_time": "2023-08-08T20:52:59.667Z"
   },
   {
    "duration": 22,
    "start_time": "2023-08-08T20:53:09.055Z"
   },
   {
    "duration": 20,
    "start_time": "2023-08-08T20:53:23.333Z"
   },
   {
    "duration": 34,
    "start_time": "2023-08-08T20:53:32.983Z"
   },
   {
    "duration": 25,
    "start_time": "2023-08-08T20:55:02.516Z"
   },
   {
    "duration": 18,
    "start_time": "2023-08-08T21:04:19.393Z"
   },
   {
    "duration": 19,
    "start_time": "2023-08-08T21:04:34.435Z"
   },
   {
    "duration": 18,
    "start_time": "2023-08-08T21:04:48.967Z"
   },
   {
    "duration": 20,
    "start_time": "2023-08-08T21:04:55.211Z"
   },
   {
    "duration": 25,
    "start_time": "2023-08-08T21:05:36.050Z"
   },
   {
    "duration": 1199,
    "start_time": "2023-08-08T21:15:26.193Z"
   },
   {
    "duration": 291,
    "start_time": "2023-08-08T21:15:39.714Z"
   },
   {
    "duration": 180,
    "start_time": "2023-08-08T21:15:46.882Z"
   },
   {
    "duration": 194,
    "start_time": "2023-08-08T21:16:28.862Z"
   },
   {
    "duration": 137,
    "start_time": "2023-08-08T21:17:37.099Z"
   },
   {
    "duration": 213,
    "start_time": "2023-08-08T21:17:45.618Z"
   },
   {
    "duration": 212,
    "start_time": "2023-08-08T21:19:04.485Z"
   },
   {
    "duration": 196,
    "start_time": "2023-08-08T21:19:38.742Z"
   },
   {
    "duration": 197,
    "start_time": "2023-08-08T21:19:42.290Z"
   },
   {
    "duration": 421,
    "start_time": "2023-08-08T21:21:33.795Z"
   },
   {
    "duration": 230,
    "start_time": "2023-08-08T21:21:39.527Z"
   },
   {
    "duration": 190,
    "start_time": "2023-08-08T21:22:17.513Z"
   },
   {
    "duration": 191,
    "start_time": "2023-08-08T21:22:23.939Z"
   },
   {
    "duration": 211,
    "start_time": "2023-08-08T21:22:30.841Z"
   },
   {
    "duration": 89,
    "start_time": "2023-08-08T21:25:35.015Z"
   },
   {
    "duration": 78,
    "start_time": "2023-08-08T21:25:54.453Z"
   },
   {
    "duration": 89,
    "start_time": "2023-08-08T21:26:06.800Z"
   },
   {
    "duration": 96,
    "start_time": "2023-08-08T21:26:24.639Z"
   },
   {
    "duration": 77,
    "start_time": "2023-08-08T21:26:32.698Z"
   },
   {
    "duration": 117,
    "start_time": "2023-08-08T21:26:39.421Z"
   },
   {
    "duration": 81,
    "start_time": "2023-08-08T21:26:45.054Z"
   },
   {
    "duration": 113,
    "start_time": "2023-08-08T21:27:10.902Z"
   },
   {
    "duration": 105,
    "start_time": "2023-08-08T21:27:16.053Z"
   },
   {
    "duration": 81,
    "start_time": "2023-08-08T21:27:31.899Z"
   },
   {
    "duration": 74,
    "start_time": "2023-08-08T21:27:54.084Z"
   },
   {
    "duration": 95,
    "start_time": "2023-08-08T21:28:02.441Z"
   },
   {
    "duration": 76,
    "start_time": "2023-08-08T21:28:14.166Z"
   },
   {
    "duration": 27,
    "start_time": "2023-08-08T21:29:19.537Z"
   },
   {
    "duration": 29,
    "start_time": "2023-08-08T21:30:00.516Z"
   },
   {
    "duration": 30,
    "start_time": "2023-08-08T21:30:18.119Z"
   },
   {
    "duration": 38,
    "start_time": "2023-08-08T21:30:41.591Z"
   },
   {
    "duration": 24,
    "start_time": "2023-08-08T21:31:25.429Z"
   },
   {
    "duration": 21,
    "start_time": "2023-08-08T21:31:43.714Z"
   },
   {
    "duration": 24,
    "start_time": "2023-08-08T21:31:52.301Z"
   },
   {
    "duration": 5,
    "start_time": "2023-08-08T21:32:16.955Z"
   },
   {
    "duration": 98,
    "start_time": "2023-08-08T21:35:00.000Z"
   },
   {
    "duration": 8,
    "start_time": "2023-08-08T21:35:20.751Z"
   },
   {
    "duration": 10,
    "start_time": "2023-08-08T21:35:29.293Z"
   },
   {
    "duration": 11,
    "start_time": "2023-08-08T21:35:47.655Z"
   },
   {
    "duration": 7,
    "start_time": "2023-08-08T21:35:56.640Z"
   },
   {
    "duration": 3,
    "start_time": "2023-08-08T21:36:15.366Z"
   },
   {
    "duration": 50,
    "start_time": "2023-08-09T05:13:22.781Z"
   },
   {
    "duration": 881,
    "start_time": "2023-08-09T05:13:28.528Z"
   },
   {
    "duration": 37,
    "start_time": "2023-08-09T05:13:29.411Z"
   },
   {
    "duration": 2401,
    "start_time": "2023-08-09T05:13:29.450Z"
   },
   {
    "duration": 12,
    "start_time": "2023-08-09T05:13:31.854Z"
   },
   {
    "duration": 570,
    "start_time": "2023-08-09T05:13:31.868Z"
   },
   {
    "duration": 182,
    "start_time": "2023-08-09T05:13:32.441Z"
   },
   {
    "duration": 86,
    "start_time": "2023-08-09T05:13:32.625Z"
   },
   {
    "duration": 63,
    "start_time": "2023-08-09T05:13:32.714Z"
   },
   {
    "duration": 481,
    "start_time": "2023-08-09T05:13:32.778Z"
   },
   {
    "duration": 474,
    "start_time": "2023-08-09T05:13:33.273Z"
   },
   {
    "duration": 455,
    "start_time": "2023-08-09T05:13:33.748Z"
   },
   {
    "duration": 326,
    "start_time": "2023-08-09T05:13:34.205Z"
   },
   {
    "duration": 3109,
    "start_time": "2023-08-09T05:13:34.533Z"
   },
   {
    "duration": 226,
    "start_time": "2023-08-09T05:13:37.644Z"
   },
   {
    "duration": 203,
    "start_time": "2023-08-09T05:13:37.872Z"
   },
   {
    "duration": 371,
    "start_time": "2023-08-09T05:13:38.077Z"
   },
   {
    "duration": 180,
    "start_time": "2023-08-09T05:13:38.450Z"
   },
   {
    "duration": 195,
    "start_time": "2023-08-09T05:13:38.633Z"
   },
   {
    "duration": 185,
    "start_time": "2023-08-09T05:13:38.830Z"
   },
   {
    "duration": 396,
    "start_time": "2023-08-09T05:13:39.017Z"
   },
   {
    "duration": 230,
    "start_time": "2023-08-09T05:13:39.417Z"
   },
   {
    "duration": 187,
    "start_time": "2023-08-09T05:13:39.649Z"
   },
   {
    "duration": 221,
    "start_time": "2023-08-09T05:13:39.838Z"
   },
   {
    "duration": 320,
    "start_time": "2023-08-09T05:13:40.061Z"
   },
   {
    "duration": 317,
    "start_time": "2023-08-09T05:13:40.384Z"
   },
   {
    "duration": 620,
    "start_time": "2023-08-09T05:13:40.704Z"
   },
   {
    "duration": 173,
    "start_time": "2023-08-09T05:13:41.326Z"
   },
   {
    "duration": 15,
    "start_time": "2023-08-09T05:13:41.504Z"
   },
   {
    "duration": 183,
    "start_time": "2023-08-09T05:13:41.521Z"
   },
   {
    "duration": 12,
    "start_time": "2023-08-09T05:13:41.706Z"
   },
   {
    "duration": 180,
    "start_time": "2023-08-09T05:13:41.720Z"
   },
   {
    "duration": 13,
    "start_time": "2023-08-09T05:13:41.902Z"
   },
   {
    "duration": 183,
    "start_time": "2023-08-09T05:13:41.917Z"
   },
   {
    "duration": 18,
    "start_time": "2023-08-09T05:13:42.102Z"
   },
   {
    "duration": 237,
    "start_time": "2023-08-09T05:13:42.122Z"
   },
   {
    "duration": 262,
    "start_time": "2023-08-09T05:13:42.361Z"
   },
   {
    "duration": 255,
    "start_time": "2023-08-09T05:13:42.625Z"
   },
   {
    "duration": 254,
    "start_time": "2023-08-09T05:13:42.882Z"
   },
   {
    "duration": 29,
    "start_time": "2023-08-09T05:13:43.139Z"
   },
   {
    "duration": 291,
    "start_time": "2023-08-09T05:13:43.170Z"
   },
   {
    "duration": 3,
    "start_time": "2023-08-09T05:13:43.463Z"
   },
   {
    "duration": 62,
    "start_time": "2023-08-09T05:14:22.501Z"
   },
   {
    "duration": 4,
    "start_time": "2023-08-09T05:14:28.882Z"
   },
   {
    "duration": 226,
    "start_time": "2023-08-09T05:14:46.591Z"
   },
   {
    "duration": 271,
    "start_time": "2023-08-09T05:14:53.898Z"
   },
   {
    "duration": 15,
    "start_time": "2023-08-09T05:19:48.886Z"
   },
   {
    "duration": 8,
    "start_time": "2023-08-09T05:20:01.061Z"
   },
   {
    "duration": 16,
    "start_time": "2023-08-09T05:20:19.829Z"
   },
   {
    "duration": 7,
    "start_time": "2023-08-09T05:21:32.605Z"
   },
   {
    "duration": 25,
    "start_time": "2023-08-09T05:21:35.889Z"
   },
   {
    "duration": 28,
    "start_time": "2023-08-09T05:23:41.725Z"
   },
   {
    "duration": 22,
    "start_time": "2023-08-09T05:24:44.166Z"
   },
   {
    "duration": 13,
    "start_time": "2023-08-09T05:25:33.959Z"
   },
   {
    "duration": 18,
    "start_time": "2023-08-09T06:17:10.378Z"
   },
   {
    "duration": 33,
    "start_time": "2023-08-09T06:20:07.257Z"
   },
   {
    "duration": 20,
    "start_time": "2023-08-09T06:20:40.170Z"
   },
   {
    "duration": 16,
    "start_time": "2023-08-09T06:23:22.973Z"
   },
   {
    "duration": 16,
    "start_time": "2023-08-09T06:24:15.870Z"
   },
   {
    "duration": 18,
    "start_time": "2023-08-09T06:26:50.651Z"
   },
   {
    "duration": 24,
    "start_time": "2023-08-09T06:27:01.989Z"
   },
   {
    "duration": 18,
    "start_time": "2023-08-09T06:27:18.556Z"
   },
   {
    "duration": 15,
    "start_time": "2023-08-09T06:28:32.030Z"
   },
   {
    "duration": 16,
    "start_time": "2023-08-09T06:28:51.389Z"
   },
   {
    "duration": 16,
    "start_time": "2023-08-09T06:29:10.789Z"
   },
   {
    "duration": 16,
    "start_time": "2023-08-09T06:29:22.879Z"
   },
   {
    "duration": 15,
    "start_time": "2023-08-09T06:29:40.359Z"
   },
   {
    "duration": 19,
    "start_time": "2023-08-09T06:39:25.375Z"
   },
   {
    "duration": 13,
    "start_time": "2023-08-09T06:39:37.259Z"
   },
   {
    "duration": 20,
    "start_time": "2023-08-09T06:41:25.896Z"
   },
   {
    "duration": 15,
    "start_time": "2023-08-09T06:42:32.628Z"
   },
   {
    "duration": 103,
    "start_time": "2023-08-09T06:46:23.771Z"
   },
   {
    "duration": 78,
    "start_time": "2023-08-09T06:46:30.274Z"
   },
   {
    "duration": 101,
    "start_time": "2023-08-09T06:48:35.760Z"
   },
   {
    "duration": 14,
    "start_time": "2023-08-09T06:48:50.731Z"
   },
   {
    "duration": 18,
    "start_time": "2023-08-09T06:49:26.174Z"
   },
   {
    "duration": 13,
    "start_time": "2023-08-09T06:49:55.282Z"
   },
   {
    "duration": 22,
    "start_time": "2023-08-09T06:51:19.796Z"
   },
   {
    "duration": 26,
    "start_time": "2023-08-09T06:51:24.695Z"
   },
   {
    "duration": 13,
    "start_time": "2023-08-09T06:51:31.563Z"
   },
   {
    "duration": 15,
    "start_time": "2023-08-09T07:14:37.910Z"
   },
   {
    "duration": 202,
    "start_time": "2023-08-09T08:30:41.446Z"
   },
   {
    "duration": 218,
    "start_time": "2023-08-09T08:34:59.630Z"
   },
   {
    "duration": 1042,
    "start_time": "2023-08-09T08:53:47.300Z"
   },
   {
    "duration": 26,
    "start_time": "2023-08-09T08:53:48.344Z"
   },
   {
    "duration": 2006,
    "start_time": "2023-08-09T08:53:48.371Z"
   },
   {
    "duration": 8,
    "start_time": "2023-08-09T08:53:50.379Z"
   },
   {
    "duration": 380,
    "start_time": "2023-08-09T08:53:50.389Z"
   },
   {
    "duration": 111,
    "start_time": "2023-08-09T08:53:50.770Z"
   },
   {
    "duration": 60,
    "start_time": "2023-08-09T08:53:50.882Z"
   },
   {
    "duration": 37,
    "start_time": "2023-08-09T08:53:50.944Z"
   },
   {
    "duration": 374,
    "start_time": "2023-08-09T08:53:50.983Z"
   },
   {
    "duration": 371,
    "start_time": "2023-08-09T08:53:51.359Z"
   },
   {
    "duration": 372,
    "start_time": "2023-08-09T08:53:51.737Z"
   },
   {
    "duration": 256,
    "start_time": "2023-08-09T08:53:52.110Z"
   },
   {
    "duration": 2715,
    "start_time": "2023-08-09T08:53:52.367Z"
   },
   {
    "duration": 211,
    "start_time": "2023-08-09T08:53:55.083Z"
   },
   {
    "duration": 187,
    "start_time": "2023-08-09T08:53:55.296Z"
   },
   {
    "duration": 257,
    "start_time": "2023-08-09T08:53:55.485Z"
   },
   {
    "duration": 130,
    "start_time": "2023-08-09T08:53:55.743Z"
   },
   {
    "duration": 183,
    "start_time": "2023-08-09T08:53:55.874Z"
   },
   {
    "duration": 178,
    "start_time": "2023-08-09T08:53:56.059Z"
   },
   {
    "duration": 324,
    "start_time": "2023-08-09T08:53:56.238Z"
   },
   {
    "duration": 184,
    "start_time": "2023-08-09T08:53:56.563Z"
   },
   {
    "duration": 171,
    "start_time": "2023-08-09T08:53:56.748Z"
   },
   {
    "duration": 183,
    "start_time": "2023-08-09T08:53:56.920Z"
   },
   {
    "duration": 189,
    "start_time": "2023-08-09T08:53:57.104Z"
   },
   {
    "duration": 276,
    "start_time": "2023-08-09T08:53:57.295Z"
   },
   {
    "duration": 555,
    "start_time": "2023-08-09T08:53:57.572Z"
   },
   {
    "duration": 157,
    "start_time": "2023-08-09T08:53:58.129Z"
   },
   {
    "duration": 10,
    "start_time": "2023-08-09T08:53:58.289Z"
   },
   {
    "duration": 174,
    "start_time": "2023-08-09T08:53:58.300Z"
   },
   {
    "duration": 10,
    "start_time": "2023-08-09T08:53:58.475Z"
   },
   {
    "duration": 155,
    "start_time": "2023-08-09T08:53:58.487Z"
   },
   {
    "duration": 10,
    "start_time": "2023-08-09T08:53:58.643Z"
   },
   {
    "duration": 159,
    "start_time": "2023-08-09T08:53:58.654Z"
   },
   {
    "duration": 12,
    "start_time": "2023-08-09T08:53:58.814Z"
   },
   {
    "duration": 136,
    "start_time": "2023-08-09T08:53:58.837Z"
   },
   {
    "duration": 159,
    "start_time": "2023-08-09T08:53:58.974Z"
   },
   {
    "duration": 166,
    "start_time": "2023-08-09T08:53:59.135Z"
   },
   {
    "duration": 161,
    "start_time": "2023-08-09T08:53:59.303Z"
   },
   {
    "duration": 18,
    "start_time": "2023-08-09T08:53:59.466Z"
   },
   {
    "duration": 209,
    "start_time": "2023-08-09T08:53:59.485Z"
   },
   {
    "duration": 13,
    "start_time": "2023-08-09T08:53:59.696Z"
   },
   {
    "duration": 7,
    "start_time": "2023-08-09T09:06:27.870Z"
   },
   {
    "duration": 71,
    "start_time": "2023-08-09T09:06:42.974Z"
   },
   {
    "duration": 7,
    "start_time": "2023-08-09T09:06:56.883Z"
   },
   {
    "duration": 53,
    "start_time": "2023-08-09T15:51:33.207Z"
   },
   {
    "duration": 546,
    "start_time": "2023-08-09T15:51:40.180Z"
   },
   {
    "duration": 31,
    "start_time": "2023-08-09T15:51:40.728Z"
   },
   {
    "duration": 2320,
    "start_time": "2023-08-09T15:51:40.761Z"
   },
   {
    "duration": 12,
    "start_time": "2023-08-09T15:51:43.083Z"
   },
   {
    "duration": 532,
    "start_time": "2023-08-09T15:51:43.097Z"
   },
   {
    "duration": 117,
    "start_time": "2023-08-09T15:51:43.631Z"
   },
   {
    "duration": 74,
    "start_time": "2023-08-09T15:51:43.751Z"
   },
   {
    "duration": 20,
    "start_time": "2023-08-09T15:51:43.827Z"
   },
   {
    "duration": 521,
    "start_time": "2023-08-09T15:51:43.848Z"
   },
   {
    "duration": 436,
    "start_time": "2023-08-09T15:51:44.371Z"
   },
   {
    "duration": 437,
    "start_time": "2023-08-09T15:51:44.809Z"
   },
   {
    "duration": 330,
    "start_time": "2023-08-09T15:51:45.247Z"
   },
   {
    "duration": 3321,
    "start_time": "2023-08-09T15:51:45.579Z"
   },
   {
    "duration": 260,
    "start_time": "2023-08-09T15:51:48.903Z"
   },
   {
    "duration": 324,
    "start_time": "2023-08-09T15:51:49.164Z"
   },
   {
    "duration": 610,
    "start_time": "2023-08-09T15:51:49.490Z"
   },
   {
    "duration": 358,
    "start_time": "2023-08-09T15:51:50.101Z"
   },
   {
    "duration": 404,
    "start_time": "2023-08-09T15:51:50.461Z"
   },
   {
    "duration": 261,
    "start_time": "2023-08-09T15:51:50.867Z"
   },
   {
    "duration": 464,
    "start_time": "2023-08-09T15:51:51.130Z"
   },
   {
    "duration": 209,
    "start_time": "2023-08-09T15:51:51.596Z"
   },
   {
    "duration": 187,
    "start_time": "2023-08-09T15:51:51.806Z"
   },
   {
    "duration": 218,
    "start_time": "2023-08-09T15:51:51.995Z"
   },
   {
    "duration": 221,
    "start_time": "2023-08-09T15:51:52.215Z"
   },
   {
    "duration": 312,
    "start_time": "2023-08-09T15:51:52.437Z"
   },
   {
    "duration": 695,
    "start_time": "2023-08-09T15:51:52.750Z"
   },
   {
    "duration": 172,
    "start_time": "2023-08-09T15:51:53.446Z"
   },
   {
    "duration": 13,
    "start_time": "2023-08-09T15:51:53.619Z"
   },
   {
    "duration": 188,
    "start_time": "2023-08-09T15:51:53.633Z"
   },
   {
    "duration": 15,
    "start_time": "2023-08-09T15:51:53.823Z"
   },
   {
    "duration": 189,
    "start_time": "2023-08-09T15:51:53.840Z"
   },
   {
    "duration": 30,
    "start_time": "2023-08-09T15:51:54.030Z"
   },
   {
    "duration": 229,
    "start_time": "2023-08-09T15:51:54.063Z"
   },
   {
    "duration": 20,
    "start_time": "2023-08-09T15:51:54.295Z"
   },
   {
    "duration": 176,
    "start_time": "2023-08-09T15:51:54.317Z"
   },
   {
    "duration": 184,
    "start_time": "2023-08-09T15:51:54.495Z"
   },
   {
    "duration": 187,
    "start_time": "2023-08-09T15:51:54.681Z"
   },
   {
    "duration": 191,
    "start_time": "2023-08-09T15:51:54.869Z"
   },
   {
    "duration": 24,
    "start_time": "2023-08-09T15:51:55.062Z"
   },
   {
    "duration": 232,
    "start_time": "2023-08-09T15:51:55.088Z"
   },
   {
    "duration": 35,
    "start_time": "2023-08-09T15:51:55.324Z"
   },
   {
    "duration": 38,
    "start_time": "2023-08-09T15:52:47.360Z"
   },
   {
    "duration": 52,
    "start_time": "2023-08-09T15:54:10.712Z"
   },
   {
    "duration": 25,
    "start_time": "2023-08-09T15:55:53.256Z"
   },
   {
    "duration": 19,
    "start_time": "2023-08-09T15:56:05.343Z"
   },
   {
    "duration": 25,
    "start_time": "2023-08-09T15:56:11.539Z"
   },
   {
    "duration": 41,
    "start_time": "2023-08-09T15:56:37.376Z"
   },
   {
    "duration": 39,
    "start_time": "2023-08-09T15:57:22.761Z"
   },
   {
    "duration": 38,
    "start_time": "2023-08-09T15:57:59.893Z"
   },
   {
    "duration": 10,
    "start_time": "2023-08-09T15:58:41.448Z"
   },
   {
    "duration": 10,
    "start_time": "2023-08-09T15:58:46.944Z"
   },
   {
    "duration": 10,
    "start_time": "2023-08-09T15:59:18.660Z"
   },
   {
    "duration": 9,
    "start_time": "2023-08-09T16:00:20.493Z"
   },
   {
    "duration": 12,
    "start_time": "2023-08-09T16:06:32.409Z"
   },
   {
    "duration": 14,
    "start_time": "2023-08-09T16:07:12.064Z"
   },
   {
    "duration": 35,
    "start_time": "2023-08-09T16:07:21.852Z"
   },
   {
    "duration": 11,
    "start_time": "2023-08-09T16:10:07.375Z"
   },
   {
    "duration": 11,
    "start_time": "2023-08-09T16:10:16.895Z"
   },
   {
    "duration": 10,
    "start_time": "2023-08-09T16:10:37.015Z"
   },
   {
    "duration": 52,
    "start_time": "2023-08-09T16:17:44.052Z"
   },
   {
    "duration": 32,
    "start_time": "2023-08-09T16:17:58.373Z"
   },
   {
    "duration": 47,
    "start_time": "2023-08-09T16:18:09.917Z"
   },
   {
    "duration": 48,
    "start_time": "2023-08-09T16:18:41.408Z"
   },
   {
    "duration": 35,
    "start_time": "2023-08-09T16:18:48.111Z"
   },
   {
    "duration": 10,
    "start_time": "2023-08-09T16:19:46.907Z"
   },
   {
    "duration": 14,
    "start_time": "2023-08-09T16:20:04.254Z"
   },
   {
    "duration": 10,
    "start_time": "2023-08-09T16:20:14.905Z"
   },
   {
    "duration": 9,
    "start_time": "2023-08-09T16:20:24.333Z"
   },
   {
    "duration": 12,
    "start_time": "2023-08-09T16:21:17.708Z"
   },
   {
    "duration": 11,
    "start_time": "2023-08-09T16:22:17.164Z"
   },
   {
    "duration": 9,
    "start_time": "2023-08-09T16:22:52.610Z"
   },
   {
    "duration": 8,
    "start_time": "2023-08-09T16:24:39.604Z"
   },
   {
    "duration": 8,
    "start_time": "2023-08-09T16:25:11.499Z"
   },
   {
    "duration": 4,
    "start_time": "2023-08-09T16:26:18.774Z"
   },
   {
    "duration": 11,
    "start_time": "2023-08-09T16:27:03.208Z"
   },
   {
    "duration": 11,
    "start_time": "2023-08-09T16:27:08.006Z"
   },
   {
    "duration": 8,
    "start_time": "2023-08-09T16:27:17.958Z"
   },
   {
    "duration": 11,
    "start_time": "2023-08-09T16:30:00.263Z"
   },
   {
    "duration": 14,
    "start_time": "2023-08-09T16:30:04.153Z"
   },
   {
    "duration": 10,
    "start_time": "2023-08-09T16:33:23.957Z"
   },
   {
    "duration": 9,
    "start_time": "2023-08-09T16:33:32.907Z"
   },
   {
    "duration": 33,
    "start_time": "2023-08-09T16:33:42.449Z"
   },
   {
    "duration": 25,
    "start_time": "2023-08-09T16:34:12.049Z"
   },
   {
    "duration": 29,
    "start_time": "2023-08-09T16:34:23.845Z"
   },
   {
    "duration": 364,
    "start_time": "2023-08-09T16:34:34.945Z"
   },
   {
    "duration": 7,
    "start_time": "2023-08-09T16:35:23.361Z"
   },
   {
    "duration": 467,
    "start_time": "2023-08-09T16:35:40.245Z"
   },
   {
    "duration": 5,
    "start_time": "2023-08-09T16:35:56.337Z"
   },
   {
    "duration": 8,
    "start_time": "2023-08-09T16:36:37.196Z"
   },
   {
    "duration": 8,
    "start_time": "2023-08-09T16:36:48.441Z"
   },
   {
    "duration": 5,
    "start_time": "2023-08-09T16:36:59.252Z"
   },
   {
    "duration": 4,
    "start_time": "2023-08-09T16:37:06.597Z"
   },
   {
    "duration": 8,
    "start_time": "2023-08-09T16:37:26.398Z"
   },
   {
    "duration": 9,
    "start_time": "2023-08-09T16:37:31.671Z"
   },
   {
    "duration": 4,
    "start_time": "2023-08-09T16:37:37.340Z"
   },
   {
    "duration": 9,
    "start_time": "2023-08-09T16:39:02.811Z"
   },
   {
    "duration": 8,
    "start_time": "2023-08-09T16:39:09.241Z"
   },
   {
    "duration": 4,
    "start_time": "2023-08-09T16:39:15.953Z"
   },
   {
    "duration": 16,
    "start_time": "2023-08-09T16:40:14.806Z"
   },
   {
    "duration": 18,
    "start_time": "2023-08-09T16:42:35.948Z"
   },
   {
    "duration": 60,
    "start_time": "2023-08-09T16:42:55.048Z"
   },
   {
    "duration": 8,
    "start_time": "2023-08-09T16:42:59.310Z"
   },
   {
    "duration": 5,
    "start_time": "2023-08-09T16:44:33.248Z"
   },
   {
    "duration": 4,
    "start_time": "2023-08-09T16:44:38.136Z"
   },
   {
    "duration": 5,
    "start_time": "2023-08-09T16:44:42.571Z"
   },
   {
    "duration": 4,
    "start_time": "2023-08-09T16:44:48.344Z"
   },
   {
    "duration": 5,
    "start_time": "2023-08-09T16:44:51.640Z"
   },
   {
    "duration": 5,
    "start_time": "2023-08-09T16:44:55.510Z"
   },
   {
    "duration": 176,
    "start_time": "2023-08-09T16:48:55.968Z"
   },
   {
    "duration": 172,
    "start_time": "2023-08-09T16:50:26.201Z"
   },
   {
    "duration": 172,
    "start_time": "2023-08-09T16:50:56.047Z"
   },
   {
    "duration": 348,
    "start_time": "2023-08-09T17:01:38.245Z"
   },
   {
    "duration": 37,
    "start_time": "2023-08-09T17:01:51.172Z"
   },
   {
    "duration": 1892,
    "start_time": "2023-08-10T07:32:32.688Z"
   },
   {
    "duration": 112,
    "start_time": "2023-08-10T07:32:34.585Z"
   },
   {
    "duration": 12185,
    "start_time": "2023-08-10T07:32:34.698Z"
   },
   {
    "duration": 13,
    "start_time": "2023-08-10T07:32:46.884Z"
   },
   {
    "duration": 2687,
    "start_time": "2023-08-10T07:32:46.900Z"
   },
   {
    "duration": 883,
    "start_time": "2023-08-10T07:32:49.594Z"
   },
   {
    "duration": 314,
    "start_time": "2023-08-10T07:32:50.479Z"
   },
   {
    "duration": 102,
    "start_time": "2023-08-10T07:32:50.878Z"
   },
   {
    "duration": 206,
    "start_time": "2023-08-10T07:32:50.983Z"
   },
   {
    "duration": 96,
    "start_time": "2023-08-10T07:32:51.192Z"
   },
   {
    "duration": 213,
    "start_time": "2023-08-10T07:32:51.378Z"
   },
   {
    "duration": 106,
    "start_time": "2023-08-10T07:32:51.597Z"
   },
   {
    "duration": 428,
    "start_time": "2023-08-10T07:32:51.775Z"
   },
   {
    "duration": 18,
    "start_time": "2023-08-10T07:32:52.277Z"
   },
   {
    "duration": 1701,
    "start_time": "2023-08-10T07:32:52.297Z"
   },
   {
    "duration": 3295,
    "start_time": "2023-08-10T07:32:54.000Z"
   },
   {
    "duration": 2906,
    "start_time": "2023-08-10T07:32:57.376Z"
   },
   {
    "duration": 1702,
    "start_time": "2023-08-10T07:33:00.287Z"
   },
   {
    "duration": 17308,
    "start_time": "2023-08-10T07:33:01.991Z"
   },
   {
    "duration": 1221,
    "start_time": "2023-08-10T07:33:19.376Z"
   },
   {
    "duration": 897,
    "start_time": "2023-08-10T07:33:20.602Z"
   },
   {
    "duration": 1291,
    "start_time": "2023-08-10T07:33:21.502Z"
   },
   {
    "duration": 707,
    "start_time": "2023-08-10T07:33:22.796Z"
   },
   {
    "duration": 805,
    "start_time": "2023-08-10T07:33:23.576Z"
   },
   {
    "duration": 711,
    "start_time": "2023-08-10T07:33:24.388Z"
   },
   {
    "duration": 1095,
    "start_time": "2023-08-10T07:33:25.101Z"
   },
   {
    "duration": 884,
    "start_time": "2023-08-10T07:33:26.198Z"
   },
   {
    "duration": 995,
    "start_time": "2023-08-10T07:33:27.084Z"
   },
   {
    "duration": 909,
    "start_time": "2023-08-10T07:33:28.083Z"
   },
   {
    "duration": 1188,
    "start_time": "2023-08-10T07:33:28.996Z"
   },
   {
    "duration": 1504,
    "start_time": "2023-08-10T07:33:30.189Z"
   },
   {
    "duration": 2096,
    "start_time": "2023-08-10T07:33:31.699Z"
   },
   {
    "duration": 418,
    "start_time": "2023-08-10T07:33:33.797Z"
   },
   {
    "duration": 16,
    "start_time": "2023-08-10T07:33:34.274Z"
   },
   {
    "duration": 584,
    "start_time": "2023-08-10T07:33:34.294Z"
   },
   {
    "duration": 17,
    "start_time": "2023-08-10T07:33:34.880Z"
   },
   {
    "duration": 409,
    "start_time": "2023-08-10T07:33:34.898Z"
   },
   {
    "duration": 77,
    "start_time": "2023-08-10T07:33:35.309Z"
   },
   {
    "duration": 603,
    "start_time": "2023-08-10T07:33:35.389Z"
   },
   {
    "duration": 22,
    "start_time": "2023-08-10T07:33:35.995Z"
   },
   {
    "duration": 471,
    "start_time": "2023-08-10T07:33:36.022Z"
   },
   {
    "duration": 411,
    "start_time": "2023-08-10T07:33:36.495Z"
   },
   {
    "duration": 409,
    "start_time": "2023-08-10T07:33:36.908Z"
   },
   {
    "duration": 632,
    "start_time": "2023-08-10T07:33:37.377Z"
   },
   {
    "duration": 89,
    "start_time": "2023-08-10T07:33:38.011Z"
   },
   {
    "duration": 581,
    "start_time": "2023-08-10T07:33:38.103Z"
   },
   {
    "duration": 19,
    "start_time": "2023-08-10T07:33:38.685Z"
   },
   {
    "duration": 83,
    "start_time": "2023-08-10T07:35:39.655Z"
   },
   {
    "duration": 69,
    "start_time": "2023-08-10T07:38:37.755Z"
   },
   {
    "duration": 80,
    "start_time": "2023-08-10T07:38:41.070Z"
   },
   {
    "duration": 50,
    "start_time": "2023-08-10T10:30:45.083Z"
   },
   {
    "duration": 1047,
    "start_time": "2023-08-10T10:30:50.575Z"
   },
   {
    "duration": 29,
    "start_time": "2023-08-10T10:30:51.624Z"
   },
   {
    "duration": 2493,
    "start_time": "2023-08-10T10:30:51.654Z"
   },
   {
    "duration": 9,
    "start_time": "2023-08-10T10:30:54.150Z"
   },
   {
    "duration": 572,
    "start_time": "2023-08-10T10:30:54.160Z"
   },
   {
    "duration": 134,
    "start_time": "2023-08-10T10:30:54.733Z"
   },
   {
    "duration": 68,
    "start_time": "2023-08-10T10:30:54.869Z"
   },
   {
    "duration": 29,
    "start_time": "2023-08-10T10:30:54.939Z"
   },
   {
    "duration": 41,
    "start_time": "2023-08-10T10:30:54.970Z"
   },
   {
    "duration": 11,
    "start_time": "2023-08-10T10:30:55.013Z"
   },
   {
    "duration": 69,
    "start_time": "2023-08-10T10:30:55.026Z"
   },
   {
    "duration": 9,
    "start_time": "2023-08-10T10:30:55.096Z"
   },
   {
    "duration": 76,
    "start_time": "2023-08-10T10:30:55.107Z"
   },
   {
    "duration": 10,
    "start_time": "2023-08-10T10:30:55.185Z"
   },
   {
    "duration": 436,
    "start_time": "2023-08-10T10:30:55.196Z"
   },
   {
    "duration": 458,
    "start_time": "2023-08-10T10:30:55.633Z"
   },
   {
    "duration": 449,
    "start_time": "2023-08-10T10:30:56.093Z"
   },
   {
    "duration": 348,
    "start_time": "2023-08-10T10:30:56.544Z"
   },
   {
    "duration": 3498,
    "start_time": "2023-08-10T10:30:56.894Z"
   },
   {
    "duration": 279,
    "start_time": "2023-08-10T10:31:00.393Z"
   },
   {
    "duration": 229,
    "start_time": "2023-08-10T10:31:00.674Z"
   },
   {
    "duration": 319,
    "start_time": "2023-08-10T10:31:00.905Z"
   },
   {
    "duration": 170,
    "start_time": "2023-08-10T10:31:01.226Z"
   },
   {
    "duration": 231,
    "start_time": "2023-08-10T10:31:01.398Z"
   },
   {
    "duration": 212,
    "start_time": "2023-08-10T10:31:01.631Z"
   },
   {
    "duration": 472,
    "start_time": "2023-08-10T10:31:01.845Z"
   },
   {
    "duration": 290,
    "start_time": "2023-08-10T10:31:02.319Z"
   },
   {
    "duration": 258,
    "start_time": "2023-08-10T10:31:02.614Z"
   },
   {
    "duration": 233,
    "start_time": "2023-08-10T10:31:02.873Z"
   },
   {
    "duration": 298,
    "start_time": "2023-08-10T10:31:03.108Z"
   },
   {
    "duration": 409,
    "start_time": "2023-08-10T10:31:03.408Z"
   },
   {
    "duration": 646,
    "start_time": "2023-08-10T10:31:03.818Z"
   },
   {
    "duration": 290,
    "start_time": "2023-08-10T10:31:04.466Z"
   },
   {
    "duration": 13,
    "start_time": "2023-08-10T10:31:04.758Z"
   },
   {
    "duration": 222,
    "start_time": "2023-08-10T10:31:04.773Z"
   },
   {
    "duration": 14,
    "start_time": "2023-08-10T10:31:04.997Z"
   },
   {
    "duration": 190,
    "start_time": "2023-08-10T10:31:05.013Z"
   },
   {
    "duration": 13,
    "start_time": "2023-08-10T10:31:05.205Z"
   },
   {
    "duration": 190,
    "start_time": "2023-08-10T10:31:05.220Z"
   },
   {
    "duration": 16,
    "start_time": "2023-08-10T10:31:05.412Z"
   },
   {
    "duration": 182,
    "start_time": "2023-08-10T10:31:05.430Z"
   },
   {
    "duration": 191,
    "start_time": "2023-08-10T10:31:05.614Z"
   },
   {
    "duration": 196,
    "start_time": "2023-08-10T10:31:05.807Z"
   },
   {
    "duration": 194,
    "start_time": "2023-08-10T10:31:06.004Z"
   },
   {
    "duration": 22,
    "start_time": "2023-08-10T10:31:06.199Z"
   },
   {
    "duration": 243,
    "start_time": "2023-08-10T10:31:06.223Z"
   },
   {
    "duration": 17,
    "start_time": "2023-08-10T10:31:06.467Z"
   },
   {
    "duration": 9,
    "start_time": "2023-08-10T10:31:32.079Z"
   },
   {
    "duration": 11,
    "start_time": "2023-08-10T10:31:37.476Z"
   },
   {
    "duration": 11,
    "start_time": "2023-08-10T10:31:45.082Z"
   },
   {
    "duration": 10,
    "start_time": "2023-08-10T10:32:28.414Z"
   },
   {
    "duration": 9,
    "start_time": "2023-08-10T10:32:33.544Z"
   },
   {
    "duration": 14,
    "start_time": "2023-08-10T10:33:19.712Z"
   },
   {
    "duration": 11,
    "start_time": "2023-08-10T10:33:24.493Z"
   },
   {
    "duration": 10,
    "start_time": "2023-08-10T10:34:14.826Z"
   },
   {
    "duration": 11,
    "start_time": "2023-08-10T10:34:19.344Z"
   },
   {
    "duration": 12,
    "start_time": "2023-08-10T10:34:25.033Z"
   },
   {
    "duration": 10,
    "start_time": "2023-08-10T10:34:31.088Z"
   },
   {
    "duration": 10,
    "start_time": "2023-08-10T10:35:16.787Z"
   },
   {
    "duration": 11,
    "start_time": "2023-08-10T10:35:28.137Z"
   },
   {
    "duration": 9,
    "start_time": "2023-08-10T10:35:39.344Z"
   },
   {
    "duration": 10,
    "start_time": "2023-08-10T10:35:44.752Z"
   },
   {
    "duration": 11,
    "start_time": "2023-08-10T10:36:45.093Z"
   },
   {
    "duration": 12,
    "start_time": "2023-08-10T10:37:13.286Z"
   },
   {
    "duration": 12,
    "start_time": "2023-08-10T10:38:06.218Z"
   },
   {
    "duration": 13,
    "start_time": "2023-08-10T10:38:13.518Z"
   },
   {
    "duration": 11,
    "start_time": "2023-08-10T10:38:18.013Z"
   },
   {
    "duration": 10,
    "start_time": "2023-08-10T10:38:22.720Z"
   },
   {
    "duration": 10,
    "start_time": "2023-08-10T10:38:28.180Z"
   },
   {
    "duration": 10,
    "start_time": "2023-08-10T10:38:33.325Z"
   },
   {
    "duration": 9,
    "start_time": "2023-08-10T10:38:38.813Z"
   },
   {
    "duration": 12,
    "start_time": "2023-08-10T10:38:49.065Z"
   },
   {
    "duration": 13,
    "start_time": "2023-08-10T10:39:03.639Z"
   },
   {
    "duration": 10,
    "start_time": "2023-08-10T10:41:27.830Z"
   },
   {
    "duration": 11,
    "start_time": "2023-08-10T10:41:34.131Z"
   },
   {
    "duration": 14,
    "start_time": "2023-08-10T10:41:38.923Z"
   },
   {
    "duration": 10,
    "start_time": "2023-08-10T10:42:30.916Z"
   },
   {
    "duration": 12,
    "start_time": "2023-08-10T10:42:35.916Z"
   },
   {
    "duration": 11,
    "start_time": "2023-08-10T10:42:41.272Z"
   },
   {
    "duration": 11,
    "start_time": "2023-08-10T10:42:47.593Z"
   },
   {
    "duration": 14,
    "start_time": "2023-08-10T10:42:52.607Z"
   },
   {
    "duration": 11,
    "start_time": "2023-08-10T10:43:52.150Z"
   },
   {
    "duration": 10,
    "start_time": "2023-08-10T10:44:12.336Z"
   },
   {
    "duration": 10,
    "start_time": "2023-08-10T10:44:15.443Z"
   },
   {
    "duration": 9,
    "start_time": "2023-08-10T10:44:20.489Z"
   },
   {
    "duration": 9,
    "start_time": "2023-08-10T10:44:29.619Z"
   },
   {
    "duration": 10,
    "start_time": "2023-08-10T10:44:35.012Z"
   },
   {
    "duration": 11,
    "start_time": "2023-08-10T10:44:39.086Z"
   },
   {
    "duration": 10,
    "start_time": "2023-08-10T10:45:10.207Z"
   },
   {
    "duration": 11,
    "start_time": "2023-08-10T10:46:06.422Z"
   },
   {
    "duration": 21,
    "start_time": "2023-08-10T10:56:12.465Z"
   },
   {
    "duration": 100,
    "start_time": "2023-08-10T10:58:32.393Z"
   },
   {
    "duration": 15,
    "start_time": "2023-08-10T10:58:39.413Z"
   },
   {
    "duration": 13,
    "start_time": "2023-08-10T10:59:29.423Z"
   },
   {
    "duration": 14,
    "start_time": "2023-08-10T10:59:52.292Z"
   },
   {
    "duration": 11,
    "start_time": "2023-08-10T11:00:14.926Z"
   },
   {
    "duration": 99,
    "start_time": "2023-08-10T11:00:51.938Z"
   },
   {
    "duration": 36,
    "start_time": "2023-08-10T11:00:52.039Z"
   },
   {
    "duration": 2025,
    "start_time": "2023-08-10T11:00:52.077Z"
   },
   {
    "duration": 9,
    "start_time": "2023-08-10T11:00:54.104Z"
   },
   {
    "duration": 588,
    "start_time": "2023-08-10T11:00:54.114Z"
   },
   {
    "duration": 127,
    "start_time": "2023-08-10T11:00:54.704Z"
   },
   {
    "duration": 75,
    "start_time": "2023-08-10T11:00:54.832Z"
   },
   {
    "duration": 18,
    "start_time": "2023-08-10T11:00:54.909Z"
   },
   {
    "duration": 40,
    "start_time": "2023-08-10T11:00:54.928Z"
   },
   {
    "duration": 10,
    "start_time": "2023-08-10T11:00:54.971Z"
   },
   {
    "duration": 39,
    "start_time": "2023-08-10T11:00:54.982Z"
   },
   {
    "duration": 39,
    "start_time": "2023-08-10T11:00:55.022Z"
   },
   {
    "duration": 39,
    "start_time": "2023-08-10T11:00:55.063Z"
   },
   {
    "duration": 55,
    "start_time": "2023-08-10T11:00:55.103Z"
   },
   {
    "duration": 16,
    "start_time": "2023-08-10T11:00:55.160Z"
   },
   {
    "duration": 812,
    "start_time": "2023-08-10T11:00:55.178Z"
   },
   {
    "duration": 903,
    "start_time": "2023-08-10T11:00:55.991Z"
   },
   {
    "duration": 449,
    "start_time": "2023-08-10T11:00:56.896Z"
   },
   {
    "duration": 302,
    "start_time": "2023-08-10T11:00:57.354Z"
   },
   {
    "duration": 3414,
    "start_time": "2023-08-10T11:00:57.658Z"
   },
   {
    "duration": 253,
    "start_time": "2023-08-10T11:01:01.074Z"
   },
   {
    "duration": 239,
    "start_time": "2023-08-10T11:01:01.329Z"
   },
   {
    "duration": 315,
    "start_time": "2023-08-10T11:01:01.570Z"
   },
   {
    "duration": 166,
    "start_time": "2023-08-10T11:01:01.887Z"
   },
   {
    "duration": 226,
    "start_time": "2023-08-10T11:01:02.055Z"
   },
   {
    "duration": 626,
    "start_time": "2023-08-10T11:01:02.283Z"
   },
   {
    "duration": 201,
    "start_time": "2023-08-10T11:01:02.910Z"
   },
   {
    "duration": 303,
    "start_time": "2023-08-10T11:01:03.114Z"
   },
   {
    "duration": 258,
    "start_time": "2023-08-10T11:01:03.419Z"
   },
   {
    "duration": 236,
    "start_time": "2023-08-10T11:01:03.679Z"
   },
   {
    "duration": 245,
    "start_time": "2023-08-10T11:01:03.917Z"
   },
   {
    "duration": 365,
    "start_time": "2023-08-10T11:01:04.164Z"
   },
   {
    "duration": 728,
    "start_time": "2023-08-10T11:01:04.531Z"
   },
   {
    "duration": 198,
    "start_time": "2023-08-10T11:01:05.261Z"
   },
   {
    "duration": 12,
    "start_time": "2023-08-10T11:01:05.460Z"
   },
   {
    "duration": 216,
    "start_time": "2023-08-10T11:01:05.474Z"
   },
   {
    "duration": 13,
    "start_time": "2023-08-10T11:01:05.692Z"
   },
   {
    "duration": 194,
    "start_time": "2023-08-10T11:01:05.707Z"
   },
   {
    "duration": 13,
    "start_time": "2023-08-10T11:01:05.903Z"
   },
   {
    "duration": 224,
    "start_time": "2023-08-10T11:01:05.919Z"
   },
   {
    "duration": 23,
    "start_time": "2023-08-10T11:01:06.145Z"
   },
   {
    "duration": 183,
    "start_time": "2023-08-10T11:01:06.170Z"
   },
   {
    "duration": 182,
    "start_time": "2023-08-10T11:01:06.355Z"
   },
   {
    "duration": 190,
    "start_time": "2023-08-10T11:01:06.539Z"
   },
   {
    "duration": 196,
    "start_time": "2023-08-10T11:01:06.732Z"
   },
   {
    "duration": 34,
    "start_time": "2023-08-10T11:01:06.930Z"
   },
   {
    "duration": 268,
    "start_time": "2023-08-10T11:01:06.966Z"
   },
   {
    "duration": 28,
    "start_time": "2023-08-10T11:01:07.236Z"
   },
   {
    "duration": 124,
    "start_time": "2023-08-10T11:01:42.496Z"
   },
   {
    "duration": 47,
    "start_time": "2023-08-10T11:01:42.624Z"
   },
   {
    "duration": 2102,
    "start_time": "2023-08-10T11:01:42.673Z"
   },
   {
    "duration": 10,
    "start_time": "2023-08-10T11:01:44.776Z"
   },
   {
    "duration": 526,
    "start_time": "2023-08-10T11:01:44.789Z"
   },
   {
    "duration": 111,
    "start_time": "2023-08-10T11:01:45.316Z"
   },
   {
    "duration": 73,
    "start_time": "2023-08-10T11:01:45.429Z"
   },
   {
    "duration": 19,
    "start_time": "2023-08-10T11:01:45.504Z"
   },
   {
    "duration": 43,
    "start_time": "2023-08-10T11:01:45.525Z"
   },
   {
    "duration": 9,
    "start_time": "2023-08-10T11:01:45.570Z"
   },
   {
    "duration": 31,
    "start_time": "2023-08-10T11:01:45.581Z"
   },
   {
    "duration": 9,
    "start_time": "2023-08-10T11:01:45.613Z"
   },
   {
    "duration": 46,
    "start_time": "2023-08-10T11:01:45.624Z"
   },
   {
    "duration": 9,
    "start_time": "2023-08-10T11:01:45.673Z"
   },
   {
    "duration": 19,
    "start_time": "2023-08-10T11:01:45.683Z"
   },
   {
    "duration": 1914,
    "start_time": "2023-08-10T11:01:45.703Z"
   },
   {
    "duration": 0,
    "start_time": "2023-08-10T11:01:47.619Z"
   },
   {
    "duration": 0,
    "start_time": "2023-08-10T11:01:47.620Z"
   },
   {
    "duration": 0,
    "start_time": "2023-08-10T11:01:47.621Z"
   },
   {
    "duration": 0,
    "start_time": "2023-08-10T11:01:47.623Z"
   },
   {
    "duration": 0,
    "start_time": "2023-08-10T11:01:47.624Z"
   },
   {
    "duration": 0,
    "start_time": "2023-08-10T11:01:47.625Z"
   },
   {
    "duration": 0,
    "start_time": "2023-08-10T11:01:47.626Z"
   },
   {
    "duration": 0,
    "start_time": "2023-08-10T11:01:47.627Z"
   },
   {
    "duration": 0,
    "start_time": "2023-08-10T11:01:47.628Z"
   },
   {
    "duration": 0,
    "start_time": "2023-08-10T11:01:47.629Z"
   },
   {
    "duration": 0,
    "start_time": "2023-08-10T11:01:47.629Z"
   },
   {
    "duration": 0,
    "start_time": "2023-08-10T11:01:47.632Z"
   },
   {
    "duration": 0,
    "start_time": "2023-08-10T11:01:47.633Z"
   },
   {
    "duration": 0,
    "start_time": "2023-08-10T11:01:47.634Z"
   },
   {
    "duration": 0,
    "start_time": "2023-08-10T11:01:47.635Z"
   },
   {
    "duration": 0,
    "start_time": "2023-08-10T11:01:47.636Z"
   },
   {
    "duration": 0,
    "start_time": "2023-08-10T11:01:47.637Z"
   },
   {
    "duration": 0,
    "start_time": "2023-08-10T11:01:47.638Z"
   },
   {
    "duration": 0,
    "start_time": "2023-08-10T11:01:47.639Z"
   },
   {
    "duration": 0,
    "start_time": "2023-08-10T11:01:47.640Z"
   },
   {
    "duration": 0,
    "start_time": "2023-08-10T11:01:47.641Z"
   },
   {
    "duration": 0,
    "start_time": "2023-08-10T11:01:47.642Z"
   },
   {
    "duration": 0,
    "start_time": "2023-08-10T11:01:47.642Z"
   },
   {
    "duration": 0,
    "start_time": "2023-08-10T11:01:47.643Z"
   },
   {
    "duration": 0,
    "start_time": "2023-08-10T11:01:47.645Z"
   },
   {
    "duration": 0,
    "start_time": "2023-08-10T11:01:47.646Z"
   },
   {
    "duration": 0,
    "start_time": "2023-08-10T11:01:47.647Z"
   },
   {
    "duration": 0,
    "start_time": "2023-08-10T11:01:47.647Z"
   },
   {
    "duration": 0,
    "start_time": "2023-08-10T11:01:47.648Z"
   },
   {
    "duration": 0,
    "start_time": "2023-08-10T11:01:47.649Z"
   },
   {
    "duration": 0,
    "start_time": "2023-08-10T11:01:47.650Z"
   },
   {
    "duration": 0,
    "start_time": "2023-08-10T11:01:47.651Z"
   },
   {
    "duration": 14,
    "start_time": "2023-08-10T11:02:28.637Z"
   },
   {
    "duration": 105,
    "start_time": "2023-08-10T11:02:35.108Z"
   },
   {
    "duration": 39,
    "start_time": "2023-08-10T11:02:35.215Z"
   },
   {
    "duration": 2053,
    "start_time": "2023-08-10T11:02:35.256Z"
   },
   {
    "duration": 9,
    "start_time": "2023-08-10T11:02:37.311Z"
   },
   {
    "duration": 516,
    "start_time": "2023-08-10T11:02:37.322Z"
   },
   {
    "duration": 113,
    "start_time": "2023-08-10T11:02:37.840Z"
   },
   {
    "duration": 67,
    "start_time": "2023-08-10T11:02:37.956Z"
   },
   {
    "duration": 34,
    "start_time": "2023-08-10T11:02:38.025Z"
   },
   {
    "duration": 33,
    "start_time": "2023-08-10T11:02:38.061Z"
   },
   {
    "duration": 13,
    "start_time": "2023-08-10T11:02:38.097Z"
   },
   {
    "duration": 44,
    "start_time": "2023-08-10T11:02:38.112Z"
   },
   {
    "duration": 11,
    "start_time": "2023-08-10T11:02:38.158Z"
   },
   {
    "duration": 40,
    "start_time": "2023-08-10T11:02:38.170Z"
   },
   {
    "duration": 12,
    "start_time": "2023-08-10T11:02:38.211Z"
   },
   {
    "duration": 39,
    "start_time": "2023-08-10T11:02:38.225Z"
   },
   {
    "duration": 309,
    "start_time": "2023-08-10T11:02:38.266Z"
   },
   {
    "duration": 596,
    "start_time": "2023-08-10T11:02:38.577Z"
   },
   {
    "duration": 455,
    "start_time": "2023-08-10T11:02:39.175Z"
   },
   {
    "duration": 310,
    "start_time": "2023-08-10T11:02:39.632Z"
   },
   {
    "duration": 4502,
    "start_time": "2023-08-10T11:02:39.943Z"
   },
   {
    "duration": 247,
    "start_time": "2023-08-10T11:02:44.446Z"
   },
   {
    "duration": 217,
    "start_time": "2023-08-10T11:02:44.695Z"
   },
   {
    "duration": 589,
    "start_time": "2023-08-10T11:02:44.914Z"
   },
   {
    "duration": 176,
    "start_time": "2023-08-10T11:02:45.505Z"
   },
   {
    "duration": 206,
    "start_time": "2023-08-10T11:02:45.683Z"
   },
   {
    "duration": 196,
    "start_time": "2023-08-10T11:02:45.891Z"
   },
   {
    "duration": 205,
    "start_time": "2023-08-10T11:02:46.088Z"
   },
   {
    "duration": 238,
    "start_time": "2023-08-10T11:02:46.296Z"
   },
   {
    "duration": 194,
    "start_time": "2023-08-10T11:02:46.536Z"
   },
   {
    "duration": 206,
    "start_time": "2023-08-10T11:02:46.732Z"
   },
   {
    "duration": 209,
    "start_time": "2023-08-10T11:02:46.940Z"
   },
   {
    "duration": 300,
    "start_time": "2023-08-10T11:02:47.153Z"
   },
   {
    "duration": 567,
    "start_time": "2023-08-10T11:02:47.455Z"
   },
   {
    "duration": 172,
    "start_time": "2023-08-10T11:02:48.023Z"
   },
   {
    "duration": 11,
    "start_time": "2023-08-10T11:02:48.196Z"
   },
   {
    "duration": 174,
    "start_time": "2023-08-10T11:02:48.209Z"
   },
   {
    "duration": 12,
    "start_time": "2023-08-10T11:02:48.384Z"
   },
   {
    "duration": 377,
    "start_time": "2023-08-10T11:02:48.398Z"
   },
   {
    "duration": 12,
    "start_time": "2023-08-10T11:02:48.777Z"
   },
   {
    "duration": 165,
    "start_time": "2023-08-10T11:02:48.790Z"
   },
   {
    "duration": 14,
    "start_time": "2023-08-10T11:02:48.956Z"
   },
   {
    "duration": 165,
    "start_time": "2023-08-10T11:02:48.971Z"
   },
   {
    "duration": 176,
    "start_time": "2023-08-10T11:02:49.137Z"
   },
   {
    "duration": 172,
    "start_time": "2023-08-10T11:02:49.315Z"
   },
   {
    "duration": 171,
    "start_time": "2023-08-10T11:02:49.489Z"
   },
   {
    "duration": 21,
    "start_time": "2023-08-10T11:02:49.662Z"
   },
   {
    "duration": 232,
    "start_time": "2023-08-10T11:02:49.685Z"
   },
   {
    "duration": 16,
    "start_time": "2023-08-10T11:02:49.919Z"
   },
   {
    "duration": 111,
    "start_time": "2023-08-10T11:03:21.509Z"
   },
   {
    "duration": 39,
    "start_time": "2023-08-10T11:03:21.622Z"
   },
   {
    "duration": 1970,
    "start_time": "2023-08-10T11:03:21.663Z"
   },
   {
    "duration": 20,
    "start_time": "2023-08-10T11:03:23.635Z"
   },
   {
    "duration": 744,
    "start_time": "2023-08-10T11:03:23.657Z"
   },
   {
    "duration": 120,
    "start_time": "2023-08-10T11:03:24.403Z"
   },
   {
    "duration": 70,
    "start_time": "2023-08-10T11:03:24.525Z"
   },
   {
    "duration": 18,
    "start_time": "2023-08-10T11:03:24.597Z"
   },
   {
    "duration": 44,
    "start_time": "2023-08-10T11:03:24.617Z"
   },
   {
    "duration": 9,
    "start_time": "2023-08-10T11:03:24.664Z"
   },
   {
    "duration": 35,
    "start_time": "2023-08-10T11:03:24.675Z"
   },
   {
    "duration": 10,
    "start_time": "2023-08-10T11:03:24.711Z"
   },
   {
    "duration": 43,
    "start_time": "2023-08-10T11:03:24.723Z"
   },
   {
    "duration": 9,
    "start_time": "2023-08-10T11:03:24.767Z"
   },
   {
    "duration": 26,
    "start_time": "2023-08-10T11:03:24.777Z"
   },
   {
    "duration": 341,
    "start_time": "2023-08-10T11:03:24.804Z"
   },
   {
    "duration": 456,
    "start_time": "2023-08-10T11:03:25.147Z"
   },
   {
    "duration": 689,
    "start_time": "2023-08-10T11:03:25.604Z"
   },
   {
    "duration": 676,
    "start_time": "2023-08-10T11:03:26.295Z"
   },
   {
    "duration": 4011,
    "start_time": "2023-08-10T11:03:26.973Z"
   },
   {
    "duration": 254,
    "start_time": "2023-08-10T11:03:30.985Z"
   },
   {
    "duration": 222,
    "start_time": "2023-08-10T11:03:31.241Z"
   },
   {
    "duration": 646,
    "start_time": "2023-08-10T11:03:31.465Z"
   },
   {
    "duration": 167,
    "start_time": "2023-08-10T11:03:32.113Z"
   },
   {
    "duration": 276,
    "start_time": "2023-08-10T11:03:32.282Z"
   },
   {
    "duration": 223,
    "start_time": "2023-08-10T11:03:32.561Z"
   },
   {
    "duration": 201,
    "start_time": "2023-08-10T11:03:32.786Z"
   },
   {
    "duration": 225,
    "start_time": "2023-08-10T11:03:32.990Z"
   },
   {
    "duration": 199,
    "start_time": "2023-08-10T11:03:33.216Z"
   },
   {
    "duration": 249,
    "start_time": "2023-08-10T11:03:33.416Z"
   },
   {
    "duration": 217,
    "start_time": "2023-08-10T11:03:33.666Z"
   },
   {
    "duration": 336,
    "start_time": "2023-08-10T11:03:33.884Z"
   },
   {
    "duration": 633,
    "start_time": "2023-08-10T11:03:34.222Z"
   },
   {
    "duration": 200,
    "start_time": "2023-08-10T11:03:34.856Z"
   },
   {
    "duration": 13,
    "start_time": "2023-08-10T11:03:35.058Z"
   },
   {
    "duration": 222,
    "start_time": "2023-08-10T11:03:35.072Z"
   },
   {
    "duration": 13,
    "start_time": "2023-08-10T11:03:35.296Z"
   },
   {
    "duration": 185,
    "start_time": "2023-08-10T11:03:35.311Z"
   },
   {
    "duration": 13,
    "start_time": "2023-08-10T11:03:35.497Z"
   },
   {
    "duration": 201,
    "start_time": "2023-08-10T11:03:35.512Z"
   },
   {
    "duration": 15,
    "start_time": "2023-08-10T11:03:35.715Z"
   },
   {
    "duration": 185,
    "start_time": "2023-08-10T11:03:35.732Z"
   },
   {
    "duration": 183,
    "start_time": "2023-08-10T11:03:35.919Z"
   },
   {
    "duration": 189,
    "start_time": "2023-08-10T11:03:36.103Z"
   },
   {
    "duration": 189,
    "start_time": "2023-08-10T11:03:36.294Z"
   },
   {
    "duration": 25,
    "start_time": "2023-08-10T11:03:36.485Z"
   },
   {
    "duration": 692,
    "start_time": "2023-08-10T11:03:36.512Z"
   },
   {
    "duration": 17,
    "start_time": "2023-08-10T11:03:37.206Z"
   },
   {
    "duration": 101,
    "start_time": "2023-08-10T11:05:04.299Z"
   },
   {
    "duration": 21,
    "start_time": "2023-08-10T11:05:04.402Z"
   },
   {
    "duration": 1916,
    "start_time": "2023-08-10T11:05:04.425Z"
   },
   {
    "duration": 19,
    "start_time": "2023-08-10T11:05:06.343Z"
   },
   {
    "duration": 567,
    "start_time": "2023-08-10T11:05:06.365Z"
   },
   {
    "duration": 121,
    "start_time": "2023-08-10T11:05:06.934Z"
   },
   {
    "duration": 72,
    "start_time": "2023-08-10T11:05:07.057Z"
   },
   {
    "duration": 29,
    "start_time": "2023-08-10T11:05:07.131Z"
   },
   {
    "duration": 36,
    "start_time": "2023-08-10T11:05:07.162Z"
   },
   {
    "duration": 10,
    "start_time": "2023-08-10T11:05:07.200Z"
   },
   {
    "duration": 44,
    "start_time": "2023-08-10T11:05:07.212Z"
   },
   {
    "duration": 10,
    "start_time": "2023-08-10T11:05:07.258Z"
   },
   {
    "duration": 44,
    "start_time": "2023-08-10T11:05:07.270Z"
   },
   {
    "duration": 10,
    "start_time": "2023-08-10T11:05:07.317Z"
   },
   {
    "duration": 17,
    "start_time": "2023-08-10T11:05:07.328Z"
   },
   {
    "duration": 2367,
    "start_time": "2023-08-10T11:05:07.346Z"
   },
   {
    "duration": 0,
    "start_time": "2023-08-10T11:05:09.715Z"
   },
   {
    "duration": 0,
    "start_time": "2023-08-10T11:05:09.716Z"
   },
   {
    "duration": 0,
    "start_time": "2023-08-10T11:05:09.717Z"
   },
   {
    "duration": 0,
    "start_time": "2023-08-10T11:05:09.718Z"
   },
   {
    "duration": 0,
    "start_time": "2023-08-10T11:05:09.719Z"
   },
   {
    "duration": 0,
    "start_time": "2023-08-10T11:05:09.720Z"
   },
   {
    "duration": 0,
    "start_time": "2023-08-10T11:05:09.722Z"
   },
   {
    "duration": 0,
    "start_time": "2023-08-10T11:05:09.722Z"
   },
   {
    "duration": 0,
    "start_time": "2023-08-10T11:05:09.723Z"
   },
   {
    "duration": 0,
    "start_time": "2023-08-10T11:05:09.724Z"
   },
   {
    "duration": 0,
    "start_time": "2023-08-10T11:05:09.725Z"
   },
   {
    "duration": 0,
    "start_time": "2023-08-10T11:05:09.754Z"
   },
   {
    "duration": 0,
    "start_time": "2023-08-10T11:05:09.755Z"
   },
   {
    "duration": 0,
    "start_time": "2023-08-10T11:05:09.756Z"
   },
   {
    "duration": 0,
    "start_time": "2023-08-10T11:05:09.757Z"
   },
   {
    "duration": 0,
    "start_time": "2023-08-10T11:05:09.758Z"
   },
   {
    "duration": 0,
    "start_time": "2023-08-10T11:05:09.759Z"
   },
   {
    "duration": 0,
    "start_time": "2023-08-10T11:05:09.760Z"
   },
   {
    "duration": 0,
    "start_time": "2023-08-10T11:05:09.761Z"
   },
   {
    "duration": 0,
    "start_time": "2023-08-10T11:05:09.762Z"
   },
   {
    "duration": 0,
    "start_time": "2023-08-10T11:05:09.764Z"
   },
   {
    "duration": 0,
    "start_time": "2023-08-10T11:05:09.765Z"
   },
   {
    "duration": 0,
    "start_time": "2023-08-10T11:05:09.766Z"
   },
   {
    "duration": 0,
    "start_time": "2023-08-10T11:05:09.767Z"
   },
   {
    "duration": 0,
    "start_time": "2023-08-10T11:05:09.768Z"
   },
   {
    "duration": 0,
    "start_time": "2023-08-10T11:05:09.770Z"
   },
   {
    "duration": 0,
    "start_time": "2023-08-10T11:05:09.771Z"
   },
   {
    "duration": 0,
    "start_time": "2023-08-10T11:05:09.772Z"
   },
   {
    "duration": 0,
    "start_time": "2023-08-10T11:05:09.773Z"
   },
   {
    "duration": 1,
    "start_time": "2023-08-10T11:05:09.774Z"
   },
   {
    "duration": 0,
    "start_time": "2023-08-10T11:05:09.776Z"
   },
   {
    "duration": 0,
    "start_time": "2023-08-10T11:05:09.777Z"
   },
   {
    "duration": 17,
    "start_time": "2023-08-10T11:05:22.580Z"
   },
   {
    "duration": 109,
    "start_time": "2023-08-10T11:05:25.885Z"
   },
   {
    "duration": 23,
    "start_time": "2023-08-10T11:05:25.996Z"
   },
   {
    "duration": 2136,
    "start_time": "2023-08-10T11:05:26.020Z"
   },
   {
    "duration": 9,
    "start_time": "2023-08-10T11:05:28.158Z"
   },
   {
    "duration": 524,
    "start_time": "2023-08-10T11:05:28.168Z"
   },
   {
    "duration": 114,
    "start_time": "2023-08-10T11:05:28.694Z"
   },
   {
    "duration": 78,
    "start_time": "2023-08-10T11:05:28.809Z"
   },
   {
    "duration": 17,
    "start_time": "2023-08-10T11:05:28.889Z"
   },
   {
    "duration": 49,
    "start_time": "2023-08-10T11:05:28.908Z"
   },
   {
    "duration": 14,
    "start_time": "2023-08-10T11:05:28.959Z"
   },
   {
    "duration": 45,
    "start_time": "2023-08-10T11:05:28.975Z"
   },
   {
    "duration": 24,
    "start_time": "2023-08-10T11:05:29.022Z"
   },
   {
    "duration": 71,
    "start_time": "2023-08-10T11:05:29.048Z"
   },
   {
    "duration": 9,
    "start_time": "2023-08-10T11:05:29.121Z"
   },
   {
    "duration": 26,
    "start_time": "2023-08-10T11:05:29.131Z"
   },
   {
    "duration": 332,
    "start_time": "2023-08-10T11:05:29.159Z"
   },
   {
    "duration": 484,
    "start_time": "2023-08-10T11:05:29.493Z"
   },
   {
    "duration": 712,
    "start_time": "2023-08-10T11:05:29.979Z"
   },
   {
    "duration": 603,
    "start_time": "2023-08-10T11:05:30.693Z"
   },
   {
    "duration": 4041,
    "start_time": "2023-08-10T11:05:31.297Z"
   },
   {
    "duration": 252,
    "start_time": "2023-08-10T11:05:35.340Z"
   },
   {
    "duration": 214,
    "start_time": "2023-08-10T11:05:35.593Z"
   },
   {
    "duration": 307,
    "start_time": "2023-08-10T11:05:35.808Z"
   },
   {
    "duration": 530,
    "start_time": "2023-08-10T11:05:36.117Z"
   },
   {
    "duration": 204,
    "start_time": "2023-08-10T11:05:36.652Z"
   },
   {
    "duration": 200,
    "start_time": "2023-08-10T11:05:36.858Z"
   },
   {
    "duration": 206,
    "start_time": "2023-08-10T11:05:37.060Z"
   },
   {
    "duration": 254,
    "start_time": "2023-08-10T11:05:37.270Z"
   },
   {
    "duration": 203,
    "start_time": "2023-08-10T11:05:37.526Z"
   },
   {
    "duration": 203,
    "start_time": "2023-08-10T11:05:37.731Z"
   },
   {
    "duration": 223,
    "start_time": "2023-08-10T11:05:37.936Z"
   },
   {
    "duration": 300,
    "start_time": "2023-08-10T11:05:38.161Z"
   },
   {
    "duration": 543,
    "start_time": "2023-08-10T11:05:38.462Z"
   },
   {
    "duration": 180,
    "start_time": "2023-08-10T11:05:39.007Z"
   },
   {
    "duration": 14,
    "start_time": "2023-08-10T11:05:39.188Z"
   },
   {
    "duration": 211,
    "start_time": "2023-08-10T11:05:39.203Z"
   },
   {
    "duration": 14,
    "start_time": "2023-08-10T11:05:39.416Z"
   },
   {
    "duration": 212,
    "start_time": "2023-08-10T11:05:39.432Z"
   },
   {
    "duration": 16,
    "start_time": "2023-08-10T11:05:39.646Z"
   },
   {
    "duration": 166,
    "start_time": "2023-08-10T11:05:39.664Z"
   },
   {
    "duration": 31,
    "start_time": "2023-08-10T11:05:39.832Z"
   },
   {
    "duration": 156,
    "start_time": "2023-08-10T11:05:39.865Z"
   },
   {
    "duration": 208,
    "start_time": "2023-08-10T11:05:40.023Z"
   },
   {
    "duration": 179,
    "start_time": "2023-08-10T11:05:40.233Z"
   },
   {
    "duration": 182,
    "start_time": "2023-08-10T11:05:40.414Z"
   },
   {
    "duration": 21,
    "start_time": "2023-08-10T11:05:40.598Z"
   },
   {
    "duration": 249,
    "start_time": "2023-08-10T11:05:40.621Z"
   },
   {
    "duration": 16,
    "start_time": "2023-08-10T11:05:40.871Z"
   },
   {
    "duration": 10,
    "start_time": "2023-08-10T11:07:27.725Z"
   },
   {
    "duration": 8,
    "start_time": "2023-08-10T11:07:36.867Z"
   },
   {
    "duration": 106,
    "start_time": "2023-08-10T11:07:49.829Z"
   },
   {
    "duration": 23,
    "start_time": "2023-08-10T11:07:49.954Z"
   },
   {
    "duration": 2083,
    "start_time": "2023-08-10T11:07:49.979Z"
   },
   {
    "duration": 11,
    "start_time": "2023-08-10T11:07:52.065Z"
   },
   {
    "duration": 531,
    "start_time": "2023-08-10T11:07:52.078Z"
   },
   {
    "duration": 152,
    "start_time": "2023-08-10T11:07:52.612Z"
   },
   {
    "duration": 67,
    "start_time": "2023-08-10T11:07:52.766Z"
   },
   {
    "duration": 31,
    "start_time": "2023-08-10T11:07:52.834Z"
   },
   {
    "duration": 29,
    "start_time": "2023-08-10T11:07:52.867Z"
   },
   {
    "duration": 12,
    "start_time": "2023-08-10T11:07:52.898Z"
   },
   {
    "duration": 53,
    "start_time": "2023-08-10T11:07:52.911Z"
   },
   {
    "duration": 10,
    "start_time": "2023-08-10T11:07:52.966Z"
   },
   {
    "duration": 49,
    "start_time": "2023-08-10T11:07:52.978Z"
   },
   {
    "duration": 9,
    "start_time": "2023-08-10T11:07:53.029Z"
   },
   {
    "duration": 24,
    "start_time": "2023-08-10T11:07:53.039Z"
   },
   {
    "duration": 310,
    "start_time": "2023-08-10T11:07:53.065Z"
   },
   {
    "duration": 484,
    "start_time": "2023-08-10T11:07:53.377Z"
   },
   {
    "duration": 496,
    "start_time": "2023-08-10T11:07:53.862Z"
   },
   {
    "duration": 315,
    "start_time": "2023-08-10T11:07:54.360Z"
   },
   {
    "duration": 3797,
    "start_time": "2023-08-10T11:07:54.677Z"
   },
   {
    "duration": 508,
    "start_time": "2023-08-10T11:07:58.476Z"
   },
   {
    "duration": 474,
    "start_time": "2023-08-10T11:07:58.986Z"
   },
   {
    "duration": 608,
    "start_time": "2023-08-10T11:07:59.461Z"
   },
   {
    "duration": 159,
    "start_time": "2023-08-10T11:08:00.071Z"
   },
   {
    "duration": 327,
    "start_time": "2023-08-10T11:08:00.231Z"
   },
   {
    "duration": 334,
    "start_time": "2023-08-10T11:08:00.560Z"
   },
   {
    "duration": 402,
    "start_time": "2023-08-10T11:08:00.896Z"
   },
   {
    "duration": 489,
    "start_time": "2023-08-10T11:08:01.301Z"
   },
   {
    "duration": 355,
    "start_time": "2023-08-10T11:08:01.792Z"
   },
   {
    "duration": 260,
    "start_time": "2023-08-10T11:08:02.148Z"
   },
   {
    "duration": 290,
    "start_time": "2023-08-10T11:08:02.411Z"
   },
   {
    "duration": 316,
    "start_time": "2023-08-10T11:08:02.702Z"
   },
   {
    "duration": 1013,
    "start_time": "2023-08-10T11:08:03.020Z"
   },
   {
    "duration": 188,
    "start_time": "2023-08-10T11:08:04.035Z"
   },
   {
    "duration": 28,
    "start_time": "2023-08-10T11:08:04.225Z"
   },
   {
    "duration": 190,
    "start_time": "2023-08-10T11:08:04.256Z"
   },
   {
    "duration": 13,
    "start_time": "2023-08-10T11:08:04.454Z"
   },
   {
    "duration": 178,
    "start_time": "2023-08-10T11:08:04.469Z"
   },
   {
    "duration": 12,
    "start_time": "2023-08-10T11:08:04.653Z"
   },
   {
    "duration": 163,
    "start_time": "2023-08-10T11:08:04.667Z"
   },
   {
    "duration": 22,
    "start_time": "2023-08-10T11:08:04.832Z"
   },
   {
    "duration": 166,
    "start_time": "2023-08-10T11:08:04.856Z"
   },
   {
    "duration": 185,
    "start_time": "2023-08-10T11:08:05.025Z"
   },
   {
    "duration": 180,
    "start_time": "2023-08-10T11:08:05.212Z"
   },
   {
    "duration": 191,
    "start_time": "2023-08-10T11:08:05.394Z"
   },
   {
    "duration": 22,
    "start_time": "2023-08-10T11:08:05.587Z"
   },
   {
    "duration": 253,
    "start_time": "2023-08-10T11:08:05.611Z"
   },
   {
    "duration": 18,
    "start_time": "2023-08-10T11:08:05.866Z"
   },
   {
    "duration": 3384,
    "start_time": "2023-08-10T11:16:45.543Z"
   },
   {
    "duration": 4326,
    "start_time": "2023-08-10T11:17:00.234Z"
   },
   {
    "duration": 1365,
    "start_time": "2023-08-10T11:17:21.341Z"
   },
   {
    "duration": 9,
    "start_time": "2023-08-10T11:17:31.417Z"
   },
   {
    "duration": 3663,
    "start_time": "2023-08-10T11:17:37.282Z"
   },
   {
    "duration": 938,
    "start_time": "2023-08-10T11:18:10.778Z"
   },
   {
    "duration": 476,
    "start_time": "2023-08-10T11:18:19.190Z"
   },
   {
    "duration": 1003,
    "start_time": "2023-08-10T11:19:12.002Z"
   },
   {
    "duration": 460,
    "start_time": "2023-08-10T11:19:17.124Z"
   },
   {
    "duration": 12,
    "start_time": "2023-08-10T11:19:41.066Z"
   },
   {
    "duration": 10,
    "start_time": "2023-08-10T11:19:46.196Z"
   },
   {
    "duration": 100,
    "start_time": "2023-08-10T11:20:03.686Z"
   },
   {
    "duration": 21,
    "start_time": "2023-08-10T11:20:03.788Z"
   },
   {
    "duration": 1892,
    "start_time": "2023-08-10T11:20:03.811Z"
   },
   {
    "duration": 8,
    "start_time": "2023-08-10T11:20:05.705Z"
   },
   {
    "duration": 545,
    "start_time": "2023-08-10T11:20:05.715Z"
   },
   {
    "duration": 120,
    "start_time": "2023-08-10T11:20:06.262Z"
   },
   {
    "duration": 79,
    "start_time": "2023-08-10T11:20:06.384Z"
   },
   {
    "duration": 20,
    "start_time": "2023-08-10T11:20:06.466Z"
   },
   {
    "duration": 31,
    "start_time": "2023-08-10T11:20:06.488Z"
   },
   {
    "duration": 39,
    "start_time": "2023-08-10T11:20:06.523Z"
   },
   {
    "duration": 43,
    "start_time": "2023-08-10T11:20:06.564Z"
   },
   {
    "duration": 12,
    "start_time": "2023-08-10T11:20:06.609Z"
   },
   {
    "duration": 47,
    "start_time": "2023-08-10T11:20:06.623Z"
   },
   {
    "duration": 10,
    "start_time": "2023-08-10T11:20:06.672Z"
   },
   {
    "duration": 38,
    "start_time": "2023-08-10T11:20:06.684Z"
   },
   {
    "duration": 333,
    "start_time": "2023-08-10T11:20:06.724Z"
   },
   {
    "duration": 469,
    "start_time": "2023-08-10T11:20:07.059Z"
   },
   {
    "duration": 776,
    "start_time": "2023-08-10T11:20:07.530Z"
   },
   {
    "duration": 319,
    "start_time": "2023-08-10T11:20:08.308Z"
   },
   {
    "duration": 630,
    "start_time": "2023-08-10T11:20:08.628Z"
   },
   {
    "duration": 504,
    "start_time": "2023-08-10T11:20:09.259Z"
   },
   {
    "duration": 424,
    "start_time": "2023-08-10T11:20:09.764Z"
   },
   {
    "duration": 598,
    "start_time": "2023-08-10T11:20:10.190Z"
   },
   {
    "duration": 171,
    "start_time": "2023-08-10T11:20:10.790Z"
   },
   {
    "duration": 220,
    "start_time": "2023-08-10T11:20:10.963Z"
   },
   {
    "duration": 202,
    "start_time": "2023-08-10T11:20:11.185Z"
   },
   {
    "duration": 215,
    "start_time": "2023-08-10T11:20:11.389Z"
   },
   {
    "duration": 239,
    "start_time": "2023-08-10T11:20:11.608Z"
   },
   {
    "duration": 206,
    "start_time": "2023-08-10T11:20:11.853Z"
   },
   {
    "duration": 225,
    "start_time": "2023-08-10T11:20:12.061Z"
   },
   {
    "duration": 273,
    "start_time": "2023-08-10T11:20:12.288Z"
   },
   {
    "duration": 359,
    "start_time": "2023-08-10T11:20:12.564Z"
   },
   {
    "duration": 634,
    "start_time": "2023-08-10T11:20:12.925Z"
   },
   {
    "duration": 192,
    "start_time": "2023-08-10T11:20:13.561Z"
   },
   {
    "duration": 13,
    "start_time": "2023-08-10T11:20:13.755Z"
   },
   {
    "duration": 194,
    "start_time": "2023-08-10T11:20:13.769Z"
   },
   {
    "duration": 13,
    "start_time": "2023-08-10T11:20:13.964Z"
   },
   {
    "duration": 566,
    "start_time": "2023-08-10T11:20:13.979Z"
   },
   {
    "duration": 13,
    "start_time": "2023-08-10T11:20:14.553Z"
   },
   {
    "duration": 165,
    "start_time": "2023-08-10T11:20:14.568Z"
   },
   {
    "duration": 22,
    "start_time": "2023-08-10T11:20:14.735Z"
   },
   {
    "duration": 160,
    "start_time": "2023-08-10T11:20:14.758Z"
   },
   {
    "duration": 184,
    "start_time": "2023-08-10T11:20:14.920Z"
   },
   {
    "duration": 182,
    "start_time": "2023-08-10T11:20:15.105Z"
   },
   {
    "duration": 195,
    "start_time": "2023-08-10T11:20:15.288Z"
   },
   {
    "duration": 21,
    "start_time": "2023-08-10T11:20:15.485Z"
   },
   {
    "duration": 250,
    "start_time": "2023-08-10T11:20:15.508Z"
   },
   {
    "duration": 18,
    "start_time": "2023-08-10T11:20:15.760Z"
   },
   {
    "duration": 444,
    "start_time": "2023-08-10T11:22:33.558Z"
   },
   {
    "duration": 471,
    "start_time": "2023-08-10T11:22:40.665Z"
   },
   {
    "duration": 302,
    "start_time": "2023-08-10T11:22:45.996Z"
   },
   {
    "duration": 424,
    "start_time": "2023-08-10T11:22:50.587Z"
   },
   {
    "duration": 244,
    "start_time": "2023-08-10T11:24:28.998Z"
   },
   {
    "duration": 252,
    "start_time": "2023-08-10T11:24:48.898Z"
   },
   {
    "duration": 233,
    "start_time": "2023-08-10T11:24:53.572Z"
   },
   {
    "duration": 578,
    "start_time": "2023-08-10T11:27:54.669Z"
   },
   {
    "duration": 966,
    "start_time": "2023-08-10T11:28:06.669Z"
   },
   {
    "duration": 596,
    "start_time": "2023-08-10T11:28:58.221Z"
   },
   {
    "duration": 192,
    "start_time": "2023-08-10T11:53:51.520Z"
   },
   {
    "duration": 170,
    "start_time": "2023-08-10T11:55:08.475Z"
   },
   {
    "duration": 10,
    "start_time": "2023-08-10T11:58:41.703Z"
   },
   {
    "duration": 204,
    "start_time": "2023-08-10T11:58:59.475Z"
   },
   {
    "duration": 178,
    "start_time": "2023-08-10T11:59:30.868Z"
   },
   {
    "duration": 279,
    "start_time": "2023-08-10T12:12:32.700Z"
   },
   {
    "duration": 335,
    "start_time": "2023-08-10T12:14:15.327Z"
   },
   {
    "duration": 318,
    "start_time": "2023-08-10T12:15:01.776Z"
   },
   {
    "duration": 1220,
    "start_time": "2023-08-10T15:19:25.008Z"
   },
   {
    "duration": 108,
    "start_time": "2023-08-10T15:19:26.239Z"
   },
   {
    "duration": 6087,
    "start_time": "2023-08-10T15:19:26.350Z"
   },
   {
    "duration": 70,
    "start_time": "2023-08-10T15:19:32.439Z"
   },
   {
    "duration": 1298,
    "start_time": "2023-08-10T15:19:32.512Z"
   },
   {
    "duration": 237,
    "start_time": "2023-08-10T15:19:33.821Z"
   },
   {
    "duration": 181,
    "start_time": "2023-08-10T15:19:34.060Z"
   },
   {
    "duration": 87,
    "start_time": "2023-08-10T15:19:34.244Z"
   },
   {
    "duration": 85,
    "start_time": "2023-08-10T15:19:34.333Z"
   },
   {
    "duration": 16,
    "start_time": "2023-08-10T15:19:34.420Z"
   },
   {
    "duration": 101,
    "start_time": "2023-08-10T15:19:34.438Z"
   },
   {
    "duration": 75,
    "start_time": "2023-08-10T15:19:34.541Z"
   },
   {
    "duration": 39,
    "start_time": "2023-08-10T15:19:34.618Z"
   },
   {
    "duration": 22,
    "start_time": "2023-08-10T15:19:34.712Z"
   },
   {
    "duration": 93,
    "start_time": "2023-08-10T15:19:34.736Z"
   },
   {
    "duration": 807,
    "start_time": "2023-08-10T15:19:34.835Z"
   },
   {
    "duration": 1400,
    "start_time": "2023-08-10T15:19:35.644Z"
   },
   {
    "duration": 1179,
    "start_time": "2023-08-10T15:19:37.046Z"
   },
   {
    "duration": 803,
    "start_time": "2023-08-10T15:19:38.229Z"
   },
   {
    "duration": 1487,
    "start_time": "2023-08-10T15:19:39.035Z"
   },
   {
    "duration": 899,
    "start_time": "2023-08-10T15:19:40.524Z"
   },
   {
    "duration": 505,
    "start_time": "2023-08-10T15:19:41.425Z"
   },
   {
    "duration": 783,
    "start_time": "2023-08-10T15:19:41.932Z"
   },
   {
    "duration": 399,
    "start_time": "2023-08-10T15:19:42.716Z"
   },
   {
    "duration": 499,
    "start_time": "2023-08-10T15:19:43.121Z"
   },
   {
    "duration": 485,
    "start_time": "2023-08-10T15:19:43.625Z"
   },
   {
    "duration": 440,
    "start_time": "2023-08-10T15:19:44.112Z"
   },
   {
    "duration": 540,
    "start_time": "2023-08-10T15:19:44.610Z"
   },
   {
    "duration": 575,
    "start_time": "2023-08-10T15:19:45.152Z"
   },
   {
    "duration": 905,
    "start_time": "2023-08-10T15:19:45.729Z"
   },
   {
    "duration": 610,
    "start_time": "2023-08-10T15:19:46.637Z"
   },
   {
    "duration": 779,
    "start_time": "2023-08-10T15:19:47.249Z"
   },
   {
    "duration": 1491,
    "start_time": "2023-08-10T15:19:48.031Z"
   },
   {
    "duration": 495,
    "start_time": "2023-08-10T15:19:49.524Z"
   },
   {
    "duration": 20,
    "start_time": "2023-08-10T15:19:50.022Z"
   },
   {
    "duration": 487,
    "start_time": "2023-08-10T15:19:50.044Z"
   },
   {
    "duration": 15,
    "start_time": "2023-08-10T15:19:50.532Z"
   },
   {
    "duration": 770,
    "start_time": "2023-08-10T15:19:50.549Z"
   },
   {
    "duration": 21,
    "start_time": "2023-08-10T15:19:51.322Z"
   },
   {
    "duration": 484,
    "start_time": "2023-08-10T15:19:51.345Z"
   },
   {
    "duration": 488,
    "start_time": "2023-08-10T15:19:51.833Z"
   },
   {
    "duration": 502,
    "start_time": "2023-08-10T15:19:52.323Z"
   },
   {
    "duration": 417,
    "start_time": "2023-08-10T15:19:52.828Z"
   },
   {
    "duration": 566,
    "start_time": "2023-08-10T15:19:53.246Z"
   },
   {
    "duration": 24,
    "start_time": "2023-08-10T15:19:53.820Z"
   },
   {
    "duration": 869,
    "start_time": "2023-08-10T15:19:53.846Z"
   },
   {
    "duration": 21,
    "start_time": "2023-08-10T15:19:54.720Z"
   },
   {
    "duration": 178,
    "start_time": "2023-08-10T15:20:28.167Z"
   },
   {
    "duration": 528,
    "start_time": "2023-09-05T12:57:20.538Z"
   }
  ],
  "kernelspec": {
   "display_name": "Python 3 (ipykernel)",
   "language": "python",
   "name": "python3"
  },
  "language_info": {
   "codemirror_mode": {
    "name": "ipython",
    "version": 3
   },
   "file_extension": ".py",
   "mimetype": "text/x-python",
   "name": "python",
   "nbconvert_exporter": "python",
   "pygments_lexer": "ipython3",
   "version": "3.9.5"
  },
  "toc": {
   "base_numbering": 1,
   "nav_menu": {},
   "number_sections": true,
   "sideBar": true,
   "skip_h1_title": true,
   "title_cell": "Table of Contents",
   "title_sidebar": "Contents",
   "toc_cell": false,
   "toc_position": {
    "height": "calc(100% - 180px)",
    "left": "10px",
    "top": "150px",
    "width": "485px"
   },
   "toc_section_display": true,
   "toc_window_display": false
  }
 },
 "nbformat": 4,
 "nbformat_minor": 2
}

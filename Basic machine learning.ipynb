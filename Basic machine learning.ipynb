{
 "cells": [
  {
   "cell_type": "markdown",
   "metadata": {},
   "source": [
    "# Рекомендация тарифов"
   ]
  },
  {
   "cell_type": "markdown",
   "metadata": {},
   "source": [
    "В вашем распоряжении данные о поведении клиентов, которые уже перешли на эти тарифы (из проекта курса «Статистический анализ данных»). Нужно построить модель для задачи классификации, которая выберет подходящий тариф. Предобработка данных не понадобится — вы её уже сделали.\n",
    "\n",
    "Постройте модель с максимально большим значением *accuracy*. Чтобы сдать проект успешно, нужно довести долю правильных ответов по крайней мере до 0.75. Проверьте *accuracy* на тестовой выборке самостоятельно."
   ]
  },
  {
   "cell_type": "markdown",
   "metadata": {},
   "source": [
    "<div class=\"alert alert-success\">\n",
    "<font size=\"5\"><b>Комментарий ревьюера</b></font>\n",
    "\n",
    "Успех:\n",
    "\n",
    "\n",
    "Вступление в работу очень важно, так человек, который смотрит твой проект (и на работе в том числе) будет сразу введен в курс дела.\n",
    "\n",
    "\n",
    "\n",
    "\n",
    "\n",
    "</div>"
   ]
  },
  {
   "cell_type": "markdown",
   "metadata": {},
   "source": [
    "## Откройте и изучите файл"
   ]
  },
  {
   "cell_type": "code",
   "execution_count": 136,
   "metadata": {},
   "outputs": [],
   "source": [
    "import warnings\n",
    "import numpy as np\n",
    "import pandas as pd\n",
    "import matplotlib.pyplot as plt\n",
    "import sklearn.metrics\n",
    "\n",
    "from sklearn.dummy import DummyClassifier\n",
    "from sklearn.tree import DecisionTreeClassifier\n",
    "from sklearn.ensemble import RandomForestClassifier\n",
    "from sklearn.linear_model import LogisticRegression\n",
    "from sklearn.model_selection import train_test_split\n",
    "from sklearn.metrics import precision_score, recall_score, f1_score, accuracy_score"
   ]
  },
  {
   "cell_type": "markdown",
   "metadata": {},
   "source": [
    "<div class=\"alert alert-success\">\n",
    "<font size=\"5\"><b>Комментарий ревьюера</b></font>\n",
    "\n",
    "Успех:\n",
    "\n",
    "Собираем все импорты в верхней части, чтобы легче было ориентироваться и добавлять новые по необходимости. \n",
    "\n",
    "\n",
    "<div class=\"alert alert-warning\">\n",
    "\n",
    "Совет:     \n",
    "    \n",
    "    \n",
    "\n",
    "\n",
    "- кстати есть рекомендации PEP-8 при написании кода, в том числе и для импортов. Если интересно можешь почитать [тут](https://pythonworld.ru/osnovy/pep-8-rukovodstvo-po-napisaniyu-koda-na-python.html), в будущем пригодится )  \n",
    "\n",
    "\n",
    "\n",
    "<div>"
   ]
  },
  {
   "cell_type": "markdown",
   "metadata": {},
   "source": [
    "<div class=\"alert alert-info\">\n",
    "<font size=\"5\"><b>Комментарий студента</b></font>\n",
    "    \n",
    "    Я понял это так, разделение библиотек, отделение пробелом модулей, объединение, если что-то не так укажи, пожалуйста."
   ]
  },
  {
   "cell_type": "markdown",
   "metadata": {},
   "source": [
    "<div class=\"alert alert-success\">\n",
    "<font size=\"5\"><b>Комментарий ревьюераV2</b></font>\n",
    "\n",
    "\n",
    "\n",
    "Успех 👍:\n",
    "\n",
    "\n",
    "\n",
    "👍 можно разделить пробелом. Но вообще пока исправлять особо нечего,  это на будущее\n",
    "\n",
    "\n",
    "\n",
    "\n",
    "</div>\n"
   ]
  },
  {
   "cell_type": "code",
   "execution_count": 137,
   "metadata": {},
   "outputs": [],
   "source": [
    "df = pd.read_csv('/datasets/users_behavior.csv')"
   ]
  },
  {
   "cell_type": "code",
   "execution_count": 138,
   "metadata": {
    "scrolled": true
   },
   "outputs": [
    {
     "data": {
      "text/html": [
       "<div>\n",
       "<style scoped>\n",
       "    .dataframe tbody tr th:only-of-type {\n",
       "        vertical-align: middle;\n",
       "    }\n",
       "\n",
       "    .dataframe tbody tr th {\n",
       "        vertical-align: top;\n",
       "    }\n",
       "\n",
       "    .dataframe thead th {\n",
       "        text-align: right;\n",
       "    }\n",
       "</style>\n",
       "<table border=\"1\" class=\"dataframe\">\n",
       "  <thead>\n",
       "    <tr style=\"text-align: right;\">\n",
       "      <th></th>\n",
       "      <th>calls</th>\n",
       "      <th>minutes</th>\n",
       "      <th>messages</th>\n",
       "      <th>mb_used</th>\n",
       "      <th>is_ultra</th>\n",
       "    </tr>\n",
       "  </thead>\n",
       "  <tbody>\n",
       "    <tr>\n",
       "      <th>0</th>\n",
       "      <td>40.0</td>\n",
       "      <td>311.90</td>\n",
       "      <td>83.0</td>\n",
       "      <td>19915.42</td>\n",
       "      <td>0</td>\n",
       "    </tr>\n",
       "    <tr>\n",
       "      <th>1</th>\n",
       "      <td>85.0</td>\n",
       "      <td>516.75</td>\n",
       "      <td>56.0</td>\n",
       "      <td>22696.96</td>\n",
       "      <td>0</td>\n",
       "    </tr>\n",
       "    <tr>\n",
       "      <th>2</th>\n",
       "      <td>77.0</td>\n",
       "      <td>467.66</td>\n",
       "      <td>86.0</td>\n",
       "      <td>21060.45</td>\n",
       "      <td>0</td>\n",
       "    </tr>\n",
       "    <tr>\n",
       "      <th>3</th>\n",
       "      <td>106.0</td>\n",
       "      <td>745.53</td>\n",
       "      <td>81.0</td>\n",
       "      <td>8437.39</td>\n",
       "      <td>1</td>\n",
       "    </tr>\n",
       "    <tr>\n",
       "      <th>4</th>\n",
       "      <td>66.0</td>\n",
       "      <td>418.74</td>\n",
       "      <td>1.0</td>\n",
       "      <td>14502.75</td>\n",
       "      <td>0</td>\n",
       "    </tr>\n",
       "  </tbody>\n",
       "</table>\n",
       "</div>"
      ],
      "text/plain": [
       "   calls  minutes  messages   mb_used  is_ultra\n",
       "0   40.0   311.90      83.0  19915.42         0\n",
       "1   85.0   516.75      56.0  22696.96         0\n",
       "2   77.0   467.66      86.0  21060.45         0\n",
       "3  106.0   745.53      81.0   8437.39         1\n",
       "4   66.0   418.74       1.0  14502.75         0"
      ]
     },
     "execution_count": 138,
     "metadata": {},
     "output_type": "execute_result"
    }
   ],
   "source": [
    "df.head()"
   ]
  },
  {
   "cell_type": "code",
   "execution_count": 139,
   "metadata": {},
   "outputs": [
    {
     "name": "stdout",
     "output_type": "stream",
     "text": [
      "<class 'pandas.core.frame.DataFrame'>\n",
      "RangeIndex: 3214 entries, 0 to 3213\n",
      "Data columns (total 5 columns):\n",
      " #   Column    Non-Null Count  Dtype  \n",
      "---  ------    --------------  -----  \n",
      " 0   calls     3214 non-null   float64\n",
      " 1   minutes   3214 non-null   float64\n",
      " 2   messages  3214 non-null   float64\n",
      " 3   mb_used   3214 non-null   float64\n",
      " 4   is_ultra  3214 non-null   int64  \n",
      "dtypes: float64(4), int64(1)\n",
      "memory usage: 125.7 KB\n"
     ]
    }
   ],
   "source": [
    "df.info()"
   ]
  },
  {
   "cell_type": "code",
   "execution_count": 140,
   "metadata": {},
   "outputs": [
    {
     "data": {
      "text/html": [
       "<div>\n",
       "<style scoped>\n",
       "    .dataframe tbody tr th:only-of-type {\n",
       "        vertical-align: middle;\n",
       "    }\n",
       "\n",
       "    .dataframe tbody tr th {\n",
       "        vertical-align: top;\n",
       "    }\n",
       "\n",
       "    .dataframe thead th {\n",
       "        text-align: right;\n",
       "    }\n",
       "</style>\n",
       "<table border=\"1\" class=\"dataframe\">\n",
       "  <thead>\n",
       "    <tr style=\"text-align: right;\">\n",
       "      <th></th>\n",
       "      <th>calls</th>\n",
       "      <th>minutes</th>\n",
       "      <th>messages</th>\n",
       "      <th>mb_used</th>\n",
       "      <th>is_ultra</th>\n",
       "    </tr>\n",
       "  </thead>\n",
       "  <tbody>\n",
       "    <tr>\n",
       "      <th>count</th>\n",
       "      <td>3214.000000</td>\n",
       "      <td>3214.000000</td>\n",
       "      <td>3214.000000</td>\n",
       "      <td>3214.000000</td>\n",
       "      <td>3214.000000</td>\n",
       "    </tr>\n",
       "    <tr>\n",
       "      <th>mean</th>\n",
       "      <td>63.038892</td>\n",
       "      <td>438.208787</td>\n",
       "      <td>38.281269</td>\n",
       "      <td>17207.673836</td>\n",
       "      <td>0.306472</td>\n",
       "    </tr>\n",
       "    <tr>\n",
       "      <th>std</th>\n",
       "      <td>33.236368</td>\n",
       "      <td>234.569872</td>\n",
       "      <td>36.148326</td>\n",
       "      <td>7570.968246</td>\n",
       "      <td>0.461100</td>\n",
       "    </tr>\n",
       "    <tr>\n",
       "      <th>min</th>\n",
       "      <td>0.000000</td>\n",
       "      <td>0.000000</td>\n",
       "      <td>0.000000</td>\n",
       "      <td>0.000000</td>\n",
       "      <td>0.000000</td>\n",
       "    </tr>\n",
       "    <tr>\n",
       "      <th>25%</th>\n",
       "      <td>40.000000</td>\n",
       "      <td>274.575000</td>\n",
       "      <td>9.000000</td>\n",
       "      <td>12491.902500</td>\n",
       "      <td>0.000000</td>\n",
       "    </tr>\n",
       "    <tr>\n",
       "      <th>50%</th>\n",
       "      <td>62.000000</td>\n",
       "      <td>430.600000</td>\n",
       "      <td>30.000000</td>\n",
       "      <td>16943.235000</td>\n",
       "      <td>0.000000</td>\n",
       "    </tr>\n",
       "    <tr>\n",
       "      <th>75%</th>\n",
       "      <td>82.000000</td>\n",
       "      <td>571.927500</td>\n",
       "      <td>57.000000</td>\n",
       "      <td>21424.700000</td>\n",
       "      <td>1.000000</td>\n",
       "    </tr>\n",
       "    <tr>\n",
       "      <th>max</th>\n",
       "      <td>244.000000</td>\n",
       "      <td>1632.060000</td>\n",
       "      <td>224.000000</td>\n",
       "      <td>49745.730000</td>\n",
       "      <td>1.000000</td>\n",
       "    </tr>\n",
       "  </tbody>\n",
       "</table>\n",
       "</div>"
      ],
      "text/plain": [
       "             calls      minutes     messages       mb_used     is_ultra\n",
       "count  3214.000000  3214.000000  3214.000000   3214.000000  3214.000000\n",
       "mean     63.038892   438.208787    38.281269  17207.673836     0.306472\n",
       "std      33.236368   234.569872    36.148326   7570.968246     0.461100\n",
       "min       0.000000     0.000000     0.000000      0.000000     0.000000\n",
       "25%      40.000000   274.575000     9.000000  12491.902500     0.000000\n",
       "50%      62.000000   430.600000    30.000000  16943.235000     0.000000\n",
       "75%      82.000000   571.927500    57.000000  21424.700000     1.000000\n",
       "max     244.000000  1632.060000   224.000000  49745.730000     1.000000"
      ]
     },
     "execution_count": 140,
     "metadata": {},
     "output_type": "execute_result"
    }
   ],
   "source": [
    "df.describe()"
   ]
  },
  {
   "cell_type": "code",
   "execution_count": 141,
   "metadata": {},
   "outputs": [
    {
     "data": {
      "image/png": "[encoded data removed]",
      "text/plain": [
       "<Figure size 720x1080 with 6 Axes>"
      ]
     },
     "metadata": {
      "needs_background": "light"
     },
     "output_type": "display_data"
    }
   ],
   "source": [
    "df.hist(grid=True, figsize=(10, 15))\n",
    "...;"
   ]
  },
  {
   "cell_type": "code",
   "execution_count": 142,
   "metadata": {},
   "outputs": [
    {
     "data": {
      "text/html": [
       "<div>\n",
       "<style scoped>\n",
       "    .dataframe tbody tr th:only-of-type {\n",
       "        vertical-align: middle;\n",
       "    }\n",
       "\n",
       "    .dataframe tbody tr th {\n",
       "        vertical-align: top;\n",
       "    }\n",
       "\n",
       "    .dataframe thead th {\n",
       "        text-align: right;\n",
       "    }\n",
       "</style>\n",
       "<table border=\"1\" class=\"dataframe\">\n",
       "  <thead>\n",
       "    <tr style=\"text-align: right;\">\n",
       "      <th></th>\n",
       "      <th>calls</th>\n",
       "      <th>minutes</th>\n",
       "      <th>messages</th>\n",
       "      <th>mb_used</th>\n",
       "      <th>is_ultra</th>\n",
       "    </tr>\n",
       "  </thead>\n",
       "  <tbody>\n",
       "    <tr>\n",
       "      <th>calls</th>\n",
       "      <td>1.000000</td>\n",
       "      <td>0.982083</td>\n",
       "      <td>0.177385</td>\n",
       "      <td>0.286442</td>\n",
       "      <td>0.207122</td>\n",
       "    </tr>\n",
       "    <tr>\n",
       "      <th>minutes</th>\n",
       "      <td>0.982083</td>\n",
       "      <td>1.000000</td>\n",
       "      <td>0.173110</td>\n",
       "      <td>0.280967</td>\n",
       "      <td>0.206955</td>\n",
       "    </tr>\n",
       "    <tr>\n",
       "      <th>messages</th>\n",
       "      <td>0.177385</td>\n",
       "      <td>0.173110</td>\n",
       "      <td>1.000000</td>\n",
       "      <td>0.195721</td>\n",
       "      <td>0.203830</td>\n",
       "    </tr>\n",
       "    <tr>\n",
       "      <th>mb_used</th>\n",
       "      <td>0.286442</td>\n",
       "      <td>0.280967</td>\n",
       "      <td>0.195721</td>\n",
       "      <td>1.000000</td>\n",
       "      <td>0.198568</td>\n",
       "    </tr>\n",
       "    <tr>\n",
       "      <th>is_ultra</th>\n",
       "      <td>0.207122</td>\n",
       "      <td>0.206955</td>\n",
       "      <td>0.203830</td>\n",
       "      <td>0.198568</td>\n",
       "      <td>1.000000</td>\n",
       "    </tr>\n",
       "  </tbody>\n",
       "</table>\n",
       "</div>"
      ],
      "text/plain": [
       "             calls   minutes  messages   mb_used  is_ultra\n",
       "calls     1.000000  0.982083  0.177385  0.286442  0.207122\n",
       "minutes   0.982083  1.000000  0.173110  0.280967  0.206955\n",
       "messages  0.177385  0.173110  1.000000  0.195721  0.203830\n",
       "mb_used   0.286442  0.280967  0.195721  1.000000  0.198568\n",
       "is_ultra  0.207122  0.206955  0.203830  0.198568  1.000000"
      ]
     },
     "execution_count": 142,
     "metadata": {},
     "output_type": "execute_result"
    }
   ],
   "source": [
    "df.corr()"
   ]
  },
  {
   "cell_type": "markdown",
   "metadata": {},
   "source": [
    "<font size=\"4\"><b>Вывод</b></font>"
   ]
  },
  {
   "cell_type": "markdown",
   "metadata": {},
   "source": [
    "<div style=\"border:solid steelblue 3px; padding: 20px\">\n",
    "        <font size=\"4\", color = \"black\">\n",
    "В перой части проекта были импортированы все нужные библиотеки для удобства в одной ячейке.  \n",
    "Так же изучены данные, данных не так много, нужно верно разделить их на тестовые и обучающие.  \n",
    "За целевой признак возьмем столбец \"is_ultra\" - использование тарифа \"Смарт\"-0 или \"Ультра\"-1."
   ]
  },
  {
   "cell_type": "markdown",
   "metadata": {},
   "source": [
    "<div class=\"alert alert-success\">\n",
    "<font size=\"5\"><b>Комментарий ревьюера</b></font>\n",
    "\n",
    "Успех:\n",
    "\n",
    "👍 Данные изучены.\n",
    "\n",
    "\n",
    "\n",
    "<div class=\"alert alert-warning\">\n",
    "\n",
    "\n",
    "\n",
    "Совет: \n",
    "\n",
    "\n",
    "- .info (дает тебе информацию о пропусках и типах данных), а .describe (медианы, квантили, max, min итд) это такой джентльменский набор при первичной разведке данных (EDA).  \n",
    "\n",
    "\n",
    "\n",
    "- Можно еще отдельно проверить датасет на сбалансированность классов в таргете. Это помогло бы решить бонусное задание сразу (Только не надо балансировать данные, это тема следующего проекта).\n",
    "\n",
    "\n",
    "\n",
    "\n",
    "- Можно посмотреть корреляцию признаков. Знаешь что такое мультиколлинеарность, какие два типа проблем возникает, для каких моделей и какие варианты решения?\n",
    "\n",
    "\n",
    "\n",
    "\n",
    "</div>\n"
   ]
  },
  {
   "cell_type": "markdown",
   "metadata": {},
   "source": [
    "<div class=\"alert alert-info\">\n",
    "<font size=\"5\"><b>Комментарий студента</b></font>  \n",
    "    \n",
    "    \"Джентельменский набор\" дополнен! Понял о чем ты говорил, данных о тарифе смарт в два раза больше чем об ультра. Насколько мне удалось прочитать Мультиколлинеарность это наличие линейной зависимости или близкой к ней между двумя переменными.\n",
    "\n"
   ]
  },
  {
   "cell_type": "markdown",
   "metadata": {},
   "source": [
    "<div class=\"alert alert-success\">\n",
    "<font size=\"5\"><b>Комментарий ревьюераV2</b></font>\n",
    "\n",
    "Успех:\n",
    "  \n",
    "    \n",
    "Принято\n",
    "    \n",
    "    \n",
    "\n",
    "- Дисбаланс\n",
    "\n",
    "\n",
    "Действительно есть дисбаланс. Как он может быть полезен для нашего проекта?! Как видишь нулей у нас 69% - это сразу решение бонусного задания. Именно accuracy 0,69 наша модель должна превзойти чтобы быть признанной адекватной\n",
    "\n",
    "\n",
    "\n",
    "- Мультиколлинеарность\n",
    "\n",
    "\n",
    "Она нас тоже присутствует, calls-minutes корреляция 0,98\n",
    "\n",
    "\n",
    "    \n",
    "Она вызывает ряд проблем, и от неё можно избавиться, а можно не избавляться потому что\n",
    "\n",
    "- Первый момент: мультиколлинеарность проблема линейных моделей - могут переобучаться.... теоретически. Но в логистической, и в линейной регрессиях реализована регуляризация, которая решает проблему мультиколлинеарности признаков. \"Деревянные\" модели (RF, DT) устойчивы к мультиколлинеарности, а кластеризация тоже почти не зависит от линейных зависимостей. Получается, избавляться от мультиколлинеарности чтобы не переобучаться не обязательно )) \n",
    "    \n",
    "    \n",
    "- Второй момент: интерпретируемость линейной модели (мы по коеффициентам судим как признаки влияют на таргет), тут  мультиколлинеарность надо убирать.\n",
    "\n",
    "\n",
    "Так что получается что в нашем случае убирать мультиколлинеарность имеет смысл только если мы захотим посмотреть как конкретно признаки влияют на Таргет\n",
    "\n"
   ]
  },
  {
   "cell_type": "markdown",
   "metadata": {},
   "source": [
    "## Разбейте данные на выборки"
   ]
  },
  {
   "cell_type": "markdown",
   "metadata": {},
   "source": [
    "<div style=\"border:solid steelblue 3px; padding: 20px\">\n",
    "        <font size=\"4\", color = \"black\">\n",
    "Делить исходный датасет нужно на 3, потому что необходиму взять часть больше половины для обучения модели, и еще два набора данных для валидации и проверки на тестовой выборке. \n",
    "            В теории учили делить на 75/25, но тк нам нужно разделить на 3 части, разделим на 70/15/15."
   ]
  },
  {
   "cell_type": "code",
   "execution_count": 143,
   "metadata": {
    "scrolled": true
   },
   "outputs": [],
   "source": [
    "df_train, df_valid__test = train_test_split(df, test_size=0.3, random_state=12345, stratify=df['is_ultra'])\n",
    "df_valid, df_test = train_test_split(df_valid__test, test_size=0.5, random_state=12345, stratify=df_valid__test['is_ultra'])\n",
    "target_valid = df_valid['is_ultra']\n",
    "features_valid = df_valid.drop(['is_ultra'], axis=1)\n",
    "features_train = df_train.drop(['is_ultra'], axis=1)\n",
    "target_train = df_train['is_ultra']\n",
    "features_test = df_test.drop(['is_ultra'], axis=1)\n",
    "target_test = df_test['is_ultra']"
   ]
  },
  {
   "cell_type": "markdown",
   "metadata": {},
   "source": [
    "<font size=\"4\"><b>Вывод разделение данных на выборки</b></font>"
   ]
  },
  {
   "cell_type": "markdown",
   "metadata": {},
   "source": [
    "<div style=\"border:solid steelblue 3px; padding: 20px\">\n",
    "        <font size=\"4\", color = \"black\">\n",
    "Разделили датасет и для каждого отдельного набора данных присвоили целевой признак и признаки, по которым модель будет предсказывать целевой.   \n",
    "            Размер тестовой выборки - 482;\n",
    "            Размер валидационной выборки - 482;\n",
    "            Размер обущающей выборки - 2250."
   ]
  },
  {
   "cell_type": "markdown",
   "metadata": {},
   "source": [
    "\n",
    "\n",
    "<div class=\"alert alert-warning\">\n",
    "<font size=\"5\"><b>Комментарий ревьюера</b></font>\n",
    "\n",
    "\n",
    "Совет: \n",
    "\n",
    "    \n",
    "- Классика - это тестовая и валидационная примерно одинаковые по размеру    \n",
    "    \n",
    "\n",
    "- Обрати внимание на аргумент stratify, он позволит сохранить изначальное распределение таргетов во всех новых датасетах.  Существующий дисбаланс никуда не денется, но в каждом датасете он будет одинаковым. [Почитать](https://pythonru.com/baza-znanij/sklearn-train-test-split) можно тут\n",
    "\n",
    "\n"
   ]
  },
  {
   "cell_type": "markdown",
   "metadata": {},
   "source": [
    "<div class=\"alert alert-info\">\n",
    "<font size=\"5\"><b>Комментарий студента</b></font>  \n",
    "    \n",
    "    Переделал на 70/15/15. Интересно будет посмотреть, как может поменяться"
   ]
  },
  {
   "cell_type": "markdown",
   "metadata": {},
   "source": [
    "<div class=\"alert alert-success\">\n",
    "<font size=\"5\"><b>Комментарий ревьюераV2</b></font>\n",
    "\n",
    "\n",
    "\n",
    "Успех 👍:\n",
    "\n",
    "\n",
    "\n",
    "В каком-то отдельном случае может даже ухудшиться,  ведь всегда присутствует Рандом. Но в большинстве случаев это приведёт к улучшению метрики\n",
    "\n",
    "\n",
    "\n",
    "\n",
    "</div>\n"
   ]
  },
  {
   "cell_type": "markdown",
   "metadata": {},
   "source": [
    "## Исследуйте модели"
   ]
  },
  {
   "cell_type": "markdown",
   "metadata": {},
   "source": [
    "<div style=\"border:solid steelblue 3px; padding: 20px\">\n",
    "        <font size=\"4\", color = \"black\">\n",
    "Найдем выборки с наивысшей долей правильных ответов, без гиперпараметров."
   ]
  },
  {
   "cell_type": "code",
   "execution_count": 144,
   "metadata": {},
   "outputs": [
    {
     "name": "stdout",
     "output_type": "stream",
     "text": [
      "max_depth = 1 : 0.7344398340248963\n",
      "max_depth = 2 : 0.7904564315352697\n",
      "max_depth = 3 : 0.8008298755186722\n",
      "max_depth = 4 : 0.7800829875518672\n",
      "max_depth = 5 : 0.8049792531120332\n",
      "max_depth = 6 : 0.7966804979253111\n",
      "max_depth = 7 : 0.8070539419087137\n",
      "max_depth = 8 : 0.8091286307053942\n",
      "max_depth = 9 : 0.7946058091286307\n",
      "max_depth = 10 : 0.7883817427385892\n",
      "max_depth = 11 : 0.7966804979253111\n",
      "max_depth = 12 : 0.7717842323651453\n",
      "max_depth = 13 : 0.7759336099585062\n",
      "max_depth = 14 : 0.7551867219917012\n",
      "max_depth = 15 : 0.7614107883817427\n",
      "max_depth = 16 : 0.7593360995850622\n",
      "max_depth = 17 : 0.7468879668049793\n",
      "max_depth = 18 : 0.7344398340248963\n",
      "max_depth = 19 : 0.7406639004149378\n",
      "max_depth = 20 : 0.7531120331950207\n",
      "max_depth = 21 : 0.7385892116182573\n",
      "max_depth = 22 : 0.7551867219917012\n",
      "max_depth = 23 : 0.7551867219917012\n",
      "max_depth = 24 : 0.7551867219917012\n",
      "max_depth = 25 : 0.7551867219917012\n",
      "max_depth = 26 : 0.7551867219917012\n",
      "max_depth = 27 : 0.7551867219917012\n",
      "max_depth = 28 : 0.7551867219917012\n",
      "max_depth = 29 : 0.7551867219917012\n",
      "max_depth = 30 : 0.7551867219917012\n",
      "max_depth = 31 : 0.7551867219917012\n",
      "max_depth = 32 : 0.7551867219917012\n",
      "max_depth = 33 : 0.7551867219917012\n",
      "max_depth = 34 : 0.7551867219917012\n",
      "max_depth = 35 : 0.7551867219917012\n",
      "max_depth = 36 : 0.7551867219917012\n",
      "max_depth = 37 : 0.7551867219917012\n",
      "max_depth = 38 : 0.7551867219917012\n",
      "max_depth = 39 : 0.7551867219917012\n",
      "max_depth = 40 : 0.7551867219917012\n",
      "max_depth = 41 : 0.7551867219917012\n",
      "max_depth = 42 : 0.7551867219917012\n",
      "max_depth = 43 : 0.7551867219917012\n",
      "max_depth = 44 : 0.7551867219917012\n",
      "max_depth = 45 : 0.7551867219917012\n",
      "max_depth = 46 : 0.7551867219917012\n",
      "max_depth = 47 : 0.7551867219917012\n",
      "max_depth = 48 : 0.7551867219917012\n",
      "max_depth = 49 : 0.7551867219917012\n",
      "Best accuracy: 0.8091286307053942 Best_depth: 8\n"
     ]
    }
   ],
   "source": [
    "best_accuracy_valid_m1 = 0\n",
    "best_depth = 0\n",
    "for depth in range(1, 50):\n",
    "    model = DecisionTreeClassifier(random_state=666666, max_depth=depth)\n",
    "    model.fit(features_train, target_train)\n",
    "    predictions_valid = model.predict(features_valid)\n",
    "    accuracy_valid_m1 = model.score(features_valid, target_valid)\n",
    "    if accuracy_valid_m1 > best_accuracy_valid_m1:\n",
    "        best_accuracy_valid_m1 = accuracy_valid_m1\n",
    "        best_depth = depth\n",
    "    print(\"max_depth =\", depth, \": \", end='')\n",
    "    print(accuracy_score(target_valid, predictions_valid)) \n",
    "    \n",
    "print(\"Best accuracy:\", best_accuracy_valid_m1, \"Best_depth:\", best_depth)"
   ]
  },
  {
   "cell_type": "markdown",
   "metadata": {},
   "source": [
    "<div class=\"alert alert-success\">\n",
    "<font size=\"5\"><b>Комментарий ревьюера</b></font>\n",
    "\n",
    "Успех:\n",
    " \n",
    "Работа выполнена в соответствии с критериями: \n",
    "\n",
    "\n",
    "\n",
    " - модель обучена на обучающем наборе\n",
    " - получена оценка качества на валидационном наборе\n",
    " - перебор гиперпараметров осуществляется в цикле\n",
    "\n",
    "\n",
    "\n",
    "\n",
    "<div class=\"alert alert-warning\">\n",
    "\n",
    "\n",
    "Совет: \n",
    "\n",
    "- Можно добавить график, хорошо оформленный график украсит проект. Тут на графике можно посмотреть как при изменении max_depth меняется точность на train и validation датасете (для этого собираем наши метрики на валидации и train в списки, а затем по ним обычный plt.plot()) Такой способ используют чтобы лучше отследить переобучение, но для этого стоит взять пернебор по max_depth поглубже\n",
    "\n",
    "\n",
    "- tree_plot можно построить, с max_depth равной 3 или 4 (глубже уже будет громоздко) - глянуть как DT сплиты делает, будет понимание как модель принимает решения: какие признаки  использует, на каких значениях делает разбиение вправо - влево \n",
    "\n",
    "\n",
    "\n",
    "\n",
    "</div>\n",
    "\n"
   ]
  },
  {
   "cell_type": "code",
   "execution_count": 145,
   "metadata": {},
   "outputs": [
    {
     "name": "stdout",
     "output_type": "stream",
     "text": [
      "Best accuracy: 0.8070539419087137 Best_est: 86\n"
     ]
    }
   ],
   "source": [
    "best_est = 0\n",
    "best_accuracy_valid_m2 = 0\n",
    "for est in range(1, 200):\n",
    "    model = RandomForestClassifier(random_state=666666, n_estimators=est)\n",
    "    model.fit(features_train, target_train)\n",
    "    accuracy_valid_m2 = model.score(features_valid, target_valid)\n",
    "    if accuracy_valid_m2 > best_accuracy_valid_m2:\n",
    "        best_accuracy_valid_m2 = accuracy_valid_m2\n",
    "        best_est = est\n",
    "\n",
    "print(\"Best accuracy:\", best_accuracy_valid_m2, 'Best_est:', best_est)"
   ]
  },
  {
   "cell_type": "markdown",
   "metadata": {},
   "source": [
    "\n",
    "<div class=\"alert alert-warning\">\n",
    "<font size=\"5\"><b>Комментарий ревьюера</b></font>\n",
    "\n",
    "\n",
    "\n",
    "Совет:\n",
    "\n",
    "\n",
    "- Илья, можно было сделать похитрее, RF одна из лучших моделей в классическом machine-learning, поэтому можно было добавить перебор 2 гиперпараметров в двойном цикле, в результата метрика качества вырастет. \n",
    " \n",
    "\n",
    "\n",
    "\n",
    "\n",
    "- Когда что то долго крутиться, можно использовать  %%time - ставишь на самый вверх ячейки с кодом, время выполнения которого хочешь замерить, может не знаешь.  Быстрее не станет, но все будут видеть стоит ли ждать не отходя от ПК или можно сходить чаек поставить )) \n",
    "    \n",
    "    Или tqdm, это ещё лучше, потому что он показывает интерактивно, на каком этапе расчетов мы находимся\n",
    "\n",
    "    \n",
    "    from tqdm import tqdm\n",
    "\n",
    "\n",
    "    for n_estimators in tqdm(range(3,58)):\n",
    "\n",
    "        ..........\n",
    "\n",
    "\n",
    "\n",
    "(дальше мы будем уходить от неэффективных в питоне циклов к apply.  Там тоже есть аналог прогресс-баров:  .progress_apply)\n",
    "    \n",
    "И будет красиво )   \n",
    " \n",
    "\n",
    "\n",
    "\n",
    "\n",
    "\n",
    "</div>\n"
   ]
  },
  {
   "cell_type": "markdown",
   "metadata": {},
   "source": [
    "<div class=\"alert alert-info\">\n",
    "<font size=\"5\"><b>Комментарий студента</b></font>  \n",
    "    \n",
    "    Это курс, с которого я познакомился с питоном, те до этого я не знал, что такое программирование, поэтому мне тяжело даются функции/циклы, когда вижу готовый понимаю, как работает, а сам додумать иногда многоуровневость не могу, можешь посоветовать материал к изучению, чтобы повысить свой уровень, потому что мне очень нравится, но практики не хватает.  \n",
    "    Этот же комментарий к следующему совету подходит 😢"
   ]
  },
  {
   "cell_type": "markdown",
   "metadata": {},
   "source": [
    "<div class=\"alert alert-warning\">\n",
    "<font size=\"5\"><b>Комментарий ревьюераV2</b></font>\n",
    "\n",
    "\n",
    "\n",
    "Совет 🤔:\n",
    "\n",
    "\n",
    "\n",
    "Курсов по питону множество (stepic на ютубе много отличных курсов где понятно все обьясняют).  Но вот какой-то конкретный урок или видео где бы разбиралась тема циклов я не знаю. А просто кидать гагугленную ссылку...это ты и сам модешь. Попробуй погуглить \"питон двойной цикл\"\n"
   ]
  },
  {
   "cell_type": "code",
   "execution_count": 146,
   "metadata": {},
   "outputs": [
    {
     "name": "stdout",
     "output_type": "stream",
     "text": [
      "Best accuracy: 0.7053941908713693\n"
     ]
    }
   ],
   "source": [
    "best_accuracy_valid_m3 = 0\n",
    "for depth in range(1, 50):\n",
    "    model = LogisticRegression(random_state=666666)\n",
    "    model.fit(features_train, target_train)\n",
    "    predictions_valid = model.predict(features_valid)\n",
    "    accuracy_valid_m3 = model.score(features_valid, target_valid)\n",
    "    if accuracy_valid_m3 > best_accuracy_valid_m3:\n",
    "        best_accuracy_valid_m3 = accuracy_valid_m3\n",
    "    \n",
    "print(\"Best accuracy:\", best_accuracy_valid_m3)"
   ]
  },
  {
   "cell_type": "markdown",
   "metadata": {},
   "source": [
    "<div style=\"border:solid steelblue 3px; padding: 20px\">\n",
    "        <font size=\"4\", color = \"black\">\n",
    "    Найдем выборки с наивысшей долей правильных ответов, с различными гиперпараметрами."
   ]
  },
  {
   "cell_type": "markdown",
   "metadata": {},
   "source": [
    "<div class=\"alert alert-warning\">\n",
    "<font size=\"5\"><b>Комментарий ревьюера</b></font>\n",
    "\n",
    "\n",
    "\n",
    "Совет 🤔:\n",
    "\n",
    "\n",
    "\n",
    "Это лучше делать \"цикл в цикле\", и результаты будут точнее, и код лаконичней\n"
   ]
  },
  {
   "cell_type": "code",
   "execution_count": 147,
   "metadata": {},
   "outputs": [
    {
     "name": "stdout",
     "output_type": "stream",
     "text": [
      "Accuracy: 0.7821576763485477\n"
     ]
    }
   ],
   "source": [
    "model = DecisionTreeClassifier(random_state=666666, max_depth=8, criterion='entropy')\n",
    "model.fit(features_train, target_train)\n",
    "predictions_valid = model.predict(features_valid)\n",
    "accuracy_valid_m11 = model.score(features_valid, target_valid)\n",
    "print(\"Accuracy:\", accuracy_valid_m11)"
   ]
  },
  {
   "cell_type": "code",
   "execution_count": 148,
   "metadata": {},
   "outputs": [
    {
     "name": "stdout",
     "output_type": "stream",
     "text": [
      "Accuracy: 0.7966804979253111\n"
     ]
    }
   ],
   "source": [
    "model = RandomForestClassifier(random_state=666666, n_estimators=86, criterion='entropy')\n",
    "model.fit(features_train, target_train)\n",
    "accuracy_valid_m22 = model.score(features_valid, target_valid)\n",
    "print(\"Accuracy:\", accuracy_valid_m22)"
   ]
  },
  {
   "cell_type": "markdown",
   "metadata": {},
   "source": [
    "Параметр criterion='entropy' показывает себя хуже, чем стандартный 'gini'"
   ]
  },
  {
   "cell_type": "code",
   "execution_count": 149,
   "metadata": {},
   "outputs": [
    {
     "name": "stdout",
     "output_type": "stream",
     "text": [
      "Accuracy: 0.7759336099585062\n"
     ]
    }
   ],
   "source": [
    "model = DecisionTreeClassifier(random_state=666666, max_depth=8, splitter='random')\n",
    "model.fit(features_train, target_train)\n",
    "predictions_valid = model.predict(features_valid)\n",
    "accuracy_valid_m111 = model.score(features_valid, target_valid)\n",
    "print(\"Accuracy:\", accuracy_valid_m111)"
   ]
  },
  {
   "cell_type": "markdown",
   "metadata": {},
   "source": [
    "Стандартый splitter='best' показывает себя лучше 'random'"
   ]
  },
  {
   "cell_type": "code",
   "execution_count": 150,
   "metadata": {},
   "outputs": [
    {
     "name": "stdout",
     "output_type": "stream",
     "text": [
      "Accuracy: 0.7800829875518672\n"
     ]
    }
   ],
   "source": [
    "model = RandomForestClassifier(random_state=666666, n_estimators=86, bootstrap=False)\n",
    "model.fit(features_train, target_train)\n",
    "accuracy_valid_m222 = model.score(features_valid, target_valid)\n",
    "print(\"Accuracy:\", accuracy_valid_m222)"
   ]
  },
  {
   "cell_type": "markdown",
   "metadata": {},
   "source": [
    "Стандартный bootstrap=True показывает себя лучше чем False"
   ]
  },
  {
   "cell_type": "code",
   "execution_count": 151,
   "metadata": {},
   "outputs": [
    {
     "name": "stdout",
     "output_type": "stream",
     "text": [
      "Accuracy: 0.8070539419087137\n"
     ]
    }
   ],
   "source": [
    "model = RandomForestClassifier(random_state=666666, n_estimators=86, warm_start=True, oob_score=True)\n",
    "model.fit(features_train, target_train)\n",
    "accuracy_valid_m2222 = model.score(features_valid, target_valid)\n",
    "print(\"Accuracy:\", accuracy_valid_m2222)"
   ]
  },
  {
   "cell_type": "markdown",
   "metadata": {},
   "source": [
    "При изменении параметров warm_start, oob_score доля правильных ответов не меняется "
   ]
  },
  {
   "cell_type": "code",
   "execution_count": 152,
   "metadata": {},
   "outputs": [
    {
     "name": "stdout",
     "output_type": "stream",
     "text": [
      "Accuracy: 0.7053941908713693\n"
     ]
    }
   ],
   "source": [
    "model = LogisticRegression(random_state=666666, fit_intercept=False)\n",
    "model.fit(features_train, target_train)\n",
    "predictions_valid = model.predict(features_valid)\n",
    "accuracy_valid_m3 = model.score(features_valid, target_valid)\n",
    "    \n",
    "print(\"Accuracy:\", accuracy_valid_m3)"
   ]
  },
  {
   "cell_type": "markdown",
   "metadata": {},
   "source": [
    "Модель показывает себя лучше, если fit_intercept изменить параметр на False. "
   ]
  },
  {
   "cell_type": "code",
   "execution_count": 153,
   "metadata": {},
   "outputs": [
    {
     "name": "stdout",
     "output_type": "stream",
     "text": [
      "Accuracy: 0.7053941908713693\n"
     ]
    }
   ],
   "source": [
    "model = LogisticRegression(random_state=666666, warm_start=True)\n",
    "model.fit(features_train, target_train)\n",
    "predictions_valid = model.predict(features_valid)\n",
    "accuracy_valid_m33 = model.score(features_valid, target_valid)\n",
    "    \n",
    "print(\"Accuracy:\", accuracy_valid_m33)"
   ]
  },
  {
   "cell_type": "markdown",
   "metadata": {},
   "source": [
    "При изменении параметров warm_start модель показывает себя хуже"
   ]
  },
  {
   "cell_type": "markdown",
   "metadata": {},
   "source": [
    "<font size=\"4\"><b>Вывод исследование различных моделей</b></font>"
   ]
  },
  {
   "cell_type": "markdown",
   "metadata": {},
   "source": [
    "<div style=\"border:solid steelblue 3px; padding: 20px\">\n",
    "        <font size=\"4\", color = \"black\">\n",
    "            Лучше всего себя показала модель DecisionTreeClassifier с количество деревьев 19. Две остальные рассмотренные модели показали себя хуже.  \n",
    "            Удовлетворяют начальному условию две модели RandomForestClassifier = 0.807, DecisionTreeClassifier=0.809.\n",
    "\n",
    "            \n",
    "            \n",
    "            Все рассмотренные параметры были взяты с https://scikit-learn.org/stable/"
   ]
  },
  {
   "cell_type": "markdown",
   "metadata": {},
   "source": [
    "\n",
    "<div class=\"alert alert-success\">\n",
    "<font size=\"5\"><b>Комментарий ревьюера</b></font>\n",
    "\n",
    "Успех:\n",
    "\n",
    "\n",
    "Все верно, RF лучший. \n",
    "\n",
    "\n",
    "<div class=\"alert alert-warning\">\n",
    "\n",
    "\n",
    "Совет: \n",
    "\n",
    "Если есть желание можешь ответить на вопросики ))    \n",
    "\n",
    "\n",
    "\n",
    "- Как назвать ситуацию, когда на валидации при увеличении глубины дерева (модель DT), метрика качества стала снижаться? Как по твоему в это же время вела себя эта же метрика на train?\n",
    "\n",
    "\n",
    "- Насколько знаю вы еще под капот моделям не заглядывали, но может знаешь почему обычно RF показывает более высокие результаты из выбранных?\n",
    "\n",
    "\n",
    "- Мы решаем задачу классификации (а еще есть задача регрессии), а в названии модели с помощью которой мы решаем задачу \"классификации\" (Логистическая регрессия) есть слово \"регрессия\".  Нет ли тут парадокса? )\n",
    "    \n",
    "\n",
    "- Почему логистическая регрессия показывать на много более худшие результаты?  \n",
    "\n",
    "\n",
    "</div>\n",
    "\n",
    "\n",
    "\n"
   ]
  },
  {
   "cell_type": "markdown",
   "metadata": {},
   "source": [
    "<div class=\"alert alert-info\">\n",
    "<font size=\"5\"><b>Комментарий студента</b></font>  \n",
    "    \n",
    "    Попробую конечно. Переобучение, на train та же метрива увеличивалась, ведь чем больше глубина, тем точнее модель.  \n",
    "    В интеренете удалось прочитать, что при RF используется большо количество деревьев.  \n",
    "    Не знаю, есть ли парадокс, но модель LR ипользуется на решения бинарных задач, а у нас именно такая.  \n",
    "    Подскажи🤷‍♂️"
   ]
  },
  {
   "cell_type": "markdown",
   "metadata": {},
   "source": [
    "<div class=\"alert alert-success\">\n",
    "<font size=\"5\"><b>Комментарий ревьюераV2</b></font>\n",
    "\n",
    "\n",
    "Успех:\n",
    "\n",
    "\n",
    "Дополню чуть\n",
    "\n",
    "1. Верно, переобучение. На train точность растет вплоть до 100%. \n",
    "    \n",
    "    \n",
    "2. Да, в RF обучается несколько деревьев, а решение принимается путем голосования. Каждое дерево в RF учится на своем датасете (используется техника бутстрап), таким образом достигается \"независимость\" этих самых деревьев, в итоге ошибка разброса снижается.\n",
    "\n",
    "    \n",
    "3. \"Регрессия\", потому что внутри нее скалярное произведение (как и в линейной регрессии), дающее на выходе вещественное число (от + бесконечности до - бесконечности), на это число вешают сигмойду, логарифм и получают значение от 0 до 1 (вероятность класса).   \n",
    "    \n",
    "    \n",
    "4. Логистическая регрессия плоха (и хороша с другой стороны) тем что это линейный классификатор: обьекты на классы разделяем гиперплоскостью (прямой если на плоскости), а в данном датасете видимо более сложные, нелинейные связи между признаками и таргетом.   А RF с DT с этим справляются. На других данных  LR могла оказаться лучше, например потому что RF не может экстраполировать. \n",
    "\n",
    "\n",
    "</div>"
   ]
  },
  {
   "cell_type": "markdown",
   "metadata": {},
   "source": [
    "## Проверьте модель на тестовой выборке"
   ]
  },
  {
   "cell_type": "code",
   "execution_count": 154,
   "metadata": {
    "scrolled": true
   },
   "outputs": [
    {
     "name": "stdout",
     "output_type": "stream",
     "text": [
      "Accuracy 0.8091286307053942\n"
     ]
    }
   ],
   "source": [
    "best_model = DecisionTreeClassifier(random_state=666666, max_depth=8)\n",
    "best_model.fit(features_train, target_train)\n",
    "best_model_predictions = best_model.predict(features_valid)\n",
    "accuracy_best_model = accuracy_score(target_valid, best_model_predictions)\n",
    "print('Accuracy',accuracy_best_model)"
   ]
  },
  {
   "cell_type": "code",
   "execution_count": 155,
   "metadata": {
    "scrolled": true
   },
   "outputs": [
    {
     "name": "stdout",
     "output_type": "stream",
     "text": [
      "Accuracy на тестовой выборке 0.7991718426501035\n"
     ]
    }
   ],
   "source": [
    "test_predictions = best_model.predict(features_test)\n",
    "accuracy_test = accuracy_score(target_test, test_predictions)\n",
    "print('Accuracy на тестовой выборке',accuracy_test)"
   ]
  },
  {
   "cell_type": "markdown",
   "metadata": {},
   "source": [
    "<font size=\"4\"><b>Вывод проверка моделей</b></font>"
   ]
  },
  {
   "cell_type": "markdown",
   "metadata": {},
   "source": [
    "<div style=\"border:solid steelblue 3px; padding: 20px\">\n",
    "        <font size=\"4\", color = \"black\">\n",
    "            Модель проверена на тестовой выборке и показала себя точно так же!  \n",
    "            Модель удовлетворяет первоначальному условию (доля правильных ответов выше чем 0.75)\n",
    "      "
   ]
  },
  {
   "cell_type": "markdown",
   "metadata": {},
   "source": [
    "\n",
    "\n",
    "<div class=\"alert alert-success\">\n",
    "<font size=\"5\"><b>Комментарий ревьюера</b></font>\n",
    "\n",
    "Успех:\n",
    "\n",
    "\n",
    "- Все верно, логика моделирования не нарушена, тут тестируем только лучшую модель (или парочку, если метрики были близки) отобранную на валидации. \n",
    "\n",
    "- Если студент получил на тесте accuraсy  выше 0,78, это считается отличным результатом\n",
    "    \n",
    "    \n",
    "    \n",
    "\n",
    "\n",
    "<div class=\"alert alert-warning\">\n",
    "\n",
    "Вопросики и совет:\n",
    "\n",
    "\n",
    "\n",
    "\n",
    "- Как попробовать улучшить результат, не мучаясь с кодом?! Смотри - мы сформировали train выборку на которой обучаем модель, а валидационную используем для поиска лучших значений гиперпараметров. Оке, нашли их. Так почему бы теперь модель с выбранными гиперпараметрами не обучить на тренировочной + валидационной выборке (только не нужно делать новые сплиты, используй pd.concat(), к примеру)?! Чем больше данных, тем лучше модель может обучиться. И эту дообученную модель проверим на тесте. Гаранитий что станет лучше нет, но ML это постоянные эксперименты.  \n",
    "    \n",
    "    \n",
    "- А можешь предложить как нам использовать полученный результат в бизнесе? Как нам на этих прогнозах сделать деньги? \n",
    "\n",
    "\n",
    "\n",
    "\n"
   ]
  },
  {
   "cell_type": "code",
   "execution_count": 156,
   "metadata": {},
   "outputs": [
    {
     "name": "stdout",
     "output_type": "stream",
     "text": [
      "Accuracy 0.8473086781398755\n"
     ]
    }
   ],
   "source": [
    "df_train_valid = pd.concat([df_train, df_valid])\n",
    "features_train_valid = df_train_valid.drop(['is_ultra'], axis=1)\n",
    "target_train_valid = df_train_valid['is_ultra']\n",
    "train_valid_model = DecisionTreeClassifier(random_state=666666, max_depth=8)\n",
    "train_valid_model.fit(features_train_valid, target_train_valid)\n",
    "train_valid_model_predictions = train_valid_model.predict(features_train_valid)\n",
    "accuracy_train_valid_model = accuracy_score(target_train_valid, train_valid_model_predictions)\n",
    "print('Accuracy', accuracy_train_valid_model)"
   ]
  },
  {
   "cell_type": "code",
   "execution_count": 157,
   "metadata": {},
   "outputs": [
    {
     "name": "stdout",
     "output_type": "stream",
     "text": [
      "Accuracy на тестовой выборке 0.7805383022774327\n"
     ]
    }
   ],
   "source": [
    "test_predictions_v2 = train_valid_model.predict(features_test)\n",
    "accuracy_test_v2 = accuracy_score(target_test, test_predictions_v2)\n",
    "print('Accuracy на тестовой выборке', accuracy_test_v2)"
   ]
  },
  {
   "cell_type": "markdown",
   "metadata": {},
   "source": [
    "<div class=\"alert alert-info\">\n",
    "<font size=\"5\"><b>Комментарий студента</b></font>  \n",
    "    \n",
    "    Оно? Модель показала себя хуже, при проверке на тестовой выборке\n",
    "    Именно на этих прогнозах более подходящего тарифа, можно выкатить на сайт интерактивный тест, куда запихнуть эту модель, человек будет вписвать сколько он тратит на звонки, переписки, видое, игры, музыку и модель ему будет выдавать более подходящий тариф. Или же данные пользователя могут каждый месяц так же попадать в модель и у него в личном кабинете всегда будет меняться предлагаемый тариф, если конечно будут сильные изменения в трафике! А тариф можно будет предлагать \"С запасом\", что пользователю точно хватало, а компания соответсвенно зарабатывала больше."
   ]
  },
  {
   "cell_type": "markdown",
   "metadata": {},
   "source": [
    "<div class=\"alert alert-success\">\n",
    "<font size=\"5\"><b>Комментарий ревьюераV2</b></font>\n",
    "\n",
    "Успех:\n",
    "    \n",
    "    \n",
    "    \n",
    "- Добучил но Метрика не выросла....Такое бывает, Но в большинстве случаев, или на каких-то других тестовых выборках Метрика улучшится.  Но вообще дерева решений тут быть не должно, если сделать всё аккуратно, то Случайный лес должен быть лучше.     \n",
    "    \n",
    "    \n",
    "- Классная идея. И довольный клиент это к деньгам ) Я вижу практическую пользу от прогнозов модели еще и таким образом. Допустим какой-то тариф более выгоден компании, тогда мы можем предложить перейти на него клиентам, но не всем, а тем, кому данный тариф подходит (на основе прогноза модели). Таким образом мы сэкономим время и деньги, ведь просто предлагать переходить всем это лишние траты (не говоря о клиентах, которые уходят, если слишком назойливо им что-то предлагать, что для них явно не подходит). \n"
   ]
  },
  {
   "cell_type": "markdown",
   "metadata": {},
   "source": [
    "## (бонус) Проверьте модели на адекватность"
   ]
  },
  {
   "cell_type": "markdown",
   "metadata": {},
   "source": [
    "<div style=\"border:solid steelblue 3px; padding: 20px\">\n",
    "        <font size=\"4\", color = \"black\">\n",
    "            Адекватность можно оценить с помощью метрик качества."
   ]
  },
  {
   "attachments": {
    "image-3.png": {
     "image/png": "[encoded data removed]"
    },
    "image.png": {
     "image/png": "[encoded data removed]"
    }
   },
   "cell_type": "markdown",
   "metadata": {},
   "source": [
    "![image.png](attachment:image.png)\n",
    "![image-3.png](attachment:image-3.png)"
   ]
  },
  {
   "cell_type": "markdown",
   "metadata": {},
   "source": [
    "<div style=\"border:solid steelblue 3px; padding: 20px\">\n",
    "        <font size=\"4\", color = \"black\">\n",
    "            Матрица ошибок."
   ]
  },
  {
   "attachments": {
    "image-2.png": {
     "image/png": "[encoded data removed]"
    }
   },
   "cell_type": "markdown",
   "metadata": {},
   "source": [
    "![image-2.png](attachment:image-2.png)"
   ]
  },
  {
   "attachments": {
    "image.png": {
     "image/png": "[encoded data removed]"
    }
   },
   "cell_type": "markdown",
   "metadata": {},
   "source": [
    "![image.png](attachment:image.png)"
   ]
  },
  {
   "attachments": {
    "image.png": {
     "image/png": "[encoded data removed]"
    }
   },
   "cell_type": "markdown",
   "metadata": {},
   "source": [
    "![image.png](attachment:image.png)"
   ]
  },
  {
   "attachments": {
    "image.png": {
     "image/png": "[encoded data removed]"
    }
   },
   "cell_type": "markdown",
   "metadata": {},
   "source": [
    "![image.png](attachment:image.png)"
   ]
  },
  {
   "attachments": {
    "image.png": {
     "image/png": "[encoded data removed]"
    }
   },
   "cell_type": "markdown",
   "metadata": {},
   "source": [
    "![image.png](attachment:image.png)"
   ]
  },
  {
   "cell_type": "code",
   "execution_count": 158,
   "metadata": {},
   "outputs": [
    {
     "name": "stdout",
     "output_type": "stream",
     "text": [
      "Accuracy: 0.7991718426501035\n",
      "Precision: 0.7865168539325843\n",
      "Recall: 0.47297297297297297\n"
     ]
    }
   ],
   "source": [
    "accuracy_test = accuracy_score(target_test, test_predictions)\n",
    "precision_test = precision_score(target_test, test_predictions)\n",
    "recall_test = recall_score(target_test, test_predictions)\n",
    "print('Accuracy:', accuracy_test)\n",
    "print('Precision:', precision_test)\n",
    "print('Recall:', recall_test)"
   ]
  },
  {
   "cell_type": "markdown",
   "metadata": {},
   "source": [
    "<div style=\"border:solid steelblue 3px; padding: 20px\">\n",
    "        <font size=\"4\", color = \"black\">\n",
    "            Показатель F1 можно интерпретировать как среднее гармоническое значение точности и полноты, где показатель F1 достигает своего наилучшего значения при 1, а худшего — при 0.  \n",
    "            \n",
    "            \n",
    "https://scikit-learn.org/stable/modules/generated/sklearn.metrics.f1_score.html"
   ]
  },
  {
   "cell_type": "code",
   "execution_count": 159,
   "metadata": {
    "scrolled": true
   },
   "outputs": [
    {
     "name": "stdout",
     "output_type": "stream",
     "text": [
      "Сбалансированный F-показатель 0.5907172995780591\n"
     ]
    }
   ],
   "source": [
    "f_index = f1_score(target_test, test_predictions)\n",
    "print('Сбалансированный F-показатель', f_index)"
   ]
  },
  {
   "cell_type": "markdown",
   "metadata": {},
   "source": [
    "<font size=\"4\"><b>Вывод проверка адекватности</b></font>"
   ]
  },
  {
   "cell_type": "markdown",
   "metadata": {},
   "source": [
    "<div style=\"border:solid steelblue 3px; padding: 20px\">\n",
    "        <font size=\"4\", color = \"black\">\n",
    "            Проверив на адеватность модель, можно сделать вывод, что модель получилось адекватной, но не самого лучшего качества. Доля правильных ответов подходит для решения нашей задачи(по условию), точность модели не самая лучшая. Сбалансированный показатель чуть выше среднего."
   ]
  },
  {
   "cell_type": "markdown",
   "metadata": {},
   "source": [
    "\n",
    "\n",
    "<div class=\"alert alert-warning\">\n",
    "<font size=\"5\"><b>Комментарий ревьюера</b></font>\n",
    "\n",
    "Совет:\n",
    "\n",
    "\n",
    "Илья, тобой решено проверить модель на адекватность \"подгрузив\" несколько других метрик качества. Да, в этом резон есть, например нам важно было качество предсказания какого-то одного класса, тогда да, мы бы проверяли на метриках, которые учитывают это и получили бы более адекватные оценки.   \n",
    "\n",
    "В данном случаи мы проверяем модель на адекватность сравнивая ее с наивным прогнозом (простой \"угадалкой\" или прогноз одного и того же класса). Не забудь у нас дисбаланс классов в таргете. \n",
    "\n",
    "\n",
    "\n",
    "\n",
    "При проверке на адекватность модели, рекомендую ознакомиться с [Dummy Models](https://scikit-learn.org/stable/modules/generated/sklearn.dummy.DummyClassifier.html), это удобная обертка для константных моделей\n"
   ]
  },
  {
   "cell_type": "code",
   "execution_count": 167,
   "metadata": {},
   "outputs": [
    {
     "data": {
      "text/plain": [
       "0.6936416184971098"
      ]
     },
     "execution_count": 167,
     "metadata": {},
     "output_type": "execute_result"
    }
   ],
   "source": [
    "dummy_clf = DummyClassifier(strategy='most_frequent')\n",
    "dummy_clf.fit(features_train, target_train)\n",
    "DummyClassifier(strategy='most_frequent')\n",
    "dummy_clf.predict(features_train)\n",
    "dummy_clf.score(features_train, target_train)"
   ]
  },
  {
   "cell_type": "markdown",
   "metadata": {},
   "source": [
    "<div class=\"alert alert-info\">\n",
    "<font size=\"5\"><b>Комментарий студента</b></font>  \n",
    "    \n",
    "    Оно? Выглядит вполне адекватно, если я сделала все верно, наш результат получился даже лучше, чем предполагемый.  \n",
    "    Проверил на обучающей, валидационной и тестовой, на всех вариант отличается тысячными."
   ]
  },
  {
   "cell_type": "markdown",
   "metadata": {},
   "source": [
    "<div class=\"alert alert-warning\">\n",
    "<font size=\"5\"><b>Комментарий ревьюераV2</b></font>\n",
    "\n",
    "Совет:\n",
    "\n",
    "Цифры полученная верная, но правильно ли ты её трактуешь?!\n",
    "    \n",
    "    \n",
    "Тут логика такая - у нас есть данные и мы видим что доля нулей в таргете около 69%, это значит что мы не проводя никакого анализа, моделирования итп итд, можем постоянно предсказывать 0 и получить точность около 69%. Вот эту accuracy в 69% мы и должны побить, иначе окажется что наша модель не лучше наивного прогноза самого частого класса.\n",
    "      \n",
    "    \n",
    "С   DummyClassifier это выглядит  так:\n",
    "    \n",
    "    DummyClassifier(strategy='most_frequent', random_state=1)  \n",
    "задаем константную модель, которая будет предсказывать по most_frequent - самый частый класс\n",
    "    \n",
    "    .fit(features_train, target_train)\n",
    "тут модель смотри на самый частый класс в  target_train - типо \"обучение\"\n",
    "    \n",
    "    .predict(features_test)\n",
    "    .score(features_test, target_test)\n",
    "проогнозирует везде самый частый класс в features_test и считает score\n",
    "    \n",
    "Получаем тот же результат: acc около 69%.    \n",
    "\n",
    "\n",
    "\n",
    "Сравниваем с accuracy нашей модели и делаем вывод\n"
   ]
  },
  {
   "cell_type": "markdown",
   "metadata": {},
   "source": [
    "## Вывод по проекту \"Рекомендация тарифов\""
   ]
  },
  {
   "cell_type": "markdown",
   "metadata": {},
   "source": [
    "<div style=\"border:solid steelblue 3px; padding: 20px\">\n",
    "        <font size=\"4\", color = \"black\">\n",
    "            1. В ходе изучения данных был выбран целевой параметр, который нужно будет предсказать модели, это столбец \"is_ultra\" - использование тарифа \"Смарт\"-0 или \"Ультра\"-1.   \n",
    "            2. В пункте разделения данных на три выборки, данные были поделены 60/25/15 на обучающие, валидационные и тестовые соответсвенно.  \n",
    "            3. В ходе исследования модели были рассмотрены три модели: DecisionTreeClassifier, RandomForestClassifier, LogisticRegression. Лучше всего себя показала модель DecisionTreeClassifier = 0.809 (доля правильных ответов). Так же в этом пункте работы были рассмотренны различные гиперпараметры моделей, изменение гиперпараметров значительно не повлияело на долю правильных ответом модели.  \n",
    "            4. Модель проверена на тестовой выборке и показала себя чуть лучше на 1.1%! Модель удовлетворяет первоначальному условию (доля правильных ответов выше чем 0.75).  \n",
    "            5. При проверки на адекватность модель показала средний результат, модель нельзя назвать идеальной, но и неприменимой назвать нельзя.\n",
    "         \n"
   ]
  },
  {
   "cell_type": "markdown",
   "metadata": {},
   "source": [
    "\n",
    "<div class=\"alert alert-info\">\n",
    "<font size=\"5\"><b>Комментарий ревьюера</b></font>\n",
    "\n",
    "\n",
    "\n",
    "\n",
    "Илья, у тебя старательно выполненная работа, все четко, осмысленно. Выводы присутствуют\n",
    "    \n",
    "    \n",
    "    \n",
    "    \n",
    "Я оставил небольшие советы и вопросики (если есть время и желание можешь воспользоваться/ответить): \n",
    "\n",
    "\n",
    "\n",
    "\n",
    "- обрати внимание на проверку сбалансированность классов в таргете в разделе EDA\n",
    "- использовать stratify\n",
    "- добавить график метрики    \n",
    "- как можно улучшить результаты \n",
    "\n",
    "\n",
    "\n",
    "Посылаю на вторую итерацию, чтобы посмотреть твое решение бонусного задания (если захочешь доделать) и ответить на вопросы если они появятся\n"
   ]
  },
  {
   "cell_type": "markdown",
   "metadata": {},
   "source": [
    "\n",
    "<div class=\"alert alert-info\">\n",
    "<font size=\"5\"><b>Комментарий ревьюераV2</b></font>\n",
    "\n",
    "Спасибо за работу!    \n",
    "\n",
    "    \n",
    "Мспользованы, на  вопросы есть ответы  (это все было по желанию), значит стремишься развиваться, а желание и интерес это главное. Надеюсь мои советы и вопросики были полезны и в копилочку знаний упало что то новое, а проект стал лучше, и симпатичней.\n",
    "\n",
    "\n",
    "\n",
    "Отличная работа Илья. Желаю успехов в дальнейшей учебе!\n",
    "\n",
    "\n",
    "\n",
    "\n",
    "\n",
    "</div>"
   ]
  },
  {
   "cell_type": "markdown",
   "metadata": {},
   "source": [
    "## Чек-лист готовности проекта"
   ]
  },
  {
   "cell_type": "markdown",
   "metadata": {},
   "source": [
    "Поставьте 'x' в выполненных пунктах. Далее нажмите Shift+Enter."
   ]
  },
  {
   "cell_type": "markdown",
   "metadata": {},
   "source": [
    "- [x] Jupyter Notebook открыт\n",
    "- [x] Весь код исполняется без ошибок\n",
    "- [x] Ячейки с кодом расположены в порядке исполнения\n",
    "- [x] Выполнено задание 1: данные загружены и изучены\n",
    "- [x] Выполнено задание 2: данные разбиты на три выборки\n",
    "- [x] Выполнено задание 3: проведено исследование моделей\n",
    "    - [x] Рассмотрено больше одной модели\n",
    "    - [x] Рассмотрено хотя бы 3 значения гипепараметров для какой-нибудь модели\n",
    "    - [x] Написаны выводы по результатам исследования\n",
    "- [x] Выполнено задание 3: Проведено тестирование\n",
    "- [x] Удалось достичь accuracy не меньше 0.75\n"
   ]
  }
 ],
 "metadata": {
  "ExecuteTimeLog": [
   {
    "duration": 47,
    "start_time": "2023-09-21T06:34:47.147Z"
   },
   {
    "duration": 1756,
    "start_time": "2023-09-21T06:34:51.984Z"
   },
   {
    "duration": 5,
    "start_time": "2023-09-21T06:35:17.145Z"
   },
   {
    "duration": 11,
    "start_time": "2023-09-21T06:35:49.585Z"
   },
   {
    "duration": 5,
    "start_time": "2023-09-21T06:35:56.035Z"
   },
   {
    "duration": 10,
    "start_time": "2023-09-21T06:35:58.510Z"
   },
   {
    "duration": 131,
    "start_time": "2023-09-21T06:36:04.291Z"
   },
   {
    "duration": 39,
    "start_time": "2023-09-21T06:36:07.225Z"
   },
   {
    "duration": 30,
    "start_time": "2023-09-21T06:36:23.354Z"
   },
   {
    "duration": 17,
    "start_time": "2023-09-21T06:36:28.386Z"
   },
   {
    "duration": 19,
    "start_time": "2023-09-21T06:38:24.341Z"
   },
   {
    "duration": 13,
    "start_time": "2023-09-21T06:38:34.048Z"
   },
   {
    "duration": 10,
    "start_time": "2023-09-21T07:04:53.365Z"
   },
   {
    "duration": 4,
    "start_time": "2023-09-21T07:05:09.467Z"
   },
   {
    "duration": 76,
    "start_time": "2023-09-21T07:05:09.473Z"
   },
   {
    "duration": 51,
    "start_time": "2023-09-21T07:05:09.551Z"
   },
   {
    "duration": 53,
    "start_time": "2023-09-21T07:05:09.604Z"
   },
   {
    "duration": 58,
    "start_time": "2023-09-21T07:05:09.658Z"
   },
   {
    "duration": 0,
    "start_time": "2023-09-21T07:05:09.717Z"
   },
   {
    "duration": 12,
    "start_time": "2023-09-21T07:05:17.650Z"
   },
   {
    "duration": 7,
    "start_time": "2023-09-21T07:06:06.999Z"
   },
   {
    "duration": 19,
    "start_time": "2023-09-21T07:06:10.164Z"
   },
   {
    "duration": 8,
    "start_time": "2023-09-21T07:15:02.093Z"
   },
   {
    "duration": 10,
    "start_time": "2023-09-21T08:08:18.105Z"
   },
   {
    "duration": 9,
    "start_time": "2023-09-21T08:10:13.411Z"
   },
   {
    "duration": 19,
    "start_time": "2023-09-21T08:10:14.874Z"
   },
   {
    "duration": 13,
    "start_time": "2023-09-21T08:10:45.271Z"
   },
   {
    "duration": 14,
    "start_time": "2023-09-21T08:11:04.944Z"
   },
   {
    "duration": 9,
    "start_time": "2023-09-21T08:25:22.474Z"
   },
   {
    "duration": 21,
    "start_time": "2023-09-21T08:25:34.645Z"
   },
   {
    "duration": 3,
    "start_time": "2023-09-21T08:26:33.670Z"
   },
   {
    "duration": 79,
    "start_time": "2023-09-21T08:28:51.073Z"
   },
   {
    "duration": 94,
    "start_time": "2023-09-21T08:35:04.258Z"
   },
   {
    "duration": 86,
    "start_time": "2023-09-21T08:37:43.769Z"
   },
   {
    "duration": 55,
    "start_time": "2023-09-21T11:05:54.026Z"
   },
   {
    "duration": 1513,
    "start_time": "2023-09-21T11:05:57.566Z"
   },
   {
    "duration": 64,
    "start_time": "2023-09-21T11:05:59.081Z"
   },
   {
    "duration": 13,
    "start_time": "2023-09-21T11:05:59.147Z"
   },
   {
    "duration": 31,
    "start_time": "2023-09-21T11:05:59.162Z"
   },
   {
    "duration": 13,
    "start_time": "2023-09-21T11:05:59.194Z"
   },
   {
    "duration": 547,
    "start_time": "2023-09-21T11:05:59.208Z"
   },
   {
    "duration": 73,
    "start_time": "2023-09-21T11:06:19.589Z"
   },
   {
    "duration": 72,
    "start_time": "2023-09-21T11:07:53.318Z"
   },
   {
    "duration": 79,
    "start_time": "2023-09-21T11:11:42.893Z"
   },
   {
    "duration": 86,
    "start_time": "2023-09-21T11:12:41.987Z"
   },
   {
    "duration": 122,
    "start_time": "2023-09-21T11:12:46.245Z"
   },
   {
    "duration": 69,
    "start_time": "2023-09-21T11:17:01.968Z"
   },
   {
    "duration": 89,
    "start_time": "2023-09-21T11:17:59.628Z"
   },
   {
    "duration": 4659,
    "start_time": "2023-09-21T11:18:35.746Z"
   },
   {
    "duration": 5268,
    "start_time": "2023-09-21T11:19:08.581Z"
   },
   {
    "duration": 84,
    "start_time": "2023-09-21T11:24:09.667Z"
   },
   {
    "duration": 72,
    "start_time": "2023-09-21T11:24:27.304Z"
   },
   {
    "duration": 68,
    "start_time": "2023-09-21T11:24:45.500Z"
   },
   {
    "duration": 18725,
    "start_time": "2023-09-21T11:25:12.549Z"
   },
   {
    "duration": 18793,
    "start_time": "2023-09-21T11:25:59.882Z"
   },
   {
    "duration": 18692,
    "start_time": "2023-09-21T11:26:44.999Z"
   },
   {
    "duration": 96,
    "start_time": "2023-09-21T11:31:15.269Z"
   },
   {
    "duration": 198,
    "start_time": "2023-09-21T11:31:22.715Z"
   },
   {
    "duration": 166,
    "start_time": "2023-09-21T11:31:58.018Z"
   },
   {
    "duration": 550,
    "start_time": "2023-09-21T12:17:43.042Z"
   },
   {
    "duration": 1034,
    "start_time": "2023-09-21T12:18:04.256Z"
   },
   {
    "duration": 14,
    "start_time": "2023-09-21T12:19:31.437Z"
   },
   {
    "duration": 14,
    "start_time": "2023-09-21T12:24:12.008Z"
   },
   {
    "duration": 13,
    "start_time": "2023-09-21T12:24:16.585Z"
   },
   {
    "duration": 13,
    "start_time": "2023-09-21T12:24:21.286Z"
   },
   {
    "duration": 13,
    "start_time": "2023-09-21T12:24:26.028Z"
   },
   {
    "duration": 14,
    "start_time": "2023-09-21T12:24:34.104Z"
   },
   {
    "duration": 10,
    "start_time": "2023-09-21T12:24:42.739Z"
   },
   {
    "duration": 16,
    "start_time": "2023-09-21T12:33:07.882Z"
   },
   {
    "duration": 19,
    "start_time": "2023-09-21T12:33:48.107Z"
   },
   {
    "duration": 14,
    "start_time": "2023-09-21T12:33:59.231Z"
   },
   {
    "duration": 14,
    "start_time": "2023-09-21T12:34:45.937Z"
   },
   {
    "duration": 14,
    "start_time": "2023-09-21T12:34:54.421Z"
   },
   {
    "duration": 13,
    "start_time": "2023-09-21T12:35:05.242Z"
   },
   {
    "duration": 19,
    "start_time": "2023-09-21T12:35:31.986Z"
   },
   {
    "duration": 16,
    "start_time": "2023-09-21T12:35:37.515Z"
   },
   {
    "duration": 608,
    "start_time": "2023-09-21T12:37:47.724Z"
   },
   {
    "duration": 13,
    "start_time": "2023-09-21T12:46:39.790Z"
   },
   {
    "duration": 14,
    "start_time": "2023-09-21T12:47:07.227Z"
   },
   {
    "duration": 19134,
    "start_time": "2023-09-21T12:54:13.670Z"
   },
   {
    "duration": 19124,
    "start_time": "2023-09-21T12:55:18.441Z"
   },
   {
    "duration": 19125,
    "start_time": "2023-09-21T12:58:24.004Z"
   },
   {
    "duration": 607,
    "start_time": "2023-09-21T12:58:49.072Z"
   },
   {
    "duration": 600,
    "start_time": "2023-09-21T12:58:59.359Z"
   },
   {
    "duration": 1307,
    "start_time": "2023-09-21T12:59:16.195Z"
   },
   {
    "duration": 633,
    "start_time": "2023-09-21T13:00:19.248Z"
   },
   {
    "duration": 19182,
    "start_time": "2023-09-21T13:00:35.417Z"
   },
   {
    "duration": 640,
    "start_time": "2023-09-21T13:01:37.342Z"
   },
   {
    "duration": 18910,
    "start_time": "2023-09-21T13:02:11.159Z"
   },
   {
    "duration": 948,
    "start_time": "2023-09-21T13:02:30.071Z"
   },
   {
    "duration": 99,
    "start_time": "2023-09-21T13:02:57.789Z"
   },
   {
    "duration": 19,
    "start_time": "2023-09-21T13:02:59.711Z"
   },
   {
    "duration": 10,
    "start_time": "2023-09-21T13:08:25.524Z"
   },
   {
    "duration": 96,
    "start_time": "2023-09-21T13:08:44.704Z"
   },
   {
    "duration": 9,
    "start_time": "2023-09-21T13:10:37.745Z"
   },
   {
    "duration": 86,
    "start_time": "2023-09-21T13:15:14.015Z"
   },
   {
    "duration": 77,
    "start_time": "2023-09-21T13:15:40.720Z"
   },
   {
    "duration": 81,
    "start_time": "2023-09-21T13:15:49.535Z"
   },
   {
    "duration": 89,
    "start_time": "2023-09-21T13:16:42.662Z"
   },
   {
    "duration": 87,
    "start_time": "2023-09-21T13:16:46.525Z"
   },
   {
    "duration": 15,
    "start_time": "2023-09-21T13:21:04.159Z"
   },
   {
    "duration": 22,
    "start_time": "2023-09-21T13:21:33.432Z"
   },
   {
    "duration": 36,
    "start_time": "2023-09-21T13:23:44.367Z"
   },
   {
    "duration": 94,
    "start_time": "2023-09-21T13:46:45.859Z"
   },
   {
    "duration": 14,
    "start_time": "2023-09-21T13:48:19.680Z"
   },
   {
    "duration": 606,
    "start_time": "2023-09-21T13:54:20.089Z"
   },
   {
    "duration": 648,
    "start_time": "2023-09-21T13:55:07.696Z"
   },
   {
    "duration": 52,
    "start_time": "2023-09-21T14:07:42.134Z"
   },
   {
    "duration": 49,
    "start_time": "2023-09-21T14:08:26.791Z"
   },
   {
    "duration": 42,
    "start_time": "2023-09-21T14:09:28.266Z"
   },
   {
    "duration": 51,
    "start_time": "2023-09-21T14:09:34.027Z"
   },
   {
    "duration": 12,
    "start_time": "2023-09-21T14:09:34.080Z"
   },
   {
    "duration": 42,
    "start_time": "2023-09-21T14:09:42.004Z"
   },
   {
    "duration": 43,
    "start_time": "2023-09-21T14:10:06.861Z"
   },
   {
    "duration": 67,
    "start_time": "2023-09-21T14:10:24.646Z"
   },
   {
    "duration": 8,
    "start_time": "2023-09-21T14:10:26.781Z"
   },
   {
    "duration": 79,
    "start_time": "2023-09-21T14:12:37.796Z"
   },
   {
    "duration": 76,
    "start_time": "2023-09-21T14:12:39.706Z"
   },
   {
    "duration": 74,
    "start_time": "2023-09-21T14:12:59.776Z"
   },
   {
    "duration": 74,
    "start_time": "2023-09-21T14:13:08.756Z"
   },
   {
    "duration": 79,
    "start_time": "2023-09-21T14:13:45.754Z"
   },
   {
    "duration": 9,
    "start_time": "2023-09-21T14:13:45.835Z"
   },
   {
    "duration": 10,
    "start_time": "2023-09-21T14:14:11.094Z"
   },
   {
    "duration": 9,
    "start_time": "2023-09-21T14:14:22.983Z"
   },
   {
    "duration": 16,
    "start_time": "2023-09-22T05:19:58.400Z"
   },
   {
    "duration": 106,
    "start_time": "2023-09-22T05:19:58.418Z"
   },
   {
    "duration": 15,
    "start_time": "2023-09-22T05:19:58.531Z"
   },
   {
    "duration": 119,
    "start_time": "2023-09-22T05:19:58.549Z"
   },
   {
    "duration": 111,
    "start_time": "2023-09-22T05:19:58.670Z"
   },
   {
    "duration": 25,
    "start_time": "2023-09-22T05:19:58.783Z"
   },
   {
    "duration": 24,
    "start_time": "2023-09-22T05:19:58.823Z"
   },
   {
    "duration": 0,
    "start_time": "2023-09-22T05:19:58.848Z"
   },
   {
    "duration": 0,
    "start_time": "2023-09-22T05:19:58.849Z"
   },
   {
    "duration": 16,
    "start_time": "2023-09-22T05:20:37.772Z"
   },
   {
    "duration": 15,
    "start_time": "2023-09-22T05:23:51.590Z"
   },
   {
    "duration": 99,
    "start_time": "2023-09-22T05:24:42.387Z"
   },
   {
    "duration": 5,
    "start_time": "2023-09-22T05:24:46.821Z"
   },
   {
    "duration": 40,
    "start_time": "2023-09-22T05:24:46.829Z"
   },
   {
    "duration": 15,
    "start_time": "2023-09-22T05:24:46.871Z"
   },
   {
    "duration": 13,
    "start_time": "2023-09-22T05:24:46.888Z"
   },
   {
    "duration": 10,
    "start_time": "2023-09-22T05:24:46.904Z"
   },
   {
    "duration": 651,
    "start_time": "2023-09-22T05:24:46.915Z"
   },
   {
    "duration": 21794,
    "start_time": "2023-09-22T05:24:47.568Z"
   },
   {
    "duration": 1133,
    "start_time": "2023-09-22T05:25:09.363Z"
   },
   {
    "duration": 32,
    "start_time": "2023-09-22T05:25:10.499Z"
   },
   {
    "duration": 113,
    "start_time": "2023-09-22T05:25:10.536Z"
   },
   {
    "duration": 10,
    "start_time": "2023-09-22T05:25:10.651Z"
   },
   {
    "duration": 188,
    "start_time": "2023-09-22T05:25:10.663Z"
   },
   {
    "duration": 110,
    "start_time": "2023-09-22T05:25:10.853Z"
   },
   {
    "duration": 25,
    "start_time": "2023-09-22T05:25:10.965Z"
   },
   {
    "duration": 51,
    "start_time": "2023-09-22T05:25:10.992Z"
   },
   {
    "duration": 0,
    "start_time": "2023-09-22T05:25:11.045Z"
   },
   {
    "duration": 0,
    "start_time": "2023-09-22T05:25:11.047Z"
   },
   {
    "duration": 135,
    "start_time": "2023-09-22T05:25:17.495Z"
   },
   {
    "duration": 18,
    "start_time": "2023-09-22T05:25:21.716Z"
   },
   {
    "duration": 111,
    "start_time": "2023-09-22T05:25:37.634Z"
   },
   {
    "duration": 13,
    "start_time": "2023-09-22T05:26:42.087Z"
   },
   {
    "duration": 37,
    "start_time": "2023-09-22T05:26:59.901Z"
   },
   {
    "duration": 4,
    "start_time": "2023-09-22T05:51:56.595Z"
   },
   {
    "duration": 12,
    "start_time": "2023-09-22T05:57:49.966Z"
   },
   {
    "duration": 6,
    "start_time": "2023-09-22T05:58:08.020Z"
   },
   {
    "duration": 8,
    "start_time": "2023-09-22T05:58:15.199Z"
   },
   {
    "duration": 13,
    "start_time": "2023-09-22T06:10:25.714Z"
   },
   {
    "duration": 7,
    "start_time": "2023-09-22T06:10:55.172Z"
   },
   {
    "duration": 7,
    "start_time": "2023-09-22T06:11:00.425Z"
   },
   {
    "duration": 9,
    "start_time": "2023-09-22T06:11:54.752Z"
   },
   {
    "duration": 5,
    "start_time": "2023-09-22T06:45:54.870Z"
   },
   {
    "duration": 47,
    "start_time": "2023-09-22T06:45:54.878Z"
   },
   {
    "duration": 26,
    "start_time": "2023-09-22T06:45:54.930Z"
   },
   {
    "duration": 28,
    "start_time": "2023-09-22T06:45:54.977Z"
   },
   {
    "duration": 23,
    "start_time": "2023-09-22T06:45:55.009Z"
   },
   {
    "duration": 1001,
    "start_time": "2023-09-22T06:45:55.040Z"
   },
   {
    "duration": 28703,
    "start_time": "2023-09-22T06:45:56.044Z"
   },
   {
    "duration": 1503,
    "start_time": "2023-09-22T06:46:24.749Z"
   },
   {
    "duration": 50,
    "start_time": "2023-09-22T06:46:26.259Z"
   },
   {
    "duration": 146,
    "start_time": "2023-09-22T06:46:26.317Z"
   },
   {
    "duration": 17,
    "start_time": "2023-09-22T06:46:26.471Z"
   },
   {
    "duration": 177,
    "start_time": "2023-09-22T06:46:26.495Z"
   },
   {
    "duration": 140,
    "start_time": "2023-09-22T06:46:26.675Z"
   },
   {
    "duration": 42,
    "start_time": "2023-09-22T06:46:26.818Z"
   },
   {
    "duration": 56,
    "start_time": "2023-09-22T06:46:26.862Z"
   },
   {
    "duration": 147,
    "start_time": "2023-09-22T06:46:26.924Z"
   },
   {
    "duration": 14,
    "start_time": "2023-09-22T06:46:27.074Z"
   },
   {
    "duration": 44,
    "start_time": "2023-09-22T06:46:27.090Z"
   },
   {
    "duration": 15,
    "start_time": "2023-09-22T06:46:27.136Z"
   },
   {
    "duration": 4687,
    "start_time": "2023-09-22T07:13:57.738Z"
   },
   {
    "duration": 31,
    "start_time": "2023-09-22T07:14:02.427Z"
   },
   {
    "duration": 16,
    "start_time": "2023-09-22T07:14:02.460Z"
   },
   {
    "duration": 58,
    "start_time": "2023-09-22T07:14:02.478Z"
   },
   {
    "duration": 40,
    "start_time": "2023-09-22T07:14:02.537Z"
   },
   {
    "duration": 753,
    "start_time": "2023-09-22T07:14:02.579Z"
   },
   {
    "duration": 20762,
    "start_time": "2023-09-22T07:14:03.333Z"
   },
   {
    "duration": 0,
    "start_time": "2023-09-22T07:14:24.097Z"
   },
   {
    "duration": 0,
    "start_time": "2023-09-22T07:14:24.101Z"
   },
   {
    "duration": 0,
    "start_time": "2023-09-22T07:14:24.102Z"
   },
   {
    "duration": 0,
    "start_time": "2023-09-22T07:14:24.103Z"
   },
   {
    "duration": 0,
    "start_time": "2023-09-22T07:14:24.104Z"
   },
   {
    "duration": 0,
    "start_time": "2023-09-22T07:14:24.105Z"
   },
   {
    "duration": 0,
    "start_time": "2023-09-22T07:14:24.106Z"
   },
   {
    "duration": 0,
    "start_time": "2023-09-22T07:14:24.107Z"
   },
   {
    "duration": 0,
    "start_time": "2023-09-22T07:14:24.109Z"
   },
   {
    "duration": 0,
    "start_time": "2023-09-22T07:14:24.109Z"
   },
   {
    "duration": 0,
    "start_time": "2023-09-22T07:14:24.111Z"
   },
   {
    "duration": 0,
    "start_time": "2023-09-22T07:14:24.112Z"
   },
   {
    "duration": 1973,
    "start_time": "2023-09-22T12:23:12.337Z"
   },
   {
    "duration": 4,
    "start_time": "2023-09-22T12:23:19.912Z"
   },
   {
    "duration": 11,
    "start_time": "2023-09-22T12:24:15.420Z"
   },
   {
    "duration": 4,
    "start_time": "2023-09-22T12:24:23.613Z"
   },
   {
    "duration": 79,
    "start_time": "2023-09-22T12:24:23.619Z"
   },
   {
    "duration": 16,
    "start_time": "2023-09-22T12:24:23.700Z"
   },
   {
    "duration": 22,
    "start_time": "2023-09-22T12:24:23.718Z"
   },
   {
    "duration": 28,
    "start_time": "2023-09-22T12:24:23.743Z"
   },
   {
    "duration": 13,
    "start_time": "2023-09-22T12:24:23.774Z"
   },
   {
    "duration": 731,
    "start_time": "2023-09-22T12:24:23.789Z"
   },
   {
    "duration": 22196,
    "start_time": "2023-09-22T12:24:24.521Z"
   },
   {
    "duration": 0,
    "start_time": "2023-09-22T12:24:46.720Z"
   },
   {
    "duration": 0,
    "start_time": "2023-09-22T12:24:46.721Z"
   },
   {
    "duration": 0,
    "start_time": "2023-09-22T12:24:46.722Z"
   },
   {
    "duration": 0,
    "start_time": "2023-09-22T12:24:46.723Z"
   },
   {
    "duration": 0,
    "start_time": "2023-09-22T12:24:46.725Z"
   },
   {
    "duration": 0,
    "start_time": "2023-09-22T12:24:46.726Z"
   },
   {
    "duration": 0,
    "start_time": "2023-09-22T12:24:46.727Z"
   },
   {
    "duration": 0,
    "start_time": "2023-09-22T12:24:46.728Z"
   },
   {
    "duration": 0,
    "start_time": "2023-09-22T12:24:46.729Z"
   },
   {
    "duration": 0,
    "start_time": "2023-09-22T12:24:46.730Z"
   },
   {
    "duration": 0,
    "start_time": "2023-09-22T12:24:46.731Z"
   },
   {
    "duration": 0,
    "start_time": "2023-09-22T12:24:46.757Z"
   },
   {
    "duration": 714,
    "start_time": "2023-09-22T12:27:22.126Z"
   },
   {
    "duration": 757,
    "start_time": "2023-09-22T12:27:40.650Z"
   },
   {
    "duration": 14,
    "start_time": "2023-09-22T12:32:21.297Z"
   },
   {
    "duration": 21833,
    "start_time": "2023-09-22T12:47:32.172Z"
   },
   {
    "duration": 6,
    "start_time": "2023-09-22T12:58:18.094Z"
   },
   {
    "duration": 39,
    "start_time": "2023-09-22T12:58:18.103Z"
   },
   {
    "duration": 12,
    "start_time": "2023-09-22T12:58:18.144Z"
   },
   {
    "duration": 17,
    "start_time": "2023-09-22T12:58:18.158Z"
   },
   {
    "duration": 32,
    "start_time": "2023-09-22T12:58:18.178Z"
   },
   {
    "duration": 719,
    "start_time": "2023-09-22T12:58:18.212Z"
   },
   {
    "duration": 30,
    "start_time": "2023-09-22T12:58:18.933Z"
   },
   {
    "duration": 16,
    "start_time": "2023-09-22T12:58:18.966Z"
   },
   {
    "duration": 904,
    "start_time": "2023-09-22T12:58:18.985Z"
   },
   {
    "duration": 24954,
    "start_time": "2023-09-22T12:58:19.891Z"
   },
   {
    "duration": 875,
    "start_time": "2023-09-22T12:58:44.848Z"
   },
   {
    "duration": 18,
    "start_time": "2023-09-22T12:58:45.725Z"
   },
   {
    "duration": 126,
    "start_time": "2023-09-22T12:58:45.757Z"
   },
   {
    "duration": 11,
    "start_time": "2023-09-22T12:58:45.886Z"
   },
   {
    "duration": 155,
    "start_time": "2023-09-22T12:58:45.899Z"
   },
   {
    "duration": 119,
    "start_time": "2023-09-22T12:58:46.056Z"
   },
   {
    "duration": 195,
    "start_time": "2023-09-22T12:58:46.177Z"
   },
   {
    "duration": 125,
    "start_time": "2023-09-22T12:58:46.375Z"
   },
   {
    "duration": 415,
    "start_time": "2023-09-22T12:58:46.502Z"
   },
   {
    "duration": 12,
    "start_time": "2023-09-22T12:58:46.919Z"
   },
   {
    "duration": 27,
    "start_time": "2023-09-22T12:58:46.933Z"
   },
   {
    "duration": 7,
    "start_time": "2023-09-22T12:58:46.962Z"
   },
   {
    "duration": 147,
    "start_time": "2023-09-22T13:02:35.159Z"
   },
   {
    "duration": 15,
    "start_time": "2023-09-22T13:07:47.977Z"
   },
   {
    "duration": 5,
    "start_time": "2023-09-22T13:07:57.073Z"
   },
   {
    "duration": 46,
    "start_time": "2023-09-22T13:07:57.080Z"
   },
   {
    "duration": 13,
    "start_time": "2023-09-22T13:07:57.128Z"
   },
   {
    "duration": 26,
    "start_time": "2023-09-22T13:07:57.143Z"
   },
   {
    "duration": 29,
    "start_time": "2023-09-22T13:07:57.171Z"
   },
   {
    "duration": 646,
    "start_time": "2023-09-22T13:07:57.202Z"
   },
   {
    "duration": 16,
    "start_time": "2023-09-22T13:07:57.850Z"
   },
   {
    "duration": 25,
    "start_time": "2023-09-22T13:07:57.868Z"
   },
   {
    "duration": 810,
    "start_time": "2023-09-22T13:07:57.895Z"
   },
   {
    "duration": 25308,
    "start_time": "2023-09-22T13:07:58.708Z"
   },
   {
    "duration": 796,
    "start_time": "2023-09-22T13:08:24.018Z"
   },
   {
    "duration": 21,
    "start_time": "2023-09-22T13:08:24.816Z"
   },
   {
    "duration": 147,
    "start_time": "2023-09-22T13:08:24.839Z"
   },
   {
    "duration": 13,
    "start_time": "2023-09-22T13:08:24.988Z"
   },
   {
    "duration": 164,
    "start_time": "2023-09-22T13:08:25.003Z"
   },
   {
    "duration": 125,
    "start_time": "2023-09-22T13:08:25.169Z"
   },
   {
    "duration": 22,
    "start_time": "2023-09-22T13:08:25.296Z"
   },
   {
    "duration": 47,
    "start_time": "2023-09-22T13:08:25.320Z"
   },
   {
    "duration": 187,
    "start_time": "2023-09-22T13:08:25.370Z"
   },
   {
    "duration": 15,
    "start_time": "2023-09-22T13:08:25.558Z"
   },
   {
    "duration": 9,
    "start_time": "2023-09-22T13:08:25.575Z"
   },
   {
    "duration": 6,
    "start_time": "2023-09-22T13:08:25.586Z"
   },
   {
    "duration": 4,
    "start_time": "2023-09-22T13:08:58.754Z"
   },
   {
    "duration": 38,
    "start_time": "2023-09-22T13:08:58.760Z"
   },
   {
    "duration": 18,
    "start_time": "2023-09-22T13:08:58.800Z"
   },
   {
    "duration": 28,
    "start_time": "2023-09-22T13:08:58.820Z"
   },
   {
    "duration": 38,
    "start_time": "2023-09-22T13:08:58.853Z"
   },
   {
    "duration": 731,
    "start_time": "2023-09-22T13:08:58.893Z"
   },
   {
    "duration": 12,
    "start_time": "2023-09-22T13:08:59.626Z"
   },
   {
    "duration": 15,
    "start_time": "2023-09-22T13:08:59.656Z"
   },
   {
    "duration": 775,
    "start_time": "2023-09-22T13:08:59.673Z"
   },
   {
    "duration": 24721,
    "start_time": "2023-09-22T13:09:00.456Z"
   },
   {
    "duration": 788,
    "start_time": "2023-09-22T13:09:25.179Z"
   },
   {
    "duration": 18,
    "start_time": "2023-09-22T13:09:25.969Z"
   },
   {
    "duration": 137,
    "start_time": "2023-09-22T13:09:25.989Z"
   },
   {
    "duration": 11,
    "start_time": "2023-09-22T13:09:26.129Z"
   },
   {
    "duration": 144,
    "start_time": "2023-09-22T13:09:26.157Z"
   },
   {
    "duration": 125,
    "start_time": "2023-09-22T13:09:26.303Z"
   },
   {
    "duration": 34,
    "start_time": "2023-09-22T13:09:26.430Z"
   },
   {
    "duration": 23,
    "start_time": "2023-09-22T13:09:26.466Z"
   },
   {
    "duration": 159,
    "start_time": "2023-09-22T13:09:26.491Z"
   },
   {
    "duration": 16,
    "start_time": "2023-09-22T13:09:26.651Z"
   },
   {
    "duration": 27,
    "start_time": "2023-09-22T13:09:26.669Z"
   },
   {
    "duration": 31,
    "start_time": "2023-09-22T13:09:26.698Z"
   },
   {
    "duration": 428,
    "start_time": "2023-09-22T13:11:31.508Z"
   },
   {
    "duration": 34,
    "start_time": "2023-09-22T13:11:31.939Z"
   },
   {
    "duration": 10,
    "start_time": "2023-09-22T13:40:12.693Z"
   },
   {
    "duration": 41,
    "start_time": "2023-09-22T13:40:12.705Z"
   },
   {
    "duration": 101748,
    "start_time": "2023-09-22T13:43:22.770Z"
   },
   {
    "duration": 19,
    "start_time": "2023-09-22T13:47:12.980Z"
   },
   {
    "duration": 529,
    "start_time": "2023-09-22T13:47:13.001Z"
   },
   {
    "duration": 12,
    "start_time": "2023-09-22T13:47:13.531Z"
   },
   {
    "duration": 629,
    "start_time": "2023-09-22T13:47:13.545Z"
   },
   {
    "duration": 501,
    "start_time": "2023-09-22T13:47:14.177Z"
   },
   {
    "duration": 22,
    "start_time": "2023-09-22T13:47:14.680Z"
   },
   {
    "duration": 22,
    "start_time": "2023-09-22T13:47:14.704Z"
   },
   {
    "duration": 15,
    "start_time": "2023-09-22T13:49:10.584Z"
   },
   {
    "duration": 9,
    "start_time": "2023-09-22T13:49:10.602Z"
   },
   {
    "duration": 27,
    "start_time": "2023-09-22T14:15:46.142Z"
   },
   {
    "duration": 21,
    "start_time": "2023-09-22T14:16:16.958Z"
   },
   {
    "duration": 20,
    "start_time": "2023-09-22T14:17:21.309Z"
   },
   {
    "duration": 19,
    "start_time": "2023-09-22T14:17:21.331Z"
   },
   {
    "duration": 7,
    "start_time": "2023-09-22T14:17:30.694Z"
   },
   {
    "duration": 7,
    "start_time": "2023-09-22T14:17:53.173Z"
   },
   {
    "duration": 4,
    "start_time": "2023-09-22T14:21:50.770Z"
   },
   {
    "duration": 24,
    "start_time": "2023-09-22T14:25:42.218Z"
   },
   {
    "duration": 5,
    "start_time": "2023-09-22T14:26:01.267Z"
   },
   {
    "duration": 124,
    "start_time": "2023-09-22T14:26:01.274Z"
   },
   {
    "duration": 12,
    "start_time": "2023-09-22T14:26:01.400Z"
   },
   {
    "duration": 40,
    "start_time": "2023-09-22T14:26:01.413Z"
   },
   {
    "duration": 81,
    "start_time": "2023-09-22T14:26:01.456Z"
   },
   {
    "duration": 729,
    "start_time": "2023-09-22T14:26:01.539Z"
   },
   {
    "duration": 14,
    "start_time": "2023-09-22T14:26:02.270Z"
   },
   {
    "duration": 18,
    "start_time": "2023-09-22T14:26:02.286Z"
   },
   {
    "duration": 706,
    "start_time": "2023-09-22T14:26:02.306Z"
   },
   {
    "duration": 92925,
    "start_time": "2023-09-22T14:26:03.014Z"
   },
   {
    "duration": 753,
    "start_time": "2023-09-22T14:27:35.941Z"
   },
   {
    "duration": 18,
    "start_time": "2023-09-22T14:27:36.696Z"
   },
   {
    "duration": 527,
    "start_time": "2023-09-22T14:27:36.716Z"
   },
   {
    "duration": 18,
    "start_time": "2023-09-22T14:27:37.247Z"
   },
   {
    "duration": 563,
    "start_time": "2023-09-22T14:27:37.267Z"
   },
   {
    "duration": 526,
    "start_time": "2023-09-22T14:27:37.832Z"
   },
   {
    "duration": 21,
    "start_time": "2023-09-22T14:27:38.360Z"
   },
   {
    "duration": 22,
    "start_time": "2023-09-22T14:27:38.383Z"
   },
   {
    "duration": 14,
    "start_time": "2023-09-22T14:27:38.407Z"
   },
   {
    "duration": 39,
    "start_time": "2023-09-22T14:27:38.422Z"
   },
   {
    "duration": 35,
    "start_time": "2023-09-22T14:27:38.463Z"
   },
   {
    "duration": 15,
    "start_time": "2023-09-22T14:27:38.499Z"
   },
   {
    "duration": 16,
    "start_time": "2023-09-22T14:27:38.515Z"
   },
   {
    "duration": 1,
    "start_time": "2023-09-22T14:27:38.532Z"
   },
   {
    "duration": 0,
    "start_time": "2023-09-22T14:27:38.534Z"
   },
   {
    "duration": 21,
    "start_time": "2023-09-22T14:28:55.553Z"
   },
   {
    "duration": 6,
    "start_time": "2023-09-22T14:28:55.577Z"
   },
   {
    "duration": 21,
    "start_time": "2023-09-22T14:28:55.586Z"
   },
   {
    "duration": 7,
    "start_time": "2023-09-22T14:30:01.937Z"
   },
   {
    "duration": 19,
    "start_time": "2023-09-22T14:30:51.390Z"
   },
   {
    "duration": 9,
    "start_time": "2023-09-22T14:30:51.411Z"
   },
   {
    "duration": 16,
    "start_time": "2023-09-22T14:32:23.200Z"
   },
   {
    "duration": 5,
    "start_time": "2023-09-22T14:34:02.046Z"
   },
   {
    "duration": 92,
    "start_time": "2023-09-22T14:34:02.053Z"
   },
   {
    "duration": 22,
    "start_time": "2023-09-22T14:34:02.147Z"
   },
   {
    "duration": 50,
    "start_time": "2023-09-22T14:34:02.172Z"
   },
   {
    "duration": 68,
    "start_time": "2023-09-22T14:34:02.225Z"
   },
   {
    "duration": 738,
    "start_time": "2023-09-22T14:34:02.295Z"
   },
   {
    "duration": 11,
    "start_time": "2023-09-22T14:34:03.036Z"
   },
   {
    "duration": 22,
    "start_time": "2023-09-22T14:34:03.058Z"
   },
   {
    "duration": 813,
    "start_time": "2023-09-22T14:34:03.083Z"
   },
   {
    "duration": 100890,
    "start_time": "2023-09-22T14:34:03.898Z"
   },
   {
    "duration": 794,
    "start_time": "2023-09-22T14:35:44.791Z"
   },
   {
    "duration": 18,
    "start_time": "2023-09-22T14:35:45.588Z"
   },
   {
    "duration": 527,
    "start_time": "2023-09-22T14:35:45.608Z"
   },
   {
    "duration": 23,
    "start_time": "2023-09-22T14:35:46.139Z"
   },
   {
    "duration": 615,
    "start_time": "2023-09-22T14:35:46.164Z"
   },
   {
    "duration": 529,
    "start_time": "2023-09-22T14:35:46.782Z"
   },
   {
    "duration": 21,
    "start_time": "2023-09-22T14:35:47.313Z"
   },
   {
    "duration": 47,
    "start_time": "2023-09-22T14:35:47.336Z"
   },
   {
    "duration": 16,
    "start_time": "2023-09-22T14:35:47.387Z"
   },
   {
    "duration": 7,
    "start_time": "2023-09-22T14:35:47.405Z"
   },
   {
    "duration": 68,
    "start_time": "2023-09-22T14:35:47.414Z"
   },
   {
    "duration": 15,
    "start_time": "2023-09-22T14:35:47.485Z"
   },
   {
    "duration": 43,
    "start_time": "2023-09-22T14:35:47.502Z"
   },
   {
    "duration": 24,
    "start_time": "2023-09-22T14:35:47.548Z"
   },
   {
    "duration": 35,
    "start_time": "2023-09-22T14:35:47.575Z"
   },
   {
    "duration": 18,
    "start_time": "2023-09-22T14:37:40.471Z"
   },
   {
    "duration": 8,
    "start_time": "2023-09-22T14:37:47.259Z"
   },
   {
    "duration": 12,
    "start_time": "2023-09-22T14:39:24.053Z"
   },
   {
    "duration": 8,
    "start_time": "2023-09-22T14:39:28.641Z"
   },
   {
    "duration": 7,
    "start_time": "2023-09-22T14:42:07.545Z"
   },
   {
    "duration": 11,
    "start_time": "2023-09-22T14:42:22.180Z"
   },
   {
    "duration": 8,
    "start_time": "2023-09-22T14:42:39.603Z"
   }
  ],
  "kernelspec": {
   "display_name": "Python 3 (ipykernel)",
   "language": "python",
   "name": "python3"
  },
  "language_info": {
   "codemirror_mode": {
    "name": "ipython",
    "version": 3
   },
   "file_extension": ".py",
   "mimetype": "text/x-python",
   "name": "python",
   "nbconvert_exporter": "python",
   "pygments_lexer": "ipython3",
   "version": "3.9.5"
  },
  "toc": {
   "base_numbering": 1,
   "nav_menu": {},
   "number_sections": true,
   "sideBar": true,
   "skip_h1_title": true,
   "title_cell": "Table of Contents",
   "title_sidebar": "Contents",
   "toc_cell": false,
   "toc_position": {},
   "toc_section_display": true,
   "toc_window_display": true
  }
 },
 "nbformat": 4,
 "nbformat_minor": 2
}

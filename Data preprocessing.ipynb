{
 "cells": [
  {
   "cell_type": "markdown",
   "id": "386f2ae7",
   "metadata": {
    "deletable": false,
    "editable": false,
    "id": "386f2ae7"
   },
   "source": [
    "# Исследование надежности заемщиков\n"
   ]
  },
  {
   "cell_type": "markdown",
   "id": "ffe86f65",
   "metadata": {
    "deletable": false,
    "editable": false,
    "id": "ffe86f65"
   },
   "source": [
    "Во второй части проекта вы выполните шаги 3 и 4. Их вручную проверит ревьюер.\n",
    "Чтобы вам не пришлось писать код заново для шагов 1 и 2, мы добавили авторские решения в ячейки с кодом. \n",
    "\n"
   ]
  },
  {
   "cell_type": "markdown",
   "id": "26613308",
   "metadata": {
    "deletable": false,
    "editable": false,
    "id": "26613308"
   },
   "source": [
    "## Откройте таблицу и изучите общую информацию о данных"
   ]
  },
  {
   "cell_type": "markdown",
   "id": "3c9f838e",
   "metadata": {
    "deletable": false,
    "editable": false,
    "id": "3c9f838e"
   },
   "source": [
    "**Задание 1. Импортируйте библиотеку pandas. Считайте данные из csv-файла в датафрейм и сохраните в переменную `data`. Путь к файлу:**\n",
    "\n",
    "`/datasets/data.csv`"
   ]
  },
  {
   "cell_type": "code",
   "execution_count": 1,
   "id": "77a68a90",
   "metadata": {
    "deletable": false,
    "id": "77a68a90"
   },
   "outputs": [],
   "source": [
    "import pandas as pd\n",
    "\n",
    "try:\n",
    "    data = pd.read_csv('/datasets/data.csv')\n",
    "except:\n",
    "    data = pd.read_csv('https://code.s3.yandex.net/datasets/data.csv')"
   ]
  },
  {
   "cell_type": "markdown",
   "id": "45365635",
   "metadata": {
    "deletable": false,
    "editable": false,
    "id": "45365635"
   },
   "source": [
    "**Задание 2. Выведите первые 20 строчек датафрейма `data` на экран.**"
   ]
  },
  {
   "cell_type": "code",
   "execution_count": 2,
   "id": "b0451a9a",
   "metadata": {
    "deletable": false,
    "id": "b0451a9a",
    "outputId": "1a8f3ef2-d323-4ec2-ddf7-89670b5944c4"
   },
   "outputs": [
    {
     "data": {
      "text/html": [
       "<div>\n",
       "<style scoped>\n",
       "    .dataframe tbody tr th:only-of-type {\n",
       "        vertical-align: middle;\n",
       "    }\n",
       "\n",
       "    .dataframe tbody tr th {\n",
       "        vertical-align: top;\n",
       "    }\n",
       "\n",
       "    .dataframe thead th {\n",
       "        text-align: right;\n",
       "    }\n",
       "</style>\n",
       "<table border=\"1\" class=\"dataframe\">\n",
       "  <thead>\n",
       "    <tr style=\"text-align: right;\">\n",
       "      <th></th>\n",
       "      <th>children</th>\n",
       "      <th>days_employed</th>\n",
       "      <th>dob_years</th>\n",
       "      <th>education</th>\n",
       "      <th>education_id</th>\n",
       "      <th>family_status</th>\n",
       "      <th>family_status_id</th>\n",
       "      <th>gender</th>\n",
       "      <th>income_type</th>\n",
       "      <th>debt</th>\n",
       "      <th>total_income</th>\n",
       "      <th>purpose</th>\n",
       "    </tr>\n",
       "  </thead>\n",
       "  <tbody>\n",
       "    <tr>\n",
       "      <th>0</th>\n",
       "      <td>1</td>\n",
       "      <td>-8437.673028</td>\n",
       "      <td>42</td>\n",
       "      <td>высшее</td>\n",
       "      <td>0</td>\n",
       "      <td>женат / замужем</td>\n",
       "      <td>0</td>\n",
       "      <td>F</td>\n",
       "      <td>сотрудник</td>\n",
       "      <td>0</td>\n",
       "      <td>253875.639453</td>\n",
       "      <td>покупка жилья</td>\n",
       "    </tr>\n",
       "    <tr>\n",
       "      <th>1</th>\n",
       "      <td>1</td>\n",
       "      <td>-4024.803754</td>\n",
       "      <td>36</td>\n",
       "      <td>среднее</td>\n",
       "      <td>1</td>\n",
       "      <td>женат / замужем</td>\n",
       "      <td>0</td>\n",
       "      <td>F</td>\n",
       "      <td>сотрудник</td>\n",
       "      <td>0</td>\n",
       "      <td>112080.014102</td>\n",
       "      <td>приобретение автомобиля</td>\n",
       "    </tr>\n",
       "    <tr>\n",
       "      <th>2</th>\n",
       "      <td>0</td>\n",
       "      <td>-5623.422610</td>\n",
       "      <td>33</td>\n",
       "      <td>Среднее</td>\n",
       "      <td>1</td>\n",
       "      <td>женат / замужем</td>\n",
       "      <td>0</td>\n",
       "      <td>M</td>\n",
       "      <td>сотрудник</td>\n",
       "      <td>0</td>\n",
       "      <td>145885.952297</td>\n",
       "      <td>покупка жилья</td>\n",
       "    </tr>\n",
       "    <tr>\n",
       "      <th>3</th>\n",
       "      <td>3</td>\n",
       "      <td>-4124.747207</td>\n",
       "      <td>32</td>\n",
       "      <td>среднее</td>\n",
       "      <td>1</td>\n",
       "      <td>женат / замужем</td>\n",
       "      <td>0</td>\n",
       "      <td>M</td>\n",
       "      <td>сотрудник</td>\n",
       "      <td>0</td>\n",
       "      <td>267628.550329</td>\n",
       "      <td>дополнительное образование</td>\n",
       "    </tr>\n",
       "    <tr>\n",
       "      <th>4</th>\n",
       "      <td>0</td>\n",
       "      <td>340266.072047</td>\n",
       "      <td>53</td>\n",
       "      <td>среднее</td>\n",
       "      <td>1</td>\n",
       "      <td>гражданский брак</td>\n",
       "      <td>1</td>\n",
       "      <td>F</td>\n",
       "      <td>пенсионер</td>\n",
       "      <td>0</td>\n",
       "      <td>158616.077870</td>\n",
       "      <td>сыграть свадьбу</td>\n",
       "    </tr>\n",
       "    <tr>\n",
       "      <th>5</th>\n",
       "      <td>0</td>\n",
       "      <td>-926.185831</td>\n",
       "      <td>27</td>\n",
       "      <td>высшее</td>\n",
       "      <td>0</td>\n",
       "      <td>гражданский брак</td>\n",
       "      <td>1</td>\n",
       "      <td>M</td>\n",
       "      <td>компаньон</td>\n",
       "      <td>0</td>\n",
       "      <td>255763.565419</td>\n",
       "      <td>покупка жилья</td>\n",
       "    </tr>\n",
       "    <tr>\n",
       "      <th>6</th>\n",
       "      <td>0</td>\n",
       "      <td>-2879.202052</td>\n",
       "      <td>43</td>\n",
       "      <td>высшее</td>\n",
       "      <td>0</td>\n",
       "      <td>женат / замужем</td>\n",
       "      <td>0</td>\n",
       "      <td>F</td>\n",
       "      <td>компаньон</td>\n",
       "      <td>0</td>\n",
       "      <td>240525.971920</td>\n",
       "      <td>операции с жильем</td>\n",
       "    </tr>\n",
       "    <tr>\n",
       "      <th>7</th>\n",
       "      <td>0</td>\n",
       "      <td>-152.779569</td>\n",
       "      <td>50</td>\n",
       "      <td>СРЕДНЕЕ</td>\n",
       "      <td>1</td>\n",
       "      <td>женат / замужем</td>\n",
       "      <td>0</td>\n",
       "      <td>M</td>\n",
       "      <td>сотрудник</td>\n",
       "      <td>0</td>\n",
       "      <td>135823.934197</td>\n",
       "      <td>образование</td>\n",
       "    </tr>\n",
       "    <tr>\n",
       "      <th>8</th>\n",
       "      <td>2</td>\n",
       "      <td>-6929.865299</td>\n",
       "      <td>35</td>\n",
       "      <td>ВЫСШЕЕ</td>\n",
       "      <td>0</td>\n",
       "      <td>гражданский брак</td>\n",
       "      <td>1</td>\n",
       "      <td>F</td>\n",
       "      <td>сотрудник</td>\n",
       "      <td>0</td>\n",
       "      <td>95856.832424</td>\n",
       "      <td>на проведение свадьбы</td>\n",
       "    </tr>\n",
       "    <tr>\n",
       "      <th>9</th>\n",
       "      <td>0</td>\n",
       "      <td>-2188.756445</td>\n",
       "      <td>41</td>\n",
       "      <td>среднее</td>\n",
       "      <td>1</td>\n",
       "      <td>женат / замужем</td>\n",
       "      <td>0</td>\n",
       "      <td>M</td>\n",
       "      <td>сотрудник</td>\n",
       "      <td>0</td>\n",
       "      <td>144425.938277</td>\n",
       "      <td>покупка жилья для семьи</td>\n",
       "    </tr>\n",
       "    <tr>\n",
       "      <th>10</th>\n",
       "      <td>2</td>\n",
       "      <td>-4171.483647</td>\n",
       "      <td>36</td>\n",
       "      <td>высшее</td>\n",
       "      <td>0</td>\n",
       "      <td>женат / замужем</td>\n",
       "      <td>0</td>\n",
       "      <td>M</td>\n",
       "      <td>компаньон</td>\n",
       "      <td>0</td>\n",
       "      <td>113943.491460</td>\n",
       "      <td>покупка недвижимости</td>\n",
       "    </tr>\n",
       "    <tr>\n",
       "      <th>11</th>\n",
       "      <td>0</td>\n",
       "      <td>-792.701887</td>\n",
       "      <td>40</td>\n",
       "      <td>среднее</td>\n",
       "      <td>1</td>\n",
       "      <td>женат / замужем</td>\n",
       "      <td>0</td>\n",
       "      <td>F</td>\n",
       "      <td>сотрудник</td>\n",
       "      <td>0</td>\n",
       "      <td>77069.234271</td>\n",
       "      <td>покупка коммерческой недвижимости</td>\n",
       "    </tr>\n",
       "    <tr>\n",
       "      <th>12</th>\n",
       "      <td>0</td>\n",
       "      <td>NaN</td>\n",
       "      <td>65</td>\n",
       "      <td>среднее</td>\n",
       "      <td>1</td>\n",
       "      <td>гражданский брак</td>\n",
       "      <td>1</td>\n",
       "      <td>M</td>\n",
       "      <td>пенсионер</td>\n",
       "      <td>0</td>\n",
       "      <td>NaN</td>\n",
       "      <td>сыграть свадьбу</td>\n",
       "    </tr>\n",
       "    <tr>\n",
       "      <th>13</th>\n",
       "      <td>0</td>\n",
       "      <td>-1846.641941</td>\n",
       "      <td>54</td>\n",
       "      <td>неоконченное высшее</td>\n",
       "      <td>2</td>\n",
       "      <td>женат / замужем</td>\n",
       "      <td>0</td>\n",
       "      <td>F</td>\n",
       "      <td>сотрудник</td>\n",
       "      <td>0</td>\n",
       "      <td>130458.228857</td>\n",
       "      <td>приобретение автомобиля</td>\n",
       "    </tr>\n",
       "    <tr>\n",
       "      <th>14</th>\n",
       "      <td>0</td>\n",
       "      <td>-1844.956182</td>\n",
       "      <td>56</td>\n",
       "      <td>высшее</td>\n",
       "      <td>0</td>\n",
       "      <td>гражданский брак</td>\n",
       "      <td>1</td>\n",
       "      <td>F</td>\n",
       "      <td>компаньон</td>\n",
       "      <td>1</td>\n",
       "      <td>165127.911772</td>\n",
       "      <td>покупка жилой недвижимости</td>\n",
       "    </tr>\n",
       "    <tr>\n",
       "      <th>15</th>\n",
       "      <td>1</td>\n",
       "      <td>-972.364419</td>\n",
       "      <td>26</td>\n",
       "      <td>среднее</td>\n",
       "      <td>1</td>\n",
       "      <td>женат / замужем</td>\n",
       "      <td>0</td>\n",
       "      <td>F</td>\n",
       "      <td>сотрудник</td>\n",
       "      <td>0</td>\n",
       "      <td>116820.904450</td>\n",
       "      <td>строительство собственной недвижимости</td>\n",
       "    </tr>\n",
       "    <tr>\n",
       "      <th>16</th>\n",
       "      <td>0</td>\n",
       "      <td>-1719.934226</td>\n",
       "      <td>35</td>\n",
       "      <td>среднее</td>\n",
       "      <td>1</td>\n",
       "      <td>женат / замужем</td>\n",
       "      <td>0</td>\n",
       "      <td>F</td>\n",
       "      <td>сотрудник</td>\n",
       "      <td>0</td>\n",
       "      <td>289202.704229</td>\n",
       "      <td>недвижимость</td>\n",
       "    </tr>\n",
       "    <tr>\n",
       "      <th>17</th>\n",
       "      <td>0</td>\n",
       "      <td>-2369.999720</td>\n",
       "      <td>33</td>\n",
       "      <td>высшее</td>\n",
       "      <td>0</td>\n",
       "      <td>гражданский брак</td>\n",
       "      <td>1</td>\n",
       "      <td>M</td>\n",
       "      <td>сотрудник</td>\n",
       "      <td>0</td>\n",
       "      <td>90410.586745</td>\n",
       "      <td>строительство недвижимости</td>\n",
       "    </tr>\n",
       "    <tr>\n",
       "      <th>18</th>\n",
       "      <td>0</td>\n",
       "      <td>400281.136913</td>\n",
       "      <td>53</td>\n",
       "      <td>среднее</td>\n",
       "      <td>1</td>\n",
       "      <td>вдовец / вдова</td>\n",
       "      <td>2</td>\n",
       "      <td>F</td>\n",
       "      <td>пенсионер</td>\n",
       "      <td>0</td>\n",
       "      <td>56823.777243</td>\n",
       "      <td>на покупку подержанного автомобиля</td>\n",
       "    </tr>\n",
       "    <tr>\n",
       "      <th>19</th>\n",
       "      <td>0</td>\n",
       "      <td>-10038.818549</td>\n",
       "      <td>48</td>\n",
       "      <td>СРЕДНЕЕ</td>\n",
       "      <td>1</td>\n",
       "      <td>в разводе</td>\n",
       "      <td>3</td>\n",
       "      <td>F</td>\n",
       "      <td>сотрудник</td>\n",
       "      <td>0</td>\n",
       "      <td>242831.107982</td>\n",
       "      <td>на покупку своего автомобиля</td>\n",
       "    </tr>\n",
       "  </tbody>\n",
       "</table>\n",
       "</div>"
      ],
      "text/plain": [
       "    children  days_employed  dob_years            education  education_id  \\\n",
       "0          1   -8437.673028         42               высшее             0   \n",
       "1          1   -4024.803754         36              среднее             1   \n",
       "2          0   -5623.422610         33              Среднее             1   \n",
       "3          3   -4124.747207         32              среднее             1   \n",
       "4          0  340266.072047         53              среднее             1   \n",
       "5          0    -926.185831         27               высшее             0   \n",
       "6          0   -2879.202052         43               высшее             0   \n",
       "7          0    -152.779569         50              СРЕДНЕЕ             1   \n",
       "8          2   -6929.865299         35               ВЫСШЕЕ             0   \n",
       "9          0   -2188.756445         41              среднее             1   \n",
       "10         2   -4171.483647         36               высшее             0   \n",
       "11         0    -792.701887         40              среднее             1   \n",
       "12         0            NaN         65              среднее             1   \n",
       "13         0   -1846.641941         54  неоконченное высшее             2   \n",
       "14         0   -1844.956182         56               высшее             0   \n",
       "15         1    -972.364419         26              среднее             1   \n",
       "16         0   -1719.934226         35              среднее             1   \n",
       "17         0   -2369.999720         33               высшее             0   \n",
       "18         0  400281.136913         53              среднее             1   \n",
       "19         0  -10038.818549         48              СРЕДНЕЕ             1   \n",
       "\n",
       "       family_status  family_status_id gender income_type  debt  \\\n",
       "0    женат / замужем                 0      F   сотрудник     0   \n",
       "1    женат / замужем                 0      F   сотрудник     0   \n",
       "2    женат / замужем                 0      M   сотрудник     0   \n",
       "3    женат / замужем                 0      M   сотрудник     0   \n",
       "4   гражданский брак                 1      F   пенсионер     0   \n",
       "5   гражданский брак                 1      M   компаньон     0   \n",
       "6    женат / замужем                 0      F   компаньон     0   \n",
       "7    женат / замужем                 0      M   сотрудник     0   \n",
       "8   гражданский брак                 1      F   сотрудник     0   \n",
       "9    женат / замужем                 0      M   сотрудник     0   \n",
       "10   женат / замужем                 0      M   компаньон     0   \n",
       "11   женат / замужем                 0      F   сотрудник     0   \n",
       "12  гражданский брак                 1      M   пенсионер     0   \n",
       "13   женат / замужем                 0      F   сотрудник     0   \n",
       "14  гражданский брак                 1      F   компаньон     1   \n",
       "15   женат / замужем                 0      F   сотрудник     0   \n",
       "16   женат / замужем                 0      F   сотрудник     0   \n",
       "17  гражданский брак                 1      M   сотрудник     0   \n",
       "18    вдовец / вдова                 2      F   пенсионер     0   \n",
       "19         в разводе                 3      F   сотрудник     0   \n",
       "\n",
       "     total_income                                 purpose  \n",
       "0   253875.639453                           покупка жилья  \n",
       "1   112080.014102                 приобретение автомобиля  \n",
       "2   145885.952297                           покупка жилья  \n",
       "3   267628.550329              дополнительное образование  \n",
       "4   158616.077870                         сыграть свадьбу  \n",
       "5   255763.565419                           покупка жилья  \n",
       "6   240525.971920                       операции с жильем  \n",
       "7   135823.934197                             образование  \n",
       "8    95856.832424                   на проведение свадьбы  \n",
       "9   144425.938277                 покупка жилья для семьи  \n",
       "10  113943.491460                    покупка недвижимости  \n",
       "11   77069.234271       покупка коммерческой недвижимости  \n",
       "12            NaN                         сыграть свадьбу  \n",
       "13  130458.228857                 приобретение автомобиля  \n",
       "14  165127.911772              покупка жилой недвижимости  \n",
       "15  116820.904450  строительство собственной недвижимости  \n",
       "16  289202.704229                            недвижимость  \n",
       "17   90410.586745              строительство недвижимости  \n",
       "18   56823.777243      на покупку подержанного автомобиля  \n",
       "19  242831.107982            на покупку своего автомобиля  "
      ]
     },
     "execution_count": 2,
     "metadata": {},
     "output_type": "execute_result"
    }
   ],
   "source": [
    "data.head(20)"
   ]
  },
  {
   "cell_type": "markdown",
   "id": "0ed8f27f",
   "metadata": {
    "deletable": false,
    "editable": false,
    "id": "0ed8f27f"
   },
   "source": [
    "**Задание 3. Выведите основную информацию о датафрейме с помощью метода `info()`.**"
   ]
  },
  {
   "cell_type": "code",
   "execution_count": 3,
   "id": "ab3f863b",
   "metadata": {
    "deletable": false,
    "id": "ab3f863b",
    "outputId": "15376089-8dad-46c9-b520-c05248d43158"
   },
   "outputs": [
    {
     "name": "stdout",
     "output_type": "stream",
     "text": [
      "<class 'pandas.core.frame.DataFrame'>\n",
      "RangeIndex: 21525 entries, 0 to 21524\n",
      "Data columns (total 12 columns):\n",
      " #   Column            Non-Null Count  Dtype  \n",
      "---  ------            --------------  -----  \n",
      " 0   children          21525 non-null  int64  \n",
      " 1   days_employed     19351 non-null  float64\n",
      " 2   dob_years         21525 non-null  int64  \n",
      " 3   education         21525 non-null  object \n",
      " 4   education_id      21525 non-null  int64  \n",
      " 5   family_status     21525 non-null  object \n",
      " 6   family_status_id  21525 non-null  int64  \n",
      " 7   gender            21525 non-null  object \n",
      " 8   income_type       21525 non-null  object \n",
      " 9   debt              21525 non-null  int64  \n",
      " 10  total_income      19351 non-null  float64\n",
      " 11  purpose           21525 non-null  object \n",
      "dtypes: float64(2), int64(5), object(5)\n",
      "memory usage: 2.0+ MB\n"
     ]
    }
   ],
   "source": [
    "data.info()"
   ]
  },
  {
   "cell_type": "markdown",
   "id": "60e3e22d",
   "metadata": {
    "deletable": false,
    "editable": false,
    "id": "60e3e22d"
   },
   "source": [
    "## Предобработка данных"
   ]
  },
  {
   "cell_type": "markdown",
   "id": "03dc170c",
   "metadata": {
    "deletable": false,
    "editable": false,
    "id": "03dc170c"
   },
   "source": [
    "### Удаление пропусков"
   ]
  },
  {
   "cell_type": "markdown",
   "id": "a4f54eef",
   "metadata": {
    "deletable": false,
    "editable": false,
    "id": "a4f54eef"
   },
   "source": [
    "**Задание 4. Выведите количество пропущенных значений для каждого столбца. Используйте комбинацию двух методов.**"
   ]
  },
  {
   "cell_type": "code",
   "execution_count": 4,
   "id": "2dc372b2",
   "metadata": {
    "deletable": false,
    "id": "2dc372b2",
    "outputId": "81f4d817-781c-465c-ed15-91ce4446810d"
   },
   "outputs": [
    {
     "data": {
      "text/plain": [
       "children               0\n",
       "days_employed       2174\n",
       "dob_years              0\n",
       "education              0\n",
       "education_id           0\n",
       "family_status          0\n",
       "family_status_id       0\n",
       "gender                 0\n",
       "income_type            0\n",
       "debt                   0\n",
       "total_income        2174\n",
       "purpose                0\n",
       "dtype: int64"
      ]
     },
     "execution_count": 4,
     "metadata": {},
     "output_type": "execute_result"
    }
   ],
   "source": [
    "data.isna().sum()"
   ]
  },
  {
   "cell_type": "markdown",
   "id": "14f011b1",
   "metadata": {
    "deletable": false,
    "editable": false,
    "id": "14f011b1"
   },
   "source": [
    "**Задание 5. В двух столбцах есть пропущенные значения. Один из них — `days_employed`. Пропуски в этом столбце вы обработаете на следующем этапе. Другой столбец с пропущенными значениями — `total_income` — хранит данные о доходах. На сумму дохода сильнее всего влияет тип занятости, поэтому заполнить пропуски в этом столбце нужно медианным значением по каждому типу из столбца `income_type`. Например, у человека с типом занятости `сотрудник` пропуск в столбце `total_income` должен быть заполнен медианным доходом среди всех записей с тем же типом.**"
   ]
  },
  {
   "cell_type": "code",
   "execution_count": 5,
   "id": "bdabfb6e",
   "metadata": {
    "deletable": false,
    "id": "bdabfb6e"
   },
   "outputs": [],
   "source": [
    "for t in data['income_type'].unique():\n",
    "    data.loc[(data['income_type'] == t) & (data['total_income'].isna()), 'total_income'] = \\\n",
    "    data.loc[(data['income_type'] == t), 'total_income'].median()"
   ]
  },
  {
   "cell_type": "markdown",
   "id": "5be34059",
   "metadata": {
    "deletable": false,
    "editable": false,
    "id": "5be34059"
   },
   "source": [
    "### Обработка аномальных значений"
   ]
  },
  {
   "cell_type": "markdown",
   "id": "a87606cb",
   "metadata": {
    "deletable": false,
    "editable": false,
    "id": "a87606cb"
   },
   "source": [
    "**Задание 6. В данных могут встречаться артефакты (аномалии) — значения, которые не отражают действительность и появились по какой-то ошибке. таким артефактом будет отрицательное количество дней трудового стажа в столбце `days_employed`. Для реальных данных это нормально. Обработайте значения в этом столбце: замените все отрицательные значения положительными с помощью метода `abs()`.**"
   ]
  },
  {
   "cell_type": "code",
   "execution_count": 6,
   "id": "020c46cc",
   "metadata": {
    "deletable": false,
    "id": "020c46cc"
   },
   "outputs": [],
   "source": [
    "data['days_employed'] = data['days_employed'].abs()"
   ]
  },
  {
   "cell_type": "markdown",
   "id": "45538a3a",
   "metadata": {
    "deletable": false,
    "editable": false,
    "id": "45538a3a"
   },
   "source": [
    "**Задание 7. Для каждого типа занятости выведите медианное значение трудового стажа `days_employed` в днях.**"
   ]
  },
  {
   "cell_type": "code",
   "execution_count": 7,
   "id": "cd3e6328",
   "metadata": {
    "deletable": false,
    "id": "cd3e6328",
    "outputId": "801ef80e-522b-4668-f34e-565af7432bcf"
   },
   "outputs": [
    {
     "data": {
      "text/plain": [
       "income_type\n",
       "безработный        366413.652744\n",
       "в декрете            3296.759962\n",
       "госслужащий          2689.368353\n",
       "компаньон            1547.382223\n",
       "пенсионер          365213.306266\n",
       "предприниматель       520.848083\n",
       "сотрудник            1574.202821\n",
       "студент               578.751554\n",
       "Name: days_employed, dtype: float64"
      ]
     },
     "execution_count": 7,
     "metadata": {},
     "output_type": "execute_result"
    }
   ],
   "source": [
    "data.groupby('income_type')['days_employed'].agg('median')"
   ]
  },
  {
   "cell_type": "markdown",
   "id": "90c5f058",
   "metadata": {
    "deletable": false,
    "editable": false,
    "id": "90c5f058"
   },
   "source": [
    "У двух типов (безработные и пенсионеры) получатся аномально большие значения. Исправить такие значения сложно, поэтому оставьте их как есть."
   ]
  },
  {
   "cell_type": "markdown",
   "id": "9652e50d",
   "metadata": {
    "deletable": false,
    "editable": false,
    "id": "9652e50d"
   },
   "source": [
    "**Задание 8. Выведите перечень уникальных значений столбца `children`.**"
   ]
  },
  {
   "cell_type": "code",
   "execution_count": 8,
   "id": "dbb37b8e",
   "metadata": {
    "deletable": false,
    "id": "dbb37b8e",
    "outputId": "6975b15c-7f95-4697-d16d-a0c79b657b03"
   },
   "outputs": [
    {
     "data": {
      "text/plain": [
       "array([ 1,  0,  3,  2, -1,  4, 20,  5])"
      ]
     },
     "execution_count": 8,
     "metadata": {},
     "output_type": "execute_result"
    }
   ],
   "source": [
    "data['children'].unique()"
   ]
  },
  {
   "cell_type": "markdown",
   "id": "2b8b0715",
   "metadata": {
    "deletable": false,
    "editable": false,
    "id": "2b8b0715"
   },
   "source": [
    "**Задание 9. В столбце `children` есть два аномальных значения. Удалите строки, в которых встречаются такие аномальные значения из датафрейма `data`.**"
   ]
  },
  {
   "cell_type": "code",
   "execution_count": 9,
   "id": "20009df8",
   "metadata": {
    "deletable": false,
    "id": "20009df8"
   },
   "outputs": [],
   "source": [
    "data = data[(data['children'] != -1) & (data['children'] != 20)]"
   ]
  },
  {
   "cell_type": "markdown",
   "id": "8c6ac9f1",
   "metadata": {
    "deletable": false,
    "editable": false,
    "id": "8c6ac9f1"
   },
   "source": [
    "**Задание 10. Ещё раз выведите перечень уникальных значений столбца `children`, чтобы убедиться, что артефакты удалены.**"
   ]
  },
  {
   "cell_type": "code",
   "execution_count": 10,
   "id": "07337b81",
   "metadata": {
    "deletable": false,
    "id": "07337b81",
    "outputId": "b2097101-d49d-44d9-901b-32a65c9463d1"
   },
   "outputs": [
    {
     "data": {
      "text/plain": [
       "array([1, 0, 3, 2, 4, 5])"
      ]
     },
     "execution_count": 10,
     "metadata": {},
     "output_type": "execute_result"
    }
   ],
   "source": [
    "data['children'].unique()"
   ]
  },
  {
   "cell_type": "markdown",
   "id": "ee3f52d4",
   "metadata": {
    "deletable": false,
    "editable": false,
    "id": "ee3f52d4"
   },
   "source": [
    "### Удаление пропусков (продолжение)"
   ]
  },
  {
   "cell_type": "markdown",
   "id": "a700b0e4",
   "metadata": {
    "deletable": false,
    "editable": false,
    "id": "a700b0e4"
   },
   "source": [
    "**Задание 11. Заполните пропуски в столбце `days_employed` медианными значениями по каждого типа занятости `income_type`.**"
   ]
  },
  {
   "cell_type": "code",
   "execution_count": 11,
   "id": "61946b83",
   "metadata": {
    "deletable": false,
    "id": "61946b83"
   },
   "outputs": [],
   "source": [
    "for t in data['income_type'].unique():\n",
    "    data.loc[(data['income_type'] == t) & (data['days_employed'].isna()), 'days_employed'] = \\\n",
    "    data.loc[(data['income_type'] == t), 'days_employed'].median()"
   ]
  },
  {
   "cell_type": "markdown",
   "id": "550dcd9b",
   "metadata": {
    "deletable": false,
    "editable": false,
    "id": "550dcd9b"
   },
   "source": [
    "**Задание 12. Убедитесь, что все пропуски заполнены. Проверьте себя и ещё раз выведите количество пропущенных значений для каждого столбца с помощью двух методов.**"
   ]
  },
  {
   "cell_type": "code",
   "execution_count": 12,
   "id": "937c7014",
   "metadata": {
    "deletable": false,
    "id": "937c7014",
    "outputId": "8da1e4e1-358e-4e87-98c9-f261bce0a7b2"
   },
   "outputs": [
    {
     "data": {
      "text/plain": [
       "children            0\n",
       "days_employed       0\n",
       "dob_years           0\n",
       "education           0\n",
       "education_id        0\n",
       "family_status       0\n",
       "family_status_id    0\n",
       "gender              0\n",
       "income_type         0\n",
       "debt                0\n",
       "total_income        0\n",
       "purpose             0\n",
       "dtype: int64"
      ]
     },
     "execution_count": 12,
     "metadata": {},
     "output_type": "execute_result"
    }
   ],
   "source": [
    "data.isna().sum()"
   ]
  },
  {
   "cell_type": "markdown",
   "id": "d522e295",
   "metadata": {
    "deletable": false,
    "editable": false,
    "id": "d522e295"
   },
   "source": [
    "### Изменение типов данных"
   ]
  },
  {
   "cell_type": "markdown",
   "id": "c229c581",
   "metadata": {
    "deletable": false,
    "editable": false,
    "id": "c229c581"
   },
   "source": [
    "**Задание 13. Замените вещественный тип данных в столбце `total_income` на целочисленный с помощью метода `astype()`.**"
   ]
  },
  {
   "cell_type": "code",
   "execution_count": 13,
   "id": "31036462",
   "metadata": {
    "deletable": false,
    "id": "31036462"
   },
   "outputs": [],
   "source": [
    "data['total_income'] = data['total_income'].astype(int)"
   ]
  },
  {
   "cell_type": "markdown",
   "id": "b8e3d1d9",
   "metadata": {
    "deletable": false,
    "editable": false,
    "id": "b8e3d1d9"
   },
   "source": [
    "### Обработка дубликатов"
   ]
  },
  {
   "cell_type": "markdown",
   "id": "9be53c49",
   "metadata": {
    "deletable": false,
    "editable": false,
    "id": "9be53c49"
   },
   "source": [
    "**Задание 14. Обработайте неявные дубликаты в столбце `education`. В этом столбце есть одни и те же значения, но записанные по-разному: с использованием заглавных и строчных букв. Приведите их к нижнему регистру.**"
   ]
  },
  {
   "cell_type": "code",
   "execution_count": 14,
   "id": "d89e73e1",
   "metadata": {
    "deletable": false,
    "id": "d89e73e1"
   },
   "outputs": [],
   "source": [
    "data['education'] = data['education'].str.lower()"
   ]
  },
  {
   "cell_type": "markdown",
   "id": "01d4500e",
   "metadata": {
    "deletable": false,
    "editable": false,
    "id": "01d4500e"
   },
   "source": [
    "**Задание 15. Выведите на экран количество строк-дубликатов в данных. Если такие строки присутствуют, удалите их.**"
   ]
  },
  {
   "cell_type": "code",
   "execution_count": 15,
   "id": "e10efb23",
   "metadata": {
    "deletable": false,
    "id": "e10efb23",
    "outputId": "9684deba-1934-42d1-99e1-cda61740f822"
   },
   "outputs": [
    {
     "data": {
      "text/plain": [
       "71"
      ]
     },
     "execution_count": 15,
     "metadata": {},
     "output_type": "execute_result"
    }
   ],
   "source": [
    "data.duplicated().sum()"
   ]
  },
  {
   "cell_type": "code",
   "execution_count": 16,
   "id": "df853f20",
   "metadata": {
    "deletable": false,
    "id": "df853f20"
   },
   "outputs": [],
   "source": [
    "data = data.drop_duplicates()"
   ]
  },
  {
   "cell_type": "markdown",
   "id": "627be38f",
   "metadata": {
    "deletable": false,
    "editable": false,
    "id": "627be38f"
   },
   "source": [
    "### Категоризация данных"
   ]
  },
  {
   "cell_type": "markdown",
   "id": "4684c3e0",
   "metadata": {
    "deletable": false,
    "editable": false,
    "id": "4684c3e0"
   },
   "source": [
    "**Задание 16. На основании диапазонов, указанных ниже, создайте в датафрейме `data` столбец `total_income_category` с категориями:**\n",
    "\n",
    "- 0–30000 — `'E'`;\n",
    "- 30001–50000 — `'D'`;\n",
    "- 50001–200000 — `'C'`;\n",
    "- 200001–1000000 — `'B'`;\n",
    "- 1000001 и выше — `'A'`.\n",
    "\n",
    "\n",
    "**Например, кредитополучателю с доходом 25000 нужно назначить категорию `'E'`, а клиенту, получающему 235000, — `'B'`. Используйте собственную функцию с именем `categorize_income()` и метод `apply()`.**"
   ]
  },
  {
   "cell_type": "code",
   "execution_count": 17,
   "id": "78965238",
   "metadata": {
    "deletable": false,
    "id": "78965238"
   },
   "outputs": [],
   "source": [
    "def categorize_income(income):\n",
    "    try:\n",
    "        if 0 <= income <= 30000:\n",
    "            return 'E'\n",
    "        elif 30001 <= income <= 50000:\n",
    "            return 'D'\n",
    "        elif 50001 <= income <= 200000:\n",
    "            return 'C'\n",
    "        elif 200001 <= income <= 1000000:\n",
    "            return 'B'\n",
    "        elif income >= 1000001:\n",
    "            return 'A'\n",
    "    except:\n",
    "        pass"
   ]
  },
  {
   "cell_type": "code",
   "execution_count": 18,
   "id": "0980ada1",
   "metadata": {
    "deletable": false,
    "id": "0980ada1"
   },
   "outputs": [],
   "source": [
    "data['total_income_category'] = data['total_income'].apply(categorize_income)"
   ]
  },
  {
   "cell_type": "markdown",
   "id": "9917bba0",
   "metadata": {
    "deletable": false,
    "editable": false,
    "id": "9917bba0"
   },
   "source": [
    "**Задание 17. Выведите на экран перечень уникальных целей взятия кредита из столбца `purpose`.**"
   ]
  },
  {
   "cell_type": "code",
   "execution_count": 19,
   "id": "ee07b65e",
   "metadata": {
    "deletable": false,
    "id": "ee07b65e",
    "outputId": "673c12d9-7d7e-4ae0-9812-c622c89dd244"
   },
   "outputs": [
    {
     "data": {
      "text/plain": [
       "array(['покупка жилья', 'приобретение автомобиля',\n",
       "       'дополнительное образование', 'сыграть свадьбу',\n",
       "       'операции с жильем', 'образование', 'на проведение свадьбы',\n",
       "       'покупка жилья для семьи', 'покупка недвижимости',\n",
       "       'покупка коммерческой недвижимости', 'покупка жилой недвижимости',\n",
       "       'строительство собственной недвижимости', 'недвижимость',\n",
       "       'строительство недвижимости', 'на покупку подержанного автомобиля',\n",
       "       'на покупку своего автомобиля',\n",
       "       'операции с коммерческой недвижимостью',\n",
       "       'строительство жилой недвижимости', 'жилье',\n",
       "       'операции со своей недвижимостью', 'автомобили',\n",
       "       'заняться образованием', 'сделка с подержанным автомобилем',\n",
       "       'получение образования', 'автомобиль', 'свадьба',\n",
       "       'получение дополнительного образования', 'покупка своего жилья',\n",
       "       'операции с недвижимостью', 'получение высшего образования',\n",
       "       'свой автомобиль', 'сделка с автомобилем',\n",
       "       'профильное образование', 'высшее образование',\n",
       "       'покупка жилья для сдачи', 'на покупку автомобиля', 'ремонт жилью',\n",
       "       'заняться высшим образованием'], dtype=object)"
      ]
     },
     "execution_count": 19,
     "metadata": {},
     "output_type": "execute_result"
    }
   ],
   "source": [
    "data['purpose'].unique()"
   ]
  },
  {
   "cell_type": "markdown",
   "id": "52b79d56",
   "metadata": {
    "deletable": false,
    "editable": false,
    "id": "52b79d56"
   },
   "source": [
    "**Задание 18. Создайте функцию, которая на основании данных из столбца `purpose` сформирует новый столбец `purpose_category`, в который войдут следующие категории:**\n",
    "\n",
    "- `'операции с автомобилем'`,\n",
    "- `'операции с недвижимостью'`,\n",
    "- `'проведение свадьбы'`,\n",
    "- `'получение образования'`.\n",
    "\n",
    "**Например, если в столбце `purpose` находится подстрока `'на покупку автомобиля'`, то в столбце `purpose_category` должна появиться строка `'операции с автомобилем'`.**\n",
    "\n",
    "**Используйте собственную функцию с именем `categorize_purpose()` и метод `apply()`. Изучите данные в столбце `purpose` и определите, какие подстроки помогут вам правильно определить категорию.**"
   ]
  },
  {
   "cell_type": "code",
   "execution_count": 20,
   "id": "be41da5d",
   "metadata": {
    "deletable": false,
    "id": "be41da5d"
   },
   "outputs": [],
   "source": [
    "def categorize_purpose(row):\n",
    "    try:\n",
    "        if 'автом' in row:\n",
    "            return 'операции с автомобилем'\n",
    "        elif 'жил' in row or 'недвиж' in row:\n",
    "            return 'операции с недвижимостью'\n",
    "        elif 'свад' in row:\n",
    "            return 'проведение свадьбы'\n",
    "        elif 'образов' in row:\n",
    "            return 'получение образования'\n",
    "    except:\n",
    "        return 'нет категории'"
   ]
  },
  {
   "cell_type": "code",
   "execution_count": 21,
   "id": "94c4a19a",
   "metadata": {
    "deletable": false,
    "id": "94c4a19a"
   },
   "outputs": [],
   "source": [
    "data['purpose_category'] = data['purpose'].apply(categorize_purpose)"
   ]
  },
  {
   "cell_type": "markdown",
   "id": "3d596c34",
   "metadata": {
    "deletable": false,
    "editable": false,
    "id": "3d596c34"
   },
   "source": [
    "### Шаг 3. Исследуйте данные и ответьте на вопросы"
   ]
  },
  {
   "cell_type": "markdown",
   "id": "648db036",
   "metadata": {
    "deletable": false,
    "editable": false,
    "id": "648db036"
   },
   "source": [
    "#### 3.1 Есть ли зависимость между количеством детей и возвратом кредита в срок?"
   ]
  },
  {
   "cell_type": "code",
   "execution_count": 22,
   "id": "7fcff25e",
   "metadata": {
    "deletable": false,
    "id": "7fcff25e",
    "scrolled": false
   },
   "outputs": [
    {
     "data": {
      "text/html": [
       "<div>\n",
       "<style scoped>\n",
       "    .dataframe tbody tr th:only-of-type {\n",
       "        vertical-align: middle;\n",
       "    }\n",
       "\n",
       "    .dataframe tbody tr th {\n",
       "        vertical-align: top;\n",
       "    }\n",
       "\n",
       "    .dataframe thead th {\n",
       "        text-align: right;\n",
       "    }\n",
       "</style>\n",
       "<table border=\"1\" class=\"dataframe\">\n",
       "  <thead>\n",
       "    <tr style=\"text-align: right;\">\n",
       "      <th></th>\n",
       "      <th>Процент задолженостей</th>\n",
       "      <th>Количество кредитов группе</th>\n",
       "    </tr>\n",
       "    <tr>\n",
       "      <th>quantity_children</th>\n",
       "      <th></th>\n",
       "      <th></th>\n",
       "    </tr>\n",
       "  </thead>\n",
       "  <tbody>\n",
       "    <tr>\n",
       "      <th>два ребенка</th>\n",
       "      <td>9.45%</td>\n",
       "      <td>2052</td>\n",
       "    </tr>\n",
       "    <tr>\n",
       "      <th>один ребенок</th>\n",
       "      <td>9.23%</td>\n",
       "      <td>4808</td>\n",
       "    </tr>\n",
       "    <tr>\n",
       "      <th>многодетная семья</th>\n",
       "      <td>8.16%</td>\n",
       "      <td>380</td>\n",
       "    </tr>\n",
       "    <tr>\n",
       "      <th>нет детей</th>\n",
       "      <td>7.54%</td>\n",
       "      <td>14091</td>\n",
       "    </tr>\n",
       "  </tbody>\n",
       "</table>\n",
       "</div>"
      ],
      "text/plain": [
       "                  Процент задолженостей  Количество кредитов группе\n",
       "quantity_children                                                  \n",
       "два ребенка                       9.45%                        2052\n",
       "один ребенок                      9.23%                        4808\n",
       "многодетная семья                 8.16%                         380\n",
       "нет детей                         7.54%                       14091"
      ]
     },
     "execution_count": 22,
     "metadata": {},
     "output_type": "execute_result"
    }
   ],
   "source": [
    "def category_children(row):\n",
    "    if row == 0:\n",
    "        return 'нет детей'\n",
    "    elif row == 1:\n",
    "        return 'один ребенок'\n",
    "    elif row == 2:\n",
    "        return 'два ребенка'\n",
    "    else:\n",
    "        return 'многодетная семья'\n",
    "    \n",
    "data['quantity_children'] = data['children'].apply(category_children)\n",
    "\n",
    "svod_children = data.pivot_table(index = 'quantity_children', values = 'debt')\n",
    "svod_children['quantity_debt'] = data.groupby('quantity_children')['debt'].count()\n",
    "\n",
    "def percent(x):\n",
    "    return \"{0:.2%}\".format(x)\n",
    "\n",
    "svod_children['debt'] = svod_children['debt'].apply(percent)\n",
    "svod_children = svod_children.sort_values(by='debt', ascending=False)\n",
    "svod_children.rename(columns={'debt':'Процент задолженостей', 'quantity_debt':'Количество кредитов группе'})"
   ]
  },
  {
   "cell_type": "markdown",
   "id": "39fe728a",
   "metadata": {},
   "source": [
    "<div class=\"alert alert-success\">\n",
    "\n",
    "**Артём:** 👍 Молодец, что используешь сводную таблицу. \n",
    "\n",
    "</div>"
   ]
  },
  {
   "cell_type": "markdown",
   "id": "2eb9088e",
   "metadata": {
    "deletable": false,
    "id": "2eb9088e"
   },
   "source": [
    "**Вывод:** "
   ]
  },
  {
   "cell_type": "markdown",
   "id": "58806efe",
   "metadata": {},
   "source": [
    "Изначально количество детей в семье было сгруппировано в группу \"Многодетная семья\" для того, чтобы выделить семьи с 3 и более детьми. Это сделано, чтобы показать наглядно, что количество таких случаев в данных очень мало в сравнении с общим количеством, поэтому эту группу мы не будем брать в учет при расмотрении зависимости.\n",
    "\n",
    "Из таблицы можно сделать вывод, что семьи без детей меньше всего имеют процент задолженностей 7.54%, и количество таких случаев самое большое 14091, что подтверждает закономерность. Так же чем больше детей, тем больший процент задолженности \"один ребенок\" - 9.23%, \"два ребенка\" - 9.45%, исключая случаи многодетных семей 8.16%.\n"
   ]
  },
  {
   "cell_type": "markdown",
   "id": "17092af3",
   "metadata": {},
   "source": [
    "<div class=\"alert alert-success\">\n",
    "\n",
    "**Артём:** 👍 Верно.\n",
    "\n",
    "</div>"
   ]
  },
  {
   "cell_type": "markdown",
   "id": "74c9b3a7",
   "metadata": {
    "deletable": false,
    "editable": false,
    "id": "74c9b3a7"
   },
   "source": [
    "#### 3.2 Есть ли зависимость между семейным положением и возвратом кредита в срок?"
   ]
  },
  {
   "cell_type": "code",
   "execution_count": 23,
   "id": "8098ab3b",
   "metadata": {
    "deletable": false,
    "id": "8098ab3b",
    "scrolled": true
   },
   "outputs": [
    {
     "data": {
      "text/html": [
       "<div>\n",
       "<style scoped>\n",
       "    .dataframe tbody tr th:only-of-type {\n",
       "        vertical-align: middle;\n",
       "    }\n",
       "\n",
       "    .dataframe tbody tr th {\n",
       "        vertical-align: top;\n",
       "    }\n",
       "\n",
       "    .dataframe thead th {\n",
       "        text-align: right;\n",
       "    }\n",
       "</style>\n",
       "<table border=\"1\" class=\"dataframe\">\n",
       "  <thead>\n",
       "    <tr style=\"text-align: right;\">\n",
       "      <th></th>\n",
       "      <th>Процент задолженостей</th>\n",
       "      <th>Количество кредитов группе</th>\n",
       "    </tr>\n",
       "    <tr>\n",
       "      <th>family_status</th>\n",
       "      <th></th>\n",
       "      <th></th>\n",
       "    </tr>\n",
       "  </thead>\n",
       "  <tbody>\n",
       "    <tr>\n",
       "      <th>Не женат / не замужем</th>\n",
       "      <td>9.76%</td>\n",
       "      <td>2796</td>\n",
       "    </tr>\n",
       "    <tr>\n",
       "      <th>гражданский брак</th>\n",
       "      <td>9.31%</td>\n",
       "      <td>4134</td>\n",
       "    </tr>\n",
       "    <tr>\n",
       "      <th>женат / замужем</th>\n",
       "      <td>7.56%</td>\n",
       "      <td>12261</td>\n",
       "    </tr>\n",
       "    <tr>\n",
       "      <th>в разводе</th>\n",
       "      <td>7.06%</td>\n",
       "      <td>1189</td>\n",
       "    </tr>\n",
       "    <tr>\n",
       "      <th>вдовец / вдова</th>\n",
       "      <td>6.62%</td>\n",
       "      <td>951</td>\n",
       "    </tr>\n",
       "  </tbody>\n",
       "</table>\n",
       "</div>"
      ],
      "text/plain": [
       "                      Процент задолженостей  Количество кредитов группе\n",
       "family_status                                                          \n",
       "Не женат / не замужем                 9.76%                        2796\n",
       "гражданский брак                      9.31%                        4134\n",
       "женат / замужем                       7.56%                       12261\n",
       "в разводе                             7.06%                        1189\n",
       "вдовец / вдова                        6.62%                         951"
      ]
     },
     "execution_count": 23,
     "metadata": {},
     "output_type": "execute_result"
    }
   ],
   "source": [
    "svod_status = data.pivot_table(index = 'family_status', values = 'debt')\n",
    "svod_status['quantity_status'] = data.groupby('family_status')['debt'].count()\n",
    "\n",
    "def percent(x):\n",
    "    return \"{0:.2%}\".format(x)\n",
    "\n",
    "svod_status['debt'] = svod_status['debt'].apply(percent)\n",
    "svod_status = svod_status.sort_values(by='debt', ascending=False)\n",
    "svod_status.rename(columns={'debt':'Процент задолженостей', 'quantity_status':'Количество кредитов группе'})"
   ]
  },
  {
   "cell_type": "markdown",
   "id": "c389ca63",
   "metadata": {
    "deletable": false,
    "id": "c389ca63"
   },
   "source": [
    "**Вывод:** "
   ]
  },
  {
   "cell_type": "markdown",
   "id": "f6d4be9e",
   "metadata": {},
   "source": [
    "Больше всего должников среди групп: \"Не женат/не замужме\" и \"гражданский брак\" 9.76% и 9.31% соответсвенно. Самое низкое же количество задолженностей среди группы \"вдовец/вдова\", хотя количество случаем очень низкое в сравнение с общим количеством данных, поэтому именно в данном датасете считаю правильным считать, что самое низкое количество должников среди \"женат/замужем\" 7.56%, потому что выборка достаточна. "
   ]
  },
  {
   "cell_type": "markdown",
   "id": "0b70ee8f",
   "metadata": {},
   "source": [
    "<div class=\"alert alert-success\">\n",
    "\n",
    "**Артём:** 👍 Правильно.\n",
    "\n",
    "</div>"
   ]
  },
  {
   "cell_type": "markdown",
   "id": "9529de68",
   "metadata": {
    "deletable": false,
    "editable": false,
    "id": "9529de68"
   },
   "source": [
    "#### 3.3 Есть ли зависимость между уровнем дохода и возвратом кредита в срок?"
   ]
  },
  {
   "cell_type": "code",
   "execution_count": 24,
   "id": "8787f44a",
   "metadata": {
    "deletable": false,
    "id": "8787f44a",
    "scrolled": true
   },
   "outputs": [
    {
     "data": {
      "text/html": [
       "<div>\n",
       "<style scoped>\n",
       "    .dataframe tbody tr th:only-of-type {\n",
       "        vertical-align: middle;\n",
       "    }\n",
       "\n",
       "    .dataframe tbody tr th {\n",
       "        vertical-align: top;\n",
       "    }\n",
       "\n",
       "    .dataframe thead th {\n",
       "        text-align: right;\n",
       "    }\n",
       "</style>\n",
       "<table border=\"1\" class=\"dataframe\">\n",
       "  <thead>\n",
       "    <tr style=\"text-align: right;\">\n",
       "      <th></th>\n",
       "      <th>Процент задолженостей</th>\n",
       "      <th>Количество кредитов группе</th>\n",
       "    </tr>\n",
       "    <tr>\n",
       "      <th>total_income_category</th>\n",
       "      <th></th>\n",
       "      <th></th>\n",
       "    </tr>\n",
       "  </thead>\n",
       "  <tbody>\n",
       "    <tr>\n",
       "      <th>E</th>\n",
       "      <td>9.09%</td>\n",
       "      <td>22</td>\n",
       "    </tr>\n",
       "    <tr>\n",
       "      <th>C</th>\n",
       "      <td>8.50%</td>\n",
       "      <td>15921</td>\n",
       "    </tr>\n",
       "    <tr>\n",
       "      <th>A</th>\n",
       "      <td>8.00%</td>\n",
       "      <td>25</td>\n",
       "    </tr>\n",
       "    <tr>\n",
       "      <th>B</th>\n",
       "      <td>7.06%</td>\n",
       "      <td>5014</td>\n",
       "    </tr>\n",
       "    <tr>\n",
       "      <th>D</th>\n",
       "      <td>6.02%</td>\n",
       "      <td>349</td>\n",
       "    </tr>\n",
       "  </tbody>\n",
       "</table>\n",
       "</div>"
      ],
      "text/plain": [
       "                      Процент задолженостей  Количество кредитов группе\n",
       "total_income_category                                                  \n",
       "E                                     9.09%                          22\n",
       "C                                     8.50%                       15921\n",
       "A                                     8.00%                          25\n",
       "B                                     7.06%                        5014\n",
       "D                                     6.02%                         349"
      ]
     },
     "execution_count": 24,
     "metadata": {},
     "output_type": "execute_result"
    }
   ],
   "source": [
    "#0–30000 — 'E';\n",
    "#30001–50000 — 'D';\n",
    "#50001–200000 — 'C';\n",
    "#200001–1000000 — 'B';\n",
    "#1000001 и выше — 'A'.\n",
    "\n",
    "svod_lvl_income = data.pivot_table(index = 'total_income_category', values = 'debt')\n",
    "svod_lvl_income['quantity_income'] = data.groupby('total_income_category')['debt'].count()\n",
    "\n",
    "def percent(x):\n",
    "    return \"{0:.2%}\".format(x)\n",
    "\n",
    "svod_lvl_income['debt'] = svod_lvl_income['debt'].apply(percent)\n",
    "svod_lvl_income = svod_lvl_income.sort_values(by='debt', ascending=False)\n",
    "svod_lvl_income.rename(columns={'debt':'Процент задолженостей', 'quantity_income':'Количество кредитов группе'})"
   ]
  },
  {
   "cell_type": "markdown",
   "id": "6dd14b57",
   "metadata": {
    "deletable": false,
    "id": "6dd14b57"
   },
   "source": [
    "**Вывод:** "
   ]
  },
  {
   "cell_type": "markdown",
   "id": "9cf41a2e",
   "metadata": {},
   "source": [
    "Как мы видим из таблицы, категории уровня дохода \"E\" и \"A\" имеют очень низкое количество случаев, но можно сделать логичный вывод, что должников при уровне дохода \"0-30000\" наибольшее количество, потому что крайне низкая заработная плата. Если убрать две эти категории, то остаются \"C\" - средний уровень дохода, количество должников со средним уровнем дохода самое большое в предоставленных данных 8.5% из общего количества. И соответсвенно с ростом дохода уменьшается количество просроков \"B\" - 7.06%, группу \"D\" можно считать недостаточным количеством данных т.к доход является ниже среднего, а должников меньше всего 6.21%."
   ]
  },
  {
   "cell_type": "markdown",
   "id": "936a2922",
   "metadata": {},
   "source": [
    "<div class=\"alert alert-info\">\n",
    "\n",
    "#### **Артём:** 💡 Дам тебе совет на будущее, как лучше проводить категоризацию количественных данных. **В этом проекте переделывать ничего не надо, так как заказчик уже предложил свои категории.** Если только как дополнительное исследование.\n",
    "    \n",
    "Сейчас самая маленькая категория в 728 раз меньше самой большой. Это может отразиться на результатах исследования. Когда мы делим на категории количественные данные, то лучше их делать примерно одинаковыми. Для этого можно воспользоваться методом `qcut()`. Пример:\n",
    "    \n",
    "```py\n",
    "pd.qcut(df['total_income'], 4)\n",
    "```\n",
    "    \n",
    "```\n",
    "Name: total_income, Length: 21453, dtype: category\n",
    "Categories (4, interval[float64]): [(20666.999, 107620.0]  (107620.0, 142594.0]  (142594.0, 195818.0]  (195818.0, 2265604.0]]\n",
    "```\n",
    "                                                                                                               \n",
    "Что внутри: \n",
    "    \n",
    "```py\n",
    "pd.qcut(датафрейм['столбец'], количество_категорий)\n",
    "``` \n",
    "    \n",
    "Итого у нас 4 категории:\n",
    "<ul>\n",
    "  <li>меньше 107_620</li>\n",
    "  <li>от 107_620 до 142_594</li>\n",
    "  <li>от 142_594 до 195_818</li>\n",
    "  <li>от 195_818</li>\n",
    "</ul>"
   ]
  },
  {
   "cell_type": "markdown",
   "id": "41834ee2",
   "metadata": {},
   "source": [
    "Спасибо большое, очень полезный метод, в курсе его нет, но так и правда информация для анализа становиться более явной!"
   ]
  },
  {
   "cell_type": "markdown",
   "id": "10b25f0b",
   "metadata": {},
   "source": [
    "<div class=\"alert alert-success\">\n",
    "\n",
    "**Артём:** 👍 Согласен.\n",
    "\n",
    "</div>"
   ]
  },
  {
   "cell_type": "markdown",
   "id": "1dcc9b12",
   "metadata": {
    "deletable": false,
    "editable": false,
    "id": "1dcc9b12"
   },
   "source": [
    "#### 3.4 Как разные цели кредита влияют на его возврат в срок?"
   ]
  },
  {
   "cell_type": "code",
   "execution_count": 25,
   "id": "c602bc8b",
   "metadata": {
    "deletable": false,
    "id": "c602bc8b"
   },
   "outputs": [
    {
     "data": {
      "text/html": [
       "<div>\n",
       "<style scoped>\n",
       "    .dataframe tbody tr th:only-of-type {\n",
       "        vertical-align: middle;\n",
       "    }\n",
       "\n",
       "    .dataframe tbody tr th {\n",
       "        vertical-align: top;\n",
       "    }\n",
       "\n",
       "    .dataframe thead th {\n",
       "        text-align: right;\n",
       "    }\n",
       "</style>\n",
       "<table border=\"1\" class=\"dataframe\">\n",
       "  <thead>\n",
       "    <tr style=\"text-align: right;\">\n",
       "      <th></th>\n",
       "      <th>Процент задолженостей</th>\n",
       "      <th>Количество кредитов группе</th>\n",
       "    </tr>\n",
       "    <tr>\n",
       "      <th>purpose_category</th>\n",
       "      <th></th>\n",
       "      <th></th>\n",
       "    </tr>\n",
       "  </thead>\n",
       "  <tbody>\n",
       "    <tr>\n",
       "      <th>операции с автомобилем</th>\n",
       "      <td>9.35%</td>\n",
       "      <td>4279</td>\n",
       "    </tr>\n",
       "    <tr>\n",
       "      <th>получение образования</th>\n",
       "      <td>9.25%</td>\n",
       "      <td>3988</td>\n",
       "    </tr>\n",
       "    <tr>\n",
       "      <th>проведение свадьбы</th>\n",
       "      <td>7.91%</td>\n",
       "      <td>2313</td>\n",
       "    </tr>\n",
       "    <tr>\n",
       "      <th>операции с недвижимостью</th>\n",
       "      <td>7.26%</td>\n",
       "      <td>10751</td>\n",
       "    </tr>\n",
       "  </tbody>\n",
       "</table>\n",
       "</div>"
      ],
      "text/plain": [
       "                         Процент задолженостей  Количество кредитов группе\n",
       "purpose_category                                                          \n",
       "операции с автомобилем                   9.35%                        4279\n",
       "получение образования                    9.25%                        3988\n",
       "проведение свадьбы                       7.91%                        2313\n",
       "операции с недвижимостью                 7.26%                       10751"
      ]
     },
     "execution_count": 25,
     "metadata": {},
     "output_type": "execute_result"
    }
   ],
   "source": [
    "svod_lvl_income = data.pivot_table(index = 'purpose_category', values = 'debt')\n",
    "svod_lvl_income['quantity_category'] = data.groupby('purpose_category')['debt'].count()\n",
    "\n",
    "def percent(x):\n",
    "    return \"{0:.2%}\".format(x)\n",
    "\n",
    "svod_lvl_income['debt'] = svod_lvl_income['debt'].apply(percent)\n",
    "svod_lvl_income = svod_lvl_income.sort_values(by='debt', ascending=False)\n",
    "svod_lvl_income.rename(columns={'debt':'Процент задолженостей', 'quantity_category':'Количество кредитов группе'})"
   ]
  },
  {
   "cell_type": "markdown",
   "id": "cf05ed63",
   "metadata": {
    "deletable": false,
    "id": "cf05ed63"
   },
   "source": [
    "**Вывод:** "
   ]
  },
  {
   "cell_type": "markdown",
   "id": "4c004114",
   "metadata": {},
   "source": [
    "Данные очень явные и показательные, потому что все группы имеют достаточное количество данных для анализа. Видно, что \"операции с автомобилем\" имеют больше всего должников 9.35%, скорее всего это связано с расходоми на машину и с процентами на автокредиты, они значительно выше чем на недвижимость. Несмотря на то, что количество кредитов на недвижимость самое большое, процент должников самый низкий 7.26%, этому способствует низкая ставка, плюс возможность взять кредит на квартиру до 30 лет, благодаря этому всему платеж будет небольшим."
   ]
  },
  {
   "cell_type": "markdown",
   "id": "abcf9891",
   "metadata": {},
   "source": [
    "<div class=\"alert alert-success\">\n",
    "\n",
    "**Артём:** 👍 Верно.\n",
    "\n",
    "</div>"
   ]
  },
  {
   "cell_type": "markdown",
   "id": "46c1f10b",
   "metadata": {
    "deletable": false,
    "editable": false,
    "id": "46c1f10b"
   },
   "source": [
    "#### 3.5 Приведите возможные причины появления пропусков в исходных данных."
   ]
  },
  {
   "cell_type": "markdown",
   "id": "3697d2a9",
   "metadata": {
    "deletable": false,
    "id": "3697d2a9"
   },
   "source": [
    "*Ответ:* "
   ]
  },
  {
   "cell_type": "markdown",
   "id": "65d89fa6",
   "metadata": {},
   "source": [
    "Я думаю, что пропуски возникли из-за: \n",
    "1. Заемщики могли указать не все данные о себе намеренно, дабы скрыть информацию от банка.\n",
    "2. Банку могла не понадобиться какая-то информация о заемщиках из-за уровня дохода, например, или же большого рабочего стажа.\n",
    "3. Возможно еще кредит проходил по какой-либо специальной программе, что информацию туда была не нужна."
   ]
  },
  {
   "cell_type": "markdown",
   "id": "62c00eb7",
   "metadata": {},
   "source": [
    "<div class=\"alert alert-success\">\n",
    "\n",
    "**Артём:** 👍 Хорошо.\n",
    "  \n",
    "</div> \n",
    "\n",
    "<div class=\"alert alert-success\">\n",
    "\n",
    "**Артём:**  А какие еще варианты?\n",
    "    \n",
    "</div>\n",
    "<div class=\"alert alert-success\">\n",
    "\n",
    "**Артём:** 👍 Принято.\n",
    "\n",
    "</div>"
   ]
  },
  {
   "cell_type": "markdown",
   "id": "436d4fea",
   "metadata": {},
   "source": [
    "##### Дополнение по возможным причинам пропусков\n",
    "4. Ошибки оператора, который заполнял анкету.\n",
    "5. Банку могла не понадобиться информация о семейном положении или количестве детей из-за возроста, так же прибольшом первоначальном взносе уровень дохода можно не подтверждать. Таких вариаций может быть много, один из случаев описал в пункте 2.\n",
    "6. А что если еще один и тот же человек брал несколько кредитов в одном банке, а полная информация заполнена только в строке об одном кредите."
   ]
  },
  {
   "cell_type": "markdown",
   "id": "3137d257",
   "metadata": {
    "deletable": false,
    "editable": false,
    "id": "3137d257"
   },
   "source": [
    "#### 3.6 Объясните, почему заполнить пропуски медианным значением — лучшее решение для количественных переменных."
   ]
  },
  {
   "cell_type": "markdown",
   "id": "cf40012a",
   "metadata": {
    "deletable": false,
    "id": "cf40012a"
   },
   "source": [
    "*Ответ:* "
   ]
  },
  {
   "cell_type": "markdown",
   "id": "eb122285",
   "metadata": {},
   "source": [
    "Потому что данные могут быть заполнены любым распределением, только при Гауссовском и равномерно распредленении количественных переменных стоит брать среднее значение, а при любом другом надежнее брать медианное значение, потому что большое количество данных будет распределено либо в большую, либо в меньшую сторону.\n",
    "Наглядный пример:\n",
    "(1, 3, 5, 7, 8, 10, 12, 14, 16) - среднее значение будет 8.4, а медианное 8, те можно брать любое из двух\n",
    "(100, 100, 100, 100, 500) - среднее значение 180, а медианное 100, хорошо видно, что из-за одного завышенного значения, среднее сильно становиться больше, а, соответсвенно, заполнять пропуски, и проводить анализ данных с этим значение нельзя, тк данные будут неточными."
   ]
  },
  {
   "cell_type": "markdown",
   "id": "4b20ded5",
   "metadata": {},
   "source": [
    "<div class=\"alert alert-success\">\n",
    "\n",
    "**Артём:** 👍 Отлично.\n",
    "\n",
    "</div>"
   ]
  },
  {
   "cell_type": "markdown",
   "id": "57bc304e",
   "metadata": {
    "deletable": false,
    "editable": false,
    "id": "57bc304e"
   },
   "source": [
    "### Шаг 4: общий вывод."
   ]
  },
  {
   "cell_type": "markdown",
   "id": "1ab75d1c",
   "metadata": {
    "deletable": false,
    "id": "1ab75d1c"
   },
   "source": [
    "Напишите ваш общий вывод."
   ]
  },
  {
   "cell_type": "markdown",
   "id": "5d7e2c47",
   "metadata": {},
   "source": [
    "По части проектной работы \"Исследование данных\", можно сделать вывод о человеке с большей вероятностью просрока кредита - это человек без детей, в браке, с доходом от 200001 до 1000000, который берет кредит на недвижимость. Эта категория будет самой низкой группой риска для банка.\n",
    "\n",
    "Самой же высокой группой риска будет - человек имеющий 2х и более детей, не в браке, с доходом до 200000, который берет кредит на автомобиль."
   ]
  },
  {
   "cell_type": "markdown",
   "id": "8b8063d1",
   "metadata": {},
   "source": [
    "<div class=\"alert alert-success\">\n",
    "\n",
    "**Артём:** 👍 Молодец.\n",
    "\n",
    "</div>"
   ]
  },
  {
   "cell_type": "markdown",
   "id": "28c4396f",
   "metadata": {},
   "source": [
    "## 🏁 Итоги ревью\n",
    "<a id=\"results\"></a>\n",
    "[В начало](#start)\n",
    "\n",
    "<div class=\"alert alert-danger\">\n",
    "\n",
    "**Артём:** ❌ Илья, спасибо за работу. Осталось исправить 1 комментарий и можно идти к заказчику. Молодец! 👍\n",
    "    \n",
    "Для удобства, комментарии которые нужно скорректировать я добавил в меню **Contents** слева.\n",
    "    \n",
    "Жду новую версию проекта. 🙂\n",
    "\n",
    "</div>"
   ]
  },
  {
   "cell_type": "markdown",
   "id": "92b8e16e",
   "metadata": {},
   "source": [
    "Замечание исправлено!"
   ]
  },
  {
   "cell_type": "markdown",
   "id": "20902b87",
   "metadata": {},
   "source": [
    "<div class=\"alert alert-success\">\n",
    "\n",
    "**Артём:** 👍 Отлично.\n",
    "\n",
    "</div>"
   ]
  },
  {
   "cell_type": "markdown",
   "id": "6c687e88",
   "metadata": {},
   "source": [
    "<img src=\"https://lifeo.ru/wp-content/uploads/gif-salyut-10.gif\"> \n",
    "<div class=\"alert alert-success\">   \n",
    "\n",
    "**Артём:** ✌️ Илья, спасибо за работу и внесенные корректировки! Критических замечаний нет.\n",
    "\n",
    "Поздравляю, **проект принят!** 🥳 🎉 Ты молодец!\n",
    "\n",
    "Желаю тебе успехов в дальнейшем обучении. 😉\n",
    "    \n",
    "---\n",
    "    \n",
    "#### 📖 **Полезные ссылки**\n",
    "\n",
    "* [Работа в Яндексе](https://yandex.ru/jobs/pages/analytics_interview?ysclid=l84s63fs1g790141490)\n",
    "* [Настройте свой Jupyter Notebook правильно](https://medium.com/nuances-of-programming/настройте-свой-jupyter-notebook-правильно-faef14c89434)    \n",
    "* [Краткое руководство по Маркдауну](https://paulradzkov.com/2014/markdown_cheatsheet/?)\n",
    "* [PEP 8 – Style Guide for Python Code](https://www.python.org/dev/peps/pep-0008/)    \n",
    "* [Обработка пропусков в данных](https://loginom.ru/blog/missing)  \n",
    "* [Разделение данных с помощью qcut и cut в Pandas](https://dfedorov.spb.ru/pandas/Разделение%20данных%20в%20Pandas%20с%20помощью%20qcut%20и%20cut.html?)  \n",
    "* [Официальная документаци метода qcut](https://pandas.pydata.org/pandas-docs/stable/reference/api/pandas.qcut.html)  \n",
    "* [Подробное руководство по группировке и агрегированию с помощью pandas](https://dfedorov.spb.ru/pandas/Подробное%20руководство%20по%20группировке%20и%20агрегированию%20с%20помощью%20pandas.html?ysclid=lcmm6rtg2w602526506)\n",
    "* [Шпаргалка по визуализации данных в Python с помощью Plotly](https://habr.com/ru/articles/502958/) \n",
    "* [Задачки SQL](https://habr.com/ru/company/dcmiran/blog/500360/)    \n",
    "* [7 cайтов для оттачивания навыка написания SQL запросов на 2020 год](https://techrocks.ru/2019/11/22/7-sites-to-perfect-sql-query-writing-skills/)\n",
    "* [Главред помогает очистить текст от словесного мусора, проверяет на соответствие информационному стилю.](https://glvrd.ru)\n",
    "\n",
    "</div>"
   ]
  },
  {
   "cell_type": "code",
   "execution_count": null,
   "id": "74727b44",
   "metadata": {},
   "outputs": [],
   "source": []
  }
 ],
 "metadata": {
  "ExecuteTimeLog": [
   {
    "duration": 48,
    "start_time": "2023-07-24T06:01:18.949Z"
   },
   {
    "duration": 5,
    "start_time": "2023-07-24T06:01:36.148Z"
   },
   {
    "duration": 653,
    "start_time": "2023-07-24T06:01:39.629Z"
   },
   {
    "duration": 20,
    "start_time": "2023-07-24T06:01:40.283Z"
   },
   {
    "duration": 23,
    "start_time": "2023-07-24T06:01:40.304Z"
   },
   {
    "duration": 8,
    "start_time": "2023-07-24T06:01:40.329Z"
   },
   {
    "duration": 37,
    "start_time": "2023-07-24T06:01:40.339Z"
   },
   {
    "duration": 4,
    "start_time": "2023-07-24T06:01:40.378Z"
   },
   {
    "duration": 16,
    "start_time": "2023-07-24T06:01:40.383Z"
   },
   {
    "duration": 11,
    "start_time": "2023-07-24T06:01:40.400Z"
   },
   {
    "duration": 31,
    "start_time": "2023-07-24T06:01:40.412Z"
   },
   {
    "duration": 5,
    "start_time": "2023-07-24T06:01:40.445Z"
   },
   {
    "duration": 35,
    "start_time": "2023-07-24T06:01:40.451Z"
   },
   {
    "duration": 8,
    "start_time": "2023-07-24T06:01:40.488Z"
   },
   {
    "duration": 3,
    "start_time": "2023-07-24T06:01:40.497Z"
   },
   {
    "duration": 12,
    "start_time": "2023-07-24T06:01:40.501Z"
   },
   {
    "duration": 26,
    "start_time": "2023-07-24T06:01:40.514Z"
   },
   {
    "duration": 16,
    "start_time": "2023-07-24T06:01:40.541Z"
   },
   {
    "duration": 3,
    "start_time": "2023-07-24T06:01:40.559Z"
   },
   {
    "duration": 11,
    "start_time": "2023-07-24T06:01:40.563Z"
   },
   {
    "duration": 9,
    "start_time": "2023-07-24T06:01:40.576Z"
   },
   {
    "duration": 11,
    "start_time": "2023-07-24T06:01:40.586Z"
   },
   {
    "duration": 12,
    "start_time": "2023-07-24T06:01:40.599Z"
   },
   {
    "duration": 37,
    "start_time": "2023-07-24T06:01:40.613Z"
   },
   {
    "duration": 0,
    "start_time": "2023-07-24T06:01:40.651Z"
   },
   {
    "duration": 0,
    "start_time": "2023-07-24T06:01:40.652Z"
   },
   {
    "duration": 0,
    "start_time": "2023-07-24T06:01:40.653Z"
   },
   {
    "duration": 62,
    "start_time": "2023-07-24T06:06:04.327Z"
   },
   {
    "duration": 13,
    "start_time": "2023-07-24T06:06:04.390Z"
   },
   {
    "duration": 15,
    "start_time": "2023-07-24T06:06:04.404Z"
   },
   {
    "duration": 8,
    "start_time": "2023-07-24T06:06:04.420Z"
   },
   {
    "duration": 28,
    "start_time": "2023-07-24T06:06:04.429Z"
   },
   {
    "duration": 2,
    "start_time": "2023-07-24T06:06:04.459Z"
   },
   {
    "duration": 19,
    "start_time": "2023-07-24T06:06:04.462Z"
   },
   {
    "duration": 18,
    "start_time": "2023-07-24T06:06:04.482Z"
   },
   {
    "duration": 9,
    "start_time": "2023-07-24T06:06:04.501Z"
   },
   {
    "duration": 3,
    "start_time": "2023-07-24T06:06:04.512Z"
   },
   {
    "duration": 29,
    "start_time": "2023-07-24T06:06:04.516Z"
   },
   {
    "duration": 8,
    "start_time": "2023-07-24T06:06:04.546Z"
   },
   {
    "duration": 21,
    "start_time": "2023-07-24T06:06:04.555Z"
   },
   {
    "duration": 11,
    "start_time": "2023-07-24T06:06:04.577Z"
   },
   {
    "duration": 29,
    "start_time": "2023-07-24T06:06:04.590Z"
   },
   {
    "duration": 15,
    "start_time": "2023-07-24T06:06:04.620Z"
   },
   {
    "duration": 3,
    "start_time": "2023-07-24T06:06:04.636Z"
   },
   {
    "duration": 30,
    "start_time": "2023-07-24T06:06:04.640Z"
   },
   {
    "duration": 7,
    "start_time": "2023-07-24T06:06:04.671Z"
   },
   {
    "duration": 2,
    "start_time": "2023-07-24T06:06:04.680Z"
   },
   {
    "duration": 10,
    "start_time": "2023-07-24T06:06:04.683Z"
   },
   {
    "duration": 12,
    "start_time": "2023-07-24T06:06:04.694Z"
   },
   {
    "duration": 0,
    "start_time": "2023-07-24T06:06:04.708Z"
   },
   {
    "duration": 0,
    "start_time": "2023-07-24T06:06:04.709Z"
   },
   {
    "duration": 0,
    "start_time": "2023-07-24T06:06:04.710Z"
   },
   {
    "duration": 68,
    "start_time": "2023-07-24T06:08:01.641Z"
   },
   {
    "duration": 15,
    "start_time": "2023-07-24T06:08:01.710Z"
   },
   {
    "duration": 52,
    "start_time": "2023-07-24T06:08:01.726Z"
   },
   {
    "duration": 13,
    "start_time": "2023-07-24T06:08:01.780Z"
   },
   {
    "duration": 50,
    "start_time": "2023-07-24T06:08:01.794Z"
   },
   {
    "duration": 24,
    "start_time": "2023-07-24T06:08:01.845Z"
   },
   {
    "duration": 57,
    "start_time": "2023-07-24T06:08:01.871Z"
   },
   {
    "duration": 29,
    "start_time": "2023-07-24T06:08:01.929Z"
   },
   {
    "duration": 44,
    "start_time": "2023-07-24T06:08:01.960Z"
   },
   {
    "duration": 45,
    "start_time": "2023-07-24T06:08:02.007Z"
   },
   {
    "duration": 62,
    "start_time": "2023-07-24T06:08:02.054Z"
   },
   {
    "duration": 55,
    "start_time": "2023-07-24T06:08:02.117Z"
   },
   {
    "duration": 103,
    "start_time": "2023-07-24T06:08:02.174Z"
   },
   {
    "duration": 56,
    "start_time": "2023-07-24T06:08:02.278Z"
   },
   {
    "duration": 54,
    "start_time": "2023-07-24T06:08:02.336Z"
   },
   {
    "duration": 34,
    "start_time": "2023-07-24T06:08:02.391Z"
   },
   {
    "duration": 38,
    "start_time": "2023-07-24T06:08:02.427Z"
   },
   {
    "duration": 36,
    "start_time": "2023-07-24T06:08:02.466Z"
   },
   {
    "duration": 53,
    "start_time": "2023-07-24T06:08:02.503Z"
   },
   {
    "duration": 46,
    "start_time": "2023-07-24T06:08:02.557Z"
   },
   {
    "duration": 63,
    "start_time": "2023-07-24T06:08:02.605Z"
   },
   {
    "duration": 44,
    "start_time": "2023-07-24T06:08:02.670Z"
   },
   {
    "duration": 0,
    "start_time": "2023-07-24T06:08:02.715Z"
   },
   {
    "duration": 0,
    "start_time": "2023-07-24T06:08:02.716Z"
   },
   {
    "duration": 0,
    "start_time": "2023-07-24T06:08:02.717Z"
   },
   {
    "duration": 67,
    "start_time": "2023-07-24T06:08:46.087Z"
   },
   {
    "duration": 13,
    "start_time": "2023-07-24T06:08:46.156Z"
   },
   {
    "duration": 24,
    "start_time": "2023-07-24T06:08:46.170Z"
   },
   {
    "duration": 8,
    "start_time": "2023-07-24T06:08:46.196Z"
   },
   {
    "duration": 39,
    "start_time": "2023-07-24T06:08:46.205Z"
   },
   {
    "duration": 2,
    "start_time": "2023-07-24T06:08:46.246Z"
   },
   {
    "duration": 28,
    "start_time": "2023-07-24T06:08:46.250Z"
   },
   {
    "duration": 9,
    "start_time": "2023-07-24T06:08:46.279Z"
   },
   {
    "duration": 9,
    "start_time": "2023-07-24T06:08:46.289Z"
   },
   {
    "duration": 11,
    "start_time": "2023-07-24T06:08:46.300Z"
   },
   {
    "duration": 28,
    "start_time": "2023-07-24T06:08:46.312Z"
   },
   {
    "duration": 7,
    "start_time": "2023-07-24T06:08:46.342Z"
   },
   {
    "duration": 23,
    "start_time": "2023-07-24T06:08:46.351Z"
   },
   {
    "duration": 26,
    "start_time": "2023-07-24T06:08:46.376Z"
   },
   {
    "duration": 24,
    "start_time": "2023-07-24T06:08:46.403Z"
   },
   {
    "duration": 16,
    "start_time": "2023-07-24T06:08:46.429Z"
   },
   {
    "duration": 3,
    "start_time": "2023-07-24T06:08:46.446Z"
   },
   {
    "duration": 17,
    "start_time": "2023-07-24T06:08:46.451Z"
   },
   {
    "duration": 26,
    "start_time": "2023-07-24T06:08:46.469Z"
   },
   {
    "duration": 9,
    "start_time": "2023-07-24T06:08:46.497Z"
   },
   {
    "duration": 26,
    "start_time": "2023-07-24T06:08:46.507Z"
   },
   {
    "duration": 19,
    "start_time": "2023-07-24T06:08:46.534Z"
   },
   {
    "duration": 2,
    "start_time": "2023-07-24T06:08:46.555Z"
   },
   {
    "duration": 12,
    "start_time": "2023-07-24T06:08:46.558Z"
   },
   {
    "duration": 8,
    "start_time": "2023-07-24T06:08:46.571Z"
   },
   {
    "duration": 63,
    "start_time": "2023-07-24T06:12:23.270Z"
   },
   {
    "duration": 13,
    "start_time": "2023-07-24T06:12:23.335Z"
   },
   {
    "duration": 20,
    "start_time": "2023-07-24T06:12:23.349Z"
   },
   {
    "duration": 8,
    "start_time": "2023-07-24T06:12:23.371Z"
   },
   {
    "duration": 35,
    "start_time": "2023-07-24T06:12:23.380Z"
   },
   {
    "duration": 3,
    "start_time": "2023-07-24T06:12:23.416Z"
   },
   {
    "duration": 12,
    "start_time": "2023-07-24T06:12:23.421Z"
   },
   {
    "duration": 6,
    "start_time": "2023-07-24T06:12:23.435Z"
   },
   {
    "duration": 22,
    "start_time": "2023-07-24T06:12:23.442Z"
   },
   {
    "duration": 25,
    "start_time": "2023-07-24T06:12:23.466Z"
   },
   {
    "duration": 50,
    "start_time": "2023-07-24T06:12:23.492Z"
   },
   {
    "duration": 8,
    "start_time": "2023-07-24T06:12:23.543Z"
   },
   {
    "duration": 12,
    "start_time": "2023-07-24T06:12:23.552Z"
   },
   {
    "duration": 27,
    "start_time": "2023-07-24T06:12:23.565Z"
   },
   {
    "duration": 27,
    "start_time": "2023-07-24T06:12:23.593Z"
   },
   {
    "duration": 16,
    "start_time": "2023-07-24T06:12:23.622Z"
   },
   {
    "duration": 8,
    "start_time": "2023-07-24T06:12:23.639Z"
   },
   {
    "duration": 12,
    "start_time": "2023-07-24T06:12:23.648Z"
   },
   {
    "duration": 14,
    "start_time": "2023-07-24T06:12:23.661Z"
   },
   {
    "duration": 19,
    "start_time": "2023-07-24T06:12:23.676Z"
   },
   {
    "duration": 17,
    "start_time": "2023-07-24T06:12:23.698Z"
   },
   {
    "duration": 12,
    "start_time": "2023-07-24T06:12:23.716Z"
   },
   {
    "duration": 12,
    "start_time": "2023-07-24T06:12:23.729Z"
   },
   {
    "duration": 20,
    "start_time": "2023-07-24T06:12:23.742Z"
   },
   {
    "duration": 5,
    "start_time": "2023-07-24T06:12:23.763Z"
   },
   {
    "duration": 65,
    "start_time": "2023-07-24T06:13:29.279Z"
   },
   {
    "duration": 13,
    "start_time": "2023-07-24T06:13:29.345Z"
   },
   {
    "duration": 34,
    "start_time": "2023-07-24T06:13:29.360Z"
   },
   {
    "duration": 12,
    "start_time": "2023-07-24T06:13:29.395Z"
   },
   {
    "duration": 50,
    "start_time": "2023-07-24T06:13:29.408Z"
   },
   {
    "duration": 4,
    "start_time": "2023-07-24T06:13:29.459Z"
   },
   {
    "duration": 12,
    "start_time": "2023-07-24T06:13:29.464Z"
   },
   {
    "duration": 18,
    "start_time": "2023-07-24T06:13:29.477Z"
   },
   {
    "duration": 11,
    "start_time": "2023-07-24T06:13:29.496Z"
   },
   {
    "duration": 12,
    "start_time": "2023-07-24T06:13:29.509Z"
   },
   {
    "duration": 39,
    "start_time": "2023-07-24T06:13:29.522Z"
   },
   {
    "duration": 8,
    "start_time": "2023-07-24T06:13:29.563Z"
   },
   {
    "duration": 10,
    "start_time": "2023-07-24T06:13:29.572Z"
   },
   {
    "duration": 14,
    "start_time": "2023-07-24T06:13:29.583Z"
   },
   {
    "duration": 16,
    "start_time": "2023-07-24T06:13:29.599Z"
   },
   {
    "duration": 16,
    "start_time": "2023-07-24T06:13:29.617Z"
   },
   {
    "duration": 3,
    "start_time": "2023-07-24T06:13:29.635Z"
   },
   {
    "duration": 18,
    "start_time": "2023-07-24T06:13:29.639Z"
   },
   {
    "duration": 8,
    "start_time": "2023-07-24T06:13:29.658Z"
   },
   {
    "duration": 3,
    "start_time": "2023-07-24T06:13:29.667Z"
   },
   {
    "duration": 9,
    "start_time": "2023-07-24T06:13:29.671Z"
   },
   {
    "duration": 26,
    "start_time": "2023-07-24T06:13:29.681Z"
   },
   {
    "duration": 0,
    "start_time": "2023-07-24T06:13:29.709Z"
   },
   {
    "duration": 0,
    "start_time": "2023-07-24T06:13:29.710Z"
   },
   {
    "duration": 0,
    "start_time": "2023-07-24T06:13:29.710Z"
   },
   {
    "duration": 65,
    "start_time": "2023-07-24T06:13:47.924Z"
   },
   {
    "duration": 15,
    "start_time": "2023-07-24T06:13:47.990Z"
   },
   {
    "duration": 36,
    "start_time": "2023-07-24T06:13:48.006Z"
   },
   {
    "duration": 23,
    "start_time": "2023-07-24T06:13:48.044Z"
   },
   {
    "duration": 33,
    "start_time": "2023-07-24T06:13:48.069Z"
   },
   {
    "duration": 3,
    "start_time": "2023-07-24T06:13:48.103Z"
   },
   {
    "duration": 37,
    "start_time": "2023-07-24T06:13:48.107Z"
   },
   {
    "duration": 24,
    "start_time": "2023-07-24T06:13:48.145Z"
   },
   {
    "duration": 16,
    "start_time": "2023-07-24T06:13:48.170Z"
   },
   {
    "duration": 13,
    "start_time": "2023-07-24T06:13:48.190Z"
   },
   {
    "duration": 36,
    "start_time": "2023-07-24T06:13:48.205Z"
   },
   {
    "duration": 13,
    "start_time": "2023-07-24T06:13:48.243Z"
   },
   {
    "duration": 3,
    "start_time": "2023-07-24T06:13:48.258Z"
   },
   {
    "duration": 25,
    "start_time": "2023-07-24T06:13:48.262Z"
   },
   {
    "duration": 47,
    "start_time": "2023-07-24T06:13:48.288Z"
   },
   {
    "duration": 18,
    "start_time": "2023-07-24T06:13:48.336Z"
   },
   {
    "duration": 13,
    "start_time": "2023-07-24T06:13:48.356Z"
   },
   {
    "duration": 19,
    "start_time": "2023-07-24T06:13:48.370Z"
   },
   {
    "duration": 9,
    "start_time": "2023-07-24T06:13:48.391Z"
   },
   {
    "duration": 13,
    "start_time": "2023-07-24T06:13:48.401Z"
   },
   {
    "duration": 14,
    "start_time": "2023-07-24T06:13:48.416Z"
   },
   {
    "duration": 28,
    "start_time": "2023-07-24T06:13:48.431Z"
   },
   {
    "duration": 3,
    "start_time": "2023-07-24T06:13:48.460Z"
   },
   {
    "duration": 25,
    "start_time": "2023-07-24T06:13:48.465Z"
   },
   {
    "duration": 40,
    "start_time": "2023-07-24T06:13:48.492Z"
   },
   {
    "duration": 63,
    "start_time": "2023-07-24T06:16:29.226Z"
   },
   {
    "duration": 13,
    "start_time": "2023-07-24T06:16:29.290Z"
   },
   {
    "duration": 13,
    "start_time": "2023-07-24T06:16:29.304Z"
   },
   {
    "duration": 7,
    "start_time": "2023-07-24T06:16:29.319Z"
   },
   {
    "duration": 26,
    "start_time": "2023-07-24T06:16:29.327Z"
   },
   {
    "duration": 3,
    "start_time": "2023-07-24T06:16:29.354Z"
   },
   {
    "duration": 9,
    "start_time": "2023-07-24T06:16:29.358Z"
   },
   {
    "duration": 4,
    "start_time": "2023-07-24T06:16:29.368Z"
   },
   {
    "duration": 5,
    "start_time": "2023-07-24T06:16:29.399Z"
   },
   {
    "duration": 12,
    "start_time": "2023-07-24T06:16:29.406Z"
   },
   {
    "duration": 35,
    "start_time": "2023-07-24T06:16:29.419Z"
   },
   {
    "duration": 8,
    "start_time": "2023-07-24T06:16:29.455Z"
   },
   {
    "duration": 3,
    "start_time": "2023-07-24T06:16:29.465Z"
   },
   {
    "duration": 32,
    "start_time": "2023-07-24T06:16:29.469Z"
   },
   {
    "duration": 20,
    "start_time": "2023-07-24T06:16:29.502Z"
   },
   {
    "duration": 19,
    "start_time": "2023-07-24T06:16:29.524Z"
   },
   {
    "duration": 4,
    "start_time": "2023-07-24T06:16:29.545Z"
   },
   {
    "duration": 20,
    "start_time": "2023-07-24T06:16:29.550Z"
   },
   {
    "duration": 9,
    "start_time": "2023-07-24T06:16:29.572Z"
   },
   {
    "duration": 3,
    "start_time": "2023-07-24T06:16:29.582Z"
   },
   {
    "duration": 27,
    "start_time": "2023-07-24T06:16:29.587Z"
   },
   {
    "duration": 150,
    "start_time": "2023-07-24T06:16:29.615Z"
   },
   {
    "duration": 0,
    "start_time": "2023-07-24T06:16:29.767Z"
   },
   {
    "duration": 0,
    "start_time": "2023-07-24T06:16:29.768Z"
   },
   {
    "duration": 0,
    "start_time": "2023-07-24T06:16:29.769Z"
   },
   {
    "duration": 62,
    "start_time": "2023-07-24T06:16:40.453Z"
   },
   {
    "duration": 14,
    "start_time": "2023-07-24T06:16:40.517Z"
   },
   {
    "duration": 38,
    "start_time": "2023-07-24T06:16:40.532Z"
   },
   {
    "duration": 17,
    "start_time": "2023-07-24T06:16:40.572Z"
   },
   {
    "duration": 51,
    "start_time": "2023-07-24T06:16:40.590Z"
   },
   {
    "duration": 3,
    "start_time": "2023-07-24T06:16:40.642Z"
   },
   {
    "duration": 37,
    "start_time": "2023-07-24T06:16:40.646Z"
   },
   {
    "duration": 34,
    "start_time": "2023-07-24T06:16:40.685Z"
   },
   {
    "duration": 29,
    "start_time": "2023-07-24T06:16:40.721Z"
   },
   {
    "duration": 17,
    "start_time": "2023-07-24T06:16:40.753Z"
   },
   {
    "duration": 52,
    "start_time": "2023-07-24T06:16:40.771Z"
   },
   {
    "duration": 8,
    "start_time": "2023-07-24T06:16:40.824Z"
   },
   {
    "duration": 15,
    "start_time": "2023-07-24T06:16:40.834Z"
   },
   {
    "duration": 53,
    "start_time": "2023-07-24T06:16:40.851Z"
   },
   {
    "duration": 151,
    "start_time": "2023-07-24T06:16:40.906Z"
   },
   {
    "duration": 26,
    "start_time": "2023-07-24T06:16:41.058Z"
   },
   {
    "duration": 3,
    "start_time": "2023-07-24T06:16:41.085Z"
   },
   {
    "duration": 32,
    "start_time": "2023-07-24T06:16:41.090Z"
   },
   {
    "duration": 6,
    "start_time": "2023-07-24T06:16:41.123Z"
   },
   {
    "duration": 27,
    "start_time": "2023-07-24T06:16:41.130Z"
   },
   {
    "duration": 33,
    "start_time": "2023-07-24T06:16:41.158Z"
   },
   {
    "duration": 127,
    "start_time": "2023-07-24T06:16:41.193Z"
   },
   {
    "duration": 0,
    "start_time": "2023-07-24T06:16:41.321Z"
   },
   {
    "duration": 0,
    "start_time": "2023-07-24T06:16:41.322Z"
   },
   {
    "duration": 0,
    "start_time": "2023-07-24T06:16:41.323Z"
   },
   {
    "duration": 61,
    "start_time": "2023-07-24T06:17:20.726Z"
   },
   {
    "duration": 12,
    "start_time": "2023-07-24T06:17:20.789Z"
   },
   {
    "duration": 22,
    "start_time": "2023-07-24T06:17:20.803Z"
   },
   {
    "duration": 12,
    "start_time": "2023-07-24T06:17:20.827Z"
   },
   {
    "duration": 39,
    "start_time": "2023-07-24T06:17:20.840Z"
   },
   {
    "duration": 3,
    "start_time": "2023-07-24T06:17:20.881Z"
   },
   {
    "duration": 14,
    "start_time": "2023-07-24T06:17:20.885Z"
   },
   {
    "duration": 7,
    "start_time": "2023-07-24T06:17:20.901Z"
   },
   {
    "duration": 23,
    "start_time": "2023-07-24T06:17:20.909Z"
   },
   {
    "duration": 13,
    "start_time": "2023-07-24T06:17:20.934Z"
   },
   {
    "duration": 35,
    "start_time": "2023-07-24T06:17:20.948Z"
   },
   {
    "duration": 12,
    "start_time": "2023-07-24T06:17:20.985Z"
   },
   {
    "duration": 6,
    "start_time": "2023-07-24T06:17:20.998Z"
   },
   {
    "duration": 19,
    "start_time": "2023-07-24T06:17:21.006Z"
   },
   {
    "duration": 27,
    "start_time": "2023-07-24T06:17:21.026Z"
   },
   {
    "duration": 16,
    "start_time": "2023-07-24T06:17:21.054Z"
   },
   {
    "duration": 3,
    "start_time": "2023-07-24T06:17:21.071Z"
   },
   {
    "duration": 14,
    "start_time": "2023-07-24T06:17:21.076Z"
   },
   {
    "duration": 21,
    "start_time": "2023-07-24T06:17:21.092Z"
   },
   {
    "duration": 8,
    "start_time": "2023-07-24T06:17:21.114Z"
   },
   {
    "duration": 14,
    "start_time": "2023-07-24T06:17:21.123Z"
   },
   {
    "duration": 14,
    "start_time": "2023-07-24T06:17:21.138Z"
   },
   {
    "duration": 2,
    "start_time": "2023-07-24T06:17:21.153Z"
   },
   {
    "duration": 21,
    "start_time": "2023-07-24T06:17:21.156Z"
   },
   {
    "duration": 19,
    "start_time": "2023-07-24T06:17:21.178Z"
   },
   {
    "duration": 59,
    "start_time": "2023-07-24T06:18:38.190Z"
   },
   {
    "duration": 12,
    "start_time": "2023-07-24T06:18:38.251Z"
   },
   {
    "duration": 28,
    "start_time": "2023-07-24T06:18:38.264Z"
   },
   {
    "duration": 13,
    "start_time": "2023-07-24T06:18:38.294Z"
   },
   {
    "duration": 40,
    "start_time": "2023-07-24T06:18:38.308Z"
   },
   {
    "duration": 2,
    "start_time": "2023-07-24T06:18:38.349Z"
   },
   {
    "duration": 31,
    "start_time": "2023-07-24T06:18:38.353Z"
   },
   {
    "duration": 15,
    "start_time": "2023-07-24T06:18:38.385Z"
   },
   {
    "duration": 19,
    "start_time": "2023-07-24T06:18:38.401Z"
   },
   {
    "duration": 7,
    "start_time": "2023-07-24T06:18:38.423Z"
   },
   {
    "duration": 37,
    "start_time": "2023-07-24T06:18:38.431Z"
   },
   {
    "duration": 9,
    "start_time": "2023-07-24T06:18:38.469Z"
   },
   {
    "duration": 15,
    "start_time": "2023-07-24T06:18:38.479Z"
   },
   {
    "duration": 21,
    "start_time": "2023-07-24T06:18:38.496Z"
   },
   {
    "duration": 37,
    "start_time": "2023-07-24T06:18:38.518Z"
   },
   {
    "duration": 15,
    "start_time": "2023-07-24T06:18:38.557Z"
   },
   {
    "duration": 8,
    "start_time": "2023-07-24T06:18:38.574Z"
   },
   {
    "duration": 25,
    "start_time": "2023-07-24T06:18:38.584Z"
   },
   {
    "duration": 18,
    "start_time": "2023-07-24T06:18:38.610Z"
   },
   {
    "duration": 18,
    "start_time": "2023-07-24T06:18:38.629Z"
   },
   {
    "duration": 31,
    "start_time": "2023-07-24T06:18:38.648Z"
   },
   {
    "duration": 20,
    "start_time": "2023-07-24T06:18:38.680Z"
   },
   {
    "duration": 0,
    "start_time": "2023-07-24T06:18:38.702Z"
   },
   {
    "duration": 0,
    "start_time": "2023-07-24T06:18:38.703Z"
   },
   {
    "duration": 0,
    "start_time": "2023-07-24T06:18:38.704Z"
   },
   {
    "duration": 62,
    "start_time": "2023-07-24T06:22:54.380Z"
   },
   {
    "duration": 13,
    "start_time": "2023-07-24T06:22:54.443Z"
   },
   {
    "duration": 24,
    "start_time": "2023-07-24T06:22:54.458Z"
   },
   {
    "duration": 15,
    "start_time": "2023-07-24T06:22:54.485Z"
   },
   {
    "duration": 29,
    "start_time": "2023-07-24T06:22:54.501Z"
   },
   {
    "duration": 3,
    "start_time": "2023-07-24T06:22:54.531Z"
   },
   {
    "duration": 12,
    "start_time": "2023-07-24T06:22:54.535Z"
   },
   {
    "duration": 8,
    "start_time": "2023-07-24T06:22:54.548Z"
   },
   {
    "duration": 8,
    "start_time": "2023-07-24T06:22:54.557Z"
   },
   {
    "duration": 5,
    "start_time": "2023-07-24T06:22:54.567Z"
   },
   {
    "duration": 61,
    "start_time": "2023-07-24T06:22:54.573Z"
   },
   {
    "duration": 8,
    "start_time": "2023-07-24T06:22:54.636Z"
   },
   {
    "duration": 10,
    "start_time": "2023-07-24T06:22:54.646Z"
   },
   {
    "duration": 10,
    "start_time": "2023-07-24T06:22:54.657Z"
   },
   {
    "duration": 31,
    "start_time": "2023-07-24T06:22:54.669Z"
   },
   {
    "duration": 25,
    "start_time": "2023-07-24T06:22:54.702Z"
   },
   {
    "duration": 3,
    "start_time": "2023-07-24T06:22:54.729Z"
   },
   {
    "duration": 23,
    "start_time": "2023-07-24T06:22:54.734Z"
   },
   {
    "duration": 7,
    "start_time": "2023-07-24T06:22:54.758Z"
   },
   {
    "duration": 13,
    "start_time": "2023-07-24T06:22:54.766Z"
   },
   {
    "duration": 29,
    "start_time": "2023-07-24T06:22:54.780Z"
   },
   {
    "duration": 34,
    "start_time": "2023-07-24T06:22:54.810Z"
   },
   {
    "duration": 15,
    "start_time": "2023-07-24T06:22:54.846Z"
   },
   {
    "duration": 32,
    "start_time": "2023-07-24T06:22:54.863Z"
   },
   {
    "duration": 29,
    "start_time": "2023-07-24T06:22:54.897Z"
   },
   {
    "duration": 61,
    "start_time": "2023-07-24T06:45:23.238Z"
   },
   {
    "duration": 13,
    "start_time": "2023-07-24T06:45:23.301Z"
   },
   {
    "duration": 13,
    "start_time": "2023-07-24T06:45:23.315Z"
   },
   {
    "duration": 22,
    "start_time": "2023-07-24T06:45:23.330Z"
   },
   {
    "duration": 28,
    "start_time": "2023-07-24T06:45:23.354Z"
   },
   {
    "duration": 3,
    "start_time": "2023-07-24T06:45:23.383Z"
   },
   {
    "duration": 17,
    "start_time": "2023-07-24T06:45:23.387Z"
   },
   {
    "duration": 3,
    "start_time": "2023-07-24T06:45:23.405Z"
   },
   {
    "duration": 5,
    "start_time": "2023-07-24T06:45:23.410Z"
   },
   {
    "duration": 5,
    "start_time": "2023-07-24T06:45:23.417Z"
   },
   {
    "duration": 54,
    "start_time": "2023-07-24T06:45:23.423Z"
   },
   {
    "duration": 28,
    "start_time": "2023-07-24T06:45:23.479Z"
   },
   {
    "duration": 5,
    "start_time": "2023-07-24T06:45:23.508Z"
   },
   {
    "duration": 19,
    "start_time": "2023-07-24T06:45:23.514Z"
   },
   {
    "duration": 27,
    "start_time": "2023-07-24T06:45:23.534Z"
   },
   {
    "duration": 52,
    "start_time": "2023-07-24T06:45:23.562Z"
   },
   {
    "duration": 60,
    "start_time": "2023-07-24T06:45:23.615Z"
   },
   {
    "duration": 12,
    "start_time": "2023-07-24T06:45:23.677Z"
   },
   {
    "duration": 6,
    "start_time": "2023-07-24T06:45:23.690Z"
   },
   {
    "duration": 11,
    "start_time": "2023-07-24T06:45:23.700Z"
   },
   {
    "duration": 13,
    "start_time": "2023-07-24T06:45:23.713Z"
   },
   {
    "duration": 10,
    "start_time": "2023-07-24T06:45:23.728Z"
   },
   {
    "duration": 0,
    "start_time": "2023-07-24T06:45:23.739Z"
   },
   {
    "duration": 0,
    "start_time": "2023-07-24T06:45:23.740Z"
   },
   {
    "duration": 0,
    "start_time": "2023-07-24T06:45:23.742Z"
   },
   {
    "duration": 70,
    "start_time": "2023-07-24T06:45:59.977Z"
   },
   {
    "duration": 17,
    "start_time": "2023-07-24T06:46:00.050Z"
   },
   {
    "duration": 94,
    "start_time": "2023-07-24T06:46:00.069Z"
   },
   {
    "duration": 91,
    "start_time": "2023-07-24T06:46:00.165Z"
   },
   {
    "duration": 125,
    "start_time": "2023-07-24T06:46:00.257Z"
   },
   {
    "duration": 82,
    "start_time": "2023-07-24T06:46:00.384Z"
   },
   {
    "duration": 114,
    "start_time": "2023-07-24T06:46:00.467Z"
   },
   {
    "duration": 44,
    "start_time": "2023-07-24T06:46:00.583Z"
   },
   {
    "duration": 46,
    "start_time": "2023-07-24T06:46:00.629Z"
   },
   {
    "duration": 42,
    "start_time": "2023-07-24T06:46:00.677Z"
   },
   {
    "duration": 85,
    "start_time": "2023-07-24T06:46:00.721Z"
   },
   {
    "duration": 15,
    "start_time": "2023-07-24T06:46:00.808Z"
   },
   {
    "duration": 60,
    "start_time": "2023-07-24T06:46:00.824Z"
   },
   {
    "duration": 93,
    "start_time": "2023-07-24T06:46:00.885Z"
   },
   {
    "duration": 50,
    "start_time": "2023-07-24T06:46:00.979Z"
   },
   {
    "duration": 97,
    "start_time": "2023-07-24T06:46:01.031Z"
   },
   {
    "duration": 84,
    "start_time": "2023-07-24T06:46:01.130Z"
   },
   {
    "duration": 47,
    "start_time": "2023-07-24T06:46:01.215Z"
   },
   {
    "duration": 65,
    "start_time": "2023-07-24T06:46:01.264Z"
   },
   {
    "duration": 81,
    "start_time": "2023-07-24T06:46:01.330Z"
   },
   {
    "duration": 60,
    "start_time": "2023-07-24T06:46:01.412Z"
   },
   {
    "duration": 36,
    "start_time": "2023-07-24T06:46:01.473Z"
   },
   {
    "duration": 0,
    "start_time": "2023-07-24T06:46:01.510Z"
   },
   {
    "duration": 0,
    "start_time": "2023-07-24T06:46:01.512Z"
   },
   {
    "duration": 0,
    "start_time": "2023-07-24T06:46:01.513Z"
   },
   {
    "duration": 62,
    "start_time": "2023-07-24T06:46:25.635Z"
   },
   {
    "duration": 12,
    "start_time": "2023-07-24T06:46:25.699Z"
   },
   {
    "duration": 13,
    "start_time": "2023-07-24T06:46:25.712Z"
   },
   {
    "duration": 9,
    "start_time": "2023-07-24T06:46:25.727Z"
   },
   {
    "duration": 35,
    "start_time": "2023-07-24T06:46:25.737Z"
   },
   {
    "duration": 3,
    "start_time": "2023-07-24T06:46:25.774Z"
   },
   {
    "duration": 8,
    "start_time": "2023-07-24T06:46:25.799Z"
   },
   {
    "duration": 5,
    "start_time": "2023-07-24T06:46:25.808Z"
   },
   {
    "duration": 6,
    "start_time": "2023-07-24T06:46:25.814Z"
   },
   {
    "duration": 9,
    "start_time": "2023-07-24T06:46:25.823Z"
   },
   {
    "duration": 32,
    "start_time": "2023-07-24T06:46:25.833Z"
   },
   {
    "duration": 37,
    "start_time": "2023-07-24T06:46:25.867Z"
   },
   {
    "duration": 23,
    "start_time": "2023-07-24T06:46:25.906Z"
   },
   {
    "duration": 22,
    "start_time": "2023-07-24T06:46:25.931Z"
   },
   {
    "duration": 48,
    "start_time": "2023-07-24T06:46:25.955Z"
   },
   {
    "duration": 25,
    "start_time": "2023-07-24T06:46:26.005Z"
   },
   {
    "duration": 5,
    "start_time": "2023-07-24T06:46:26.032Z"
   },
   {
    "duration": 12,
    "start_time": "2023-07-24T06:46:26.039Z"
   },
   {
    "duration": 24,
    "start_time": "2023-07-24T06:46:26.053Z"
   },
   {
    "duration": 12,
    "start_time": "2023-07-24T06:46:26.078Z"
   },
   {
    "duration": 22,
    "start_time": "2023-07-24T06:46:26.092Z"
   },
   {
    "duration": 23,
    "start_time": "2023-07-24T06:46:26.117Z"
   },
   {
    "duration": 7,
    "start_time": "2023-07-24T06:46:26.142Z"
   },
   {
    "duration": 26,
    "start_time": "2023-07-24T06:46:26.152Z"
   },
   {
    "duration": 22,
    "start_time": "2023-07-24T06:46:26.180Z"
   },
   {
    "duration": 61,
    "start_time": "2023-07-24T06:49:23.950Z"
   },
   {
    "duration": 14,
    "start_time": "2023-07-24T06:49:24.013Z"
   },
   {
    "duration": 14,
    "start_time": "2023-07-24T06:49:24.028Z"
   },
   {
    "duration": 12,
    "start_time": "2023-07-24T06:49:24.044Z"
   },
   {
    "duration": 44,
    "start_time": "2023-07-24T06:49:24.057Z"
   },
   {
    "duration": 3,
    "start_time": "2023-07-24T06:49:24.102Z"
   },
   {
    "duration": 8,
    "start_time": "2023-07-24T06:49:24.107Z"
   },
   {
    "duration": 6,
    "start_time": "2023-07-24T06:49:24.117Z"
   },
   {
    "duration": 7,
    "start_time": "2023-07-24T06:49:24.125Z"
   },
   {
    "duration": 5,
    "start_time": "2023-07-24T06:49:24.135Z"
   },
   {
    "duration": 35,
    "start_time": "2023-07-24T06:49:24.141Z"
   },
   {
    "duration": 27,
    "start_time": "2023-07-24T06:49:24.177Z"
   },
   {
    "duration": 17,
    "start_time": "2023-07-24T06:49:24.205Z"
   },
   {
    "duration": 24,
    "start_time": "2023-07-24T06:49:24.223Z"
   },
   {
    "duration": 23,
    "start_time": "2023-07-24T06:49:24.248Z"
   },
   {
    "duration": 16,
    "start_time": "2023-07-24T06:49:24.273Z"
   },
   {
    "duration": 3,
    "start_time": "2023-07-24T06:49:24.291Z"
   },
   {
    "duration": 13,
    "start_time": "2023-07-24T06:49:24.295Z"
   },
   {
    "duration": 6,
    "start_time": "2023-07-24T06:49:24.310Z"
   },
   {
    "duration": 6,
    "start_time": "2023-07-24T06:49:24.317Z"
   },
   {
    "duration": 10,
    "start_time": "2023-07-24T06:49:24.324Z"
   },
   {
    "duration": 17,
    "start_time": "2023-07-24T06:49:24.335Z"
   },
   {
    "duration": 4,
    "start_time": "2023-07-24T06:49:24.353Z"
   },
   {
    "duration": 7,
    "start_time": "2023-07-24T06:49:24.358Z"
   },
   {
    "duration": 9,
    "start_time": "2023-07-24T06:49:24.366Z"
   },
   {
    "duration": 65,
    "start_time": "2023-07-24T06:49:57.783Z"
   },
   {
    "duration": 13,
    "start_time": "2023-07-24T06:49:57.850Z"
   },
   {
    "duration": 18,
    "start_time": "2023-07-24T06:49:57.865Z"
   },
   {
    "duration": 14,
    "start_time": "2023-07-24T06:49:57.885Z"
   },
   {
    "duration": 40,
    "start_time": "2023-07-24T06:49:57.901Z"
   },
   {
    "duration": 4,
    "start_time": "2023-07-24T06:49:57.942Z"
   },
   {
    "duration": 22,
    "start_time": "2023-07-24T06:49:57.947Z"
   },
   {
    "duration": 12,
    "start_time": "2023-07-24T06:49:57.971Z"
   },
   {
    "duration": 12,
    "start_time": "2023-07-24T06:49:57.984Z"
   },
   {
    "duration": 23,
    "start_time": "2023-07-24T06:49:57.998Z"
   },
   {
    "duration": 51,
    "start_time": "2023-07-24T06:49:58.022Z"
   },
   {
    "duration": 8,
    "start_time": "2023-07-24T06:49:58.075Z"
   },
   {
    "duration": 13,
    "start_time": "2023-07-24T06:49:58.084Z"
   },
   {
    "duration": 37,
    "start_time": "2023-07-24T06:49:58.099Z"
   },
   {
    "duration": 46,
    "start_time": "2023-07-24T06:49:58.137Z"
   },
   {
    "duration": 22,
    "start_time": "2023-07-24T06:49:58.186Z"
   },
   {
    "duration": 3,
    "start_time": "2023-07-24T06:49:58.210Z"
   },
   {
    "duration": 23,
    "start_time": "2023-07-24T06:49:58.215Z"
   },
   {
    "duration": 22,
    "start_time": "2023-07-24T06:49:58.239Z"
   },
   {
    "duration": 3,
    "start_time": "2023-07-24T06:49:58.263Z"
   },
   {
    "duration": 30,
    "start_time": "2023-07-24T06:49:58.268Z"
   },
   {
    "duration": 47,
    "start_time": "2023-07-24T06:49:58.300Z"
   },
   {
    "duration": 6,
    "start_time": "2023-07-24T06:49:58.348Z"
   },
   {
    "duration": 5,
    "start_time": "2023-07-24T06:49:58.356Z"
   },
   {
    "duration": 8,
    "start_time": "2023-07-24T06:49:58.362Z"
   },
   {
    "duration": 62,
    "start_time": "2023-07-24T06:50:48.268Z"
   },
   {
    "duration": 14,
    "start_time": "2023-07-24T06:50:48.332Z"
   },
   {
    "duration": 26,
    "start_time": "2023-07-24T06:50:48.348Z"
   },
   {
    "duration": 20,
    "start_time": "2023-07-24T06:50:48.376Z"
   },
   {
    "duration": 34,
    "start_time": "2023-07-24T06:50:48.397Z"
   },
   {
    "duration": 3,
    "start_time": "2023-07-24T06:50:48.432Z"
   },
   {
    "duration": 40,
    "start_time": "2023-07-24T06:50:48.436Z"
   },
   {
    "duration": 7,
    "start_time": "2023-07-24T06:50:48.477Z"
   },
   {
    "duration": 17,
    "start_time": "2023-07-24T06:50:48.485Z"
   },
   {
    "duration": 17,
    "start_time": "2023-07-24T06:50:48.504Z"
   },
   {
    "duration": 38,
    "start_time": "2023-07-24T06:50:48.522Z"
   },
   {
    "duration": 26,
    "start_time": "2023-07-24T06:50:48.562Z"
   },
   {
    "duration": 24,
    "start_time": "2023-07-24T06:50:48.589Z"
   },
   {
    "duration": 26,
    "start_time": "2023-07-24T06:50:48.614Z"
   },
   {
    "duration": 53,
    "start_time": "2023-07-24T06:50:48.641Z"
   },
   {
    "duration": 17,
    "start_time": "2023-07-24T06:50:48.696Z"
   },
   {
    "duration": 7,
    "start_time": "2023-07-24T06:50:48.715Z"
   },
   {
    "duration": 21,
    "start_time": "2023-07-24T06:50:48.723Z"
   },
   {
    "duration": 25,
    "start_time": "2023-07-24T06:50:48.746Z"
   },
   {
    "duration": 20,
    "start_time": "2023-07-24T06:50:48.772Z"
   },
   {
    "duration": 26,
    "start_time": "2023-07-24T06:50:48.794Z"
   },
   {
    "duration": 2998,
    "start_time": "2023-07-24T06:50:48.822Z"
   },
   {
    "duration": 0,
    "start_time": "2023-07-24T06:50:51.822Z"
   },
   {
    "duration": 0,
    "start_time": "2023-07-24T06:50:51.823Z"
   },
   {
    "duration": 0,
    "start_time": "2023-07-24T06:50:51.824Z"
   },
   {
    "duration": 64,
    "start_time": "2023-07-24T06:51:20.090Z"
   },
   {
    "duration": 14,
    "start_time": "2023-07-24T06:51:20.155Z"
   },
   {
    "duration": 22,
    "start_time": "2023-07-24T06:51:20.171Z"
   },
   {
    "duration": 16,
    "start_time": "2023-07-24T06:51:20.195Z"
   },
   {
    "duration": 38,
    "start_time": "2023-07-24T06:51:20.212Z"
   },
   {
    "duration": 3,
    "start_time": "2023-07-24T06:51:20.251Z"
   },
   {
    "duration": 11,
    "start_time": "2023-07-24T06:51:20.256Z"
   },
   {
    "duration": 4,
    "start_time": "2023-07-24T06:51:20.268Z"
   },
   {
    "duration": 5,
    "start_time": "2023-07-24T06:51:20.274Z"
   },
   {
    "duration": 8,
    "start_time": "2023-07-24T06:51:20.282Z"
   },
   {
    "duration": 33,
    "start_time": "2023-07-24T06:51:20.291Z"
   },
   {
    "duration": 8,
    "start_time": "2023-07-24T06:51:20.326Z"
   },
   {
    "duration": 11,
    "start_time": "2023-07-24T06:51:20.335Z"
   },
   {
    "duration": 11,
    "start_time": "2023-07-24T06:51:20.348Z"
   },
   {
    "duration": 27,
    "start_time": "2023-07-24T06:51:20.360Z"
   },
   {
    "duration": 23,
    "start_time": "2023-07-24T06:51:20.388Z"
   },
   {
    "duration": 3,
    "start_time": "2023-07-24T06:51:20.412Z"
   },
   {
    "duration": 12,
    "start_time": "2023-07-24T06:51:20.416Z"
   },
   {
    "duration": 5,
    "start_time": "2023-07-24T06:51:20.429Z"
   },
   {
    "duration": 9,
    "start_time": "2023-07-24T06:51:20.436Z"
   },
   {
    "duration": 12,
    "start_time": "2023-07-24T06:51:20.446Z"
   },
   {
    "duration": 14,
    "start_time": "2023-07-24T06:51:20.460Z"
   },
   {
    "duration": 0,
    "start_time": "2023-07-24T06:51:20.476Z"
   },
   {
    "duration": 0,
    "start_time": "2023-07-24T06:51:20.477Z"
   },
   {
    "duration": 0,
    "start_time": "2023-07-24T06:51:20.478Z"
   },
   {
    "duration": 67,
    "start_time": "2023-07-24T06:51:33.127Z"
   },
   {
    "duration": 15,
    "start_time": "2023-07-24T06:51:33.195Z"
   },
   {
    "duration": 15,
    "start_time": "2023-07-24T06:51:33.211Z"
   },
   {
    "duration": 9,
    "start_time": "2023-07-24T06:51:33.228Z"
   },
   {
    "duration": 30,
    "start_time": "2023-07-24T06:51:33.238Z"
   },
   {
    "duration": 3,
    "start_time": "2023-07-24T06:51:33.270Z"
   },
   {
    "duration": 29,
    "start_time": "2023-07-24T06:51:33.275Z"
   },
   {
    "duration": 17,
    "start_time": "2023-07-24T06:51:33.306Z"
   },
   {
    "duration": 21,
    "start_time": "2023-07-24T06:51:33.324Z"
   },
   {
    "duration": 14,
    "start_time": "2023-07-24T06:51:33.347Z"
   },
   {
    "duration": 36,
    "start_time": "2023-07-24T06:51:33.363Z"
   },
   {
    "duration": 9,
    "start_time": "2023-07-24T06:51:33.400Z"
   },
   {
    "duration": 20,
    "start_time": "2023-07-24T06:51:33.411Z"
   },
   {
    "duration": 11,
    "start_time": "2023-07-24T06:51:33.433Z"
   },
   {
    "duration": 43,
    "start_time": "2023-07-24T06:51:33.445Z"
   },
   {
    "duration": 18,
    "start_time": "2023-07-24T06:51:33.490Z"
   },
   {
    "duration": 15,
    "start_time": "2023-07-24T06:51:33.511Z"
   },
   {
    "duration": 26,
    "start_time": "2023-07-24T06:51:33.528Z"
   },
   {
    "duration": 39,
    "start_time": "2023-07-24T06:51:33.555Z"
   },
   {
    "duration": 20,
    "start_time": "2023-07-24T06:51:33.596Z"
   },
   {
    "duration": 16,
    "start_time": "2023-07-24T06:51:33.618Z"
   },
   {
    "duration": 17,
    "start_time": "2023-07-24T06:51:33.636Z"
   },
   {
    "duration": 5,
    "start_time": "2023-07-24T06:51:33.655Z"
   },
   {
    "duration": 8,
    "start_time": "2023-07-24T06:51:33.662Z"
   },
   {
    "duration": 5,
    "start_time": "2023-07-24T06:51:33.672Z"
   },
   {
    "duration": 63,
    "start_time": "2023-07-24T06:52:32.015Z"
   },
   {
    "duration": 53,
    "start_time": "2023-07-24T06:52:32.080Z"
   },
   {
    "duration": 61,
    "start_time": "2023-07-24T06:52:32.134Z"
   },
   {
    "duration": 68,
    "start_time": "2023-07-24T06:52:32.198Z"
   },
   {
    "duration": 76,
    "start_time": "2023-07-24T06:52:32.268Z"
   },
   {
    "duration": 17,
    "start_time": "2023-07-24T06:52:32.347Z"
   },
   {
    "duration": 38,
    "start_time": "2023-07-24T06:52:32.366Z"
   },
   {
    "duration": 39,
    "start_time": "2023-07-24T06:52:32.406Z"
   },
   {
    "duration": 30,
    "start_time": "2023-07-24T06:52:32.447Z"
   },
   {
    "duration": 68,
    "start_time": "2023-07-24T06:52:32.480Z"
   },
   {
    "duration": 78,
    "start_time": "2023-07-24T06:52:32.549Z"
   },
   {
    "duration": 9,
    "start_time": "2023-07-24T06:52:32.629Z"
   },
   {
    "duration": 36,
    "start_time": "2023-07-24T06:52:32.639Z"
   },
   {
    "duration": 21,
    "start_time": "2023-07-24T06:52:32.677Z"
   },
   {
    "duration": 40,
    "start_time": "2023-07-24T06:52:32.700Z"
   },
   {
    "duration": 26,
    "start_time": "2023-07-24T06:52:32.741Z"
   },
   {
    "duration": 15,
    "start_time": "2023-07-24T06:52:32.768Z"
   },
   {
    "duration": 26,
    "start_time": "2023-07-24T06:52:32.784Z"
   },
   {
    "duration": 18,
    "start_time": "2023-07-24T06:52:32.811Z"
   },
   {
    "duration": 23,
    "start_time": "2023-07-24T06:52:32.831Z"
   },
   {
    "duration": 50,
    "start_time": "2023-07-24T06:52:32.855Z"
   },
   {
    "duration": 20,
    "start_time": "2023-07-24T06:52:32.906Z"
   },
   {
    "duration": 15,
    "start_time": "2023-07-24T06:52:32.927Z"
   },
   {
    "duration": 28,
    "start_time": "2023-07-24T06:52:32.943Z"
   },
   {
    "duration": 16,
    "start_time": "2023-07-24T06:52:32.972Z"
   },
   {
    "duration": 63,
    "start_time": "2023-07-24T07:17:15.631Z"
   },
   {
    "duration": 18,
    "start_time": "2023-07-24T07:17:15.696Z"
   },
   {
    "duration": 17,
    "start_time": "2023-07-24T07:17:15.716Z"
   },
   {
    "duration": 13,
    "start_time": "2023-07-24T07:17:15.736Z"
   },
   {
    "duration": 39,
    "start_time": "2023-07-24T07:17:15.750Z"
   },
   {
    "duration": 9,
    "start_time": "2023-07-24T07:17:15.790Z"
   },
   {
    "duration": 7,
    "start_time": "2023-07-24T07:17:15.801Z"
   },
   {
    "duration": 5,
    "start_time": "2023-07-24T07:17:15.809Z"
   },
   {
    "duration": 8,
    "start_time": "2023-07-24T07:17:15.815Z"
   },
   {
    "duration": 11,
    "start_time": "2023-07-24T07:17:15.825Z"
   },
   {
    "duration": 36,
    "start_time": "2023-07-24T07:17:15.838Z"
   },
   {
    "duration": 14,
    "start_time": "2023-07-24T07:17:15.875Z"
   },
   {
    "duration": 27,
    "start_time": "2023-07-24T07:17:15.899Z"
   },
   {
    "duration": 19,
    "start_time": "2023-07-24T07:17:15.928Z"
   },
   {
    "duration": 48,
    "start_time": "2023-07-24T07:17:15.949Z"
   },
   {
    "duration": 41,
    "start_time": "2023-07-24T07:17:15.999Z"
   },
   {
    "duration": 4,
    "start_time": "2023-07-24T07:17:16.043Z"
   },
   {
    "duration": 31,
    "start_time": "2023-07-24T07:17:16.049Z"
   },
   {
    "duration": 30,
    "start_time": "2023-07-24T07:17:16.082Z"
   },
   {
    "duration": 6,
    "start_time": "2023-07-24T07:17:16.114Z"
   },
   {
    "duration": 31,
    "start_time": "2023-07-24T07:17:16.122Z"
   },
   {
    "duration": 901,
    "start_time": "2023-07-24T07:17:16.154Z"
   },
   {
    "duration": 0,
    "start_time": "2023-07-24T07:17:17.057Z"
   },
   {
    "duration": 0,
    "start_time": "2023-07-24T07:17:17.058Z"
   },
   {
    "duration": 0,
    "start_time": "2023-07-24T07:17:17.059Z"
   },
   {
    "duration": 64,
    "start_time": "2023-07-24T07:17:50.269Z"
   },
   {
    "duration": 14,
    "start_time": "2023-07-24T07:17:50.334Z"
   },
   {
    "duration": 35,
    "start_time": "2023-07-24T07:17:50.349Z"
   },
   {
    "duration": 34,
    "start_time": "2023-07-24T07:17:50.385Z"
   },
   {
    "duration": 47,
    "start_time": "2023-07-24T07:17:50.420Z"
   },
   {
    "duration": 3,
    "start_time": "2023-07-24T07:17:50.469Z"
   },
   {
    "duration": 30,
    "start_time": "2023-07-24T07:17:50.474Z"
   },
   {
    "duration": 18,
    "start_time": "2023-07-24T07:17:50.506Z"
   },
   {
    "duration": 26,
    "start_time": "2023-07-24T07:17:50.526Z"
   },
   {
    "duration": 28,
    "start_time": "2023-07-24T07:17:50.555Z"
   },
   {
    "duration": 54,
    "start_time": "2023-07-24T07:17:50.585Z"
   },
   {
    "duration": 27,
    "start_time": "2023-07-24T07:17:50.640Z"
   },
   {
    "duration": 37,
    "start_time": "2023-07-24T07:17:50.669Z"
   },
   {
    "duration": 32,
    "start_time": "2023-07-24T07:17:50.707Z"
   },
   {
    "duration": 57,
    "start_time": "2023-07-24T07:17:50.741Z"
   },
   {
    "duration": 17,
    "start_time": "2023-07-24T07:17:50.800Z"
   },
   {
    "duration": 18,
    "start_time": "2023-07-24T07:17:50.818Z"
   },
   {
    "duration": 34,
    "start_time": "2023-07-24T07:17:50.837Z"
   },
   {
    "duration": 28,
    "start_time": "2023-07-24T07:17:50.872Z"
   },
   {
    "duration": 42,
    "start_time": "2023-07-24T07:17:50.902Z"
   },
   {
    "duration": 34,
    "start_time": "2023-07-24T07:17:50.945Z"
   },
   {
    "duration": 55,
    "start_time": "2023-07-24T07:17:50.980Z"
   },
   {
    "duration": 14,
    "start_time": "2023-07-24T07:17:51.036Z"
   },
   {
    "duration": 21,
    "start_time": "2023-07-24T07:17:51.052Z"
   },
   {
    "duration": 22,
    "start_time": "2023-07-24T07:17:51.075Z"
   },
   {
    "duration": 112,
    "start_time": "2023-07-24T07:27:38.406Z"
   },
   {
    "duration": 19,
    "start_time": "2023-07-24T07:27:38.521Z"
   },
   {
    "duration": 18,
    "start_time": "2023-07-24T07:27:38.542Z"
   },
   {
    "duration": 43,
    "start_time": "2023-07-24T07:27:38.563Z"
   },
   {
    "duration": 44,
    "start_time": "2023-07-24T07:27:38.616Z"
   },
   {
    "duration": 4,
    "start_time": "2023-07-24T07:27:38.661Z"
   },
   {
    "duration": 28,
    "start_time": "2023-07-24T07:27:38.667Z"
   },
   {
    "duration": 25,
    "start_time": "2023-07-24T07:27:38.697Z"
   },
   {
    "duration": 19,
    "start_time": "2023-07-24T07:27:38.724Z"
   },
   {
    "duration": 17,
    "start_time": "2023-07-24T07:27:38.747Z"
   },
   {
    "duration": 60,
    "start_time": "2023-07-24T07:27:38.766Z"
   },
   {
    "duration": 12,
    "start_time": "2023-07-24T07:27:38.828Z"
   },
   {
    "duration": 31,
    "start_time": "2023-07-24T07:27:38.842Z"
   },
   {
    "duration": 22,
    "start_time": "2023-07-24T07:27:38.874Z"
   },
   {
    "duration": 62,
    "start_time": "2023-07-24T07:27:38.898Z"
   },
   {
    "duration": 26,
    "start_time": "2023-07-24T07:27:38.962Z"
   },
   {
    "duration": 5,
    "start_time": "2023-07-24T07:27:38.990Z"
   },
   {
    "duration": 54,
    "start_time": "2023-07-24T07:27:38.997Z"
   },
   {
    "duration": 8,
    "start_time": "2023-07-24T07:27:39.053Z"
   },
   {
    "duration": 26,
    "start_time": "2023-07-24T07:27:39.062Z"
   },
   {
    "duration": 38,
    "start_time": "2023-07-24T07:27:39.090Z"
   },
   {
    "duration": 26,
    "start_time": "2023-07-24T07:27:39.129Z"
   },
   {
    "duration": 26,
    "start_time": "2023-07-24T07:27:39.158Z"
   },
   {
    "duration": 49,
    "start_time": "2023-07-24T07:27:39.186Z"
   },
   {
    "duration": 22,
    "start_time": "2023-07-24T07:27:39.238Z"
   },
   {
    "duration": 64,
    "start_time": "2023-07-24T08:02:12.994Z"
   },
   {
    "duration": 14,
    "start_time": "2023-07-24T08:02:13.060Z"
   },
   {
    "duration": 35,
    "start_time": "2023-07-24T08:02:13.075Z"
   },
   {
    "duration": 20,
    "start_time": "2023-07-24T08:02:13.112Z"
   },
   {
    "duration": 29,
    "start_time": "2023-07-24T08:02:13.134Z"
   },
   {
    "duration": 3,
    "start_time": "2023-07-24T08:02:13.165Z"
   },
   {
    "duration": 10,
    "start_time": "2023-07-24T08:02:13.169Z"
   },
   {
    "duration": 4,
    "start_time": "2023-07-24T08:02:13.180Z"
   },
   {
    "duration": 34,
    "start_time": "2023-07-24T08:02:13.185Z"
   },
   {
    "duration": 12,
    "start_time": "2023-07-24T08:02:13.221Z"
   },
   {
    "duration": 30,
    "start_time": "2023-07-24T08:02:13.235Z"
   },
   {
    "duration": 9,
    "start_time": "2023-07-24T08:02:13.267Z"
   },
   {
    "duration": 8,
    "start_time": "2023-07-24T08:02:13.277Z"
   },
   {
    "duration": 10,
    "start_time": "2023-07-24T08:02:13.287Z"
   },
   {
    "duration": 27,
    "start_time": "2023-07-24T08:02:13.299Z"
   },
   {
    "duration": 26,
    "start_time": "2023-07-24T08:02:13.328Z"
   },
   {
    "duration": 4,
    "start_time": "2023-07-24T08:02:13.356Z"
   },
   {
    "duration": 25,
    "start_time": "2023-07-24T08:02:13.361Z"
   },
   {
    "duration": 35,
    "start_time": "2023-07-24T08:02:13.387Z"
   },
   {
    "duration": 3,
    "start_time": "2023-07-24T08:02:13.423Z"
   },
   {
    "duration": 15,
    "start_time": "2023-07-24T08:02:13.427Z"
   },
   {
    "duration": 19,
    "start_time": "2023-07-24T08:02:13.444Z"
   },
   {
    "duration": 0,
    "start_time": "2023-07-24T08:02:13.465Z"
   },
   {
    "duration": 0,
    "start_time": "2023-07-24T08:02:13.466Z"
   },
   {
    "duration": 0,
    "start_time": "2023-07-24T08:02:13.467Z"
   },
   {
    "duration": 71,
    "start_time": "2023-07-24T08:03:08.643Z"
   },
   {
    "duration": 18,
    "start_time": "2023-07-24T08:03:08.717Z"
   },
   {
    "duration": 36,
    "start_time": "2023-07-24T08:03:08.738Z"
   },
   {
    "duration": 38,
    "start_time": "2023-07-24T08:03:08.776Z"
   },
   {
    "duration": 55,
    "start_time": "2023-07-24T08:03:08.816Z"
   },
   {
    "duration": 4,
    "start_time": "2023-07-24T08:03:08.873Z"
   },
   {
    "duration": 51,
    "start_time": "2023-07-24T08:03:08.878Z"
   },
   {
    "duration": 49,
    "start_time": "2023-07-24T08:03:08.931Z"
   },
   {
    "duration": 46,
    "start_time": "2023-07-24T08:03:08.982Z"
   },
   {
    "duration": 27,
    "start_time": "2023-07-24T08:03:09.031Z"
   },
   {
    "duration": 55,
    "start_time": "2023-07-24T08:03:09.059Z"
   },
   {
    "duration": 18,
    "start_time": "2023-07-24T08:03:09.115Z"
   },
   {
    "duration": 10,
    "start_time": "2023-07-24T08:03:09.134Z"
   },
   {
    "duration": 44,
    "start_time": "2023-07-24T08:03:09.145Z"
   },
   {
    "duration": 45,
    "start_time": "2023-07-24T08:03:09.190Z"
   },
   {
    "duration": 56,
    "start_time": "2023-07-24T08:03:09.237Z"
   },
   {
    "duration": 18,
    "start_time": "2023-07-24T08:03:09.295Z"
   },
   {
    "duration": 28,
    "start_time": "2023-07-24T08:03:09.315Z"
   },
   {
    "duration": 31,
    "start_time": "2023-07-24T08:03:09.345Z"
   },
   {
    "duration": 16,
    "start_time": "2023-07-24T08:03:09.378Z"
   },
   {
    "duration": 57,
    "start_time": "2023-07-24T08:03:09.396Z"
   },
   {
    "duration": 58,
    "start_time": "2023-07-24T08:03:09.455Z"
   },
   {
    "duration": 22,
    "start_time": "2023-07-24T08:03:09.515Z"
   },
   {
    "duration": 31,
    "start_time": "2023-07-24T08:03:09.539Z"
   },
   {
    "duration": 44,
    "start_time": "2023-07-24T08:03:09.571Z"
   },
   {
    "duration": 70,
    "start_time": "2023-07-24T08:04:25.166Z"
   },
   {
    "duration": 12,
    "start_time": "2023-07-24T08:04:25.238Z"
   },
   {
    "duration": 36,
    "start_time": "2023-07-24T08:04:25.251Z"
   },
   {
    "duration": 49,
    "start_time": "2023-07-24T08:04:25.289Z"
   },
   {
    "duration": 53,
    "start_time": "2023-07-24T08:04:25.340Z"
   },
   {
    "duration": 3,
    "start_time": "2023-07-24T08:04:25.395Z"
   },
   {
    "duration": 38,
    "start_time": "2023-07-24T08:04:25.400Z"
   },
   {
    "duration": 32,
    "start_time": "2023-07-24T08:04:25.440Z"
   },
   {
    "duration": 23,
    "start_time": "2023-07-24T08:04:25.473Z"
   },
   {
    "duration": 22,
    "start_time": "2023-07-24T08:04:25.501Z"
   },
   {
    "duration": 37,
    "start_time": "2023-07-24T08:04:25.525Z"
   },
   {
    "duration": 8,
    "start_time": "2023-07-24T08:04:25.564Z"
   },
   {
    "duration": 6,
    "start_time": "2023-07-24T08:04:25.573Z"
   },
   {
    "duration": 17,
    "start_time": "2023-07-24T08:04:25.580Z"
   },
   {
    "duration": 40,
    "start_time": "2023-07-24T08:04:25.599Z"
   },
   {
    "duration": 18,
    "start_time": "2023-07-24T08:04:25.641Z"
   },
   {
    "duration": 12,
    "start_time": "2023-07-24T08:04:25.660Z"
   },
   {
    "duration": 13,
    "start_time": "2023-07-24T08:04:25.673Z"
   },
   {
    "duration": 10,
    "start_time": "2023-07-24T08:04:25.687Z"
   },
   {
    "duration": 13,
    "start_time": "2023-07-24T08:04:25.709Z"
   },
   {
    "duration": 25,
    "start_time": "2023-07-24T08:04:25.724Z"
   },
   {
    "duration": 6112,
    "start_time": "2023-07-24T08:04:25.750Z"
   },
   {
    "duration": 0,
    "start_time": "2023-07-24T08:04:31.865Z"
   },
   {
    "duration": 0,
    "start_time": "2023-07-24T08:04:31.866Z"
   },
   {
    "duration": 0,
    "start_time": "2023-07-24T08:04:31.868Z"
   },
   {
    "duration": 71,
    "start_time": "2023-07-24T08:05:06.948Z"
   },
   {
    "duration": 14,
    "start_time": "2023-07-24T08:05:07.020Z"
   },
   {
    "duration": 37,
    "start_time": "2023-07-24T08:05:07.036Z"
   },
   {
    "duration": 27,
    "start_time": "2023-07-24T08:05:07.074Z"
   },
   {
    "duration": 51,
    "start_time": "2023-07-24T08:05:07.102Z"
   },
   {
    "duration": 12,
    "start_time": "2023-07-24T08:05:07.154Z"
   },
   {
    "duration": 70,
    "start_time": "2023-07-24T08:05:07.167Z"
   },
   {
    "duration": 17,
    "start_time": "2023-07-24T08:05:07.239Z"
   },
   {
    "duration": 10,
    "start_time": "2023-07-24T08:05:07.257Z"
   },
   {
    "duration": 12,
    "start_time": "2023-07-24T08:05:07.269Z"
   },
   {
    "duration": 63,
    "start_time": "2023-07-24T08:05:07.283Z"
   },
   {
    "duration": 8,
    "start_time": "2023-07-24T08:05:07.347Z"
   },
   {
    "duration": 36,
    "start_time": "2023-07-24T08:05:07.357Z"
   },
   {
    "duration": 38,
    "start_time": "2023-07-24T08:05:07.395Z"
   },
   {
    "duration": 28,
    "start_time": "2023-07-24T08:05:07.435Z"
   },
   {
    "duration": 20,
    "start_time": "2023-07-24T08:05:07.464Z"
   },
   {
    "duration": 12,
    "start_time": "2023-07-24T08:05:07.486Z"
   },
   {
    "duration": 49,
    "start_time": "2023-07-24T08:05:07.499Z"
   },
   {
    "duration": 28,
    "start_time": "2023-07-24T08:05:07.550Z"
   },
   {
    "duration": 30,
    "start_time": "2023-07-24T08:05:07.579Z"
   },
   {
    "duration": 27,
    "start_time": "2023-07-24T08:05:07.610Z"
   },
   {
    "duration": 36,
    "start_time": "2023-07-24T08:05:07.638Z"
   },
   {
    "duration": 6,
    "start_time": "2023-07-24T08:05:07.676Z"
   },
   {
    "duration": 12,
    "start_time": "2023-07-24T08:05:07.683Z"
   },
   {
    "duration": 33,
    "start_time": "2023-07-24T08:05:07.697Z"
   },
   {
    "duration": 67,
    "start_time": "2023-07-24T08:05:16.331Z"
   },
   {
    "duration": 20,
    "start_time": "2023-07-24T08:05:16.402Z"
   },
   {
    "duration": 21,
    "start_time": "2023-07-24T08:05:16.424Z"
   },
   {
    "duration": 12,
    "start_time": "2023-07-24T08:05:16.447Z"
   },
   {
    "duration": 45,
    "start_time": "2023-07-24T08:05:16.460Z"
   },
   {
    "duration": 4,
    "start_time": "2023-07-24T08:05:16.513Z"
   },
   {
    "duration": 21,
    "start_time": "2023-07-24T08:05:16.519Z"
   },
   {
    "duration": 5,
    "start_time": "2023-07-24T08:05:16.541Z"
   },
   {
    "duration": 9,
    "start_time": "2023-07-24T08:05:16.547Z"
   },
   {
    "duration": 7,
    "start_time": "2023-07-24T08:05:16.558Z"
   },
   {
    "duration": 46,
    "start_time": "2023-07-24T08:05:16.567Z"
   },
   {
    "duration": 8,
    "start_time": "2023-07-24T08:05:16.615Z"
   },
   {
    "duration": 7,
    "start_time": "2023-07-24T08:05:16.624Z"
   },
   {
    "duration": 11,
    "start_time": "2023-07-24T08:05:16.632Z"
   },
   {
    "duration": 21,
    "start_time": "2023-07-24T08:05:16.645Z"
   },
   {
    "duration": 18,
    "start_time": "2023-07-24T08:05:16.668Z"
   },
   {
    "duration": 25,
    "start_time": "2023-07-24T08:05:16.688Z"
   },
   {
    "duration": 15,
    "start_time": "2023-07-24T08:05:16.714Z"
   },
   {
    "duration": 11,
    "start_time": "2023-07-24T08:05:16.731Z"
   },
   {
    "duration": 6,
    "start_time": "2023-07-24T08:05:16.743Z"
   },
   {
    "duration": 27,
    "start_time": "2023-07-24T08:05:16.751Z"
   },
   {
    "duration": 35,
    "start_time": "2023-07-24T08:05:16.780Z"
   },
   {
    "duration": 15,
    "start_time": "2023-07-24T08:05:16.820Z"
   },
   {
    "duration": 36,
    "start_time": "2023-07-24T08:05:16.836Z"
   },
   {
    "duration": 12,
    "start_time": "2023-07-24T08:05:16.873Z"
   },
   {
    "duration": 63,
    "start_time": "2023-07-24T08:06:44.531Z"
   },
   {
    "duration": 27,
    "start_time": "2023-07-24T08:06:44.596Z"
   },
   {
    "duration": 48,
    "start_time": "2023-07-24T08:06:44.625Z"
   },
   {
    "duration": 18,
    "start_time": "2023-07-24T08:06:44.675Z"
   },
   {
    "duration": 65,
    "start_time": "2023-07-24T08:06:44.695Z"
   },
   {
    "duration": 56,
    "start_time": "2023-07-24T08:06:44.762Z"
   },
   {
    "duration": 25,
    "start_time": "2023-07-24T08:06:44.821Z"
   },
   {
    "duration": 20,
    "start_time": "2023-07-24T08:06:44.847Z"
   },
   {
    "duration": 30,
    "start_time": "2023-07-24T08:06:44.868Z"
   },
   {
    "duration": 26,
    "start_time": "2023-07-24T08:06:44.912Z"
   },
   {
    "duration": 48,
    "start_time": "2023-07-24T08:06:44.939Z"
   },
   {
    "duration": 10,
    "start_time": "2023-07-24T08:06:44.988Z"
   },
   {
    "duration": 67,
    "start_time": "2023-07-24T08:06:44.999Z"
   },
   {
    "duration": 48,
    "start_time": "2023-07-24T08:06:45.067Z"
   },
   {
    "duration": 54,
    "start_time": "2023-07-24T08:06:45.116Z"
   },
   {
    "duration": 34,
    "start_time": "2023-07-24T08:06:45.171Z"
   },
   {
    "duration": 25,
    "start_time": "2023-07-24T08:06:45.206Z"
   },
   {
    "duration": 36,
    "start_time": "2023-07-24T08:06:45.232Z"
   },
   {
    "duration": 21,
    "start_time": "2023-07-24T08:06:45.269Z"
   },
   {
    "duration": 45,
    "start_time": "2023-07-24T08:06:45.291Z"
   },
   {
    "duration": 36,
    "start_time": "2023-07-24T08:06:45.338Z"
   },
   {
    "duration": 918,
    "start_time": "2023-07-24T08:06:45.376Z"
   },
   {
    "duration": 0,
    "start_time": "2023-07-24T08:06:46.296Z"
   },
   {
    "duration": 0,
    "start_time": "2023-07-24T08:06:46.297Z"
   },
   {
    "duration": 0,
    "start_time": "2023-07-24T08:06:46.299Z"
   },
   {
    "duration": 63,
    "start_time": "2023-07-24T08:07:10.318Z"
   },
   {
    "duration": 47,
    "start_time": "2023-07-24T08:07:10.382Z"
   },
   {
    "duration": 22,
    "start_time": "2023-07-24T08:07:10.431Z"
   },
   {
    "duration": 26,
    "start_time": "2023-07-24T08:07:10.456Z"
   },
   {
    "duration": 56,
    "start_time": "2023-07-24T08:07:10.483Z"
   },
   {
    "duration": 3,
    "start_time": "2023-07-24T08:07:10.541Z"
   },
   {
    "duration": 33,
    "start_time": "2023-07-24T08:07:10.545Z"
   },
   {
    "duration": 4,
    "start_time": "2023-07-24T08:07:10.579Z"
   },
   {
    "duration": 42,
    "start_time": "2023-07-24T08:07:10.585Z"
   },
   {
    "duration": 15,
    "start_time": "2023-07-24T08:07:10.629Z"
   },
   {
    "duration": 70,
    "start_time": "2023-07-24T08:07:10.646Z"
   },
   {
    "duration": 14,
    "start_time": "2023-07-24T08:07:10.718Z"
   },
   {
    "duration": 21,
    "start_time": "2023-07-24T08:07:10.734Z"
   },
   {
    "duration": 28,
    "start_time": "2023-07-24T08:07:10.757Z"
   },
   {
    "duration": 56,
    "start_time": "2023-07-24T08:07:10.786Z"
   },
   {
    "duration": 19,
    "start_time": "2023-07-24T08:07:10.844Z"
   },
   {
    "duration": 4,
    "start_time": "2023-07-24T08:07:10.865Z"
   },
   {
    "duration": 15,
    "start_time": "2023-07-24T08:07:10.870Z"
   },
   {
    "duration": 73,
    "start_time": "2023-07-24T08:07:10.887Z"
   },
   {
    "duration": 52,
    "start_time": "2023-07-24T08:07:10.962Z"
   },
   {
    "duration": 38,
    "start_time": "2023-07-24T08:07:11.017Z"
   },
   {
    "duration": 36,
    "start_time": "2023-07-24T08:07:11.056Z"
   },
   {
    "duration": 40,
    "start_time": "2023-07-24T08:07:11.094Z"
   },
   {
    "duration": 44,
    "start_time": "2023-07-24T08:07:11.135Z"
   },
   {
    "duration": 28,
    "start_time": "2023-07-24T08:07:11.181Z"
   },
   {
    "duration": 66,
    "start_time": "2023-07-24T08:08:07.226Z"
   },
   {
    "duration": 31,
    "start_time": "2023-07-24T08:08:07.294Z"
   },
   {
    "duration": 28,
    "start_time": "2023-07-24T08:08:07.327Z"
   },
   {
    "duration": 27,
    "start_time": "2023-07-24T08:08:07.357Z"
   },
   {
    "duration": 34,
    "start_time": "2023-07-24T08:08:07.386Z"
   },
   {
    "duration": 4,
    "start_time": "2023-07-24T08:08:07.421Z"
   },
   {
    "duration": 12,
    "start_time": "2023-07-24T08:08:07.426Z"
   },
   {
    "duration": 7,
    "start_time": "2023-07-24T08:08:07.439Z"
   },
   {
    "duration": 12,
    "start_time": "2023-07-24T08:08:07.448Z"
   },
   {
    "duration": 9,
    "start_time": "2023-07-24T08:08:07.463Z"
   },
   {
    "duration": 53,
    "start_time": "2023-07-24T08:08:07.473Z"
   },
   {
    "duration": 9,
    "start_time": "2023-07-24T08:08:07.527Z"
   },
   {
    "duration": 8,
    "start_time": "2023-07-24T08:08:07.537Z"
   },
   {
    "duration": 11,
    "start_time": "2023-07-24T08:08:07.547Z"
   },
   {
    "duration": 17,
    "start_time": "2023-07-24T08:08:07.560Z"
   },
   {
    "duration": 46,
    "start_time": "2023-07-24T08:08:07.578Z"
   },
   {
    "duration": 4,
    "start_time": "2023-07-24T08:08:07.625Z"
   },
   {
    "duration": 31,
    "start_time": "2023-07-24T08:08:07.630Z"
   },
   {
    "duration": 16,
    "start_time": "2023-07-24T08:08:07.663Z"
   },
   {
    "duration": 6,
    "start_time": "2023-07-24T08:08:07.681Z"
   },
   {
    "duration": 41,
    "start_time": "2023-07-24T08:08:07.688Z"
   },
   {
    "duration": 16,
    "start_time": "2023-07-24T08:08:07.730Z"
   },
   {
    "duration": 3,
    "start_time": "2023-07-24T08:08:07.748Z"
   },
   {
    "duration": 10,
    "start_time": "2023-07-24T08:08:07.753Z"
   },
   {
    "duration": 11,
    "start_time": "2023-07-24T08:08:07.765Z"
   },
   {
    "duration": 68,
    "start_time": "2023-07-24T08:08:27.250Z"
   },
   {
    "duration": 13,
    "start_time": "2023-07-24T08:08:27.319Z"
   },
   {
    "duration": 27,
    "start_time": "2023-07-24T08:08:27.334Z"
   },
   {
    "duration": 8,
    "start_time": "2023-07-24T08:08:27.363Z"
   },
   {
    "duration": 54,
    "start_time": "2023-07-24T08:08:27.373Z"
   },
   {
    "duration": 3,
    "start_time": "2023-07-24T08:08:27.429Z"
   },
   {
    "duration": 25,
    "start_time": "2023-07-24T08:08:27.434Z"
   },
   {
    "duration": 4,
    "start_time": "2023-07-24T08:08:27.461Z"
   },
   {
    "duration": 23,
    "start_time": "2023-07-24T08:08:27.467Z"
   },
   {
    "duration": 33,
    "start_time": "2023-07-24T08:08:27.492Z"
   },
   {
    "duration": 47,
    "start_time": "2023-07-24T08:08:27.527Z"
   },
   {
    "duration": 8,
    "start_time": "2023-07-24T08:08:27.576Z"
   },
   {
    "duration": 9,
    "start_time": "2023-07-24T08:08:27.586Z"
   },
   {
    "duration": 35,
    "start_time": "2023-07-24T08:08:27.597Z"
   },
   {
    "duration": 22,
    "start_time": "2023-07-24T08:08:27.634Z"
   },
   {
    "duration": 17,
    "start_time": "2023-07-24T08:08:27.658Z"
   },
   {
    "duration": 5,
    "start_time": "2023-07-24T08:08:27.677Z"
   },
   {
    "duration": 60,
    "start_time": "2023-07-24T08:08:27.683Z"
   },
   {
    "duration": 18,
    "start_time": "2023-07-24T08:08:27.744Z"
   },
   {
    "duration": 6,
    "start_time": "2023-07-24T08:08:27.764Z"
   },
   {
    "duration": 18,
    "start_time": "2023-07-24T08:08:27.771Z"
   },
   {
    "duration": 43,
    "start_time": "2023-07-24T08:08:27.790Z"
   },
   {
    "duration": 9,
    "start_time": "2023-07-24T08:08:27.835Z"
   },
   {
    "duration": 10,
    "start_time": "2023-07-24T08:08:27.846Z"
   },
   {
    "duration": 6,
    "start_time": "2023-07-24T08:08:27.857Z"
   },
   {
    "duration": 69,
    "start_time": "2023-07-24T08:15:07.421Z"
   },
   {
    "duration": 34,
    "start_time": "2023-07-24T08:15:07.492Z"
   },
   {
    "duration": 27,
    "start_time": "2023-07-24T08:15:07.528Z"
   },
   {
    "duration": 10,
    "start_time": "2023-07-24T08:15:07.557Z"
   },
   {
    "duration": 49,
    "start_time": "2023-07-24T08:15:07.569Z"
   },
   {
    "duration": 14,
    "start_time": "2023-07-24T08:15:07.619Z"
   },
   {
    "duration": 30,
    "start_time": "2023-07-24T08:15:07.634Z"
   },
   {
    "duration": 15,
    "start_time": "2023-07-24T08:15:07.666Z"
   },
   {
    "duration": 23,
    "start_time": "2023-07-24T08:15:07.682Z"
   },
   {
    "duration": 43,
    "start_time": "2023-07-24T08:15:07.706Z"
   },
   {
    "duration": 34,
    "start_time": "2023-07-24T08:15:07.751Z"
   },
   {
    "duration": 10,
    "start_time": "2023-07-24T08:15:07.787Z"
   },
   {
    "duration": 23,
    "start_time": "2023-07-24T08:15:07.798Z"
   },
   {
    "duration": 24,
    "start_time": "2023-07-24T08:15:07.825Z"
   },
   {
    "duration": 44,
    "start_time": "2023-07-24T08:15:07.850Z"
   },
   {
    "duration": 82,
    "start_time": "2023-07-24T08:15:07.895Z"
   },
   {
    "duration": 4,
    "start_time": "2023-07-24T08:15:07.979Z"
   },
   {
    "duration": 24,
    "start_time": "2023-07-24T08:15:07.985Z"
   },
   {
    "duration": 24,
    "start_time": "2023-07-24T08:15:08.010Z"
   },
   {
    "duration": 51,
    "start_time": "2023-07-24T08:15:08.036Z"
   },
   {
    "duration": 98,
    "start_time": "2023-07-24T08:15:08.089Z"
   },
   {
    "duration": 58,
    "start_time": "2023-07-24T08:15:08.189Z"
   },
   {
    "duration": 0,
    "start_time": "2023-07-24T08:15:08.248Z"
   },
   {
    "duration": 0,
    "start_time": "2023-07-24T08:15:08.249Z"
   },
   {
    "duration": 0,
    "start_time": "2023-07-24T08:15:08.250Z"
   },
   {
    "duration": 100,
    "start_time": "2023-07-24T08:15:55.134Z"
   },
   {
    "duration": 22,
    "start_time": "2023-07-24T08:15:55.236Z"
   },
   {
    "duration": 21,
    "start_time": "2023-07-24T08:15:55.260Z"
   },
   {
    "duration": 35,
    "start_time": "2023-07-24T08:15:55.283Z"
   },
   {
    "duration": 54,
    "start_time": "2023-07-24T08:15:55.321Z"
   },
   {
    "duration": 3,
    "start_time": "2023-07-24T08:15:55.377Z"
   },
   {
    "duration": 13,
    "start_time": "2023-07-24T08:15:55.382Z"
   },
   {
    "duration": 45,
    "start_time": "2023-07-24T08:15:55.396Z"
   },
   {
    "duration": 10,
    "start_time": "2023-07-24T08:15:55.442Z"
   },
   {
    "duration": 16,
    "start_time": "2023-07-24T08:15:55.454Z"
   },
   {
    "duration": 61,
    "start_time": "2023-07-24T08:15:55.472Z"
   },
   {
    "duration": 29,
    "start_time": "2023-07-24T08:15:55.534Z"
   },
   {
    "duration": 20,
    "start_time": "2023-07-24T08:15:55.565Z"
   },
   {
    "duration": 30,
    "start_time": "2023-07-24T08:15:55.587Z"
   },
   {
    "duration": 29,
    "start_time": "2023-07-24T08:15:55.618Z"
   },
   {
    "duration": 17,
    "start_time": "2023-07-24T08:15:55.649Z"
   },
   {
    "duration": 4,
    "start_time": "2023-07-24T08:15:55.668Z"
   },
   {
    "duration": 13,
    "start_time": "2023-07-24T08:15:55.673Z"
   },
   {
    "duration": 6,
    "start_time": "2023-07-24T08:15:55.688Z"
   },
   {
    "duration": 16,
    "start_time": "2023-07-24T08:15:55.706Z"
   },
   {
    "duration": 12,
    "start_time": "2023-07-24T08:15:55.724Z"
   },
   {
    "duration": 13,
    "start_time": "2023-07-24T08:15:55.737Z"
   },
   {
    "duration": 0,
    "start_time": "2023-07-24T08:15:55.752Z"
   },
   {
    "duration": 0,
    "start_time": "2023-07-24T08:15:55.754Z"
   },
   {
    "duration": 0,
    "start_time": "2023-07-24T08:15:55.755Z"
   },
   {
    "duration": 64,
    "start_time": "2023-07-24T08:16:10.724Z"
   },
   {
    "duration": 25,
    "start_time": "2023-07-24T08:16:10.790Z"
   },
   {
    "duration": 39,
    "start_time": "2023-07-24T08:16:10.816Z"
   },
   {
    "duration": 41,
    "start_time": "2023-07-24T08:16:10.857Z"
   },
   {
    "duration": 58,
    "start_time": "2023-07-24T08:16:10.905Z"
   },
   {
    "duration": 4,
    "start_time": "2023-07-24T08:16:10.965Z"
   },
   {
    "duration": 22,
    "start_time": "2023-07-24T08:16:10.971Z"
   },
   {
    "duration": 27,
    "start_time": "2023-07-24T08:16:10.994Z"
   },
   {
    "duration": 16,
    "start_time": "2023-07-24T08:16:11.022Z"
   },
   {
    "duration": 9,
    "start_time": "2023-07-24T08:16:11.042Z"
   },
   {
    "duration": 64,
    "start_time": "2023-07-24T08:16:11.053Z"
   },
   {
    "duration": 9,
    "start_time": "2023-07-24T08:16:11.119Z"
   },
   {
    "duration": 32,
    "start_time": "2023-07-24T08:16:11.131Z"
   },
   {
    "duration": 26,
    "start_time": "2023-07-24T08:16:11.164Z"
   },
   {
    "duration": 65,
    "start_time": "2023-07-24T08:16:11.191Z"
   },
   {
    "duration": 35,
    "start_time": "2023-07-24T08:16:11.257Z"
   },
   {
    "duration": 4,
    "start_time": "2023-07-24T08:16:11.293Z"
   },
   {
    "duration": 80,
    "start_time": "2023-07-24T08:16:11.298Z"
   },
   {
    "duration": 43,
    "start_time": "2023-07-24T08:16:11.380Z"
   },
   {
    "duration": 7,
    "start_time": "2023-07-24T08:16:11.425Z"
   },
   {
    "duration": 20,
    "start_time": "2023-07-24T08:16:11.433Z"
   },
   {
    "duration": 75,
    "start_time": "2023-07-24T08:16:11.454Z"
   },
   {
    "duration": 34,
    "start_time": "2023-07-24T08:16:11.531Z"
   },
   {
    "duration": 7,
    "start_time": "2023-07-24T08:16:11.571Z"
   },
   {
    "duration": 16,
    "start_time": "2023-07-24T08:16:11.580Z"
   },
   {
    "duration": 82,
    "start_time": "2023-07-24T08:16:41.276Z"
   },
   {
    "duration": 14,
    "start_time": "2023-07-24T08:16:41.360Z"
   },
   {
    "duration": 23,
    "start_time": "2023-07-24T08:16:41.375Z"
   },
   {
    "duration": 36,
    "start_time": "2023-07-24T08:16:41.406Z"
   },
   {
    "duration": 31,
    "start_time": "2023-07-24T08:16:41.443Z"
   },
   {
    "duration": 3,
    "start_time": "2023-07-24T08:16:41.476Z"
   },
   {
    "duration": 46,
    "start_time": "2023-07-24T08:16:41.481Z"
   },
   {
    "duration": 33,
    "start_time": "2023-07-24T08:16:41.529Z"
   },
   {
    "duration": 17,
    "start_time": "2023-07-24T08:16:41.564Z"
   },
   {
    "duration": 12,
    "start_time": "2023-07-24T08:16:41.583Z"
   },
   {
    "duration": 60,
    "start_time": "2023-07-24T08:16:41.597Z"
   },
   {
    "duration": 11,
    "start_time": "2023-07-24T08:16:41.658Z"
   },
   {
    "duration": 4,
    "start_time": "2023-07-24T08:16:41.670Z"
   },
   {
    "duration": 30,
    "start_time": "2023-07-24T08:16:41.675Z"
   },
   {
    "duration": 52,
    "start_time": "2023-07-24T08:16:41.708Z"
   },
   {
    "duration": 27,
    "start_time": "2023-07-24T08:16:41.762Z"
   },
   {
    "duration": 4,
    "start_time": "2023-07-24T08:16:41.791Z"
   },
   {
    "duration": 42,
    "start_time": "2023-07-24T08:16:41.797Z"
   },
   {
    "duration": 26,
    "start_time": "2023-07-24T08:16:41.841Z"
   },
   {
    "duration": 85,
    "start_time": "2023-07-24T08:16:41.868Z"
   },
   {
    "duration": 34,
    "start_time": "2023-07-24T08:16:41.954Z"
   },
   {
    "duration": 3527,
    "start_time": "2023-07-24T08:16:41.989Z"
   },
   {
    "duration": 0,
    "start_time": "2023-07-24T08:16:45.517Z"
   },
   {
    "duration": 0,
    "start_time": "2023-07-24T08:16:45.519Z"
   },
   {
    "duration": 0,
    "start_time": "2023-07-24T08:16:45.522Z"
   },
   {
    "duration": 80,
    "start_time": "2023-07-24T08:17:00.864Z"
   },
   {
    "duration": 72,
    "start_time": "2023-07-24T08:17:00.945Z"
   },
   {
    "duration": 76,
    "start_time": "2023-07-24T08:17:01.019Z"
   },
   {
    "duration": 105,
    "start_time": "2023-07-24T08:17:01.097Z"
   },
   {
    "duration": 80,
    "start_time": "2023-07-24T08:17:01.204Z"
   },
   {
    "duration": 81,
    "start_time": "2023-07-24T08:17:01.286Z"
   },
   {
    "duration": 96,
    "start_time": "2023-07-24T08:17:01.368Z"
   },
   {
    "duration": 26,
    "start_time": "2023-07-24T08:17:01.466Z"
   },
   {
    "duration": 81,
    "start_time": "2023-07-24T08:17:01.494Z"
   },
   {
    "duration": 113,
    "start_time": "2023-07-24T08:17:01.578Z"
   },
   {
    "duration": 82,
    "start_time": "2023-07-24T08:17:01.692Z"
   },
   {
    "duration": 62,
    "start_time": "2023-07-24T08:17:01.775Z"
   },
   {
    "duration": 88,
    "start_time": "2023-07-24T08:17:01.838Z"
   },
   {
    "duration": 52,
    "start_time": "2023-07-24T08:17:01.928Z"
   },
   {
    "duration": 86,
    "start_time": "2023-07-24T08:17:01.981Z"
   },
   {
    "duration": 73,
    "start_time": "2023-07-24T08:17:02.069Z"
   },
   {
    "duration": 25,
    "start_time": "2023-07-24T08:17:02.145Z"
   },
   {
    "duration": 95,
    "start_time": "2023-07-24T08:17:02.172Z"
   },
   {
    "duration": 135,
    "start_time": "2023-07-24T08:17:02.270Z"
   },
   {
    "duration": 127,
    "start_time": "2023-07-24T08:17:02.413Z"
   },
   {
    "duration": 156,
    "start_time": "2023-07-24T08:17:02.542Z"
   },
   {
    "duration": 231,
    "start_time": "2023-07-24T08:17:02.701Z"
   },
   {
    "duration": 33,
    "start_time": "2023-07-24T08:17:02.934Z"
   },
   {
    "duration": 66,
    "start_time": "2023-07-24T08:17:02.969Z"
   },
   {
    "duration": 109,
    "start_time": "2023-07-24T08:17:03.037Z"
   },
   {
    "duration": 68,
    "start_time": "2023-07-24T08:26:30.524Z"
   },
   {
    "duration": 24,
    "start_time": "2023-07-24T08:26:30.594Z"
   },
   {
    "duration": 116,
    "start_time": "2023-07-24T08:26:30.619Z"
   },
   {
    "duration": 58,
    "start_time": "2023-07-24T08:26:30.736Z"
   },
   {
    "duration": 158,
    "start_time": "2023-07-24T08:26:30.796Z"
   },
   {
    "duration": 45,
    "start_time": "2023-07-24T08:26:30.955Z"
   },
   {
    "duration": 82,
    "start_time": "2023-07-24T08:26:31.002Z"
   },
   {
    "duration": 81,
    "start_time": "2023-07-24T08:26:31.085Z"
   },
   {
    "duration": 69,
    "start_time": "2023-07-24T08:26:31.168Z"
   },
   {
    "duration": 48,
    "start_time": "2023-07-24T08:26:31.238Z"
   },
   {
    "duration": 81,
    "start_time": "2023-07-24T08:26:31.288Z"
   },
   {
    "duration": 61,
    "start_time": "2023-07-24T08:26:31.371Z"
   },
   {
    "duration": 54,
    "start_time": "2023-07-24T08:26:31.434Z"
   },
   {
    "duration": 81,
    "start_time": "2023-07-24T08:26:31.491Z"
   },
   {
    "duration": 82,
    "start_time": "2023-07-24T08:26:31.574Z"
   },
   {
    "duration": 119,
    "start_time": "2023-07-24T08:26:31.657Z"
   },
   {
    "duration": 93,
    "start_time": "2023-07-24T08:26:31.778Z"
   },
   {
    "duration": 75,
    "start_time": "2023-07-24T08:26:31.873Z"
   },
   {
    "duration": 83,
    "start_time": "2023-07-24T08:26:31.949Z"
   },
   {
    "duration": 98,
    "start_time": "2023-07-24T08:26:32.034Z"
   },
   {
    "duration": 49,
    "start_time": "2023-07-24T08:26:32.137Z"
   },
   {
    "duration": 107,
    "start_time": "2023-07-24T08:26:32.188Z"
   },
   {
    "duration": 221,
    "start_time": "2023-07-24T08:26:32.297Z"
   },
   {
    "duration": 226,
    "start_time": "2023-07-24T08:26:32.520Z"
   },
   {
    "duration": 58,
    "start_time": "2023-07-24T08:26:32.748Z"
   },
   {
    "duration": 63,
    "start_time": "2023-07-24T08:27:22.126Z"
   },
   {
    "duration": 39,
    "start_time": "2023-07-24T08:27:22.191Z"
   },
   {
    "duration": 38,
    "start_time": "2023-07-24T08:27:22.231Z"
   },
   {
    "duration": 12,
    "start_time": "2023-07-24T08:27:22.272Z"
   },
   {
    "duration": 70,
    "start_time": "2023-07-24T08:27:22.287Z"
   },
   {
    "duration": 3,
    "start_time": "2023-07-24T08:27:22.359Z"
   },
   {
    "duration": 22,
    "start_time": "2023-07-24T08:27:22.363Z"
   },
   {
    "duration": 6,
    "start_time": "2023-07-24T08:27:22.386Z"
   },
   {
    "duration": 39,
    "start_time": "2023-07-24T08:27:22.393Z"
   },
   {
    "duration": 27,
    "start_time": "2023-07-24T08:27:22.434Z"
   },
   {
    "duration": 72,
    "start_time": "2023-07-24T08:27:22.463Z"
   },
   {
    "duration": 13,
    "start_time": "2023-07-24T08:27:22.537Z"
   },
   {
    "duration": 24,
    "start_time": "2023-07-24T08:27:22.552Z"
   },
   {
    "duration": 14,
    "start_time": "2023-07-24T08:27:22.578Z"
   },
   {
    "duration": 59,
    "start_time": "2023-07-24T08:27:22.594Z"
   },
   {
    "duration": 21,
    "start_time": "2023-07-24T08:27:22.655Z"
   },
   {
    "duration": 51,
    "start_time": "2023-07-24T08:27:22.678Z"
   },
   {
    "duration": 31,
    "start_time": "2023-07-24T08:27:22.731Z"
   },
   {
    "duration": 20,
    "start_time": "2023-07-24T08:27:22.763Z"
   },
   {
    "duration": 29,
    "start_time": "2023-07-24T08:27:22.785Z"
   },
   {
    "duration": 42,
    "start_time": "2023-07-24T08:27:22.815Z"
   },
   {
    "duration": 29,
    "start_time": "2023-07-24T08:27:22.858Z"
   },
   {
    "duration": 0,
    "start_time": "2023-07-24T08:27:22.888Z"
   },
   {
    "duration": 0,
    "start_time": "2023-07-24T08:27:22.890Z"
   },
   {
    "duration": 0,
    "start_time": "2023-07-24T08:27:22.890Z"
   },
   {
    "duration": 80,
    "start_time": "2023-07-24T08:27:34.890Z"
   },
   {
    "duration": 13,
    "start_time": "2023-07-24T08:27:34.972Z"
   },
   {
    "duration": 33,
    "start_time": "2023-07-24T08:27:34.987Z"
   },
   {
    "duration": 19,
    "start_time": "2023-07-24T08:27:35.021Z"
   },
   {
    "duration": 38,
    "start_time": "2023-07-24T08:27:35.042Z"
   },
   {
    "duration": 6,
    "start_time": "2023-07-24T08:27:35.082Z"
   },
   {
    "duration": 15,
    "start_time": "2023-07-24T08:27:35.089Z"
   },
   {
    "duration": 21,
    "start_time": "2023-07-24T08:27:35.117Z"
   },
   {
    "duration": 7,
    "start_time": "2023-07-24T08:27:35.140Z"
   },
   {
    "duration": 15,
    "start_time": "2023-07-24T08:27:35.148Z"
   },
   {
    "duration": 31,
    "start_time": "2023-07-24T08:27:35.164Z"
   },
   {
    "duration": 29,
    "start_time": "2023-07-24T08:27:35.196Z"
   },
   {
    "duration": 8,
    "start_time": "2023-07-24T08:27:35.228Z"
   },
   {
    "duration": 10,
    "start_time": "2023-07-24T08:27:35.238Z"
   },
   {
    "duration": 18,
    "start_time": "2023-07-24T08:27:35.249Z"
   },
   {
    "duration": 16,
    "start_time": "2023-07-24T08:27:35.268Z"
   },
   {
    "duration": 3,
    "start_time": "2023-07-24T08:27:35.285Z"
   },
   {
    "duration": 41,
    "start_time": "2023-07-24T08:27:35.289Z"
   },
   {
    "duration": 26,
    "start_time": "2023-07-24T08:27:35.331Z"
   },
   {
    "duration": 4,
    "start_time": "2023-07-24T08:27:35.358Z"
   },
   {
    "duration": 18,
    "start_time": "2023-07-24T08:27:35.363Z"
   },
   {
    "duration": 2926,
    "start_time": "2023-07-24T08:27:35.383Z"
   },
   {
    "duration": 0,
    "start_time": "2023-07-24T08:27:38.312Z"
   },
   {
    "duration": 0,
    "start_time": "2023-07-24T08:27:38.318Z"
   },
   {
    "duration": 0,
    "start_time": "2023-07-24T08:27:38.319Z"
   },
   {
    "duration": 96,
    "start_time": "2023-07-24T08:27:56.262Z"
   },
   {
    "duration": 25,
    "start_time": "2023-07-24T08:27:56.361Z"
   },
   {
    "duration": 35,
    "start_time": "2023-07-24T08:27:56.388Z"
   },
   {
    "duration": 30,
    "start_time": "2023-07-24T08:27:56.430Z"
   },
   {
    "duration": 66,
    "start_time": "2023-07-24T08:27:56.462Z"
   },
   {
    "duration": 12,
    "start_time": "2023-07-24T08:27:56.535Z"
   },
   {
    "duration": 21,
    "start_time": "2023-07-24T08:27:56.548Z"
   },
   {
    "duration": 4,
    "start_time": "2023-07-24T08:27:56.571Z"
   },
   {
    "duration": 7,
    "start_time": "2023-07-24T08:27:56.577Z"
   },
   {
    "duration": 8,
    "start_time": "2023-07-24T08:27:56.586Z"
   },
   {
    "duration": 48,
    "start_time": "2023-07-24T08:27:56.595Z"
   },
   {
    "duration": 13,
    "start_time": "2023-07-24T08:27:56.645Z"
   },
   {
    "duration": 8,
    "start_time": "2023-07-24T08:27:56.660Z"
   },
   {
    "duration": 40,
    "start_time": "2023-07-24T08:27:56.669Z"
   },
   {
    "duration": 39,
    "start_time": "2023-07-24T08:27:56.714Z"
   },
   {
    "duration": 18,
    "start_time": "2023-07-24T08:27:56.754Z"
   },
   {
    "duration": 6,
    "start_time": "2023-07-24T08:27:56.773Z"
   },
   {
    "duration": 56,
    "start_time": "2023-07-24T08:27:56.781Z"
   },
   {
    "duration": 35,
    "start_time": "2023-07-24T08:27:56.839Z"
   },
   {
    "duration": 54,
    "start_time": "2023-07-24T08:27:56.876Z"
   },
   {
    "duration": 10,
    "start_time": "2023-07-24T08:27:56.932Z"
   },
   {
    "duration": 16,
    "start_time": "2023-07-24T08:27:56.943Z"
   },
   {
    "duration": 2,
    "start_time": "2023-07-24T08:27:56.961Z"
   },
   {
    "duration": 11,
    "start_time": "2023-07-24T08:27:56.964Z"
   },
   {
    "duration": 13,
    "start_time": "2023-07-24T08:27:56.977Z"
   },
   {
    "duration": 78,
    "start_time": "2023-07-24T08:28:10.605Z"
   },
   {
    "duration": 14,
    "start_time": "2023-07-24T08:28:10.685Z"
   },
   {
    "duration": 53,
    "start_time": "2023-07-24T08:28:10.715Z"
   },
   {
    "duration": 58,
    "start_time": "2023-07-24T08:28:10.770Z"
   },
   {
    "duration": 47,
    "start_time": "2023-07-24T08:28:10.836Z"
   },
   {
    "duration": 9,
    "start_time": "2023-07-24T08:28:10.885Z"
   },
   {
    "duration": 50,
    "start_time": "2023-07-24T08:28:10.895Z"
   },
   {
    "duration": 24,
    "start_time": "2023-07-24T08:28:10.947Z"
   },
   {
    "duration": 25,
    "start_time": "2023-07-24T08:28:10.972Z"
   },
   {
    "duration": 50,
    "start_time": "2023-07-24T08:28:11.005Z"
   },
   {
    "duration": 64,
    "start_time": "2023-07-24T08:28:11.057Z"
   },
   {
    "duration": 16,
    "start_time": "2023-07-24T08:28:11.122Z"
   },
   {
    "duration": 9,
    "start_time": "2023-07-24T08:28:11.140Z"
   },
   {
    "duration": 18,
    "start_time": "2023-07-24T08:28:11.150Z"
   },
   {
    "duration": 67,
    "start_time": "2023-07-24T08:28:11.169Z"
   },
   {
    "duration": 28,
    "start_time": "2023-07-24T08:28:11.237Z"
   },
   {
    "duration": 4,
    "start_time": "2023-07-24T08:28:11.267Z"
   },
   {
    "duration": 19,
    "start_time": "2023-07-24T08:28:11.273Z"
   },
   {
    "duration": 41,
    "start_time": "2023-07-24T08:28:11.294Z"
   },
   {
    "duration": 13,
    "start_time": "2023-07-24T08:28:11.337Z"
   },
   {
    "duration": 33,
    "start_time": "2023-07-24T08:28:11.351Z"
   },
   {
    "duration": 46,
    "start_time": "2023-07-24T08:28:11.386Z"
   },
   {
    "duration": 6,
    "start_time": "2023-07-24T08:28:11.434Z"
   },
   {
    "duration": 12,
    "start_time": "2023-07-24T08:28:11.442Z"
   },
   {
    "duration": 5,
    "start_time": "2023-07-24T08:28:11.455Z"
   },
   {
    "duration": 77,
    "start_time": "2023-07-24T08:29:26.445Z"
   },
   {
    "duration": 21,
    "start_time": "2023-07-24T08:29:26.524Z"
   },
   {
    "duration": 20,
    "start_time": "2023-07-24T08:29:26.547Z"
   },
   {
    "duration": 15,
    "start_time": "2023-07-24T08:29:26.569Z"
   },
   {
    "duration": 69,
    "start_time": "2023-07-24T08:29:26.586Z"
   },
   {
    "duration": 4,
    "start_time": "2023-07-24T08:29:26.656Z"
   },
   {
    "duration": 72,
    "start_time": "2023-07-24T08:29:26.661Z"
   },
   {
    "duration": 4,
    "start_time": "2023-07-24T08:29:26.734Z"
   },
   {
    "duration": 9,
    "start_time": "2023-07-24T08:29:26.739Z"
   },
   {
    "duration": 14,
    "start_time": "2023-07-24T08:29:26.750Z"
   },
   {
    "duration": 52,
    "start_time": "2023-07-24T08:29:26.765Z"
   },
   {
    "duration": 11,
    "start_time": "2023-07-24T08:29:26.818Z"
   },
   {
    "duration": 4,
    "start_time": "2023-07-24T08:29:26.831Z"
   },
   {
    "duration": 17,
    "start_time": "2023-07-24T08:29:26.836Z"
   },
   {
    "duration": 34,
    "start_time": "2023-07-24T08:29:26.854Z"
   },
   {
    "duration": 32,
    "start_time": "2023-07-24T08:29:26.889Z"
   },
   {
    "duration": 15,
    "start_time": "2023-07-24T08:29:26.924Z"
   },
   {
    "duration": 13,
    "start_time": "2023-07-24T08:29:26.941Z"
   },
   {
    "duration": 12,
    "start_time": "2023-07-24T08:29:26.955Z"
   },
   {
    "duration": 4,
    "start_time": "2023-07-24T08:29:26.968Z"
   },
   {
    "duration": 23,
    "start_time": "2023-07-24T08:29:26.973Z"
   },
   {
    "duration": 173,
    "start_time": "2023-07-24T08:29:26.997Z"
   },
   {
    "duration": 1,
    "start_time": "2023-07-24T08:29:27.171Z"
   },
   {
    "duration": 0,
    "start_time": "2023-07-24T08:29:27.173Z"
   },
   {
    "duration": 0,
    "start_time": "2023-07-24T08:29:27.174Z"
   },
   {
    "duration": 83,
    "start_time": "2023-07-24T08:29:38.860Z"
   },
   {
    "duration": 22,
    "start_time": "2023-07-24T08:29:38.946Z"
   },
   {
    "duration": 44,
    "start_time": "2023-07-24T08:29:38.970Z"
   },
   {
    "duration": 52,
    "start_time": "2023-07-24T08:29:39.016Z"
   },
   {
    "duration": 65,
    "start_time": "2023-07-24T08:29:39.069Z"
   },
   {
    "duration": 33,
    "start_time": "2023-07-24T08:29:39.135Z"
   },
   {
    "duration": 41,
    "start_time": "2023-07-24T08:29:39.172Z"
   },
   {
    "duration": 33,
    "start_time": "2023-07-24T08:29:39.214Z"
   },
   {
    "duration": 17,
    "start_time": "2023-07-24T08:29:39.248Z"
   },
   {
    "duration": 42,
    "start_time": "2023-07-24T08:29:39.267Z"
   },
   {
    "duration": 63,
    "start_time": "2023-07-24T08:29:39.310Z"
   },
   {
    "duration": 9,
    "start_time": "2023-07-24T08:29:39.374Z"
   },
   {
    "duration": 12,
    "start_time": "2023-07-24T08:29:39.384Z"
   },
   {
    "duration": 53,
    "start_time": "2023-07-24T08:29:39.398Z"
   },
   {
    "duration": 204,
    "start_time": "2023-07-24T08:29:39.453Z"
   },
   {
    "duration": 50,
    "start_time": "2023-07-24T08:29:39.659Z"
   },
   {
    "duration": 40,
    "start_time": "2023-07-24T08:29:39.710Z"
   },
   {
    "duration": 26,
    "start_time": "2023-07-24T08:29:39.752Z"
   },
   {
    "duration": 54,
    "start_time": "2023-07-24T08:29:39.779Z"
   },
   {
    "duration": 31,
    "start_time": "2023-07-24T08:29:39.835Z"
   },
   {
    "duration": 101,
    "start_time": "2023-07-24T08:29:39.868Z"
   },
   {
    "duration": 82,
    "start_time": "2023-07-24T08:29:39.970Z"
   },
   {
    "duration": 21,
    "start_time": "2023-07-24T08:29:40.054Z"
   },
   {
    "duration": 50,
    "start_time": "2023-07-24T08:29:40.077Z"
   },
   {
    "duration": 38,
    "start_time": "2023-07-24T08:29:40.129Z"
   },
   {
    "duration": 87,
    "start_time": "2023-07-24T08:34:46.102Z"
   },
   {
    "duration": 50,
    "start_time": "2023-07-24T08:34:46.191Z"
   },
   {
    "duration": 28,
    "start_time": "2023-07-24T08:34:46.242Z"
   },
   {
    "duration": 45,
    "start_time": "2023-07-24T08:34:46.272Z"
   },
   {
    "duration": 71,
    "start_time": "2023-07-24T08:34:46.319Z"
   },
   {
    "duration": 4,
    "start_time": "2023-07-24T08:34:46.392Z"
   },
   {
    "duration": 55,
    "start_time": "2023-07-24T08:34:46.397Z"
   },
   {
    "duration": 13,
    "start_time": "2023-07-24T08:34:46.455Z"
   },
   {
    "duration": 17,
    "start_time": "2023-07-24T08:34:46.470Z"
   },
   {
    "duration": 5,
    "start_time": "2023-07-24T08:34:46.490Z"
   },
   {
    "duration": 78,
    "start_time": "2023-07-24T08:34:46.496Z"
   },
   {
    "duration": 7,
    "start_time": "2023-07-24T08:34:46.576Z"
   },
   {
    "duration": 9,
    "start_time": "2023-07-24T08:34:46.585Z"
   },
   {
    "duration": 39,
    "start_time": "2023-07-24T08:34:46.595Z"
   },
   {
    "duration": 30,
    "start_time": "2023-07-24T08:34:46.636Z"
   },
   {
    "duration": 17,
    "start_time": "2023-07-24T08:34:46.668Z"
   },
   {
    "duration": 3,
    "start_time": "2023-07-24T08:34:46.687Z"
   },
   {
    "duration": 45,
    "start_time": "2023-07-24T08:34:46.691Z"
   },
   {
    "duration": 6,
    "start_time": "2023-07-24T08:34:46.737Z"
   },
   {
    "duration": 3,
    "start_time": "2023-07-24T08:34:46.745Z"
   },
   {
    "duration": 21,
    "start_time": "2023-07-24T08:34:46.750Z"
   },
   {
    "duration": 22,
    "start_time": "2023-07-24T08:34:46.772Z"
   },
   {
    "duration": 2,
    "start_time": "2023-07-24T08:34:46.796Z"
   },
   {
    "duration": 26,
    "start_time": "2023-07-24T08:34:46.799Z"
   },
   {
    "duration": 7,
    "start_time": "2023-07-24T08:34:46.826Z"
   },
   {
    "duration": 79,
    "start_time": "2023-07-24T08:35:06.738Z"
   },
   {
    "duration": 14,
    "start_time": "2023-07-24T08:35:06.822Z"
   },
   {
    "duration": 14,
    "start_time": "2023-07-24T08:35:06.837Z"
   },
   {
    "duration": 8,
    "start_time": "2023-07-24T08:35:06.854Z"
   },
   {
    "duration": 29,
    "start_time": "2023-07-24T08:35:06.863Z"
   },
   {
    "duration": 3,
    "start_time": "2023-07-24T08:35:06.894Z"
   },
   {
    "duration": 19,
    "start_time": "2023-07-24T08:35:06.913Z"
   },
   {
    "duration": 16,
    "start_time": "2023-07-24T08:35:06.933Z"
   },
   {
    "duration": 9,
    "start_time": "2023-07-24T08:35:06.950Z"
   },
   {
    "duration": 4,
    "start_time": "2023-07-24T08:35:06.961Z"
   },
   {
    "duration": 31,
    "start_time": "2023-07-24T08:35:06.966Z"
   },
   {
    "duration": 10,
    "start_time": "2023-07-24T08:35:06.998Z"
   },
   {
    "duration": 29,
    "start_time": "2023-07-24T08:35:07.009Z"
   },
   {
    "duration": 18,
    "start_time": "2023-07-24T08:35:07.039Z"
   },
   {
    "duration": 18,
    "start_time": "2023-07-24T08:35:07.058Z"
   },
   {
    "duration": 18,
    "start_time": "2023-07-24T08:35:07.077Z"
   },
   {
    "duration": 6,
    "start_time": "2023-07-24T08:35:07.097Z"
   },
   {
    "duration": 66,
    "start_time": "2023-07-24T08:35:07.104Z"
   },
   {
    "duration": 9,
    "start_time": "2023-07-24T08:35:07.171Z"
   },
   {
    "duration": 8,
    "start_time": "2023-07-24T08:35:07.181Z"
   },
   {
    "duration": 13,
    "start_time": "2023-07-24T08:35:07.190Z"
   },
   {
    "duration": 58,
    "start_time": "2023-07-24T08:35:07.204Z"
   },
   {
    "duration": 2,
    "start_time": "2023-07-24T08:35:07.263Z"
   },
   {
    "duration": 11,
    "start_time": "2023-07-24T08:35:07.267Z"
   },
   {
    "duration": 5,
    "start_time": "2023-07-24T08:35:07.279Z"
   },
   {
    "duration": 95,
    "start_time": "2023-07-24T08:45:27.254Z"
   },
   {
    "duration": 18,
    "start_time": "2023-07-24T08:45:27.351Z"
   },
   {
    "duration": 13,
    "start_time": "2023-07-24T08:45:27.371Z"
   },
   {
    "duration": 9,
    "start_time": "2023-07-24T08:45:27.386Z"
   },
   {
    "duration": 68,
    "start_time": "2023-07-24T08:45:27.397Z"
   },
   {
    "duration": 4,
    "start_time": "2023-07-24T08:45:27.467Z"
   },
   {
    "duration": 9,
    "start_time": "2023-07-24T08:45:27.473Z"
   },
   {
    "duration": 10,
    "start_time": "2023-07-24T08:45:27.484Z"
   },
   {
    "duration": 84,
    "start_time": "2023-07-24T08:45:27.496Z"
   },
   {
    "duration": 7,
    "start_time": "2023-07-24T08:45:27.581Z"
   },
   {
    "duration": 98,
    "start_time": "2023-07-24T08:45:27.589Z"
   },
   {
    "duration": 25,
    "start_time": "2023-07-24T08:45:27.688Z"
   },
   {
    "duration": 37,
    "start_time": "2023-07-24T08:45:27.724Z"
   },
   {
    "duration": 10,
    "start_time": "2023-07-24T08:45:27.764Z"
   },
   {
    "duration": 100,
    "start_time": "2023-07-24T08:45:27.775Z"
   },
   {
    "duration": 45,
    "start_time": "2023-07-24T08:45:27.876Z"
   },
   {
    "duration": 6,
    "start_time": "2023-07-24T08:45:27.930Z"
   },
   {
    "duration": 32,
    "start_time": "2023-07-24T08:45:27.937Z"
   },
   {
    "duration": 10,
    "start_time": "2023-07-24T08:45:27.971Z"
   },
   {
    "duration": 6,
    "start_time": "2023-07-24T08:45:27.982Z"
   },
   {
    "duration": 73,
    "start_time": "2023-07-24T08:45:27.989Z"
   },
   {
    "duration": 49,
    "start_time": "2023-07-24T08:45:28.064Z"
   },
   {
    "duration": 0,
    "start_time": "2023-07-24T08:45:28.114Z"
   },
   {
    "duration": 0,
    "start_time": "2023-07-24T08:45:28.115Z"
   },
   {
    "duration": 0,
    "start_time": "2023-07-24T08:45:28.115Z"
   },
   {
    "duration": 113,
    "start_time": "2023-07-24T08:45:47.257Z"
   },
   {
    "duration": 13,
    "start_time": "2023-07-24T08:45:47.372Z"
   },
   {
    "duration": 36,
    "start_time": "2023-07-24T08:45:47.387Z"
   },
   {
    "duration": 75,
    "start_time": "2023-07-24T08:45:47.439Z"
   },
   {
    "duration": 97,
    "start_time": "2023-07-24T08:45:47.516Z"
   },
   {
    "duration": 13,
    "start_time": "2023-07-24T08:45:47.616Z"
   },
   {
    "duration": 40,
    "start_time": "2023-07-24T08:45:47.630Z"
   },
   {
    "duration": 7,
    "start_time": "2023-07-24T08:45:47.671Z"
   },
   {
    "duration": 11,
    "start_time": "2023-07-24T08:45:47.679Z"
   },
   {
    "duration": 70,
    "start_time": "2023-07-24T08:45:47.692Z"
   },
   {
    "duration": 58,
    "start_time": "2023-07-24T08:45:47.763Z"
   },
   {
    "duration": 23,
    "start_time": "2023-07-24T08:45:47.822Z"
   },
   {
    "duration": 15,
    "start_time": "2023-07-24T08:45:47.850Z"
   },
   {
    "duration": 14,
    "start_time": "2023-07-24T08:45:47.868Z"
   },
   {
    "duration": 76,
    "start_time": "2023-07-24T08:45:47.884Z"
   },
   {
    "duration": 23,
    "start_time": "2023-07-24T08:45:47.962Z"
   },
   {
    "duration": 7,
    "start_time": "2023-07-24T08:45:47.987Z"
   },
   {
    "duration": 70,
    "start_time": "2023-07-24T08:45:47.995Z"
   },
   {
    "duration": 15,
    "start_time": "2023-07-24T08:45:48.067Z"
   },
   {
    "duration": 73,
    "start_time": "2023-07-24T08:45:48.084Z"
   },
   {
    "duration": 26,
    "start_time": "2023-07-24T08:45:48.159Z"
   },
   {
    "duration": 195,
    "start_time": "2023-07-24T08:45:48.187Z"
   },
   {
    "duration": 3,
    "start_time": "2023-07-24T08:45:48.383Z"
   },
   {
    "duration": 77,
    "start_time": "2023-07-24T08:45:48.388Z"
   },
   {
    "duration": 12,
    "start_time": "2023-07-24T08:45:48.467Z"
   },
   {
    "duration": 106,
    "start_time": "2023-07-24T08:46:15.773Z"
   },
   {
    "duration": 14,
    "start_time": "2023-07-24T08:46:15.881Z"
   },
   {
    "duration": 62,
    "start_time": "2023-07-24T08:46:15.897Z"
   },
   {
    "duration": 17,
    "start_time": "2023-07-24T08:46:15.961Z"
   },
   {
    "duration": 61,
    "start_time": "2023-07-24T08:46:15.980Z"
   },
   {
    "duration": 6,
    "start_time": "2023-07-24T08:46:16.042Z"
   },
   {
    "duration": 24,
    "start_time": "2023-07-24T08:46:16.049Z"
   },
   {
    "duration": 34,
    "start_time": "2023-07-24T08:46:16.075Z"
   },
   {
    "duration": 70,
    "start_time": "2023-07-24T08:46:16.112Z"
   },
   {
    "duration": 49,
    "start_time": "2023-07-24T08:46:16.185Z"
   },
   {
    "duration": 76,
    "start_time": "2023-07-24T08:46:16.236Z"
   },
   {
    "duration": 35,
    "start_time": "2023-07-24T08:46:16.314Z"
   },
   {
    "duration": 20,
    "start_time": "2023-07-24T08:46:16.361Z"
   },
   {
    "duration": 40,
    "start_time": "2023-07-24T08:46:16.383Z"
   },
   {
    "duration": 95,
    "start_time": "2023-07-24T08:46:16.442Z"
   },
   {
    "duration": 53,
    "start_time": "2023-07-24T08:46:16.539Z"
   },
   {
    "duration": 4,
    "start_time": "2023-07-24T08:46:16.594Z"
   },
   {
    "duration": 99,
    "start_time": "2023-07-24T08:46:16.599Z"
   },
   {
    "duration": 61,
    "start_time": "2023-07-24T08:46:16.714Z"
   },
   {
    "duration": 7,
    "start_time": "2023-07-24T08:46:16.777Z"
   },
   {
    "duration": 10,
    "start_time": "2023-07-24T08:46:16.785Z"
   },
   {
    "duration": 97,
    "start_time": "2023-07-24T08:46:16.798Z"
   },
   {
    "duration": 20,
    "start_time": "2023-07-24T08:46:16.897Z"
   },
   {
    "duration": 36,
    "start_time": "2023-07-24T08:46:16.922Z"
   },
   {
    "duration": 17,
    "start_time": "2023-07-24T08:46:16.959Z"
   },
   {
    "duration": 102,
    "start_time": "2023-07-24T08:47:05.659Z"
   },
   {
    "duration": 14,
    "start_time": "2023-07-24T08:47:05.765Z"
   },
   {
    "duration": 43,
    "start_time": "2023-07-24T08:47:05.780Z"
   },
   {
    "duration": 44,
    "start_time": "2023-07-24T08:47:05.825Z"
   },
   {
    "duration": 77,
    "start_time": "2023-07-24T08:47:05.870Z"
   },
   {
    "duration": 32,
    "start_time": "2023-07-24T08:47:05.948Z"
   },
   {
    "duration": 58,
    "start_time": "2023-07-24T08:47:05.981Z"
   },
   {
    "duration": 32,
    "start_time": "2023-07-24T08:47:06.040Z"
   },
   {
    "duration": 56,
    "start_time": "2023-07-24T08:47:06.074Z"
   },
   {
    "duration": 126,
    "start_time": "2023-07-24T08:47:06.139Z"
   },
   {
    "duration": 94,
    "start_time": "2023-07-24T08:47:06.267Z"
   },
   {
    "duration": 21,
    "start_time": "2023-07-24T08:47:06.366Z"
   },
   {
    "duration": 84,
    "start_time": "2023-07-24T08:47:06.388Z"
   },
   {
    "duration": 41,
    "start_time": "2023-07-24T08:47:06.474Z"
   },
   {
    "duration": 71,
    "start_time": "2023-07-24T08:47:06.517Z"
   },
   {
    "duration": 100,
    "start_time": "2023-07-24T08:47:06.598Z"
   },
   {
    "duration": 52,
    "start_time": "2023-07-24T08:47:06.701Z"
   },
   {
    "duration": 15,
    "start_time": "2023-07-24T08:47:06.758Z"
   },
   {
    "duration": 62,
    "start_time": "2023-07-24T08:47:06.775Z"
   },
   {
    "duration": 27,
    "start_time": "2023-07-24T08:47:06.839Z"
   },
   {
    "duration": 25,
    "start_time": "2023-07-24T08:47:06.868Z"
   },
   {
    "duration": 75,
    "start_time": "2023-07-24T08:47:06.895Z"
   },
   {
    "duration": 0,
    "start_time": "2023-07-24T08:47:06.972Z"
   },
   {
    "duration": 0,
    "start_time": "2023-07-24T08:47:06.973Z"
   },
   {
    "duration": 0,
    "start_time": "2023-07-24T08:47:06.974Z"
   },
   {
    "duration": 96,
    "start_time": "2023-07-24T08:48:42.992Z"
   },
   {
    "duration": 40,
    "start_time": "2023-07-24T08:48:43.089Z"
   },
   {
    "duration": 54,
    "start_time": "2023-07-24T08:48:43.134Z"
   },
   {
    "duration": 70,
    "start_time": "2023-07-24T08:48:43.190Z"
   },
   {
    "duration": 64,
    "start_time": "2023-07-24T08:48:43.261Z"
   },
   {
    "duration": 5,
    "start_time": "2023-07-24T08:48:43.326Z"
   },
   {
    "duration": 38,
    "start_time": "2023-07-24T08:48:43.332Z"
   },
   {
    "duration": 25,
    "start_time": "2023-07-24T08:48:43.371Z"
   },
   {
    "duration": 72,
    "start_time": "2023-07-24T08:48:43.398Z"
   },
   {
    "duration": 32,
    "start_time": "2023-07-24T08:48:43.472Z"
   },
   {
    "duration": 82,
    "start_time": "2023-07-24T08:48:43.514Z"
   },
   {
    "duration": 38,
    "start_time": "2023-07-24T08:48:43.597Z"
   },
   {
    "duration": 31,
    "start_time": "2023-07-24T08:48:43.636Z"
   },
   {
    "duration": 13,
    "start_time": "2023-07-24T08:48:43.669Z"
   },
   {
    "duration": 99,
    "start_time": "2023-07-24T08:48:43.684Z"
   },
   {
    "duration": 25,
    "start_time": "2023-07-24T08:48:43.784Z"
   },
   {
    "duration": 3,
    "start_time": "2023-07-24T08:48:43.810Z"
   },
   {
    "duration": 29,
    "start_time": "2023-07-24T08:48:43.814Z"
   },
   {
    "duration": 29,
    "start_time": "2023-07-24T08:48:43.845Z"
   },
   {
    "duration": 12,
    "start_time": "2023-07-24T08:48:43.876Z"
   },
   {
    "duration": 59,
    "start_time": "2023-07-24T08:48:43.890Z"
   },
   {
    "duration": 69,
    "start_time": "2023-07-24T08:48:43.960Z"
   },
   {
    "duration": 0,
    "start_time": "2023-07-24T08:48:44.030Z"
   },
   {
    "duration": 0,
    "start_time": "2023-07-24T08:48:44.031Z"
   },
   {
    "duration": 0,
    "start_time": "2023-07-24T08:48:44.031Z"
   },
   {
    "duration": 75,
    "start_time": "2023-07-24T08:58:04.138Z"
   },
   {
    "duration": 22,
    "start_time": "2023-07-24T08:58:04.214Z"
   },
   {
    "duration": 23,
    "start_time": "2023-07-24T08:58:04.238Z"
   },
   {
    "duration": 10,
    "start_time": "2023-07-24T08:58:04.263Z"
   },
   {
    "duration": 92,
    "start_time": "2023-07-24T08:58:04.275Z"
   },
   {
    "duration": 3,
    "start_time": "2023-07-24T08:58:04.368Z"
   },
   {
    "duration": 18,
    "start_time": "2023-07-24T08:58:04.373Z"
   },
   {
    "duration": 61,
    "start_time": "2023-07-24T08:58:04.392Z"
   },
   {
    "duration": 7,
    "start_time": "2023-07-24T08:58:04.454Z"
   },
   {
    "duration": 13,
    "start_time": "2023-07-24T08:58:04.463Z"
   },
   {
    "duration": 53,
    "start_time": "2023-07-24T08:58:04.478Z"
   },
   {
    "duration": 11,
    "start_time": "2023-07-24T08:58:04.534Z"
   },
   {
    "duration": 4,
    "start_time": "2023-07-24T08:58:04.547Z"
   },
   {
    "duration": 15,
    "start_time": "2023-07-24T08:58:04.553Z"
   },
   {
    "duration": 27,
    "start_time": "2023-07-24T08:58:04.569Z"
   },
   {
    "duration": 39,
    "start_time": "2023-07-24T08:58:04.597Z"
   },
   {
    "duration": 5,
    "start_time": "2023-07-24T08:58:04.646Z"
   },
   {
    "duration": 15,
    "start_time": "2023-07-24T08:58:04.653Z"
   },
   {
    "duration": 19,
    "start_time": "2023-07-24T08:58:04.669Z"
   },
   {
    "duration": 8,
    "start_time": "2023-07-24T08:58:04.689Z"
   },
   {
    "duration": 57,
    "start_time": "2023-07-24T08:58:04.698Z"
   },
   {
    "duration": 29,
    "start_time": "2023-07-24T08:58:04.756Z"
   },
   {
    "duration": 2,
    "start_time": "2023-07-24T08:58:04.787Z"
   },
   {
    "duration": 8,
    "start_time": "2023-07-24T08:58:04.790Z"
   },
   {
    "duration": 44,
    "start_time": "2023-07-24T08:58:04.807Z"
   },
   {
    "duration": 95,
    "start_time": "2023-07-24T08:59:30.142Z"
   },
   {
    "duration": 17,
    "start_time": "2023-07-24T08:59:30.245Z"
   },
   {
    "duration": 107,
    "start_time": "2023-07-24T08:59:30.263Z"
   },
   {
    "duration": 65,
    "start_time": "2023-07-24T08:59:30.372Z"
   },
   {
    "duration": 69,
    "start_time": "2023-07-24T08:59:30.444Z"
   },
   {
    "duration": 19,
    "start_time": "2023-07-24T08:59:30.525Z"
   },
   {
    "duration": 42,
    "start_time": "2023-07-24T08:59:30.546Z"
   },
   {
    "duration": 65,
    "start_time": "2023-07-24T08:59:30.590Z"
   },
   {
    "duration": 60,
    "start_time": "2023-07-24T08:59:30.657Z"
   },
   {
    "duration": 51,
    "start_time": "2023-07-24T08:59:30.735Z"
   },
   {
    "duration": 100,
    "start_time": "2023-07-24T08:59:30.787Z"
   },
   {
    "duration": 31,
    "start_time": "2023-07-24T08:59:30.889Z"
   },
   {
    "duration": 44,
    "start_time": "2023-07-24T08:59:30.926Z"
   },
   {
    "duration": 93,
    "start_time": "2023-07-24T08:59:30.972Z"
   },
   {
    "duration": 81,
    "start_time": "2023-07-24T08:59:31.066Z"
   },
   {
    "duration": 122,
    "start_time": "2023-07-24T08:59:31.149Z"
   },
   {
    "duration": 67,
    "start_time": "2023-07-24T08:59:31.273Z"
   },
   {
    "duration": 47,
    "start_time": "2023-07-24T08:59:31.341Z"
   },
   {
    "duration": 84,
    "start_time": "2023-07-24T08:59:31.390Z"
   },
   {
    "duration": 61,
    "start_time": "2023-07-24T08:59:31.476Z"
   },
   {
    "duration": 77,
    "start_time": "2023-07-24T08:59:31.546Z"
   },
   {
    "duration": 6564,
    "start_time": "2023-07-24T08:59:31.625Z"
   },
   {
    "duration": 0,
    "start_time": "2023-07-24T08:59:38.190Z"
   },
   {
    "duration": 0,
    "start_time": "2023-07-24T08:59:38.193Z"
   },
   {
    "duration": 0,
    "start_time": "2023-07-24T08:59:38.194Z"
   },
   {
    "duration": 75,
    "start_time": "2023-07-24T09:02:36.958Z"
   },
   {
    "duration": 13,
    "start_time": "2023-07-24T09:02:37.035Z"
   },
   {
    "duration": 43,
    "start_time": "2023-07-24T09:02:37.050Z"
   },
   {
    "duration": 60,
    "start_time": "2023-07-24T09:02:37.095Z"
   },
   {
    "duration": 69,
    "start_time": "2023-07-24T09:02:37.156Z"
   },
   {
    "duration": 3,
    "start_time": "2023-07-24T09:02:37.227Z"
   },
   {
    "duration": 32,
    "start_time": "2023-07-24T09:02:37.232Z"
   },
   {
    "duration": 90,
    "start_time": "2023-07-24T09:02:37.265Z"
   },
   {
    "duration": 42,
    "start_time": "2023-07-24T09:02:37.356Z"
   },
   {
    "duration": 19,
    "start_time": "2023-07-24T09:02:37.422Z"
   },
   {
    "duration": 55,
    "start_time": "2023-07-24T09:02:37.442Z"
   },
   {
    "duration": 31,
    "start_time": "2023-07-24T09:02:37.499Z"
   },
   {
    "duration": 33,
    "start_time": "2023-07-24T09:02:37.532Z"
   },
   {
    "duration": 63,
    "start_time": "2023-07-24T09:02:37.567Z"
   },
   {
    "duration": 44,
    "start_time": "2023-07-24T09:02:37.632Z"
   },
   {
    "duration": 73,
    "start_time": "2023-07-24T09:02:37.677Z"
   },
   {
    "duration": 40,
    "start_time": "2023-07-24T09:02:37.751Z"
   },
   {
    "duration": 58,
    "start_time": "2023-07-24T09:02:37.792Z"
   },
   {
    "duration": 53,
    "start_time": "2023-07-24T09:02:37.852Z"
   },
   {
    "duration": 38,
    "start_time": "2023-07-24T09:02:37.906Z"
   },
   {
    "duration": 22,
    "start_time": "2023-07-24T09:02:37.946Z"
   },
   {
    "duration": 7619,
    "start_time": "2023-07-24T09:02:37.969Z"
   },
   {
    "duration": 0,
    "start_time": "2023-07-24T09:02:45.590Z"
   },
   {
    "duration": 0,
    "start_time": "2023-07-24T09:02:45.591Z"
   },
   {
    "duration": 0,
    "start_time": "2023-07-24T09:02:45.591Z"
   },
   {
    "duration": 86,
    "start_time": "2023-07-24T09:03:00.135Z"
   },
   {
    "duration": 15,
    "start_time": "2023-07-24T09:03:00.226Z"
   },
   {
    "duration": 48,
    "start_time": "2023-07-24T09:03:00.243Z"
   },
   {
    "duration": 59,
    "start_time": "2023-07-24T09:03:00.293Z"
   },
   {
    "duration": 76,
    "start_time": "2023-07-24T09:03:00.353Z"
   },
   {
    "duration": 22,
    "start_time": "2023-07-24T09:03:00.432Z"
   },
   {
    "duration": 68,
    "start_time": "2023-07-24T09:03:00.455Z"
   },
   {
    "duration": 28,
    "start_time": "2023-07-24T09:03:00.525Z"
   },
   {
    "duration": 67,
    "start_time": "2023-07-24T09:03:00.555Z"
   },
   {
    "duration": 59,
    "start_time": "2023-07-24T09:03:00.625Z"
   },
   {
    "duration": 76,
    "start_time": "2023-07-24T09:03:00.686Z"
   },
   {
    "duration": 29,
    "start_time": "2023-07-24T09:03:00.764Z"
   },
   {
    "duration": 58,
    "start_time": "2023-07-24T09:03:00.795Z"
   },
   {
    "duration": 44,
    "start_time": "2023-07-24T09:03:00.854Z"
   },
   {
    "duration": 66,
    "start_time": "2023-07-24T09:03:00.899Z"
   },
   {
    "duration": 259,
    "start_time": "2023-07-24T09:03:00.966Z"
   },
   {
    "duration": 48,
    "start_time": "2023-07-24T09:03:01.227Z"
   },
   {
    "duration": 76,
    "start_time": "2023-07-24T09:03:01.277Z"
   },
   {
    "duration": 72,
    "start_time": "2023-07-24T09:03:01.355Z"
   },
   {
    "duration": 18,
    "start_time": "2023-07-24T09:03:01.429Z"
   },
   {
    "duration": 61,
    "start_time": "2023-07-24T09:03:01.448Z"
   },
   {
    "duration": 80,
    "start_time": "2023-07-24T09:03:01.517Z"
   },
   {
    "duration": 72,
    "start_time": "2023-07-24T09:03:01.599Z"
   },
   {
    "duration": 75,
    "start_time": "2023-07-24T09:03:01.672Z"
   },
   {
    "duration": 43,
    "start_time": "2023-07-24T09:03:01.748Z"
   },
   {
    "duration": 80,
    "start_time": "2023-07-24T09:03:18.237Z"
   },
   {
    "duration": 13,
    "start_time": "2023-07-24T09:03:18.325Z"
   },
   {
    "duration": 17,
    "start_time": "2023-07-24T09:03:18.339Z"
   },
   {
    "duration": 9,
    "start_time": "2023-07-24T09:03:18.358Z"
   },
   {
    "duration": 30,
    "start_time": "2023-07-24T09:03:18.368Z"
   },
   {
    "duration": 15,
    "start_time": "2023-07-24T09:03:18.409Z"
   },
   {
    "duration": 22,
    "start_time": "2023-07-24T09:03:18.426Z"
   },
   {
    "duration": 12,
    "start_time": "2023-07-24T09:03:18.450Z"
   },
   {
    "duration": 16,
    "start_time": "2023-07-24T09:03:18.464Z"
   },
   {
    "duration": 10,
    "start_time": "2023-07-24T09:03:18.483Z"
   },
   {
    "duration": 65,
    "start_time": "2023-07-24T09:03:18.496Z"
   },
   {
    "duration": 10,
    "start_time": "2023-07-24T09:03:18.562Z"
   },
   {
    "duration": 6,
    "start_time": "2023-07-24T09:03:18.574Z"
   },
   {
    "duration": 60,
    "start_time": "2023-07-24T09:03:18.581Z"
   },
   {
    "duration": 31,
    "start_time": "2023-07-24T09:03:18.642Z"
   },
   {
    "duration": 18,
    "start_time": "2023-07-24T09:03:18.675Z"
   },
   {
    "duration": 18,
    "start_time": "2023-07-24T09:03:18.695Z"
   },
   {
    "duration": 42,
    "start_time": "2023-07-24T09:03:18.722Z"
   },
   {
    "duration": 20,
    "start_time": "2023-07-24T09:03:18.766Z"
   },
   {
    "duration": 38,
    "start_time": "2023-07-24T09:03:18.788Z"
   },
   {
    "duration": 244,
    "start_time": "2023-07-24T09:03:18.827Z"
   },
   {
    "duration": 40,
    "start_time": "2023-07-24T09:03:19.073Z"
   },
   {
    "duration": 40,
    "start_time": "2023-07-24T09:03:19.114Z"
   },
   {
    "duration": 28,
    "start_time": "2023-07-24T09:03:19.155Z"
   },
   {
    "duration": 9,
    "start_time": "2023-07-24T09:03:19.185Z"
   },
   {
    "duration": 85,
    "start_time": "2023-07-24T09:05:40.667Z"
   },
   {
    "duration": 16,
    "start_time": "2023-07-24T09:05:40.755Z"
   },
   {
    "duration": 22,
    "start_time": "2023-07-24T09:05:40.773Z"
   },
   {
    "duration": 41,
    "start_time": "2023-07-24T09:05:40.801Z"
   },
   {
    "duration": 74,
    "start_time": "2023-07-24T09:05:40.843Z"
   },
   {
    "duration": 5,
    "start_time": "2023-07-24T09:05:40.931Z"
   },
   {
    "duration": 21,
    "start_time": "2023-07-24T09:05:40.937Z"
   },
   {
    "duration": 16,
    "start_time": "2023-07-24T09:05:40.959Z"
   },
   {
    "duration": 13,
    "start_time": "2023-07-24T09:05:40.977Z"
   },
   {
    "duration": 63,
    "start_time": "2023-07-24T09:05:40.992Z"
   },
   {
    "duration": 34,
    "start_time": "2023-07-24T09:05:41.057Z"
   },
   {
    "duration": 11,
    "start_time": "2023-07-24T09:05:41.093Z"
   },
   {
    "duration": 44,
    "start_time": "2023-07-24T09:05:41.106Z"
   },
   {
    "duration": 18,
    "start_time": "2023-07-24T09:05:41.152Z"
   },
   {
    "duration": 34,
    "start_time": "2023-07-24T09:05:41.171Z"
   },
   {
    "duration": 21,
    "start_time": "2023-07-24T09:05:41.206Z"
   },
   {
    "duration": 32,
    "start_time": "2023-07-24T09:05:41.229Z"
   },
   {
    "duration": 17,
    "start_time": "2023-07-24T09:05:41.263Z"
   },
   {
    "duration": 14,
    "start_time": "2023-07-24T09:05:41.282Z"
   },
   {
    "duration": 39,
    "start_time": "2023-07-24T09:05:41.298Z"
   },
   {
    "duration": 13,
    "start_time": "2023-07-24T09:05:41.338Z"
   },
   {
    "duration": 27,
    "start_time": "2023-07-24T09:05:41.352Z"
   },
   {
    "duration": 3,
    "start_time": "2023-07-24T09:05:41.381Z"
   },
   {
    "duration": 83,
    "start_time": "2023-07-24T09:05:41.386Z"
   },
   {
    "duration": 52,
    "start_time": "2023-07-24T09:05:41.472Z"
   },
   {
    "duration": 81,
    "start_time": "2023-07-24T09:06:32.058Z"
   },
   {
    "duration": 98,
    "start_time": "2023-07-24T09:06:32.140Z"
   },
   {
    "duration": 195,
    "start_time": "2023-07-24T09:06:32.240Z"
   },
   {
    "duration": 38,
    "start_time": "2023-07-24T09:06:32.437Z"
   },
   {
    "duration": 89,
    "start_time": "2023-07-24T09:06:32.476Z"
   },
   {
    "duration": 3,
    "start_time": "2023-07-24T09:06:32.567Z"
   },
   {
    "duration": 14,
    "start_time": "2023-07-24T09:06:32.571Z"
   },
   {
    "duration": 32,
    "start_time": "2023-07-24T09:06:32.587Z"
   },
   {
    "duration": 78,
    "start_time": "2023-07-24T09:06:32.626Z"
   },
   {
    "duration": 47,
    "start_time": "2023-07-24T09:06:32.710Z"
   },
   {
    "duration": 79,
    "start_time": "2023-07-24T09:06:32.758Z"
   },
   {
    "duration": 40,
    "start_time": "2023-07-24T09:06:32.843Z"
   },
   {
    "duration": 63,
    "start_time": "2023-07-24T09:06:32.885Z"
   },
   {
    "duration": 15,
    "start_time": "2023-07-24T09:06:32.950Z"
   },
   {
    "duration": 30,
    "start_time": "2023-07-24T09:06:32.967Z"
   },
   {
    "duration": 49,
    "start_time": "2023-07-24T09:06:32.999Z"
   },
   {
    "duration": 12,
    "start_time": "2023-07-24T09:06:33.050Z"
   },
   {
    "duration": 26,
    "start_time": "2023-07-24T09:06:33.064Z"
   },
   {
    "duration": 50,
    "start_time": "2023-07-24T09:06:33.092Z"
   },
   {
    "duration": 5,
    "start_time": "2023-07-24T09:06:33.144Z"
   },
   {
    "duration": 20,
    "start_time": "2023-07-24T09:06:33.151Z"
   },
   {
    "duration": 10,
    "start_time": "2023-07-24T09:06:33.172Z"
   },
   {
    "duration": 0,
    "start_time": "2023-07-24T09:06:33.184Z"
   },
   {
    "duration": 0,
    "start_time": "2023-07-24T09:06:33.184Z"
   },
   {
    "duration": 0,
    "start_time": "2023-07-24T09:06:33.185Z"
   },
   {
    "duration": 83,
    "start_time": "2023-07-24T09:06:41.399Z"
   },
   {
    "duration": 18,
    "start_time": "2023-07-24T09:06:41.484Z"
   },
   {
    "duration": 44,
    "start_time": "2023-07-24T09:06:41.513Z"
   },
   {
    "duration": 10,
    "start_time": "2023-07-24T09:06:41.559Z"
   },
   {
    "duration": 47,
    "start_time": "2023-07-24T09:06:41.570Z"
   },
   {
    "duration": 3,
    "start_time": "2023-07-24T09:06:41.618Z"
   },
   {
    "duration": 31,
    "start_time": "2023-07-24T09:06:41.623Z"
   },
   {
    "duration": 5,
    "start_time": "2023-07-24T09:06:41.655Z"
   },
   {
    "duration": 8,
    "start_time": "2023-07-24T09:06:41.662Z"
   },
   {
    "duration": 7,
    "start_time": "2023-07-24T09:06:41.673Z"
   },
   {
    "duration": 51,
    "start_time": "2023-07-24T09:06:41.682Z"
   },
   {
    "duration": 21,
    "start_time": "2023-07-24T09:06:41.734Z"
   },
   {
    "duration": 11,
    "start_time": "2023-07-24T09:06:41.756Z"
   },
   {
    "duration": 24,
    "start_time": "2023-07-24T09:06:41.768Z"
   },
   {
    "duration": 28,
    "start_time": "2023-07-24T09:06:41.793Z"
   },
   {
    "duration": 35,
    "start_time": "2023-07-24T09:06:41.822Z"
   },
   {
    "duration": 4,
    "start_time": "2023-07-24T09:06:41.858Z"
   },
   {
    "duration": 29,
    "start_time": "2023-07-24T09:06:41.864Z"
   },
   {
    "duration": 38,
    "start_time": "2023-07-24T09:06:41.895Z"
   },
   {
    "duration": 34,
    "start_time": "2023-07-24T09:06:41.934Z"
   },
   {
    "duration": 22,
    "start_time": "2023-07-24T09:06:41.969Z"
   },
   {
    "duration": 62,
    "start_time": "2023-07-24T09:06:41.993Z"
   },
   {
    "duration": 2,
    "start_time": "2023-07-24T09:06:42.057Z"
   },
   {
    "duration": 36,
    "start_time": "2023-07-24T09:06:42.061Z"
   },
   {
    "duration": 40,
    "start_time": "2023-07-24T09:06:42.099Z"
   },
   {
    "duration": 84,
    "start_time": "2023-07-24T09:07:03.771Z"
   },
   {
    "duration": 22,
    "start_time": "2023-07-24T09:07:03.857Z"
   },
   {
    "duration": 41,
    "start_time": "2023-07-24T09:07:03.880Z"
   },
   {
    "duration": 11,
    "start_time": "2023-07-24T09:07:03.933Z"
   },
   {
    "duration": 37,
    "start_time": "2023-07-24T09:07:03.945Z"
   },
   {
    "duration": 4,
    "start_time": "2023-07-24T09:07:03.984Z"
   },
   {
    "duration": 42,
    "start_time": "2023-07-24T09:07:03.990Z"
   },
   {
    "duration": 8,
    "start_time": "2023-07-24T09:07:04.033Z"
   },
   {
    "duration": 11,
    "start_time": "2023-07-24T09:07:04.042Z"
   },
   {
    "duration": 4,
    "start_time": "2023-07-24T09:07:04.055Z"
   },
   {
    "duration": 29,
    "start_time": "2023-07-24T09:07:04.061Z"
   },
   {
    "duration": 22,
    "start_time": "2023-07-24T09:07:04.091Z"
   },
   {
    "duration": 19,
    "start_time": "2023-07-24T09:07:04.121Z"
   },
   {
    "duration": 12,
    "start_time": "2023-07-24T09:07:04.141Z"
   },
   {
    "duration": 18,
    "start_time": "2023-07-24T09:07:04.155Z"
   },
   {
    "duration": 17,
    "start_time": "2023-07-24T09:07:04.174Z"
   },
   {
    "duration": 3,
    "start_time": "2023-07-24T09:07:04.192Z"
   },
   {
    "duration": 67,
    "start_time": "2023-07-24T09:07:04.197Z"
   },
   {
    "duration": 13,
    "start_time": "2023-07-24T09:07:04.266Z"
   },
   {
    "duration": 44,
    "start_time": "2023-07-24T09:07:04.281Z"
   },
   {
    "duration": 23,
    "start_time": "2023-07-24T09:07:04.330Z"
   },
   {
    "duration": 59,
    "start_time": "2023-07-24T09:07:04.354Z"
   },
   {
    "duration": 15,
    "start_time": "2023-07-24T09:07:04.423Z"
   },
   {
    "duration": 14,
    "start_time": "2023-07-24T09:07:04.440Z"
   },
   {
    "duration": 10,
    "start_time": "2023-07-24T09:07:04.456Z"
   },
   {
    "duration": 66,
    "start_time": "2023-07-24T09:08:52.631Z"
   },
   {
    "duration": 20,
    "start_time": "2023-07-24T09:08:52.699Z"
   },
   {
    "duration": 27,
    "start_time": "2023-07-24T09:08:52.720Z"
   },
   {
    "duration": 10,
    "start_time": "2023-07-24T09:08:52.749Z"
   },
   {
    "duration": 31,
    "start_time": "2023-07-24T09:08:52.760Z"
   },
   {
    "duration": 3,
    "start_time": "2023-07-24T09:08:52.793Z"
   },
   {
    "duration": 34,
    "start_time": "2023-07-24T09:08:52.797Z"
   },
   {
    "duration": 11,
    "start_time": "2023-07-24T09:08:52.832Z"
   },
   {
    "duration": 25,
    "start_time": "2023-07-24T09:08:52.845Z"
   },
   {
    "duration": 11,
    "start_time": "2023-07-24T09:08:52.873Z"
   },
   {
    "duration": 51,
    "start_time": "2023-07-24T09:08:52.886Z"
   },
   {
    "duration": 8,
    "start_time": "2023-07-24T09:08:52.938Z"
   },
   {
    "duration": 5,
    "start_time": "2023-07-24T09:08:52.948Z"
   },
   {
    "duration": 12,
    "start_time": "2023-07-24T09:08:52.954Z"
   },
   {
    "duration": 42,
    "start_time": "2023-07-24T09:08:52.967Z"
   },
   {
    "duration": 18,
    "start_time": "2023-07-24T09:08:53.012Z"
   },
   {
    "duration": 5,
    "start_time": "2023-07-24T09:08:53.032Z"
   },
   {
    "duration": 11,
    "start_time": "2023-07-24T09:08:53.038Z"
   },
   {
    "duration": 11,
    "start_time": "2023-07-24T09:08:53.050Z"
   },
   {
    "duration": 14,
    "start_time": "2023-07-24T09:08:53.062Z"
   },
   {
    "duration": 20,
    "start_time": "2023-07-24T09:08:53.077Z"
   },
   {
    "duration": 38,
    "start_time": "2023-07-24T09:08:53.098Z"
   },
   {
    "duration": 3,
    "start_time": "2023-07-24T09:08:53.137Z"
   },
   {
    "duration": 15,
    "start_time": "2023-07-24T09:08:53.141Z"
   },
   {
    "duration": 14,
    "start_time": "2023-07-24T09:08:53.157Z"
   },
   {
    "duration": 73,
    "start_time": "2023-07-24T09:09:19.637Z"
   },
   {
    "duration": 20,
    "start_time": "2023-07-24T09:09:19.712Z"
   },
   {
    "duration": 17,
    "start_time": "2023-07-24T09:09:19.734Z"
   },
   {
    "duration": 9,
    "start_time": "2023-07-24T09:09:19.753Z"
   },
   {
    "duration": 48,
    "start_time": "2023-07-24T09:09:19.764Z"
   },
   {
    "duration": 3,
    "start_time": "2023-07-24T09:09:19.814Z"
   },
   {
    "duration": 25,
    "start_time": "2023-07-24T09:09:19.819Z"
   },
   {
    "duration": 27,
    "start_time": "2023-07-24T09:09:19.846Z"
   },
   {
    "duration": 9,
    "start_time": "2023-07-24T09:09:19.875Z"
   },
   {
    "duration": 5,
    "start_time": "2023-07-24T09:09:19.887Z"
   },
   {
    "duration": 60,
    "start_time": "2023-07-24T09:09:19.894Z"
   },
   {
    "duration": 9,
    "start_time": "2023-07-24T09:09:19.955Z"
   },
   {
    "duration": 11,
    "start_time": "2023-07-24T09:09:19.965Z"
   },
   {
    "duration": 18,
    "start_time": "2023-07-24T09:09:19.978Z"
   },
   {
    "duration": 57,
    "start_time": "2023-07-24T09:09:19.997Z"
   },
   {
    "duration": 19,
    "start_time": "2023-07-24T09:09:20.056Z"
   },
   {
    "duration": 9,
    "start_time": "2023-07-24T09:09:20.076Z"
   },
   {
    "duration": 46,
    "start_time": "2023-07-24T09:09:20.087Z"
   },
   {
    "duration": 10,
    "start_time": "2023-07-24T09:09:20.134Z"
   },
   {
    "duration": 8,
    "start_time": "2023-07-24T09:09:20.145Z"
   },
   {
    "duration": 12,
    "start_time": "2023-07-24T09:09:20.155Z"
   },
   {
    "duration": 51,
    "start_time": "2023-07-24T09:09:20.168Z"
   },
   {
    "duration": 8,
    "start_time": "2023-07-24T09:09:20.220Z"
   },
   {
    "duration": 5,
    "start_time": "2023-07-24T09:09:20.229Z"
   },
   {
    "duration": 10,
    "start_time": "2023-07-24T09:09:20.235Z"
   },
   {
    "duration": 64,
    "start_time": "2023-07-24T09:13:50.726Z"
   },
   {
    "duration": 25,
    "start_time": "2023-07-24T09:13:50.792Z"
   },
   {
    "duration": 56,
    "start_time": "2023-07-24T09:13:50.818Z"
   },
   {
    "duration": 61,
    "start_time": "2023-07-24T09:13:50.876Z"
   },
   {
    "duration": 40,
    "start_time": "2023-07-24T09:13:50.939Z"
   },
   {
    "duration": 4,
    "start_time": "2023-07-24T09:13:50.980Z"
   },
   {
    "duration": 47,
    "start_time": "2023-07-24T09:13:50.986Z"
   },
   {
    "duration": 21,
    "start_time": "2023-07-24T09:13:51.034Z"
   },
   {
    "duration": 24,
    "start_time": "2023-07-24T09:13:51.057Z"
   },
   {
    "duration": 34,
    "start_time": "2023-07-24T09:13:51.084Z"
   },
   {
    "duration": 56,
    "start_time": "2023-07-24T09:13:51.119Z"
   },
   {
    "duration": 15,
    "start_time": "2023-07-24T09:13:51.177Z"
   },
   {
    "duration": 31,
    "start_time": "2023-07-24T09:13:51.193Z"
   },
   {
    "duration": 27,
    "start_time": "2023-07-24T09:13:51.226Z"
   },
   {
    "duration": 37,
    "start_time": "2023-07-24T09:13:51.255Z"
   },
   {
    "duration": 29,
    "start_time": "2023-07-24T09:13:51.294Z"
   },
   {
    "duration": 13,
    "start_time": "2023-07-24T09:13:51.324Z"
   },
   {
    "duration": 17,
    "start_time": "2023-07-24T09:13:51.339Z"
   },
   {
    "duration": 7,
    "start_time": "2023-07-24T09:13:51.357Z"
   },
   {
    "duration": 6,
    "start_time": "2023-07-24T09:13:51.365Z"
   },
   {
    "duration": 12,
    "start_time": "2023-07-24T09:13:51.373Z"
   },
   {
    "duration": 43,
    "start_time": "2023-07-24T09:13:51.386Z"
   },
   {
    "duration": 50,
    "start_time": "2023-07-24T09:13:51.431Z"
   },
   {
    "duration": 65,
    "start_time": "2023-07-24T09:13:51.482Z"
   },
   {
    "duration": 8,
    "start_time": "2023-07-24T09:13:51.548Z"
   },
   {
    "duration": 73,
    "start_time": "2023-07-24T09:15:30.666Z"
   },
   {
    "duration": 14,
    "start_time": "2023-07-24T09:15:30.741Z"
   },
   {
    "duration": 53,
    "start_time": "2023-07-24T09:15:30.756Z"
   },
   {
    "duration": 33,
    "start_time": "2023-07-24T09:15:30.811Z"
   },
   {
    "duration": 69,
    "start_time": "2023-07-24T09:15:30.846Z"
   },
   {
    "duration": 17,
    "start_time": "2023-07-24T09:15:30.916Z"
   },
   {
    "duration": 86,
    "start_time": "2023-07-24T09:15:30.935Z"
   },
   {
    "duration": 58,
    "start_time": "2023-07-24T09:15:31.022Z"
   },
   {
    "duration": 72,
    "start_time": "2023-07-24T09:15:31.081Z"
   },
   {
    "duration": 26,
    "start_time": "2023-07-24T09:15:31.155Z"
   },
   {
    "duration": 59,
    "start_time": "2023-07-24T09:15:31.182Z"
   },
   {
    "duration": 14,
    "start_time": "2023-07-24T09:15:31.242Z"
   },
   {
    "duration": 58,
    "start_time": "2023-07-24T09:15:31.258Z"
   },
   {
    "duration": 43,
    "start_time": "2023-07-24T09:15:31.318Z"
   },
   {
    "duration": 115,
    "start_time": "2023-07-24T09:15:31.363Z"
   },
   {
    "duration": 67,
    "start_time": "2023-07-24T09:15:31.479Z"
   },
   {
    "duration": 44,
    "start_time": "2023-07-24T09:15:31.547Z"
   },
   {
    "duration": 46,
    "start_time": "2023-07-24T09:15:31.592Z"
   },
   {
    "duration": 47,
    "start_time": "2023-07-24T09:15:31.639Z"
   },
   {
    "duration": 59,
    "start_time": "2023-07-24T09:15:31.688Z"
   },
   {
    "duration": 95,
    "start_time": "2023-07-24T09:15:31.748Z"
   },
   {
    "duration": 200,
    "start_time": "2023-07-24T09:15:31.844Z"
   },
   {
    "duration": 121,
    "start_time": "2023-07-24T09:15:32.046Z"
   },
   {
    "duration": 45,
    "start_time": "2023-07-24T09:15:32.168Z"
   },
   {
    "duration": 51,
    "start_time": "2023-07-24T09:15:32.215Z"
   },
   {
    "duration": 66,
    "start_time": "2023-07-24T09:16:47.924Z"
   },
   {
    "duration": 33,
    "start_time": "2023-07-24T09:16:47.992Z"
   },
   {
    "duration": 43,
    "start_time": "2023-07-24T09:16:48.027Z"
   },
   {
    "duration": 114,
    "start_time": "2023-07-24T09:16:48.072Z"
   },
   {
    "duration": 73,
    "start_time": "2023-07-24T09:16:48.187Z"
   },
   {
    "duration": 3,
    "start_time": "2023-07-24T09:16:48.261Z"
   },
   {
    "duration": 21,
    "start_time": "2023-07-24T09:16:48.265Z"
   },
   {
    "duration": 4,
    "start_time": "2023-07-24T09:16:48.288Z"
   },
   {
    "duration": 43,
    "start_time": "2023-07-24T09:16:48.294Z"
   },
   {
    "duration": 15,
    "start_time": "2023-07-24T09:16:48.341Z"
   },
   {
    "duration": 57,
    "start_time": "2023-07-24T09:16:48.358Z"
   },
   {
    "duration": 15,
    "start_time": "2023-07-24T09:16:48.418Z"
   },
   {
    "duration": 20,
    "start_time": "2023-07-24T09:16:48.434Z"
   },
   {
    "duration": 13,
    "start_time": "2023-07-24T09:16:48.456Z"
   },
   {
    "duration": 17,
    "start_time": "2023-07-24T09:16:48.471Z"
   },
   {
    "duration": 25,
    "start_time": "2023-07-24T09:16:48.490Z"
   },
   {
    "duration": 16,
    "start_time": "2023-07-24T09:16:48.516Z"
   },
   {
    "duration": 14,
    "start_time": "2023-07-24T09:16:48.533Z"
   },
   {
    "duration": 7,
    "start_time": "2023-07-24T09:16:48.548Z"
   },
   {
    "duration": 37,
    "start_time": "2023-07-24T09:16:48.557Z"
   },
   {
    "duration": 43,
    "start_time": "2023-07-24T09:16:48.595Z"
   },
   {
    "duration": 5978,
    "start_time": "2023-07-24T09:16:48.640Z"
   },
   {
    "duration": 0,
    "start_time": "2023-07-24T09:16:54.622Z"
   },
   {
    "duration": 0,
    "start_time": "2023-07-24T09:16:54.624Z"
   },
   {
    "duration": 0,
    "start_time": "2023-07-24T09:16:54.625Z"
   },
   {
    "duration": 65,
    "start_time": "2023-07-24T09:18:09.220Z"
   },
   {
    "duration": 31,
    "start_time": "2023-07-24T09:18:09.287Z"
   },
   {
    "duration": 23,
    "start_time": "2023-07-24T09:18:09.322Z"
   },
   {
    "duration": 8,
    "start_time": "2023-07-24T09:18:09.346Z"
   },
   {
    "duration": 77,
    "start_time": "2023-07-24T09:18:09.357Z"
   },
   {
    "duration": 3,
    "start_time": "2023-07-24T09:18:09.436Z"
   },
   {
    "duration": 14,
    "start_time": "2023-07-24T09:18:09.440Z"
   },
   {
    "duration": 32,
    "start_time": "2023-07-24T09:18:09.455Z"
   },
   {
    "duration": 32,
    "start_time": "2023-07-24T09:18:09.488Z"
   },
   {
    "duration": 18,
    "start_time": "2023-07-24T09:18:09.529Z"
   },
   {
    "duration": 40,
    "start_time": "2023-07-24T09:18:09.549Z"
   },
   {
    "duration": 20,
    "start_time": "2023-07-24T09:18:09.591Z"
   },
   {
    "duration": 8,
    "start_time": "2023-07-24T09:18:09.622Z"
   },
   {
    "duration": 13,
    "start_time": "2023-07-24T09:18:09.632Z"
   },
   {
    "duration": 42,
    "start_time": "2023-07-24T09:18:09.647Z"
   },
   {
    "duration": 31,
    "start_time": "2023-07-24T09:18:09.690Z"
   },
   {
    "duration": 10,
    "start_time": "2023-07-24T09:18:09.726Z"
   },
   {
    "duration": 52,
    "start_time": "2023-07-24T09:18:09.737Z"
   },
   {
    "duration": 7,
    "start_time": "2023-07-24T09:18:09.790Z"
   },
   {
    "duration": 34,
    "start_time": "2023-07-24T09:18:09.799Z"
   },
   {
    "duration": 10,
    "start_time": "2023-07-24T09:18:09.835Z"
   },
   {
    "duration": 5445,
    "start_time": "2023-07-24T09:18:09.846Z"
   },
   {
    "duration": 0,
    "start_time": "2023-07-24T09:18:15.293Z"
   },
   {
    "duration": 0,
    "start_time": "2023-07-24T09:18:15.294Z"
   },
   {
    "duration": 0,
    "start_time": "2023-07-24T09:18:15.295Z"
   },
   {
    "duration": 82,
    "start_time": "2023-07-24T09:18:33.295Z"
   },
   {
    "duration": 15,
    "start_time": "2023-07-24T09:18:33.379Z"
   },
   {
    "duration": 47,
    "start_time": "2023-07-24T09:18:33.396Z"
   },
   {
    "duration": 27,
    "start_time": "2023-07-24T09:18:33.445Z"
   },
   {
    "duration": 68,
    "start_time": "2023-07-24T09:18:33.474Z"
   },
   {
    "duration": 3,
    "start_time": "2023-07-24T09:18:33.544Z"
   },
   {
    "duration": 31,
    "start_time": "2023-07-24T09:18:33.549Z"
   },
   {
    "duration": 40,
    "start_time": "2023-07-24T09:18:33.582Z"
   },
   {
    "duration": 14,
    "start_time": "2023-07-24T09:18:33.624Z"
   },
   {
    "duration": 4,
    "start_time": "2023-07-24T09:18:33.640Z"
   },
   {
    "duration": 34,
    "start_time": "2023-07-24T09:18:33.645Z"
   },
   {
    "duration": 9,
    "start_time": "2023-07-24T09:18:33.680Z"
   },
   {
    "duration": 23,
    "start_time": "2023-07-24T09:18:33.690Z"
   },
   {
    "duration": 19,
    "start_time": "2023-07-24T09:18:33.724Z"
   },
   {
    "duration": 21,
    "start_time": "2023-07-24T09:18:33.744Z"
   },
   {
    "duration": 18,
    "start_time": "2023-07-24T09:18:33.767Z"
   },
   {
    "duration": 3,
    "start_time": "2023-07-24T09:18:33.786Z"
   },
   {
    "duration": 26,
    "start_time": "2023-07-24T09:18:33.791Z"
   },
   {
    "duration": 10,
    "start_time": "2023-07-24T09:18:33.826Z"
   },
   {
    "duration": 3,
    "start_time": "2023-07-24T09:18:33.838Z"
   },
   {
    "duration": 11,
    "start_time": "2023-07-24T09:18:33.843Z"
   },
   {
    "duration": 19,
    "start_time": "2023-07-24T09:18:33.856Z"
   },
   {
    "duration": 0,
    "start_time": "2023-07-24T09:18:33.876Z"
   },
   {
    "duration": 0,
    "start_time": "2023-07-24T09:18:33.878Z"
   },
   {
    "duration": 0,
    "start_time": "2023-07-24T09:18:33.879Z"
   },
   {
    "duration": 84,
    "start_time": "2023-07-24T09:18:42.659Z"
   },
   {
    "duration": 15,
    "start_time": "2023-07-24T09:18:42.745Z"
   },
   {
    "duration": 21,
    "start_time": "2023-07-24T09:18:42.762Z"
   },
   {
    "duration": 41,
    "start_time": "2023-07-24T09:18:42.785Z"
   },
   {
    "duration": 45,
    "start_time": "2023-07-24T09:18:42.828Z"
   },
   {
    "duration": 3,
    "start_time": "2023-07-24T09:18:42.875Z"
   },
   {
    "duration": 47,
    "start_time": "2023-07-24T09:18:42.879Z"
   },
   {
    "duration": 30,
    "start_time": "2023-07-24T09:18:42.928Z"
   },
   {
    "duration": 15,
    "start_time": "2023-07-24T09:18:42.959Z"
   },
   {
    "duration": 11,
    "start_time": "2023-07-24T09:18:42.976Z"
   },
   {
    "duration": 74,
    "start_time": "2023-07-24T09:18:42.988Z"
   },
   {
    "duration": 12,
    "start_time": "2023-07-24T09:18:43.063Z"
   },
   {
    "duration": 8,
    "start_time": "2023-07-24T09:18:43.076Z"
   },
   {
    "duration": 49,
    "start_time": "2023-07-24T09:18:43.085Z"
   },
   {
    "duration": 44,
    "start_time": "2023-07-24T09:18:43.136Z"
   },
   {
    "duration": 62,
    "start_time": "2023-07-24T09:18:43.182Z"
   },
   {
    "duration": 24,
    "start_time": "2023-07-24T09:18:43.245Z"
   },
   {
    "duration": 42,
    "start_time": "2023-07-24T09:18:43.271Z"
   },
   {
    "duration": 104,
    "start_time": "2023-07-24T09:18:43.315Z"
   },
   {
    "duration": 39,
    "start_time": "2023-07-24T09:18:43.422Z"
   },
   {
    "duration": 25,
    "start_time": "2023-07-24T09:18:43.463Z"
   },
   {
    "duration": 47,
    "start_time": "2023-07-24T09:18:43.489Z"
   },
   {
    "duration": 0,
    "start_time": "2023-07-24T09:18:43.538Z"
   },
   {
    "duration": 0,
    "start_time": "2023-07-24T09:18:43.540Z"
   },
   {
    "duration": 0,
    "start_time": "2023-07-24T09:18:43.541Z"
   },
   {
    "duration": 105,
    "start_time": "2023-07-24T09:18:56.022Z"
   },
   {
    "duration": 19,
    "start_time": "2023-07-24T09:18:56.129Z"
   },
   {
    "duration": 21,
    "start_time": "2023-07-24T09:18:56.150Z"
   },
   {
    "duration": 11,
    "start_time": "2023-07-24T09:18:56.173Z"
   },
   {
    "duration": 78,
    "start_time": "2023-07-24T09:18:56.187Z"
   },
   {
    "duration": 3,
    "start_time": "2023-07-24T09:18:56.267Z"
   },
   {
    "duration": 16,
    "start_time": "2023-07-24T09:18:56.272Z"
   },
   {
    "duration": 8,
    "start_time": "2023-07-24T09:18:56.290Z"
   },
   {
    "duration": 19,
    "start_time": "2023-07-24T09:18:56.317Z"
   },
   {
    "duration": 11,
    "start_time": "2023-07-24T09:18:56.337Z"
   },
   {
    "duration": 29,
    "start_time": "2023-07-24T09:18:56.349Z"
   },
   {
    "duration": 8,
    "start_time": "2023-07-24T09:18:56.380Z"
   },
   {
    "duration": 38,
    "start_time": "2023-07-24T09:18:56.389Z"
   },
   {
    "duration": 24,
    "start_time": "2023-07-24T09:18:56.429Z"
   },
   {
    "duration": 41,
    "start_time": "2023-07-24T09:18:56.455Z"
   },
   {
    "duration": 40,
    "start_time": "2023-07-24T09:18:56.497Z"
   },
   {
    "duration": 9,
    "start_time": "2023-07-24T09:18:56.538Z"
   },
   {
    "duration": 37,
    "start_time": "2023-07-24T09:18:56.548Z"
   },
   {
    "duration": 11,
    "start_time": "2023-07-24T09:18:56.586Z"
   },
   {
    "duration": 33,
    "start_time": "2023-07-24T09:18:56.599Z"
   },
   {
    "duration": 15,
    "start_time": "2023-07-24T09:18:56.633Z"
   },
   {
    "duration": 5910,
    "start_time": "2023-07-24T09:18:56.649Z"
   },
   {
    "duration": 0,
    "start_time": "2023-07-24T09:19:02.560Z"
   },
   {
    "duration": 0,
    "start_time": "2023-07-24T09:19:02.561Z"
   },
   {
    "duration": 0,
    "start_time": "2023-07-24T09:19:02.562Z"
   },
   {
    "duration": 66,
    "start_time": "2023-07-24T09:19:58.128Z"
   },
   {
    "duration": 24,
    "start_time": "2023-07-24T09:19:58.196Z"
   },
   {
    "duration": 30,
    "start_time": "2023-07-24T09:19:58.226Z"
   },
   {
    "duration": 20,
    "start_time": "2023-07-24T09:19:58.257Z"
   },
   {
    "duration": 55,
    "start_time": "2023-07-24T09:19:58.279Z"
   },
   {
    "duration": 3,
    "start_time": "2023-07-24T09:19:58.335Z"
   },
   {
    "duration": 13,
    "start_time": "2023-07-24T09:19:58.340Z"
   },
   {
    "duration": 6,
    "start_time": "2023-07-24T09:19:58.354Z"
   },
   {
    "duration": 15,
    "start_time": "2023-07-24T09:19:58.362Z"
   },
   {
    "duration": 17,
    "start_time": "2023-07-24T09:19:58.379Z"
   },
   {
    "duration": 72,
    "start_time": "2023-07-24T09:19:58.398Z"
   },
   {
    "duration": 9,
    "start_time": "2023-07-24T09:19:58.471Z"
   },
   {
    "duration": 4,
    "start_time": "2023-07-24T09:19:58.481Z"
   },
   {
    "duration": 26,
    "start_time": "2023-07-24T09:19:58.487Z"
   },
   {
    "duration": 26,
    "start_time": "2023-07-24T09:19:58.524Z"
   },
   {
    "duration": 17,
    "start_time": "2023-07-24T09:19:58.552Z"
   },
   {
    "duration": 3,
    "start_time": "2023-07-24T09:19:58.570Z"
   },
   {
    "duration": 47,
    "start_time": "2023-07-24T09:19:58.575Z"
   },
   {
    "duration": 11,
    "start_time": "2023-07-24T09:19:58.623Z"
   },
   {
    "duration": 13,
    "start_time": "2023-07-24T09:19:58.636Z"
   },
   {
    "duration": 25,
    "start_time": "2023-07-24T09:19:58.651Z"
   },
   {
    "duration": 50,
    "start_time": "2023-07-24T09:19:58.677Z"
   },
   {
    "duration": 29,
    "start_time": "2023-07-24T09:19:58.728Z"
   },
   {
    "duration": 12,
    "start_time": "2023-07-24T09:19:58.759Z"
   },
   {
    "duration": 23,
    "start_time": "2023-07-24T09:19:58.773Z"
   },
   {
    "duration": 98,
    "start_time": "2023-07-24T09:24:01.586Z"
   },
   {
    "duration": 16,
    "start_time": "2023-07-24T09:24:01.685Z"
   },
   {
    "duration": 124,
    "start_time": "2023-07-24T09:24:01.709Z"
   },
   {
    "duration": 59,
    "start_time": "2023-07-24T09:24:01.836Z"
   },
   {
    "duration": 102,
    "start_time": "2023-07-24T09:24:01.896Z"
   },
   {
    "duration": 79,
    "start_time": "2023-07-24T09:24:01.999Z"
   },
   {
    "duration": 93,
    "start_time": "2023-07-24T09:24:02.080Z"
   },
   {
    "duration": 95,
    "start_time": "2023-07-24T09:24:02.175Z"
   },
   {
    "duration": 54,
    "start_time": "2023-07-24T09:24:02.271Z"
   },
   {
    "duration": 52,
    "start_time": "2023-07-24T09:24:02.334Z"
   },
   {
    "duration": 142,
    "start_time": "2023-07-24T09:24:02.387Z"
   },
   {
    "duration": 25,
    "start_time": "2023-07-24T09:24:02.533Z"
   },
   {
    "duration": 30,
    "start_time": "2023-07-24T09:24:02.560Z"
   },
   {
    "duration": 72,
    "start_time": "2023-07-24T09:24:02.593Z"
   },
   {
    "duration": 64,
    "start_time": "2023-07-24T09:24:02.667Z"
   },
   {
    "duration": 42,
    "start_time": "2023-07-24T09:24:02.732Z"
   },
   {
    "duration": 21,
    "start_time": "2023-07-24T09:24:02.775Z"
   },
   {
    "duration": 53,
    "start_time": "2023-07-24T09:24:02.797Z"
   },
   {
    "duration": 36,
    "start_time": "2023-07-24T09:24:02.851Z"
   },
   {
    "duration": 20,
    "start_time": "2023-07-24T09:24:02.889Z"
   },
   {
    "duration": 33,
    "start_time": "2023-07-24T09:24:02.922Z"
   },
   {
    "duration": 138,
    "start_time": "2023-07-24T09:24:02.956Z"
   },
   {
    "duration": 0,
    "start_time": "2023-07-24T09:24:03.096Z"
   },
   {
    "duration": 0,
    "start_time": "2023-07-24T09:24:03.097Z"
   },
   {
    "duration": 0,
    "start_time": "2023-07-24T09:24:03.098Z"
   },
   {
    "duration": 67,
    "start_time": "2023-07-24T09:24:10.322Z"
   },
   {
    "duration": 35,
    "start_time": "2023-07-24T09:24:10.391Z"
   },
   {
    "duration": 31,
    "start_time": "2023-07-24T09:24:10.427Z"
   },
   {
    "duration": 34,
    "start_time": "2023-07-24T09:24:10.459Z"
   },
   {
    "duration": 37,
    "start_time": "2023-07-24T09:24:10.495Z"
   },
   {
    "duration": 6,
    "start_time": "2023-07-24T09:24:10.534Z"
   },
   {
    "duration": 18,
    "start_time": "2023-07-24T09:24:10.542Z"
   },
   {
    "duration": 30,
    "start_time": "2023-07-24T09:24:10.562Z"
   },
   {
    "duration": 73,
    "start_time": "2023-07-24T09:24:10.594Z"
   },
   {
    "duration": 56,
    "start_time": "2023-07-24T09:24:10.669Z"
   },
   {
    "duration": 49,
    "start_time": "2023-07-24T09:24:10.727Z"
   },
   {
    "duration": 9,
    "start_time": "2023-07-24T09:24:10.777Z"
   },
   {
    "duration": 39,
    "start_time": "2023-07-24T09:24:10.787Z"
   },
   {
    "duration": 27,
    "start_time": "2023-07-24T09:24:10.828Z"
   },
   {
    "duration": 30,
    "start_time": "2023-07-24T09:24:10.857Z"
   },
   {
    "duration": 36,
    "start_time": "2023-07-24T09:24:10.888Z"
   },
   {
    "duration": 26,
    "start_time": "2023-07-24T09:24:10.926Z"
   },
   {
    "duration": 25,
    "start_time": "2023-07-24T09:24:10.953Z"
   },
   {
    "duration": 29,
    "start_time": "2023-07-24T09:24:10.980Z"
   },
   {
    "duration": 27,
    "start_time": "2023-07-24T09:24:11.020Z"
   },
   {
    "duration": 39,
    "start_time": "2023-07-24T09:24:11.049Z"
   },
   {
    "duration": 71,
    "start_time": "2023-07-24T09:24:11.089Z"
   },
   {
    "duration": 64,
    "start_time": "2023-07-24T09:24:11.162Z"
   },
   {
    "duration": 16,
    "start_time": "2023-07-24T09:24:11.228Z"
   },
   {
    "duration": 26,
    "start_time": "2023-07-24T09:24:11.245Z"
   },
   {
    "duration": 101,
    "start_time": "2023-07-24T10:22:33.956Z"
   },
   {
    "duration": 21,
    "start_time": "2023-07-24T10:22:34.059Z"
   },
   {
    "duration": 58,
    "start_time": "2023-07-24T10:22:34.082Z"
   },
   {
    "duration": 16,
    "start_time": "2023-07-24T10:22:34.143Z"
   },
   {
    "duration": 61,
    "start_time": "2023-07-24T10:22:34.161Z"
   },
   {
    "duration": 4,
    "start_time": "2023-07-24T10:22:34.223Z"
   },
   {
    "duration": 15,
    "start_time": "2023-07-24T10:22:34.229Z"
   },
   {
    "duration": 11,
    "start_time": "2023-07-24T10:22:34.245Z"
   },
   {
    "duration": 9,
    "start_time": "2023-07-24T10:22:34.257Z"
   },
   {
    "duration": 40,
    "start_time": "2023-07-24T10:22:34.269Z"
   },
   {
    "duration": 58,
    "start_time": "2023-07-24T10:22:34.311Z"
   },
   {
    "duration": 10,
    "start_time": "2023-07-24T10:22:34.370Z"
   },
   {
    "duration": 44,
    "start_time": "2023-07-24T10:22:34.381Z"
   },
   {
    "duration": 17,
    "start_time": "2023-07-24T10:22:34.426Z"
   },
   {
    "duration": 26,
    "start_time": "2023-07-24T10:22:34.445Z"
   },
   {
    "duration": 44,
    "start_time": "2023-07-24T10:22:34.473Z"
   },
   {
    "duration": 21,
    "start_time": "2023-07-24T10:22:34.518Z"
   },
   {
    "duration": 20,
    "start_time": "2023-07-24T10:22:34.541Z"
   },
   {
    "duration": 17,
    "start_time": "2023-07-24T10:22:34.564Z"
   },
   {
    "duration": 35,
    "start_time": "2023-07-24T10:22:34.582Z"
   },
   {
    "duration": 16,
    "start_time": "2023-07-24T10:22:34.619Z"
   },
   {
    "duration": 87,
    "start_time": "2023-07-24T10:22:34.637Z"
   },
   {
    "duration": 8,
    "start_time": "2023-07-24T10:22:34.728Z"
   },
   {
    "duration": 8,
    "start_time": "2023-07-24T10:22:34.738Z"
   },
   {
    "duration": 13,
    "start_time": "2023-07-24T10:22:34.748Z"
   },
   {
    "duration": 82,
    "start_time": "2023-07-24T10:31:36.738Z"
   },
   {
    "duration": 17,
    "start_time": "2023-07-24T10:31:36.825Z"
   },
   {
    "duration": 24,
    "start_time": "2023-07-24T10:31:36.845Z"
   },
   {
    "duration": 10,
    "start_time": "2023-07-24T10:31:36.871Z"
   },
   {
    "duration": 55,
    "start_time": "2023-07-24T10:31:36.883Z"
   },
   {
    "duration": 3,
    "start_time": "2023-07-24T10:31:36.940Z"
   },
   {
    "duration": 18,
    "start_time": "2023-07-24T10:31:36.945Z"
   },
   {
    "duration": 9,
    "start_time": "2023-07-24T10:31:36.965Z"
   },
   {
    "duration": 8,
    "start_time": "2023-07-24T10:31:36.976Z"
   },
   {
    "duration": 15,
    "start_time": "2023-07-24T10:31:36.986Z"
   },
   {
    "duration": 52,
    "start_time": "2023-07-24T10:31:37.003Z"
   },
   {
    "duration": 12,
    "start_time": "2023-07-24T10:31:37.056Z"
   },
   {
    "duration": 12,
    "start_time": "2023-07-24T10:31:37.070Z"
   },
   {
    "duration": 31,
    "start_time": "2023-07-24T10:31:37.084Z"
   },
   {
    "duration": 39,
    "start_time": "2023-07-24T10:31:37.116Z"
   },
   {
    "duration": 29,
    "start_time": "2023-07-24T10:31:37.157Z"
   },
   {
    "duration": 4,
    "start_time": "2023-07-24T10:31:37.188Z"
   },
   {
    "duration": 43,
    "start_time": "2023-07-24T10:31:37.193Z"
   },
   {
    "duration": 7,
    "start_time": "2023-07-24T10:31:37.239Z"
   },
   {
    "duration": 13,
    "start_time": "2023-07-24T10:31:37.248Z"
   },
   {
    "duration": 12,
    "start_time": "2023-07-24T10:31:37.263Z"
   },
   {
    "duration": 20,
    "start_time": "2023-07-24T10:31:37.276Z"
   },
   {
    "duration": 0,
    "start_time": "2023-07-24T10:31:37.298Z"
   },
   {
    "duration": 0,
    "start_time": "2023-07-24T10:31:37.299Z"
   },
   {
    "duration": 0,
    "start_time": "2023-07-24T10:31:37.300Z"
   },
   {
    "duration": 97,
    "start_time": "2023-07-24T10:31:55.418Z"
   },
   {
    "duration": 17,
    "start_time": "2023-07-24T10:31:55.520Z"
   },
   {
    "duration": 19,
    "start_time": "2023-07-24T10:31:55.539Z"
   },
   {
    "duration": 19,
    "start_time": "2023-07-24T10:31:55.560Z"
   },
   {
    "duration": 63,
    "start_time": "2023-07-24T10:31:55.583Z"
   },
   {
    "duration": 5,
    "start_time": "2023-07-24T10:31:55.647Z"
   },
   {
    "duration": 18,
    "start_time": "2023-07-24T10:31:55.653Z"
   },
   {
    "duration": 9,
    "start_time": "2023-07-24T10:31:55.672Z"
   },
   {
    "duration": 29,
    "start_time": "2023-07-24T10:31:55.683Z"
   },
   {
    "duration": 11,
    "start_time": "2023-07-24T10:31:55.716Z"
   },
   {
    "duration": 33,
    "start_time": "2023-07-24T10:31:55.728Z"
   },
   {
    "duration": 9,
    "start_time": "2023-07-24T10:31:55.763Z"
   },
   {
    "duration": 8,
    "start_time": "2023-07-24T10:31:55.774Z"
   },
   {
    "duration": 35,
    "start_time": "2023-07-24T10:31:55.785Z"
   },
   {
    "duration": 24,
    "start_time": "2023-07-24T10:31:55.822Z"
   },
   {
    "duration": 19,
    "start_time": "2023-07-24T10:31:55.848Z"
   },
   {
    "duration": 4,
    "start_time": "2023-07-24T10:31:55.869Z"
   },
   {
    "duration": 43,
    "start_time": "2023-07-24T10:31:55.875Z"
   },
   {
    "duration": 11,
    "start_time": "2023-07-24T10:31:55.919Z"
   },
   {
    "duration": 4,
    "start_time": "2023-07-24T10:31:55.931Z"
   },
   {
    "duration": 13,
    "start_time": "2023-07-24T10:31:55.937Z"
   },
   {
    "duration": 30,
    "start_time": "2023-07-24T10:31:55.952Z"
   },
   {
    "duration": 3,
    "start_time": "2023-07-24T10:31:55.983Z"
   },
   {
    "duration": 43,
    "start_time": "2023-07-24T10:31:55.988Z"
   },
   {
    "duration": 12,
    "start_time": "2023-07-24T10:31:56.033Z"
   },
   {
    "duration": 77,
    "start_time": "2023-07-24T10:32:10.568Z"
   },
   {
    "duration": 14,
    "start_time": "2023-07-24T10:32:10.648Z"
   },
   {
    "duration": 31,
    "start_time": "2023-07-24T10:32:10.664Z"
   },
   {
    "duration": 22,
    "start_time": "2023-07-24T10:32:10.697Z"
   },
   {
    "duration": 33,
    "start_time": "2023-07-24T10:32:10.721Z"
   },
   {
    "duration": 4,
    "start_time": "2023-07-24T10:32:10.756Z"
   },
   {
    "duration": 15,
    "start_time": "2023-07-24T10:32:10.762Z"
   },
   {
    "duration": 9,
    "start_time": "2023-07-24T10:32:10.778Z"
   },
   {
    "duration": 17,
    "start_time": "2023-07-24T10:32:10.788Z"
   },
   {
    "duration": 19,
    "start_time": "2023-07-24T10:32:10.807Z"
   },
   {
    "duration": 44,
    "start_time": "2023-07-24T10:32:10.827Z"
   },
   {
    "duration": 9,
    "start_time": "2023-07-24T10:32:10.873Z"
   },
   {
    "duration": 8,
    "start_time": "2023-07-24T10:32:10.884Z"
   },
   {
    "duration": 33,
    "start_time": "2023-07-24T10:32:10.893Z"
   },
   {
    "duration": 22,
    "start_time": "2023-07-24T10:32:10.928Z"
   },
   {
    "duration": 19,
    "start_time": "2023-07-24T10:32:10.952Z"
   },
   {
    "duration": 4,
    "start_time": "2023-07-24T10:32:10.973Z"
   },
   {
    "duration": 18,
    "start_time": "2023-07-24T10:32:10.979Z"
   },
   {
    "duration": 43,
    "start_time": "2023-07-24T10:32:10.999Z"
   },
   {
    "duration": 17,
    "start_time": "2023-07-24T10:32:11.044Z"
   },
   {
    "duration": 27,
    "start_time": "2023-07-24T10:32:11.063Z"
   },
   {
    "duration": 25,
    "start_time": "2023-07-24T10:32:11.092Z"
   },
   {
    "duration": 18,
    "start_time": "2023-07-24T10:32:11.118Z"
   },
   {
    "duration": 9,
    "start_time": "2023-07-24T10:32:11.137Z"
   },
   {
    "duration": 12,
    "start_time": "2023-07-24T10:32:11.148Z"
   },
   {
    "duration": 78,
    "start_time": "2023-07-24T10:35:57.135Z"
   },
   {
    "duration": 14,
    "start_time": "2023-07-24T10:35:57.215Z"
   },
   {
    "duration": 20,
    "start_time": "2023-07-24T10:35:57.230Z"
   },
   {
    "duration": 15,
    "start_time": "2023-07-24T10:35:57.252Z"
   },
   {
    "duration": 49,
    "start_time": "2023-07-24T10:35:57.268Z"
   },
   {
    "duration": 3,
    "start_time": "2023-07-24T10:35:57.318Z"
   },
   {
    "duration": 10,
    "start_time": "2023-07-24T10:35:57.322Z"
   },
   {
    "duration": 4,
    "start_time": "2023-07-24T10:35:57.334Z"
   },
   {
    "duration": 28,
    "start_time": "2023-07-24T10:35:57.339Z"
   },
   {
    "duration": 5,
    "start_time": "2023-07-24T10:35:57.369Z"
   },
   {
    "duration": 42,
    "start_time": "2023-07-24T10:35:57.376Z"
   },
   {
    "duration": 9,
    "start_time": "2023-07-24T10:35:57.419Z"
   },
   {
    "duration": 20,
    "start_time": "2023-07-24T10:35:57.430Z"
   },
   {
    "duration": 29,
    "start_time": "2023-07-24T10:35:57.452Z"
   },
   {
    "duration": 71,
    "start_time": "2023-07-24T10:35:57.483Z"
   },
   {
    "duration": 38,
    "start_time": "2023-07-24T10:35:57.556Z"
   },
   {
    "duration": 22,
    "start_time": "2023-07-24T10:35:57.595Z"
   },
   {
    "duration": 42,
    "start_time": "2023-07-24T10:35:57.618Z"
   },
   {
    "duration": 20,
    "start_time": "2023-07-24T10:35:57.662Z"
   },
   {
    "duration": 9,
    "start_time": "2023-07-24T10:35:57.684Z"
   },
   {
    "duration": 32,
    "start_time": "2023-07-24T10:35:57.695Z"
   },
   {
    "duration": 6961,
    "start_time": "2023-07-24T10:35:57.728Z"
   },
   {
    "duration": 0,
    "start_time": "2023-07-24T10:36:04.690Z"
   },
   {
    "duration": 0,
    "start_time": "2023-07-24T10:36:04.691Z"
   },
   {
    "duration": 0,
    "start_time": "2023-07-24T10:36:04.693Z"
   },
   {
    "duration": 75,
    "start_time": "2023-07-24T10:38:25.159Z"
   },
   {
    "duration": 15,
    "start_time": "2023-07-24T10:38:25.236Z"
   },
   {
    "duration": 39,
    "start_time": "2023-07-24T10:38:25.253Z"
   },
   {
    "duration": 30,
    "start_time": "2023-07-24T10:38:25.295Z"
   },
   {
    "duration": 71,
    "start_time": "2023-07-24T10:38:25.327Z"
   },
   {
    "duration": 26,
    "start_time": "2023-07-24T10:38:25.401Z"
   },
   {
    "duration": 28,
    "start_time": "2023-07-24T10:38:25.429Z"
   },
   {
    "duration": 38,
    "start_time": "2023-07-24T10:38:25.459Z"
   },
   {
    "duration": 46,
    "start_time": "2023-07-24T10:38:25.499Z"
   },
   {
    "duration": 31,
    "start_time": "2023-07-24T10:38:25.548Z"
   },
   {
    "duration": 69,
    "start_time": "2023-07-24T10:38:25.581Z"
   },
   {
    "duration": 10,
    "start_time": "2023-07-24T10:38:25.651Z"
   },
   {
    "duration": 20,
    "start_time": "2023-07-24T10:38:25.662Z"
   },
   {
    "duration": 34,
    "start_time": "2023-07-24T10:38:25.683Z"
   },
   {
    "duration": 29,
    "start_time": "2023-07-24T10:38:25.719Z"
   },
   {
    "duration": 18,
    "start_time": "2023-07-24T10:38:25.749Z"
   },
   {
    "duration": 4,
    "start_time": "2023-07-24T10:38:25.768Z"
   },
   {
    "duration": 21,
    "start_time": "2023-07-24T10:38:25.774Z"
   },
   {
    "duration": 43,
    "start_time": "2023-07-24T10:38:25.797Z"
   },
   {
    "duration": 33,
    "start_time": "2023-07-24T10:38:25.841Z"
   },
   {
    "duration": 34,
    "start_time": "2023-07-24T10:38:25.875Z"
   },
   {
    "duration": 5780,
    "start_time": "2023-07-24T10:38:25.910Z"
   },
   {
    "duration": 0,
    "start_time": "2023-07-24T10:38:31.691Z"
   },
   {
    "duration": 0,
    "start_time": "2023-07-24T10:38:31.693Z"
   },
   {
    "duration": 0,
    "start_time": "2023-07-24T10:38:31.694Z"
   },
   {
    "duration": 76,
    "start_time": "2023-07-24T10:38:45.750Z"
   },
   {
    "duration": 14,
    "start_time": "2023-07-24T10:38:45.828Z"
   },
   {
    "duration": 20,
    "start_time": "2023-07-24T10:38:45.844Z"
   },
   {
    "duration": 53,
    "start_time": "2023-07-24T10:38:45.867Z"
   },
   {
    "duration": 41,
    "start_time": "2023-07-24T10:38:45.922Z"
   },
   {
    "duration": 51,
    "start_time": "2023-07-24T10:38:45.965Z"
   },
   {
    "duration": 33,
    "start_time": "2023-07-24T10:38:46.018Z"
   },
   {
    "duration": 27,
    "start_time": "2023-07-24T10:38:46.052Z"
   },
   {
    "duration": 34,
    "start_time": "2023-07-24T10:38:46.080Z"
   },
   {
    "duration": 13,
    "start_time": "2023-07-24T10:38:46.117Z"
   },
   {
    "duration": 43,
    "start_time": "2023-07-24T10:38:46.131Z"
   },
   {
    "duration": 19,
    "start_time": "2023-07-24T10:38:46.176Z"
   },
   {
    "duration": 43,
    "start_time": "2023-07-24T10:38:46.197Z"
   },
   {
    "duration": 33,
    "start_time": "2023-07-24T10:38:46.242Z"
   },
   {
    "duration": 50,
    "start_time": "2023-07-24T10:38:46.277Z"
   },
   {
    "duration": 34,
    "start_time": "2023-07-24T10:38:46.330Z"
   },
   {
    "duration": 3,
    "start_time": "2023-07-24T10:38:46.366Z"
   },
   {
    "duration": 35,
    "start_time": "2023-07-24T10:38:46.371Z"
   },
   {
    "duration": 30,
    "start_time": "2023-07-24T10:38:46.407Z"
   },
   {
    "duration": 15,
    "start_time": "2023-07-24T10:38:46.439Z"
   },
   {
    "duration": 28,
    "start_time": "2023-07-24T10:38:46.456Z"
   },
   {
    "duration": 50,
    "start_time": "2023-07-24T10:38:46.486Z"
   },
   {
    "duration": 9,
    "start_time": "2023-07-24T10:38:46.538Z"
   },
   {
    "duration": 15,
    "start_time": "2023-07-24T10:38:46.549Z"
   },
   {
    "duration": 8,
    "start_time": "2023-07-24T10:38:46.566Z"
   },
   {
    "duration": 77,
    "start_time": "2023-07-24T10:41:57.798Z"
   },
   {
    "duration": 15,
    "start_time": "2023-07-24T10:41:57.877Z"
   },
   {
    "duration": 53,
    "start_time": "2023-07-24T10:41:57.893Z"
   },
   {
    "duration": 16,
    "start_time": "2023-07-24T10:41:57.948Z"
   },
   {
    "duration": 69,
    "start_time": "2023-07-24T10:41:57.966Z"
   },
   {
    "duration": 4,
    "start_time": "2023-07-24T10:41:58.037Z"
   },
   {
    "duration": 37,
    "start_time": "2023-07-24T10:41:58.043Z"
   },
   {
    "duration": 40,
    "start_time": "2023-07-24T10:41:58.082Z"
   },
   {
    "duration": 27,
    "start_time": "2023-07-24T10:41:58.124Z"
   },
   {
    "duration": 16,
    "start_time": "2023-07-24T10:41:58.155Z"
   },
   {
    "duration": 54,
    "start_time": "2023-07-24T10:41:58.173Z"
   },
   {
    "duration": 13,
    "start_time": "2023-07-24T10:41:58.229Z"
   },
   {
    "duration": 19,
    "start_time": "2023-07-24T10:41:58.243Z"
   },
   {
    "duration": 30,
    "start_time": "2023-07-24T10:41:58.263Z"
   },
   {
    "duration": 48,
    "start_time": "2023-07-24T10:41:58.294Z"
   },
   {
    "duration": 37,
    "start_time": "2023-07-24T10:41:58.344Z"
   },
   {
    "duration": 4,
    "start_time": "2023-07-24T10:41:58.383Z"
   },
   {
    "duration": 56,
    "start_time": "2023-07-24T10:41:58.388Z"
   },
   {
    "duration": 24,
    "start_time": "2023-07-24T10:41:58.446Z"
   },
   {
    "duration": 11,
    "start_time": "2023-07-24T10:41:58.472Z"
   },
   {
    "duration": 38,
    "start_time": "2023-07-24T10:41:58.484Z"
   },
   {
    "duration": 35,
    "start_time": "2023-07-24T10:41:58.524Z"
   },
   {
    "duration": 3,
    "start_time": "2023-07-24T10:41:58.560Z"
   },
   {
    "duration": 5,
    "start_time": "2023-07-24T10:41:58.564Z"
   },
   {
    "duration": 8,
    "start_time": "2023-07-24T10:41:58.571Z"
   },
   {
    "duration": 77,
    "start_time": "2023-07-24T10:44:30.366Z"
   },
   {
    "duration": 23,
    "start_time": "2023-07-24T10:44:30.445Z"
   },
   {
    "duration": 83,
    "start_time": "2023-07-24T10:44:30.470Z"
   },
   {
    "duration": 34,
    "start_time": "2023-07-24T10:44:30.555Z"
   },
   {
    "duration": 98,
    "start_time": "2023-07-24T10:44:30.590Z"
   },
   {
    "duration": 48,
    "start_time": "2023-07-24T10:44:30.689Z"
   },
   {
    "duration": 49,
    "start_time": "2023-07-24T10:44:30.739Z"
   },
   {
    "duration": 38,
    "start_time": "2023-07-24T10:44:30.789Z"
   },
   {
    "duration": 42,
    "start_time": "2023-07-24T10:44:30.829Z"
   },
   {
    "duration": 53,
    "start_time": "2023-07-24T10:44:30.874Z"
   },
   {
    "duration": 67,
    "start_time": "2023-07-24T10:44:30.929Z"
   },
   {
    "duration": 56,
    "start_time": "2023-07-24T10:44:30.998Z"
   },
   {
    "duration": 32,
    "start_time": "2023-07-24T10:44:31.055Z"
   },
   {
    "duration": 149,
    "start_time": "2023-07-24T10:44:31.089Z"
   },
   {
    "duration": 83,
    "start_time": "2023-07-24T10:44:31.240Z"
   },
   {
    "duration": 127,
    "start_time": "2023-07-24T10:44:31.325Z"
   },
   {
    "duration": 97,
    "start_time": "2023-07-24T10:44:31.454Z"
   },
   {
    "duration": 47,
    "start_time": "2023-07-24T10:44:31.553Z"
   },
   {
    "duration": 51,
    "start_time": "2023-07-24T10:44:31.609Z"
   },
   {
    "duration": 37,
    "start_time": "2023-07-24T10:44:31.662Z"
   },
   {
    "duration": 35,
    "start_time": "2023-07-24T10:44:31.703Z"
   },
   {
    "duration": 6634,
    "start_time": "2023-07-24T10:44:31.740Z"
   },
   {
    "duration": 0,
    "start_time": "2023-07-24T10:44:38.376Z"
   },
   {
    "duration": 0,
    "start_time": "2023-07-24T10:44:38.377Z"
   },
   {
    "duration": 0,
    "start_time": "2023-07-24T10:44:38.378Z"
   },
   {
    "duration": 99,
    "start_time": "2023-07-24T10:45:40.796Z"
   },
   {
    "duration": 20,
    "start_time": "2023-07-24T10:45:40.897Z"
   },
   {
    "duration": 44,
    "start_time": "2023-07-24T10:45:40.919Z"
   },
   {
    "duration": 19,
    "start_time": "2023-07-24T10:45:40.965Z"
   },
   {
    "duration": 48,
    "start_time": "2023-07-24T10:45:40.986Z"
   },
   {
    "duration": 3,
    "start_time": "2023-07-24T10:45:41.037Z"
   },
   {
    "duration": 18,
    "start_time": "2023-07-24T10:45:41.042Z"
   },
   {
    "duration": 9,
    "start_time": "2023-07-24T10:45:41.062Z"
   },
   {
    "duration": 18,
    "start_time": "2023-07-24T10:45:41.072Z"
   },
   {
    "duration": 26,
    "start_time": "2023-07-24T10:45:41.092Z"
   },
   {
    "duration": 51,
    "start_time": "2023-07-24T10:45:41.120Z"
   },
   {
    "duration": 9,
    "start_time": "2023-07-24T10:45:41.172Z"
   },
   {
    "duration": 15,
    "start_time": "2023-07-24T10:45:41.182Z"
   },
   {
    "duration": 37,
    "start_time": "2023-07-24T10:45:41.198Z"
   },
   {
    "duration": 43,
    "start_time": "2023-07-24T10:45:41.237Z"
   },
   {
    "duration": 67,
    "start_time": "2023-07-24T10:45:41.282Z"
   },
   {
    "duration": 5,
    "start_time": "2023-07-24T10:45:41.352Z"
   },
   {
    "duration": 42,
    "start_time": "2023-07-24T10:45:41.359Z"
   },
   {
    "duration": 40,
    "start_time": "2023-07-24T10:45:41.402Z"
   },
   {
    "duration": 22,
    "start_time": "2023-07-24T10:45:41.444Z"
   },
   {
    "duration": 21,
    "start_time": "2023-07-24T10:45:41.467Z"
   },
   {
    "duration": 70,
    "start_time": "2023-07-24T10:45:41.490Z"
   },
   {
    "duration": 9,
    "start_time": "2023-07-24T10:45:41.562Z"
   },
   {
    "duration": 19,
    "start_time": "2023-07-24T10:45:41.573Z"
   },
   {
    "duration": 49,
    "start_time": "2023-07-24T10:45:41.594Z"
   },
   {
    "duration": 67,
    "start_time": "2023-07-24T10:46:40.331Z"
   },
   {
    "duration": 24,
    "start_time": "2023-07-24T10:46:40.406Z"
   },
   {
    "duration": 30,
    "start_time": "2023-07-24T10:46:40.431Z"
   },
   {
    "duration": 12,
    "start_time": "2023-07-24T10:46:40.462Z"
   },
   {
    "duration": 64,
    "start_time": "2023-07-24T10:46:40.476Z"
   },
   {
    "duration": 4,
    "start_time": "2023-07-24T10:46:40.541Z"
   },
   {
    "duration": 17,
    "start_time": "2023-07-24T10:46:40.546Z"
   },
   {
    "duration": 15,
    "start_time": "2023-07-24T10:46:40.564Z"
   },
   {
    "duration": 9,
    "start_time": "2023-07-24T10:46:40.580Z"
   },
   {
    "duration": 6,
    "start_time": "2023-07-24T10:46:40.590Z"
   },
   {
    "duration": 54,
    "start_time": "2023-07-24T10:46:40.598Z"
   },
   {
    "duration": 9,
    "start_time": "2023-07-24T10:46:40.654Z"
   },
   {
    "duration": 5,
    "start_time": "2023-07-24T10:46:40.665Z"
   },
   {
    "duration": 15,
    "start_time": "2023-07-24T10:46:40.673Z"
   },
   {
    "duration": 51,
    "start_time": "2023-07-24T10:46:40.689Z"
   },
   {
    "duration": 27,
    "start_time": "2023-07-24T10:46:40.742Z"
   },
   {
    "duration": 4,
    "start_time": "2023-07-24T10:46:40.771Z"
   },
   {
    "duration": 16,
    "start_time": "2023-07-24T10:46:40.777Z"
   },
   {
    "duration": 16,
    "start_time": "2023-07-24T10:46:40.794Z"
   },
   {
    "duration": 10,
    "start_time": "2023-07-24T10:46:40.813Z"
   },
   {
    "duration": 16,
    "start_time": "2023-07-24T10:46:40.824Z"
   },
   {
    "duration": 22,
    "start_time": "2023-07-24T10:46:40.842Z"
   },
   {
    "duration": 2,
    "start_time": "2023-07-24T10:46:40.866Z"
   },
   {
    "duration": 14,
    "start_time": "2023-07-24T10:46:40.870Z"
   },
   {
    "duration": 6,
    "start_time": "2023-07-24T10:46:40.886Z"
   },
   {
    "duration": 66,
    "start_time": "2023-07-24T10:46:49.222Z"
   },
   {
    "duration": 27,
    "start_time": "2023-07-24T10:46:49.290Z"
   },
   {
    "duration": 16,
    "start_time": "2023-07-24T10:46:49.319Z"
   },
   {
    "duration": 15,
    "start_time": "2023-07-24T10:46:49.337Z"
   },
   {
    "duration": 32,
    "start_time": "2023-07-24T10:46:49.354Z"
   },
   {
    "duration": 3,
    "start_time": "2023-07-24T10:46:49.387Z"
   },
   {
    "duration": 32,
    "start_time": "2023-07-24T10:46:49.392Z"
   },
   {
    "duration": 27,
    "start_time": "2023-07-24T10:46:49.426Z"
   },
   {
    "duration": 8,
    "start_time": "2023-07-24T10:46:49.455Z"
   },
   {
    "duration": 13,
    "start_time": "2023-07-24T10:46:49.465Z"
   },
   {
    "duration": 51,
    "start_time": "2023-07-24T10:46:49.479Z"
   },
   {
    "duration": 10,
    "start_time": "2023-07-24T10:46:49.531Z"
   },
   {
    "duration": 15,
    "start_time": "2023-07-24T10:46:49.543Z"
   },
   {
    "duration": 17,
    "start_time": "2023-07-24T10:46:49.559Z"
   },
   {
    "duration": 39,
    "start_time": "2023-07-24T10:46:49.577Z"
   },
   {
    "duration": 20,
    "start_time": "2023-07-24T10:46:49.617Z"
   },
   {
    "duration": 5,
    "start_time": "2023-07-24T10:46:49.638Z"
   },
   {
    "duration": 29,
    "start_time": "2023-07-24T10:46:49.644Z"
   },
   {
    "duration": 18,
    "start_time": "2023-07-24T10:46:49.675Z"
   },
   {
    "duration": 34,
    "start_time": "2023-07-24T10:46:49.695Z"
   },
   {
    "duration": 12,
    "start_time": "2023-07-24T10:46:49.731Z"
   },
   {
    "duration": 46,
    "start_time": "2023-07-24T10:46:49.745Z"
   },
   {
    "duration": 3,
    "start_time": "2023-07-24T10:46:49.792Z"
   },
   {
    "duration": 27,
    "start_time": "2023-07-24T10:46:49.796Z"
   },
   {
    "duration": 7,
    "start_time": "2023-07-24T10:46:49.825Z"
   },
   {
    "duration": 69,
    "start_time": "2023-07-24T10:47:11.613Z"
   },
   {
    "duration": 14,
    "start_time": "2023-07-24T10:47:11.684Z"
   },
   {
    "duration": 27,
    "start_time": "2023-07-24T10:47:11.709Z"
   },
   {
    "duration": 9,
    "start_time": "2023-07-24T10:47:11.738Z"
   },
   {
    "duration": 40,
    "start_time": "2023-07-24T10:47:11.748Z"
   },
   {
    "duration": 3,
    "start_time": "2023-07-24T10:47:11.790Z"
   },
   {
    "duration": 26,
    "start_time": "2023-07-24T10:47:11.794Z"
   },
   {
    "duration": 5,
    "start_time": "2023-07-24T10:47:11.822Z"
   },
   {
    "duration": 6,
    "start_time": "2023-07-24T10:47:11.829Z"
   },
   {
    "duration": 8,
    "start_time": "2023-07-24T10:47:11.837Z"
   },
   {
    "duration": 31,
    "start_time": "2023-07-24T10:47:11.846Z"
   },
   {
    "duration": 31,
    "start_time": "2023-07-24T10:47:11.880Z"
   },
   {
    "duration": 5,
    "start_time": "2023-07-24T10:47:11.914Z"
   },
   {
    "duration": 26,
    "start_time": "2023-07-24T10:47:11.921Z"
   },
   {
    "duration": 26,
    "start_time": "2023-07-24T10:47:11.949Z"
   },
   {
    "duration": 18,
    "start_time": "2023-07-24T10:47:11.976Z"
   },
   {
    "duration": 14,
    "start_time": "2023-07-24T10:47:11.996Z"
   },
   {
    "duration": 18,
    "start_time": "2023-07-24T10:47:12.011Z"
   },
   {
    "duration": 13,
    "start_time": "2023-07-24T10:47:12.031Z"
   },
   {
    "duration": 7,
    "start_time": "2023-07-24T10:47:12.045Z"
   },
   {
    "duration": 17,
    "start_time": "2023-07-24T10:47:12.054Z"
   },
   {
    "duration": 30,
    "start_time": "2023-07-24T10:47:12.072Z"
   },
   {
    "duration": 2,
    "start_time": "2023-07-24T10:47:12.104Z"
   },
   {
    "duration": 1,
    "start_time": "2023-07-24T10:47:12.107Z"
   },
   {
    "duration": 18,
    "start_time": "2023-07-24T10:47:12.110Z"
   },
   {
    "duration": 98,
    "start_time": "2023-07-24T10:51:06.147Z"
   },
   {
    "duration": 21,
    "start_time": "2023-07-24T10:51:06.247Z"
   },
   {
    "duration": 35,
    "start_time": "2023-07-24T10:51:06.270Z"
   },
   {
    "duration": 39,
    "start_time": "2023-07-24T10:51:06.308Z"
   },
   {
    "duration": 43,
    "start_time": "2023-07-24T10:51:06.349Z"
   },
   {
    "duration": 4,
    "start_time": "2023-07-24T10:51:06.393Z"
   },
   {
    "duration": 46,
    "start_time": "2023-07-24T10:51:06.399Z"
   },
   {
    "duration": 6,
    "start_time": "2023-07-24T10:51:06.446Z"
   },
   {
    "duration": 35,
    "start_time": "2023-07-24T10:51:06.453Z"
   },
   {
    "duration": 14,
    "start_time": "2023-07-24T10:51:06.491Z"
   },
   {
    "duration": 39,
    "start_time": "2023-07-24T10:51:06.514Z"
   },
   {
    "duration": 9,
    "start_time": "2023-07-24T10:51:06.555Z"
   },
   {
    "duration": 29,
    "start_time": "2023-07-24T10:51:06.566Z"
   },
   {
    "duration": 48,
    "start_time": "2023-07-24T10:51:06.597Z"
   },
   {
    "duration": 31,
    "start_time": "2023-07-24T10:51:06.647Z"
   },
   {
    "duration": 34,
    "start_time": "2023-07-24T10:51:06.680Z"
   },
   {
    "duration": 11,
    "start_time": "2023-07-24T10:51:06.715Z"
   },
   {
    "duration": 32,
    "start_time": "2023-07-24T10:51:06.728Z"
   },
   {
    "duration": 35,
    "start_time": "2023-07-24T10:51:06.761Z"
   },
   {
    "duration": 34,
    "start_time": "2023-07-24T10:51:06.797Z"
   },
   {
    "duration": 25,
    "start_time": "2023-07-24T10:51:06.832Z"
   },
   {
    "duration": 61,
    "start_time": "2023-07-24T10:51:06.858Z"
   },
   {
    "duration": 0,
    "start_time": "2023-07-24T10:51:06.922Z"
   },
   {
    "duration": 0,
    "start_time": "2023-07-24T10:51:06.923Z"
   },
   {
    "duration": 0,
    "start_time": "2023-07-24T10:51:06.924Z"
   },
   {
    "duration": 92,
    "start_time": "2023-07-24T10:51:22.655Z"
   },
   {
    "duration": 22,
    "start_time": "2023-07-24T10:51:22.749Z"
   },
   {
    "duration": 47,
    "start_time": "2023-07-24T10:51:22.772Z"
   },
   {
    "duration": 40,
    "start_time": "2023-07-24T10:51:22.821Z"
   },
   {
    "duration": 73,
    "start_time": "2023-07-24T10:51:22.863Z"
   },
   {
    "duration": 4,
    "start_time": "2023-07-24T10:51:22.938Z"
   },
   {
    "duration": 53,
    "start_time": "2023-07-24T10:51:22.944Z"
   },
   {
    "duration": 34,
    "start_time": "2023-07-24T10:51:23.005Z"
   },
   {
    "duration": 40,
    "start_time": "2023-07-24T10:51:23.041Z"
   },
   {
    "duration": 45,
    "start_time": "2023-07-24T10:51:23.084Z"
   },
   {
    "duration": 55,
    "start_time": "2023-07-24T10:51:23.130Z"
   },
   {
    "duration": 41,
    "start_time": "2023-07-24T10:51:23.187Z"
   },
   {
    "duration": 16,
    "start_time": "2023-07-24T10:51:23.231Z"
   },
   {
    "duration": 31,
    "start_time": "2023-07-24T10:51:23.248Z"
   },
   {
    "duration": 63,
    "start_time": "2023-07-24T10:51:23.281Z"
   },
   {
    "duration": 28,
    "start_time": "2023-07-24T10:51:23.346Z"
   },
   {
    "duration": 5,
    "start_time": "2023-07-24T10:51:23.376Z"
   },
   {
    "duration": 35,
    "start_time": "2023-07-24T10:51:23.383Z"
   },
   {
    "duration": 27,
    "start_time": "2023-07-24T10:51:23.420Z"
   },
   {
    "duration": 38,
    "start_time": "2023-07-24T10:51:23.449Z"
   },
   {
    "duration": 50,
    "start_time": "2023-07-24T10:51:23.489Z"
   },
   {
    "duration": 78,
    "start_time": "2023-07-24T10:51:23.541Z"
   },
   {
    "duration": 3,
    "start_time": "2023-07-24T10:51:23.621Z"
   },
   {
    "duration": 21,
    "start_time": "2023-07-24T10:51:23.626Z"
   },
   {
    "duration": 17,
    "start_time": "2023-07-24T10:51:23.649Z"
   },
   {
    "duration": 80,
    "start_time": "2023-07-24T10:52:11.044Z"
   },
   {
    "duration": 22,
    "start_time": "2023-07-24T10:52:11.126Z"
   },
   {
    "duration": 23,
    "start_time": "2023-07-24T10:52:11.150Z"
   },
   {
    "duration": 19,
    "start_time": "2023-07-24T10:52:11.176Z"
   },
   {
    "duration": 51,
    "start_time": "2023-07-24T10:52:11.209Z"
   },
   {
    "duration": 5,
    "start_time": "2023-07-24T10:52:11.262Z"
   },
   {
    "duration": 17,
    "start_time": "2023-07-24T10:52:11.269Z"
   },
   {
    "duration": 10,
    "start_time": "2023-07-24T10:52:11.303Z"
   },
   {
    "duration": 23,
    "start_time": "2023-07-24T10:52:11.314Z"
   },
   {
    "duration": 22,
    "start_time": "2023-07-24T10:52:11.340Z"
   },
   {
    "duration": 50,
    "start_time": "2023-07-24T10:52:11.363Z"
   },
   {
    "duration": 15,
    "start_time": "2023-07-24T10:52:11.416Z"
   },
   {
    "duration": 11,
    "start_time": "2023-07-24T10:52:11.433Z"
   },
   {
    "duration": 30,
    "start_time": "2023-07-24T10:52:11.445Z"
   },
   {
    "duration": 68,
    "start_time": "2023-07-24T10:52:11.477Z"
   },
   {
    "duration": 24,
    "start_time": "2023-07-24T10:52:11.547Z"
   },
   {
    "duration": 4,
    "start_time": "2023-07-24T10:52:11.574Z"
   },
   {
    "duration": 42,
    "start_time": "2023-07-24T10:52:11.580Z"
   },
   {
    "duration": 30,
    "start_time": "2023-07-24T10:52:11.624Z"
   },
   {
    "duration": 8,
    "start_time": "2023-07-24T10:52:11.656Z"
   },
   {
    "duration": 23,
    "start_time": "2023-07-24T10:52:11.667Z"
   },
   {
    "duration": 65,
    "start_time": "2023-07-24T10:52:11.692Z"
   },
   {
    "duration": 3,
    "start_time": "2023-07-24T10:52:11.759Z"
   },
   {
    "duration": 22,
    "start_time": "2023-07-24T10:52:11.764Z"
   },
   {
    "duration": 32,
    "start_time": "2023-07-24T10:52:11.787Z"
   },
   {
    "duration": 93,
    "start_time": "2023-07-24T10:52:43.649Z"
   },
   {
    "duration": 17,
    "start_time": "2023-07-24T10:52:43.744Z"
   },
   {
    "duration": 60,
    "start_time": "2023-07-24T10:52:43.764Z"
   },
   {
    "duration": 47,
    "start_time": "2023-07-24T10:52:43.827Z"
   },
   {
    "duration": 56,
    "start_time": "2023-07-24T10:52:43.876Z"
   },
   {
    "duration": 24,
    "start_time": "2023-07-24T10:52:43.935Z"
   },
   {
    "duration": 26,
    "start_time": "2023-07-24T10:52:43.961Z"
   },
   {
    "duration": 12,
    "start_time": "2023-07-24T10:52:43.990Z"
   },
   {
    "duration": 56,
    "start_time": "2023-07-24T10:52:44.003Z"
   },
   {
    "duration": 35,
    "start_time": "2023-07-24T10:52:44.062Z"
   },
   {
    "duration": 82,
    "start_time": "2023-07-24T10:52:44.098Z"
   },
   {
    "duration": 54,
    "start_time": "2023-07-24T10:52:44.182Z"
   },
   {
    "duration": 17,
    "start_time": "2023-07-24T10:52:44.238Z"
   },
   {
    "duration": 60,
    "start_time": "2023-07-24T10:52:44.257Z"
   },
   {
    "duration": 44,
    "start_time": "2023-07-24T10:52:44.320Z"
   },
   {
    "duration": 17,
    "start_time": "2023-07-24T10:52:44.366Z"
   },
   {
    "duration": 11,
    "start_time": "2023-07-24T10:52:44.385Z"
   },
   {
    "duration": 49,
    "start_time": "2023-07-24T10:52:44.398Z"
   },
   {
    "duration": 37,
    "start_time": "2023-07-24T10:52:44.449Z"
   },
   {
    "duration": 40,
    "start_time": "2023-07-24T10:52:44.488Z"
   },
   {
    "duration": 59,
    "start_time": "2023-07-24T10:52:44.530Z"
   },
   {
    "duration": 67,
    "start_time": "2023-07-24T10:52:44.591Z"
   },
   {
    "duration": 4,
    "start_time": "2023-07-24T10:52:44.660Z"
   },
   {
    "duration": 20,
    "start_time": "2023-07-24T10:52:44.666Z"
   },
   {
    "duration": 52,
    "start_time": "2023-07-24T10:52:44.688Z"
   },
   {
    "duration": 81,
    "start_time": "2023-07-24T10:54:42.215Z"
   },
   {
    "duration": 20,
    "start_time": "2023-07-24T10:54:42.298Z"
   },
   {
    "duration": 34,
    "start_time": "2023-07-24T10:54:42.320Z"
   },
   {
    "duration": 10,
    "start_time": "2023-07-24T10:54:42.356Z"
   },
   {
    "duration": 53,
    "start_time": "2023-07-24T10:54:42.367Z"
   },
   {
    "duration": 9,
    "start_time": "2023-07-24T10:54:42.422Z"
   },
   {
    "duration": 18,
    "start_time": "2023-07-24T10:54:42.432Z"
   },
   {
    "duration": 29,
    "start_time": "2023-07-24T10:54:42.452Z"
   },
   {
    "duration": 44,
    "start_time": "2023-07-24T10:54:42.483Z"
   },
   {
    "duration": 13,
    "start_time": "2023-07-24T10:54:42.531Z"
   },
   {
    "duration": 30,
    "start_time": "2023-07-24T10:54:42.545Z"
   },
   {
    "duration": 9,
    "start_time": "2023-07-24T10:54:42.576Z"
   },
   {
    "duration": 34,
    "start_time": "2023-07-24T10:54:42.586Z"
   },
   {
    "duration": 16,
    "start_time": "2023-07-24T10:54:42.622Z"
   },
   {
    "duration": 31,
    "start_time": "2023-07-24T10:54:42.640Z"
   },
   {
    "duration": 19,
    "start_time": "2023-07-24T10:54:42.673Z"
   },
   {
    "duration": 27,
    "start_time": "2023-07-24T10:54:42.694Z"
   },
   {
    "duration": 18,
    "start_time": "2023-07-24T10:54:42.723Z"
   },
   {
    "duration": 18,
    "start_time": "2023-07-24T10:54:42.743Z"
   },
   {
    "duration": 9,
    "start_time": "2023-07-24T10:54:42.763Z"
   },
   {
    "duration": 13,
    "start_time": "2023-07-24T10:54:42.773Z"
   },
   {
    "duration": 38,
    "start_time": "2023-07-24T10:54:42.787Z"
   },
   {
    "duration": 16,
    "start_time": "2023-07-24T10:54:42.826Z"
   },
   {
    "duration": 16,
    "start_time": "2023-07-24T10:54:42.844Z"
   },
   {
    "duration": 16,
    "start_time": "2023-07-24T10:54:42.862Z"
   },
   {
    "duration": 104,
    "start_time": "2023-07-24T10:55:14.130Z"
   },
   {
    "duration": 16,
    "start_time": "2023-07-24T10:55:14.236Z"
   },
   {
    "duration": 24,
    "start_time": "2023-07-24T10:55:14.253Z"
   },
   {
    "duration": 12,
    "start_time": "2023-07-24T10:55:14.278Z"
   },
   {
    "duration": 74,
    "start_time": "2023-07-24T10:55:14.292Z"
   },
   {
    "duration": 3,
    "start_time": "2023-07-24T10:55:14.368Z"
   },
   {
    "duration": 22,
    "start_time": "2023-07-24T10:55:14.372Z"
   },
   {
    "duration": 50,
    "start_time": "2023-07-24T10:55:14.395Z"
   },
   {
    "duration": 17,
    "start_time": "2023-07-24T10:55:14.446Z"
   },
   {
    "duration": 21,
    "start_time": "2023-07-24T10:55:14.465Z"
   },
   {
    "duration": 57,
    "start_time": "2023-07-24T10:55:14.487Z"
   },
   {
    "duration": 10,
    "start_time": "2023-07-24T10:55:14.546Z"
   },
   {
    "duration": 7,
    "start_time": "2023-07-24T10:55:14.558Z"
   },
   {
    "duration": 18,
    "start_time": "2023-07-24T10:55:14.568Z"
   },
   {
    "duration": 72,
    "start_time": "2023-07-24T10:55:14.587Z"
   },
   {
    "duration": 19,
    "start_time": "2023-07-24T10:55:14.660Z"
   },
   {
    "duration": 3,
    "start_time": "2023-07-24T10:55:14.681Z"
   },
   {
    "duration": 63,
    "start_time": "2023-07-24T10:55:14.687Z"
   },
   {
    "duration": 8,
    "start_time": "2023-07-24T10:55:14.752Z"
   },
   {
    "duration": 4,
    "start_time": "2023-07-24T10:55:14.764Z"
   },
   {
    "duration": 19,
    "start_time": "2023-07-24T10:55:14.769Z"
   },
   {
    "duration": 75,
    "start_time": "2023-07-24T10:55:14.790Z"
   },
   {
    "duration": 2,
    "start_time": "2023-07-24T10:55:14.867Z"
   },
   {
    "duration": 58,
    "start_time": "2023-07-24T10:55:14.871Z"
   },
   {
    "duration": 12,
    "start_time": "2023-07-24T10:55:14.931Z"
   },
   {
    "duration": 91,
    "start_time": "2023-07-24T10:56:07.338Z"
   },
   {
    "duration": 14,
    "start_time": "2023-07-24T10:56:07.434Z"
   },
   {
    "duration": 21,
    "start_time": "2023-07-24T10:56:07.449Z"
   },
   {
    "duration": 8,
    "start_time": "2023-07-24T10:56:07.471Z"
   },
   {
    "duration": 56,
    "start_time": "2023-07-24T10:56:07.482Z"
   },
   {
    "duration": 4,
    "start_time": "2023-07-24T10:56:07.540Z"
   },
   {
    "duration": 19,
    "start_time": "2023-07-24T10:56:07.547Z"
   },
   {
    "duration": 12,
    "start_time": "2023-07-24T10:56:07.568Z"
   },
   {
    "duration": 6,
    "start_time": "2023-07-24T10:56:07.582Z"
   },
   {
    "duration": 6,
    "start_time": "2023-07-24T10:56:07.589Z"
   },
   {
    "duration": 66,
    "start_time": "2023-07-24T10:56:07.596Z"
   },
   {
    "duration": 10,
    "start_time": "2023-07-24T10:56:07.663Z"
   },
   {
    "duration": 9,
    "start_time": "2023-07-24T10:56:07.674Z"
   },
   {
    "duration": 12,
    "start_time": "2023-07-24T10:56:07.685Z"
   },
   {
    "duration": 59,
    "start_time": "2023-07-24T10:56:07.699Z"
   },
   {
    "duration": 17,
    "start_time": "2023-07-24T10:56:07.759Z"
   },
   {
    "duration": 3,
    "start_time": "2023-07-24T10:56:07.778Z"
   },
   {
    "duration": 10,
    "start_time": "2023-07-24T10:56:07.783Z"
   },
   {
    "duration": 20,
    "start_time": "2023-07-24T10:56:07.794Z"
   },
   {
    "duration": 32,
    "start_time": "2023-07-24T10:56:07.815Z"
   },
   {
    "duration": 24,
    "start_time": "2023-07-24T10:56:07.848Z"
   },
   {
    "duration": 48,
    "start_time": "2023-07-24T10:56:07.873Z"
   },
   {
    "duration": 24,
    "start_time": "2023-07-24T10:56:07.922Z"
   },
   {
    "duration": 5,
    "start_time": "2023-07-24T10:56:07.947Z"
   },
   {
    "duration": 9,
    "start_time": "2023-07-24T10:56:07.953Z"
   },
   {
    "duration": 82,
    "start_time": "2023-07-24T11:02:55.443Z"
   },
   {
    "duration": 22,
    "start_time": "2023-07-24T11:02:55.528Z"
   },
   {
    "duration": 31,
    "start_time": "2023-07-24T11:02:55.552Z"
   },
   {
    "duration": 8,
    "start_time": "2023-07-24T11:02:55.586Z"
   },
   {
    "duration": 59,
    "start_time": "2023-07-24T11:02:55.596Z"
   },
   {
    "duration": 3,
    "start_time": "2023-07-24T11:02:55.657Z"
   },
   {
    "duration": 24,
    "start_time": "2023-07-24T11:02:55.662Z"
   },
   {
    "duration": 4,
    "start_time": "2023-07-24T11:02:55.688Z"
   },
   {
    "duration": 38,
    "start_time": "2023-07-24T11:02:55.693Z"
   },
   {
    "duration": 11,
    "start_time": "2023-07-24T11:02:55.734Z"
   },
   {
    "duration": 75,
    "start_time": "2023-07-24T11:02:55.747Z"
   },
   {
    "duration": 16,
    "start_time": "2023-07-24T11:02:55.824Z"
   },
   {
    "duration": 16,
    "start_time": "2023-07-24T11:02:55.842Z"
   },
   {
    "duration": 29,
    "start_time": "2023-07-24T11:02:55.860Z"
   },
   {
    "duration": 82,
    "start_time": "2023-07-24T11:02:55.891Z"
   },
   {
    "duration": 34,
    "start_time": "2023-07-24T11:02:55.975Z"
   },
   {
    "duration": 22,
    "start_time": "2023-07-24T11:02:56.010Z"
   },
   {
    "duration": 41,
    "start_time": "2023-07-24T11:02:56.034Z"
   },
   {
    "duration": 48,
    "start_time": "2023-07-24T11:02:56.077Z"
   },
   {
    "duration": 26,
    "start_time": "2023-07-24T11:02:56.127Z"
   },
   {
    "duration": 21,
    "start_time": "2023-07-24T11:02:56.155Z"
   },
   {
    "duration": 34,
    "start_time": "2023-07-24T11:02:56.177Z"
   },
   {
    "duration": 27,
    "start_time": "2023-07-24T11:02:56.218Z"
   },
   {
    "duration": 29,
    "start_time": "2023-07-24T11:02:56.247Z"
   },
   {
    "duration": 17,
    "start_time": "2023-07-24T11:02:56.279Z"
   },
   {
    "duration": 69,
    "start_time": "2023-07-24T11:06:50.232Z"
   },
   {
    "duration": 20,
    "start_time": "2023-07-24T11:06:50.303Z"
   },
   {
    "duration": 43,
    "start_time": "2023-07-24T11:06:50.324Z"
   },
   {
    "duration": 11,
    "start_time": "2023-07-24T11:06:50.368Z"
   },
   {
    "duration": 56,
    "start_time": "2023-07-24T11:06:50.382Z"
   },
   {
    "duration": 7,
    "start_time": "2023-07-24T11:06:50.440Z"
   },
   {
    "duration": 29,
    "start_time": "2023-07-24T11:06:50.448Z"
   },
   {
    "duration": 5,
    "start_time": "2023-07-24T11:06:50.478Z"
   },
   {
    "duration": 21,
    "start_time": "2023-07-24T11:06:50.485Z"
   },
   {
    "duration": 32,
    "start_time": "2023-07-24T11:06:50.508Z"
   },
   {
    "duration": 44,
    "start_time": "2023-07-24T11:06:50.542Z"
   },
   {
    "duration": 8,
    "start_time": "2023-07-24T11:06:50.588Z"
   },
   {
    "duration": 43,
    "start_time": "2023-07-24T11:06:50.598Z"
   },
   {
    "duration": 24,
    "start_time": "2023-07-24T11:06:50.643Z"
   },
   {
    "duration": 30,
    "start_time": "2023-07-24T11:06:50.669Z"
   },
   {
    "duration": 25,
    "start_time": "2023-07-24T11:06:50.709Z"
   },
   {
    "duration": 27,
    "start_time": "2023-07-24T11:06:50.735Z"
   },
   {
    "duration": 14,
    "start_time": "2023-07-24T11:06:50.764Z"
   },
   {
    "duration": 10,
    "start_time": "2023-07-24T11:06:50.780Z"
   },
   {
    "duration": 43,
    "start_time": "2023-07-24T11:06:50.791Z"
   },
   {
    "duration": 9,
    "start_time": "2023-07-24T11:06:50.835Z"
   },
   {
    "duration": 25,
    "start_time": "2023-07-24T11:06:50.845Z"
   },
   {
    "duration": 14,
    "start_time": "2023-07-24T11:06:50.871Z"
   },
   {
    "duration": 60,
    "start_time": "2023-07-24T11:06:50.886Z"
   },
   {
    "duration": 22,
    "start_time": "2023-07-24T11:06:50.947Z"
   },
   {
    "duration": 81,
    "start_time": "2023-07-24T11:07:41.894Z"
   },
   {
    "duration": 15,
    "start_time": "2023-07-24T11:07:41.976Z"
   },
   {
    "duration": 30,
    "start_time": "2023-07-24T11:07:41.993Z"
   },
   {
    "duration": 24,
    "start_time": "2023-07-24T11:07:42.026Z"
   },
   {
    "duration": 55,
    "start_time": "2023-07-24T11:07:42.052Z"
   },
   {
    "duration": 4,
    "start_time": "2023-07-24T11:07:42.109Z"
   },
   {
    "duration": 23,
    "start_time": "2023-07-24T11:07:42.114Z"
   },
   {
    "duration": 4,
    "start_time": "2023-07-24T11:07:42.138Z"
   },
   {
    "duration": 23,
    "start_time": "2023-07-24T11:07:42.144Z"
   },
   {
    "duration": 9,
    "start_time": "2023-07-24T11:07:42.169Z"
   },
   {
    "duration": 67,
    "start_time": "2023-07-24T11:07:42.180Z"
   },
   {
    "duration": 15,
    "start_time": "2023-07-24T11:07:42.249Z"
   },
   {
    "duration": 27,
    "start_time": "2023-07-24T11:07:42.265Z"
   },
   {
    "duration": 39,
    "start_time": "2023-07-24T11:07:42.296Z"
   },
   {
    "duration": 24,
    "start_time": "2023-07-24T11:07:42.337Z"
   },
   {
    "duration": 20,
    "start_time": "2023-07-24T11:07:42.363Z"
   },
   {
    "duration": 5,
    "start_time": "2023-07-24T11:07:42.385Z"
   },
   {
    "duration": 48,
    "start_time": "2023-07-24T11:07:42.392Z"
   },
   {
    "duration": 8,
    "start_time": "2023-07-24T11:07:42.442Z"
   },
   {
    "duration": 43,
    "start_time": "2023-07-24T11:07:42.452Z"
   },
   {
    "duration": 55,
    "start_time": "2023-07-24T11:07:42.498Z"
   },
   {
    "duration": 48,
    "start_time": "2023-07-24T11:07:42.555Z"
   },
   {
    "duration": 12,
    "start_time": "2023-07-24T11:07:42.606Z"
   },
   {
    "duration": 26,
    "start_time": "2023-07-24T11:07:42.620Z"
   },
   {
    "duration": 17,
    "start_time": "2023-07-24T11:07:42.649Z"
   },
   {
    "duration": 70,
    "start_time": "2023-07-24T11:13:23.423Z"
   },
   {
    "duration": 19,
    "start_time": "2023-07-24T11:13:23.495Z"
   },
   {
    "duration": 39,
    "start_time": "2023-07-24T11:13:23.515Z"
   },
   {
    "duration": 16,
    "start_time": "2023-07-24T11:13:23.556Z"
   },
   {
    "duration": 94,
    "start_time": "2023-07-24T11:13:23.574Z"
   },
   {
    "duration": 3,
    "start_time": "2023-07-24T11:13:23.670Z"
   },
   {
    "duration": 12,
    "start_time": "2023-07-24T11:13:23.674Z"
   },
   {
    "duration": 4,
    "start_time": "2023-07-24T11:13:23.688Z"
   },
   {
    "duration": 41,
    "start_time": "2023-07-24T11:13:23.693Z"
   },
   {
    "duration": 5,
    "start_time": "2023-07-24T11:13:23.737Z"
   },
   {
    "duration": 37,
    "start_time": "2023-07-24T11:13:23.743Z"
   },
   {
    "duration": 8,
    "start_time": "2023-07-24T11:13:23.782Z"
   },
   {
    "duration": 7,
    "start_time": "2023-07-24T11:13:23.791Z"
   },
   {
    "duration": 40,
    "start_time": "2023-07-24T11:13:23.799Z"
   },
   {
    "duration": 20,
    "start_time": "2023-07-24T11:13:23.841Z"
   },
   {
    "duration": 18,
    "start_time": "2023-07-24T11:13:23.862Z"
   },
   {
    "duration": 3,
    "start_time": "2023-07-24T11:13:23.882Z"
   },
   {
    "duration": 18,
    "start_time": "2023-07-24T11:13:23.886Z"
   },
   {
    "duration": 33,
    "start_time": "2023-07-24T11:13:23.905Z"
   },
   {
    "duration": 5,
    "start_time": "2023-07-24T11:13:23.940Z"
   },
   {
    "duration": 13,
    "start_time": "2023-07-24T11:13:23.947Z"
   },
   {
    "duration": 27,
    "start_time": "2023-07-24T11:13:23.962Z"
   },
   {
    "duration": 2,
    "start_time": "2023-07-24T11:13:23.991Z"
   },
   {
    "duration": 29,
    "start_time": "2023-07-24T11:13:23.994Z"
   },
   {
    "duration": 16,
    "start_time": "2023-07-24T11:13:24.025Z"
   },
   {
    "duration": 72,
    "start_time": "2023-07-24T11:13:51.634Z"
   },
   {
    "duration": 20,
    "start_time": "2023-07-24T11:13:51.708Z"
   },
   {
    "duration": 37,
    "start_time": "2023-07-24T11:13:51.730Z"
   },
   {
    "duration": 8,
    "start_time": "2023-07-24T11:13:51.769Z"
   },
   {
    "duration": 57,
    "start_time": "2023-07-24T11:13:51.779Z"
   },
   {
    "duration": 4,
    "start_time": "2023-07-24T11:13:51.837Z"
   },
   {
    "duration": 25,
    "start_time": "2023-07-24T11:13:51.842Z"
   },
   {
    "duration": 15,
    "start_time": "2023-07-24T11:13:51.868Z"
   },
   {
    "duration": 39,
    "start_time": "2023-07-24T11:13:51.885Z"
   },
   {
    "duration": 22,
    "start_time": "2023-07-24T11:13:51.926Z"
   },
   {
    "duration": 46,
    "start_time": "2023-07-24T11:13:51.949Z"
   },
   {
    "duration": 15,
    "start_time": "2023-07-24T11:13:51.996Z"
   },
   {
    "duration": 31,
    "start_time": "2023-07-24T11:13:52.012Z"
   },
   {
    "duration": 24,
    "start_time": "2023-07-24T11:13:52.044Z"
   },
   {
    "duration": 41,
    "start_time": "2023-07-24T11:13:52.070Z"
   },
   {
    "duration": 38,
    "start_time": "2023-07-24T11:13:52.112Z"
   },
   {
    "duration": 11,
    "start_time": "2023-07-24T11:13:52.152Z"
   },
   {
    "duration": 26,
    "start_time": "2023-07-24T11:13:52.164Z"
   },
   {
    "duration": 11,
    "start_time": "2023-07-24T11:13:52.191Z"
   },
   {
    "duration": 31,
    "start_time": "2023-07-24T11:13:52.203Z"
   },
   {
    "duration": 17,
    "start_time": "2023-07-24T11:13:52.236Z"
   },
   {
    "duration": 27,
    "start_time": "2023-07-24T11:13:52.254Z"
   },
   {
    "duration": 2,
    "start_time": "2023-07-24T11:13:52.283Z"
   },
   {
    "duration": 44,
    "start_time": "2023-07-24T11:13:52.286Z"
   },
   {
    "duration": 8,
    "start_time": "2023-07-24T11:13:52.332Z"
   },
   {
    "duration": 74,
    "start_time": "2023-07-24T11:42:28.246Z"
   },
   {
    "duration": 24,
    "start_time": "2023-07-24T11:42:28.322Z"
   },
   {
    "duration": 37,
    "start_time": "2023-07-24T11:42:28.348Z"
   },
   {
    "duration": 38,
    "start_time": "2023-07-24T11:42:28.387Z"
   },
   {
    "duration": 71,
    "start_time": "2023-07-24T11:42:28.427Z"
   },
   {
    "duration": 31,
    "start_time": "2023-07-24T11:42:28.504Z"
   },
   {
    "duration": 51,
    "start_time": "2023-07-24T11:42:28.536Z"
   },
   {
    "duration": 29,
    "start_time": "2023-07-24T11:42:28.588Z"
   },
   {
    "duration": 48,
    "start_time": "2023-07-24T11:42:28.619Z"
   },
   {
    "duration": 71,
    "start_time": "2023-07-24T11:42:28.672Z"
   },
   {
    "duration": 127,
    "start_time": "2023-07-24T11:42:28.745Z"
   },
   {
    "duration": 9,
    "start_time": "2023-07-24T11:42:28.873Z"
   },
   {
    "duration": 71,
    "start_time": "2023-07-24T11:42:28.883Z"
   },
   {
    "duration": 15,
    "start_time": "2023-07-24T11:42:28.956Z"
   },
   {
    "duration": 32,
    "start_time": "2023-07-24T11:42:28.973Z"
   },
   {
    "duration": 25,
    "start_time": "2023-07-24T11:42:29.007Z"
   },
   {
    "duration": 10,
    "start_time": "2023-07-24T11:42:29.034Z"
   },
   {
    "duration": 15,
    "start_time": "2023-07-24T11:42:29.046Z"
   },
   {
    "duration": 32,
    "start_time": "2023-07-24T11:42:29.062Z"
   },
   {
    "duration": 27,
    "start_time": "2023-07-24T11:42:29.096Z"
   },
   {
    "duration": 21,
    "start_time": "2023-07-24T11:42:29.125Z"
   },
   {
    "duration": 37,
    "start_time": "2023-07-24T11:42:29.148Z"
   },
   {
    "duration": 22,
    "start_time": "2023-07-24T11:42:29.187Z"
   },
   {
    "duration": 18,
    "start_time": "2023-07-24T11:42:29.214Z"
   },
   {
    "duration": 23,
    "start_time": "2023-07-24T11:42:29.235Z"
   },
   {
    "duration": 104,
    "start_time": "2023-07-24T12:23:28.558Z"
   },
   {
    "duration": 14,
    "start_time": "2023-07-24T12:23:28.664Z"
   },
   {
    "duration": 18,
    "start_time": "2023-07-24T12:23:28.680Z"
   },
   {
    "duration": 68,
    "start_time": "2023-07-24T12:23:28.706Z"
   },
   {
    "duration": 44,
    "start_time": "2023-07-24T12:23:28.775Z"
   },
   {
    "duration": 3,
    "start_time": "2023-07-24T12:23:28.821Z"
   },
   {
    "duration": 42,
    "start_time": "2023-07-24T12:23:28.826Z"
   },
   {
    "duration": 21,
    "start_time": "2023-07-24T12:23:28.870Z"
   },
   {
    "duration": 55,
    "start_time": "2023-07-24T12:23:28.892Z"
   },
   {
    "duration": 24,
    "start_time": "2023-07-24T12:23:28.951Z"
   },
   {
    "duration": 84,
    "start_time": "2023-07-24T12:23:28.977Z"
   },
   {
    "duration": 10,
    "start_time": "2023-07-24T12:23:29.063Z"
   },
   {
    "duration": 12,
    "start_time": "2023-07-24T12:23:29.075Z"
   },
   {
    "duration": 21,
    "start_time": "2023-07-24T12:23:29.089Z"
   },
   {
    "duration": 62,
    "start_time": "2023-07-24T12:23:29.112Z"
   },
   {
    "duration": 18,
    "start_time": "2023-07-24T12:23:29.176Z"
   },
   {
    "duration": 6,
    "start_time": "2023-07-24T12:23:29.196Z"
   },
   {
    "duration": 57,
    "start_time": "2023-07-24T12:23:29.203Z"
   },
   {
    "duration": 8,
    "start_time": "2023-07-24T12:23:29.262Z"
   },
   {
    "duration": 7,
    "start_time": "2023-07-24T12:23:29.272Z"
   },
   {
    "duration": 30,
    "start_time": "2023-07-24T12:23:29.280Z"
   },
   {
    "duration": 72,
    "start_time": "2023-07-24T12:23:29.311Z"
   },
   {
    "duration": 37,
    "start_time": "2023-07-24T12:23:29.384Z"
   },
   {
    "duration": 38,
    "start_time": "2023-07-24T12:23:29.423Z"
   },
   {
    "duration": 5,
    "start_time": "2023-07-24T12:23:29.463Z"
   },
   {
    "duration": 107,
    "start_time": "2023-07-24T12:27:03.534Z"
   },
   {
    "duration": 14,
    "start_time": "2023-07-24T12:27:03.643Z"
   },
   {
    "duration": 31,
    "start_time": "2023-07-24T12:27:03.658Z"
   },
   {
    "duration": 18,
    "start_time": "2023-07-24T12:27:03.692Z"
   },
   {
    "duration": 64,
    "start_time": "2023-07-24T12:27:03.711Z"
   },
   {
    "duration": 5,
    "start_time": "2023-07-24T12:27:03.777Z"
   },
   {
    "duration": 67,
    "start_time": "2023-07-24T12:27:03.784Z"
   },
   {
    "duration": 23,
    "start_time": "2023-07-24T12:27:03.853Z"
   },
   {
    "duration": 17,
    "start_time": "2023-07-24T12:27:03.877Z"
   },
   {
    "duration": 55,
    "start_time": "2023-07-24T12:27:03.897Z"
   },
   {
    "duration": 36,
    "start_time": "2023-07-24T12:27:03.953Z"
   },
   {
    "duration": 10,
    "start_time": "2023-07-24T12:27:03.990Z"
   },
   {
    "duration": 47,
    "start_time": "2023-07-24T12:27:04.005Z"
   },
   {
    "duration": 20,
    "start_time": "2023-07-24T12:27:04.054Z"
   },
   {
    "duration": 19,
    "start_time": "2023-07-24T12:27:04.076Z"
   },
   {
    "duration": 30,
    "start_time": "2023-07-24T12:27:04.097Z"
   },
   {
    "duration": 20,
    "start_time": "2023-07-24T12:27:04.128Z"
   },
   {
    "duration": 23,
    "start_time": "2023-07-24T12:27:04.149Z"
   },
   {
    "duration": 20,
    "start_time": "2023-07-24T12:27:04.174Z"
   },
   {
    "duration": 48,
    "start_time": "2023-07-24T12:27:04.196Z"
   },
   {
    "duration": 17,
    "start_time": "2023-07-24T12:27:04.246Z"
   },
   {
    "duration": 29,
    "start_time": "2023-07-24T12:27:04.264Z"
   },
   {
    "duration": 55,
    "start_time": "2023-07-24T12:27:04.295Z"
   },
   {
    "duration": 65,
    "start_time": "2023-07-24T12:27:04.351Z"
   },
   {
    "duration": 2,
    "start_time": "2023-07-24T12:27:04.418Z"
   },
   {
    "duration": 90,
    "start_time": "2023-07-24T12:28:12.684Z"
   },
   {
    "duration": 18,
    "start_time": "2023-07-24T12:28:12.777Z"
   },
   {
    "duration": 53,
    "start_time": "2023-07-24T12:28:12.796Z"
   },
   {
    "duration": 16,
    "start_time": "2023-07-24T12:28:12.851Z"
   },
   {
    "duration": 36,
    "start_time": "2023-07-24T12:28:12.869Z"
   },
   {
    "duration": 4,
    "start_time": "2023-07-24T12:28:12.907Z"
   },
   {
    "duration": 39,
    "start_time": "2023-07-24T12:28:12.913Z"
   },
   {
    "duration": 5,
    "start_time": "2023-07-24T12:28:12.954Z"
   },
   {
    "duration": 20,
    "start_time": "2023-07-24T12:28:12.960Z"
   },
   {
    "duration": 6,
    "start_time": "2023-07-24T12:28:12.982Z"
   },
   {
    "duration": 75,
    "start_time": "2023-07-24T12:28:12.990Z"
   },
   {
    "duration": 9,
    "start_time": "2023-07-24T12:28:13.067Z"
   },
   {
    "duration": 4,
    "start_time": "2023-07-24T12:28:13.078Z"
   },
   {
    "duration": 21,
    "start_time": "2023-07-24T12:28:13.083Z"
   },
   {
    "duration": 52,
    "start_time": "2023-07-24T12:28:13.105Z"
   },
   {
    "duration": 17,
    "start_time": "2023-07-24T12:28:13.158Z"
   },
   {
    "duration": 4,
    "start_time": "2023-07-24T12:28:13.176Z"
   },
   {
    "duration": 22,
    "start_time": "2023-07-24T12:28:13.182Z"
   },
   {
    "duration": 8,
    "start_time": "2023-07-24T12:28:13.205Z"
   },
   {
    "duration": 33,
    "start_time": "2023-07-24T12:28:13.214Z"
   },
   {
    "duration": 25,
    "start_time": "2023-07-24T12:28:13.249Z"
   },
   {
    "duration": 49,
    "start_time": "2023-07-24T12:28:13.276Z"
   },
   {
    "duration": 28,
    "start_time": "2023-07-24T12:28:13.327Z"
   },
   {
    "duration": 41,
    "start_time": "2023-07-24T12:28:13.357Z"
   },
   {
    "duration": 34,
    "start_time": "2023-07-24T12:28:13.405Z"
   },
   {
    "duration": 94,
    "start_time": "2023-07-24T12:30:51.274Z"
   },
   {
    "duration": 13,
    "start_time": "2023-07-24T12:30:51.370Z"
   },
   {
    "duration": 18,
    "start_time": "2023-07-24T12:30:51.385Z"
   },
   {
    "duration": 41,
    "start_time": "2023-07-24T12:30:51.410Z"
   },
   {
    "duration": 43,
    "start_time": "2023-07-24T12:30:51.453Z"
   },
   {
    "duration": 29,
    "start_time": "2023-07-24T12:30:51.498Z"
   },
   {
    "duration": 45,
    "start_time": "2023-07-24T12:30:51.529Z"
   },
   {
    "duration": 7,
    "start_time": "2023-07-24T12:30:51.575Z"
   },
   {
    "duration": 15,
    "start_time": "2023-07-24T12:30:51.583Z"
   },
   {
    "duration": 45,
    "start_time": "2023-07-24T12:30:51.602Z"
   },
   {
    "duration": 65,
    "start_time": "2023-07-24T12:30:51.649Z"
   },
   {
    "duration": 19,
    "start_time": "2023-07-24T12:30:51.716Z"
   },
   {
    "duration": 21,
    "start_time": "2023-07-24T12:30:51.737Z"
   },
   {
    "duration": 31,
    "start_time": "2023-07-24T12:30:51.759Z"
   },
   {
    "duration": 61,
    "start_time": "2023-07-24T12:30:51.792Z"
   },
   {
    "duration": 22,
    "start_time": "2023-07-24T12:30:51.854Z"
   },
   {
    "duration": 7,
    "start_time": "2023-07-24T12:30:51.877Z"
   },
   {
    "duration": 69,
    "start_time": "2023-07-24T12:30:51.885Z"
   },
   {
    "duration": 19,
    "start_time": "2023-07-24T12:30:51.955Z"
   },
   {
    "duration": 17,
    "start_time": "2023-07-24T12:30:51.975Z"
   },
   {
    "duration": 71,
    "start_time": "2023-07-24T12:30:51.993Z"
   },
   {
    "duration": 56,
    "start_time": "2023-07-24T12:30:52.066Z"
   },
   {
    "duration": 49,
    "start_time": "2023-07-24T12:30:52.123Z"
   },
   {
    "duration": 91,
    "start_time": "2023-07-24T12:30:52.173Z"
   },
   {
    "duration": 30,
    "start_time": "2023-07-24T12:30:52.266Z"
   },
   {
    "duration": 88,
    "start_time": "2023-07-24T12:35:12.455Z"
   },
   {
    "duration": 14,
    "start_time": "2023-07-24T12:35:12.545Z"
   },
   {
    "duration": 19,
    "start_time": "2023-07-24T12:35:12.561Z"
   },
   {
    "duration": 24,
    "start_time": "2023-07-24T12:35:12.582Z"
   },
   {
    "duration": 68,
    "start_time": "2023-07-24T12:35:12.607Z"
   },
   {
    "duration": 4,
    "start_time": "2023-07-24T12:35:12.676Z"
   },
   {
    "duration": 10,
    "start_time": "2023-07-24T12:35:12.681Z"
   },
   {
    "duration": 50,
    "start_time": "2023-07-24T12:35:12.693Z"
   },
   {
    "duration": 10,
    "start_time": "2023-07-24T12:35:12.744Z"
   },
   {
    "duration": 9,
    "start_time": "2023-07-24T12:35:12.757Z"
   },
   {
    "duration": 33,
    "start_time": "2023-07-24T12:35:12.768Z"
   },
   {
    "duration": 12,
    "start_time": "2023-07-24T12:35:12.803Z"
   },
   {
    "duration": 51,
    "start_time": "2023-07-24T12:35:12.816Z"
   },
   {
    "duration": 37,
    "start_time": "2023-07-24T12:35:12.868Z"
   },
   {
    "duration": 58,
    "start_time": "2023-07-24T12:35:12.907Z"
   },
   {
    "duration": 17,
    "start_time": "2023-07-24T12:35:12.967Z"
   },
   {
    "duration": 64,
    "start_time": "2023-07-24T12:35:12.986Z"
   },
   {
    "duration": 11,
    "start_time": "2023-07-24T12:35:13.051Z"
   },
   {
    "duration": 6,
    "start_time": "2023-07-24T12:35:13.063Z"
   },
   {
    "duration": 10,
    "start_time": "2023-07-24T12:35:13.070Z"
   },
   {
    "duration": 11,
    "start_time": "2023-07-24T12:35:13.081Z"
   },
   {
    "duration": 46,
    "start_time": "2023-07-24T12:35:13.094Z"
   },
   {
    "duration": 36,
    "start_time": "2023-07-24T12:35:13.142Z"
   },
   {
    "duration": 24,
    "start_time": "2023-07-24T12:35:13.180Z"
   },
   {
    "duration": 29,
    "start_time": "2023-07-24T12:35:13.205Z"
   },
   {
    "duration": 460,
    "start_time": "2023-07-24T15:58:24.736Z"
   },
   {
    "duration": 19,
    "start_time": "2023-07-24T15:58:25.199Z"
   },
   {
    "duration": 16,
    "start_time": "2023-07-24T15:58:25.220Z"
   },
   {
    "duration": 17,
    "start_time": "2023-07-24T15:58:25.237Z"
   },
   {
    "duration": 43,
    "start_time": "2023-07-24T15:58:25.256Z"
   },
   {
    "duration": 3,
    "start_time": "2023-07-24T15:58:25.300Z"
   },
   {
    "duration": 25,
    "start_time": "2023-07-24T15:58:25.305Z"
   },
   {
    "duration": 16,
    "start_time": "2023-07-24T15:58:25.331Z"
   },
   {
    "duration": 22,
    "start_time": "2023-07-24T15:58:25.349Z"
   },
   {
    "duration": 26,
    "start_time": "2023-07-24T15:58:25.376Z"
   },
   {
    "duration": 41,
    "start_time": "2023-07-24T15:58:25.404Z"
   },
   {
    "duration": 10,
    "start_time": "2023-07-24T15:58:25.446Z"
   },
   {
    "duration": 14,
    "start_time": "2023-07-24T15:58:25.458Z"
   },
   {
    "duration": 33,
    "start_time": "2023-07-24T15:58:25.475Z"
   },
   {
    "duration": 22,
    "start_time": "2023-07-24T15:58:25.510Z"
   },
   {
    "duration": 15,
    "start_time": "2023-07-24T15:58:25.534Z"
   },
   {
    "duration": 3,
    "start_time": "2023-07-24T15:58:25.550Z"
   },
   {
    "duration": 18,
    "start_time": "2023-07-24T15:58:25.555Z"
   },
   {
    "duration": 6,
    "start_time": "2023-07-24T15:58:25.577Z"
   },
   {
    "duration": 3,
    "start_time": "2023-07-24T15:58:25.585Z"
   },
   {
    "duration": 31,
    "start_time": "2023-07-24T15:58:25.590Z"
   },
   {
    "duration": 30,
    "start_time": "2023-07-24T15:58:25.622Z"
   },
   {
    "duration": 28,
    "start_time": "2023-07-24T15:58:25.654Z"
   },
   {
    "duration": 16,
    "start_time": "2023-07-24T15:58:25.685Z"
   },
   {
    "duration": 31,
    "start_time": "2023-07-24T15:58:25.703Z"
   },
   {
    "duration": 72,
    "start_time": "2023-07-24T16:57:00.936Z"
   },
   {
    "duration": 15,
    "start_time": "2023-07-24T16:57:01.010Z"
   },
   {
    "duration": 73,
    "start_time": "2023-07-24T16:57:01.027Z"
   },
   {
    "duration": 45,
    "start_time": "2023-07-24T16:57:01.102Z"
   },
   {
    "duration": 65,
    "start_time": "2023-07-24T16:57:01.148Z"
   },
   {
    "duration": 12,
    "start_time": "2023-07-24T16:57:01.214Z"
   },
   {
    "duration": 60,
    "start_time": "2023-07-24T16:57:01.228Z"
   },
   {
    "duration": 21,
    "start_time": "2023-07-24T16:57:01.289Z"
   },
   {
    "duration": 58,
    "start_time": "2023-07-24T16:57:01.311Z"
   },
   {
    "duration": 35,
    "start_time": "2023-07-24T16:57:01.371Z"
   },
   {
    "duration": 69,
    "start_time": "2023-07-24T16:57:01.408Z"
   },
   {
    "duration": 68,
    "start_time": "2023-07-24T16:57:01.478Z"
   },
   {
    "duration": 44,
    "start_time": "2023-07-24T16:57:01.548Z"
   },
   {
    "duration": 90,
    "start_time": "2023-07-24T16:57:01.594Z"
   },
   {
    "duration": 91,
    "start_time": "2023-07-24T16:57:01.685Z"
   },
   {
    "duration": 34,
    "start_time": "2023-07-24T16:57:01.778Z"
   },
   {
    "duration": 45,
    "start_time": "2023-07-24T16:57:01.813Z"
   },
   {
    "duration": 24,
    "start_time": "2023-07-24T16:57:01.860Z"
   },
   {
    "duration": 57,
    "start_time": "2023-07-24T16:57:01.886Z"
   },
   {
    "duration": 34,
    "start_time": "2023-07-24T16:57:01.945Z"
   },
   {
    "duration": 67,
    "start_time": "2023-07-24T16:57:01.981Z"
   },
   {
    "duration": 62,
    "start_time": "2023-07-24T16:57:02.050Z"
   },
   {
    "duration": 59,
    "start_time": "2023-07-24T16:57:02.113Z"
   },
   {
    "duration": 39,
    "start_time": "2023-07-24T16:57:02.174Z"
   },
   {
    "duration": 56,
    "start_time": "2023-07-24T16:57:02.215Z"
   },
   {
    "duration": 492,
    "start_time": "2023-07-25T14:53:40.170Z"
   },
   {
    "duration": 23,
    "start_time": "2023-07-25T14:53:40.664Z"
   },
   {
    "duration": 29,
    "start_time": "2023-07-25T14:53:40.690Z"
   },
   {
    "duration": 10,
    "start_time": "2023-07-25T14:53:40.721Z"
   },
   {
    "duration": 59,
    "start_time": "2023-07-25T14:53:40.733Z"
   },
   {
    "duration": 4,
    "start_time": "2023-07-25T14:53:40.794Z"
   },
   {
    "duration": 11,
    "start_time": "2023-07-25T14:53:40.799Z"
   },
   {
    "duration": 5,
    "start_time": "2023-07-25T14:53:40.811Z"
   },
   {
    "duration": 11,
    "start_time": "2023-07-25T14:53:40.817Z"
   },
   {
    "duration": 7,
    "start_time": "2023-07-25T14:53:40.858Z"
   },
   {
    "duration": 35,
    "start_time": "2023-07-25T14:53:40.866Z"
   },
   {
    "duration": 9,
    "start_time": "2023-07-25T14:53:40.903Z"
   },
   {
    "duration": 20,
    "start_time": "2023-07-25T14:53:40.913Z"
   },
   {
    "duration": 69,
    "start_time": "2023-07-25T14:53:40.935Z"
   },
   {
    "duration": 21,
    "start_time": "2023-07-25T14:53:41.005Z"
   },
   {
    "duration": 18,
    "start_time": "2023-07-25T14:53:41.028Z"
   },
   {
    "duration": 4,
    "start_time": "2023-07-25T14:53:41.047Z"
   },
   {
    "duration": 25,
    "start_time": "2023-07-25T14:53:41.053Z"
   },
   {
    "duration": 22,
    "start_time": "2023-07-25T14:53:41.080Z"
   },
   {
    "duration": 13,
    "start_time": "2023-07-25T14:53:41.104Z"
   },
   {
    "duration": 17,
    "start_time": "2023-07-25T14:53:41.119Z"
   },
   {
    "duration": 31,
    "start_time": "2023-07-25T14:53:41.138Z"
   },
   {
    "duration": 35,
    "start_time": "2023-07-25T14:53:41.170Z"
   },
   {
    "duration": 20,
    "start_time": "2023-07-25T14:53:41.207Z"
   },
   {
    "duration": 33,
    "start_time": "2023-07-25T14:53:41.229Z"
   },
   {
    "duration": 795,
    "start_time": "2023-07-26T10:13:52.742Z"
   },
   {
    "duration": 32,
    "start_time": "2023-07-26T10:13:53.539Z"
   },
   {
    "duration": 27,
    "start_time": "2023-07-26T10:13:53.572Z"
   },
   {
    "duration": 11,
    "start_time": "2023-07-26T10:13:53.601Z"
   },
   {
    "duration": 52,
    "start_time": "2023-07-26T10:13:53.615Z"
   },
   {
    "duration": 4,
    "start_time": "2023-07-26T10:13:53.669Z"
   },
   {
    "duration": 19,
    "start_time": "2023-07-26T10:13:53.675Z"
   },
   {
    "duration": 16,
    "start_time": "2023-07-26T10:13:53.696Z"
   },
   {
    "duration": 12,
    "start_time": "2023-07-26T10:13:53.714Z"
   },
   {
    "duration": 10,
    "start_time": "2023-07-26T10:13:53.727Z"
   },
   {
    "duration": 44,
    "start_time": "2023-07-26T10:13:53.738Z"
   },
   {
    "duration": 11,
    "start_time": "2023-07-26T10:13:53.783Z"
   },
   {
    "duration": 5,
    "start_time": "2023-07-26T10:13:53.796Z"
   },
   {
    "duration": 19,
    "start_time": "2023-07-26T10:13:53.804Z"
   },
   {
    "duration": 45,
    "start_time": "2023-07-26T10:13:53.825Z"
   },
   {
    "duration": 19,
    "start_time": "2023-07-26T10:13:53.871Z"
   },
   {
    "duration": 4,
    "start_time": "2023-07-26T10:13:53.891Z"
   },
   {
    "duration": 17,
    "start_time": "2023-07-26T10:13:53.896Z"
   },
   {
    "duration": 19,
    "start_time": "2023-07-26T10:13:53.915Z"
   },
   {
    "duration": 27,
    "start_time": "2023-07-26T10:13:53.935Z"
   },
   {
    "duration": 37,
    "start_time": "2023-07-26T10:13:53.963Z"
   },
   {
    "duration": 33,
    "start_time": "2023-07-26T10:13:54.001Z"
   },
   {
    "duration": 31,
    "start_time": "2023-07-26T10:13:54.035Z"
   },
   {
    "duration": 26,
    "start_time": "2023-07-26T10:13:54.070Z"
   },
   {
    "duration": 21,
    "start_time": "2023-07-26T10:13:54.098Z"
   }
  ],
  "colab": {
   "provenance": []
  },
  "kernelspec": {
   "display_name": "Python 3 (ipykernel)",
   "language": "python",
   "name": "python3"
  },
  "language_info": {
   "codemirror_mode": {
    "name": "ipython",
    "version": 3
   },
   "file_extension": ".py",
   "mimetype": "text/x-python",
   "name": "python",
   "nbconvert_exporter": "python",
   "pygments_lexer": "ipython3",
   "version": "3.9.5"
  },
  "toc": {
   "base_numbering": 1,
   "nav_menu": {},
   "number_sections": true,
   "sideBar": true,
   "skip_h1_title": true,
   "title_cell": "Table of Contents",
   "title_sidebar": "Contents",
   "toc_cell": false,
   "toc_position": {},
   "toc_section_display": true,
   "toc_window_display": true
  }
 },
 "nbformat": 4,
 "nbformat_minor": 5
}
